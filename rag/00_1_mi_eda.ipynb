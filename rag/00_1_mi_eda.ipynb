{
 "cells": [
  {
   "cell_type": "code",
   "execution_count": 1,
   "metadata": {},
   "outputs": [
    {
     "data": {
      "text/plain": [
       "True"
      ]
     },
     "execution_count": 1,
     "metadata": {},
     "output_type": "execute_result"
    }
   ],
   "source": [
    "import os\n",
    "import openai\n",
    "import dotenv\n",
    "\n",
    "dotenv.load_dotenv()"
   ]
  },
  {
   "cell_type": "code",
   "execution_count": 2,
   "metadata": {},
   "outputs": [],
   "source": [
    "# ! pip install llama-index\n",
    "# ! pip install pypdf"
   ]
  },
  {
   "cell_type": "code",
   "execution_count": 3,
   "metadata": {},
   "outputs": [],
   "source": [
    "from llama_index import SimpleDirectoryReader\n",
    "from llama_index import Document\n",
    "\n",
    "documents = SimpleDirectoryReader(\n",
    "    input_files=[\"./data/dynalist-2023-12-8.txt\"]\n",
    ").load_data()\n",
    "\n",
    "document = Document(text=\"\\n\\n\".join([doc.text for doc in documents]))"
   ]
  },
  {
   "cell_type": "code",
   "execution_count": 4,
   "metadata": {},
   "outputs": [
    {
     "name": "stdout",
     "output_type": "stream",
     "text": [
      "<class 'list'> \n",
      "\n",
      "1 \n",
      "\n",
      "<class 'llama_index.schema.Document'>\n",
      "Doc ID: 1fda7786-d1f2-4955-8d0f-aea6fcf7b7cf\n",
      "Text: ﻿A Comprehensive Mechanistic Interpretability Explainer &\n",
      "Glossary     __Written by [Neel Nanda](https://www.neelnanda.io/) to\n",
      "accompany the [TransformerLens library](https://github.com/neelnanda-\n",
      "io/TransformerLens) for mechanistic interpretability of language\n",
      "models. I love hearing if people find my work useful, please [reach\n",
      "out](mailto:neelna...\n"
     ]
    }
   ],
   "source": [
    "print(type(documents), \"\\n\")\n",
    "print(len(documents), \"\\n\")\n",
    "print(type(documents[0]))\n",
    "print(documents[0])"
   ]
  },
  {
   "cell_type": "code",
   "execution_count": 5,
   "metadata": {},
   "outputs": [],
   "source": []
  },
  {
   "cell_type": "code",
   "execution_count": 6,
   "metadata": {},
   "outputs": [
    {
     "data": {
      "text/plain": [
       "255302"
      ]
     },
     "execution_count": 6,
     "metadata": {},
     "output_type": "execute_result"
    }
   ],
   "source": [
    "len(document.text)"
   ]
  },
  {
   "cell_type": "code",
   "execution_count": 7,
   "metadata": {},
   "outputs": [],
   "source": [
    "from llama_index import VectorStoreIndex\n",
    "from llama_index import ServiceContext\n",
    "from llama_index.llms import OpenAI\n",
    "\n",
    "llm = OpenAI(model=\"gpt-3.5-turbo\", temperature=0.1)\n",
    "service_context = ServiceContext.from_defaults(\n",
    "    llm=llm, embed_model=\"local:BAAI/bge-small-en-v1.5\"\n",
    ")\n",
    "index = VectorStoreIndex.from_documents([document],\n",
    "                                        service_context=service_context)"
   ]
  },
  {
   "cell_type": "code",
   "execution_count": 8,
   "metadata": {},
   "outputs": [],
   "source": [
    "query_engine = index.as_query_engine()"
   ]
  },
  {
   "cell_type": "code",
   "execution_count": 9,
   "metadata": {},
   "outputs": [
    {
     "name": "stderr",
     "output_type": "stream",
     "text": [
      "huggingface/tokenizers: The current process just got forked, after parallelism has already been used. Disabling parallelism to avoid deadlocks...\n",
      "To disable this warning, you can either:\n",
      "\t- Avoid using `tokenizers` before the fork if possible\n",
      "\t- Explicitly set the environment variable TOKENIZERS_PARALLELISM=(true | false)\n"
     ]
    },
    {
     "name": "stdout",
     "output_type": "stream",
     "text": [
      "When finding projects to build your experience, there are several steps you can take. First, you can start by identifying your areas of interest and expertise. This will help you narrow down the types of projects you want to work on. Next, you can research and explore different project ideas within your chosen field. Look for projects that align with your goals and offer opportunities for growth and learning. Once you have a list of potential projects, evaluate them based on feasibility, resources required, and potential impact. Choose projects that are challenging but achievable within your current skill set. Finally, prioritize and plan your projects, setting clear goals and timelines for each one. This will help you stay organized and focused as you work on building your experience.\n"
     ]
    }
   ],
   "source": [
    "response = query_engine.query(\n",
    "    \"What are steps to take when finding projects to build your experience?\"\n",
    ")\n",
    "print(str(response))"
   ]
  },
  {
   "cell_type": "code",
   "execution_count": 10,
   "metadata": {},
   "outputs": [],
   "source": [
    "eval_questions = [\n",
    "    'What are the keys to building a career in AI?', \n",
    "    'How can teamwork contribute to success in AI?', \n",
    "    'What is the importance of networking in AI?', \n",
    "    'What are some good habits to develop for a successful career?', \n",
    "    'How can altruism be beneficial in building a career?',\n",
    "    'What is imposter syndrome and how does it relate to AI?', \n",
    "    'Who are some accomplished individuals who have experienced imposter syndrome?', \n",
    "    'What is the first step to becoming good at AI?', \n",
    "    'What are some common challenges in AI?', \n",
    "    'Is it normal to find parts of AI challenging?', \n",
    "    'What is the right AI job for me?']"
   ]
  },
  {
   "cell_type": "code",
   "execution_count": 19,
   "metadata": {},
   "outputs": [],
   "source": [
    "eval_questions = [\n",
    "    \"What is mechanistic interpretability?\",\n",
    "    \"Is mechanistic interpretability appliable to real world?\",\n",
    "    \"What is superposition and how can I understand it?\",\n",
    "    \"How activation functions relate to interpretability of a model?\",\n",
    "    \"What is feature?\",\n",
    "    \"What is the difference between activation and a feature?\",\n",
    "    \"What is a circuit?\",\n",
    "    \"What is an Induction Head?\",\n",
    "    \"How Induction Head was found?\",\n",
    "    \"Why induction head is so important?\",\n",
    "    \"What are other examples of found circuits except for Induction Head?\"\n",
    "    \"What is sparsity?\",\n",
    "    \"What is the phase transition?\"\n",
    "]"
   ]
  },
  {
   "cell_type": "code",
   "execution_count": 20,
   "metadata": {},
   "outputs": [],
   "source": [
    "# ! pip install trulens-eval"
   ]
  },
  {
   "cell_type": "code",
   "execution_count": 21,
   "metadata": {},
   "outputs": [],
   "source": [
    "from trulens_eval import Tru\n",
    "tru = Tru()\n",
    "\n",
    "tru.reset_database()"
   ]
  },
  {
   "cell_type": "code",
   "execution_count": 22,
   "metadata": {},
   "outputs": [
    {
     "name": "stdout",
     "output_type": "stream",
     "text": [
      "✅ In Answer Relevance, input prompt will be set to __record__.main_input or `Select.RecordInput` .\n",
      "✅ In Answer Relevance, input response will be set to __record__.main_output or `Select.RecordOutput` .\n",
      "✅ In Context Relevance, input prompt will be set to __record__.main_input or `Select.RecordInput` .\n",
      "✅ In Context Relevance, input response will be set to __record__.app.query.rets.source_nodes[:].node.text .\n",
      "✅ In Groundedness, input source will be set to __record__.app.query.rets.source_nodes[:].node.text .\n",
      "✅ In Groundedness, input statement will be set to __record__.main_output or `Select.RecordOutput` .\n"
     ]
    }
   ],
   "source": [
    "import numpy as np\n",
    "from trulens_eval import (\n",
    "    Feedback,\n",
    "    TruLlama,\n",
    "    OpenAI\n",
    ")\n",
    "\n",
    "openai = OpenAI()\n",
    "\n",
    "from trulens_eval.feedback import Groundedness\n",
    "\n",
    "qa_relevance = (\n",
    "    Feedback(openai.relevance_with_cot_reasons, name=\"Answer Relevance\")\n",
    "    .on_input_output()\n",
    ")\n",
    "\n",
    "qs_relevance = (\n",
    "    Feedback(openai.relevance_with_cot_reasons, name = \"Context Relevance\")\n",
    "    .on_input()\n",
    "    .on(TruLlama.select_source_nodes().node.text)\n",
    "    .aggregate(np.mean)\n",
    ")\n",
    "\n",
    "#grounded = Groundedness(groundedness_provider=openai, summarize_provider=openai)\n",
    "grounded = Groundedness(groundedness_provider=openai)\n",
    "\n",
    "groundedness = (\n",
    "    Feedback(grounded.groundedness_measure_with_cot_reasons, name=\"Groundedness\")\n",
    "        .on(TruLlama.select_source_nodes().node.text)\n",
    "        .on_output()\n",
    "        .aggregate(grounded.grounded_statements_aggregator)\n",
    ")\n",
    "\n",
    "feedbacks = [qa_relevance, qs_relevance, groundedness]\n",
    "\n",
    "def get_prebuilt_trulens_recorder(query_engine, app_id):\n",
    "    tru_recorder = TruLlama(\n",
    "        query_engine,\n",
    "        app_id=app_id,\n",
    "        feedbacks=feedbacks\n",
    "        )\n",
    "    return tru_recorder"
   ]
  },
  {
   "cell_type": "code",
   "execution_count": 23,
   "metadata": {},
   "outputs": [],
   "source": [
    "tru_recorder = get_prebuilt_trulens_recorder(query_engine,\n",
    "                                             app_id=\"Direct Query Engine\")"
   ]
  },
  {
   "cell_type": "code",
   "execution_count": 24,
   "metadata": {},
   "outputs": [],
   "source": [
    "with tru_recorder as recording:\n",
    "    for question in eval_questions:\n",
    "        response = query_engine.query(question)"
   ]
  },
  {
   "cell_type": "code",
   "execution_count": 25,
   "metadata": {},
   "outputs": [],
   "source": [
    "records, feedback = tru.get_records_and_feedback(app_ids=[])"
   ]
  },
  {
   "cell_type": "code",
   "execution_count": 26,
   "metadata": {},
   "outputs": [
    {
     "data": {
      "text/html": [
       "<div>\n",
       "<style scoped>\n",
       "    .dataframe tbody tr th:only-of-type {\n",
       "        vertical-align: middle;\n",
       "    }\n",
       "\n",
       "    .dataframe tbody tr th {\n",
       "        vertical-align: top;\n",
       "    }\n",
       "\n",
       "    .dataframe thead th {\n",
       "        text-align: right;\n",
       "    }\n",
       "</style>\n",
       "<table border=\"1\" class=\"dataframe\">\n",
       "  <thead>\n",
       "    <tr style=\"text-align: right;\">\n",
       "      <th></th>\n",
       "      <th>app_id</th>\n",
       "      <th>app_json</th>\n",
       "      <th>type</th>\n",
       "      <th>record_id</th>\n",
       "      <th>input</th>\n",
       "      <th>output</th>\n",
       "      <th>tags</th>\n",
       "      <th>record_json</th>\n",
       "      <th>cost_json</th>\n",
       "      <th>perf_json</th>\n",
       "      <th>ts</th>\n",
       "      <th>Answer Relevance</th>\n",
       "      <th>Context Relevance</th>\n",
       "      <th>Groundedness</th>\n",
       "      <th>Answer Relevance_calls</th>\n",
       "      <th>Context Relevance_calls</th>\n",
       "      <th>Groundedness_calls</th>\n",
       "      <th>latency</th>\n",
       "      <th>total_tokens</th>\n",
       "      <th>total_cost</th>\n",
       "    </tr>\n",
       "  </thead>\n",
       "  <tbody>\n",
       "    <tr>\n",
       "      <th>0</th>\n",
       "      <td>Direct Query Engine</td>\n",
       "      <td>{\"app_id\": \"Direct Query Engine\", \"tags\": \"-\",...</td>\n",
       "      <td>RetrieverQueryEngine(llama_index.query_engine....</td>\n",
       "      <td>record_hash_1fe1519f0317d831b8ebb8e48a897eac</td>\n",
       "      <td>\"What is mechanistic interpretability?\"</td>\n",
       "      <td>\"Mechanistic interpretability refers to the fi...</td>\n",
       "      <td>-</td>\n",
       "      <td>{\"record_id\": \"record_hash_1fe1519f0317d831b8e...</td>\n",
       "      <td>{\"n_requests\": 1, \"n_successful_requests\": 1, ...</td>\n",
       "      <td>{\"start_time\": \"2023-12-08T08:30:38.178408\", \"...</td>\n",
       "      <td>2023-12-08T08:30:41.300499</td>\n",
       "      <td>1.0</td>\n",
       "      <td>0.45</td>\n",
       "      <td>1.0</td>\n",
       "      <td>[{'args': {'prompt': 'What is mechanistic inte...</td>\n",
       "      <td>[{'args': {'prompt': 'What is mechanistic inte...</td>\n",
       "      <td>[{'args': {'source': '﻿A Comprehensive Mechani...</td>\n",
       "      <td>3</td>\n",
       "      <td>2165</td>\n",
       "      <td>0.003280</td>\n",
       "    </tr>\n",
       "    <tr>\n",
       "      <th>1</th>\n",
       "      <td>Direct Query Engine</td>\n",
       "      <td>{\"app_id\": \"Direct Query Engine\", \"tags\": \"-\",...</td>\n",
       "      <td>RetrieverQueryEngine(llama_index.query_engine....</td>\n",
       "      <td>record_hash_eb35b35db9c92f9f946ac43e68375643</td>\n",
       "      <td>\"Is mechanistic interpretability appliable to ...</td>\n",
       "      <td>\"Mechanistic interpretability is applicable to...</td>\n",
       "      <td>-</td>\n",
       "      <td>{\"record_id\": \"record_hash_eb35b35db9c92f9f946...</td>\n",
       "      <td>{\"n_requests\": 1, \"n_successful_requests\": 1, ...</td>\n",
       "      <td>{\"start_time\": \"2023-12-08T08:30:41.457956\", \"...</td>\n",
       "      <td>2023-12-08T08:30:44.644291</td>\n",
       "      <td>1.0</td>\n",
       "      <td>0.40</td>\n",
       "      <td>NaN</td>\n",
       "      <td>[{'args': {'prompt': 'Is mechanistic interpret...</td>\n",
       "      <td>[{'args': {'prompt': 'Is mechanistic interpret...</td>\n",
       "      <td>NaN</td>\n",
       "      <td>3</td>\n",
       "      <td>2180</td>\n",
       "      <td>0.003308</td>\n",
       "    </tr>\n",
       "    <tr>\n",
       "      <th>2</th>\n",
       "      <td>Direct Query Engine</td>\n",
       "      <td>{\"app_id\": \"Direct Query Engine\", \"tags\": \"-\",...</td>\n",
       "      <td>RetrieverQueryEngine(llama_index.query_engine....</td>\n",
       "      <td>record_hash_73f41e813e7103e6a2f80bc98ab6818f</td>\n",
       "      <td>\"What is superposition and how can I understan...</td>\n",
       "      <td>\"Superposition refers to the phenomenon where ...</td>\n",
       "      <td>-</td>\n",
       "      <td>{\"record_id\": \"record_hash_73f41e813e7103e6a2f...</td>\n",
       "      <td>{\"n_requests\": 1, \"n_successful_requests\": 1, ...</td>\n",
       "      <td>{\"start_time\": \"2023-12-08T08:30:44.795600\", \"...</td>\n",
       "      <td>2023-12-08T08:30:51.659492</td>\n",
       "      <td>0.9</td>\n",
       "      <td>NaN</td>\n",
       "      <td>NaN</td>\n",
       "      <td>[{'args': {'prompt': 'What is superposition an...</td>\n",
       "      <td>NaN</td>\n",
       "      <td>NaN</td>\n",
       "      <td>6</td>\n",
       "      <td>2315</td>\n",
       "      <td>0.003585</td>\n",
       "    </tr>\n",
       "    <tr>\n",
       "      <th>3</th>\n",
       "      <td>Direct Query Engine</td>\n",
       "      <td>{\"app_id\": \"Direct Query Engine\", \"tags\": \"-\",...</td>\n",
       "      <td>RetrieverQueryEngine(llama_index.query_engine....</td>\n",
       "      <td>record_hash_6576f0e9e9542cded3f597fafde7d24d</td>\n",
       "      <td>\"How activation functions relate to interpreta...</td>\n",
       "      <td>\"Activation functions play a role in the inter...</td>\n",
       "      <td>-</td>\n",
       "      <td>{\"record_id\": \"record_hash_6576f0e9e9542cded3f...</td>\n",
       "      <td>{\"n_requests\": 1, \"n_successful_requests\": 1, ...</td>\n",
       "      <td>{\"start_time\": \"2023-12-08T08:30:51.809913\", \"...</td>\n",
       "      <td>2023-12-08T08:30:55.995250</td>\n",
       "      <td>NaN</td>\n",
       "      <td>NaN</td>\n",
       "      <td>NaN</td>\n",
       "      <td>NaN</td>\n",
       "      <td>NaN</td>\n",
       "      <td>NaN</td>\n",
       "      <td>4</td>\n",
       "      <td>2166</td>\n",
       "      <td>0.003297</td>\n",
       "    </tr>\n",
       "  </tbody>\n",
       "</table>\n",
       "</div>"
      ],
      "text/plain": [
       "                app_id                                           app_json  \\\n",
       "0  Direct Query Engine  {\"app_id\": \"Direct Query Engine\", \"tags\": \"-\",...   \n",
       "1  Direct Query Engine  {\"app_id\": \"Direct Query Engine\", \"tags\": \"-\",...   \n",
       "2  Direct Query Engine  {\"app_id\": \"Direct Query Engine\", \"tags\": \"-\",...   \n",
       "3  Direct Query Engine  {\"app_id\": \"Direct Query Engine\", \"tags\": \"-\",...   \n",
       "\n",
       "                                                type  \\\n",
       "0  RetrieverQueryEngine(llama_index.query_engine....   \n",
       "1  RetrieverQueryEngine(llama_index.query_engine....   \n",
       "2  RetrieverQueryEngine(llama_index.query_engine....   \n",
       "3  RetrieverQueryEngine(llama_index.query_engine....   \n",
       "\n",
       "                                      record_id  \\\n",
       "0  record_hash_1fe1519f0317d831b8ebb8e48a897eac   \n",
       "1  record_hash_eb35b35db9c92f9f946ac43e68375643   \n",
       "2  record_hash_73f41e813e7103e6a2f80bc98ab6818f   \n",
       "3  record_hash_6576f0e9e9542cded3f597fafde7d24d   \n",
       "\n",
       "                                               input  \\\n",
       "0            \"What is mechanistic interpretability?\"   \n",
       "1  \"Is mechanistic interpretability appliable to ...   \n",
       "2  \"What is superposition and how can I understan...   \n",
       "3  \"How activation functions relate to interpreta...   \n",
       "\n",
       "                                              output tags  \\\n",
       "0  \"Mechanistic interpretability refers to the fi...    -   \n",
       "1  \"Mechanistic interpretability is applicable to...    -   \n",
       "2  \"Superposition refers to the phenomenon where ...    -   \n",
       "3  \"Activation functions play a role in the inter...    -   \n",
       "\n",
       "                                         record_json  \\\n",
       "0  {\"record_id\": \"record_hash_1fe1519f0317d831b8e...   \n",
       "1  {\"record_id\": \"record_hash_eb35b35db9c92f9f946...   \n",
       "2  {\"record_id\": \"record_hash_73f41e813e7103e6a2f...   \n",
       "3  {\"record_id\": \"record_hash_6576f0e9e9542cded3f...   \n",
       "\n",
       "                                           cost_json  \\\n",
       "0  {\"n_requests\": 1, \"n_successful_requests\": 1, ...   \n",
       "1  {\"n_requests\": 1, \"n_successful_requests\": 1, ...   \n",
       "2  {\"n_requests\": 1, \"n_successful_requests\": 1, ...   \n",
       "3  {\"n_requests\": 1, \"n_successful_requests\": 1, ...   \n",
       "\n",
       "                                           perf_json  \\\n",
       "0  {\"start_time\": \"2023-12-08T08:30:38.178408\", \"...   \n",
       "1  {\"start_time\": \"2023-12-08T08:30:41.457956\", \"...   \n",
       "2  {\"start_time\": \"2023-12-08T08:30:44.795600\", \"...   \n",
       "3  {\"start_time\": \"2023-12-08T08:30:51.809913\", \"...   \n",
       "\n",
       "                           ts  Answer Relevance  Context Relevance  \\\n",
       "0  2023-12-08T08:30:41.300499               1.0               0.45   \n",
       "1  2023-12-08T08:30:44.644291               1.0               0.40   \n",
       "2  2023-12-08T08:30:51.659492               0.9                NaN   \n",
       "3  2023-12-08T08:30:55.995250               NaN                NaN   \n",
       "\n",
       "   Groundedness                             Answer Relevance_calls  \\\n",
       "0           1.0  [{'args': {'prompt': 'What is mechanistic inte...   \n",
       "1           NaN  [{'args': {'prompt': 'Is mechanistic interpret...   \n",
       "2           NaN  [{'args': {'prompt': 'What is superposition an...   \n",
       "3           NaN                                                NaN   \n",
       "\n",
       "                             Context Relevance_calls  \\\n",
       "0  [{'args': {'prompt': 'What is mechanistic inte...   \n",
       "1  [{'args': {'prompt': 'Is mechanistic interpret...   \n",
       "2                                                NaN   \n",
       "3                                                NaN   \n",
       "\n",
       "                                  Groundedness_calls  latency  total_tokens  \\\n",
       "0  [{'args': {'source': '﻿A Comprehensive Mechani...        3          2165   \n",
       "1                                                NaN        3          2180   \n",
       "2                                                NaN        6          2315   \n",
       "3                                                NaN        4          2166   \n",
       "\n",
       "   total_cost  \n",
       "0    0.003280  \n",
       "1    0.003308  \n",
       "2    0.003585  \n",
       "3    0.003297  "
      ]
     },
     "execution_count": 26,
     "metadata": {},
     "output_type": "execute_result"
    }
   ],
   "source": [
    "records.head()"
   ]
  },
  {
   "cell_type": "code",
   "execution_count": 27,
   "metadata": {},
   "outputs": [
    {
     "name": "stdout",
     "output_type": "stream",
     "text": [
      "Starting dashboard ...\n",
      "Config file already exists. Skipping writing process.\n",
      "Credentials file already exists. Skipping writing process.\n",
      "Dashboard already running at path:   Network URL: http://192.168.68.103:8501\n",
      "\n"
     ]
    },
    {
     "data": {
      "text/plain": [
       "<Popen: returncode: None args: ['streamlit', 'run', '--server.headless=True'...>"
      ]
     },
     "execution_count": 27,
     "metadata": {},
     "output_type": "execute_result"
    }
   ],
   "source": [
    "tru.run_dashboard()"
   ]
  },
  {
   "cell_type": "code",
   "execution_count": null,
   "metadata": {},
   "outputs": [],
   "source": []
  }
 ],
 "metadata": {
  "kernelspec": {
   "display_name": "Python 3",
   "language": "python",
   "name": "python3"
  },
  "language_info": {
   "codemirror_mode": {
    "name": "ipython",
    "version": 3
   },
   "file_extension": ".py",
   "mimetype": "text/x-python",
   "name": "python",
   "nbconvert_exporter": "python",
   "pygments_lexer": "ipython3",
   "version": "3.11.4"
  },
  "orig_nbformat": 4
 },
 "nbformat": 4,
 "nbformat_minor": 2
}
