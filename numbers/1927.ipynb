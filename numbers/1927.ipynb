{
 "cells": [
  {
   "cell_type": "code",
   "execution_count": 1,
   "metadata": {},
   "outputs": [],
   "source": [
    "def line2list(line): return list(map(int, line.split()))\n"
   ]
  },
  {
   "cell_type": "markdown",
   "metadata": {},
   "source": [
    "## E. Klever Permutation"
   ]
  },
  {
   "cell_type": "code",
   "execution_count": 2,
   "metadata": {},
   "outputs": [],
   "source": [
    "def check_if_klever(p, k, verbose=True):\n",
    "    ss = []\n",
    "    for i in range(k, len(p)):\n",
    "        s = sum(p[i-k:i])\n",
    "        ss.append(s)\n",
    "        \n",
    "        if verbose:\n",
    "            print(f'{p[i-k:i]=} with {s=}')\n",
    "            \n",
    "    return max(ss) - min(ss) <= 1"
   ]
  },
  {
   "cell_type": "code",
   "execution_count": null,
   "metadata": {},
   "outputs": [],
   "source": []
  },
  {
   "cell_type": "code",
   "execution_count": 6,
   "metadata": {},
   "outputs": [
    {
     "data": {
      "text/plain": [
       "[1, 4, 7, 9, 2, 5, 8, 10, 3, 6]"
      ]
     },
     "execution_count": 6,
     "metadata": {},
     "output_type": "execute_result"
    }
   ],
   "source": [
    "n = 10\n",
    "k = 4\n",
    "\n",
    "def klever_permutation(n,k):\n",
    "    p = [-1 for _ in range(n)]\n",
    "    i = 0\n",
    "    start = 1\n",
    "\n",
    "    for a in range(1, n+1):\n",
    "        p[i] = a\n",
    "\n",
    "\n",
    "        if i + k < n:\n",
    "            i = i + k\n",
    "        else:\n",
    "            i = start\n",
    "            start += 1\n",
    "\n",
    "    return p\n",
    "\n",
    "klever_permutation(n, k)"
   ]
  },
  {
   "cell_type": "code",
   "execution_count": 10,
   "metadata": {},
   "outputs": [],
   "source": [
    "p = [-1 for _ in range(n)]\n",
    "i = 0\n",
    "start = 1\n",
    "\n",
    "for a in range(1, n+1):\n",
    "    p[i] = a\n",
    "\n",
    "\n",
    "    if i + k < n:\n",
    "        i = i + k\n",
    "    else:\n",
    "        i = start\n",
    "        start += 1"
   ]
  },
  {
   "cell_type": "code",
   "execution_count": 11,
   "metadata": {},
   "outputs": [
    {
     "data": {
      "text/plain": [
       "[1, 4, 7, 9, 2, 5, 8, 10, 3, 6]"
      ]
     },
     "execution_count": 11,
     "metadata": {},
     "output_type": "execute_result"
    }
   ],
   "source": [
    "p"
   ]
  },
  {
   "cell_type": "code",
   "execution_count": 13,
   "metadata": {},
   "outputs": [
    {
     "name": "stdout",
     "output_type": "stream",
     "text": [
      "sum(p[i-k:i]=[1, 4])wsum=5\n",
      "sum(p[i-k:i]=[4, 7])wsum=11\n",
      "sum(p[i-k:i]=[7, 9])wsum=16\n",
      "sum(p[i-k:i]=[9, 2])wsum=11\n",
      "sum(p[i-k:i]=[2, 5])wsum=7\n",
      "sum(p[i-k:i]=[5, 8])wsum=13\n",
      "sum(p[i-k:i]=[8, 10])wsum=18\n",
      "sum(p[i-k:i]=[10, 3])wsum=13\n"
     ]
    }
   ],
   "source": [
    "k = 2\n",
    "\n",
    "s = 0\n",
    "for i in range(k, len(p)):\n",
    "    wsum = sum(p[i-k:i])\n",
    "    s += wsum\n",
    "    print(f'sum({p[i-k:i]=}){wsum=}')"
   ]
  },
  {
   "cell_type": "code",
   "execution_count": 8,
   "metadata": {},
   "outputs": [
    {
     "name": "stdout",
     "output_type": "stream",
     "text": [
      "p[i-k:i]=[-1, -1, -1, -1] with s=-4\n",
      "p[i-k:i]=[-1, -1, -1, -1] with s=-4\n",
      "p[i-k:i]=[-1, -1, -1, -1] with s=-4\n",
      "p[i-k:i]=[-1, -1, -1, -1] with s=-4\n",
      "p[i-k:i]=[-1, -1, -1, -1] with s=-4\n",
      "p[i-k:i]=[-1, -1, -1, -1] with s=-4\n"
     ]
    },
    {
     "data": {
      "text/plain": [
       "True"
      ]
     },
     "execution_count": 8,
     "metadata": {},
     "output_type": "execute_result"
    }
   ],
   "source": [
    "check_if_klever(p, 4)"
   ]
  },
  {
   "cell_type": "markdown",
   "metadata": {},
   "source": [
    "## C. Choose the Different Ones!"
   ]
  },
  {
   "cell_type": "markdown",
   "metadata": {},
   "source": [
    "### Test gen"
   ]
  },
  {
   "cell_type": "markdown",
   "metadata": {},
   "source": [
    "### Timeout on test 17"
   ]
  },
  {
   "cell_type": "code",
   "execution_count": 14,
   "metadata": {},
   "outputs": [],
   "source": [
    "def check_if_possible(a,b,k):\n",
    "    R = set(range(1, k+1))\n",
    "\n",
    "    aR = R.intersection(a)\n",
    "    bR = R.intersection(b)\n",
    "\n",
    "    return R.issubset( aR.union(bR) ) and len(aR) >= k//2 and len(bR) >= k//2"
   ]
  },
  {
   "cell_type": "code",
   "execution_count": 39,
   "metadata": {},
   "outputs": [],
   "source": [
    "import numpy as np\n",
    "\n",
    "\n",
    "n = int(2e5)\n",
    "m = int(2e5)\n",
    "\n",
    "k = int(1e5)\n",
    "\n",
    "A = np.random.randint(low=1, high=1e6, size=n).tolist()\n",
    "B = np.random.randint(low=1, high=1e6, size=m).tolist()"
   ]
  },
  {
   "cell_type": "code",
   "execution_count": 40,
   "metadata": {},
   "outputs": [
    {
     "data": {
      "text/plain": [
       "200000"
      ]
     },
     "execution_count": 40,
     "metadata": {},
     "output_type": "execute_result"
    }
   ],
   "source": [
    "n"
   ]
  },
  {
   "cell_type": "code",
   "execution_count": 41,
   "metadata": {},
   "outputs": [
    {
     "name": "stdout",
     "output_type": "stream",
     "text": [
      "CPU times: user 17.5 ms, sys: 2.81 ms, total: 20.3 ms\n",
      "Wall time: 20.1 ms\n"
     ]
    },
    {
     "data": {
      "text/plain": [
       "False"
      ]
     },
     "execution_count": 41,
     "metadata": {},
     "output_type": "execute_result"
    }
   ],
   "source": [
    "%%time\n",
    "check_if_possible(A, B, k)"
   ]
  },
  {
   "cell_type": "markdown",
   "metadata": {},
   "source": [
    "### Better"
   ]
  },
  {
   "cell_type": "markdown",
   "metadata": {},
   "source": [
    "1. cup: $\\cup$\n",
    "2. cap: $\\cap$"
   ]
  },
  {
   "cell_type": "code",
   "execution_count": 38,
   "metadata": {},
   "outputs": [
    {
     "data": {
      "text/plain": [
       "200000"
      ]
     },
     "execution_count": 38,
     "metadata": {},
     "output_type": "execute_result"
    }
   ],
   "source": [
    "A = a\n",
    "len(A)"
   ]
  },
  {
   "cell_type": "code",
   "execution_count": 6,
   "metadata": {},
   "outputs": [],
   "source": [
    "A = line2list(\"2 3 8 5 6 5\")\n",
    "B = line2list(\"1 3 4 10 5\")\n",
    "\n",
    "A = line2list(\"2 3 4 5 6 5\")\n",
    "B = line2list(\"1 3 8 10 3\")\n",
    "\n",
    "k = 6"
   ]
  },
  {
   "cell_type": "code",
   "execution_count": 7,
   "metadata": {},
   "outputs": [],
   "source": [
    "def is_possible_to_choose(A,B,k):\n",
    "    A_cap_R = [0 for _ in range(k)]\n",
    "    A_cap_R_len = 0\n",
    "\n",
    "    for a in A:\n",
    "        if a <= k and not A_cap_R[a-1]:\n",
    "            A_cap_R[a-1] = 1\n",
    "            A_cap_R_len += 1\n",
    "\n",
    "    B_cap_R_len = 0\n",
    "\n",
    "    for b in B:\n",
    "        if b <= k and A_cap_R[b-1] < 2:\n",
    "            A_cap_R[b-1] = 2\n",
    "            B_cap_R_len += 1\n",
    "\n",
    "\n",
    "    return A_cap_R_len >= k//2 and B_cap_R_len >= k//2 and (A_cap_R_len+B_cap_R_len) >= k\n"
   ]
  },
  {
   "cell_type": "markdown",
   "metadata": {},
   "source": [
    "### Mike's solution"
   ]
  },
  {
   "cell_type": "code",
   "execution_count": 18,
   "metadata": {},
   "outputs": [],
   "source": [
    "def mikes_solution(a, b, k):\n",
    "    # Main idea:\n",
    "    # cA/cB = num of values only in A/B gives the condition\n",
    "    # cA + cB + cAB < k\n",
    "    \n",
    "    c = [0 for _ in range(k+1)]\n",
    "    \n",
    "    for e in a:\n",
    "        if e <= k:\n",
    "            c[e] |= 1\n",
    "    for e in b:\n",
    "        if e <= k:\n",
    "            c[e] |= 2\n",
    "\n",
    "    print(f'{c=}')\n",
    "    count = [0] * 4\n",
    "    \n",
    "    for e in c[1:]:\n",
    "        # 0 - not in a and not in b\n",
    "        # 1 - only in a\n",
    "        # 2 - only in b\n",
    "        # 3 - in a and in b\n",
    "        \n",
    "        if e == 0: return False\n",
    "        count[e] += 1\n",
    "    \n",
    "    if count[1] > k//2 or count[2] > k//2 or sum(count) != k:\n",
    "        return False\n",
    "    else:\n",
    "        return True"
   ]
  },
  {
   "cell_type": "code",
   "execution_count": 19,
   "metadata": {},
   "outputs": [
    {
     "name": "stdout",
     "output_type": "stream",
     "text": [
      "c=[0, 1, 1, 3, 2, 2, 0]\n"
     ]
    },
    {
     "data": {
      "text/plain": [
       "False"
      ]
     },
     "execution_count": 19,
     "metadata": {},
     "output_type": "execute_result"
    }
   ],
   "source": [
    "mikes_solution([1,2,3], [3,4,5], 6)"
   ]
  },
  {
   "cell_type": "code",
   "execution_count": 20,
   "metadata": {},
   "outputs": [
    {
     "name": "stdout",
     "output_type": "stream",
     "text": [
      "c=[0, 1, 1, 1, 2, 2, 2]\n"
     ]
    },
    {
     "data": {
      "text/plain": [
       "True"
      ]
     },
     "execution_count": 20,
     "metadata": {},
     "output_type": "execute_result"
    }
   ],
   "source": [
    "mikes_solution([1,2,3], [6,4,5], 6)"
   ]
  },
  {
   "cell_type": "markdown",
   "metadata": {},
   "source": [
    "## B. Following the String\n"
   ]
  },
  {
   "cell_type": "code",
   "execution_count": 38,
   "metadata": {},
   "outputs": [
    {
     "data": {
      "text/plain": [
       "[0, 0, 0, 1, 0, 2, 0, 3, 1, 1, 4]"
      ]
     },
     "execution_count": 38,
     "metadata": {},
     "output_type": "execute_result"
    }
   ],
   "source": [
    "def line2list(line): return list(map(int, line.split()))\n",
    "\n",
    "\n",
    "trace = line2list(\"0 0 0 1 0 2 0 3 1 1 4\")\n",
    "trace"
   ]
  },
  {
   "cell_type": "code",
   "execution_count": 48,
   "metadata": {},
   "outputs": [
    {
     "data": {
      "text/plain": [
       "'zyyyz'"
      ]
     },
     "execution_count": 48,
     "metadata": {},
     "output_type": "execute_result"
    }
   ],
   "source": [
    "from collections import defaultdict\n",
    "import string\n",
    "\n",
    "\n",
    "def decode_trace(trace):\n",
    "    counts = defaultdict(list)\n",
    "    counts[0] = list(string.ascii_lowercase)\n",
    "\n",
    "\n",
    "    result = []\n",
    "    for a in trace:\n",
    "        char = counts[a].pop()\n",
    "\n",
    "        counts[a+1].append(char)\n",
    "        result.append(char)\n",
    "        \n",
    "    return \"\".join(result)\n",
    "\n",
    "decode_trace([0,0,1,2,1])"
   ]
  },
  {
   "cell_type": "markdown",
   "metadata": {},
   "source": [
    "# Other"
   ]
  },
  {
   "cell_type": "markdown",
   "metadata": {},
   "source": []
  },
  {
   "cell_type": "code",
   "execution_count": 25,
   "metadata": {},
   "outputs": [
    {
     "data": {
      "text/plain": [
       "[30, 20, 20, 10, 10, 20]"
      ]
     },
     "execution_count": 25,
     "metadata": {},
     "output_type": "execute_result"
    }
   ],
   "source": [
    "def line2list(line): return list(map(int, line.split()))\n",
    "\n",
    "\n",
    "a = line2list( \"30 20 20 10 10 20\" )\n",
    "a"
   ]
  },
  {
   "cell_type": "code",
   "execution_count": 27,
   "metadata": {},
   "outputs": [],
   "source": [
    "l, r = 2, 3\n",
    "\n",
    "def process_query(a, l, r):\n",
    "    for i in range(l-1, r):\n",
    "        for j in range(i+1, r):\n",
    "            if a[i] != a[j]: return i,j\n",
    "\n",
    "    return -1,-1"
   ]
  },
  {
   "cell_type": "markdown",
   "metadata": {},
   "source": []
  },
  {
   "cell_type": "code",
   "execution_count": 14,
   "metadata": {},
   "outputs": [],
   "source": [
    "a=[2,3,8,5,6,5]\n",
    "b=[1,3,4,10,5]\n",
    "k=6\n"
   ]
  },
  {
   "cell_type": "code",
   "execution_count": 23,
   "metadata": {},
   "outputs": [],
   "source": [
    "def check_if_possible(a,b,k):\n",
    "    R = set(range(1, k+1))\n",
    "\n",
    "    aR = R.intersection(a)\n",
    "    bR = R.intersection(b)\n",
    "\n",
    "    return R.issubset( aR.union(bR) ) and len(aR) >= k//2 and len(bR) >= k//2"
   ]
  },
  {
   "cell_type": "code",
   "execution_count": 15,
   "metadata": {},
   "outputs": [
    {
     "data": {
      "text/plain": [
       "[1, 2, 3, 3, 4, 5]"
      ]
     },
     "execution_count": 15,
     "metadata": {},
     "output_type": "execute_result"
    }
   ],
   "source": [
    "\n",
    "\n",
    "\n",
    "sorted(a[:k//2] + b[:k//2])"
   ]
  },
  {
   "cell_type": "code",
   "execution_count": 8,
   "metadata": {},
   "outputs": [
    {
     "data": {
      "text/plain": [
       "0"
      ]
     },
     "execution_count": 8,
     "metadata": {},
     "output_type": "execute_result"
    }
   ],
   "source": [
    "segment = \"WBBWBW\"\n",
    "segment = \"WWW\"\n",
    "\n",
    "\n",
    "first = 0\n",
    "while first < len(segment) and segment[first] != \"B\":\n",
    "    first += 1\n",
    "\n",
    "last = len(segment) - 1\n",
    "while last >= 0 and segment[last] != \"B\":\n",
    "    last -= 1\n",
    "\n",
    "max(0, last - first + 1)"
   ]
  },
  {
   "cell_type": "code",
   "execution_count": null,
   "metadata": {},
   "outputs": [],
   "source": []
  },
  {
   "cell_type": "markdown",
   "metadata": {},
   "source": [
    "By Mik"
   ]
  },
  {
   "cell_type": "code",
   "execution_count": 10,
   "metadata": {},
   "outputs": [],
   "source": [
    "def is_subsequence(s1, s2):\n",
    "    i = 0\n",
    "    j = 0\n",
    "\n",
    "    while i < len(s1) and j < len(s2):\n",
    "        if s1[i] == s2[j]: j += 1\n",
    "        i += 1\n",
    "    \n",
    "    return j == len(s2)"
   ]
  },
  {
   "cell_type": "code",
   "execution_count": 18,
   "metadata": {},
   "outputs": [
    {
     "data": {
      "text/plain": [
       "True"
      ]
     },
     "execution_count": 18,
     "metadata": {},
     "output_type": "execute_result"
    }
   ],
   "source": [
    "is_subsequence(\"abc\", \"b\")"
   ]
  },
  {
   "cell_type": "code",
   "execution_count": 8,
   "metadata": {},
   "outputs": [],
   "source": [
    "def anagram_hash(string): return sum(map(hash, stringa))"
   ]
  },
  {
   "cell_type": "code",
   "execution_count": 7,
   "metadata": {},
   "outputs": [
    {
     "data": {
      "text/plain": [
       "(7260941581525940675, 7260941581525940675)"
      ]
     },
     "execution_count": 7,
     "metadata": {},
     "output_type": "execute_result"
    }
   ],
   "source": [
    "sum(map(hash, \"ehy\")), sum(map(hash, \"hey\"))"
   ]
  },
  {
   "cell_type": "code",
   "execution_count": null,
   "metadata": {},
   "outputs": [],
   "source": []
  },
  {
   "cell_type": "markdown",
   "metadata": {},
   "source": []
  },
  {
   "cell_type": "code",
   "execution_count": 1,
   "metadata": {},
   "outputs": [],
   "source": [
    "from collections import Counter, defaultdict"
   ]
  },
  {
   "cell_type": "code",
   "execution_count": 54,
   "metadata": {},
   "outputs": [
    {
     "name": "stdout",
     "output_type": "stream",
     "text": [
      "N=[1, 2, 4, 6]\n",
      "M=[7, 5, 3, 3, 2, 1]\n",
      "13\n"
     ]
    }
   ],
   "source": [
    "N = line2list( \"9 10 6 3 7\" )\n",
    "M = line2list( \"5 9 2 3 9\" )\n",
    "\n",
    "\n",
    "N = line2list( \"1 1 1\" )\n",
    "M = line2list( \"1 1 1 1 1\" )\n",
    "\n",
    "N = line2list( \"6 1 2 4\" )\n",
    "M = line2list( \"3 5 1 7 2 3\" )\n",
    "\n",
    "\n",
    "# N = line2list( \"2\" )\n",
    "# M = line2list( \"3 4\" )\n",
    "\n",
    "min_n = min(N)\n",
    "# min_m = min(M)\n",
    "\n",
    "\n",
    "N = sorted(N)\n",
    "M = list(reversed(sorted(M)))\n",
    "\n",
    "\n",
    "print(f'{N=}')\n",
    "print(f'{M=}')\n",
    "D = 0\n",
    "midlen = len(N) // 2\n",
    "\n",
    "for n,m in zip(N,M):\n",
    "    D += abs(n - m)\n",
    "\n",
    "print(D)"
   ]
  },
  {
   "cell_type": "code",
   "execution_count": null,
   "metadata": {},
   "outputs": [],
   "source": [
    "# todo: \n",
    "#  - [ ] Design an example where simple match does not work"
   ]
  },
  {
   "cell_type": "markdown",
   "metadata": {},
   "source": [
    "## B"
   ]
  },
  {
   "cell_type": "code",
   "execution_count": 11,
   "metadata": {},
   "outputs": [
    {
     "name": "stdout",
     "output_type": "stream",
     "text": [
      "YES\n"
     ]
    }
   ],
   "source": []
  },
  {
   "cell_type": "code",
   "execution_count": 23,
   "metadata": {},
   "outputs": [
    {
     "name": "stdout",
     "output_type": "stream",
     "text": [
      "NO\n",
      "YES\n",
      "YES\n",
      "NO\n",
      "NO\n",
      "YES\n"
     ]
    }
   ],
   "source": [
    "def sending_messages(f, a, b, M):\n",
    "    charge = f\n",
    "    prev_time = 0\n",
    "    yes_we_can = True\n",
    "\n",
    "    for t in M:\n",
    "        charge -= min(a * (t - prev_time), b)\n",
    "        if charge <= 0:\n",
    "            yes_we_can = False\n",
    "            break\n",
    "        prev_time = t\n",
    "\n",
    "    print('YES' if yes_we_can else 'NO')\n",
    "\n",
    "IN = \"\"\"6\n",
    "1 3 1 5\n",
    "3\n",
    "7 21 1 3\n",
    "4 6 10 13 17 20 26\n",
    "5 10 1 2\n",
    "1 2 3 4 5\n",
    "1 1000000000 1000000000 1000000000\n",
    "1000000000\n",
    "3 11 9 6\n",
    "6 8 10\n",
    "12 621526648 2585904 3566299\n",
    "51789 61859 71998 73401 247675 298086 606959 663464 735972 806043 806459 919683\n",
    "\"\"\"\n",
    "\n",
    "# Split IN into lines and skip the first and last line\n",
    "lines = IN.strip().split('\\n')\n",
    "\n",
    "# Group lines into groups of three and parse each line\n",
    "for i in range(1, len(lines), 2):\n",
    "    n, f, a, b = map(int, lines[i].split())\n",
    "    M = list(map(int, lines[i + 1].split()))\n",
    "    sending_messages(f, a, b, M)\n"
   ]
  },
  {
   "cell_type": "code",
   "execution_count": null,
   "metadata": {},
   "outputs": [],
   "source": []
  },
  {
   "cell_type": "code",
   "execution_count": null,
   "metadata": {},
   "outputs": [],
   "source": []
  },
  {
   "cell_type": "code",
   "execution_count": 6,
   "metadata": {},
   "outputs": [
    {
     "data": {
      "text/plain": [
       "2"
      ]
     },
     "execution_count": 6,
     "metadata": {},
     "output_type": "execute_result"
    }
   ],
   "source": [
    "\n",
    "\n",
    "A = '10010'\n",
    "B = '00001'\n",
    "\n",
    "\n",
    "# A='10011001'\n",
    "# B='11111110'\n",
    "\n",
    "diff = {'0':0, '1':0}\n",
    "for a,b in zip(A,B):\n",
    "    if a!=b: diff[a] += 1\n",
    "\n",
    "max(diff.values())"
   ]
  },
  {
   "cell_type": "code",
   "execution_count": null,
   "metadata": {},
   "outputs": [],
   "source": []
  },
  {
   "cell_type": "markdown",
   "metadata": {},
   "source": [
    "## A. Squares\n"
   ]
  },
  {
   "cell_type": "markdown",
   "metadata": {},
   "source": []
  }
 ],
 "metadata": {
  "kernelspec": {
   "display_name": "Python 3",
   "language": "python",
   "name": "python3"
  },
  "language_info": {
   "codemirror_mode": {
    "name": "ipython",
    "version": 3
   },
   "file_extension": ".py",
   "mimetype": "text/x-python",
   "name": "python",
   "nbconvert_exporter": "python",
   "pygments_lexer": "ipython3",
   "version": "3.11.7"
  }
 },
 "nbformat": 4,
 "nbformat_minor": 2
}
