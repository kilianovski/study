{
 "cells": [
  {
   "cell_type": "markdown",
   "metadata": {},
   "source": [
    "## `The Plugboard` combinations"
   ]
  },
  {
   "cell_type": "markdown",
   "metadata": {},
   "source": [
    "### number of permutations for `p` pairs"
   ]
  },
  {
   "cell_type": "code",
   "execution_count": 2,
   "metadata": {},
   "outputs": [
    {
     "name": "stdout",
     "output_type": "stream",
     "text": [
      "recursive(n=2, p=1)=1\n",
      "recursive(n=3, p=1)=3\n",
      "recursive(n=4, p=1)=6\n",
      "recursive(n=4, p=2)=6\n"
     ]
    }
   ],
   "source": [
    "def recursive(n, p):\n",
    "    assert n >= p*2\n",
    "    if p == 0: return 1\n",
    "    \n",
    "    # for single pair\n",
    "    count = 0\n",
    "    for i in range(n - 1):\n",
    "        for j in range(i+1, n):\n",
    "            count += 1\n",
    "        \n",
    "    \n",
    "    return count * recursive(n-2, p-1)\n",
    "\n",
    "\n",
    "import math\n",
    "def analytic(n,p):\n",
    "    return math.factorial(n) / math.factorial(n - p*2) / 2**p\n",
    "\n",
    "inputs = [\n",
    "    (2,1,1),\n",
    "    (3,1,3),\n",
    "    (4,1,6),\n",
    "    \n",
    "    (4,2,6)\n",
    "]\n",
    "\n",
    "\n",
    "for n,p,expected in inputs:\n",
    "    actual = recursive(n, p)\n",
    "    print(f'recursive({n=}, {p=})={actual}')\n",
    "    assert expected == actual"
   ]
  },
  {
   "cell_type": "code",
   "execution_count": 7,
   "metadata": {},
   "outputs": [],
   "source": [
    "for n in range(2, 27, 2):\n",
    "    for p in range(1, min(4, n//2)):\n",
    "        r = recursive(n, p)\n",
    "        a = analytic(n, p)\n",
    "        \n",
    "        assert a == r, f'{n=}, {p=}, {r=}, {a=}'\n"
   ]
  },
  {
   "cell_type": "code",
   "execution_count": 16,
   "metadata": {},
   "outputs": [
    {
     "data": {
      "text/plain": [
       "606308492726.0"
      ]
     },
     "execution_count": 16,
     "metadata": {},
     "output_type": "execute_result"
    }
   ],
   "source": [
    "plugboard = 0\n",
    "for p in range(6):\n",
    "    plugboard += analytic(26, p)\n",
    "    \n",
    "plugboard"
   ]
  },
  {
   "cell_type": "code",
   "execution_count": 17,
   "metadata": {},
   "outputs": [
    {
     "data": {
      "text/plain": [
       "6.393886840891305e+17"
      ]
     },
     "execution_count": 17,
     "metadata": {},
     "output_type": "execute_result"
    }
   ],
   "source": [
    "plugboard * 60 * 26**3"
   ]
  },
  {
   "cell_type": "code",
   "execution_count": 20,
   "metadata": {},
   "outputs": [
    {
     "data": {
      "text/plain": [
       "5.469990520922928e+20"
      ]
     },
     "execution_count": 20,
     "metadata": {},
     "output_type": "execute_result"
    }
   ],
   "source": [
    "analytic(26, 10)"
   ]
  },
  {
   "cell_type": "code",
   "execution_count": 18,
   "metadata": {},
   "outputs": [
    {
     "data": {
      "text/plain": [
       "150738274937250.0"
      ]
     },
     "execution_count": 18,
     "metadata": {},
     "output_type": "execute_result"
    }
   ],
   "source": [
    "math.factorial(26) / (math.factorial(6) * math.factorial(10) * 2**10)"
   ]
  },
  {
   "cell_type": "code",
   "execution_count": 12,
   "metadata": {},
   "outputs": [
    {
     "name": "stdout",
     "output_type": "stream",
     "text": [
      "107231790667311658041344\n"
     ]
    }
   ],
   "source": [
    "print(int(res))"
   ]
  },
  {
   "cell_type": "code",
   "execution_count": 15,
   "metadata": {},
   "outputs": [
    {
     "data": {
      "text/plain": [
       "606308492726.0"
      ]
     },
     "execution_count": 15,
     "metadata": {},
     "output_type": "execute_result"
    }
   ],
   "source": [
    "analytic(26, 0) + analytic(26, 1) + analytic(26, 2) + analytic(26, 3) + analytic(26, 4) + analytic(26, 5)\n",
    "\n"
   ]
  },
  {
   "cell_type": "code",
   "execution_count": 29,
   "metadata": {},
   "outputs": [
    {
     "ename": "RecursionError",
     "evalue": "maximum recursion depth exceeded",
     "output_type": "error",
     "traceback": [
      "\u001b[0;31m---------------------------------------------------------------------------\u001b[0m",
      "\u001b[0;31mRecursionError\u001b[0m                            Traceback (most recent call last)",
      "Cell \u001b[0;32mIn[29], line 18\u001b[0m\n\u001b[1;32m     13\u001b[0m         partitions\u001b[38;5;241m.\u001b[39mappend([arr[\u001b[38;5;241m0\u001b[39m]] \u001b[38;5;241m+\u001b[39m p)\n\u001b[1;32m     15\u001b[0m     \u001b[38;5;28;01mreturn\u001b[39;00m partitions\n\u001b[0;32m---> 18\u001b[0m \u001b[43mchoose_k\u001b[49m\u001b[43m(\u001b[49m\u001b[43m[\u001b[49m\u001b[38;5;241;43m1\u001b[39;49m\u001b[43m,\u001b[49m\u001b[43m \u001b[49m\u001b[38;5;241;43m2\u001b[39;49m\u001b[43m,\u001b[49m\u001b[38;5;241;43m3\u001b[39;49m\u001b[43m]\u001b[49m\u001b[43m,\u001b[49m\u001b[43m \u001b[49m\u001b[38;5;241;43m2\u001b[39;49m\u001b[43m)\u001b[49m\n",
      "Cell \u001b[0;32mIn[29], line 12\u001b[0m, in \u001b[0;36mchoose_k\u001b[0;34m(arr, k)\u001b[0m\n\u001b[1;32m      8\u001b[0m     \u001b[38;5;28;01mreturn\u001b[39;00m [arr]\n\u001b[1;32m     10\u001b[0m partitions \u001b[38;5;241m=\u001b[39m choose_k(arr[\u001b[38;5;241m1\u001b[39m:], k)\n\u001b[0;32m---> 12\u001b[0m \u001b[38;5;28;01mfor\u001b[39;00m p \u001b[38;5;129;01min\u001b[39;00m \u001b[43mchoose_k\u001b[49m\u001b[43m(\u001b[49m\u001b[43marr\u001b[49m\u001b[43m[\u001b[49m\u001b[38;5;241;43m1\u001b[39;49m\u001b[43m:\u001b[49m\u001b[43m]\u001b[49m\u001b[43m,\u001b[49m\u001b[43m \u001b[49m\u001b[43mk\u001b[49m\u001b[38;5;241;43m-\u001b[39;49m\u001b[38;5;241;43m1\u001b[39;49m\u001b[43m)\u001b[49m:\n\u001b[1;32m     13\u001b[0m     partitions\u001b[38;5;241m.\u001b[39mappend([arr[\u001b[38;5;241m0\u001b[39m]] \u001b[38;5;241m+\u001b[39m p)\n\u001b[1;32m     15\u001b[0m \u001b[38;5;28;01mreturn\u001b[39;00m partitions\n",
      "Cell \u001b[0;32mIn[29], line 12\u001b[0m, in \u001b[0;36mchoose_k\u001b[0;34m(arr, k)\u001b[0m\n\u001b[1;32m      8\u001b[0m     \u001b[38;5;28;01mreturn\u001b[39;00m [arr]\n\u001b[1;32m     10\u001b[0m partitions \u001b[38;5;241m=\u001b[39m choose_k(arr[\u001b[38;5;241m1\u001b[39m:], k)\n\u001b[0;32m---> 12\u001b[0m \u001b[38;5;28;01mfor\u001b[39;00m p \u001b[38;5;129;01min\u001b[39;00m \u001b[43mchoose_k\u001b[49m\u001b[43m(\u001b[49m\u001b[43marr\u001b[49m\u001b[43m[\u001b[49m\u001b[38;5;241;43m1\u001b[39;49m\u001b[43m:\u001b[49m\u001b[43m]\u001b[49m\u001b[43m,\u001b[49m\u001b[43m \u001b[49m\u001b[43mk\u001b[49m\u001b[38;5;241;43m-\u001b[39;49m\u001b[38;5;241;43m1\u001b[39;49m\u001b[43m)\u001b[49m:\n\u001b[1;32m     13\u001b[0m     partitions\u001b[38;5;241m.\u001b[39mappend([arr[\u001b[38;5;241m0\u001b[39m]] \u001b[38;5;241m+\u001b[39m p)\n\u001b[1;32m     15\u001b[0m \u001b[38;5;28;01mreturn\u001b[39;00m partitions\n",
      "Cell \u001b[0;32mIn[29], line 12\u001b[0m, in \u001b[0;36mchoose_k\u001b[0;34m(arr, k)\u001b[0m\n\u001b[1;32m      8\u001b[0m     \u001b[38;5;28;01mreturn\u001b[39;00m [arr]\n\u001b[1;32m     10\u001b[0m partitions \u001b[38;5;241m=\u001b[39m choose_k(arr[\u001b[38;5;241m1\u001b[39m:], k)\n\u001b[0;32m---> 12\u001b[0m \u001b[38;5;28;01mfor\u001b[39;00m p \u001b[38;5;129;01min\u001b[39;00m \u001b[43mchoose_k\u001b[49m\u001b[43m(\u001b[49m\u001b[43marr\u001b[49m\u001b[43m[\u001b[49m\u001b[38;5;241;43m1\u001b[39;49m\u001b[43m:\u001b[49m\u001b[43m]\u001b[49m\u001b[43m,\u001b[49m\u001b[43m \u001b[49m\u001b[43mk\u001b[49m\u001b[38;5;241;43m-\u001b[39;49m\u001b[38;5;241;43m1\u001b[39;49m\u001b[43m)\u001b[49m:\n\u001b[1;32m     13\u001b[0m     partitions\u001b[38;5;241m.\u001b[39mappend([arr[\u001b[38;5;241m0\u001b[39m]] \u001b[38;5;241m+\u001b[39m p)\n\u001b[1;32m     15\u001b[0m \u001b[38;5;28;01mreturn\u001b[39;00m partitions\n",
      "Cell \u001b[0;32mIn[29], line 10\u001b[0m, in \u001b[0;36mchoose_k\u001b[0;34m(arr, k)\u001b[0m\n\u001b[1;32m      7\u001b[0m \u001b[38;5;28;01mif\u001b[39;00m \u001b[38;5;28mlen\u001b[39m(arr) \u001b[38;5;241m==\u001b[39m k:\n\u001b[1;32m      8\u001b[0m     \u001b[38;5;28;01mreturn\u001b[39;00m [arr]\n\u001b[0;32m---> 10\u001b[0m partitions \u001b[38;5;241m=\u001b[39m \u001b[43mchoose_k\u001b[49m\u001b[43m(\u001b[49m\u001b[43marr\u001b[49m\u001b[43m[\u001b[49m\u001b[38;5;241;43m1\u001b[39;49m\u001b[43m:\u001b[49m\u001b[43m]\u001b[49m\u001b[43m,\u001b[49m\u001b[43m \u001b[49m\u001b[43mk\u001b[49m\u001b[43m)\u001b[49m\n\u001b[1;32m     12\u001b[0m \u001b[38;5;28;01mfor\u001b[39;00m p \u001b[38;5;129;01min\u001b[39;00m choose_k(arr[\u001b[38;5;241m1\u001b[39m:], k\u001b[38;5;241m-\u001b[39m\u001b[38;5;241m1\u001b[39m):\n\u001b[1;32m     13\u001b[0m     partitions\u001b[38;5;241m.\u001b[39mappend([arr[\u001b[38;5;241m0\u001b[39m]] \u001b[38;5;241m+\u001b[39m p)\n",
      "Cell \u001b[0;32mIn[29], line 10\u001b[0m, in \u001b[0;36mchoose_k\u001b[0;34m(arr, k)\u001b[0m\n\u001b[1;32m      7\u001b[0m \u001b[38;5;28;01mif\u001b[39;00m \u001b[38;5;28mlen\u001b[39m(arr) \u001b[38;5;241m==\u001b[39m k:\n\u001b[1;32m      8\u001b[0m     \u001b[38;5;28;01mreturn\u001b[39;00m [arr]\n\u001b[0;32m---> 10\u001b[0m partitions \u001b[38;5;241m=\u001b[39m \u001b[43mchoose_k\u001b[49m\u001b[43m(\u001b[49m\u001b[43marr\u001b[49m\u001b[43m[\u001b[49m\u001b[38;5;241;43m1\u001b[39;49m\u001b[43m:\u001b[49m\u001b[43m]\u001b[49m\u001b[43m,\u001b[49m\u001b[43m \u001b[49m\u001b[43mk\u001b[49m\u001b[43m)\u001b[49m\n\u001b[1;32m     12\u001b[0m \u001b[38;5;28;01mfor\u001b[39;00m p \u001b[38;5;129;01min\u001b[39;00m choose_k(arr[\u001b[38;5;241m1\u001b[39m:], k\u001b[38;5;241m-\u001b[39m\u001b[38;5;241m1\u001b[39m):\n\u001b[1;32m     13\u001b[0m     partitions\u001b[38;5;241m.\u001b[39mappend([arr[\u001b[38;5;241m0\u001b[39m]] \u001b[38;5;241m+\u001b[39m p)\n",
      "    \u001b[0;31m[... skipping similar frames: choose_k at line 10 (2968 times)]\u001b[0m\n",
      "Cell \u001b[0;32mIn[29], line 10\u001b[0m, in \u001b[0;36mchoose_k\u001b[0;34m(arr, k)\u001b[0m\n\u001b[1;32m      7\u001b[0m \u001b[38;5;28;01mif\u001b[39;00m \u001b[38;5;28mlen\u001b[39m(arr) \u001b[38;5;241m==\u001b[39m k:\n\u001b[1;32m      8\u001b[0m     \u001b[38;5;28;01mreturn\u001b[39;00m [arr]\n\u001b[0;32m---> 10\u001b[0m partitions \u001b[38;5;241m=\u001b[39m \u001b[43mchoose_k\u001b[49m\u001b[43m(\u001b[49m\u001b[43marr\u001b[49m\u001b[43m[\u001b[49m\u001b[38;5;241;43m1\u001b[39;49m\u001b[43m:\u001b[49m\u001b[43m]\u001b[49m\u001b[43m,\u001b[49m\u001b[43m \u001b[49m\u001b[43mk\u001b[49m\u001b[43m)\u001b[49m\n\u001b[1;32m     12\u001b[0m \u001b[38;5;28;01mfor\u001b[39;00m p \u001b[38;5;129;01min\u001b[39;00m choose_k(arr[\u001b[38;5;241m1\u001b[39m:], k\u001b[38;5;241m-\u001b[39m\u001b[38;5;241m1\u001b[39m):\n\u001b[1;32m     13\u001b[0m     partitions\u001b[38;5;241m.\u001b[39mappend([arr[\u001b[38;5;241m0\u001b[39m]] \u001b[38;5;241m+\u001b[39m p)\n",
      "\u001b[0;31mRecursionError\u001b[0m: maximum recursion depth exceeded"
     ]
    }
   ],
   "source": [
    "cameras = [1,2,3,4,5]\n",
    "\n",
    "k = 3\n",
    "\n",
    "def choose_k(arr, k):\n",
    "    assert len(arr) >= k\n",
    "    if len(arr) == k:\n",
    "        return [arr]\n",
    "\n",
    "    partitions = choose_k(arr[1:], k) if k <= len(arr[1:]) else []\n",
    "\n",
    "    for p in choose_k(arr[1:], k-1):\n",
    "        partitions.append([arr[0]] + p)\n",
    "\n",
    "    return partitions\n",
    "\n",
    "\n",
    "choose_k([1, 2,3], 2)"
   ]
  },
  {
   "cell_type": "code",
   "execution_count": 6,
   "metadata": {},
   "outputs": [],
   "source": []
  },
  {
   "cell_type": "code",
   "execution_count": 17,
   "metadata": {},
   "outputs": [
    {
     "data": {
      "text/plain": [
       "0"
      ]
     },
     "execution_count": 17,
     "metadata": {},
     "output_type": "execute_result"
    }
   ],
   "source": [
    "left = 5\n",
    "right = 7\n",
    "\n",
    "left, right = 1, 10\n",
    "\n",
    "def to_bin(n): return  bin(n)[2:].zfill(32)\n",
    "left = to_bin(left)\n",
    "right = to_bin(right)\n",
    "\n",
    "\n",
    "i = 0\n",
    "\n",
    "while left[i] == right[i]:\n",
    "    i += 1\n",
    "\n",
    "a = left[:i] + '0'*(32-i)\n",
    "int(a, 2)"
   ]
  },
  {
   "cell_type": "code",
   "execution_count": 16,
   "metadata": {},
   "outputs": [
    {
     "data": {
      "text/plain": [
       "4"
      ]
     },
     "execution_count": 16,
     "metadata": {},
     "output_type": "execute_result"
    }
   ],
   "source": []
  },
  {
   "cell_type": "code",
   "execution_count": 13,
   "metadata": {},
   "outputs": [
    {
     "data": {
      "text/plain": [
       "2"
      ]
     },
     "execution_count": 13,
     "metadata": {},
     "output_type": "execute_result"
    }
   ],
   "source": []
  },
  {
   "cell_type": "code",
   "execution_count": 55,
   "metadata": {},
   "outputs": [],
   "source": [
    "import collections\n",
    "import math\n",
    "from functools import cache"
   ]
  },
  {
   "cell_type": "code",
   "execution_count": 56,
   "metadata": {},
   "outputs": [],
   "source": [
    "tiles = \"AAB\"\n",
    "counter = collections.Counter(tiles)\n",
    "\n"
   ]
  },
  {
   "cell_type": "code",
   "execution_count": 57,
   "metadata": {},
   "outputs": [
    {
     "data": {
      "text/plain": [
       "3"
      ]
     },
     "execution_count": 57,
     "metadata": {},
     "output_type": "execute_result"
    }
   ],
   "source": [
    "\n",
    "@cache\n",
    "def n_combs(options, curr_depth, max_depth):\n",
    "    if curr_depth == max_depth: return 1\n",
    "    options = eval(options)\n",
    "\n",
    "    # if sum(options.values()) == 0: return 1\n",
    "    C = 0\n",
    "    \n",
    "    for k,v in options.items():\n",
    "        if v == 0: continue\n",
    "\n",
    "        new_options = {k1:v1 for k1,v1 in options.items()}\n",
    "        new_options[k] -= 1 \n",
    "        C += n_combs(str(new_options), curr_depth+1, max_depth)\n",
    "\n",
    "    return C\n",
    "\n",
    "\n",
    "n_combs(str(dict(counter)), 0, 3)"
   ]
  },
  {
   "cell_type": "code",
   "execution_count": 43,
   "metadata": {},
   "outputs": [
    {
     "data": {
      "text/plain": [
       "{'A': 2, 'B': 1}"
      ]
     },
     "execution_count": 43,
     "metadata": {},
     "output_type": "execute_result"
    }
   ],
   "source": [
    "eval(str(dict(counter)))"
   ]
  },
  {
   "cell_type": "code",
   "execution_count": null,
   "metadata": {},
   "outputs": [],
   "source": []
  }
 ],
 "metadata": {
  "kernelspec": {
   "display_name": "Python 3",
   "language": "python",
   "name": "python3"
  },
  "language_info": {
   "codemirror_mode": {
    "name": "ipython",
    "version": 3
   },
   "file_extension": ".py",
   "mimetype": "text/x-python",
   "name": "python",
   "nbconvert_exporter": "python",
   "pygments_lexer": "ipython3",
   "version": "3.11.7"
  }
 },
 "nbformat": 4,
 "nbformat_minor": 2
}
