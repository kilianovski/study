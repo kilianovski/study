{
 "cells": [
  {
   "cell_type": "code",
   "execution_count": 2,
   "metadata": {},
   "outputs": [
    {
     "name": "stdout",
     "output_type": "stream",
     "text": [
      "   222\n",
      "     |\n",
      "  +--+\n",
      "  |\n",
      " 44\n"
     ]
    }
   ],
   "source": [
    "# https://www.codingame.com/ide/puzzle/binary-tree-visual\n",
    "\n",
    "\n",
    "class BinaryNode:\n",
    "    def __init__(A, x=None, left=None, right=None, parent=None):\n",
    "        A.left = left\n",
    "        A.right = right\n",
    "        A.parent = parent\n",
    "        A.val = x\n",
    "        \n",
    "        A.link_parents()\n",
    "    \n",
    "    def __repr__(self): return f'BinaryNode({self.val}, left={self.left}, right={self.right})'\n",
    "    \n",
    "    def link_parents(A):\n",
    "        if A.left and not A.left.parent:\n",
    "            A.left.parent = A\n",
    "            A.left.link_parents()\n",
    "        \n",
    "        if A.right and not A.right.parent:\n",
    "            A.right.parent = A\n",
    "            A.right.link_parents()\n",
    "        return A\n",
    "\n",
    "    def l(A): return list(A.subtree_iter())\n",
    "\n",
    "    def subtree_iter(A): # O(n)\n",
    "        if A.left: yield from A.left.subtree_iter()\n",
    "        yield A.val\n",
    "        if A.right: yield from A.right.subtree_iter()\n",
    "\n",
    "\n",
    "from queue import deque\n",
    "\n",
    "\n",
    "def old_list2tree(root_list):\n",
    "    root = BinaryNode(root_list[0])\n",
    "\n",
    "    node = root\n",
    "    queue = deque()\n",
    "    state = 0\n",
    "\n",
    "    for val in root_list[1:]:\n",
    "        # print(queue)\n",
    "        if state == 2:\n",
    "            node = queue.pop()\n",
    "            state = 0\n",
    "\n",
    "        if val is None:\n",
    "            state += 1\n",
    "            continue\n",
    "\n",
    "        new_node = BinaryNode(val)\n",
    "\n",
    "\n",
    "        if state == 0:\n",
    "            node.left = new_node\n",
    "        else:\n",
    "            node.right = new_node\n",
    "        state += 1\n",
    "\n",
    "        queue.appendleft(new_node)\n",
    "\n",
    "\n",
    "    return root\n",
    "\n",
    "null = None\n",
    "def list2tree(li):\n",
    "    if not li: return None\n",
    "\n",
    "    the_root = BinaryNode(li[0])\n",
    "    r = None\n",
    "\n",
    "    q = deque([the_root])\n",
    "    left_flag = False\n",
    "    \n",
    "    for i in range(1, len(li)):\n",
    "        left_flag = not left_flag\n",
    "        if left_flag:\n",
    "            r = q.popleft()\n",
    "\n",
    "        if li[i] is None: continue\n",
    "        child = BinaryNode(li[i])\n",
    "        q.append(child)\n",
    "\n",
    "        if left_flag:\n",
    "            r.left = child\n",
    "        else:\n",
    "            r.right = child\n",
    "\n",
    "    the_root.link_parents()\n",
    "    return the_root\n",
    "\n",
    "\n",
    "li = [2,null,3,4,null,5]\n",
    "# print(list2tree(li))\n",
    "# print(old_list2tree(li))\n",
    "# tree = BinaryNode('111', BinaryNode('222', BinaryNode('44'), BinaryNode('555', None, BinaryNode('66'))), BinaryNode('3'))\n",
    "tree = list2tree([111, 222, 3, 44, 555,null,null,null,66])\n",
    "# print(tree)\n",
    "\n",
    "\n",
    "class BinaryTreeASCIIArt:\n",
    "    def __init__(self, rows, root_i=None):\n",
    "        self.rows = rows\n",
    "        self.root_i = root_i\n",
    "    \n",
    "    def __repr__(self):\n",
    "        return '\\n'.join(s.rstrip() for s in self.rows)\n",
    "\n",
    "print(\n",
    "BinaryTreeASCIIArt([\n",
    "    '   222',\n",
    "    '     |',\n",
    "    '  +--+',\n",
    "    '  |',\n",
    "    ' 44'\n",
    "])\n",
    ")\n",
    "\n"
   ]
  },
  {
   "cell_type": "code",
   "execution_count": 3,
   "metadata": {},
   "outputs": [
    {
     "data": {
      "text/plain": [
       "('-hey', 'hey-')"
      ]
     },
     "execution_count": 3,
     "metadata": {},
     "output_type": "execute_result"
    }
   ],
   "source": [
    "def pad_right(s, upto, symbol=' '):\n",
    "    pad = max(0, upto-len(s))\n",
    "    return s+symbol*pad\n",
    "\n",
    "\n",
    "def pad_left(s, upto, symbol=' '):\n",
    "    pad = max(0, upto-len(s))\n",
    "    return symbol*pad+s\n",
    "\n",
    "pad_left('hey', 4, '-'), pad_right('hey', 4, '-')"
   ]
  },
  {
   "cell_type": "code",
   "execution_count": 186,
   "metadata": {},
   "outputs": [],
   "source": []
  },
  {
   "cell_type": "code",
   "execution_count": 187,
   "metadata": {},
   "outputs": [],
   "source": [
    "def grow_connections(root_row, left, right):\n",
    "    connections = []\n",
    "    \n",
    "    if not left and not right: return connections\n",
    "\n",
    "    # FIRST\n",
    "    connections.append( pad_left('|', len(root_row)) )\n",
    "\n",
    "\n",
    "    # SECOND\n",
    "    elbow = '+'\n",
    "    \n",
    "    # SECOND: LEFT\n",
    "    if left:\n",
    "        elbow_len = len(root_row) - left.root_i\n",
    "        elbow = '+'+('-'*(elbow_len-2)) + elbow\n",
    "\n",
    "    elbow = pad_left(elbow, len(root_row))\n",
    "    \n",
    "    # SECOND: RIGHT\n",
    "    if right:\n",
    "        elbow_len = right.root_i + 2\n",
    "        elbow += ('-'*(elbow_len-2)) + '+'\n",
    "\n",
    "    connections.append( elbow )\n",
    "\n",
    "    # THIRD\n",
    "    bottom = ''\n",
    "    if left:\n",
    "        bottom += pad_left('|', left.root_i+1)\n",
    "        \n",
    "    bottom = pad_right(bottom, len(root_row))\n",
    "    if right:\n",
    "        bottom += pad_left('|', right.root_i+1)\n",
    "        \n",
    "    # bottom = pad_left\n",
    "    connections.append( bottom )\n",
    "    return connections"
   ]
  },
  {
   "cell_type": "code",
   "execution_count": 194,
   "metadata": {},
   "outputs": [],
   "source": [
    "import itertools\n",
    "\n",
    "def merge_rows(left_rows, right_rows, left_pad_n):\n",
    "    res = []\n",
    "    for l,r in itertools.zip_longest(left_rows, right_rows, fillvalue=''):\n",
    "        l = pad_right(l, left_pad_n)\n",
    "        res.append(l + r)\n",
    "    return res\n",
    "\n",
    "\n",
    "def _tree2ascii(root: BinaryNode, W) -> BinaryTreeASCIIArt:\n",
    "    if not root: return None\n",
    "\n",
    "    rows = []\n",
    "    root_pad_n = W\n",
    "\n",
    "    left = _tree2ascii(root.left, W)\n",
    "    right = _tree2ascii(root.right, W)\n",
    "\n",
    "    if left:\n",
    "        root_pad_n += max(map(len, left.rows))\n",
    "        rows += left.rows\n",
    "\n",
    "\n",
    "    root_row = pad_left(str(root.val), root_pad_n)\n",
    "\n",
    "\n",
    "    if right:\n",
    "        rows = merge_rows(rows, right.rows, root_pad_n)\n",
    "\n",
    "\n",
    "    connections = grow_connections(root_row, left, right)\n",
    "\n",
    "\n",
    "    our_rows = [root_row] + connections + rows\n",
    "    return BinaryTreeASCIIArt(our_rows, len(root_row)-1)\n",
    "\n",
    "\n",
    "def max_val_len(root):\n",
    "    if not root: return 0\n",
    "\n",
    "    return max(\n",
    "        len(str(root.val)),\n",
    "        max_val_len(root.left),\n",
    "        max_val_len(root.right),\n",
    "    )\n",
    "\n",
    "def tree2ascii(root):\n",
    "    W = 1+max_val_len(root)\n",
    "    return _tree2ascii(root, W)\n"
   ]
  },
  {
   "cell_type": "code",
   "execution_count": 195,
   "metadata": {},
   "outputs": [],
   "source": [
    "root = BinaryNode(333, \n",
    "                  left=BinaryNode(333),\n",
    "                right=BinaryNode(44, BinaryNode(33))\n",
    "        )"
   ]
  },
  {
   "cell_type": "code",
   "execution_count": 196,
   "metadata": {},
   "outputs": [
    {
     "data": {
      "text/plain": [
       "     333\n",
       "       |\n",
       "   +---+-------+\n",
       "   |           |\n",
       " 333          44\n",
       "               |\n",
       "           +---+\n",
       "           |\n",
       "          33"
      ]
     },
     "execution_count": 196,
     "metadata": {},
     "output_type": "execute_result"
    }
   ],
   "source": [
    "tree2ascii(root)"
   ]
  },
  {
   "cell_type": "code",
   "execution_count": 198,
   "metadata": {},
   "outputs": [
    {
     "data": {
      "text/plain": [
       "                 111\n",
       "                   |\n",
       "       +-----------+---+\n",
       "       |               |\n",
       "     222               3\n",
       "       |\n",
       "   +---+---+\n",
       "   |       |\n",
       "  33     555\n",
       "           |\n",
       "           +---+\n",
       "               |\n",
       "              66"
      ]
     },
     "execution_count": 198,
     "metadata": {},
     "output_type": "execute_result"
    }
   ],
   "source": [
    "tree2ascii(list2tree([111, 222, 3, 33, 555, None, None, None, None, None, 66]))"
   ]
  },
  {
   "cell_type": "code",
   "execution_count": 188,
   "metadata": {},
   "outputs": [
    {
     "data": {
      "text/plain": [
       "     333\n",
       "       |\n",
       "   +---+-------+\n",
       "   |           |\n",
       " 333          44\n",
       "               |\n",
       "           +---+\n",
       "           |\n",
       "          33"
      ]
     },
     "execution_count": 188,
     "metadata": {},
     "output_type": "execute_result"
    }
   ],
   "source": []
  },
  {
   "cell_type": "code",
   "execution_count": 163,
   "metadata": {},
   "outputs": [
    {
     "data": {
      "text/plain": [
       "4"
      ]
     },
     "execution_count": 163,
     "metadata": {},
     "output_type": "execute_result"
    }
   ],
   "source": [
    "len(right.rows[0])"
   ]
  },
  {
   "cell_type": "code",
   "execution_count": null,
   "metadata": {},
   "outputs": [],
   "source": []
  }
 ],
 "metadata": {
  "kernelspec": {
   "display_name": "Python 3",
   "language": "python",
   "name": "python3"
  },
  "language_info": {
   "codemirror_mode": {
    "name": "ipython",
    "version": 3
   },
   "file_extension": ".py",
   "mimetype": "text/x-python",
   "name": "python",
   "nbconvert_exporter": "python",
   "pygments_lexer": "ipython3",
   "version": "3.11.6"
  }
 },
 "nbformat": 4,
 "nbformat_minor": 2
}
