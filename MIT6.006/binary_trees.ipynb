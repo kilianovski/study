{
 "cells": [
  {
   "cell_type": "code",
   "execution_count": 14,
   "metadata": {},
   "outputs": [],
   "source": [
    "import sys; sys.path.append('../algorithms')\n",
    "from treeviz import ascii_draw, list2tree, tree2ascii"
   ]
  },
  {
   "cell_type": "code",
   "execution_count": 16,
   "metadata": {},
   "outputs": [],
   "source": [
    "class BinaryNode:\n",
    "    def __init__(A, val=None, left=None, right=None, parent=None):\n",
    "        A.left = left\n",
    "        A.right = right\n",
    "        A.parent = parent\n",
    "        A.val = val\n",
    "        \n",
    "        A.link_parents()\n",
    "    \n",
    "    def __repr__(self): return str(tree2ascii(self))\n",
    "    # def __repr__(self): return f'BinaryNode({self.val}, left={self.left}, right={self.right})'\n",
    "    \n",
    "    def link_parents(A):\n",
    "        if A.left and not A.left.parent:\n",
    "            A.left.parent = A\n",
    "            A.left.link_parents()\n",
    "        \n",
    "        if A.right and not A.right.parent:\n",
    "            A.right.parent = A\n",
    "            A.right.link_parents()\n",
    "        return A\n",
    "\n",
    "    def l(A): return list(A.subtree_iter())\n",
    "    def draw(A): return ascii_draw(A)\n",
    "    \n",
    "    def linear_find(A, val):\n",
    "        if A.val == val: return A\n",
    "        \n",
    "        if A.left:\n",
    "            left_result = A.left.linear_find(val)\n",
    "            if left_result: return left_result\n",
    "\n",
    "        if A.right:\n",
    "            result = A.right.linear_find(val)\n",
    "            if result: return result\n",
    "\n",
    "    def subtree_iter(A): # O(n)\n",
    "        if A.left: yield from A.left.subtree_iter()\n",
    "        yield A.val\n",
    "        if A.right: yield from A.right.subtree_iter()\n",
    "\n",
    "\n",
    "    def subtree_first(A):\n",
    "        if A.left: return A.left.subtree_first()\n",
    "        return A\n",
    "\n",
    "\n",
    "    def subtree_last(A):\n",
    "        if A.right: return A.right.subtree_last()\n",
    "        return A\n",
    "\n",
    "\n",
    "    def successor(A):\n",
    "        if A.right: return A.right.subtree_first()\n",
    "\n",
    "        # bubble up until you pop up as a left subtree\n",
    "        # \"walk up the tree to find the lowest ancestor of <A> such that \n",
    "        # <A> is in the ancestor's left subtree\"\n",
    "\n",
    "        while A.parent and (A is A.parent.right):\n",
    "            A = A.parent\n",
    "\n",
    "        return A.parent\n",
    "\n",
    "\n",
    "\n",
    "    def predecessor(A):\n",
    "        if A.left: return A.left.subtree_last()\n",
    "\n",
    "        while (A.parent) and (A is A.parent.left):\n",
    "            A = A.parent\n",
    "        return A.parent\n",
    "    \n",
    "    def subtree_insert_after(A, B):\n",
    "        if not A.right:\n",
    "            A.right = B\n",
    "            B.parent = A\n",
    "        else:\n",
    "            A.right.subtree_insert_before()\n",
    "\n",
    "\n",
    "    def subtree_insert_before(A, B):\n",
    "        if not A.left:\n",
    "            A.left = B\n",
    "            B.parent = B\n",
    "        else:\n",
    "            A.left.subtree_insert_after()\n",
    "\n",
    "\n",
    "    # def delete(A):\n",
    "    #     if A.left or A.right:\n",
    "    #         B = A.predecessor() if A.left else A.successor()\n",
    "    #         A.val = B.val\n",
    "    #         return B.delete()\n",
    "    #     if A.parent:\n",
    "    #         if A.parent.left is A:\n",
    "    #             A.parent.left = None\n",
    "    #         else:\n",
    "    #             A.parent.right = None\n",
    "    #     return A\n",
    "    \n",
    "    def delete(A):\n",
    "        if A.left or A.right:\n",
    "\n",
    "            B = A.predecessor() if A.left else A.successor()\n",
    "\n",
    "            A.val = B.val\n",
    "            B.delete()\n",
    "        else:\n",
    "            if A.parent:\n",
    "                if A is A.parent.left:\n",
    "                    A.parent.left = None\n",
    "                else:\n",
    "                    A.parent.right = None\n",
    "        return A\n",
    "\n",
    "\n"
   ]
  },
  {
   "cell_type": "markdown",
   "metadata": {},
   "source": [
    "### deletion!"
   ]
  },
  {
   "cell_type": "code",
   "execution_count": 24,
   "metadata": {},
   "outputs": [
    {
     "data": {
      "text/plain": [
       "   B\n",
       "   |\n",
       " +-+\n",
       " |\n",
       " C"
      ]
     },
     "execution_count": 24,
     "metadata": {},
     "output_type": "execute_result"
    }
   ],
   "source": [
    "root  = list2tree(['A', 'B', None, 'C'], BinaryNode)\n",
    "root.link_parents()\n",
    "# root.left.left = None\n",
    "\n",
    "root.delete()\n",
    "\n",
    "root"
   ]
  },
  {
   "cell_type": "code",
   "execution_count": null,
   "metadata": {},
   "outputs": [],
   "source": []
  },
  {
   "cell_type": "code",
   "execution_count": null,
   "metadata": {},
   "outputs": [],
   "source": []
  },
  {
   "cell_type": "code",
   "execution_count": 5,
   "metadata": {},
   "outputs": [
    {
     "data": {
      "text/plain": [
       "         A\n",
       "         |\n",
       "     +---+-+\n",
       "     |     |\n",
       "     B     C\n",
       "     |\n",
       "   +-+-+\n",
       "   |   |\n",
       "   D   E\n",
       "   |\n",
       " +-+\n",
       " |\n",
       " F"
      ]
     },
     "execution_count": 5,
     "metadata": {},
     "output_type": "execute_result"
    }
   ],
   "source": [
    "lesson_tree = BinaryNode('A', BinaryNode('B', BinaryNode('D', BinaryNode('F')), BinaryNode('E')), BinaryNode('C'))\n",
    "lesson_tree"
   ]
  },
  {
   "cell_type": "code",
   "execution_count": 6,
   "metadata": {},
   "outputs": [
    {
     "data": {
      "text/plain": [
       "       A\n",
       "       |\n",
       "   +---+-+\n",
       "   |     |\n",
       "   B     C\n",
       "   |\n",
       " +-+-+\n",
       " |   |\n",
       " D   E"
      ]
     },
     "execution_count": 6,
     "metadata": {},
     "output_type": "execute_result"
    }
   ],
   "source": [
    "lesson_tree.subtree_first().delete()\n",
    "lesson_tree"
   ]
  },
  {
   "cell_type": "code",
   "execution_count": 42,
   "metadata": {},
   "outputs": [
    {
     "data": {
      "text/plain": [
       " E"
      ]
     },
     "execution_count": 42,
     "metadata": {},
     "output_type": "execute_result"
    }
   ],
   "source": [
    "lesson_tree.delete()"
   ]
  },
  {
   "cell_type": "markdown",
   "metadata": {},
   "source": [
    "#### test `successor`"
   ]
  },
  {
   "cell_type": "code",
   "execution_count": 6,
   "metadata": {},
   "outputs": [],
   "source": [
    "# Test cases\n",
    "test_cases = [\n",
    "    ([], None),  # Empty Tree\n",
    "    ([5], None),  # Single Node Tree\n",
    "    ([5, 3, None], 5),  # Two Nodes - Root and Left Child\n",
    "    ([5, None, 7], 7),  # Two Nodes - Root and Right Child\n",
    "    ([5, 3, 7], 5),  # Complete Binary Tree\n",
    "    ([5, 3, 7, 2, 4, 6, 8], 5),  # Full Binary Tree\n",
    "    ([5, 3, 7, None, 4], 4),  # Node with Right Subtree\n",
    "    ([5, 3, 8, 2, 4], 5),  # Node with no Right Subtree but with an Ancestor Successor\n",
    "    ([5, 3, 7, None, None, 6, 8], None),  # Right-Most Node in the Tree\n",
    "    ([10, 5, 15, 3, 7, None, 18], 10)  # Complex Tree\n",
    "]\n",
    "\n"
   ]
  },
  {
   "cell_type": "code",
   "execution_count": 11,
   "metadata": {},
   "outputs": [
    {
     "name": "stdout",
     "output_type": "stream",
     "text": [
      "          10\n",
      "           |\n",
      "     +-----+--+\n",
      "     |        |\n",
      "     5       15\n",
      "     |        |\n",
      "  +--+--+     +--+\n",
      "  |     |        |\n",
      "  3     7       18\n",
      "\n",
      "   5\n",
      "   |\n",
      " +-+-+\n",
      " |   |\n",
      " 3   7\n"
     ]
    }
   ],
   "source": [
    "A = list2tree([10, 5, 15, 3, 7, None, 18], BinaryNode)\n",
    "A.draw()\n",
    "print()\n",
    "A.linear_find(5).draw()"
   ]
  },
  {
   "cell_type": "code",
   "execution_count": null,
   "metadata": {},
   "outputs": [],
   "source": [
    "lesson_tree = BinaryNode('A', BinaryNode('B', BinaryNode('D', BinaryNode('F')), BinaryNode('E')), BinaryNode('C'))"
   ]
  },
  {
   "cell_type": "code",
   "execution_count": null,
   "metadata": {},
   "outputs": [
    {
     "name": "stdout",
     "output_type": "stream",
     "text": [
      "         A\n",
      "         |\n",
      "     +---+-+\n",
      "     |     |\n",
      "     B     C\n",
      "     |\n",
      "   +-+-+\n",
      "   |   |\n",
      "   D   E\n",
      "   |\n",
      " +-+\n",
      " |\n",
      " F\n"
     ]
    }
   ],
   "source": [
    "ascii_draw(lesson_tree)"
   ]
  },
  {
   "cell_type": "code",
   "execution_count": null,
   "metadata": {},
   "outputs": [
    {
     "data": {
      "text/plain": [
       "'F'"
      ]
     },
     "execution_count": 5,
     "metadata": {},
     "output_type": "execute_result"
    }
   ],
   "source": [
    "lesson_tree.subtree_first()"
   ]
  },
  {
   "cell_type": "code",
   "execution_count": null,
   "metadata": {},
   "outputs": [],
   "source": []
  },
  {
   "cell_type": "markdown",
   "metadata": {},
   "source": [
    "## count_long_subarrays"
   ]
  },
  {
   "cell_type": "markdown",
   "metadata": {},
   "source": []
  },
  {
   "cell_type": "code",
   "execution_count": null,
   "metadata": {},
   "outputs": [],
   "source": [
    "nums = (1, 3, 4, 2, 7, 5, 6, 9, 8)\n"
   ]
  },
  {
   "cell_type": "code",
   "execution_count": null,
   "metadata": {},
   "outputs": [],
   "source": [
    "def count_long_subarrays(nums):\n",
    "    curr_seq_len = 1\n",
    "    best_seq_len = 1\n",
    "    best_seq_count = 0\n",
    "\n",
    "\n",
    "    for i in range(1, len(nums)):\n",
    "        if nums[i-1] < nums[i]:\n",
    "            curr_seq_len += 1\n",
    "            \n",
    "            if curr_seq_len == best_seq_len:\n",
    "                best_seq_count += 1\n",
    "\n",
    "            if curr_seq_len > best_seq_len:\n",
    "                best_seq_len = curr_seq_len\n",
    "                best_seq_count = 1\n",
    "        else:\n",
    "            curr_seq_len = 1\n",
    "\n",
    "    return best_seq_count\n"
   ]
  },
  {
   "cell_type": "code",
   "execution_count": null,
   "metadata": {},
   "outputs": [],
   "source": [
    "import unittest\n",
    "\n",
    "tests = (\n",
    "    (\n",
    "        (2, 2, 4, 1, 4),\n",
    "        2,\n",
    "    ),\n",
    "    (\n",
    "        (7, 8, 5, 7, 7, 3, 2, 8),\n",
    "        3,\n",
    "    ),\n",
    "    (\n",
    "        (7, 7, 9, 1, 2, 11, 9, 6, 2, 8, 9),\n",
    "        2,\n",
    "    ),\n",
    "    (\n",
    "        (4, 18, 10, 8, 13, 16, 18, 1, 9, 6, 11, 13, 12, 5, 7, 17, 13, 3),\n",
    "        1,\n",
    "    ),\n",
    "    (\n",
    "        (11, 16, 10, 19, 20, 18, 3, 19, 2, 1, 8, 17, 7, 13, 1, 11, 1, 18, 19, 9, 7, 19, 24, 2, 12),\n",
    "        4,\n",
    "    ),\n",
    ")\n",
    "\n",
    "def check(test):\n",
    "    A, staff_sol = test\n",
    "    student_sol = count_long_subarrays(A)\n",
    "    return staff_sol == student_sol\n",
    "\n",
    "for test in tests:\n",
    "    assert check(test), test\n"
   ]
  },
  {
   "cell_type": "code",
   "execution_count": null,
   "metadata": {},
   "outputs": [
    {
     "data": {
      "text/plain": [
       "dict_items([(1, 1), (2, 1), (3, 2), (4, 1)])"
      ]
     },
     "execution_count": 19,
     "metadata": {},
     "output_type": "execute_result"
    }
   ],
   "source": [
    "from collections import Counter\n",
    "Counter([1,2,3,4,3]).items()\n"
   ]
  }
 ],
 "metadata": {
  "kernelspec": {
   "display_name": "Python 3",
   "language": "python",
   "name": "python3"
  },
  "language_info": {
   "codemirror_mode": {
    "name": "ipython",
    "version": 3
   },
   "file_extension": ".py",
   "mimetype": "text/x-python",
   "name": "python",
   "nbconvert_exporter": "python",
   "pygments_lexer": "ipython3",
   "version": "3.11.6"
  }
 },
 "nbformat": 4,
 "nbformat_minor": 2
}
