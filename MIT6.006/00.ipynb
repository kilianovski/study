{
 "cells": [
  {
   "cell_type": "markdown",
   "metadata": {},
   "source": [
    "## count_long_subarrays"
   ]
  },
  {
   "cell_type": "code",
   "execution_count": null,
   "metadata": {},
   "outputs": [],
   "source": [
    "def count_long_subarrays(nums):\n",
    "    "
   ]
  },
  {
   "cell_type": "code",
   "execution_count": 2,
   "metadata": {},
   "outputs": [],
   "source": [
    "nums = (1, 3, 4, 2, 7, 5, 6, 9, 8)\n"
   ]
  },
  {
   "cell_type": "code",
   "execution_count": 5,
   "metadata": {},
   "outputs": [],
   "source": []
  },
  {
   "cell_type": "code",
   "execution_count": 12,
   "metadata": {},
   "outputs": [],
   "source": [
    "def count_long_subarrays(nums):\n",
    "    curr_seq_len = 1\n",
    "    best_seq_len = 1\n",
    "    best_seq_count = 0\n",
    "\n",
    "\n",
    "    for i in range(1, len(nums)):\n",
    "        if nums[i-1] < nums[i]:\n",
    "            curr_seq_len += 1\n",
    "            \n",
    "            if curr_seq_len == best_seq_len:\n",
    "                best_seq_count += 1\n",
    "\n",
    "            if curr_seq_len > best_seq_len:\n",
    "                best_seq_len = curr_seq_len\n",
    "                best_seq_count = 1\n",
    "        else:\n",
    "            curr_seq_len = 1\n",
    "\n",
    "    return best_seq_count\n"
   ]
  },
  {
   "cell_type": "code",
   "execution_count": 15,
   "metadata": {},
   "outputs": [],
   "source": [
    "import unittest\n",
    "\n",
    "tests = (\n",
    "    (\n",
    "        (2, 2, 4, 1, 4),\n",
    "        2,\n",
    "    ),\n",
    "    (\n",
    "        (7, 8, 5, 7, 7, 3, 2, 8),\n",
    "        3,\n",
    "    ),\n",
    "    (\n",
    "        (7, 7, 9, 1, 2, 11, 9, 6, 2, 8, 9),\n",
    "        2,\n",
    "    ),\n",
    "    (\n",
    "        (4, 18, 10, 8, 13, 16, 18, 1, 9, 6, 11, 13, 12, 5, 7, 17, 13, 3),\n",
    "        1,\n",
    "    ),\n",
    "    (\n",
    "        (11, 16, 10, 19, 20, 18, 3, 19, 2, 1, 8, 17, 7, 13, 1, 11, 1, 18, 19, 9, 7, 19, 24, 2, 12),\n",
    "        4,\n",
    "    ),\n",
    ")\n",
    "\n",
    "def check(test):\n",
    "    A, staff_sol = test\n",
    "    student_sol = count_long_subarrays(A)\n",
    "    return staff_sol == student_sol\n",
    "\n",
    "for test in tests:\n",
    "    assert check(test), test\n"
   ]
  },
  {
   "cell_type": "code",
   "execution_count": 19,
   "metadata": {},
   "outputs": [
    {
     "data": {
      "text/plain": [
       "dict_items([(1, 1), (2, 1), (3, 2), (4, 1)])"
      ]
     },
     "execution_count": 19,
     "metadata": {},
     "output_type": "execute_result"
    }
   ],
   "source": [
    "from collections import Counter\n",
    "Counter([1,2,3,4,3]).items()\n"
   ]
  },
  {
   "cell_type": "code",
   "execution_count": null,
   "metadata": {},
   "outputs": [],
   "source": []
  }
 ],
 "metadata": {
  "kernelspec": {
   "display_name": "Python 3",
   "language": "python",
   "name": "python3"
  },
  "language_info": {
   "codemirror_mode": {
    "name": "ipython",
    "version": 3
   },
   "file_extension": ".py",
   "mimetype": "text/x-python",
   "name": "python",
   "nbconvert_exporter": "python",
   "pygments_lexer": "ipython3",
   "version": "3.11.6"
  }
 },
 "nbformat": 4,
 "nbformat_minor": 2
}
