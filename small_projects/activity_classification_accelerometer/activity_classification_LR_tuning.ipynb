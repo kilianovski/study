{
 "cells": [
  {
   "cell_type": "code",
   "execution_count": 1,
   "metadata": {},
   "outputs": [],
   "source": [
    "import numpy as np\n",
    "import pandas as pd\n",
    "from pathlib import Path\n",
    "\n",
    "import seaborn as sns\n",
    "from matplotlib import pyplot as plt\n",
    "sns.set_theme(\n",
    "    style=\"whitegrid\",\n",
    "    font_scale=2\n",
    ");"
   ]
  },
  {
   "cell_type": "markdown",
   "metadata": {},
   "source": [
    "# 0. Data loading <a class=\"anchor\" id=\"section_1\"></a>"
   ]
  },
  {
   "cell_type": "code",
   "execution_count": 2,
   "metadata": {},
   "outputs": [
    {
     "data": {
      "text/plain": [
       "['running', 'stairs', 'walking', 'idle']"
      ]
     },
     "execution_count": 2,
     "metadata": {},
     "output_type": "execute_result"
    }
   ],
   "source": [
    "DATA_FOLDER = Path('./data')\n",
    "FRAME_LENGTH = 30\n",
    "classes = [f.name for f in DATA_FOLDER.iterdir()]\n",
    "classes"
   ]
  },
  {
   "cell_type": "code",
   "execution_count": 17,
   "metadata": {},
   "outputs": [
    {
     "data": {
      "text/html": [
       "<div>\n",
       "<style scoped>\n",
       "    .dataframe tbody tr th:only-of-type {\n",
       "        vertical-align: middle;\n",
       "    }\n",
       "\n",
       "    .dataframe tbody tr th {\n",
       "        vertical-align: top;\n",
       "    }\n",
       "\n",
       "    .dataframe thead th {\n",
       "        text-align: right;\n",
       "    }\n",
       "</style>\n",
       "<table border=\"1\" class=\"dataframe\">\n",
       "  <thead>\n",
       "    <tr style=\"text-align: right;\">\n",
       "      <th></th>\n",
       "      <th>acc_x_0</th>\n",
       "      <th>acc_x_1</th>\n",
       "      <th>acc_x_2</th>\n",
       "      <th>acc_x_3</th>\n",
       "      <th>acc_x_4</th>\n",
       "      <th>acc_x_5</th>\n",
       "      <th>acc_x_6</th>\n",
       "      <th>acc_x_7</th>\n",
       "      <th>acc_x_8</th>\n",
       "      <th>acc_x_9</th>\n",
       "      <th>...</th>\n",
       "      <th>acc_z_21</th>\n",
       "      <th>acc_z_22</th>\n",
       "      <th>acc_z_23</th>\n",
       "      <th>acc_z_24</th>\n",
       "      <th>acc_z_25</th>\n",
       "      <th>acc_z_26</th>\n",
       "      <th>acc_z_27</th>\n",
       "      <th>acc_z_28</th>\n",
       "      <th>acc_z_29</th>\n",
       "      <th>label</th>\n",
       "    </tr>\n",
       "  </thead>\n",
       "  <tbody>\n",
       "    <tr>\n",
       "      <th>0</th>\n",
       "      <td>2.667141</td>\n",
       "      <td>4.017470</td>\n",
       "      <td>22.357056</td>\n",
       "      <td>17.922995</td>\n",
       "      <td>-2.164358</td>\n",
       "      <td>9.749189</td>\n",
       "      <td>3.303998</td>\n",
       "      <td>-3.275268</td>\n",
       "      <td>5.252879</td>\n",
       "      <td>21.490355</td>\n",
       "      <td>...</td>\n",
       "      <td>13.493721</td>\n",
       "      <td>-2.001553</td>\n",
       "      <td>16.668432</td>\n",
       "      <td>9.208099</td>\n",
       "      <td>-7.187393</td>\n",
       "      <td>12.430696</td>\n",
       "      <td>-8.939949</td>\n",
       "      <td>1.470040</td>\n",
       "      <td>10.807426</td>\n",
       "      <td>running</td>\n",
       "    </tr>\n",
       "    <tr>\n",
       "      <th>1</th>\n",
       "      <td>10.745177</td>\n",
       "      <td>3.744532</td>\n",
       "      <td>0.766145</td>\n",
       "      <td>23.956383</td>\n",
       "      <td>-0.454898</td>\n",
       "      <td>-3.481169</td>\n",
       "      <td>3.572149</td>\n",
       "      <td>7.527370</td>\n",
       "      <td>-10.793061</td>\n",
       "      <td>9.481039</td>\n",
       "      <td>...</td>\n",
       "      <td>11.468226</td>\n",
       "      <td>-0.952892</td>\n",
       "      <td>-0.943315</td>\n",
       "      <td>-0.416591</td>\n",
       "      <td>0.483629</td>\n",
       "      <td>0.363919</td>\n",
       "      <td>1.699883</td>\n",
       "      <td>3.390190</td>\n",
       "      <td>-1.407790</td>\n",
       "      <td>running</td>\n",
       "    </tr>\n",
       "    <tr>\n",
       "      <th>2</th>\n",
       "      <td>22.031445</td>\n",
       "      <td>3.600880</td>\n",
       "      <td>-0.354342</td>\n",
       "      <td>8.245631</td>\n",
       "      <td>18.641254</td>\n",
       "      <td>4.381389</td>\n",
       "      <td>26.499025</td>\n",
       "      <td>4.003105</td>\n",
       "      <td>3.284845</td>\n",
       "      <td>2.231396</td>\n",
       "      <td>...</td>\n",
       "      <td>0.565032</td>\n",
       "      <td>-4.079719</td>\n",
       "      <td>-3.677494</td>\n",
       "      <td>4.596867</td>\n",
       "      <td>-0.550666</td>\n",
       "      <td>-6.019023</td>\n",
       "      <td>-1.139640</td>\n",
       "      <td>-2.164358</td>\n",
       "      <td>-3.016694</td>\n",
       "      <td>running</td>\n",
       "    </tr>\n",
       "  </tbody>\n",
       "</table>\n",
       "<p>3 rows × 91 columns</p>\n",
       "</div>"
      ],
      "text/plain": [
       "     acc_x_0   acc_x_1    acc_x_2    acc_x_3    acc_x_4   acc_x_5    acc_x_6  \\\n",
       "0   2.667141  4.017470  22.357056  17.922995  -2.164358  9.749189   3.303998   \n",
       "1  10.745177  3.744532   0.766145  23.956383  -0.454898 -3.481169   3.572149   \n",
       "2  22.031445  3.600880  -0.354342   8.245631  18.641254  4.381389  26.499025   \n",
       "\n",
       "    acc_x_7    acc_x_8    acc_x_9  ...   acc_z_21  acc_z_22   acc_z_23  \\\n",
       "0 -3.275268   5.252879  21.490355  ...  13.493721 -2.001553  16.668432   \n",
       "1  7.527370 -10.793061   9.481039  ...  11.468226 -0.952892  -0.943315   \n",
       "2  4.003105   3.284845   2.231396  ...   0.565032 -4.079719  -3.677494   \n",
       "\n",
       "   acc_z_24  acc_z_25   acc_z_26  acc_z_27  acc_z_28   acc_z_29    label  \n",
       "0  9.208099 -7.187393  12.430696 -8.939949  1.470040  10.807426  running  \n",
       "1 -0.416591  0.483629   0.363919  1.699883  3.390190  -1.407790  running  \n",
       "2  4.596867 -0.550666  -6.019023 -1.139640 -2.164358  -3.016694  running  \n",
       "\n",
       "[3 rows x 91 columns]"
      ]
     },
     "execution_count": 17,
     "metadata": {},
     "output_type": "execute_result"
    }
   ],
   "source": [
    "x_acc_cols = [f'acc_x_{i}' for i in range(FRAME_LENGTH)]\n",
    "y_acc_cols = [f'acc_y_{i}' for i in range(FRAME_LENGTH)]\n",
    "z_acc_cols = [f'acc_z_{i}' for i in range(FRAME_LENGTH)]\n",
    "m_acc_cols = [f'acc_m_{i}' for i in range(FRAME_LENGTH)] # magnitude\n",
    "\n",
    "frames = []\n",
    "labels = []\n",
    "\n",
    "for class_name in classes:\n",
    "    class_folder = DATA_FOLDER / class_name\n",
    "    for file in class_folder.iterdir():\n",
    "        df = pd.read_csv(file)\n",
    "        flat_frame = np.hstack([df['accelerometer_X'], df['accelerometer_Y'], df['accelerometer_Z']]).astype(float)\n",
    "        frames.append(flat_frame)\n",
    "        labels.append(class_name)\n",
    "        \n",
    "raw_data = pd.DataFrame(frames, columns = x_acc_cols+y_acc_cols+z_acc_cols)\n",
    "raw_data = pd.concat([raw_data, pd.Series(labels, name='label')], axis=1)\n",
    "raw_data.head(3)"
   ]
  },
  {
   "cell_type": "code",
   "execution_count": 4,
   "metadata": {},
   "outputs": [
    {
     "data": {
      "text/plain": [
       "(6462, 91)"
      ]
     },
     "execution_count": 4,
     "metadata": {},
     "output_type": "execute_result"
    }
   ],
   "source": [
    "raw_data.shape"
   ]
  },
  {
   "cell_type": "code",
   "execution_count": 156,
   "metadata": {},
   "outputs": [
    {
     "data": {
      "text/plain": [
       "running    3408\n",
       "walking    1850\n",
       "idle       1039\n",
       "stairs      165\n",
       "Name: label, dtype: int64"
      ]
     },
     "execution_count": 156,
     "metadata": {},
     "output_type": "execute_result"
    }
   ],
   "source": [
    "raw_data['label'].value_counts()"
   ]
  },
  {
   "cell_type": "code",
   "execution_count": 157,
   "metadata": {},
   "outputs": [
    {
     "data": {
      "text/plain": [
       "0.0255338904363974"
      ]
     },
     "execution_count": 157,
     "metadata": {},
     "output_type": "execute_result"
    }
   ],
   "source": [
    "165/6462"
   ]
  },
  {
   "cell_type": "markdown",
   "metadata": {},
   "source": [
    "# 2. Setup validation and baselines "
   ]
  },
  {
   "cell_type": "markdown",
   "metadata": {},
   "source": [
    "## 2.1 StratifiedKFold"
   ]
  },
  {
   "cell_type": "code",
   "execution_count": 5,
   "metadata": {},
   "outputs": [],
   "source": [
    "from sklearn.model_selection import StratifiedKFold\n",
    "\n",
    "\n",
    "kfold = StratifiedKFold(n_splits=5, shuffle=True, random_state=1)"
   ]
  },
  {
   "cell_type": "code",
   "execution_count": 6,
   "metadata": {},
   "outputs": [
    {
     "name": "stdout",
     "output_type": "stream",
     "text": [
      "split#0, we have 33 stairs, 682 running samples\n",
      "split#1, we have 33 stairs, 682 running samples\n",
      "split#2, we have 33 stairs, 682 running samples\n",
      "split#3, we have 33 stairs, 681 running samples\n",
      "split#4, we have 33 stairs, 681 running samples\n"
     ]
    }
   ],
   "source": [
    "X = raw_data['acc_x_0']\n",
    "y = raw_data['label']\n",
    "\n",
    "for i, (_, valid_ix) in enumerate(kfold.split(X, y)):\n",
    "    y_valid = y.loc[valid_ix]\n",
    "    value_counts = y_valid.value_counts()\n",
    "    print(f'split#{i}, we have {value_counts.stairs} stairs, {value_counts.running} running samples')\n",
    "#     print(    (y_valid == 'stairs').index)"
   ]
  },
  {
   "cell_type": "markdown",
   "metadata": {},
   "source": [
    "TODO"
   ]
  },
  {
   "cell_type": "code",
   "execution_count": 16,
   "metadata": {},
   "outputs": [
    {
     "data": {
      "text/html": [
       "<div>\n",
       "<style scoped>\n",
       "    .dataframe tbody tr th:only-of-type {\n",
       "        vertical-align: middle;\n",
       "    }\n",
       "\n",
       "    .dataframe tbody tr th {\n",
       "        vertical-align: top;\n",
       "    }\n",
       "\n",
       "    .dataframe thead th {\n",
       "        text-align: right;\n",
       "    }\n",
       "</style>\n",
       "<table border=\"1\" class=\"dataframe\">\n",
       "  <thead>\n",
       "    <tr style=\"text-align: right;\">\n",
       "      <th></th>\n",
       "      <th>acc_x_0</th>\n",
       "      <th>acc_x_1</th>\n",
       "      <th>acc_x_2</th>\n",
       "      <th>acc_x_3</th>\n",
       "      <th>acc_x_4</th>\n",
       "      <th>acc_x_5</th>\n",
       "      <th>acc_x_6</th>\n",
       "      <th>acc_x_7</th>\n",
       "      <th>acc_x_8</th>\n",
       "      <th>acc_x_9</th>\n",
       "      <th>...</th>\n",
       "      <th>acc_m_20</th>\n",
       "      <th>acc_m_21</th>\n",
       "      <th>acc_m_22</th>\n",
       "      <th>acc_m_23</th>\n",
       "      <th>acc_m_24</th>\n",
       "      <th>acc_m_25</th>\n",
       "      <th>acc_m_26</th>\n",
       "      <th>acc_m_27</th>\n",
       "      <th>acc_m_28</th>\n",
       "      <th>acc_m_29</th>\n",
       "    </tr>\n",
       "  </thead>\n",
       "  <tbody>\n",
       "    <tr>\n",
       "      <th>0</th>\n",
       "      <td>2.667141</td>\n",
       "      <td>4.017470</td>\n",
       "      <td>22.357056</td>\n",
       "      <td>17.922995</td>\n",
       "      <td>-2.164358</td>\n",
       "      <td>9.749189</td>\n",
       "      <td>3.303998</td>\n",
       "      <td>-3.275268</td>\n",
       "      <td>5.252879</td>\n",
       "      <td>21.490355</td>\n",
       "      <td>...</td>\n",
       "      <td>16.021034</td>\n",
       "      <td>28.484670</td>\n",
       "      <td>6.329056</td>\n",
       "      <td>36.200348</td>\n",
       "      <td>17.993455</td>\n",
       "      <td>12.013191</td>\n",
       "      <td>17.492539</td>\n",
       "      <td>14.443969</td>\n",
       "      <td>16.981173</td>\n",
       "      <td>12.873582</td>\n",
       "    </tr>\n",
       "    <tr>\n",
       "      <th>1</th>\n",
       "      <td>10.745177</td>\n",
       "      <td>3.744532</td>\n",
       "      <td>0.766145</td>\n",
       "      <td>23.956383</td>\n",
       "      <td>-0.454898</td>\n",
       "      <td>-3.481169</td>\n",
       "      <td>3.572149</td>\n",
       "      <td>7.527370</td>\n",
       "      <td>-10.793061</td>\n",
       "      <td>9.481039</td>\n",
       "      <td>...</td>\n",
       "      <td>9.027454</td>\n",
       "      <td>32.717137</td>\n",
       "      <td>12.632721</td>\n",
       "      <td>12.662257</td>\n",
       "      <td>12.112275</td>\n",
       "      <td>8.495985</td>\n",
       "      <td>13.047865</td>\n",
       "      <td>15.947642</td>\n",
       "      <td>35.383581</td>\n",
       "      <td>4.619655</td>\n",
       "    </tr>\n",
       "    <tr>\n",
       "      <th>2</th>\n",
       "      <td>22.031445</td>\n",
       "      <td>3.600880</td>\n",
       "      <td>-0.354342</td>\n",
       "      <td>8.245631</td>\n",
       "      <td>18.641254</td>\n",
       "      <td>4.381389</td>\n",
       "      <td>26.499025</td>\n",
       "      <td>4.003105</td>\n",
       "      <td>3.284845</td>\n",
       "      <td>2.231396</td>\n",
       "      <td>...</td>\n",
       "      <td>38.525506</td>\n",
       "      <td>8.434238</td>\n",
       "      <td>16.840514</td>\n",
       "      <td>5.681142</td>\n",
       "      <td>11.807488</td>\n",
       "      <td>9.724319</td>\n",
       "      <td>36.491155</td>\n",
       "      <td>24.877598</td>\n",
       "      <td>14.710831</td>\n",
       "      <td>10.426676</td>\n",
       "    </tr>\n",
       "    <tr>\n",
       "      <th>3</th>\n",
       "      <td>10.371682</td>\n",
       "      <td>25.718515</td>\n",
       "      <td>-3.600879</td>\n",
       "      <td>10.534488</td>\n",
       "      <td>6.737284</td>\n",
       "      <td>-3.203442</td>\n",
       "      <td>7.077260</td>\n",
       "      <td>18.650831</td>\n",
       "      <td>1.000776</td>\n",
       "      <td>5.506664</td>\n",
       "      <td>...</td>\n",
       "      <td>19.355728</td>\n",
       "      <td>15.286692</td>\n",
       "      <td>17.733111</td>\n",
       "      <td>48.628484</td>\n",
       "      <td>5.166496</td>\n",
       "      <td>7.544442</td>\n",
       "      <td>11.115634</td>\n",
       "      <td>41.425569</td>\n",
       "      <td>11.983671</td>\n",
       "      <td>15.710840</td>\n",
       "    </tr>\n",
       "    <tr>\n",
       "      <th>4</th>\n",
       "      <td>3.624822</td>\n",
       "      <td>33.073500</td>\n",
       "      <td>3.792416</td>\n",
       "      <td>-1.872266</td>\n",
       "      <td>-4.070143</td>\n",
       "      <td>8.643068</td>\n",
       "      <td>6.627151</td>\n",
       "      <td>16.864758</td>\n",
       "      <td>23.654713</td>\n",
       "      <td>-1.843535</td>\n",
       "      <td>...</td>\n",
       "      <td>31.329266</td>\n",
       "      <td>16.592405</td>\n",
       "      <td>16.973815</td>\n",
       "      <td>16.455020</td>\n",
       "      <td>9.877598</td>\n",
       "      <td>14.735752</td>\n",
       "      <td>39.712567</td>\n",
       "      <td>13.270762</td>\n",
       "      <td>15.094665</td>\n",
       "      <td>18.892170</td>\n",
       "    </tr>\n",
       "  </tbody>\n",
       "</table>\n",
       "<p>5 rows × 151 columns</p>\n",
       "</div>"
      ],
      "text/plain": [
       "     acc_x_0    acc_x_1    acc_x_2    acc_x_3    acc_x_4   acc_x_5    acc_x_6  \\\n",
       "0   2.667141   4.017470  22.357056  17.922995  -2.164358  9.749189   3.303998   \n",
       "1  10.745177   3.744532   0.766145  23.956383  -0.454898 -3.481169   3.572149   \n",
       "2  22.031445   3.600880  -0.354342   8.245631  18.641254  4.381389  26.499025   \n",
       "3  10.371682  25.718515  -3.600879  10.534488   6.737284 -3.203442   7.077260   \n",
       "4   3.624822  33.073500   3.792416  -1.872266  -4.070143  8.643068   6.627151   \n",
       "\n",
       "     acc_x_7    acc_x_8    acc_x_9  ...   acc_m_20   acc_m_21   acc_m_22  \\\n",
       "0  -3.275268   5.252879  21.490355  ...  16.021034  28.484670   6.329056   \n",
       "1   7.527370 -10.793061   9.481039  ...   9.027454  32.717137  12.632721   \n",
       "2   4.003105   3.284845   2.231396  ...  38.525506   8.434238  16.840514   \n",
       "3  18.650831   1.000776   5.506664  ...  19.355728  15.286692  17.733111   \n",
       "4  16.864758  23.654713  -1.843535  ...  31.329266  16.592405  16.973815   \n",
       "\n",
       "    acc_m_23   acc_m_24   acc_m_25   acc_m_26   acc_m_27   acc_m_28   acc_m_29  \n",
       "0  36.200348  17.993455  12.013191  17.492539  14.443969  16.981173  12.873582  \n",
       "1  12.662257  12.112275   8.495985  13.047865  15.947642  35.383581   4.619655  \n",
       "2   5.681142  11.807488   9.724319  36.491155  24.877598  14.710831  10.426676  \n",
       "3  48.628484   5.166496   7.544442  11.115634  41.425569  11.983671  15.710840  \n",
       "4  16.455020   9.877598  14.735752  39.712567  13.270762  15.094665  18.892170  \n",
       "\n",
       "[5 rows x 151 columns]"
      ]
     },
     "execution_count": 16,
     "metadata": {},
     "output_type": "execute_result"
    }
   ],
   "source": [
    "raw_data.head()"
   ]
  },
  {
   "cell_type": "markdown",
   "metadata": {
    "heading_collapsed": true
   },
   "source": [
    "# Feature generation"
   ]
  },
  {
   "cell_type": "code",
   "execution_count": 18,
   "metadata": {
    "hidden": true
   },
   "outputs": [],
   "source": [
    "# Step 1: Am\n",
    "am_matrix = np.sqrt(raw_data[x_acc_cols].values**2 + raw_data[y_acc_cols].values**2 + raw_data[z_acc_cols].values**2)"
   ]
  },
  {
   "cell_type": "code",
   "execution_count": 23,
   "metadata": {
    "hidden": true
   },
   "outputs": [
    {
     "data": {
      "text/plain": [
       "(6462, 30)"
      ]
     },
     "execution_count": 23,
     "metadata": {},
     "output_type": "execute_result"
    }
   ],
   "source": [
    "am_matrix.shape"
   ]
  },
  {
   "cell_type": "code",
   "execution_count": 34,
   "metadata": {
    "hidden": true
   },
   "outputs": [],
   "source": [
    "y_readable = raw_data['label']"
   ]
  },
  {
   "cell_type": "code",
   "execution_count": 25,
   "metadata": {
    "hidden": true
   },
   "outputs": [
    {
     "data": {
      "text/plain": [
       "(6462, 4, 30)"
      ]
     },
     "execution_count": 25,
     "metadata": {},
     "output_type": "execute_result"
    }
   ],
   "source": [
    "# time series matrix\n",
    "ts_matrix = np.stack([raw_data[x_acc_cols], raw_data[y_acc_cols], raw_data[z_acc_cols], am_matrix], axis=1)\n",
    "ts_matrix.shape"
   ]
  },
  {
   "cell_type": "code",
   "execution_count": 31,
   "metadata": {
    "hidden": true
   },
   "outputs": [],
   "source": [
    "ts_ax_names = ['x', 'y', 'z', 'm']\n",
    "assert len(ts_ax_names) == ts_matrix.shape[1]"
   ]
  },
  {
   "cell_type": "code",
   "execution_count": 36,
   "metadata": {
    "hidden": true
   },
   "outputs": [
    {
     "data": {
      "text/html": [
       "<div>\n",
       "<style scoped>\n",
       "    .dataframe tbody tr th:only-of-type {\n",
       "        vertical-align: middle;\n",
       "    }\n",
       "\n",
       "    .dataframe tbody tr th {\n",
       "        vertical-align: top;\n",
       "    }\n",
       "\n",
       "    .dataframe thead th {\n",
       "        text-align: right;\n",
       "    }\n",
       "</style>\n",
       "<table border=\"1\" class=\"dataframe\">\n",
       "  <thead>\n",
       "    <tr style=\"text-align: right;\">\n",
       "      <th></th>\n",
       "      <th>mean_x</th>\n",
       "      <th>mean_y</th>\n",
       "      <th>mean_z</th>\n",
       "      <th>mean_m</th>\n",
       "    </tr>\n",
       "  </thead>\n",
       "  <tbody>\n",
       "    <tr>\n",
       "      <th>0</th>\n",
       "      <td>6.337292</td>\n",
       "      <td>8.498299</td>\n",
       "      <td>1.258712</td>\n",
       "      <td>15.624797</td>\n",
       "    </tr>\n",
       "    <tr>\n",
       "      <th>1</th>\n",
       "      <td>4.289133</td>\n",
       "      <td>7.908048</td>\n",
       "      <td>3.308148</td>\n",
       "      <td>16.132500</td>\n",
       "    </tr>\n",
       "    <tr>\n",
       "      <th>2</th>\n",
       "      <td>7.431443</td>\n",
       "      <td>7.043741</td>\n",
       "      <td>0.303425</td>\n",
       "      <td>17.820819</td>\n",
       "    </tr>\n",
       "    <tr>\n",
       "      <th>3</th>\n",
       "      <td>7.091466</td>\n",
       "      <td>8.317776</td>\n",
       "      <td>-1.056960</td>\n",
       "      <td>17.497574</td>\n",
       "    </tr>\n",
       "    <tr>\n",
       "      <th>4</th>\n",
       "      <td>6.021896</td>\n",
       "      <td>7.919062</td>\n",
       "      <td>0.871809</td>\n",
       "      <td>19.284301</td>\n",
       "    </tr>\n",
       "  </tbody>\n",
       "</table>\n",
       "</div>"
      ],
      "text/plain": [
       "     mean_x    mean_y    mean_z     mean_m\n",
       "0  6.337292  8.498299  1.258712  15.624797\n",
       "1  4.289133  7.908048  3.308148  16.132500\n",
       "2  7.431443  7.043741  0.303425  17.820819\n",
       "3  7.091466  8.317776 -1.056960  17.497574\n",
       "4  6.021896  7.919062  0.871809  19.284301"
      ]
     },
     "execution_count": 36,
     "metadata": {},
     "output_type": "execute_result"
    }
   ],
   "source": [
    "mean_features = pd.DataFrame(ts_matrix.mean(axis=2), columns=[f'mean_{ax}' for ax in ts_ax_names])\n",
    "mean_features.head()"
   ]
  },
  {
   "cell_type": "code",
   "execution_count": 39,
   "metadata": {
    "hidden": true
   },
   "outputs": [
    {
     "data": {
      "text/html": [
       "<div>\n",
       "<style scoped>\n",
       "    .dataframe tbody tr th:only-of-type {\n",
       "        vertical-align: middle;\n",
       "    }\n",
       "\n",
       "    .dataframe tbody tr th {\n",
       "        vertical-align: top;\n",
       "    }\n",
       "\n",
       "    .dataframe thead th {\n",
       "        text-align: right;\n",
       "    }\n",
       "</style>\n",
       "<table border=\"1\" class=\"dataframe\">\n",
       "  <thead>\n",
       "    <tr style=\"text-align: right;\">\n",
       "      <th></th>\n",
       "      <th>mean_x</th>\n",
       "      <th>mean_y</th>\n",
       "      <th>mean_z</th>\n",
       "      <th>mean_m</th>\n",
       "    </tr>\n",
       "  </thead>\n",
       "  <tbody>\n",
       "    <tr>\n",
       "      <th>0</th>\n",
       "      <td>25.632324</td>\n",
       "      <td>38.288073</td>\n",
       "      <td>26.216509</td>\n",
       "      <td>32.512064</td>\n",
       "    </tr>\n",
       "    <tr>\n",
       "      <th>1</th>\n",
       "      <td>34.749444</td>\n",
       "      <td>48.520891</td>\n",
       "      <td>25.091234</td>\n",
       "      <td>43.707757</td>\n",
       "    </tr>\n",
       "    <tr>\n",
       "      <th>2</th>\n",
       "      <td>32.953793</td>\n",
       "      <td>43.909660</td>\n",
       "      <td>18.579005</td>\n",
       "      <td>33.142113</td>\n",
       "    </tr>\n",
       "    <tr>\n",
       "      <th>3</th>\n",
       "      <td>36.956896</td>\n",
       "      <td>50.637368</td>\n",
       "      <td>27.705703</td>\n",
       "      <td>43.461989</td>\n",
       "    </tr>\n",
       "    <tr>\n",
       "      <th>4</th>\n",
       "      <td>41.079710</td>\n",
       "      <td>53.141701</td>\n",
       "      <td>25.843013</td>\n",
       "      <td>41.235884</td>\n",
       "    </tr>\n",
       "  </tbody>\n",
       "</table>\n",
       "</div>"
      ],
      "text/plain": [
       "      mean_x     mean_y     mean_z     mean_m\n",
       "0  25.632324  38.288073  26.216509  32.512064\n",
       "1  34.749444  48.520891  25.091234  43.707757\n",
       "2  32.953793  43.909660  18.579005  33.142113\n",
       "3  36.956896  50.637368  27.705703  43.461989\n",
       "4  41.079710  53.141701  25.843013  41.235884"
      ]
     },
     "execution_count": 39,
     "metadata": {},
     "output_type": "execute_result"
    }
   ],
   "source": [
    "minmax_m = ts_matrix.max(axis=2) - ts_matrix.min(axis=2)\n",
    "minmax_features = pd.DataFrame(minmax_m, columns=[f'minmax_{ax}' for ax in ts_ax_names])\n",
    "minmax_features.head()"
   ]
  },
  {
   "cell_type": "code",
   "execution_count": 40,
   "metadata": {
    "hidden": true
   },
   "outputs": [
    {
     "data": {
      "text/html": [
       "<div>\n",
       "<style scoped>\n",
       "    .dataframe tbody tr th:only-of-type {\n",
       "        vertical-align: middle;\n",
       "    }\n",
       "\n",
       "    .dataframe tbody tr th {\n",
       "        vertical-align: top;\n",
       "    }\n",
       "\n",
       "    .dataframe thead th {\n",
       "        text-align: right;\n",
       "    }\n",
       "</style>\n",
       "<table border=\"1\" class=\"dataframe\">\n",
       "  <thead>\n",
       "    <tr style=\"text-align: right;\">\n",
       "      <th></th>\n",
       "      <th>std_x</th>\n",
       "      <th>std_y</th>\n",
       "      <th>std_z</th>\n",
       "      <th>std_m</th>\n",
       "    </tr>\n",
       "  </thead>\n",
       "  <tbody>\n",
       "    <tr>\n",
       "      <th>0</th>\n",
       "      <td>7.564228</td>\n",
       "      <td>10.244186</td>\n",
       "      <td>6.601717</td>\n",
       "      <td>8.693446</td>\n",
       "    </tr>\n",
       "    <tr>\n",
       "      <th>1</th>\n",
       "      <td>7.902334</td>\n",
       "      <td>13.691003</td>\n",
       "      <td>5.786178</td>\n",
       "      <td>10.723361</td>\n",
       "    </tr>\n",
       "    <tr>\n",
       "      <th>2</th>\n",
       "      <td>9.556435</td>\n",
       "      <td>13.968923</td>\n",
       "      <td>4.729323</td>\n",
       "      <td>9.806827</td>\n",
       "    </tr>\n",
       "    <tr>\n",
       "      <th>3</th>\n",
       "      <td>9.365268</td>\n",
       "      <td>14.103110</td>\n",
       "      <td>5.036472</td>\n",
       "      <td>11.242702</td>\n",
       "    </tr>\n",
       "    <tr>\n",
       "      <th>4</th>\n",
       "      <td>10.586884</td>\n",
       "      <td>15.815222</td>\n",
       "      <td>5.179406</td>\n",
       "      <td>10.811114</td>\n",
       "    </tr>\n",
       "  </tbody>\n",
       "</table>\n",
       "</div>"
      ],
      "text/plain": [
       "       std_x      std_y     std_z      std_m\n",
       "0   7.564228  10.244186  6.601717   8.693446\n",
       "1   7.902334  13.691003  5.786178  10.723361\n",
       "2   9.556435  13.968923  4.729323   9.806827\n",
       "3   9.365268  14.103110  5.036472  11.242702\n",
       "4  10.586884  15.815222  5.179406  10.811114"
      ]
     },
     "execution_count": 40,
     "metadata": {},
     "output_type": "execute_result"
    }
   ],
   "source": [
    "std_m = ts_matrix.std(axis=2)\n",
    "std_features = pd.DataFrame(std_m, columns=[f'std_{ax}' for ax in ts_ax_names])\n",
    "std_features.head()"
   ]
  },
  {
   "cell_type": "code",
   "execution_count": 69,
   "metadata": {
    "hidden": true
   },
   "outputs": [
    {
     "data": {
      "text/html": [
       "<div>\n",
       "<style scoped>\n",
       "    .dataframe tbody tr th:only-of-type {\n",
       "        vertical-align: middle;\n",
       "    }\n",
       "\n",
       "    .dataframe tbody tr th {\n",
       "        vertical-align: top;\n",
       "    }\n",
       "\n",
       "    .dataframe thead th {\n",
       "        text-align: right;\n",
       "    }\n",
       "</style>\n",
       "<table border=\"1\" class=\"dataframe\">\n",
       "  <thead>\n",
       "    <tr style=\"text-align: right;\">\n",
       "      <th></th>\n",
       "      <th>min_x</th>\n",
       "      <th>min_y</th>\n",
       "      <th>min_z</th>\n",
       "      <th>min_m</th>\n",
       "    </tr>\n",
       "  </thead>\n",
       "  <tbody>\n",
       "    <tr>\n",
       "      <th>0</th>\n",
       "      <td>-3.275268</td>\n",
       "      <td>-8.762778</td>\n",
       "      <td>-9.548077</td>\n",
       "      <td>4.968120</td>\n",
       "    </tr>\n",
       "    <tr>\n",
       "      <th>1</th>\n",
       "      <td>-10.793061</td>\n",
       "      <td>-12.622231</td>\n",
       "      <td>-3.945644</td>\n",
       "      <td>1.000135</td>\n",
       "    </tr>\n",
       "    <tr>\n",
       "      <th>2</th>\n",
       "      <td>-4.697424</td>\n",
       "      <td>-16.749836</td>\n",
       "      <td>-7.254431</td>\n",
       "      <td>5.681142</td>\n",
       "    </tr>\n",
       "    <tr>\n",
       "      <th>3</th>\n",
       "      <td>-7.105990</td>\n",
       "      <td>-13.306973</td>\n",
       "      <td>-15.318103</td>\n",
       "      <td>5.166496</td>\n",
       "    </tr>\n",
       "    <tr>\n",
       "      <th>4</th>\n",
       "      <td>-8.006210</td>\n",
       "      <td>-19.938911</td>\n",
       "      <td>-16.376339</td>\n",
       "      <td>5.874076</td>\n",
       "    </tr>\n",
       "  </tbody>\n",
       "</table>\n",
       "</div>"
      ],
      "text/plain": [
       "       min_x      min_y      min_z     min_m\n",
       "0  -3.275268  -8.762778  -9.548077  4.968120\n",
       "1 -10.793061 -12.622231  -3.945644  1.000135\n",
       "2  -4.697424 -16.749836  -7.254431  5.681142\n",
       "3  -7.105990 -13.306973 -15.318103  5.166496\n",
       "4  -8.006210 -19.938911 -16.376339  5.874076"
      ]
     },
     "execution_count": 69,
     "metadata": {},
     "output_type": "execute_result"
    }
   ],
   "source": [
    "min_m = ts_matrix.min(axis=2)\n",
    "min_features = pd.DataFrame(min_m, columns=[f'min_{ax}' for ax in ts_ax_names])\n",
    "min_features.head()"
   ]
  },
  {
   "cell_type": "code",
   "execution_count": 47,
   "metadata": {
    "hidden": true
   },
   "outputs": [
    {
     "data": {
      "text/html": [
       "<div>\n",
       "<style scoped>\n",
       "    .dataframe tbody tr th:only-of-type {\n",
       "        vertical-align: middle;\n",
       "    }\n",
       "\n",
       "    .dataframe tbody tr th {\n",
       "        vertical-align: top;\n",
       "    }\n",
       "\n",
       "    .dataframe thead th {\n",
       "        text-align: right;\n",
       "    }\n",
       "</style>\n",
       "<table border=\"1\" class=\"dataframe\">\n",
       "  <thead>\n",
       "    <tr style=\"text-align: right;\">\n",
       "      <th></th>\n",
       "      <th>rms_x</th>\n",
       "      <th>rms_y</th>\n",
       "      <th>rms_z</th>\n",
       "      <th>rms_m</th>\n",
       "    </tr>\n",
       "  </thead>\n",
       "  <tbody>\n",
       "    <tr>\n",
       "      <th>0</th>\n",
       "      <td>9.868071</td>\n",
       "      <td>13.310313</td>\n",
       "      <td>6.720642</td>\n",
       "      <td>17.880444</td>\n",
       "    </tr>\n",
       "    <tr>\n",
       "      <th>1</th>\n",
       "      <td>8.991304</td>\n",
       "      <td>15.810781</td>\n",
       "      <td>6.665111</td>\n",
       "      <td>19.371320</td>\n",
       "    </tr>\n",
       "    <tr>\n",
       "      <th>2</th>\n",
       "      <td>12.105857</td>\n",
       "      <td>15.644332</td>\n",
       "      <td>4.739047</td>\n",
       "      <td>20.340980</td>\n",
       "    </tr>\n",
       "    <tr>\n",
       "      <th>3</th>\n",
       "      <td>11.747218</td>\n",
       "      <td>16.373243</td>\n",
       "      <td>5.146185</td>\n",
       "      <td>20.798160</td>\n",
       "    </tr>\n",
       "    <tr>\n",
       "      <th>4</th>\n",
       "      <td>12.179710</td>\n",
       "      <td>17.687080</td>\n",
       "      <td>5.252266</td>\n",
       "      <td>22.108018</td>\n",
       "    </tr>\n",
       "  </tbody>\n",
       "</table>\n",
       "</div>"
      ],
      "text/plain": [
       "       rms_x      rms_y     rms_z      rms_m\n",
       "0   9.868071  13.310313  6.720642  17.880444\n",
       "1   8.991304  15.810781  6.665111  19.371320\n",
       "2  12.105857  15.644332  4.739047  20.340980\n",
       "3  11.747218  16.373243  5.146185  20.798160\n",
       "4  12.179710  17.687080  5.252266  22.108018"
      ]
     },
     "execution_count": 47,
     "metadata": {},
     "output_type": "execute_result"
    }
   ],
   "source": [
    "rms_m = np.sqrt(np.square(ts_matrix).mean(axis=2))\n",
    "rms_features = pd.DataFrame(rms_m, columns=[f'rms_{ax}' for ax in ts_ax_names])\n",
    "rms_features.head()"
   ]
  },
  {
   "cell_type": "code",
   "execution_count": null,
   "metadata": {
    "hidden": true
   },
   "outputs": [],
   "source": [
    "ix = np.arange(len(ts_matrix))\n",
    "iy = ix + len(ts_matrix)"
   ]
  },
  {
   "cell_type": "code",
   "execution_count": 65,
   "metadata": {
    "hidden": true
   },
   "outputs": [],
   "source": [
    "corr_xy = np.corrcoef(ts_matrix[:, 0, :], ts_matrix[:, 1, :])[ix,iy]\n",
    "corr_yz = np.corrcoef(ts_matrix[:, 1, :], ts_matrix[:, 2, :])[ix,iy]\n",
    "corr_xz = np.corrcoef(ts_matrix[:, 0, :], ts_matrix[:, 2, :])[ix,iy]"
   ]
  },
  {
   "cell_type": "code",
   "execution_count": 68,
   "metadata": {
    "hidden": true
   },
   "outputs": [
    {
     "data": {
      "text/html": [
       "<div>\n",
       "<style scoped>\n",
       "    .dataframe tbody tr th:only-of-type {\n",
       "        vertical-align: middle;\n",
       "    }\n",
       "\n",
       "    .dataframe tbody tr th {\n",
       "        vertical-align: top;\n",
       "    }\n",
       "\n",
       "    .dataframe thead th {\n",
       "        text-align: right;\n",
       "    }\n",
       "</style>\n",
       "<table border=\"1\" class=\"dataframe\">\n",
       "  <thead>\n",
       "    <tr style=\"text-align: right;\">\n",
       "      <th></th>\n",
       "      <th>corr_xy</th>\n",
       "      <th>corr_yz</th>\n",
       "      <th>corr_xz</th>\n",
       "    </tr>\n",
       "  </thead>\n",
       "  <tbody>\n",
       "    <tr>\n",
       "      <th>0</th>\n",
       "      <td>0.430846</td>\n",
       "      <td>0.668644</td>\n",
       "      <td>0.232428</td>\n",
       "    </tr>\n",
       "    <tr>\n",
       "      <th>1</th>\n",
       "      <td>0.465562</td>\n",
       "      <td>0.359810</td>\n",
       "      <td>0.123989</td>\n",
       "    </tr>\n",
       "    <tr>\n",
       "      <th>2</th>\n",
       "      <td>0.592725</td>\n",
       "      <td>0.446544</td>\n",
       "      <td>0.272770</td>\n",
       "    </tr>\n",
       "    <tr>\n",
       "      <th>3</th>\n",
       "      <td>0.555891</td>\n",
       "      <td>0.161760</td>\n",
       "      <td>-0.146196</td>\n",
       "    </tr>\n",
       "    <tr>\n",
       "      <th>4</th>\n",
       "      <td>0.574375</td>\n",
       "      <td>0.141424</td>\n",
       "      <td>-0.355399</td>\n",
       "    </tr>\n",
       "  </tbody>\n",
       "</table>\n",
       "</div>"
      ],
      "text/plain": [
       "    corr_xy   corr_yz   corr_xz\n",
       "0  0.430846  0.668644  0.232428\n",
       "1  0.465562  0.359810  0.123989\n",
       "2  0.592725  0.446544  0.272770\n",
       "3  0.555891  0.161760 -0.146196\n",
       "4  0.574375  0.141424 -0.355399"
      ]
     },
     "execution_count": 68,
     "metadata": {},
     "output_type": "execute_result"
    }
   ],
   "source": [
    "corr_features = pd.DataFrame({'corr_xy': corr_xy, 'corr_yz': corr_yz, 'corr_xz': corr_xz})\n",
    "corr_features.head()"
   ]
  },
  {
   "cell_type": "markdown",
   "metadata": {},
   "source": [
    "# Clean feature extraction"
   ]
  },
  {
   "cell_type": "code",
   "execution_count": 75,
   "metadata": {},
   "outputs": [],
   "source": [
    "def extract_features(x_part, y_part, z_part):\n",
    "    magnitude_part = np.sqrt(x_part**2 + y_part**2 + z_part**2)\n",
    "    ts_matrix = np.stack([x_part, y_part, z_part, magnitude_part], axis=1)\n",
    "    ts_ax_names = ['x', 'y', 'z', 'm']\n",
    "    assert len(ts_ax_names) == ts_matrix.shape[1]\n",
    "    \n",
    "    mean_features = pd.DataFrame(ts_matrix.mean(axis=2), columns=[f'mean_{ax}' for ax in ts_ax_names])\n",
    "    \n",
    "    minmax_m = ts_matrix.max(axis=2) - ts_matrix.min(axis=2)\n",
    "    minmax_features = pd.DataFrame(minmax_m, columns=[f'minmax_{ax}' for ax in ts_ax_names])\n",
    "    \n",
    "    std_m = ts_matrix.std(axis=2)\n",
    "    std_features = pd.DataFrame(std_m, columns=[f'std_{ax}' for ax in ts_ax_names])\n",
    "    \n",
    "    min_m = ts_matrix.min(axis=2)\n",
    "    min_features = pd.DataFrame(min_m, columns=[f'min_{ax}' for ax in ts_ax_names])\n",
    "    \n",
    "    rms_m = np.sqrt(np.square(ts_matrix).mean(axis=2))\n",
    "    rms_features = pd.DataFrame(rms_m, columns=[f'rms_{ax}' for ax in ts_ax_names])\n",
    "    \n",
    "    ix = np.arange(len(ts_matrix))\n",
    "    iy = ix + len(ts_matrix)\n",
    "    corr_xy = np.corrcoef(ts_matrix[:, 0, :], ts_matrix[:, 1, :])[ix,iy]\n",
    "    corr_yz = np.corrcoef(ts_matrix[:, 1, :], ts_matrix[:, 2, :])[ix,iy]\n",
    "    corr_xz = np.corrcoef(ts_matrix[:, 0, :], ts_matrix[:, 2, :])[ix,iy]\n",
    "    corr_features = pd.DataFrame({'corr_xy': corr_xy, 'corr_yz': corr_yz, 'corr_xz': corr_xz})\n",
    "    \n",
    "    features = pd.concat([mean_features, minmax_features, min_features, rms_features, corr_features], axis=1)\n",
    "    return features"
   ]
  },
  {
   "cell_type": "code",
   "execution_count": 76,
   "metadata": {},
   "outputs": [],
   "source": [
    "feature_df = extract_features(\n",
    "    raw_data[x_acc_cols].values,\n",
    "    raw_data[y_acc_cols].values,\n",
    "    raw_data[z_acc_cols].values)"
   ]
  },
  {
   "cell_type": "code",
   "execution_count": 78,
   "metadata": {},
   "outputs": [
    {
     "data": {
      "text/plain": [
       "(6462, 19)"
      ]
     },
     "execution_count": 78,
     "metadata": {},
     "output_type": "execute_result"
    }
   ],
   "source": [
    "feature_df.shape"
   ]
  },
  {
   "cell_type": "code",
   "execution_count": 83,
   "metadata": {},
   "outputs": [
    {
     "data": {
      "text/plain": [
       "LabelEncoder()"
      ]
     },
     "execution_count": 83,
     "metadata": {},
     "output_type": "execute_result"
    }
   ],
   "source": [
    "from sklearn import preprocessing\n",
    "target_le = preprocessing.LabelEncoder()\n",
    "target_le.fit(classes)"
   ]
  },
  {
   "cell_type": "code",
   "execution_count": 84,
   "metadata": {},
   "outputs": [],
   "source": [
    "feature_df['label'] = target_le.transform(raw_data['label'])"
   ]
  },
  {
   "cell_type": "code",
   "execution_count": 85,
   "metadata": {},
   "outputs": [
    {
     "data": {
      "text/plain": [
       "(6462, 20)"
      ]
     },
     "execution_count": 85,
     "metadata": {},
     "output_type": "execute_result"
    }
   ],
   "source": [
    "feature_df.shape"
   ]
  },
  {
   "cell_type": "code",
   "execution_count": 86,
   "metadata": {},
   "outputs": [],
   "source": [
    "from sklearn import svm\n",
    "from sklearn import linear_model\n",
    "from sklearn.metrics import f1_score, confusion_matrix, multilabel_confusion_matrix, accuracy_score"
   ]
  },
  {
   "cell_type": "code",
   "execution_count": 161,
   "metadata": {},
   "outputs": [
    {
     "data": {
      "text/plain": [
       "0.3333333333333333"
      ]
     },
     "execution_count": 161,
     "metadata": {},
     "output_type": "execute_result"
    }
   ],
   "source": [
    "f1_score([1, 2, 3], [3, 2, 1], average=None).mean()"
   ]
  },
  {
   "cell_type": "code",
   "execution_count": 167,
   "metadata": {},
   "outputs": [
    {
     "data": {
      "text/plain": [
       "array([[1.        , 0.        , 0.        , 0.        ],\n",
       "       [0.        , 1.        , 0.        , 0.        ],\n",
       "       [0.        , 0.        , 0.78787879, 0.21212121],\n",
       "       [0.        , 0.        , 0.00540541, 0.99459459]])"
      ]
     },
     "execution_count": 167,
     "metadata": {},
     "output_type": "execute_result"
    }
   ],
   "source": []
  },
  {
   "cell_type": "code",
   "execution_count": 177,
   "metadata": {},
   "outputs": [],
   "source": [
    "numerical_metrics = ['accuracy', 'f1_macro', 'f1_min']\n",
    "\n",
    "def evaluate_performance(y_true, y_pred):\n",
    "    metrics = {\n",
    "        'accuracy': accuracy_score(y_true, y_pred),\n",
    "        'f1_macro': f1_score(y_true, y_pred, average='macro'),\n",
    "        'f1_min': f1_score(y_true, y_pred, average=None).min(),\n",
    "        'CM': confusion_matrix(y_valid, y_pred, normalize='true'),\n",
    "        'CM_not_normalized': confusion_matrix(y_valid, y_pred),\n",
    "    }\n",
    "    \n",
    "    return metrics"
   ]
  },
  {
   "cell_type": "code",
   "execution_count": 175,
   "metadata": {},
   "outputs": [],
   "source": []
  },
  {
   "cell_type": "code",
   "execution_count": 190,
   "metadata": {},
   "outputs": [],
   "source": []
  },
  {
   "cell_type": "code",
   "execution_count": 193,
   "metadata": {},
   "outputs": [
    {
     "name": "stdout",
     "output_type": "stream",
     "text": [
      "        accuracy    f1_macro     f1_min\n",
      "mean    0.978489    0.862823    0.49035\n",
      "std   0.00253573  0.00561759  0.0221213\n"
     ]
    }
   ],
   "source": []
  },
  {
   "cell_type": "code",
   "execution_count": null,
   "metadata": {},
   "outputs": [],
   "source": [
    "print_df = "
   ]
  },
  {
   "cell_type": "code",
   "execution_count": 178,
   "metadata": {},
   "outputs": [
    {
     "data": {
      "text/plain": [
       "accuracy    0.978489\n",
       "f1_macro    0.862823\n",
       "f1_min       0.49035\n",
       "dtype: object"
      ]
     },
     "execution_count": 178,
     "metadata": {},
     "output_type": "execute_result"
    }
   ],
   "source": [
    "df.mean()"
   ]
  },
  {
   "cell_type": "code",
   "execution_count": 210,
   "metadata": {},
   "outputs": [
    {
     "data": {
      "text/plain": [
       "array([[1.        , 0.        , 0.        , 0.        ],\n",
       "       [0.00176082, 0.99823918, 0.        , 0.        ],\n",
       "       [0.        , 0.        , 0.38787879, 0.61212121],\n",
       "       [0.        , 0.        , 0.0172973 , 0.9827027 ]])"
      ]
     },
     "execution_count": 210,
     "metadata": {},
     "output_type": "execute_result"
    }
   ],
   "source": [
    "# C_ij - i is true, predicted in j\n",
    "cm = df['CM'].values.mean()\n",
    "cm"
   ]
  },
  {
   "cell_type": "code",
   "execution_count": 241,
   "metadata": {},
   "outputs": [],
   "source": [
    "def plot_confusion_matrix(cm):\n",
    "    plt.figure(figsize=(6,6))\n",
    "    sns.set(font_scale=1.3)\n",
    "    labels_ordered = target_encoder.inverse_transform(range(4))\n",
    "    sns.heatmap(cm, annot=True, fmt='.1%', cmap='Blues', cbar=False, xticklabels=labels_ordered, yticklabels=labels_ordered)\n",
    "    plt.xlabel('predicted')\n",
    "    plt.ylabel('actual');"
   ]
  },
  {
   "cell_type": "code",
   "execution_count": null,
   "metadata": {},
   "outputs": [],
   "source": []
  },
  {
   "cell_type": "code",
   "execution_count": 242,
   "metadata": {},
   "outputs": [],
   "source": [
    "def print_cv_metrics(cv_metrics):\n",
    "    df = pd.DataFrame(cv_metrics)\n",
    "    print_df = pd.concat([df.mean()[numerical_metrics], df.std()[numerical_metrics]], axis=1)\n",
    "    print_df.columns = ['mean', 'std']\n",
    "    print(print_df.T)\n",
    "    cm = df['CM'].values.mean()\n",
    "    plot_confusion_matrix(cm)"
   ]
  },
  {
   "cell_type": "code",
   "execution_count": 244,
   "metadata": {},
   "outputs": [
    {
     "name": "stdout",
     "output_type": "stream",
     "text": [
      "        accuracy    f1_macro     f1_min\n",
      "mean    0.978489    0.862823    0.49035\n",
      "std   0.00253573  0.00561759  0.0221213\n"
     ]
    },
    {
     "data": {
      "image/png": "[encoded data removed]",
      "text/plain": [
       "<Figure size 432x432 with 1 Axes>"
      ]
     },
     "metadata": {},
     "output_type": "display_data"
    }
   ],
   "source": [
    "print_cv_metrics(cv_metrics)"
   ]
  },
  {
   "cell_type": "code",
   "execution_count": 171,
   "metadata": {},
   "outputs": [
    {
     "name": "stdout",
     "output_type": "stream",
     "text": [
      "[[208   0   0   0]\n",
      " [  3 679   0   0]\n",
      " [  0   0  13  20]\n",
      " [  0   0   5 365]]\n",
      "[[208   0   0   0]\n",
      " [  0 682   0   0]\n",
      " [  0   0  11  22]\n",
      " [  0   0   2 368]]\n",
      "[[207   0   0   0]\n",
      " [  0 682   0   0]\n",
      " [  0   0  12  21]\n",
      " [  0   0   6 364]]\n",
      "[[208   0   0   0]\n",
      " [  2 679   0   0]\n",
      " [  0   0  14  19]\n",
      " [  0   0  12 358]]\n",
      "[[208   0   0   0]\n",
      " [  1 680   0   0]\n",
      " [  0   0  14  19]\n",
      " [  0   0   7 363]]\n"
     ]
    }
   ],
   "source": [
    "X = feature_df[['mean_x', 'mean_y', 'mean_z']]\n",
    "y = feature_df['label']\n",
    "cv_metrics = []\n",
    "\n",
    "for train_ix, valid_ix in kfold.split(X, y):\n",
    "    X_train, X_valid = X.loc[train_ix], X.loc[valid_ix]\n",
    "    y_train, y_valid = y.loc[train_ix], y.loc[valid_ix]\n",
    "    \n",
    "    cls = linear_model.LogisticRegression(max_iter=2_000)\n",
    "    cls.fit(X_train, y_train)\n",
    "    y_pred = cls.predict(X_valid)\n",
    "    \n",
    "    fold_metrics = evaluate_performance(y_valid, y_pred)\n",
    "    cv_metrics.append(fold_metrics)\n",
    "    print(fold_metrics['CM_not_normalized'])\n"
   ]
  },
  {
   "cell_type": "code",
   "execution_count": null,
   "metadata": {},
   "outputs": [],
   "source": []
  },
  {
   "cell_type": "code",
   "execution_count": 91,
   "metadata": {},
   "outputs": [
    {
     "data": {
      "text/plain": [
       "['mean_x',\n",
       " 'mean_y',\n",
       " 'mean_z',\n",
       " 'mean_m',\n",
       " 'minmax_x',\n",
       " 'minmax_y',\n",
       " 'minmax_z',\n",
       " 'minmax_m',\n",
       " 'min_x',\n",
       " 'min_y',\n",
       " 'min_z',\n",
       " 'min_m',\n",
       " 'rms_x',\n",
       " 'rms_y',\n",
       " 'rms_z',\n",
       " 'rms_m',\n",
       " 'corr_xy',\n",
       " 'corr_yz',\n",
       " 'corr_xz']"
      ]
     },
     "execution_count": 91,
     "metadata": {},
     "output_type": "execute_result"
    }
   ],
   "source": [
    "all_features = [c for c in feature_df.columns if c != 'label']\n",
    "all_features"
   ]
  },
  {
   "cell_type": "code",
   "execution_count": 92,
   "metadata": {},
   "outputs": [
    {
     "name": "stdout",
     "output_type": "stream",
     "text": [
      "[[208   0   0   0]\n",
      " [  0 682   0   0]\n",
      " [  0   0  23  10]\n",
      " [  0   0   2 368]]\n",
      "[[208   0   0   0]\n",
      " [  0 682   0   0]\n",
      " [  0   0  29   4]\n",
      " [  0   0   9 361]]\n",
      "[[207   0   0   0]\n",
      " [  0 682   0   0]\n",
      " [  0   0  26   7]\n",
      " [  0   0   3 367]]\n",
      "[[208   0   0   0]\n",
      " [  0 681   0   0]\n",
      " [  0   0  23  10]\n",
      " [  0   0   4 366]]\n",
      "[[208   0   0   0]\n",
      " [  0 681   0   0]\n",
      " [  0   0  29   4]\n",
      " [  0   0   2 368]]\n",
      "Accuracy mean: 0.99, std: 0.0\n"
     ]
    }
   ],
   "source": [
    "X = feature_df[all_features]\n",
    "y = feature_df['label']\n",
    "f_scores = []\n",
    "\n",
    "for train_ix, valid_ix in kfold.split(X, y):\n",
    "    X_train, X_valid = X.loc[train_ix], X.loc[valid_ix]\n",
    "    y_train, y_valid = y.loc[train_ix], y.loc[valid_ix]\n",
    "    \n",
    "    cls = linear_model.LogisticRegression(max_iter=2_000)\n",
    "    cls.fit(X_train, y_train)\n",
    "    y_pred = cls.predict(X_valid)\n",
    "    f_scores.append(accuracy_score(y_valid, y_pred))\n",
    "    print(confusion_matrix(y_valid, y_pred))\n",
    "    \n",
    "print(f'Accuracy mean: {round(np.mean(f_scores), 2)}, std: {round(np.std(f_scores), 2)}')"
   ]
  },
  {
   "cell_type": "code",
   "execution_count": 147,
   "metadata": {},
   "outputs": [],
   "source": [
    "from sklearn.preprocessing import PolynomialFeatures, StandardScaler\n",
    "\n",
    "\"\"\"Инициализируем класс, который выполняет преобразование\"\"\"\n",
    "transform = PolynomialFeatures(2, include_bias=False)"
   ]
  },
  {
   "cell_type": "code",
   "execution_count": 148,
   "metadata": {},
   "outputs": [
    {
     "name": "stdout",
     "output_type": "stream",
     "text": [
      "[[208   0   0   0]\n",
      " [  0 682   0   0]\n",
      " [  0   0  28   5]\n",
      " [  0   0   1 369]]\n",
      "[[208   0   0   0]\n",
      " [  0 682   0   0]\n",
      " [  0   0  33   0]\n",
      " [  0   0   3 367]]\n",
      "[[207   0   0   0]\n",
      " [  0 682   0   0]\n",
      " [  0   0  31   2]\n",
      " [  0   0   1 369]]\n",
      "[[208   0   0   0]\n",
      " [  0 681   0   0]\n",
      " [  0   0  29   4]\n",
      " [  0   0   0 370]]\n",
      "[[208   0   0   0]\n",
      " [  0 681   0   0]\n",
      " [  0   0  32   1]\n",
      " [  0   0   0 370]]\n",
      "Accuracy mean: 1.0, std: 0.0\n"
     ]
    }
   ],
   "source": [
    "X = transform.fit_transform(feature_df[all_features])\n",
    "y = feature_df['label'].values\n",
    "f_scores = []\n",
    "\n",
    "for train_ix, valid_ix in kfold.split(X, y):\n",
    "    X_train, X_valid = X[train_ix], X[valid_ix]\n",
    "    y_train, y_valid = y[train_ix], y[valid_ix]\n",
    "    \n",
    "    scaler = StandardScaler()\n",
    "    X_train = scaler.fit_transform(X_train)\n",
    "    X_valid = scaler.transform(X_valid)\n",
    "    cls = linear_model.LogisticRegression(max_iter=2_000)\n",
    "    cls.fit(X_train, y_train)\n",
    "    y_pred = cls.predict(X_valid)\n",
    "    f_scores.append(accuracy_score(y_valid, y_pred))\n",
    "    print(confusion_matrix(y_valid, y_pred))\n",
    "    \n",
    "print(f'Accuracy mean: {round(np.mean(f_scores), 2)}, std: {round(np.std(f_scores), 2)}')"
   ]
  },
  {
   "cell_type": "code",
   "execution_count": 149,
   "metadata": {},
   "outputs": [
    {
     "data": {
      "text/plain": [
       "(5170, 209)"
      ]
     },
     "execution_count": 149,
     "metadata": {},
     "output_type": "execute_result"
    }
   ],
   "source": [
    "X_train.shape"
   ]
  },
  {
   "cell_type": "code",
   "execution_count": 150,
   "metadata": {},
   "outputs": [
    {
     "data": {
      "text/plain": [
       "array([[208,   0,   0,   0],\n",
       "       [  0, 681,   0,   0],\n",
       "       [  0,   0,  26,   2],\n",
       "       [  0,   0,   7, 368]])"
      ]
     },
     "execution_count": 150,
     "metadata": {},
     "output_type": "execute_result"
    }
   ],
   "source": [
    "scaler = StandardScaler()\n",
    "X_train = scaler.fit_transform(X_train)\n",
    "X_valid = scaler.transform(X_valid)\n",
    "cls = linear_model.LogisticRegression(solver='liblinear', penalty='l1', C=.1)\n",
    "cls.fit(X_train, y_train)\n",
    "y_pred = cls.predict(X_valid)\n",
    "confusion_matrix(y_pred, y_valid)"
   ]
  },
  {
   "cell_type": "code",
   "execution_count": 151,
   "metadata": {},
   "outputs": [
    {
     "data": {
      "text/plain": [
       "(4, 209)"
      ]
     },
     "execution_count": 151,
     "metadata": {},
     "output_type": "execute_result"
    }
   ],
   "source": [
    "cls.coef_.shape"
   ]
  },
  {
   "cell_type": "code",
   "execution_count": 154,
   "metadata": {
    "scrolled": false
   },
   "outputs": [
    {
     "data": {
      "text/plain": [
       "172"
      ]
     },
     "execution_count": 154,
     "metadata": {},
     "output_type": "execute_result"
    }
   ],
   "source": [
    "len([(feature_name, score) for feature_name, score in list(zip(transform.get_feature_names(all_features), cls.coef_.min(axis=0))) if np.abs(score) < 1e-5])"
   ]
  },
  {
   "cell_type": "code",
   "execution_count": 155,
   "metadata": {},
   "outputs": [
    {
     "data": {
      "text/plain": [
       "37"
      ]
     },
     "execution_count": 155,
     "metadata": {},
     "output_type": "execute_result"
    }
   ],
   "source": [
    "209 - 172"
   ]
  },
  {
   "cell_type": "code",
   "execution_count": 112,
   "metadata": {},
   "outputs": [],
   "source": [
    "scaler = StandardScaler()\n",
    "X_train = scaler.fit_transform(X_train)\n",
    "X_valid = scaler.transform(X_valid)\n",
    "cls = linear_model.LogisticRegression(solver='liblinear', penalty='l1')\n",
    "cls.fit(X_train, y_train)\n"
   ]
  },
  {
   "cell_type": "code",
   "execution_count": 113,
   "metadata": {},
   "outputs": [
    {
     "data": {
      "text/plain": [
       "array([[208,   0,   0,   0],\n",
       "       [  0, 681,   0,   0],\n",
       "       [  0,   0,  29,   4],\n",
       "       [  0,   0,   4, 366]])"
      ]
     },
     "execution_count": 113,
     "metadata": {},
     "output_type": "execute_result"
    }
   ],
   "source": [
    "confusion_matrix(y_pred, y_valid)"
   ]
  },
  {
   "cell_type": "code",
   "execution_count": 115,
   "metadata": {},
   "outputs": [
    {
     "data": {
      "text/plain": [
       "(5170, 19)"
      ]
     },
     "execution_count": 115,
     "metadata": {},
     "output_type": "execute_result"
    }
   ],
   "source": [
    "X_train.shape"
   ]
  },
  {
   "cell_type": "code",
   "execution_count": 119,
   "metadata": {},
   "outputs": [
    {
     "data": {
      "text/plain": [
       "(4, 19)"
      ]
     },
     "execution_count": 119,
     "metadata": {},
     "output_type": "execute_result"
    }
   ],
   "source": [
    "cls.coef_.shape"
   ]
  },
  {
   "cell_type": "code",
   "execution_count": 120,
   "metadata": {},
   "outputs": [
    {
     "data": {
      "text/plain": [
       "array([-5.44600762, -9.75175713, -5.3422712 , -0.34121835, -1.60088442,\n",
       "       -1.76696115, -1.01441776, -0.95303517, -0.49234904, -0.83559681,\n",
       "       -0.8449462 , -1.73906215, -2.96130259, -1.11790575, -1.7654351 ,\n",
       "       -6.18761231, -1.31172606, -1.24290891, -0.21264137])"
      ]
     },
     "execution_count": 120,
     "metadata": {},
     "output_type": "execute_result"
    }
   ],
   "source": []
  },
  {
   "cell_type": "code",
   "execution_count": 121,
   "metadata": {},
   "outputs": [
    {
     "data": {
      "text/plain": [
       "[('mean_x', -5.4460076176709205),\n",
       " ('mean_y', -9.751757125669487),\n",
       " ('mean_z', -5.342271200759968),\n",
       " ('mean_m', -0.3412183516395128),\n",
       " ('minmax_x', -1.600884418050687),\n",
       " ('minmax_y', -1.7669611510845873),\n",
       " ('minmax_z', -1.0144177592798787),\n",
       " ('minmax_m', -0.9530351712833459),\n",
       " ('min_x', -0.4923490412471908),\n",
       " ('min_y', -0.8355968089499377),\n",
       " ('min_z', -0.8449462005092604),\n",
       " ('min_m', -1.7390621510442512),\n",
       " ('rms_x', -2.9613025865129377),\n",
       " ('rms_y', -1.117905752189049),\n",
       " ('rms_z', -1.765435100250287),\n",
       " ('rms_m', -6.187612308092692),\n",
       " ('corr_xy', -1.311726057945506),\n",
       " ('corr_yz', -1.2429089140381602),\n",
       " ('corr_xz', -0.21264137345022988)]"
      ]
     },
     "execution_count": 121,
     "metadata": {},
     "output_type": "execute_result"
    }
   ],
   "source": [
    "list(zip(all_features, ))"
   ]
  },
  {
   "cell_type": "code",
   "execution_count": null,
   "metadata": {},
   "outputs": [],
   "source": []
  },
  {
   "cell_type": "code",
   "execution_count": 93,
   "metadata": {},
   "outputs": [],
   "source": [
    "from sklearn.ensemble import RandomForestClassifier"
   ]
  },
  {
   "cell_type": "code",
   "execution_count": 94,
   "metadata": {},
   "outputs": [
    {
     "name": "stdout",
     "output_type": "stream",
     "text": [
      "[[208   0   0   0]\n",
      " [  0 682   0   0]\n",
      " [  0   0  31   2]\n",
      " [  0   0   0 370]]\n",
      "[[208   0   0   0]\n",
      " [  0 682   0   0]\n",
      " [  0   0  33   0]\n",
      " [  0   0   0 370]]\n",
      "[[207   0   0   0]\n",
      " [  0 682   0   0]\n",
      " [  0   0  30   3]\n",
      " [  0   0   0 370]]\n",
      "[[208   0   0   0]\n",
      " [  0 681   0   0]\n",
      " [  0   0  33   0]\n",
      " [  0   0   0 370]]\n",
      "[[208   0   0   0]\n",
      " [  0 681   0   0]\n",
      " [  0   0  30   3]\n",
      " [  0   0   0 370]]\n",
      "Accuracy mean: 1.0, std: 0.0\n"
     ]
    }
   ],
   "source": [
    "X = feature_df[all_features]\n",
    "y = feature_df['label']\n",
    "f_scores = []\n",
    "\n",
    "for train_ix, valid_ix in kfold.split(X, y):\n",
    "    X_train, X_valid = X.loc[train_ix], X.loc[valid_ix]\n",
    "    y_train, y_valid = y.loc[train_ix], y.loc[valid_ix]\n",
    "    \n",
    "    cls = RandomForestClassifier()\n",
    "    cls.fit(X_train, y_train)\n",
    "    y_pred = cls.predict(X_valid)\n",
    "    f_scores.append(accuracy_score(y_valid, y_pred))\n",
    "    print(confusion_matrix(y_valid, y_pred))\n",
    "    \n",
    "print(f'Accuracy mean: {round(np.mean(f_scores), 2)}, std: {round(np.std(f_scores), 2)}')"
   ]
  },
  {
   "cell_type": "code",
   "execution_count": null,
   "metadata": {},
   "outputs": [],
   "source": []
  },
  {
   "cell_type": "code",
   "execution_count": null,
   "metadata": {},
   "outputs": [],
   "source": []
  },
  {
   "cell_type": "code",
   "execution_count": 29,
   "metadata": {},
   "outputs": [],
   "source": [
    "cls = linear_model.LogisticRegression(max_iter=2_000)\n",
    "cls.fit(X_train, y_train)\n",
    "y_pred = cls.predict(X_valid)"
   ]
  },
  {
   "cell_type": "code",
   "execution_count": 30,
   "metadata": {},
   "outputs": [
    {
     "data": {
      "text/plain": [
       "array([[-1.11693219,  1.26996541,  2.64989393],\n",
       "       [ 0.8761829 ,  0.48161475, -0.95354791],\n",
       "       [ 0.52349184, -0.55169286, -1.38645113],\n",
       "       [-0.28274254, -1.19988731, -0.30989489]])"
      ]
     },
     "execution_count": 30,
     "metadata": {},
     "output_type": "execute_result"
    }
   ],
   "source": [
    "cls.coef_"
   ]
  },
  {
   "cell_type": "code",
   "execution_count": 27,
   "metadata": {},
   "outputs": [
    {
     "data": {
      "text/plain": [
       "['mean_x', 'mean_y', 'mean_z', 'mean_m']"
      ]
     },
     "execution_count": 27,
     "metadata": {},
     "output_type": "execute_result"
    }
   ],
   "source": [
    "mean_features"
   ]
  },
  {
   "cell_type": "markdown",
   "metadata": {},
   "source": [
    "Feature engineering"
   ]
  },
  {
   "cell_type": "code",
   "execution_count": null,
   "metadata": {},
   "outputs": [],
   "source": []
  },
  {
   "cell_type": "code",
   "execution_count": null,
   "metadata": {},
   "outputs": [],
   "source": []
  }
 ],
 "metadata": {
  "kernelspec": {
   "display_name": "Python 3",
   "language": "python",
   "name": "python3"
  },
  "language_info": {
   "codemirror_mode": {
    "name": "ipython",
    "version": 3
   },
   "file_extension": ".py",
   "mimetype": "text/x-python",
   "name": "python",
   "nbconvert_exporter": "python",
   "pygments_lexer": "ipython3",
   "version": "3.7.4"
  }
 },
 "nbformat": 4,
 "nbformat_minor": 4
}
