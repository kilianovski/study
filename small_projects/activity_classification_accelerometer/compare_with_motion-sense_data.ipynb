{
 "cells": [
  {
   "cell_type": "code",
   "execution_count": 2,
   "metadata": {},
   "outputs": [],
   "source": [
    "import pandas as pd\n",
    "from pathlib import Path"
   ]
  },
  {
   "cell_type": "code",
   "execution_count": 4,
   "metadata": {},
   "outputs": [
    {
     "data": {
      "text/plain": [
       "[PosixPath('/home/kilianovski/Documents/B_Accelerometer_data/dws_1'),\n",
       " PosixPath('/home/kilianovski/Documents/B_Accelerometer_data/jog_9'),\n",
       " PosixPath('/home/kilianovski/Documents/B_Accelerometer_data/wlk_15'),\n",
       " PosixPath('/home/kilianovski/Documents/B_Accelerometer_data/std_6'),\n",
       " PosixPath('/home/kilianovski/Documents/B_Accelerometer_data/dws_11'),\n",
       " PosixPath('/home/kilianovski/Documents/B_Accelerometer_data/ups_4'),\n",
       " PosixPath('/home/kilianovski/Documents/B_Accelerometer_data/wlk_8'),\n",
       " PosixPath('/home/kilianovski/Documents/B_Accelerometer_data/sit_13'),\n",
       " PosixPath('/home/kilianovski/Documents/B_Accelerometer_data/ups_12'),\n",
       " PosixPath('/home/kilianovski/Documents/B_Accelerometer_data/sit_5'),\n",
       " PosixPath('/home/kilianovski/Documents/B_Accelerometer_data/ups_3'),\n",
       " PosixPath('/home/kilianovski/Documents/B_Accelerometer_data/wlk_7'),\n",
       " PosixPath('/home/kilianovski/Documents/B_Accelerometer_data/dws_2'),\n",
       " PosixPath('/home/kilianovski/Documents/B_Accelerometer_data/std_14'),\n",
       " PosixPath('/home/kilianovski/Documents/B_Accelerometer_data/jog_16')]"
      ]
     },
     "execution_count": 4,
     "metadata": {},
     "output_type": "execute_result"
    }
   ],
   "source": [
    "motion_sense_folder = Path('/home/kilianovski/Documents/B_Accelerometer_data/')\n",
    "list(motion_sense_folder.iterdir())"
   ]
  },
  {
   "cell_type": "code",
   "execution_count": 6,
   "metadata": {},
   "outputs": [
    {
     "data": {
      "text/plain": [
       "[PosixPath('/home/kilianovski/Documents/B_Accelerometer_data/jog_16/sub_1.csv'),\n",
       " PosixPath('/home/kilianovski/Documents/B_Accelerometer_data/jog_16/sub_22.csv'),\n",
       " PosixPath('/home/kilianovski/Documents/B_Accelerometer_data/jog_16/sub_14.csv'),\n",
       " PosixPath('/home/kilianovski/Documents/B_Accelerometer_data/jog_16/sub_6.csv'),\n",
       " PosixPath('/home/kilianovski/Documents/B_Accelerometer_data/jog_16/sub_2.csv'),\n",
       " PosixPath('/home/kilianovski/Documents/B_Accelerometer_data/jog_16/sub_10.csv'),\n",
       " PosixPath('/home/kilianovski/Documents/B_Accelerometer_data/jog_16/sub_18.csv'),\n",
       " PosixPath('/home/kilianovski/Documents/B_Accelerometer_data/jog_16/sub_3.csv'),\n",
       " PosixPath('/home/kilianovski/Documents/B_Accelerometer_data/jog_16/sub_12.csv'),\n",
       " PosixPath('/home/kilianovski/Documents/B_Accelerometer_data/jog_16/sub_11.csv'),\n",
       " PosixPath('/home/kilianovski/Documents/B_Accelerometer_data/jog_16/sub_20.csv'),\n",
       " PosixPath('/home/kilianovski/Documents/B_Accelerometer_data/jog_16/sub_7.csv'),\n",
       " PosixPath('/home/kilianovski/Documents/B_Accelerometer_data/jog_16/sub_19.csv'),\n",
       " PosixPath('/home/kilianovski/Documents/B_Accelerometer_data/jog_16/sub_9.csv'),\n",
       " PosixPath('/home/kilianovski/Documents/B_Accelerometer_data/jog_16/sub_5.csv'),\n",
       " PosixPath('/home/kilianovski/Documents/B_Accelerometer_data/jog_16/sub_13.csv'),\n",
       " PosixPath('/home/kilianovski/Documents/B_Accelerometer_data/jog_16/sub_15.csv'),\n",
       " PosixPath('/home/kilianovski/Documents/B_Accelerometer_data/jog_16/sub_4.csv'),\n",
       " PosixPath('/home/kilianovski/Documents/B_Accelerometer_data/jog_16/sub_17.csv'),\n",
       " PosixPath('/home/kilianovski/Documents/B_Accelerometer_data/jog_16/sub_8.csv'),\n",
       " PosixPath('/home/kilianovski/Documents/B_Accelerometer_data/jog_16/sub_23.csv'),\n",
       " PosixPath('/home/kilianovski/Documents/B_Accelerometer_data/jog_16/sub_24.csv'),\n",
       " PosixPath('/home/kilianovski/Documents/B_Accelerometer_data/jog_16/sub_21.csv'),\n",
       " PosixPath('/home/kilianovski/Documents/B_Accelerometer_data/jog_16/sub_16.csv')]"
      ]
     },
     "execution_count": 6,
     "metadata": {},
     "output_type": "execute_result"
    }
   ],
   "source": [
    "\n",
    "list((motion_sense_folder/'jog_16').iterdir())"
   ]
  },
  {
   "cell_type": "code",
   "execution_count": 8,
   "metadata": {},
   "outputs": [
    {
     "data": {
      "text/plain": [
       "(1733, 4)"
      ]
     },
     "execution_count": 8,
     "metadata": {},
     "output_type": "execute_result"
    }
   ],
   "source": [
    "pd.read_csv(motion_sense_folder/'jog_16'/'sub_16.csv').shape"
   ]
  },
  {
   "cell_type": "code",
   "execution_count": 9,
   "metadata": {},
   "outputs": [
    {
     "data": {
      "text/plain": [
       "(1988, 4)"
      ]
     },
     "execution_count": 9,
     "metadata": {},
     "output_type": "execute_result"
    }
   ],
   "source": [
    "pd.read_csv(motion_sense_folder/'jog_16'/'sub_8.csv').shape"
   ]
  },
  {
   "cell_type": "code",
   "execution_count": 10,
   "metadata": {},
   "outputs": [
    {
     "data": {
      "text/plain": [
       "(4308, 4)"
      ]
     },
     "execution_count": 10,
     "metadata": {},
     "output_type": "execute_result"
    }
   ],
   "source": [
    "pd.read_csv(motion_sense_folder/'jog_9'/'sub_8.csv').shape"
   ]
  },
  {
   "cell_type": "code",
   "execution_count": null,
   "metadata": {},
   "outputs": [],
   "source": []
  }
 ],
 "metadata": {
  "kernelspec": {
   "display_name": "Python 3",
   "language": "python",
   "name": "python3"
  },
  "language_info": {
   "codemirror_mode": {
    "name": "ipython",
    "version": 3
   },
   "file_extension": ".py",
   "mimetype": "text/x-python",
   "name": "python",
   "nbconvert_exporter": "python",
   "pygments_lexer": "ipython3",
   "version": "3.7.4"
  }
 },
 "nbformat": 4,
 "nbformat_minor": 4
}
