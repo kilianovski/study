{
 "cells": [
  {
   "cell_type": "code",
   "execution_count": 1,
   "metadata": {},
   "outputs": [],
   "source": [
    "import numpy as np\n",
    "import pandas as pd\n",
    "from pathlib import Path\n",
    "import matplotlib.pyplot as plt\n",
    "\n",
    "import seaborn as sns"
   ]
  },
  {
   "cell_type": "code",
   "execution_count": 2,
   "metadata": {},
   "outputs": [
    {
     "data": {
      "text/plain": [
       "[PosixPath('data/running'),\n",
       " PosixPath('data/stairs'),\n",
       " PosixPath('data/walking'),\n",
       " PosixPath('data/idle')]"
      ]
     },
     "execution_count": 2,
     "metadata": {},
     "output_type": "execute_result"
    }
   ],
   "source": [
    "data_folder = Path('./data')\n",
    "classes = list(data_folder.iterdir())\n",
    "classes"
   ]
  },
  {
   "cell_type": "code",
   "execution_count": 3,
   "metadata": {},
   "outputs": [],
   "source": [
    "dfs = []\n",
    "def flatten_sensor_frame(df): return df.values.flatten()\n",
    "data_list = []\n",
    "for class_folder in classes:\n",
    "    for file in class_folder.iterdir():\n",
    "        df = pd.read_csv(file)\n",
    "\n",
    "        frame = flatten_sensor_frame(df)\n",
    "        record = list((frame)) + [str(class_folder)]\n",
    "        data_list.append(record)\n",
    "        \n",
    "        df['label'] = class_folder\n",
    "        dfs.append(df)\n",
    "\n",
    "    \n",
    "cols = [str(i) for i in range(90)] + ['label']\n",
    "full_df = pd.DataFrame(data=data_list, columns=cols)"
   ]
  },
  {
   "cell_type": "code",
   "execution_count": 4,
   "metadata": {},
   "outputs": [
    {
     "data": {
      "text/html": [
       "<div>\n",
       "<style scoped>\n",
       "    .dataframe tbody tr th:only-of-type {\n",
       "        vertical-align: middle;\n",
       "    }\n",
       "\n",
       "    .dataframe tbody tr th {\n",
       "        vertical-align: top;\n",
       "    }\n",
       "\n",
       "    .dataframe thead th {\n",
       "        text-align: right;\n",
       "    }\n",
       "</style>\n",
       "<table border=\"1\" class=\"dataframe\">\n",
       "  <thead>\n",
       "    <tr style=\"text-align: right;\">\n",
       "      <th></th>\n",
       "      <th>0</th>\n",
       "      <th>1</th>\n",
       "      <th>2</th>\n",
       "      <th>3</th>\n",
       "      <th>4</th>\n",
       "      <th>5</th>\n",
       "      <th>6</th>\n",
       "      <th>7</th>\n",
       "      <th>8</th>\n",
       "      <th>9</th>\n",
       "      <th>...</th>\n",
       "      <th>81</th>\n",
       "      <th>82</th>\n",
       "      <th>83</th>\n",
       "      <th>84</th>\n",
       "      <th>85</th>\n",
       "      <th>86</th>\n",
       "      <th>87</th>\n",
       "      <th>88</th>\n",
       "      <th>89</th>\n",
       "      <th>label</th>\n",
       "    </tr>\n",
       "  </thead>\n",
       "  <tbody>\n",
       "    <tr>\n",
       "      <th>0</th>\n",
       "      <td>2.667141</td>\n",
       "      <td>-7.838616</td>\n",
       "      <td>-9.548077</td>\n",
       "      <td>4.017470</td>\n",
       "      <td>8.705317</td>\n",
       "      <td>-2.226607</td>\n",
       "      <td>22.357056</td>\n",
       "      <td>20.887016</td>\n",
       "      <td>-2.820370</td>\n",
       "      <td>17.922995</td>\n",
       "      <td>...</td>\n",
       "      <td>-0.885855</td>\n",
       "      <td>11.310209</td>\n",
       "      <td>-8.939949</td>\n",
       "      <td>13.771448</td>\n",
       "      <td>9.825804</td>\n",
       "      <td>1.470040</td>\n",
       "      <td>-2.044648</td>\n",
       "      <td>6.689400</td>\n",
       "      <td>10.807426</td>\n",
       "      <td>data/running</td>\n",
       "    </tr>\n",
       "    <tr>\n",
       "      <th>1</th>\n",
       "      <td>10.745177</td>\n",
       "      <td>23.415293</td>\n",
       "      <td>1.144428</td>\n",
       "      <td>3.744532</td>\n",
       "      <td>-9.035717</td>\n",
       "      <td>-2.892196</td>\n",
       "      <td>0.766145</td>\n",
       "      <td>21.092916</td>\n",
       "      <td>-0.928950</td>\n",
       "      <td>23.956383</td>\n",
       "      <td>...</td>\n",
       "      <td>1.532289</td>\n",
       "      <td>15.782578</td>\n",
       "      <td>1.699883</td>\n",
       "      <td>14.168885</td>\n",
       "      <td>32.245110</td>\n",
       "      <td>3.390190</td>\n",
       "      <td>3.983952</td>\n",
       "      <td>-1.867477</td>\n",
       "      <td>-1.407790</td>\n",
       "      <td>data/running</td>\n",
       "    </tr>\n",
       "    <tr>\n",
       "      <th>2</th>\n",
       "      <td>22.031445</td>\n",
       "      <td>18.406622</td>\n",
       "      <td>1.537078</td>\n",
       "      <td>3.600880</td>\n",
       "      <td>12.368446</td>\n",
       "      <td>2.217031</td>\n",
       "      <td>-0.354342</td>\n",
       "      <td>-13.206416</td>\n",
       "      <td>-7.254431</td>\n",
       "      <td>8.245631</td>\n",
       "      <td>...</td>\n",
       "      <td>4.151546</td>\n",
       "      <td>24.502260</td>\n",
       "      <td>-1.139640</td>\n",
       "      <td>-0.493206</td>\n",
       "      <td>-14.542381</td>\n",
       "      <td>-2.164358</td>\n",
       "      <td>2.442086</td>\n",
       "      <td>9.677363</td>\n",
       "      <td>-3.016694</td>\n",
       "      <td>data/running</td>\n",
       "    </tr>\n",
       "    <tr>\n",
       "      <th>3</th>\n",
       "      <td>10.371682</td>\n",
       "      <td>-1.608903</td>\n",
       "      <td>-2.801216</td>\n",
       "      <td>25.718515</td>\n",
       "      <td>16.247053</td>\n",
       "      <td>-6.488286</td>\n",
       "      <td>-3.600879</td>\n",
       "      <td>6.684612</td>\n",
       "      <td>-2.375048</td>\n",
       "      <td>10.534488</td>\n",
       "      <td>...</td>\n",
       "      <td>17.056293</td>\n",
       "      <td>37.330395</td>\n",
       "      <td>5.621586</td>\n",
       "      <td>2.695871</td>\n",
       "      <td>11.626244</td>\n",
       "      <td>-1.082179</td>\n",
       "      <td>8.681376</td>\n",
       "      <td>12.124237</td>\n",
       "      <td>-4.946420</td>\n",
       "      <td>data/running</td>\n",
       "    </tr>\n",
       "    <tr>\n",
       "      <th>4</th>\n",
       "      <td>3.624822</td>\n",
       "      <td>9.059659</td>\n",
       "      <td>4.390966</td>\n",
       "      <td>33.073500</td>\n",
       "      <td>33.202790</td>\n",
       "      <td>4.802769</td>\n",
       "      <td>3.792416</td>\n",
       "      <td>3.596091</td>\n",
       "      <td>-2.681506</td>\n",
       "      <td>-1.872266</td>\n",
       "      <td>...</td>\n",
       "      <td>1.187524</td>\n",
       "      <td>13.072341</td>\n",
       "      <td>-1.953669</td>\n",
       "      <td>1.441310</td>\n",
       "      <td>-14.585477</td>\n",
       "      <td>3.610456</td>\n",
       "      <td>6.028600</td>\n",
       "      <td>17.889475</td>\n",
       "      <td>-0.732626</td>\n",
       "      <td>data/running</td>\n",
       "    </tr>\n",
       "  </tbody>\n",
       "</table>\n",
       "<p>5 rows × 91 columns</p>\n",
       "</div>"
      ],
      "text/plain": [
       "           0          1         2          3          4         5          6  \\\n",
       "0   2.667141  -7.838616 -9.548077   4.017470   8.705317 -2.226607  22.357056   \n",
       "1  10.745177  23.415293  1.144428   3.744532  -9.035717 -2.892196   0.766145   \n",
       "2  22.031445  18.406622  1.537078   3.600880  12.368446  2.217031  -0.354342   \n",
       "3  10.371682  -1.608903 -2.801216  25.718515  16.247053 -6.488286  -3.600879   \n",
       "4   3.624822   9.059659  4.390966  33.073500  33.202790  4.802769   3.792416   \n",
       "\n",
       "           7         8          9  ...         81         82        83  \\\n",
       "0  20.887016 -2.820370  17.922995  ...  -0.885855  11.310209 -8.939949   \n",
       "1  21.092916 -0.928950  23.956383  ...   1.532289  15.782578  1.699883   \n",
       "2 -13.206416 -7.254431   8.245631  ...   4.151546  24.502260 -1.139640   \n",
       "3   6.684612 -2.375048  10.534488  ...  17.056293  37.330395  5.621586   \n",
       "4   3.596091 -2.681506  -1.872266  ...   1.187524  13.072341 -1.953669   \n",
       "\n",
       "          84         85        86        87         88         89  \\\n",
       "0  13.771448   9.825804  1.470040 -2.044648   6.689400  10.807426   \n",
       "1  14.168885  32.245110  3.390190  3.983952  -1.867477  -1.407790   \n",
       "2  -0.493206 -14.542381 -2.164358  2.442086   9.677363  -3.016694   \n",
       "3   2.695871  11.626244 -1.082179  8.681376  12.124237  -4.946420   \n",
       "4   1.441310 -14.585477  3.610456  6.028600  17.889475  -0.732626   \n",
       "\n",
       "          label  \n",
       "0  data/running  \n",
       "1  data/running  \n",
       "2  data/running  \n",
       "3  data/running  \n",
       "4  data/running  \n",
       "\n",
       "[5 rows x 91 columns]"
      ]
     },
     "execution_count": 4,
     "metadata": {},
     "output_type": "execute_result"
    }
   ],
   "source": [
    "full_df.head()"
   ]
  },
  {
   "cell_type": "code",
   "execution_count": 5,
   "metadata": {},
   "outputs": [],
   "source": [
    "df = full_df[(full_df.label == 'data/walking') | (full_df.label == 'data/stairs')].copy().reset_index(drop=True)"
   ]
  },
  {
   "cell_type": "code",
   "execution_count": 6,
   "metadata": {},
   "outputs": [
    {
     "data": {
      "text/plain": [
       "(2015, 91)"
      ]
     },
     "execution_count": 6,
     "metadata": {},
     "output_type": "execute_result"
    }
   ],
   "source": [
    "df.shape"
   ]
  },
  {
   "cell_type": "code",
   "execution_count": 7,
   "metadata": {},
   "outputs": [],
   "source": [
    "df['is_stairs'] = df['label'] == 'data/stairs'"
   ]
  },
  {
   "cell_type": "code",
   "execution_count": 8,
   "metadata": {},
   "outputs": [],
   "source": [
    "from sklearn.linear_model import LogisticRegression"
   ]
  },
  {
   "cell_type": "code",
   "execution_count": 9,
   "metadata": {},
   "outputs": [],
   "source": [
    "feature_cols = [str(i) for i in range(90)]"
   ]
  },
  {
   "cell_type": "code",
   "execution_count": null,
   "metadata": {},
   "outputs": [],
   "source": []
  },
  {
   "cell_type": "code",
   "execution_count": 10,
   "metadata": {},
   "outputs": [],
   "source": [
    "from sklearn.model_selection import StratifiedKFold\n",
    "kfold = StratifiedKFold(n_splits=5, shuffle=True, random_state=1)"
   ]
  },
  {
   "cell_type": "code",
   "execution_count": 11,
   "metadata": {},
   "outputs": [],
   "source": [
    "X = df[[str(i) for i in range(90)] ]\n",
    "y = df['is_stairs']"
   ]
  },
  {
   "cell_type": "code",
   "execution_count": 12,
   "metadata": {},
   "outputs": [
    {
     "data": {
      "text/plain": [
       "False    1850\n",
       "True      165\n",
       "Name: is_stairs, dtype: int64"
      ]
     },
     "execution_count": 12,
     "metadata": {},
     "output_type": "execute_result"
    }
   ],
   "source": [
    "y.value_counts()"
   ]
  },
  {
   "cell_type": "code",
   "execution_count": 13,
   "metadata": {},
   "outputs": [],
   "source": [
    "train_ix, valid_ix = list(kfold.split(X, y))[4]\n",
    "X_train, X_valid = X.loc[train_ix], X.loc[valid_ix]\n",
    "y_train, y_valid = y.loc[train_ix], y.loc[valid_ix]"
   ]
  },
  {
   "cell_type": "code",
   "execution_count": 14,
   "metadata": {},
   "outputs": [
    {
     "data": {
      "text/plain": [
       "False    1480\n",
       "True      132\n",
       "Name: is_stairs, dtype: int64"
      ]
     },
     "execution_count": 14,
     "metadata": {},
     "output_type": "execute_result"
    }
   ],
   "source": [
    "y_train.value_counts()"
   ]
  },
  {
   "cell_type": "code",
   "execution_count": 15,
   "metadata": {},
   "outputs": [
    {
     "data": {
      "text/plain": [
       "False    1850\n",
       "True      165\n",
       "Name: is_stairs, dtype: int64"
      ]
     },
     "execution_count": 15,
     "metadata": {},
     "output_type": "execute_result"
    }
   ],
   "source": [
    "y.value_counts()"
   ]
  },
  {
   "cell_type": "code",
   "execution_count": null,
   "metadata": {},
   "outputs": [],
   "source": []
  },
  {
   "cell_type": "code",
   "execution_count": null,
   "metadata": {},
   "outputs": [],
   "source": []
  },
  {
   "cell_type": "code",
   "execution_count": 16,
   "metadata": {},
   "outputs": [],
   "source": [
    "from sklearn.metrics import accuracy_score, confusion_matrix, classification_report, f1_score"
   ]
  },
  {
   "cell_type": "code",
   "execution_count": 17,
   "metadata": {},
   "outputs": [
    {
     "name": "stdout",
     "output_type": "stream",
     "text": [
      "[[358  12]\n",
      " [ 21  12]]\n"
     ]
    },
    {
     "data": {
      "text/plain": [
       "0.4210526315789474"
      ]
     },
     "execution_count": 17,
     "metadata": {},
     "output_type": "execute_result"
    }
   ],
   "source": [
    "logreg = LogisticRegression()\n",
    "logreg.fit(X_train, y_train)\n",
    "y_pred = logreg.predict(X_valid)\n",
    "print(confusion_matrix(y_valid, y_pred))\n",
    "f1_score(y_valid, y_pred)"
   ]
  },
  {
   "cell_type": "code",
   "execution_count": 18,
   "metadata": {},
   "outputs": [
    {
     "name": "stdout",
     "output_type": "stream",
     "text": [
      "[[314  56]\n",
      " [ 12  21]]\n"
     ]
    },
    {
     "data": {
      "text/plain": [
       "0.3818181818181818"
      ]
     },
     "execution_count": 18,
     "metadata": {},
     "output_type": "execute_result"
    }
   ],
   "source": [
    "logreg = LogisticRegression(class_weight='balanced')\n",
    "logreg.fit(X_train, y_train)\n",
    "y_pred = logreg.predict(X_valid)\n",
    "print(confusion_matrix(y_valid, y_pred))\n",
    "f1_score(y_valid, y_pred)"
   ]
  },
  {
   "cell_type": "code",
   "execution_count": 19,
   "metadata": {},
   "outputs": [],
   "source": [
    "from sklearn import svm"
   ]
  },
  {
   "cell_type": "code",
   "execution_count": 20,
   "metadata": {},
   "outputs": [
    {
     "name": "stdout",
     "output_type": "stream",
     "text": [
      "[[369   1]\n",
      " [ 18  15]]\n"
     ]
    },
    {
     "data": {
      "text/plain": [
       "0.6122448979591837"
      ]
     },
     "execution_count": 20,
     "metadata": {},
     "output_type": "execute_result"
    }
   ],
   "source": [
    "cls = svm.SVC()\n",
    "cls.fit(X_train, y_train)\n",
    "y_pred = cls.predict(X_valid)\n",
    "print(confusion_matrix(y_valid, y_pred))\n",
    "f1_score(y_valid, y_pred)"
   ]
  },
  {
   "cell_type": "code",
   "execution_count": 21,
   "metadata": {},
   "outputs": [
    {
     "name": "stdout",
     "output_type": "stream",
     "text": [
      "F1 score mean: 0.64, std: 0.07\n"
     ]
    }
   ],
   "source": [
    "f_scores = []\n",
    "\n",
    "for train_ix, valid_ix in kfold.split(X, y):\n",
    "    X_train, X_valid = X.loc[train_ix], X.loc[valid_ix]\n",
    "    y_train, y_valid = y.loc[train_ix], y.loc[valid_ix]\n",
    "    \n",
    "    cls = svm.SVC()\n",
    "    cls.fit(X_train, y_train)\n",
    "    y_pred = cls.predict(X_valid)\n",
    "    f_scores.append(f1_score(y_valid, y_pred))\n",
    "    \n",
    "print(f'F1 score mean: {round(np.mean(f_scores), 2)}, std: {round(np.std(f_scores), 2)}')"
   ]
  },
  {
   "cell_type": "code",
   "execution_count": 22,
   "metadata": {},
   "outputs": [
    {
     "name": "stdout",
     "output_type": "stream",
     "text": [
      "F1 score mean: 0.59, std: 0.06\n"
     ]
    }
   ],
   "source": [
    "f_scores = []\n",
    "\n",
    "for train_ix, valid_ix in kfold.split(X, y):\n",
    "    X_train, X_valid = X.loc[train_ix], X.loc[valid_ix]\n",
    "    y_train, y_valid = y.loc[train_ix], y.loc[valid_ix]\n",
    "    \n",
    "    cls = svm.SVC(class_weight='balanced')\n",
    "    cls.fit(X_train, y_train)\n",
    "    y_pred = cls.predict(X_valid)\n",
    "    f_scores.append(f1_score(y_valid, y_pred))\n",
    "    \n",
    "print(f'F1 score mean: {round(np.mean(f_scores), 2)}, std: {round(np.std(f_scores), 2)}')"
   ]
  },
  {
   "cell_type": "code",
   "execution_count": null,
   "metadata": {},
   "outputs": [],
   "source": []
  },
  {
   "cell_type": "code",
   "execution_count": 23,
   "metadata": {},
   "outputs": [
    {
     "name": "stdout",
     "output_type": "stream",
     "text": [
      "F1 score mean: 0.25, std: 0.05\n"
     ]
    }
   ],
   "source": [
    "f_scores = []\n",
    "\n",
    "for train_ix, valid_ix in kfold.split(X, y):\n",
    "    X_train, X_valid = X.loc[train_ix], X.loc[valid_ix]\n",
    "    y_train, y_valid = y.loc[train_ix], y.loc[valid_ix]\n",
    "    \n",
    "    cls = svm.SVC(kernel='poly', degree=12)\n",
    "    cls.fit(X_train, y_train)\n",
    "    y_pred = cls.predict(X_valid)\n",
    "    f_scores.append(f1_score(y_valid, y_pred))\n",
    "    \n",
    "print(f'F1 score mean: {round(np.mean(f_scores), 2)}, std: {round(np.std(f_scores), 2)}')"
   ]
  },
  {
   "cell_type": "code",
   "execution_count": null,
   "metadata": {},
   "outputs": [],
   "source": []
  },
  {
   "cell_type": "markdown",
   "metadata": {},
   "source": [
    "# Feature engineering"
   ]
  },
  {
   "cell_type": "code",
   "execution_count": 24,
   "metadata": {},
   "outputs": [],
   "source": [
    "class_labels = [ 'data/walking', 'data/stairs', 'data/idle', 'data/running']"
   ]
  },
  {
   "cell_type": "code",
   "execution_count": null,
   "metadata": {},
   "outputs": [],
   "source": []
  },
  {
   "cell_type": "code",
   "execution_count": null,
   "metadata": {},
   "outputs": [],
   "source": []
  },
  {
   "cell_type": "code",
   "execution_count": null,
   "metadata": {},
   "outputs": [],
   "source": []
  },
  {
   "cell_type": "code",
   "execution_count": null,
   "metadata": {},
   "outputs": [],
   "source": []
  },
  {
   "cell_type": "markdown",
   "metadata": {},
   "source": [
    "# Try with more features"
   ]
  },
  {
   "cell_type": "code",
   "execution_count": null,
   "metadata": {},
   "outputs": [],
   "source": [
    "f_scores = []\n",
    "\n",
    "for train_ix, valid_ix in kfold.split(X, y):\n",
    "    X_train, X_valid = X.loc[train_ix], X.loc[valid_ix]\n",
    "    y_train, y_valid = y.loc[train_ix], y.loc[valid_ix]\n",
    "    \n",
    "    cls = svm.SVC(kernel='poly')\n",
    "    cls.fit(X_train, y_train)\n",
    "    y_pred = cls.predict(X_valid)\n",
    "    f_scores.append(f1_score(y_valid, y_pred))\n",
    "    \n",
    "print(f'F1 score mean: {round(np.mean(f_scores), 2)}, std: {round(np.std(f_scores), 2)}')"
   ]
  },
  {
   "cell_type": "code",
   "execution_count": null,
   "metadata": {},
   "outputs": [],
   "source": [
    "def evaluate_SVM_poly():\n",
    "    f_scores = []\n",
    "\n",
    "for train_ix, valid_ix in kfold.split(X, y):\n",
    "    X_train, X_valid = X.loc[train_ix], X.loc[valid_ix]\n",
    "    y_train, y_valid = y.loc[train_ix], y.loc[valid_ix]\n",
    "    \n",
    "    cls = svm.SVC(kernel='poly')\n",
    "    cls.fit(X_train, y_train)\n",
    "    y_pred = cls.predict(X_valid)\n",
    "    f_scores.append(f1_score(y_valid, y_pred))\n",
    "    \n",
    "print(f'F1 score mean: {round(np.mean(f_scores), 2)}, std: {round(np.std(f_scores), 2)}')"
   ]
  },
  {
   "cell_type": "code",
   "execution_count": null,
   "metadata": {},
   "outputs": [],
   "source": []
  },
  {
   "cell_type": "code",
   "execution_count": null,
   "metadata": {},
   "outputs": [],
   "source": []
  },
  {
   "cell_type": "code",
   "execution_count": 41,
   "metadata": {},
   "outputs": [],
   "source": [
    "from sklearn.linear_model import LogisticRegressionCV"
   ]
  },
  {
   "cell_type": "code",
   "execution_count": 54,
   "metadata": {},
   "outputs": [],
   "source": [
    "# class_weight = {True: 40, False: 1}\n",
    "cv_logreg = LogisticRegressionCV(cv=kfold, max_iter=100_000)"
   ]
  },
  {
   "cell_type": "code",
   "execution_count": null,
   "metadata": {},
   "outputs": [],
   "source": []
  },
  {
   "cell_type": "code",
   "execution_count": 55,
   "metadata": {},
   "outputs": [
    {
     "data": {
      "text/plain": [
       "LogisticRegressionCV(Cs=10, class_weight=None,\n",
       "                     cv=StratifiedKFold(n_splits=5, random_state=1, shuffle=True),\n",
       "                     dual=False, fit_intercept=True, intercept_scaling=1.0,\n",
       "                     l1_ratios=None, max_iter=100000, multi_class='auto',\n",
       "                     n_jobs=None, penalty='l2', random_state=None, refit=True,\n",
       "                     scoring=None, solver='lbfgs', tol=0.0001, verbose=0)"
      ]
     },
     "execution_count": 55,
     "metadata": {},
     "output_type": "execute_result"
    }
   ],
   "source": [
    "cv_logreg.fit(X_train, y_train)"
   ]
  },
  {
   "cell_type": "code",
   "execution_count": 56,
   "metadata": {},
   "outputs": [
    {
     "data": {
      "text/plain": [
       "array([[368,   2],\n",
       "       [ 27,   6]])"
      ]
     },
     "execution_count": 56,
     "metadata": {},
     "output_type": "execute_result"
    }
   ],
   "source": [
    "y_pred = cv_logreg.predict(X_valid)\n",
    "confusion_matrix(y_valid, y_pred)"
   ]
  },
  {
   "cell_type": "code",
   "execution_count": 57,
   "metadata": {},
   "outputs": [],
   "source": [
    "from sklearn.neighbors import KNeighborsClassifier"
   ]
  },
  {
   "cell_type": "code",
   "execution_count": 58,
   "metadata": {},
   "outputs": [],
   "source": [
    "neigh = KNeighborsClassifier()\n",
    "neigh.fit(X_train, y_train)\n",
    "y_pred = neigh.predict(X_valid)"
   ]
  },
  {
   "cell_type": "code",
   "execution_count": 59,
   "metadata": {},
   "outputs": [
    {
     "data": {
      "text/plain": [
       "array([[341,  29],\n",
       "       [  6,  27]])"
      ]
     },
     "execution_count": 59,
     "metadata": {},
     "output_type": "execute_result"
    }
   ],
   "source": [
    "confusion_matrix(y_valid, y_pred)"
   ]
  },
  {
   "cell_type": "code",
   "execution_count": 70,
   "metadata": {
    "scrolled": true
   },
   "outputs": [
    {
     "name": "stdout",
     "output_type": "stream",
     "text": [
      "k = 1, f1_score = 0.6\n",
      "k = 2, f1_score = 0.54\n",
      "k = 3, f1_score = 0.57\n",
      "k = 4, f1_score = 0.68\n",
      "k = 5, f1_score = 0.61\n",
      "k = 6, f1_score = 0.59\n",
      "k = 7, f1_score = 0.57\n",
      "k = 8, f1_score = 0.61\n",
      "k = 9, f1_score = 0.63\n",
      "k = 10, f1_score = 0.61\n",
      "k = 11, f1_score = 0.63\n",
      "k = 12, f1_score = 0.62\n",
      "k = 13, f1_score = 0.62\n",
      "k = 14, f1_score = 0.65\n",
      "k = 15, f1_score = 0.63\n",
      "k = 16, f1_score = 0.64\n",
      "k = 17, f1_score = 0.61\n",
      "k = 18, f1_score = 0.62\n",
      "k = 19, f1_score = 0.58\n",
      "k = 20, f1_score = 0.61\n",
      "k = 21, f1_score = 0.62\n",
      "k = 22, f1_score = 0.63\n",
      "k = 23, f1_score = 0.64\n",
      "k = 24, f1_score = 0.64\n",
      "k = 25, f1_score = 0.63\n",
      "k = 26, f1_score = 0.65\n",
      "k = 27, f1_score = 0.6\n",
      "k = 28, f1_score = 0.62\n",
      "k = 29, f1_score = 0.6\n",
      "k = 30, f1_score = 0.61\n",
      "k = 31, f1_score = 0.6\n",
      "k = 32, f1_score = 0.62\n",
      "k = 33, f1_score = 0.62\n",
      "k = 34, f1_score = 0.63\n",
      "k = 35, f1_score = 0.61\n",
      "k = 36, f1_score = 0.6\n",
      "k = 37, f1_score = 0.62\n",
      "k = 38, f1_score = 0.61\n",
      "k = 39, f1_score = 0.62\n",
      "k = 40, f1_score = 0.63\n",
      "k = 41, f1_score = 0.62\n",
      "k = 42, f1_score = 0.63\n",
      "k = 43, f1_score = 0.62\n",
      "k = 44, f1_score = 0.64\n",
      "k = 45, f1_score = 0.63\n",
      "k = 46, f1_score = 0.62\n",
      "k = 47, f1_score = 0.63\n",
      "k = 48, f1_score = 0.61\n",
      "k = 49, f1_score = 0.61\n",
      "k = 50, f1_score = 0.62\n",
      "k = 51, f1_score = 0.61\n",
      "k = 52, f1_score = 0.63\n",
      "k = 53, f1_score = 0.63\n",
      "k = 54, f1_score = 0.64\n",
      "k = 55, f1_score = 0.61\n",
      "k = 56, f1_score = 0.62\n",
      "k = 57, f1_score = 0.62\n",
      "k = 58, f1_score = 0.61\n",
      "k = 59, f1_score = 0.64\n",
      "k = 60, f1_score = 0.62\n",
      "k = 61, f1_score = 0.6\n",
      "k = 62, f1_score = 0.58\n",
      "k = 63, f1_score = 0.63\n",
      "k = 64, f1_score = 0.59\n",
      "k = 65, f1_score = 0.62\n",
      "k = 66, f1_score = 0.6\n",
      "k = 67, f1_score = 0.6\n",
      "k = 68, f1_score = 0.56\n",
      "k = 69, f1_score = 0.62\n",
      "k = 70, f1_score = 0.57\n",
      "k = 71, f1_score = 0.57\n",
      "k = 72, f1_score = 0.59\n",
      "k = 73, f1_score = 0.6\n",
      "k = 74, f1_score = 0.61\n",
      "k = 75, f1_score = 0.61\n",
      "k = 76, f1_score = 0.6\n",
      "k = 77, f1_score = 0.62\n",
      "k = 78, f1_score = 0.6\n",
      "k = 79, f1_score = 0.6\n",
      "k = 80, f1_score = 0.6\n",
      "k = 81, f1_score = 0.59\n",
      "k = 82, f1_score = 0.58\n",
      "k = 83, f1_score = 0.6\n",
      "k = 84, f1_score = 0.58\n",
      "k = 85, f1_score = 0.6\n",
      "k = 86, f1_score = 0.55\n",
      "k = 87, f1_score = 0.6\n",
      "k = 88, f1_score = 0.55\n",
      "k = 89, f1_score = 0.6\n",
      "k = 90, f1_score = 0.55\n",
      "k = 91, f1_score = 0.58\n",
      "k = 92, f1_score = 0.55\n",
      "k = 93, f1_score = 0.55\n",
      "k = 94, f1_score = 0.5\n",
      "k = 95, f1_score = 0.55\n",
      "k = 96, f1_score = 0.54\n",
      "k = 97, f1_score = 0.59\n",
      "k = 98, f1_score = 0.56\n",
      "k = 99, f1_score = 0.56\n",
      "k = 100, f1_score = 0.54\n",
      "k = 101, f1_score = 0.54\n",
      "k = 102, f1_score = 0.54\n",
      "k = 103, f1_score = 0.56\n",
      "k = 104, f1_score = 0.54\n",
      "k = 105, f1_score = 0.56\n",
      "k = 106, f1_score = 0.56\n",
      "k = 107, f1_score = 0.56\n",
      "k = 108, f1_score = 0.54\n",
      "k = 109, f1_score = 0.54\n",
      "k = 110, f1_score = 0.48\n",
      "k = 111, f1_score = 0.54\n",
      "k = 112, f1_score = 0.51\n",
      "k = 113, f1_score = 0.51\n",
      "k = 114, f1_score = 0.52\n",
      "k = 115, f1_score = 0.52\n",
      "k = 116, f1_score = 0.49\n",
      "k = 117, f1_score = 0.49\n",
      "k = 118, f1_score = 0.5\n",
      "k = 119, f1_score = 0.49\n",
      "k = 120, f1_score = 0.51\n",
      "k = 121, f1_score = 0.51\n",
      "k = 122, f1_score = 0.51\n",
      "k = 123, f1_score = 0.51\n",
      "k = 124, f1_score = 0.48\n",
      "k = 125, f1_score = 0.48\n",
      "k = 126, f1_score = 0.48\n",
      "k = 127, f1_score = 0.48\n",
      "k = 128, f1_score = 0.45\n",
      "k = 129, f1_score = 0.45\n",
      "k = 130, f1_score = 0.38\n",
      "k = 131, f1_score = 0.42\n",
      "k = 132, f1_score = 0.36\n",
      "k = 133, f1_score = 0.38\n",
      "k = 134, f1_score = 0.31\n",
      "k = 135, f1_score = 0.35\n",
      "k = 136, f1_score = 0.32\n",
      "k = 137, f1_score = 0.35\n",
      "k = 138, f1_score = 0.33\n",
      "k = 139, f1_score = 0.31\n",
      "k = 140, f1_score = 0.29\n",
      "k = 141, f1_score = 0.29\n",
      "k = 142, f1_score = 0.29\n",
      "k = 143, f1_score = 0.28\n",
      "k = 144, f1_score = 0.29\n",
      "k = 145, f1_score = 0.28\n",
      "k = 146, f1_score = 0.24\n",
      "k = 147, f1_score = 0.28\n",
      "k = 148, f1_score = 0.29\n",
      "k = 149, f1_score = 0.29\n"
     ]
    }
   ],
   "source": [
    "n_neighbors = np.arange(1, 150)\n",
    "\n",
    "k2score = {}\n",
    "for n_neighbors in n_neighbors:\n",
    "    neigh = KNeighborsClassifier(n_neighbors=n_neighbors)\n",
    "    neigh.fit(X_train, y_train)\n",
    "    y_pred = neigh.predict(X_valid)\n",
    "    score = f1_score(y_valid, y_pred)\n",
    "    print(f'k = {n_neighbors}, f1_score = {round(score, 2)}')\n",
    "    k2score[n_neighbors] = score"
   ]
  },
  {
   "cell_type": "code",
   "execution_count": 75,
   "metadata": {},
   "outputs": [
    {
     "data": {
      "text/plain": [
       "[<matplotlib.lines.Line2D at 0x7f22db6ba990>]"
      ]
     },
     "execution_count": 75,
     "metadata": {},
     "output_type": "execute_result"
    },
    {
     "data": {
      "image/png": "[encoded data removed]",
      "text/plain": [
       "<Figure size 432x288 with 1 Axes>"
      ]
     },
     "metadata": {
      "needs_background": "light"
     },
     "output_type": "display_data"
    }
   ],
   "source": [
    "plt.plot(list(k2score.keys()), list(k2score.values()))"
   ]
  },
  {
   "cell_type": "code",
   "execution_count": 79,
   "metadata": {},
   "outputs": [
    {
     "data": {
      "text/plain": [
       "array([[367,  27],\n",
       "       [  3,   6]])"
      ]
     },
     "execution_count": 79,
     "metadata": {},
     "output_type": "execute_result"
    }
   ],
   "source": [
    "neigh = KNeighborsClassifier(n_neighbors=n_neighbors)\n",
    "neigh.fit(X_train, y_train)\n",
    "y_pred = neigh.predict(X_valid)\n",
    "confusion_matrix(y_pred, y_valid)"
   ]
  },
  {
   "cell_type": "code",
   "execution_count": 77,
   "metadata": {},
   "outputs": [
    {
     "data": {
      "text/plain": [
       "array([[367,  27],\n",
       "       [  3,   6]])"
      ]
     },
     "execution_count": 77,
     "metadata": {},
     "output_type": "execute_result"
    }
   ],
   "source": []
  },
  {
   "cell_type": "code",
   "execution_count": null,
   "metadata": {},
   "outputs": [],
   "source": []
  },
  {
   "cell_type": "code",
   "execution_count": null,
   "metadata": {},
   "outputs": [],
   "source": []
  },
  {
   "cell_type": "code",
   "execution_count": 78,
   "metadata": {},
   "outputs": [],
   "source": [
    "from sklearn.ensemble import RandomForestClassifier"
   ]
  },
  {
   "cell_type": "code",
   "execution_count": 80,
   "metadata": {},
   "outputs": [
    {
     "data": {
      "text/plain": [
       "array([[370,  32],\n",
       "       [  0,   1]])"
      ]
     },
     "execution_count": 80,
     "metadata": {},
     "output_type": "execute_result"
    }
   ],
   "source": [
    "clf = RandomForestClassifier()\n",
    "clf.fit(X_train, y_train)\n",
    "y_pred = clf.predict(X_valid)\n",
    "confusion_matrix(y_pred, y_valid)"
   ]
  },
  {
   "cell_type": "code",
   "execution_count": 81,
   "metadata": {},
   "outputs": [
    {
     "data": {
      "text/plain": [
       "array([[370,  32],\n",
       "       [  0,   1]])"
      ]
     },
     "execution_count": 81,
     "metadata": {},
     "output_type": "execute_result"
    }
   ],
   "source": [
    "clf = RandomForestClassifier(n_estimators=1000)\n",
    "clf.fit(X_train, y_train)\n",
    "y_pred = clf.predict(X_valid)\n",
    "confusion_matrix(y_pred, y_valid)"
   ]
  },
  {
   "cell_type": "code",
   "execution_count": 82,
   "metadata": {},
   "outputs": [
    {
     "data": {
      "text/plain": [
       "array([[370,  28],\n",
       "       [  0,   5]])"
      ]
     },
     "execution_count": 82,
     "metadata": {},
     "output_type": "execute_result"
    }
   ],
   "source": [
    "clf = RandomForestClassifier(class_weight=class_weight )\n",
    "clf.fit(X_train, y_train)\n",
    "y_pred = clf.predict(X_valid)\n",
    "confusion_matrix(y_pred, y_valid)"
   ]
  },
  {
   "cell_type": "code",
   "execution_count": 83,
   "metadata": {},
   "outputs": [
    {
     "data": {
      "text/plain": [
       "array([[370,  31],\n",
       "       [  0,   2]])"
      ]
     },
     "execution_count": 83,
     "metadata": {},
     "output_type": "execute_result"
    }
   ],
   "source": [
    "clf = RandomForestClassifier(class_weight=class_weight, n_estimators=1000 )\n",
    "clf.fit(X_train, y_train)\n",
    "y_pred = clf.predict(X_valid)\n",
    "confusion_matrix(y_pred, y_valid)"
   ]
  },
  {
   "cell_type": "code",
   "execution_count": null,
   "metadata": {},
   "outputs": [],
   "source": [
    "clf = RandomForestClassifier(class_weight=class_weight, n_estimators=1000 )\n",
    "clf.fit(X_train, y_train)\n",
    "y_pred = clf.predict(X_valid)\n",
    "confusion_matrix(y_pred, y_valid)"
   ]
  },
  {
   "cell_type": "code",
   "execution_count": null,
   "metadata": {},
   "outputs": [],
   "source": []
  },
  {
   "cell_type": "code",
   "execution_count": null,
   "metadata": {},
   "outputs": [],
   "source": []
  },
  {
   "cell_type": "code",
   "execution_count": 61,
   "metadata": {},
   "outputs": [],
   "source": [
    "import lightgbm"
   ]
  },
  {
   "cell_type": "code",
   "execution_count": 66,
   "metadata": {},
   "outputs": [],
   "source": [
    "b00st = lightgbm.LGBMClassifier?"
   ]
  },
  {
   "cell_type": "code",
   "execution_count": 67,
   "metadata": {},
   "outputs": [],
   "source": [
    "b00st = lightgbm.LGBMClassifier(class_weight=class_weight)"
   ]
  },
  {
   "cell_type": "code",
   "execution_count": 68,
   "metadata": {},
   "outputs": [
    {
     "data": {
      "text/plain": [
       "array([[367,   3],\n",
       "       [ 20,  13]])"
      ]
     },
     "execution_count": 68,
     "metadata": {},
     "output_type": "execute_result"
    }
   ],
   "source": [
    "b00st.fit(X_train, y_train)\n",
    "y_pred = b00st.predict(X_valid)\n",
    "confusion_matrix(y_valid, y_pred)"
   ]
  },
  {
   "cell_type": "code",
   "execution_count": null,
   "metadata": {},
   "outputs": [],
   "source": []
  }
 ],
 "metadata": {
  "kernelspec": {
   "display_name": "Python 3",
   "language": "python",
   "name": "python3"
  },
  "language_info": {
   "codemirror_mode": {
    "name": "ipython",
    "version": 3
   },
   "file_extension": ".py",
   "mimetype": "text/x-python",
   "name": "python",
   "nbconvert_exporter": "python",
   "pygments_lexer": "ipython3",
   "version": "3.7.4"
  }
 },
 "nbformat": 4,
 "nbformat_minor": 4
}
