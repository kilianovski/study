{
 "cells": [
  {
   "cell_type": "code",
   "execution_count": 1,
   "metadata": {},
   "outputs": [],
   "source": [
    "import numpy as np\n",
    "import pandas as pd\n",
    "from pathlib import Path\n",
    "\n",
    "import seaborn as sns\n",
    "from matplotlib import pyplot as plt"
   ]
  },
  {
   "cell_type": "code",
   "execution_count": 2,
   "metadata": {},
   "outputs": [],
   "source": [
    "FRAME_LENGTH = 30"
   ]
  },
  {
   "cell_type": "code",
   "execution_count": 3,
   "metadata": {},
   "outputs": [
    {
     "data": {
      "text/plain": [
       "[PosixPath('data/running'),\n",
       " PosixPath('data/stairs'),\n",
       " PosixPath('data/walking'),\n",
       " PosixPath('data/idle')]"
      ]
     },
     "execution_count": 3,
     "metadata": {},
     "output_type": "execute_result"
    }
   ],
   "source": [
    "data_folder = Path('./data')\n",
    "classes = list(data_folder.iterdir())\n",
    "classes"
   ]
  },
  {
   "cell_type": "code",
   "execution_count": 4,
   "metadata": {},
   "outputs": [],
   "source": [
    "dfs = []\n",
    "def flatten_sensor_frame(df): return df.values.flatten()\n",
    "data_list = []\n",
    "for class_folder in classes:\n",
    "    for file in class_folder.iterdir():\n",
    "        df = pd.read_csv(file)\n",
    "\n",
    "        frame = flatten_sensor_frame(df)\n",
    "        record = list((frame)) + [str(class_folder)]\n",
    "        data_list.append(record)\n",
    "        \n",
    "        df['label'] = class_folder\n",
    "        dfs.append(df)\n",
    "\n",
    "    \n",
    "cols = [str(i) for i in range(90)] + ['label']\n",
    "full_df = pd.DataFrame(data=data_list, columns=cols)"
   ]
  },
  {
   "cell_type": "code",
   "execution_count": 49,
   "metadata": {},
   "outputs": [],
   "source": [
    "df = full_df[(full_df.label == 'data/walking') | (full_df.label == 'data/stairs')].copy().reset_index(drop=True)\n",
    "df['is_stairs'] = df['label'] == 'data/stairs'"
   ]
  },
  {
   "cell_type": "code",
   "execution_count": 50,
   "metadata": {},
   "outputs": [],
   "source": [
    "from sklearn.model_selection import StratifiedKFold"
   ]
  },
  {
   "cell_type": "code",
   "execution_count": 51,
   "metadata": {},
   "outputs": [],
   "source": [
    "kfold = StratifiedKFold(n_splits=5, shuffle=True, random_state=1)"
   ]
  },
  {
   "cell_type": "code",
   "execution_count": 52,
   "metadata": {},
   "outputs": [],
   "source": [
    "X = df[[str(i) for i in range(90)] ]\n",
    "y = df['is_stairs']"
   ]
  },
  {
   "cell_type": "code",
   "execution_count": 53,
   "metadata": {},
   "outputs": [],
   "source": [
    "X_orig = X.copy()\n",
    "y_orig = y.copy()"
   ]
  },
  {
   "cell_type": "code",
   "execution_count": 289,
   "metadata": {},
   "outputs": [],
   "source": [
    "from sklearn import svm\n",
    "from sklearn.metrics import f1_score, confusion_matrix"
   ]
  },
  {
   "cell_type": "code",
   "execution_count": null,
   "metadata": {},
   "outputs": [],
   "source": []
  },
  {
   "cell_type": "code",
   "execution_count": 163,
   "metadata": {},
   "outputs": [
    {
     "name": "stdout",
     "output_type": "stream",
     "text": [
      "(1612, 90)\n",
      "(1612, 90)\n",
      "(1612, 90)\n",
      "(1612, 90)\n",
      "(1612, 90)\n",
      "F1 score mean: 0.64, std: 0.07\n"
     ]
    }
   ],
   "source": [
    "X = df[[str(i) for i in range(90)] ]\n",
    "y = df['is_stairs']\n",
    "\n",
    "f_scores = []\n",
    "\n",
    "for train_ix, valid_ix in kfold.split(X, y):\n",
    "    X_train, X_valid = X.loc[train_ix], X.loc[valid_ix]\n",
    "    y_train, y_valid = y.loc[train_ix], y.loc[valid_ix]\n",
    "    print(X_train.shape)\n",
    "    cls = svm.SVC()\n",
    "    cls.fit(X_train, y_train)\n",
    "    y_pred = cls.predict(X_valid)\n",
    "    f_scores.append(f1_score(y_valid, y_pred))\n",
    "    \n",
    "print(f'F1 score mean: {round(np.mean(f_scores), 2)}, std: {round(np.std(f_scores), 2)}')"
   ]
  },
  {
   "cell_type": "code",
   "execution_count": null,
   "metadata": {},
   "outputs": [],
   "source": []
  },
  {
   "cell_type": "code",
   "execution_count": 12,
   "metadata": {},
   "outputs": [],
   "source": [
    "X_dev = X[:5]\n",
    "y_dev = y[:5]"
   ]
  },
  {
   "cell_type": "code",
   "execution_count": 13,
   "metadata": {},
   "outputs": [
    {
     "data": {
      "text/html": [
       "<div>\n",
       "<style scoped>\n",
       "    .dataframe tbody tr th:only-of-type {\n",
       "        vertical-align: middle;\n",
       "    }\n",
       "\n",
       "    .dataframe tbody tr th {\n",
       "        vertical-align: top;\n",
       "    }\n",
       "\n",
       "    .dataframe thead th {\n",
       "        text-align: right;\n",
       "    }\n",
       "</style>\n",
       "<table border=\"1\" class=\"dataframe\">\n",
       "  <thead>\n",
       "    <tr style=\"text-align: right;\">\n",
       "      <th></th>\n",
       "      <th>0</th>\n",
       "      <th>1</th>\n",
       "      <th>2</th>\n",
       "      <th>3</th>\n",
       "      <th>4</th>\n",
       "      <th>5</th>\n",
       "      <th>6</th>\n",
       "      <th>7</th>\n",
       "      <th>8</th>\n",
       "      <th>9</th>\n",
       "      <th>...</th>\n",
       "      <th>80</th>\n",
       "      <th>81</th>\n",
       "      <th>82</th>\n",
       "      <th>83</th>\n",
       "      <th>84</th>\n",
       "      <th>85</th>\n",
       "      <th>86</th>\n",
       "      <th>87</th>\n",
       "      <th>88</th>\n",
       "      <th>89</th>\n",
       "    </tr>\n",
       "  </thead>\n",
       "  <tbody>\n",
       "    <tr>\n",
       "      <th>0</th>\n",
       "      <td>0.675165</td>\n",
       "      <td>-11.607090</td>\n",
       "      <td>-2.662352</td>\n",
       "      <td>-1.278504</td>\n",
       "      <td>-2.700659</td>\n",
       "      <td>0.924162</td>\n",
       "      <td>-4.424484</td>\n",
       "      <td>-10.726024</td>\n",
       "      <td>-1.082179</td>\n",
       "      <td>0.646435</td>\n",
       "      <td>...</td>\n",
       "      <td>-0.330400</td>\n",
       "      <td>-7.350199</td>\n",
       "      <td>-12.670115</td>\n",
       "      <td>-1.460463</td>\n",
       "      <td>3.969586</td>\n",
       "      <td>-6.320692</td>\n",
       "      <td>9.255983</td>\n",
       "      <td>1.747767</td>\n",
       "      <td>2.920926</td>\n",
       "      <td>7.910443</td>\n",
       "    </tr>\n",
       "    <tr>\n",
       "      <th>1</th>\n",
       "      <td>2.264915</td>\n",
       "      <td>-9.931149</td>\n",
       "      <td>-4.659116</td>\n",
       "      <td>0.991200</td>\n",
       "      <td>-10.903194</td>\n",
       "      <td>-8.183381</td>\n",
       "      <td>2.226608</td>\n",
       "      <td>-8.044517</td>\n",
       "      <td>-2.341529</td>\n",
       "      <td>-1.647211</td>\n",
       "      <td>...</td>\n",
       "      <td>-2.202665</td>\n",
       "      <td>-3.102885</td>\n",
       "      <td>-4.644751</td>\n",
       "      <td>-2.456451</td>\n",
       "      <td>0.282516</td>\n",
       "      <td>-9.251195</td>\n",
       "      <td>-0.933739</td>\n",
       "      <td>-3.208230</td>\n",
       "      <td>-4.711789</td>\n",
       "      <td>0.885855</td>\n",
       "    </tr>\n",
       "    <tr>\n",
       "      <th>2</th>\n",
       "      <td>1.431733</td>\n",
       "      <td>-8.274360</td>\n",
       "      <td>-1.738190</td>\n",
       "      <td>-1.786074</td>\n",
       "      <td>-7.996633</td>\n",
       "      <td>-3.327940</td>\n",
       "      <td>0.885855</td>\n",
       "      <td>-11.468226</td>\n",
       "      <td>5.544971</td>\n",
       "      <td>-0.770933</td>\n",
       "      <td>...</td>\n",
       "      <td>-2.059013</td>\n",
       "      <td>3.466804</td>\n",
       "      <td>-5.406107</td>\n",
       "      <td>-2.633622</td>\n",
       "      <td>0.057461</td>\n",
       "      <td>-6.445191</td>\n",
       "      <td>-3.069367</td>\n",
       "      <td>5.880160</td>\n",
       "      <td>-6.900089</td>\n",
       "      <td>-3.509899</td>\n",
       "    </tr>\n",
       "    <tr>\n",
       "      <th>3</th>\n",
       "      <td>-0.124498</td>\n",
       "      <td>-9.442732</td>\n",
       "      <td>-0.842759</td>\n",
       "      <td>2.657564</td>\n",
       "      <td>-10.381259</td>\n",
       "      <td>0.665588</td>\n",
       "      <td>1.383849</td>\n",
       "      <td>-16.093824</td>\n",
       "      <td>-1.479617</td>\n",
       "      <td>1.771709</td>\n",
       "      <td>...</td>\n",
       "      <td>15.011644</td>\n",
       "      <td>6.871359</td>\n",
       "      <td>-2.738967</td>\n",
       "      <td>11.865664</td>\n",
       "      <td>5.521029</td>\n",
       "      <td>-0.158017</td>\n",
       "      <td>10.165780</td>\n",
       "      <td>3.394978</td>\n",
       "      <td>0.090980</td>\n",
       "      <td>5.243302</td>\n",
       "    </tr>\n",
       "    <tr>\n",
       "      <th>4</th>\n",
       "      <td>-6.478709</td>\n",
       "      <td>-22.160730</td>\n",
       "      <td>0.162806</td>\n",
       "      <td>5.272033</td>\n",
       "      <td>-25.546135</td>\n",
       "      <td>-8.652645</td>\n",
       "      <td>-2.264915</td>\n",
       "      <td>-17.348385</td>\n",
       "      <td>-2.834735</td>\n",
       "      <td>-7.426813</td>\n",
       "      <td>...</td>\n",
       "      <td>-0.866701</td>\n",
       "      <td>-1.958457</td>\n",
       "      <td>-8.978256</td>\n",
       "      <td>-4.625597</td>\n",
       "      <td>0.196325</td>\n",
       "      <td>-2.643199</td>\n",
       "      <td>-0.114922</td>\n",
       "      <td>-1.728614</td>\n",
       "      <td>-4.994304</td>\n",
       "      <td>-1.192312</td>\n",
       "    </tr>\n",
       "  </tbody>\n",
       "</table>\n",
       "<p>5 rows × 90 columns</p>\n",
       "</div>"
      ],
      "text/plain": [
       "          0          1         2         3          4         5         6  \\\n",
       "0  0.675165 -11.607090 -2.662352 -1.278504  -2.700659  0.924162 -4.424484   \n",
       "1  2.264915  -9.931149 -4.659116  0.991200 -10.903194 -8.183381  2.226608   \n",
       "2  1.431733  -8.274360 -1.738190 -1.786074  -7.996633 -3.327940  0.885855   \n",
       "3 -0.124498  -9.442732 -0.842759  2.657564 -10.381259  0.665588  1.383849   \n",
       "4 -6.478709 -22.160730  0.162806  5.272033 -25.546135 -8.652645 -2.264915   \n",
       "\n",
       "           7         8         9  ...         80        81         82  \\\n",
       "0 -10.726024 -1.082179  0.646435  ...  -0.330400 -7.350199 -12.670115   \n",
       "1  -8.044517 -2.341529 -1.647211  ...  -2.202665 -3.102885  -4.644751   \n",
       "2 -11.468226  5.544971 -0.770933  ...  -2.059013  3.466804  -5.406107   \n",
       "3 -16.093824 -1.479617  1.771709  ...  15.011644  6.871359  -2.738967   \n",
       "4 -17.348385 -2.834735 -7.426813  ...  -0.866701 -1.958457  -8.978256   \n",
       "\n",
       "          83        84        85         86        87        88        89  \n",
       "0  -1.460463  3.969586 -6.320692   9.255983  1.747767  2.920926  7.910443  \n",
       "1  -2.456451  0.282516 -9.251195  -0.933739 -3.208230 -4.711789  0.885855  \n",
       "2  -2.633622  0.057461 -6.445191  -3.069367  5.880160 -6.900089 -3.509899  \n",
       "3  11.865664  5.521029 -0.158017  10.165780  3.394978  0.090980  5.243302  \n",
       "4  -4.625597  0.196325 -2.643199  -0.114922 -1.728614 -4.994304 -1.192312  \n",
       "\n",
       "[5 rows x 90 columns]"
      ]
     },
     "execution_count": 13,
     "metadata": {},
     "output_type": "execute_result"
    }
   ],
   "source": [
    "X_dev"
   ]
  },
  {
   "cell_type": "code",
   "execution_count": 14,
   "metadata": {},
   "outputs": [],
   "source": [
    "x_acc_cols = [str(i) for i in range(0,89,3)]\n",
    "y_acc_cols = [str(i) for i in range(1,89,3)]\n",
    "z_acc_cols = [str(i) for i in range(2,90,3)]"
   ]
  },
  {
   "cell_type": "code",
   "execution_count": null,
   "metadata": {},
   "outputs": [],
   "source": []
  },
  {
   "cell_type": "code",
   "execution_count": 16,
   "metadata": {},
   "outputs": [
    {
     "data": {
      "text/plain": [
       "[PosixPath('data/running'),\n",
       " PosixPath('data/stairs'),\n",
       " PosixPath('data/walking'),\n",
       " PosixPath('data/idle')]"
      ]
     },
     "execution_count": 16,
     "metadata": {},
     "output_type": "execute_result"
    }
   ],
   "source": [
    "classes"
   ]
  },
  {
   "cell_type": "code",
   "execution_count": 17,
   "metadata": {},
   "outputs": [],
   "source": [
    "dfs = []\n",
    "def flatten_sensor_frame(df): return df.values.flatten()\n",
    "for class_folder in [Path('./data/stairs'), Path('./data/walking')]:\n",
    "    for file in class_folder.iterdir():\n",
    "        df = pd.read_csv(file)\n",
    "        \n",
    "        df['label'] = class_folder\n",
    "        dfs.append(df)\n",
    "\n",
    "    \n"
   ]
  },
  {
   "cell_type": "code",
   "execution_count": 18,
   "metadata": {},
   "outputs": [
    {
     "data": {
      "text/html": [
       "<div>\n",
       "<style scoped>\n",
       "    .dataframe tbody tr th:only-of-type {\n",
       "        vertical-align: middle;\n",
       "    }\n",
       "\n",
       "    .dataframe tbody tr th {\n",
       "        vertical-align: top;\n",
       "    }\n",
       "\n",
       "    .dataframe thead th {\n",
       "        text-align: right;\n",
       "    }\n",
       "</style>\n",
       "<table border=\"1\" class=\"dataframe\">\n",
       "  <thead>\n",
       "    <tr style=\"text-align: right;\">\n",
       "      <th></th>\n",
       "      <th>0</th>\n",
       "      <th>3</th>\n",
       "      <th>6</th>\n",
       "      <th>9</th>\n",
       "      <th>12</th>\n",
       "      <th>15</th>\n",
       "      <th>18</th>\n",
       "      <th>21</th>\n",
       "      <th>24</th>\n",
       "      <th>27</th>\n",
       "      <th>...</th>\n",
       "      <th>60</th>\n",
       "      <th>63</th>\n",
       "      <th>66</th>\n",
       "      <th>69</th>\n",
       "      <th>72</th>\n",
       "      <th>75</th>\n",
       "      <th>78</th>\n",
       "      <th>81</th>\n",
       "      <th>84</th>\n",
       "      <th>87</th>\n",
       "    </tr>\n",
       "  </thead>\n",
       "  <tbody>\n",
       "    <tr>\n",
       "      <th>0</th>\n",
       "      <td>0.675165</td>\n",
       "      <td>-1.278504</td>\n",
       "      <td>-4.424484</td>\n",
       "      <td>0.646435</td>\n",
       "      <td>-1.623269</td>\n",
       "      <td>-4.323928</td>\n",
       "      <td>-5.228936</td>\n",
       "      <td>-3.088520</td>\n",
       "      <td>-3.021482</td>\n",
       "      <td>-11.238382</td>\n",
       "      <td>...</td>\n",
       "      <td>-6.411672</td>\n",
       "      <td>-10.070012</td>\n",
       "      <td>-7.929596</td>\n",
       "      <td>-1.929727</td>\n",
       "      <td>-4.458003</td>\n",
       "      <td>-4.137180</td>\n",
       "      <td>1.829170</td>\n",
       "      <td>-7.350199</td>\n",
       "      <td>3.969586</td>\n",
       "      <td>1.747767</td>\n",
       "    </tr>\n",
       "    <tr>\n",
       "      <th>1</th>\n",
       "      <td>2.264915</td>\n",
       "      <td>0.991200</td>\n",
       "      <td>2.226608</td>\n",
       "      <td>-1.647211</td>\n",
       "      <td>8.398860</td>\n",
       "      <td>2.494758</td>\n",
       "      <td>0.823605</td>\n",
       "      <td>-6.224924</td>\n",
       "      <td>1.273715</td>\n",
       "      <td>0.723049</td>\n",
       "      <td>...</td>\n",
       "      <td>-1.278504</td>\n",
       "      <td>-0.330400</td>\n",
       "      <td>1.455675</td>\n",
       "      <td>1.613692</td>\n",
       "      <td>1.216255</td>\n",
       "      <td>-2.547430</td>\n",
       "      <td>-1.206678</td>\n",
       "      <td>-3.102885</td>\n",
       "      <td>0.282516</td>\n",
       "      <td>-3.208230</td>\n",
       "    </tr>\n",
       "    <tr>\n",
       "      <th>2</th>\n",
       "      <td>1.431733</td>\n",
       "      <td>-1.786074</td>\n",
       "      <td>0.885855</td>\n",
       "      <td>-0.770933</td>\n",
       "      <td>6.670246</td>\n",
       "      <td>0.675165</td>\n",
       "      <td>7.771579</td>\n",
       "      <td>3.873819</td>\n",
       "      <td>3.193865</td>\n",
       "      <td>4.951209</td>\n",
       "      <td>...</td>\n",
       "      <td>4.936844</td>\n",
       "      <td>5.008670</td>\n",
       "      <td>0.210690</td>\n",
       "      <td>-0.478840</td>\n",
       "      <td>-0.153229</td>\n",
       "      <td>0.627281</td>\n",
       "      <td>1.177947</td>\n",
       "      <td>3.466804</td>\n",
       "      <td>0.057461</td>\n",
       "      <td>5.880160</td>\n",
       "    </tr>\n",
       "    <tr>\n",
       "      <th>3</th>\n",
       "      <td>-0.124498</td>\n",
       "      <td>2.657564</td>\n",
       "      <td>1.383849</td>\n",
       "      <td>1.771709</td>\n",
       "      <td>1.024718</td>\n",
       "      <td>2.628834</td>\n",
       "      <td>2.422932</td>\n",
       "      <td>-0.229843</td>\n",
       "      <td>2.949657</td>\n",
       "      <td>1.134852</td>\n",
       "      <td>...</td>\n",
       "      <td>-1.082179</td>\n",
       "      <td>1.460463</td>\n",
       "      <td>-3.835511</td>\n",
       "      <td>1.776498</td>\n",
       "      <td>14.164097</td>\n",
       "      <td>10.864887</td>\n",
       "      <td>9.064447</td>\n",
       "      <td>6.871359</td>\n",
       "      <td>5.521029</td>\n",
       "      <td>3.394978</td>\n",
       "    </tr>\n",
       "    <tr>\n",
       "      <th>4</th>\n",
       "      <td>-6.478709</td>\n",
       "      <td>5.272033</td>\n",
       "      <td>-2.264915</td>\n",
       "      <td>-7.426813</td>\n",
       "      <td>-0.694318</td>\n",
       "      <td>-0.632069</td>\n",
       "      <td>3.782839</td>\n",
       "      <td>-0.507571</td>\n",
       "      <td>1.369483</td>\n",
       "      <td>2.494758</td>\n",
       "      <td>...</td>\n",
       "      <td>-0.454898</td>\n",
       "      <td>9.035717</td>\n",
       "      <td>-1.273715</td>\n",
       "      <td>-0.794875</td>\n",
       "      <td>2.336741</td>\n",
       "      <td>-6.157887</td>\n",
       "      <td>-6.904877</td>\n",
       "      <td>-1.958457</td>\n",
       "      <td>0.196325</td>\n",
       "      <td>-1.728614</td>\n",
       "    </tr>\n",
       "  </tbody>\n",
       "</table>\n",
       "<p>5 rows × 30 columns</p>\n",
       "</div>"
      ],
      "text/plain": [
       "          0         3         6         9        12        15        18  \\\n",
       "0  0.675165 -1.278504 -4.424484  0.646435 -1.623269 -4.323928 -5.228936   \n",
       "1  2.264915  0.991200  2.226608 -1.647211  8.398860  2.494758  0.823605   \n",
       "2  1.431733 -1.786074  0.885855 -0.770933  6.670246  0.675165  7.771579   \n",
       "3 -0.124498  2.657564  1.383849  1.771709  1.024718  2.628834  2.422932   \n",
       "4 -6.478709  5.272033 -2.264915 -7.426813 -0.694318 -0.632069  3.782839   \n",
       "\n",
       "         21        24         27  ...        60         63        66  \\\n",
       "0 -3.088520 -3.021482 -11.238382  ... -6.411672 -10.070012 -7.929596   \n",
       "1 -6.224924  1.273715   0.723049  ... -1.278504  -0.330400  1.455675   \n",
       "2  3.873819  3.193865   4.951209  ...  4.936844   5.008670  0.210690   \n",
       "3 -0.229843  2.949657   1.134852  ... -1.082179   1.460463 -3.835511   \n",
       "4 -0.507571  1.369483   2.494758  ... -0.454898   9.035717 -1.273715   \n",
       "\n",
       "         69         72         75        78        81        84        87  \n",
       "0 -1.929727  -4.458003  -4.137180  1.829170 -7.350199  3.969586  1.747767  \n",
       "1  1.613692   1.216255  -2.547430 -1.206678 -3.102885  0.282516 -3.208230  \n",
       "2 -0.478840  -0.153229   0.627281  1.177947  3.466804  0.057461  5.880160  \n",
       "3  1.776498  14.164097  10.864887  9.064447  6.871359  5.521029  3.394978  \n",
       "4 -0.794875   2.336741  -6.157887 -6.904877 -1.958457  0.196325 -1.728614  \n",
       "\n",
       "[5 rows x 30 columns]"
      ]
     },
     "execution_count": 18,
     "metadata": {},
     "output_type": "execute_result"
    }
   ],
   "source": [
    "X_dev[x_acc_cols]"
   ]
  },
  {
   "cell_type": "code",
   "execution_count": 19,
   "metadata": {},
   "outputs": [
    {
     "data": {
      "text/html": [
       "<div>\n",
       "<style scoped>\n",
       "    .dataframe tbody tr th:only-of-type {\n",
       "        vertical-align: middle;\n",
       "    }\n",
       "\n",
       "    .dataframe tbody tr th {\n",
       "        vertical-align: top;\n",
       "    }\n",
       "\n",
       "    .dataframe thead th {\n",
       "        text-align: right;\n",
       "    }\n",
       "</style>\n",
       "<table border=\"1\" class=\"dataframe\">\n",
       "  <thead>\n",
       "    <tr style=\"text-align: right;\">\n",
       "      <th></th>\n",
       "      <th>accelerometer_X</th>\n",
       "      <th>accelerometer_Y</th>\n",
       "      <th>accelerometer_Z</th>\n",
       "      <th>label</th>\n",
       "    </tr>\n",
       "  </thead>\n",
       "  <tbody>\n",
       "    <tr>\n",
       "      <th>0</th>\n",
       "      <td>0.675165</td>\n",
       "      <td>-11.607090</td>\n",
       "      <td>-2.662352</td>\n",
       "      <td>data/stairs</td>\n",
       "    </tr>\n",
       "    <tr>\n",
       "      <th>1</th>\n",
       "      <td>-1.278504</td>\n",
       "      <td>-2.700659</td>\n",
       "      <td>0.924162</td>\n",
       "      <td>data/stairs</td>\n",
       "    </tr>\n",
       "    <tr>\n",
       "      <th>2</th>\n",
       "      <td>-4.424484</td>\n",
       "      <td>-10.726024</td>\n",
       "      <td>-1.082179</td>\n",
       "      <td>data/stairs</td>\n",
       "    </tr>\n",
       "    <tr>\n",
       "      <th>3</th>\n",
       "      <td>0.646435</td>\n",
       "      <td>-0.641646</td>\n",
       "      <td>-1.048660</td>\n",
       "      <td>data/stairs</td>\n",
       "    </tr>\n",
       "    <tr>\n",
       "      <th>4</th>\n",
       "      <td>-1.623269</td>\n",
       "      <td>-6.603208</td>\n",
       "      <td>0.071826</td>\n",
       "      <td>data/stairs</td>\n",
       "    </tr>\n",
       "  </tbody>\n",
       "</table>\n",
       "</div>"
      ],
      "text/plain": [
       "   accelerometer_X  accelerometer_Y  accelerometer_Z        label\n",
       "0         0.675165       -11.607090        -2.662352  data/stairs\n",
       "1        -1.278504        -2.700659         0.924162  data/stairs\n",
       "2        -4.424484       -10.726024        -1.082179  data/stairs\n",
       "3         0.646435        -0.641646        -1.048660  data/stairs\n",
       "4        -1.623269        -6.603208         0.071826  data/stairs"
      ]
     },
     "execution_count": 19,
     "metadata": {},
     "output_type": "execute_result"
    }
   ],
   "source": [
    "dfs[0].head()"
   ]
  },
  {
   "cell_type": "code",
   "execution_count": 20,
   "metadata": {},
   "outputs": [
    {
     "data": {
      "text/html": [
       "<div>\n",
       "<style scoped>\n",
       "    .dataframe tbody tr th:only-of-type {\n",
       "        vertical-align: middle;\n",
       "    }\n",
       "\n",
       "    .dataframe tbody tr th {\n",
       "        vertical-align: top;\n",
       "    }\n",
       "\n",
       "    .dataframe thead th {\n",
       "        text-align: right;\n",
       "    }\n",
       "</style>\n",
       "<table border=\"1\" class=\"dataframe\">\n",
       "  <thead>\n",
       "    <tr style=\"text-align: right;\">\n",
       "      <th></th>\n",
       "      <th>0</th>\n",
       "      <th>1</th>\n",
       "      <th>2</th>\n",
       "      <th>3</th>\n",
       "      <th>4</th>\n",
       "      <th>5</th>\n",
       "      <th>6</th>\n",
       "      <th>7</th>\n",
       "      <th>8</th>\n",
       "      <th>9</th>\n",
       "      <th>...</th>\n",
       "      <th>80</th>\n",
       "      <th>81</th>\n",
       "      <th>82</th>\n",
       "      <th>83</th>\n",
       "      <th>84</th>\n",
       "      <th>85</th>\n",
       "      <th>86</th>\n",
       "      <th>87</th>\n",
       "      <th>88</th>\n",
       "      <th>89</th>\n",
       "    </tr>\n",
       "  </thead>\n",
       "  <tbody>\n",
       "    <tr>\n",
       "      <th>0</th>\n",
       "      <td>0.675165</td>\n",
       "      <td>-11.607090</td>\n",
       "      <td>-2.662352</td>\n",
       "      <td>-1.278504</td>\n",
       "      <td>-2.700659</td>\n",
       "      <td>0.924162</td>\n",
       "      <td>-4.424484</td>\n",
       "      <td>-10.726024</td>\n",
       "      <td>-1.082179</td>\n",
       "      <td>0.646435</td>\n",
       "      <td>...</td>\n",
       "      <td>-0.330400</td>\n",
       "      <td>-7.350199</td>\n",
       "      <td>-12.670115</td>\n",
       "      <td>-1.460463</td>\n",
       "      <td>3.969586</td>\n",
       "      <td>-6.320692</td>\n",
       "      <td>9.255983</td>\n",
       "      <td>1.747767</td>\n",
       "      <td>2.920926</td>\n",
       "      <td>7.910443</td>\n",
       "    </tr>\n",
       "    <tr>\n",
       "      <th>1</th>\n",
       "      <td>2.264915</td>\n",
       "      <td>-9.931149</td>\n",
       "      <td>-4.659116</td>\n",
       "      <td>0.991200</td>\n",
       "      <td>-10.903194</td>\n",
       "      <td>-8.183381</td>\n",
       "      <td>2.226608</td>\n",
       "      <td>-8.044517</td>\n",
       "      <td>-2.341529</td>\n",
       "      <td>-1.647211</td>\n",
       "      <td>...</td>\n",
       "      <td>-2.202665</td>\n",
       "      <td>-3.102885</td>\n",
       "      <td>-4.644751</td>\n",
       "      <td>-2.456451</td>\n",
       "      <td>0.282516</td>\n",
       "      <td>-9.251195</td>\n",
       "      <td>-0.933739</td>\n",
       "      <td>-3.208230</td>\n",
       "      <td>-4.711789</td>\n",
       "      <td>0.885855</td>\n",
       "    </tr>\n",
       "    <tr>\n",
       "      <th>2</th>\n",
       "      <td>1.431733</td>\n",
       "      <td>-8.274360</td>\n",
       "      <td>-1.738190</td>\n",
       "      <td>-1.786074</td>\n",
       "      <td>-7.996633</td>\n",
       "      <td>-3.327940</td>\n",
       "      <td>0.885855</td>\n",
       "      <td>-11.468226</td>\n",
       "      <td>5.544971</td>\n",
       "      <td>-0.770933</td>\n",
       "      <td>...</td>\n",
       "      <td>-2.059013</td>\n",
       "      <td>3.466804</td>\n",
       "      <td>-5.406107</td>\n",
       "      <td>-2.633622</td>\n",
       "      <td>0.057461</td>\n",
       "      <td>-6.445191</td>\n",
       "      <td>-3.069367</td>\n",
       "      <td>5.880160</td>\n",
       "      <td>-6.900089</td>\n",
       "      <td>-3.509899</td>\n",
       "    </tr>\n",
       "    <tr>\n",
       "      <th>3</th>\n",
       "      <td>-0.124498</td>\n",
       "      <td>-9.442732</td>\n",
       "      <td>-0.842759</td>\n",
       "      <td>2.657564</td>\n",
       "      <td>-10.381259</td>\n",
       "      <td>0.665588</td>\n",
       "      <td>1.383849</td>\n",
       "      <td>-16.093824</td>\n",
       "      <td>-1.479617</td>\n",
       "      <td>1.771709</td>\n",
       "      <td>...</td>\n",
       "      <td>15.011644</td>\n",
       "      <td>6.871359</td>\n",
       "      <td>-2.738967</td>\n",
       "      <td>11.865664</td>\n",
       "      <td>5.521029</td>\n",
       "      <td>-0.158017</td>\n",
       "      <td>10.165780</td>\n",
       "      <td>3.394978</td>\n",
       "      <td>0.090980</td>\n",
       "      <td>5.243302</td>\n",
       "    </tr>\n",
       "    <tr>\n",
       "      <th>4</th>\n",
       "      <td>-6.478709</td>\n",
       "      <td>-22.160730</td>\n",
       "      <td>0.162806</td>\n",
       "      <td>5.272033</td>\n",
       "      <td>-25.546135</td>\n",
       "      <td>-8.652645</td>\n",
       "      <td>-2.264915</td>\n",
       "      <td>-17.348385</td>\n",
       "      <td>-2.834735</td>\n",
       "      <td>-7.426813</td>\n",
       "      <td>...</td>\n",
       "      <td>-0.866701</td>\n",
       "      <td>-1.958457</td>\n",
       "      <td>-8.978256</td>\n",
       "      <td>-4.625597</td>\n",
       "      <td>0.196325</td>\n",
       "      <td>-2.643199</td>\n",
       "      <td>-0.114922</td>\n",
       "      <td>-1.728614</td>\n",
       "      <td>-4.994304</td>\n",
       "      <td>-1.192312</td>\n",
       "    </tr>\n",
       "    <tr>\n",
       "      <th>...</th>\n",
       "      <td>...</td>\n",
       "      <td>...</td>\n",
       "      <td>...</td>\n",
       "      <td>...</td>\n",
       "      <td>...</td>\n",
       "      <td>...</td>\n",
       "      <td>...</td>\n",
       "      <td>...</td>\n",
       "      <td>...</td>\n",
       "      <td>...</td>\n",
       "      <td>...</td>\n",
       "      <td>...</td>\n",
       "      <td>...</td>\n",
       "      <td>...</td>\n",
       "      <td>...</td>\n",
       "      <td>...</td>\n",
       "      <td>...</td>\n",
       "      <td>...</td>\n",
       "      <td>...</td>\n",
       "      <td>...</td>\n",
       "      <td>...</td>\n",
       "    </tr>\n",
       "    <tr>\n",
       "      <th>2010</th>\n",
       "      <td>-0.852336</td>\n",
       "      <td>-7.240066</td>\n",
       "      <td>-0.914585</td>\n",
       "      <td>-2.341529</td>\n",
       "      <td>-9.883265</td>\n",
       "      <td>-0.938527</td>\n",
       "      <td>-3.974375</td>\n",
       "      <td>-21.327547</td>\n",
       "      <td>-6.823475</td>\n",
       "      <td>-5.674258</td>\n",
       "      <td>...</td>\n",
       "      <td>-12.018892</td>\n",
       "      <td>-5.995081</td>\n",
       "      <td>-9.749189</td>\n",
       "      <td>-0.857124</td>\n",
       "      <td>-1.206678</td>\n",
       "      <td>-19.426552</td>\n",
       "      <td>-2.178723</td>\n",
       "      <td>0.861913</td>\n",
       "      <td>-15.878345</td>\n",
       "      <td>-3.342306</td>\n",
       "    </tr>\n",
       "    <tr>\n",
       "      <th>2011</th>\n",
       "      <td>0.584185</td>\n",
       "      <td>1.134852</td>\n",
       "      <td>1.273715</td>\n",
       "      <td>-2.245761</td>\n",
       "      <td>-7.393295</td>\n",
       "      <td>1.043872</td>\n",
       "      <td>-0.799663</td>\n",
       "      <td>-3.878607</td>\n",
       "      <td>2.863465</td>\n",
       "      <td>-2.442086</td>\n",
       "      <td>...</td>\n",
       "      <td>-1.489193</td>\n",
       "      <td>-2.245761</td>\n",
       "      <td>-7.024587</td>\n",
       "      <td>-7.177817</td>\n",
       "      <td>-0.478840</td>\n",
       "      <td>-12.162544</td>\n",
       "      <td>-1.484405</td>\n",
       "      <td>-0.215478</td>\n",
       "      <td>-1.326388</td>\n",
       "      <td>0.617704</td>\n",
       "    </tr>\n",
       "    <tr>\n",
       "      <th>2012</th>\n",
       "      <td>1.187524</td>\n",
       "      <td>-15.638926</td>\n",
       "      <td>-3.145981</td>\n",
       "      <td>1.407791</td>\n",
       "      <td>-10.319010</td>\n",
       "      <td>1.891419</td>\n",
       "      <td>-2.767697</td>\n",
       "      <td>-15.911864</td>\n",
       "      <td>6.272809</td>\n",
       "      <td>2.226608</td>\n",
       "      <td>...</td>\n",
       "      <td>5.621586</td>\n",
       "      <td>-4.515464</td>\n",
       "      <td>-0.325611</td>\n",
       "      <td>3.806781</td>\n",
       "      <td>-1.939303</td>\n",
       "      <td>-6.823475</td>\n",
       "      <td>-4.127603</td>\n",
       "      <td>0.646435</td>\n",
       "      <td>-9.902418</td>\n",
       "      <td>-0.703895</td>\n",
       "    </tr>\n",
       "    <tr>\n",
       "      <th>2013</th>\n",
       "      <td>1.647211</td>\n",
       "      <td>-3.912125</td>\n",
       "      <td>2.264915</td>\n",
       "      <td>4.927267</td>\n",
       "      <td>-7.240066</td>\n",
       "      <td>2.092532</td>\n",
       "      <td>-1.436521</td>\n",
       "      <td>-16.745047</td>\n",
       "      <td>4.932056</td>\n",
       "      <td>5.497087</td>\n",
       "      <td>...</td>\n",
       "      <td>4.486734</td>\n",
       "      <td>6.943185</td>\n",
       "      <td>-12.061988</td>\n",
       "      <td>-2.949656</td>\n",
       "      <td>4.745308</td>\n",
       "      <td>-6.789956</td>\n",
       "      <td>15.102624</td>\n",
       "      <td>4.587291</td>\n",
       "      <td>-12.971785</td>\n",
       "      <td>-2.308010</td>\n",
       "    </tr>\n",
       "    <tr>\n",
       "      <th>2014</th>\n",
       "      <td>-6.560112</td>\n",
       "      <td>-15.083470</td>\n",
       "      <td>-1.359906</td>\n",
       "      <td>-1.383848</td>\n",
       "      <td>-8.480263</td>\n",
       "      <td>32.312145</td>\n",
       "      <td>-2.786851</td>\n",
       "      <td>-12.694057</td>\n",
       "      <td>0.191536</td>\n",
       "      <td>-13.421895</td>\n",
       "      <td>...</td>\n",
       "      <td>1.244985</td>\n",
       "      <td>-1.422156</td>\n",
       "      <td>-12.559982</td>\n",
       "      <td>-5.679046</td>\n",
       "      <td>-3.485957</td>\n",
       "      <td>-12.157756</td>\n",
       "      <td>-0.976834</td>\n",
       "      <td>-5.406107</td>\n",
       "      <td>0.383072</td>\n",
       "      <td>-16.869543</td>\n",
       "    </tr>\n",
       "  </tbody>\n",
       "</table>\n",
       "<p>2015 rows × 90 columns</p>\n",
       "</div>"
      ],
      "text/plain": [
       "             0          1         2         3          4          5         6  \\\n",
       "0     0.675165 -11.607090 -2.662352 -1.278504  -2.700659   0.924162 -4.424484   \n",
       "1     2.264915  -9.931149 -4.659116  0.991200 -10.903194  -8.183381  2.226608   \n",
       "2     1.431733  -8.274360 -1.738190 -1.786074  -7.996633  -3.327940  0.885855   \n",
       "3    -0.124498  -9.442732 -0.842759  2.657564 -10.381259   0.665588  1.383849   \n",
       "4    -6.478709 -22.160730  0.162806  5.272033 -25.546135  -8.652645 -2.264915   \n",
       "...        ...        ...       ...       ...        ...        ...       ...   \n",
       "2010 -0.852336  -7.240066 -0.914585 -2.341529  -9.883265  -0.938527 -3.974375   \n",
       "2011  0.584185   1.134852  1.273715 -2.245761  -7.393295   1.043872 -0.799663   \n",
       "2012  1.187524 -15.638926 -3.145981  1.407791 -10.319010   1.891419 -2.767697   \n",
       "2013  1.647211  -3.912125  2.264915  4.927267  -7.240066   2.092532 -1.436521   \n",
       "2014 -6.560112 -15.083470 -1.359906 -1.383848  -8.480263  32.312145 -2.786851   \n",
       "\n",
       "              7         8          9  ...         80        81         82  \\\n",
       "0    -10.726024 -1.082179   0.646435  ...  -0.330400 -7.350199 -12.670115   \n",
       "1     -8.044517 -2.341529  -1.647211  ...  -2.202665 -3.102885  -4.644751   \n",
       "2    -11.468226  5.544971  -0.770933  ...  -2.059013  3.466804  -5.406107   \n",
       "3    -16.093824 -1.479617   1.771709  ...  15.011644  6.871359  -2.738967   \n",
       "4    -17.348385 -2.834735  -7.426813  ...  -0.866701 -1.958457  -8.978256   \n",
       "...         ...       ...        ...  ...        ...       ...        ...   \n",
       "2010 -21.327547 -6.823475  -5.674258  ... -12.018892 -5.995081  -9.749189   \n",
       "2011  -3.878607  2.863465  -2.442086  ...  -1.489193 -2.245761  -7.024587   \n",
       "2012 -15.911864  6.272809   2.226608  ...   5.621586 -4.515464  -0.325611   \n",
       "2013 -16.745047  4.932056   5.497087  ...   4.486734  6.943185 -12.061988   \n",
       "2014 -12.694057  0.191536 -13.421895  ...   1.244985 -1.422156 -12.559982   \n",
       "\n",
       "             83        84         85         86        87         88  \\\n",
       "0     -1.460463  3.969586  -6.320692   9.255983  1.747767   2.920926   \n",
       "1     -2.456451  0.282516  -9.251195  -0.933739 -3.208230  -4.711789   \n",
       "2     -2.633622  0.057461  -6.445191  -3.069367  5.880160  -6.900089   \n",
       "3     11.865664  5.521029  -0.158017  10.165780  3.394978   0.090980   \n",
       "4     -4.625597  0.196325  -2.643199  -0.114922 -1.728614  -4.994304   \n",
       "...         ...       ...        ...        ...       ...        ...   \n",
       "2010  -0.857124 -1.206678 -19.426552  -2.178723  0.861913 -15.878345   \n",
       "2011  -7.177817 -0.478840 -12.162544  -1.484405 -0.215478  -1.326388   \n",
       "2012   3.806781 -1.939303  -6.823475  -4.127603  0.646435  -9.902418   \n",
       "2013  -2.949656  4.745308  -6.789956  15.102624  4.587291 -12.971785   \n",
       "2014  -5.679046 -3.485957 -12.157756  -0.976834 -5.406107   0.383072   \n",
       "\n",
       "             89  \n",
       "0      7.910443  \n",
       "1      0.885855  \n",
       "2     -3.509899  \n",
       "3      5.243302  \n",
       "4     -1.192312  \n",
       "...         ...  \n",
       "2010  -3.342306  \n",
       "2011   0.617704  \n",
       "2012  -0.703895  \n",
       "2013  -2.308010  \n",
       "2014 -16.869543  \n",
       "\n",
       "[2015 rows x 90 columns]"
      ]
     },
     "execution_count": 20,
     "metadata": {},
     "output_type": "execute_result"
    }
   ],
   "source": [
    "X"
   ]
  },
  {
   "cell_type": "code",
   "execution_count": 21,
   "metadata": {},
   "outputs": [
    {
     "data": {
      "text/plain": [
       "(2015, 30)"
      ]
     },
     "execution_count": 21,
     "metadata": {},
     "output_type": "execute_result"
    }
   ],
   "source": [
    "x_part = X[x_acc_cols].values\n",
    "y_part = X[y_acc_cols].values\n",
    "z_part = X[z_acc_cols].values\n",
    "# a_part = X_train[acceleration_cols].values\n",
    "y_part.shape"
   ]
  },
  {
   "cell_type": "code",
   "execution_count": 22,
   "metadata": {},
   "outputs": [
    {
     "data": {
      "text/plain": [
       "(2015, 3, 30)"
      ]
     },
     "execution_count": 22,
     "metadata": {},
     "output_type": "execute_result"
    }
   ],
   "source": [
    "features = np.stack([x_part, y_part, z_part], axis=1)\n",
    "features.shape"
   ]
  },
  {
   "cell_type": "code",
   "execution_count": 23,
   "metadata": {},
   "outputs": [
    {
     "data": {
      "text/plain": [
       "(2015,)"
      ]
     },
     "execution_count": 23,
     "metadata": {},
     "output_type": "execute_result"
    }
   ],
   "source": [
    "y.shape"
   ]
  },
  {
   "cell_type": "code",
   "execution_count": null,
   "metadata": {},
   "outputs": [],
   "source": []
  },
  {
   "cell_type": "code",
   "execution_count": null,
   "metadata": {},
   "outputs": [],
   "source": [
    "# class FrameSlidingClassifier_SVM():\n",
    "#     def __init__(self, window_size=20, frame_length):\n",
    "#         self.window_size=window_size\n",
    "        \n",
    "#     def fit(self, X, y):\n",
    "#         pass"
   ]
  },
  {
   "cell_type": "code",
   "execution_count": null,
   "metadata": {},
   "outputs": [],
   "source": []
  },
  {
   "cell_type": "code",
   "execution_count": 28,
   "metadata": {},
   "outputs": [],
   "source": [
    "def split_frames_to_windows(X, window_size = 20):\n",
    "    frame_length = X.shape[-1]\n",
    "    n_windows = frame_length - window_size + 1\n",
    "    i = 0\n",
    "\n",
    "    X_extended = []\n",
    "    for i in range(0, n_windows):\n",
    "        X_extended.append(X[:, :, i:window_size+i])\n",
    "\n",
    "    X_extended = np.vstack(X_extended)\n",
    "    return X_extended"
   ]
  },
  {
   "cell_type": "code",
   "execution_count": 29,
   "metadata": {},
   "outputs": [
    {
     "data": {
      "text/plain": [
       "array([[[5, 3, 4, 0],\n",
       "        [1, 3, 5, 0],\n",
       "        [0, 1, 4, 5]]])"
      ]
     },
     "execution_count": 29,
     "metadata": {},
     "output_type": "execute_result"
    }
   ],
   "source": [
    "np.random.seed(1)\n",
    "sample_X = np.random.randint(6, size=(1,3,4))\n",
    "sample_X"
   ]
  },
  {
   "cell_type": "code",
   "execution_count": 30,
   "metadata": {},
   "outputs": [
    {
     "data": {
      "text/plain": [
       "array([[[5, 3, 4],\n",
       "        [1, 3, 5],\n",
       "        [0, 1, 4]],\n",
       "\n",
       "       [[3, 4, 0],\n",
       "        [3, 5, 0],\n",
       "        [1, 4, 5]]])"
      ]
     },
     "execution_count": 30,
     "metadata": {},
     "output_type": "execute_result"
    }
   ],
   "source": [
    "sample_windows = split_frames_to_windows(sample_X, window_size=3)\n",
    "assert len(sample_windows)      == 2 # we expect to get 2 windows\n",
    "assert sample_windows.shape[1:] == (3,3) # we expect each window to be 3x3\n",
    "\n",
    "sample_windows"
   ]
  },
  {
   "cell_type": "code",
   "execution_count": null,
   "metadata": {},
   "outputs": [],
   "source": []
  },
  {
   "cell_type": "code",
   "execution_count": 439,
   "metadata": {},
   "outputs": [],
   "source": [
    "def fold_predictions_incorrect(y_pred, n_windows):\n",
    "    n_preds = int(len(y_pred)/n_windows)\n",
    "    y_pred_collapsed = []\n",
    "    for i in range(n_preds):\n",
    "        window_preds = y_pred[(i*n_windows):(i+1)*n_windows]\n",
    "        y_pred_collapsed.append(np.mean(window_preds))\n",
    "    return np.array(y_pred_collapsed)\n",
    "\n",
    "\n",
    "def fold_predictions(y_pred, n_windows):\n",
    "    y_pred = y_pred.reshape(n_windows, -1)\n",
    "    return y_pred.mean(axis=0)"
   ]
  },
  {
   "cell_type": "code",
   "execution_count": 440,
   "metadata": {},
   "outputs": [],
   "source": [
    "sample_preds = np.array([1, 0, 1, 1, 0, 0])\n",
    "expected_preds = np.array([1., 0., .5])\n",
    "\n",
    "actual_preds = fold_predictions(sample_preds, n_windows=2)\n",
    "\n",
    "assert np.allclose(actual_preds, expected_preds)"
   ]
  },
  {
   "cell_type": "code",
   "execution_count": null,
   "metadata": {},
   "outputs": [],
   "source": []
  },
  {
   "cell_type": "code",
   "execution_count": 35,
   "metadata": {},
   "outputs": [],
   "source": [
    "def assemble_ts_parts(X):\n",
    "    x_part = X[x_acc_cols].values\n",
    "    y_part = X[y_acc_cols].values\n",
    "    z_part = X[z_acc_cols].values\n",
    "    features = np.stack([x_part, y_part, z_part], axis=1)\n",
    "    \n",
    "    return features"
   ]
  },
  {
   "cell_type": "code",
   "execution_count": null,
   "metadata": {},
   "outputs": [],
   "source": []
  },
  {
   "cell_type": "code",
   "execution_count": null,
   "metadata": {},
   "outputs": [],
   "source": []
  },
  {
   "cell_type": "code",
   "execution_count": 62,
   "metadata": {},
   "outputs": [
    {
     "name": "stdout",
     "output_type": "stream",
     "text": [
      "F1 score mean: 0.64, std: 0.07\n"
     ]
    }
   ],
   "source": [
    "X = df[[str(i) for i in range(90)] ]\n",
    "y = df['is_stairs']\n",
    "\n",
    "f_scores = []\n",
    "\n",
    "for train_ix, valid_ix in kfold.split(X, y):\n",
    "    X_train, X_valid = X.loc[train_ix], X.loc[valid_ix]\n",
    "    y_train, y_valid = y.loc[train_ix], y.loc[valid_ix]\n",
    "    \n",
    "    cls = svm.SVC()\n",
    "    cls.fit(X_train, y_train)\n",
    "    y_pred = cls.predict(X_valid)\n",
    "    f_scores.append(f1_score(y_valid, y_pred))\n",
    "    \n",
    "print(f'F1 score mean: {round(np.mean(f_scores), 2)}, std: {round(np.std(f_scores), 2)}')"
   ]
  },
  {
   "cell_type": "code",
   "execution_count": null,
   "metadata": {},
   "outputs": [],
   "source": []
  },
  {
   "cell_type": "code",
   "execution_count": 58,
   "metadata": {},
   "outputs": [
    {
     "data": {
      "text/plain": [
       "(2015, 3, 30)"
      ]
     },
     "execution_count": 58,
     "metadata": {},
     "output_type": "execute_result"
    }
   ],
   "source": [
    "assemble_ts_parts(X_orig).shape"
   ]
  },
  {
   "cell_type": "code",
   "execution_count": 59,
   "metadata": {},
   "outputs": [
    {
     "data": {
      "text/plain": [
       "0        True\n",
       "1        True\n",
       "2        True\n",
       "3        True\n",
       "4        True\n",
       "        ...  \n",
       "2010    False\n",
       "2011    False\n",
       "2012    False\n",
       "2013    False\n",
       "2014    False\n",
       "Name: is_stairs, Length: 2015, dtype: bool"
      ]
     },
     "execution_count": 59,
     "metadata": {},
     "output_type": "execute_result"
    }
   ],
   "source": [
    "y_orig"
   ]
  },
  {
   "cell_type": "code",
   "execution_count": 61,
   "metadata": {},
   "outputs": [
    {
     "data": {
      "text/plain": [
       "(4030,)"
      ]
     },
     "execution_count": 61,
     "metadata": {},
     "output_type": "execute_result"
    }
   ],
   "source": [
    "y_orig.repeat(n_windows).shape"
   ]
  },
  {
   "cell_type": "code",
   "execution_count": 68,
   "metadata": {},
   "outputs": [
    {
     "data": {
      "text/plain": [
       "array([1, 2, 1, 2, 1, 2])"
      ]
     },
     "execution_count": 68,
     "metadata": {},
     "output_type": "execute_result"
    }
   ],
   "source": [
    "np.tile(np.array([1,2]), 3)"
   ]
  },
  {
   "cell_type": "code",
   "execution_count": 71,
   "metadata": {},
   "outputs": [],
   "source": [
    "window_size = 29\n",
    "n_windows = FRAME_LENGTH - window_size + 1\n",
    "X_extended = split_frames_to_windows(assemble_ts_parts(df[[str(i) for i in range(90)] ]), window_size=window_size)\n",
    "y_extended = np.tile(y_orig, n_windows)"
   ]
  },
  {
   "cell_type": "code",
   "execution_count": 72,
   "metadata": {},
   "outputs": [
    {
     "name": "stdout",
     "output_type": "stream",
     "text": [
      "[[734   6]\n",
      " [ 31  35]]\n",
      "[[736   4]\n",
      " [ 28  38]]\n",
      "[[739   1]\n",
      " [ 35  31]]\n",
      "[[733   7]\n",
      " [ 28  38]]\n",
      "[[734   6]\n",
      " [ 29  37]]\n",
      "F1 score mean: 0.67, std: 0.02\n"
     ]
    }
   ],
   "source": [
    "X = X_extended.reshape(len(X_extended), -1)\n",
    "y = y_extended\n",
    "\n",
    "f_scores = []\n",
    "\n",
    "for train_ix, valid_ix in kfold.split(X, y):\n",
    "    X_train, X_valid = X[train_ix], X[valid_ix]\n",
    "    y_train, y_valid = y[train_ix], y[valid_ix]\n",
    "    \n",
    "    cls = svm.SVC()\n",
    "    cls.fit(X_train, y_train)\n",
    "    y_pred = cls.predict(X_valid)\n",
    "    f_scores.append(f1_score(y_valid, y_pred))\n",
    "    \n",
    "    print(confusion_matrix(y_valid, y_pred))\n",
    "    \n",
    "print(f'F1 score mean: {round(np.mean(f_scores), 2)}, std: {round(np.std(f_scores), 2)}')"
   ]
  },
  {
   "cell_type": "code",
   "execution_count": 73,
   "metadata": {},
   "outputs": [],
   "source": [
    "from tqdm.auto import tqdm"
   ]
  },
  {
   "cell_type": "code",
   "execution_count": 74,
   "metadata": {},
   "outputs": [],
   "source": [
    "def get_f_score(window_size):\n",
    "    n_windows = FRAME_LENGTH - window_size + 1\n",
    "    X_extended = split_frames_to_windows(assemble_ts_parts(df[[str(i) for i in range(90)] ]), window_size=window_size)\n",
    "    y_extended = np.tile(y_orig, n_windows)\n",
    "    \n",
    "    X = X_extended.reshape(len(X_extended), -1)\n",
    "    y = y_extended\n",
    "\n",
    "    f_scores = []\n",
    "\n",
    "    for train_ix, valid_ix in kfold.split(X, y):\n",
    "        X_train, X_valid = X[train_ix], X[valid_ix]\n",
    "        y_train, y_valid = y[train_ix], y[valid_ix]\n",
    "\n",
    "        cls = svm.SVC()\n",
    "        cls.fit(X_train, y_train)\n",
    "        y_pred = cls.predict(X_valid)\n",
    "        f_scores.append(f1_score(y_valid, y_pred))\n",
    "\n",
    "    return np.mean(f_scores)\n",
    "\n"
   ]
  },
  {
   "cell_type": "code",
   "execution_count": 76,
   "metadata": {},
   "outputs": [
    {
     "data": {
      "application/vnd.jupyter.widget-view+json": {
       "model_id": "f270ec9bcff44b929154bd76c67b6f33",
       "version_major": 2,
       "version_minor": 0
      },
      "text/plain": [
       "HBox(children=(HTML(value=''), FloatProgress(value=0.0, max=21.0), HTML(value='')))"
      ]
     },
     "metadata": {},
     "output_type": "display_data"
    },
    {
     "name": "stdout",
     "output_type": "stream",
     "text": [
      "\n"
     ]
    }
   ],
   "source": [
    "window_sizes = list(range(10, 31))\n",
    "f_scores = []\n",
    "\n",
    "for window_size in tqdm(window_sizes):\n",
    "    f_scores.append(get_f_score(window_size))\n",
    "    "
   ]
  },
  {
   "cell_type": "code",
   "execution_count": 78,
   "metadata": {},
   "outputs": [
    {
     "data": {
      "text/plain": [
       "<matplotlib.axes._subplots.AxesSubplot at 0x7fe306074110>"
      ]
     },
     "execution_count": 78,
     "metadata": {},
     "output_type": "execute_result"
    },
    {
     "data": {
      "image/png": "[encoded data removed]",
      "text/plain": [
       "<Figure size 432x288 with 1 Axes>"
      ]
     },
     "metadata": {
      "needs_background": "light"
     },
     "output_type": "display_data"
    }
   ],
   "source": [
    "sns.lineplot(x=window_sizes, y=f_scores)\n",
    "sns.scatterplot(x=window_sizes, y=f_scores)"
   ]
  },
  {
   "cell_type": "code",
   "execution_count": null,
   "metadata": {},
   "outputs": [],
   "source": []
  },
  {
   "cell_type": "code",
   "execution_count": 79,
   "metadata": {},
   "outputs": [
    {
     "name": "stdout",
     "output_type": "stream",
     "text": [
      "F1 score mean: 0.64, std: 0.07\n"
     ]
    }
   ],
   "source": [
    "X = df[[str(i) for i in range(90)] ]\n",
    "y = df['is_stairs']\n",
    "\n",
    "f_scores = []\n",
    "\n",
    "for train_ix, valid_ix in kfold.split(X, y):\n",
    "    X_train, X_valid = X.loc[train_ix], X.loc[valid_ix]\n",
    "    y_train, y_valid = y.loc[train_ix], y.loc[valid_ix]\n",
    "    \n",
    "    cls = svm.SVC()\n",
    "    cls.fit(X_train, y_train)\n",
    "    y_pred = cls.predict(X_valid)\n",
    "    f_scores.append(f1_score(y_valid, y_pred))\n",
    "    \n",
    "print(f'F1 score mean: {round(np.mean(f_scores), 2)}, std: {round(np.std(f_scores), 2)}')"
   ]
  },
  {
   "cell_type": "code",
   "execution_count": 80,
   "metadata": {},
   "outputs": [],
   "source": [
    "X_train, X_valid = X_orig.loc[train_ix], X_orig.loc[valid_ix]\n",
    "y_train, y_valid = y[train_ix], y[valid_ix]"
   ]
  },
  {
   "cell_type": "code",
   "execution_count": 81,
   "metadata": {},
   "outputs": [
    {
     "data": {
      "text/plain": [
       "(1612, 90)"
      ]
     },
     "execution_count": 81,
     "metadata": {},
     "output_type": "execute_result"
    }
   ],
   "source": [
    "X_train.shape"
   ]
  },
  {
   "cell_type": "code",
   "execution_count": 82,
   "metadata": {},
   "outputs": [
    {
     "data": {
      "text/plain": [
       "(1612, 3, 30)"
      ]
     },
     "execution_count": 82,
     "metadata": {},
     "output_type": "execute_result"
    }
   ],
   "source": [
    "ts_frames = assemble_ts_parts(X_train)\n",
    "ts_frames.shape"
   ]
  },
  {
   "cell_type": "code",
   "execution_count": 88,
   "metadata": {},
   "outputs": [],
   "source": [
    "window_size = 20\n",
    "n_windows = FRAME_LENGTH - window_size + 1"
   ]
  },
  {
   "cell_type": "code",
   "execution_count": 89,
   "metadata": {},
   "outputs": [
    {
     "data": {
      "text/plain": [
       "(17732, 60)"
      ]
     },
     "execution_count": 89,
     "metadata": {},
     "output_type": "execute_result"
    }
   ],
   "source": [
    "X_train_extended = split_frames_to_windows(ts_frames)\n",
    "X_train_extended = X_train_extended.reshape(len(X_train_extended), -1)\n",
    "X_train_extended.shape"
   ]
  },
  {
   "cell_type": "code",
   "execution_count": 90,
   "metadata": {},
   "outputs": [
    {
     "data": {
      "text/plain": [
       "(17732,)"
      ]
     },
     "execution_count": 90,
     "metadata": {},
     "output_type": "execute_result"
    }
   ],
   "source": [
    "y_train_extended = np.tile(y_train, n_windows)\n",
    "y_train_extended.shape"
   ]
  },
  {
   "cell_type": "code",
   "execution_count": 91,
   "metadata": {},
   "outputs": [
    {
     "data": {
      "text/plain": [
       "SVC(C=1.0, break_ties=False, cache_size=200, class_weight=None, coef0=0.0,\n",
       "    decision_function_shape='ovr', degree=3, gamma='scale', kernel='rbf',\n",
       "    max_iter=-1, probability=False, random_state=None, shrinking=True,\n",
       "    tol=0.001, verbose=False)"
      ]
     },
     "execution_count": 91,
     "metadata": {},
     "output_type": "execute_result"
    }
   ],
   "source": [
    "cls.fit(X_train_extended, y_train_extended)"
   ]
  },
  {
   "cell_type": "code",
   "execution_count": 103,
   "metadata": {},
   "outputs": [
    {
     "data": {
      "text/plain": [
       "(4433, 60)"
      ]
     },
     "execution_count": 103,
     "metadata": {},
     "output_type": "execute_result"
    }
   ],
   "source": [
    "X_valid_extended = assemble_ts_parts(X_valid)\n",
    "X_valid_extended = split_frames_to_windows(X_valid_extended, window_size=window_size)\n",
    "X_valid_extended = X_valid_extended.reshape(len(X_valid_extended), -1)\n",
    "X_valid_extended.shape"
   ]
  },
  {
   "cell_type": "code",
   "execution_count": 143,
   "metadata": {},
   "outputs": [
    {
     "data": {
      "text/plain": [
       "(403, 90)"
      ]
     },
     "execution_count": 143,
     "metadata": {},
     "output_type": "execute_result"
    }
   ],
   "source": [
    "X_valid.shape"
   ]
  },
  {
   "cell_type": "code",
   "execution_count": 144,
   "metadata": {},
   "outputs": [],
   "source": [
    "y_pred_extended = cls.predict(X_valid_extended)"
   ]
  },
  {
   "cell_type": "code",
   "execution_count": 145,
   "metadata": {},
   "outputs": [
    {
     "data": {
      "text/plain": [
       "(4433,)"
      ]
     },
     "execution_count": 145,
     "metadata": {},
     "output_type": "execute_result"
    }
   ],
   "source": [
    "y_pred_extended.shape"
   ]
  },
  {
   "cell_type": "code",
   "execution_count": 148,
   "metadata": {},
   "outputs": [
    {
     "data": {
      "text/plain": [
       "(403,)"
      ]
     },
     "execution_count": 148,
     "metadata": {},
     "output_type": "execute_result"
    }
   ],
   "source": [
    "y_pred = fold_predictions(y_pred_extended, n_windows=n_windows)\n",
    "y_pred.shape"
   ]
  },
  {
   "cell_type": "code",
   "execution_count": 149,
   "metadata": {},
   "outputs": [
    {
     "data": {
      "text/plain": [
       "(403,)"
      ]
     },
     "execution_count": 149,
     "metadata": {},
     "output_type": "execute_result"
    }
   ],
   "source": [
    "y_valid.shape"
   ]
  },
  {
   "cell_type": "code",
   "execution_count": null,
   "metadata": {},
   "outputs": [],
   "source": []
  },
  {
   "cell_type": "code",
   "execution_count": 155,
   "metadata": {},
   "outputs": [
    {
     "data": {
      "text/plain": [
       "array([[345,  25],\n",
       "       [ 30,   3]])"
      ]
     },
     "execution_count": 155,
     "metadata": {},
     "output_type": "execute_result"
    }
   ],
   "source": [
    "confusion_matrix(y_valid, y_pred>.5)"
   ]
  },
  {
   "cell_type": "code",
   "execution_count": null,
   "metadata": {},
   "outputs": [],
   "source": []
  },
  {
   "cell_type": "code",
   "execution_count": null,
   "metadata": {},
   "outputs": [],
   "source": []
  },
  {
   "cell_type": "code",
   "execution_count": 157,
   "metadata": {},
   "outputs": [
    {
     "name": "stdout",
     "output_type": "stream",
     "text": [
      "F1 score mean: 0.09, std: 0.0\n"
     ]
    }
   ],
   "source": [
    "window_size = 20\n",
    "threshold = .5\n",
    "n_windows = FRAME_LENGTH - window_size + 1\n",
    "\n",
    "X = df[[str(i) for i in range(90)] ]\n",
    "y = df['is_stairs']\n",
    "\n",
    "f_scores = []\n",
    "\n",
    "for train_ix, valid_ix in kfold.split(X, y):\n",
    "    X_train, X_valid = X.loc[train_ix], X.loc[valid_ix]\n",
    "    y_train, y_valid = y.loc[train_ix], y.loc[valid_ix]\n",
    "    \n",
    "    \n",
    "    X_train_extended = split_frames_to_windows(ts_frames)\n",
    "    X_train_extended = X_train_extended.reshape(len(X_train_extended), -1)\n",
    "    y_train_extended = np.tile(y_train, n_windows)\n",
    "    \n",
    "    cls = svm.SVC()\n",
    "    cls.fit(X_train_extended, y_train_extended)\n",
    "    X_valid_extended = assemble_ts_parts(X_valid)\n",
    "    X_valid_extended = split_frames_to_windows(X_valid_extended, window_size=window_size)\n",
    "    X_valid_extended = X_valid_extended.reshape(len(X_valid_extended), -1)\n",
    "    \n",
    "    y_pred_extended = cls.predict(X_valid_extended)\n",
    "    y_pred = fold_predictions(y_pred_extended, n_windows=n_windows)\n",
    "    y_pred = y_pred > threshold\n",
    "    f_scores.append(f1_score(y_valid, y_pred))\n",
    "    \n",
    "print(f'F1 score mean: {round(np.mean(f_scores), 2)}, std: {round(np.std(f_scores), 2)}')"
   ]
  },
  {
   "cell_type": "code",
   "execution_count": 164,
   "metadata": {},
   "outputs": [
    {
     "name": "stdout",
     "output_type": "stream",
     "text": [
      "(1612, 90)\n",
      "(1612, 90)\n",
      "(1612, 90)\n",
      "(1612, 90)\n",
      "(1612, 90)\n",
      "F1 score mean: 0.74, std: 0.08\n"
     ]
    }
   ],
   "source": [
    "window_size = 30\n",
    "threshold = .5\n",
    "n_windows = FRAME_LENGTH - window_size + 1\n",
    "\n",
    "X = df[[str(i) for i in range(90)] ]\n",
    "y = df['is_stairs']\n",
    "\n",
    "f_scores = []\n",
    "\n",
    "for train_ix, valid_ix in kfold.split(X, y):\n",
    "    X_train, X_valid = X.loc[train_ix], X.loc[valid_ix]\n",
    "    y_train, y_valid = y.loc[train_ix], y.loc[valid_ix]\n",
    "    \n",
    "    \n",
    "    X_train_extended = split_frames_to_windows(ts_frames, window_size=window_size)\n",
    "    X_train_extended = X_train_extended.reshape(len(X_train_extended), -1)\n",
    "    y_train_extended = np.tile(y_train, n_windows)\n",
    "    \n",
    "    cls = svm.SVC()\n",
    "    cls.fit(X_train_extended, y_train_extended)\n",
    "    X_valid_extended = assemble_ts_parts(X_valid)\n",
    "    X_valid_extended = split_frames_to_windows(X_valid_extended, window_size=window_size)\n",
    "    X_valid_extended = X_valid_extended.reshape(len(X_valid_extended), -1)\n",
    "    \n",
    "    y_pred_extended = cls.predict(X_valid_extended)\n",
    "    y_pred = fold_predictions(y_pred_extended, n_windows=n_windows)\n",
    "    y_pred = y_pred > threshold\n",
    "    f_scores.append(f1_score(y_valid, y_pred))\n",
    "    \n",
    "print(f'F1 score mean: {round(np.mean(f_scores), 2)}, std: {round(np.std(f_scores), 2)}')"
   ]
  },
  {
   "cell_type": "code",
   "execution_count": 169,
   "metadata": {},
   "outputs": [
    {
     "name": "stdout",
     "output_type": "stream",
     "text": [
      "F1 score mean: 0.64, std: 0.07\n"
     ]
    }
   ],
   "source": [
    "X = df[[str(i) for i in range(90)] ]\n",
    "y = df['is_stairs']\n",
    "\n",
    "f_scores = []\n",
    "\n",
    "for train_ix, valid_ix in kfold.split(X, y):\n",
    "    X_train, X_valid = X.loc[train_ix], X.loc[valid_ix]\n",
    "    y_train, y_valid = y.loc[train_ix], y.loc[valid_ix]\n",
    "    cls = svm.SVC()\n",
    "    cls.fit(X_train, y_train)\n",
    "    y_pred = cls.predict(X_valid)\n",
    "    f_scores.append(f1_score(y_valid, y_pred))\n",
    "    \n",
    "print(f'F1 score mean: {round(np.mean(f_scores), 2)}, std: {round(np.std(f_scores), 2)}')"
   ]
  },
  {
   "cell_type": "code",
   "execution_count": null,
   "metadata": {},
   "outputs": [],
   "source": []
  },
  {
   "cell_type": "code",
   "execution_count": 171,
   "metadata": {},
   "outputs": [
    {
     "name": "stdout",
     "output_type": "stream",
     "text": [
      "F1 score mean: 0.64, std: 0.07\n"
     ]
    }
   ],
   "source": [
    "X = np.hstack([X[x_acc_cols].values, X[y_acc_cols].values, X[z_acc_cols].values ])\n",
    "\n",
    "y = df['is_stairs']\n",
    "\n",
    "f_scores = []\n",
    "\n",
    "for train_ix, valid_ix in kfold.split(X, y):\n",
    "    X_train, X_valid = X[train_ix], X[valid_ix]\n",
    "    y_train, y_valid = y[train_ix], y[valid_ix]\n",
    "    cls = svm.SVC()\n",
    "    cls.fit(X_train, y_train)\n",
    "    y_pred = cls.predict(X_valid)\n",
    "    f_scores.append(f1_score(y_valid, y_pred))\n",
    "    \n",
    "print(f'F1 score mean: {round(np.mean(f_scores), 2)}, std: {round(np.std(f_scores), 2)}')"
   ]
  },
  {
   "cell_type": "code",
   "execution_count": 193,
   "metadata": {},
   "outputs": [
    {
     "name": "stdout",
     "output_type": "stream",
     "text": [
      "F1 score mean: 0.64, std: 0.07\n"
     ]
    }
   ],
   "source": [
    "window_size = 30\n",
    "threshold = .5\n",
    "n_windows = FRAME_LENGTH - window_size + 1\n",
    "\n",
    "X = df[[str(i) for i in range(90)] ]\n",
    "y = df['is_stairs']\n",
    "\n",
    "f_scores = []\n",
    "\n",
    "for train_ix, valid_ix in kfold.split(X, y):\n",
    "    X_train, X_valid = X.loc[train_ix], X.loc[valid_ix]\n",
    "    y_train, y_valid = y.loc[train_ix], y.loc[valid_ix]\n",
    "    \n",
    "    ts_frames = assemble_ts_parts(X_train)\n",
    "    X_train_extended = split_frames_to_windows(ts_frames, window_size=window_size)\n",
    "    X_train_extended = X_train_extended.reshape(len(X_train_extended), -1)\n",
    "    y_train_extended = np.tile(y_train, n_windows)\n",
    "    \n",
    "    cls = svm.SVC()\n",
    "    cls.fit(X_train_extended, y_train_extended)\n",
    "    X_valid_extended = assemble_ts_parts(X_valid)\n",
    "    X_valid_extended = split_frames_to_windows(X_valid_extended, window_size=window_size)\n",
    "    X_valid_extended = X_valid_extended.reshape(len(X_valid_extended), -1)\n",
    "    \n",
    "    y_pred_extended = cls.predict(X_valid_extended)\n",
    "    y_pred = fold_predictions(y_pred_extended, n_windows=n_windows)\n",
    "    y_pred = y_pred > threshold\n",
    "    f_scores.append(f1_score(y_valid, y_pred))\n",
    "    \n",
    "print(f'F1 score mean: {round(np.mean(f_scores), 2)}, std: {round(np.std(f_scores), 2)}')"
   ]
  },
  {
   "cell_type": "code",
   "execution_count": 441,
   "metadata": {},
   "outputs": [
    {
     "name": "stdout",
     "output_type": "stream",
     "text": [
      "F1 score mean: 0.64, std: 0.07\n"
     ]
    }
   ],
   "source": [
    "window_size = 29\n",
    "threshold = .5\n",
    "n_windows = FRAME_LENGTH - window_size + 1\n",
    "\n",
    "X = df[[str(i) for i in range(90)] ]\n",
    "y = df['is_stairs']\n",
    "\n",
    "f_scores = []\n",
    "\n",
    "for train_ix, valid_ix in kfold.split(X, y):\n",
    "    X_train, X_valid = X.loc[train_ix], X.loc[valid_ix]\n",
    "    y_train, y_valid = y.loc[train_ix], y.loc[valid_ix]\n",
    "    \n",
    "    ts_frames = assemble_ts_parts(X_train)\n",
    "    X_train_extended = split_frames_to_windows(ts_frames, window_size=window_size)\n",
    "    X_train_extended = X_train_extended.reshape(len(X_train_extended), -1)\n",
    "    y_train_extended = np.tile(y_train, n_windows)\n",
    "    \n",
    "    cls = svm.SVC()\n",
    "    cls.fit(X_train_extended, y_train_extended)\n",
    "    X_valid_extended = assemble_ts_parts(X_valid)\n",
    "    X_valid_extended = split_frames_to_windows(X_valid_extended, window_size=window_size)\n",
    "    X_valid_extended = X_valid_extended.reshape(len(X_valid_extended), -1)\n",
    "    \n",
    "    y_pred_extended = cls.predict(X_valid_extended)\n",
    "    y_pred = fold_predictions(y_pred_extended, n_windows=n_windows)\n",
    "    y_pred = y_pred > threshold\n",
    "    f_scores.append(f1_score(y_valid, y_pred))\n",
    "    \n",
    "print(f'F1 score mean: {round(np.mean(f_scores), 2)}, std: {round(np.std(f_scores), 2)}')"
   ]
  },
  {
   "cell_type": "code",
   "execution_count": 442,
   "metadata": {},
   "outputs": [
    {
     "name": "stdout",
     "output_type": "stream",
     "text": [
      "F1 score mean: 0.9, std: 0.04\n"
     ]
    }
   ],
   "source": [
    "window_size = 20\n",
    "threshold = .5\n",
    "n_windows = FRAME_LENGTH - window_size + 1\n",
    "\n",
    "X = df[[str(i) for i in range(90)] ]\n",
    "y = df['is_stairs']\n",
    "\n",
    "f_scores = []\n",
    "\n",
    "for train_ix, valid_ix in kfold.split(X, y):\n",
    "    X_train, X_valid = X.loc[train_ix], X.loc[valid_ix]\n",
    "    y_train, y_valid = y.loc[train_ix], y.loc[valid_ix]\n",
    "    \n",
    "    ts_frames = assemble_ts_parts(X_train)\n",
    "    X_train_extended = split_frames_to_windows(ts_frames, window_size=window_size)\n",
    "    X_train_extended = X_train_extended.reshape(len(X_train_extended), -1)\n",
    "    y_train_extended = np.tile(y_train, n_windows)\n",
    "    \n",
    "    cls = svm.SVC()\n",
    "    cls.fit(X_train_extended, y_train_extended)\n",
    "    X_valid_extended = assemble_ts_parts(X_valid)\n",
    "    X_valid_extended = split_frames_to_windows(X_valid_extended, window_size=window_size)\n",
    "    X_valid_extended = X_valid_extended.reshape(len(X_valid_extended), -1)\n",
    "    \n",
    "    y_pred_extended = cls.predict(X_valid_extended)\n",
    "    y_pred = fold_predictions(y_pred_extended, n_windows=n_windows)\n",
    "    y_pred = y_pred > threshold\n",
    "    f_scores.append(f1_score(y_valid, y_pred))\n",
    "    \n",
    "print(f'F1 score mean: {round(np.mean(f_scores), 2)}, std: {round(np.std(f_scores), 2)}')"
   ]
  },
  {
   "cell_type": "code",
   "execution_count": 262,
   "metadata": {},
   "outputs": [],
   "source": [
    "def assemble_ts_parts_arr(X):\n",
    "    x_part = X[:, np.arange(30)]\n",
    "    y_part = X[:, np.arange(30, 60)]\n",
    "    z_part = X[:, np.arange(60, 90)]\n",
    "    features = np.stack([x_part, y_part, z_part], axis=1)\n",
    "    \n",
    "    return features"
   ]
  },
  {
   "cell_type": "code",
   "execution_count": 297,
   "metadata": {},
   "outputs": [],
   "source": [
    "class FramingSVMClassifier:\n",
    "    def __init__(self, window_size, frame_length=FRAME_LENGTH):\n",
    "        self.window_size  = window_size\n",
    "        self.frame_length = frame_length\n",
    "        self.n_windows    = frame_length - window_size + 1\n",
    "        self.threshold = .5\n",
    "        \n",
    "    def expand_X(self, X):\n",
    "        X_expanded = assemble_ts_parts_arr(X)\n",
    "        X_expanded = split_frames_to_windows(X_expanded, window_size=self.window_size)\n",
    "        X_expanded = X_expanded.reshape(len(X_expanded), -1)\n",
    "        return X_expanded\n",
    "    \n",
    "    def expand_y(self, y):\n",
    "        return np.tile(y, self.n_windows)\n",
    "    \n",
    "    def fold_preds(self, y_expanded):\n",
    "        y_pred = fold_predictions(y_expanded, n_windows=self.n_windows)\n",
    "        return y_pred\n",
    "        \n",
    "    def fit(self, X, y):\n",
    "        X_expanded = self.expand_X(X)\n",
    "        y_expanded = self.expand_y(y)\n",
    "        self.cls = svm.SVC()\n",
    "        self.cls.fit(X_expanded, y_expanded)\n",
    "        \n",
    "    def predict_proba(self, X):\n",
    "        X_expanded = self.expand_X(X)\n",
    "        y_expanded = self.cls.predict(X_expanded)\n",
    "        y_pred = self.fold_preds(y_expanded)\n",
    "        return y_pred\n",
    "        \n",
    "        \n",
    "    def predict(self, X):\n",
    "        y_average = self.predict_proba(X)\n",
    "        return y_average >= self.threshold\n",
    "    \n",
    "        \n",
    "        "
   ]
  },
  {
   "cell_type": "code",
   "execution_count": 433,
   "metadata": {},
   "outputs": [],
   "source": [
    "class FramingTransformer:\n",
    "    def __init__(self, window_size, frame_length=FRAME_LENGTH):\n",
    "        self.window_size  = window_size\n",
    "        self.frame_length = frame_length\n",
    "        self.n_windows    = frame_length - window_size + 1\n",
    "#         self.threshold = .5\n",
    "        \n",
    "    def expand_X(self, X):\n",
    "        X_expanded = X.reshape(len(X), -1, self.frame_length)#assemble_ts_parts_arr(X)\n",
    "        X_expanded = split_frames_to_windows(X_expanded, window_size=self.window_size)\n",
    "        X_expanded = X_expanded.reshape(len(X_expanded), -1)\n",
    "        return X_expanded\n",
    "    \n",
    "    def expand_y(self, y):\n",
    "        return np.tile(y, self.n_windows)\n",
    "    \n",
    "    def fold_preds(self, y_expanded):\n",
    "        y_pred = fold_predictions(y_expanded, n_windows=self.n_windows)\n",
    "        return y_pred\n",
    "        \n",
    "    def expand(self, X, y=None):\n",
    "        X_expanded = self.expand_X(X)\n",
    "        if y is not None:\n",
    "            y_expanded = self.expand_y(y)\n",
    "            return X_expanded, y_expanded\n",
    "        return X_expanded\n",
    "    \n",
    "        \n",
    "        "
   ]
  },
  {
   "cell_type": "code",
   "execution_count": 434,
   "metadata": {},
   "outputs": [],
   "source": [
    "frm = FramingTransformer(window_size=2, frame_length=3)"
   ]
  },
  {
   "cell_type": "code",
   "execution_count": 435,
   "metadata": {},
   "outputs": [
    {
     "data": {
      "text/plain": [
       "array([[5, 3, 4, 0, 1, 3],\n",
       "       [5, 0, 0, 1, 4, 5]])"
      ]
     },
     "execution_count": 435,
     "metadata": {},
     "output_type": "execute_result"
    }
   ],
   "source": [
    "np.random.seed(1)\n",
    "sample_y = np.array([1, 0])\n",
    "sample_X = np.random.randint(6, size=(2,6))\n",
    "sample_X"
   ]
  },
  {
   "cell_type": "code",
   "execution_count": 436,
   "metadata": {},
   "outputs": [
    {
     "data": {
      "text/plain": [
       "array([[5, 3, 0, 1],\n",
       "       [5, 0, 1, 4],\n",
       "       [3, 4, 1, 3],\n",
       "       [0, 0, 4, 5]])"
      ]
     },
     "execution_count": 436,
     "metadata": {},
     "output_type": "execute_result"
    }
   ],
   "source": [
    "frm.expand_X(sample_X)"
   ]
  },
  {
   "cell_type": "code",
   "execution_count": 437,
   "metadata": {},
   "outputs": [
    {
     "data": {
      "text/plain": [
       "(array([[5, 3, 0, 1],\n",
       "        [5, 0, 1, 4],\n",
       "        [3, 4, 1, 3],\n",
       "        [0, 0, 4, 5]]),\n",
       " array([1, 0, 1, 0]))"
      ]
     },
     "execution_count": 437,
     "metadata": {},
     "output_type": "execute_result"
    }
   ],
   "source": [
    "frm.expand(sample_X, sample_y)"
   ]
  },
  {
   "cell_type": "code",
   "execution_count": null,
   "metadata": {},
   "outputs": [],
   "source": []
  },
  {
   "cell_type": "code",
   "execution_count": 401,
   "metadata": {},
   "outputs": [],
   "source": [
    "X_expanded = split_frames_to_windows(X_expanded, window_size=2)\n"
   ]
  },
  {
   "cell_type": "code",
   "execution_count": 402,
   "metadata": {},
   "outputs": [
    {
     "data": {
      "text/plain": [
       "(2, 3, 2)"
      ]
     },
     "execution_count": 402,
     "metadata": {},
     "output_type": "execute_result"
    }
   ],
   "source": [
    "X_expanded.shape\n"
   ]
  },
  {
   "cell_type": "code",
   "execution_count": null,
   "metadata": {},
   "outputs": [],
   "source": []
  },
  {
   "cell_type": "code",
   "execution_count": 394,
   "metadata": {},
   "outputs": [
    {
     "data": {
      "text/plain": [
       "(2, 6)"
      ]
     },
     "execution_count": 394,
     "metadata": {},
     "output_type": "execute_result"
    }
   ],
   "source": [
    "sample_X.shape"
   ]
  },
  {
   "cell_type": "code",
   "execution_count": 395,
   "metadata": {},
   "outputs": [
    {
     "data": {
      "text/plain": [
       "2"
      ]
     },
     "execution_count": 395,
     "metadata": {},
     "output_type": "execute_result"
    }
   ],
   "source": [
    "frm.n_windows"
   ]
  },
  {
   "cell_type": "code",
   "execution_count": 428,
   "metadata": {},
   "outputs": [
    {
     "data": {
      "text/plain": [
       "(4, 4)"
      ]
     },
     "execution_count": 428,
     "metadata": {},
     "output_type": "execute_result"
    }
   ],
   "source": []
  },
  {
   "cell_type": "code",
   "execution_count": null,
   "metadata": {},
   "outputs": [],
   "source": []
  },
  {
   "cell_type": "code",
   "execution_count": 359,
   "metadata": {},
   "outputs": [
    {
     "data": {
      "text/plain": [
       "array([[5, 3, 4, 0, 1, 3],\n",
       "       [5, 0, 0, 1, 4, 5]])"
      ]
     },
     "execution_count": 359,
     "metadata": {},
     "output_type": "execute_result"
    }
   ],
   "source": []
  },
  {
   "cell_type": "code",
   "execution_count": null,
   "metadata": {},
   "outputs": [],
   "source": []
  },
  {
   "cell_type": "code",
   "execution_count": null,
   "metadata": {},
   "outputs": [],
   "source": []
  },
  {
   "cell_type": "code",
   "execution_count": null,
   "metadata": {},
   "outputs": [],
   "source": []
  },
  {
   "cell_type": "code",
   "execution_count": 264,
   "metadata": {},
   "outputs": [],
   "source": [
    "X = np.hstack([df[x_acc_cols].values, df[y_acc_cols].values, df[z_acc_cols].values ])\n",
    "train_ix, valid_ix = list(kfold.split(X, y))[0]"
   ]
  },
  {
   "cell_type": "code",
   "execution_count": 265,
   "metadata": {},
   "outputs": [],
   "source": [
    "X_train, X_valid = X[train_ix], X[valid_ix]\n",
    "y_train, y_valid = y[train_ix], y[valid_ix]"
   ]
  },
  {
   "cell_type": "code",
   "execution_count": 301,
   "metadata": {},
   "outputs": [
    {
     "name": "stdout",
     "output_type": "stream",
     "text": [
      "0.7272727272727273\n"
     ]
    }
   ],
   "source": [
    "cls = svm.SVC()\n",
    "cls.fit(X_train, y_train)\n",
    "y_pred = cls.predict(X_valid)\n",
    "print(f1_score(y_valid, y_pred))"
   ]
  },
  {
   "cell_type": "code",
   "execution_count": 269,
   "metadata": {},
   "outputs": [
    {
     "name": "stdout",
     "output_type": "stream",
     "text": [
      "0.7272727272727273\n"
     ]
    }
   ],
   "source": [
    "cls = FramingSVMClassifier(window_size=30)\n",
    "cls.fit(X_train, y_train)\n",
    "y_pred = cls.predict(X_valid)\n",
    "print(f1_score(y_valid, y_pred))"
   ]
  },
  {
   "cell_type": "code",
   "execution_count": 292,
   "metadata": {},
   "outputs": [
    {
     "data": {
      "text/plain": [
       "SVC(C=1.0, break_ties=False, cache_size=200, class_weight=None, coef0=0.0,\n",
       "    decision_function_shape='ovr', degree=3, gamma='scale', kernel='rbf',\n",
       "    max_iter=-1, probability=False, random_state=None, shrinking=True,\n",
       "    tol=0.001, verbose=False)"
      ]
     },
     "execution_count": 292,
     "metadata": {},
     "output_type": "execute_result"
    }
   ],
   "source": [
    "X_expanded = cls.expand_X(X)\n",
    "y_expanded = cls.expand_y(y)\n",
    "svm_cls = svm.SVC()\n",
    "svm_cls.fit(X_expanded, y_expanded)"
   ]
  },
  {
   "cell_type": "code",
   "execution_count": 294,
   "metadata": {},
   "outputs": [
    {
     "data": {
      "text/plain": [
       "(4030, 87)"
      ]
     },
     "execution_count": 294,
     "metadata": {},
     "output_type": "execute_result"
    }
   ],
   "source": [
    "X_expanded.shape"
   ]
  },
  {
   "cell_type": "code",
   "execution_count": 295,
   "metadata": {},
   "outputs": [
    {
     "data": {
      "text/plain": [
       "(4030,)"
      ]
     },
     "execution_count": 295,
     "metadata": {},
     "output_type": "execute_result"
    }
   ],
   "source": [
    "y_expanded.shape"
   ]
  },
  {
   "cell_type": "code",
   "execution_count": 285,
   "metadata": {},
   "outputs": [
    {
     "data": {
      "text/plain": [
       "(2015, 180)"
      ]
     },
     "execution_count": 285,
     "metadata": {},
     "output_type": "execute_result"
    }
   ],
   "source": [
    "X_expanded.shape"
   ]
  },
  {
   "cell_type": "code",
   "execution_count": 286,
   "metadata": {},
   "outputs": [
    {
     "data": {
      "text/plain": [
       "(3224, 87)"
      ]
     },
     "execution_count": 286,
     "metadata": {},
     "output_type": "execute_result"
    }
   ],
   "source": [
    "cls.expand_X(X_train).shape"
   ]
  },
  {
   "cell_type": "code",
   "execution_count": 303,
   "metadata": {},
   "outputs": [
    {
     "name": "stdout",
     "output_type": "stream",
     "text": [
      "0.15151515151515152\n"
     ]
    }
   ],
   "source": [
    "cls = FramingSVMClassifier(window_size=25)\n",
    "cls.fit(X_train, y_train)\n",
    "y_pred = cls.predict(X_valid)\n",
    "print(f1_score(y_valid, y_pred))"
   ]
  },
  {
   "cell_type": "code",
   "execution_count": 304,
   "metadata": {},
   "outputs": [
    {
     "data": {
      "text/plain": [
       "array([[342,  28],\n",
       "       [ 28,   5]])"
      ]
     },
     "execution_count": 304,
     "metadata": {},
     "output_type": "execute_result"
    }
   ],
   "source": [
    "confusion_matrix(y_valid, y_pred)"
   ]
  },
  {
   "cell_type": "code",
   "execution_count": 300,
   "metadata": {},
   "outputs": [
    {
     "data": {
      "text/plain": [
       "array([1. , 1. , 0.5, 0.5, 0.5, 1. , 1. , 0.5, 0.5, 0.5, 0. , 1. , 0. ,\n",
       "       1. , 1. , 0. , 0. , 0. , 0. , 0. , 0. , 0. , 0. , 0. , 0. , 0. ,\n",
       "       0. , 0. , 0. , 0. , 0. , 0. , 0. , 0. , 0. , 0. , 0. , 0. , 0. ,\n",
       "       0. , 0. , 0. , 0. , 0. , 0. , 0. , 0. , 0. , 0. , 0. , 0. , 0. ,\n",
       "       0. , 0. , 0. , 0. , 0. , 0. , 0. , 0. , 0. , 0. , 0. , 0. , 0. ,\n",
       "       0. , 0. , 0. , 0. , 0. , 0. , 0. , 0.5, 0. , 0. , 0.5, 0. , 0. ,\n",
       "       0. , 0. , 0. , 0. , 0. , 0. , 0. , 0. , 0. , 0. , 0. , 0. , 0. ,\n",
       "       0. , 0. , 0. , 0. , 0. , 0. , 0. , 0. , 0. , 0. , 0. , 0. , 0. ,\n",
       "       0. , 0. , 0. , 0. , 0. , 0. , 0. , 0. , 0. , 0. , 0. , 0. , 0. ,\n",
       "       0. , 0. , 0. , 0. , 0. , 0. , 0. , 0. , 0. , 0. , 0. , 0. , 0. ,\n",
       "       0. , 0. , 0. , 0. , 0. , 0. , 0. , 0. , 0. , 0. , 0. , 0. , 0. ,\n",
       "       0. , 0. , 0. , 0. , 0. , 0. , 0. , 0. , 0. , 0. , 0. , 0. , 0. ,\n",
       "       0. , 0. , 0. , 0. , 0. , 0. , 0. , 0. , 0. , 0. , 0. , 0. , 0. ,\n",
       "       0. , 0. , 0. , 0. , 0. , 0. , 0. , 0. , 0. , 0. , 0. , 0. , 0. ,\n",
       "       0. , 0. , 0. , 0. , 0. , 0. , 0. , 0. , 0. , 0. , 0. , 0. , 0. ,\n",
       "       0. , 0. , 0. , 0. , 0. , 0. , 0.5, 1. , 1. , 0.5, 0.5, 1. , 1. ,\n",
       "       0.5, 1. , 0.5, 0. , 0.5, 0. , 0.5, 1. , 0.5, 0. , 0. , 0. , 0. ,\n",
       "       0. , 0. , 0. , 0. , 0. , 0. , 0. , 0. , 0. , 0. , 0. , 0. , 0. ,\n",
       "       0. , 0. , 0. , 0. , 0. , 0. , 0. , 0. , 0. , 0. , 0. , 0. , 0. ,\n",
       "       0. , 0. , 0. , 0. , 0. , 0. , 0. , 0. , 0. , 0. , 0. , 0. , 0. ,\n",
       "       0. , 0. , 0. , 0. , 0. , 0. , 0. , 0. , 0. , 0. , 0. , 0. , 0. ,\n",
       "       0.5, 0. , 0. , 0. , 0.5, 0. , 0. , 0. , 0. , 0. , 0. , 0. , 0. ,\n",
       "       0. , 0. , 0. , 0. , 0. , 0. , 0. , 0. , 0. , 0. , 0. , 0. , 0. ,\n",
       "       0. , 0. , 0. , 0. , 0. , 0. , 0. , 0. , 0. , 0. , 0. , 0. , 0. ,\n",
       "       0. , 0. , 0. , 0. , 0. , 0. , 0. , 0. , 0. , 0. , 0. , 0. , 0. ,\n",
       "       0. , 0. , 0. , 0. , 0. , 0. , 0. , 0. , 0. , 0. , 0. , 0. , 0.5,\n",
       "       0. , 0. , 0. , 0. , 0. , 0. , 0. , 0. , 0. , 0. , 0. , 0. , 0. ,\n",
       "       0. , 0. , 0. , 0. , 0. , 0. , 0. , 0. , 0. , 0. , 0. , 0. , 0. ,\n",
       "       0. , 0. , 0. , 0. , 0. , 0. , 0. , 0. , 0. , 0. , 0. , 0. , 0. ,\n",
       "       0. , 0. , 0. , 0. , 0. , 0. , 0. , 0. , 0. , 0. , 0. , 0. , 0. ,\n",
       "       0. , 0. , 0. , 0. , 0. , 0. , 0. , 0. , 0. , 0. , 0. , 0. , 0. ])"
      ]
     },
     "execution_count": 300,
     "metadata": {},
     "output_type": "execute_result"
    }
   ],
   "source": [
    "cls.predict_proba(X_valid)"
   ]
  },
  {
   "cell_type": "code",
   "execution_count": 302,
   "metadata": {},
   "outputs": [
    {
     "data": {
      "text/plain": [
       "array([ True,  True, False,  True,  True, False,  True, False,  True,\n",
       "        True,  True,  True,  True,  True, False,  True,  True, False,\n",
       "        True, False, False, False,  True,  True, False, False,  True,\n",
       "        True,  True,  True, False, False, False, False, False, False,\n",
       "       False, False, False, False, False, False, False, False, False,\n",
       "       False, False, False, False, False, False, False, False, False,\n",
       "       False, False, False, False, False, False, False, False, False,\n",
       "       False, False, False, False, False, False, False, False, False,\n",
       "       False, False, False, False, False, False, False, False, False,\n",
       "       False, False, False, False, False, False, False, False, False,\n",
       "       False, False, False, False, False, False, False, False, False,\n",
       "       False, False, False, False, False, False, False, False, False,\n",
       "       False, False, False, False, False, False, False, False, False,\n",
       "       False, False, False, False, False, False, False, False, False,\n",
       "       False, False, False, False, False, False, False, False, False,\n",
       "       False, False, False, False, False, False, False, False, False,\n",
       "        True, False, False, False, False, False, False,  True, False,\n",
       "       False, False, False, False, False, False, False, False, False,\n",
       "       False, False, False, False, False, False, False, False, False,\n",
       "       False, False, False, False, False, False, False, False, False,\n",
       "       False, False, False, False, False, False, False, False, False,\n",
       "       False, False, False, False, False, False, False, False, False,\n",
       "       False, False, False, False, False, False, False, False, False,\n",
       "       False, False, False, False, False, False, False, False, False,\n",
       "       False, False, False, False, False, False, False, False, False,\n",
       "       False, False, False, False, False, False, False, False, False,\n",
       "       False, False, False, False, False, False, False, False, False,\n",
       "       False, False, False, False, False, False, False, False, False,\n",
       "       False, False, False, False, False, False, False, False, False,\n",
       "       False, False, False, False, False, False, False, False, False,\n",
       "       False, False, False, False, False, False, False, False, False,\n",
       "       False, False, False, False, False, False, False, False, False,\n",
       "       False, False, False, False, False, False, False, False, False,\n",
       "       False, False, False, False, False, False, False, False, False,\n",
       "       False, False, False, False, False, False, False, False, False,\n",
       "       False, False, False, False, False, False, False, False, False,\n",
       "       False, False, False, False, False, False, False, False, False,\n",
       "       False, False, False, False, False, False, False, False, False,\n",
       "       False, False, False, False, False, False, False, False, False,\n",
       "       False, False, False, False, False, False, False, False, False,\n",
       "       False, False, False, False, False, False, False, False, False,\n",
       "       False, False, False, False, False, False, False, False, False,\n",
       "       False, False, False, False, False, False, False, False, False,\n",
       "       False, False, False, False, False, False, False, False, False,\n",
       "       False, False, False, False, False, False, False])"
      ]
     },
     "execution_count": 302,
     "metadata": {},
     "output_type": "execute_result"
    }
   ],
   "source": [
    "y_pred"
   ]
  },
  {
   "cell_type": "code",
   "execution_count": 184,
   "metadata": {},
   "outputs": [],
   "source": [
    "ts_frames = assemble_ts_parts(X_train)"
   ]
  },
  {
   "cell_type": "code",
   "execution_count": 188,
   "metadata": {},
   "outputs": [
    {
     "data": {
      "text/plain": [
       "0      0.675165\n",
       "1    -11.607090\n",
       "2     -2.662352\n",
       "3     -1.278504\n",
       "4     -2.700659\n",
       "        ...    \n",
       "85    -6.320692\n",
       "86     9.255983\n",
       "87     1.747767\n",
       "88     2.920926\n",
       "89     7.910443\n",
       "Name: 0, Length: 90, dtype: float64"
      ]
     },
     "execution_count": 188,
     "metadata": {},
     "output_type": "execute_result"
    }
   ],
   "source": [
    "X_train.iloc[0]"
   ]
  },
  {
   "cell_type": "code",
   "execution_count": 186,
   "metadata": {},
   "outputs": [
    {
     "data": {
      "text/plain": [
       "array([[  0.675165,  -1.278504,  -4.424484,   0.646435,  -1.623269,\n",
       "         -4.323928,  -5.228936,  -3.08852 ,  -3.021482, -11.238382,\n",
       "         -0.488417,  -7.675811,  -0.521936,  -3.715801,  -1.666364,\n",
       "         -6.354211,  -3.940856,  -1.240196, -10.228029,  -1.043872,\n",
       "         -6.411672, -10.070012,  -7.929596,  -1.929727,  -4.458003,\n",
       "         -4.13718 ,   1.82917 ,  -7.350199,   3.969586,   1.747767],\n",
       "       [-11.60709 ,  -2.700659, -10.726024,  -0.641646,  -6.603208,\n",
       "         -2.671929,  -3.557784, -14.130578,  -8.39886 , -12.018892,\n",
       "         -9.356541, -17.00362 ,   0.708684,  -5.645528,  -9.121908,\n",
       "         -5.717354, -12.717999, -10.414778, -14.465767, -13.603854,\n",
       "        -11.836933, -15.049952, -12.253524,  -2.806004,  -6.780379,\n",
       "         -4.429273,  -9.313444, -12.670115,  -6.320692,   2.920926],\n",
       "       [ -2.662352,   0.924162,  -1.082179,  -1.04866 ,   0.071826,\n",
       "          3.485958,  -0.038307,   0.215478,   1.312023,  -2.762909,\n",
       "          0.11971 ,  -1.546654,  -5.051765,   0.670377,  -2.753332,\n",
       "         -0.579397,   5.971139,  -1.173159,  -1.867477,  -3.600879,\n",
       "         -3.883395, -13.517663,  -0.263362,  -1.795651,   1.580173,\n",
       "         -1.517924,  -0.3304  ,  -1.460463,   9.255983,   7.910443]])"
      ]
     },
     "execution_count": 186,
     "metadata": {},
     "output_type": "execute_result"
    }
   ],
   "source": [
    "ts_frames[0]"
   ]
  },
  {
   "cell_type": "code",
   "execution_count": null,
   "metadata": {},
   "outputs": [],
   "source": []
  }
 ],
 "metadata": {
  "kernelspec": {
   "display_name": "Python 3",
   "language": "python",
   "name": "python3"
  },
  "language_info": {
   "codemirror_mode": {
    "name": "ipython",
    "version": 3
   },
   "file_extension": ".py",
   "mimetype": "text/x-python",
   "name": "python",
   "nbconvert_exporter": "python",
   "pygments_lexer": "ipython3",
   "version": "3.7.4"
  }
 },
 "nbformat": 4,
 "nbformat_minor": 4
}
