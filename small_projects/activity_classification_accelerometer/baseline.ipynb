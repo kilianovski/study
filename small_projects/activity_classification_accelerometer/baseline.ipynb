{
 "cells": [
  {
   "cell_type": "code",
   "execution_count": 235,
   "metadata": {},
   "outputs": [],
   "source": [
    "import numpy as np\n",
    "import pandas as pd\n",
    "from pathlib import Path"
   ]
  },
  {
   "cell_type": "code",
   "execution_count": 236,
   "metadata": {},
   "outputs": [],
   "source": [
    "data_folder = Path('./data')"
   ]
  },
  {
   "cell_type": "code",
   "execution_count": 237,
   "metadata": {},
   "outputs": [
    {
     "data": {
      "text/plain": [
       "[PosixPath('data/running'),\n",
       " PosixPath('data/stairs'),\n",
       " PosixPath('data/walking'),\n",
       " PosixPath('data/idle')]"
      ]
     },
     "execution_count": 237,
     "metadata": {},
     "output_type": "execute_result"
    }
   ],
   "source": [
    "classes = list(data_folder.iterdir())\n",
    "classes"
   ]
  },
  {
   "cell_type": "code",
   "execution_count": 238,
   "metadata": {},
   "outputs": [],
   "source": [
    "dfs = []\n",
    "def flatten_sensor_frame(df): return df.values.flatten()\n",
    "data_list = []\n",
    "for class_folder in classes:\n",
    "    for file in class_folder.iterdir():\n",
    "        df = pd.read_csv(file)\n",
    "\n",
    "        frame = flatten_sensor_frame(df)\n",
    "        record = list((frame)) + [str(class_folder)]\n",
    "        data_list.append(record)\n",
    "        \n",
    "        df['label'] = class_folder\n",
    "        dfs.append(df)\n",
    "\n",
    "    \n",
    "cols = [str(i) for i in range(90)] + ['label']\n",
    "full_df = pd.DataFrame(data=data_list, columns=cols)"
   ]
  },
  {
   "cell_type": "code",
   "execution_count": 239,
   "metadata": {},
   "outputs": [],
   "source": [
    "concated = pd.concat(dfs)"
   ]
  },
  {
   "cell_type": "code",
   "execution_count": 240,
   "metadata": {},
   "outputs": [
    {
     "data": {
      "text/plain": [
       "<matplotlib.axes._subplots.AxesSubplot at 0x7f487c4dfe50>"
      ]
     },
     "execution_count": 240,
     "metadata": {},
     "output_type": "execute_result"
    },
    {
     "data": {
      "image/png": "[encoded data removed]",
      "text/plain": [
       "<Figure size 432x288 with 1 Axes>"
      ]
     },
     "metadata": {
      "needs_background": "light"
     },
     "output_type": "display_data"
    }
   ],
   "source": [
    "concated['accelerometer_X'].hist()"
   ]
  },
  {
   "cell_type": "code",
   "execution_count": 241,
   "metadata": {},
   "outputs": [
    {
     "data": {
      "text/plain": [
       "<matplotlib.axes._subplots.AxesSubplot at 0x7f4895188810>"
      ]
     },
     "execution_count": 241,
     "metadata": {},
     "output_type": "execute_result"
    },
    {
     "data": {
      "image/png": "[encoded data removed]",
      "text/plain": [
       "<Figure size 432x288 with 1 Axes>"
      ]
     },
     "metadata": {
      "needs_background": "light"
     },
     "output_type": "display_data"
    }
   ],
   "source": [
    "concated['accelerometer_Y'].hist()"
   ]
  },
  {
   "cell_type": "code",
   "execution_count": 242,
   "metadata": {},
   "outputs": [
    {
     "data": {
      "text/plain": [
       "<matplotlib.axes._subplots.AxesSubplot at 0x7f4894df6a10>"
      ]
     },
     "execution_count": 242,
     "metadata": {},
     "output_type": "execute_result"
    },
    {
     "data": {
      "image/png": "[encoded data removed]",
      "text/plain": [
       "<Figure size 432x288 with 1 Axes>"
      ]
     },
     "metadata": {
      "needs_background": "light"
     },
     "output_type": "display_data"
    }
   ],
   "source": [
    "concated['accelerometer_Z'].hist()"
   ]
  },
  {
   "cell_type": "code",
   "execution_count": null,
   "metadata": {},
   "outputs": [],
   "source": []
  },
  {
   "cell_type": "code",
   "execution_count": 243,
   "metadata": {},
   "outputs": [
    {
     "data": {
      "text/plain": [
       "(6462, 91)"
      ]
     },
     "execution_count": 243,
     "metadata": {},
     "output_type": "execute_result"
    }
   ],
   "source": [
    "full_df.shape"
   ]
  },
  {
   "cell_type": "code",
   "execution_count": 244,
   "metadata": {},
   "outputs": [
    {
     "data": {
      "text/plain": [
       "data/running    3408\n",
       "data/walking    1850\n",
       "data/idle       1039\n",
       "data/stairs      165\n",
       "Name: label, dtype: int64"
      ]
     },
     "execution_count": 244,
     "metadata": {},
     "output_type": "execute_result"
    }
   ],
   "source": [
    "full_df['label'].value_counts()"
   ]
  },
  {
   "cell_type": "markdown",
   "metadata": {},
   "source": [
    "# Split"
   ]
  },
  {
   "cell_type": "code",
   "execution_count": 245,
   "metadata": {},
   "outputs": [],
   "source": [
    "from sklearn.model_selection import train_test_split\n",
    "from sklearn.metrics import accuracy_score, confusion_matrix"
   ]
  },
  {
   "cell_type": "code",
   "execution_count": 246,
   "metadata": {},
   "outputs": [],
   "source": [
    "stairs_df = full_df[full_df['label'].isin(['data/walking', 'data/stairs'])]"
   ]
  },
  {
   "cell_type": "code",
   "execution_count": 247,
   "metadata": {},
   "outputs": [],
   "source": [
    "X_stairs = full_df[[str(i) for i in range(90)] ]\n",
    "y_stairs = full_df['label'] == 'data/walking'"
   ]
  },
  {
   "cell_type": "code",
   "execution_count": 248,
   "metadata": {},
   "outputs": [
    {
     "data": {
      "text/plain": [
       "False    4612\n",
       "True     1850\n",
       "Name: label, dtype: int64"
      ]
     },
     "execution_count": 248,
     "metadata": {},
     "output_type": "execute_result"
    }
   ],
   "source": [
    "y_stairs.value_counts()"
   ]
  },
  {
   "cell_type": "code",
   "execution_count": 249,
   "metadata": {},
   "outputs": [
    {
     "data": {
      "text/plain": [
       "{0: 'data/running', 1: 'data/stairs', 2: 'data/walking', 3: 'data/idle'}"
      ]
     },
     "execution_count": 249,
     "metadata": {},
     "output_type": "execute_result"
    }
   ],
   "source": [
    "label2num = dict(enumerate(full_df['label'].unique()))\n",
    "label2num"
   ]
  },
  {
   "cell_type": "code",
   "execution_count": 250,
   "metadata": {},
   "outputs": [
    {
     "data": {
      "text/plain": [
       "{'data/running': 0, 'data/stairs': 1, 'data/walking': 2, 'data/idle': 3}"
      ]
     },
     "execution_count": 250,
     "metadata": {},
     "output_type": "execute_result"
    }
   ],
   "source": [
    "num2label = {n:i for i,n in label2num.items()}\n",
    "num2label"
   ]
  },
  {
   "cell_type": "code",
   "execution_count": 251,
   "metadata": {},
   "outputs": [],
   "source": [
    "X = full_df[[str(i) for i in range(90)] ]\n",
    "y = full_df['label'].map(num2label)"
   ]
  },
  {
   "cell_type": "code",
   "execution_count": 252,
   "metadata": {},
   "outputs": [],
   "source": [
    "X_train, X_test, y_train, y_test = train_test_split(X, y, test_size=0.33, random_state=42)"
   ]
  },
  {
   "cell_type": "code",
   "execution_count": null,
   "metadata": {},
   "outputs": [],
   "source": []
  },
  {
   "cell_type": "markdown",
   "metadata": {},
   "source": [
    "# SVM"
   ]
  },
  {
   "cell_type": "code",
   "execution_count": 253,
   "metadata": {},
   "outputs": [],
   "source": [
    "from sklearn.preprocessing import StandardScaler"
   ]
  },
  {
   "cell_type": "code",
   "execution_count": 254,
   "metadata": {},
   "outputs": [],
   "source": [
    "scaler = StandardScaler()\n",
    "scaler.fit(X_train)\n",
    "X_train_scaled = scaler.transform(X_train)\n",
    "X_test_scaled = scaler.transform(X_test)\n"
   ]
  },
  {
   "cell_type": "code",
   "execution_count": 255,
   "metadata": {},
   "outputs": [],
   "source": [
    "from sklearn import svm"
   ]
  },
  {
   "cell_type": "code",
   "execution_count": null,
   "metadata": {},
   "outputs": [],
   "source": []
  },
  {
   "cell_type": "code",
   "execution_count": 256,
   "metadata": {},
   "outputs": [],
   "source": [
    "clf = svm.SVC()"
   ]
  },
  {
   "cell_type": "code",
   "execution_count": 257,
   "metadata": {},
   "outputs": [
    {
     "data": {
      "text/plain": [
       "SVC(C=1.0, break_ties=False, cache_size=200, class_weight=None, coef0=0.0,\n",
       "    decision_function_shape='ovr', degree=3, gamma='scale', kernel='rbf',\n",
       "    max_iter=-1, probability=False, random_state=None, shrinking=True,\n",
       "    tol=0.001, verbose=False)"
      ]
     },
     "execution_count": 257,
     "metadata": {},
     "output_type": "execute_result"
    }
   ],
   "source": [
    "clf.fit(X_train_scaled, y_train)"
   ]
  },
  {
   "cell_type": "code",
   "execution_count": 258,
   "metadata": {},
   "outputs": [],
   "source": [
    "y_pred = clf.predict(X_test_scaled)"
   ]
  },
  {
   "cell_type": "code",
   "execution_count": 259,
   "metadata": {},
   "outputs": [
    {
     "data": {
      "text/plain": [
       "0.9826535396155649"
      ]
     },
     "execution_count": 259,
     "metadata": {},
     "output_type": "execute_result"
    }
   ],
   "source": [
    "accuracy_score(y_pred, y_test)"
   ]
  },
  {
   "cell_type": "code",
   "execution_count": 260,
   "metadata": {},
   "outputs": [
    {
     "data": {
      "text/plain": [
       "array([[1144,    0,    0,    0],\n",
       "       [   0,   18,   37,    0],\n",
       "       [   0,    0,  600,    0],\n",
       "       [   0,    0,    0,  334]])"
      ]
     },
     "execution_count": 260,
     "metadata": {},
     "output_type": "execute_result"
    }
   ],
   "source": [
    "confusion_matrix(y_test, y_pred)"
   ]
  },
  {
   "cell_type": "code",
   "execution_count": null,
   "metadata": {},
   "outputs": [],
   "source": []
  },
  {
   "cell_type": "markdown",
   "metadata": {},
   "source": [
    "## linear"
   ]
  },
  {
   "cell_type": "code",
   "execution_count": 270,
   "metadata": {},
   "outputs": [],
   "source": [
    "lin_clf = svm.SVC(kernel='linear')"
   ]
  },
  {
   "cell_type": "code",
   "execution_count": 271,
   "metadata": {},
   "outputs": [
    {
     "data": {
      "text/plain": [
       "SVC(C=1.0, break_ties=False, cache_size=200, class_weight=None, coef0=0.0,\n",
       "    decision_function_shape='ovr', degree=3, gamma='scale', kernel='linear',\n",
       "    max_iter=-1, probability=False, random_state=None, shrinking=True,\n",
       "    tol=0.001, verbose=False)"
      ]
     },
     "execution_count": 271,
     "metadata": {},
     "output_type": "execute_result"
    }
   ],
   "source": [
    "lin_clf.fit(X_train_scaled, y_train)"
   ]
  },
  {
   "cell_type": "code",
   "execution_count": 272,
   "metadata": {},
   "outputs": [],
   "source": [
    "y_pred = lin_clf.predict(X_test_scaled)"
   ]
  },
  {
   "cell_type": "code",
   "execution_count": 273,
   "metadata": {},
   "outputs": [
    {
     "data": {
      "text/plain": [
       "0.9732770745428974"
      ]
     },
     "execution_count": 273,
     "metadata": {},
     "output_type": "execute_result"
    }
   ],
   "source": [
    "accuracy_score(y_pred, y_test)"
   ]
  },
  {
   "cell_type": "code",
   "execution_count": 274,
   "metadata": {},
   "outputs": [
    {
     "data": {
      "text/plain": [
       "array([[1138,    0,    0,    6],\n",
       "       [   0,   19,   36,    0],\n",
       "       [   0,   15,  585,    0],\n",
       "       [   0,    0,    0,  334]])"
      ]
     },
     "execution_count": 274,
     "metadata": {},
     "output_type": "execute_result"
    }
   ],
   "source": [
    "confusion_matrix(y_test, y_pred)"
   ]
  },
  {
   "cell_type": "code",
   "execution_count": 279,
   "metadata": {},
   "outputs": [
    {
     "data": {
      "text/plain": [
       "(6, 90)"
      ]
     },
     "execution_count": 279,
     "metadata": {},
     "output_type": "execute_result"
    }
   ],
   "source": [
    "lin_clf.coef_.shape"
   ]
  },
  {
   "cell_type": "code",
   "execution_count": null,
   "metadata": {},
   "outputs": [],
   "source": []
  },
  {
   "cell_type": "code",
   "execution_count": null,
   "metadata": {},
   "outputs": [],
   "source": []
  },
  {
   "cell_type": "code",
   "execution_count": null,
   "metadata": {},
   "outputs": [],
   "source": []
  },
  {
   "cell_type": "code",
   "execution_count": 280,
   "metadata": {},
   "outputs": [],
   "source": [
    "lin_clf = svm.LinearSVC()"
   ]
  },
  {
   "cell_type": "code",
   "execution_count": 281,
   "metadata": {},
   "outputs": [
    {
     "name": "stderr",
     "output_type": "stream",
     "text": [
      "/home/kilianovski/anaconda3/lib/python3.7/site-packages/sklearn/svm/_base.py:947: ConvergenceWarning: Liblinear failed to converge, increase the number of iterations.\n",
      "  \"the number of iterations.\", ConvergenceWarning)\n"
     ]
    },
    {
     "data": {
      "text/plain": [
       "LinearSVC(C=1.0, class_weight=None, dual=True, fit_intercept=True,\n",
       "          intercept_scaling=1, loss='squared_hinge', max_iter=1000,\n",
       "          multi_class='ovr', penalty='l2', random_state=None, tol=0.0001,\n",
       "          verbose=0)"
      ]
     },
     "execution_count": 281,
     "metadata": {},
     "output_type": "execute_result"
    }
   ],
   "source": [
    "lin_clf.fit(X_train_scaled, y_train)"
   ]
  },
  {
   "cell_type": "code",
   "execution_count": 282,
   "metadata": {},
   "outputs": [],
   "source": [
    "y_pred = lin_clf.predict(X_test_scaled)"
   ]
  },
  {
   "cell_type": "code",
   "execution_count": 283,
   "metadata": {},
   "outputs": [
    {
     "data": {
      "text/plain": [
       "0.9756211908110642"
      ]
     },
     "execution_count": 283,
     "metadata": {},
     "output_type": "execute_result"
    }
   ],
   "source": [
    "accuracy_score(y_pred, y_test)"
   ]
  },
  {
   "cell_type": "code",
   "execution_count": 284,
   "metadata": {},
   "outputs": [
    {
     "data": {
      "text/plain": [
       "array([[1136,    0,    0,    8],\n",
       "       [   1,   12,   42,    0],\n",
       "       [   0,    1,  599,    0],\n",
       "       [   0,    0,    0,  334]])"
      ]
     },
     "execution_count": 284,
     "metadata": {},
     "output_type": "execute_result"
    }
   ],
   "source": [
    "confusion_matrix(y_test, y_pred)"
   ]
  },
  {
   "cell_type": "code",
   "execution_count": 286,
   "metadata": {},
   "outputs": [
    {
     "data": {
      "text/plain": [
       "(4, 90)"
      ]
     },
     "execution_count": 286,
     "metadata": {},
     "output_type": "execute_result"
    }
   ],
   "source": [
    "lin_clf.coef_.shape"
   ]
  },
  {
   "cell_type": "markdown",
   "metadata": {},
   "source": [
    "# NN"
   ]
  },
  {
   "cell_type": "code",
   "execution_count": 66,
   "metadata": {},
   "outputs": [
    {
     "data": {
      "text/plain": [
       "'1.6.0'"
      ]
     },
     "execution_count": 66,
     "metadata": {},
     "output_type": "execute_result"
    }
   ],
   "source": [
    "import torch\n",
    "import torch.nn as nn\n",
    "import torch.nn.functional as F\n",
    "import torch.optim as optim\n",
    "\n",
    "from torch.utils.data import TensorDataset, DataLoader\n",
    "\n",
    "torch.__version__"
   ]
  },
  {
   "cell_type": "code",
   "execution_count": 76,
   "metadata": {},
   "outputs": [],
   "source": [
    "train_ds = TensorDataset(torch.tensor(X_train_scaled).float(), torch.tensor(y_train.values).long())\n",
    "\n",
    "X_test_tensor = torch.tensor(X_test_scaled).float()\n",
    "y_test_tensor = torch.tensor(y_test.values).float()"
   ]
  },
  {
   "cell_type": "code",
   "execution_count": 77,
   "metadata": {},
   "outputs": [],
   "source": [
    "bs = 64\n",
    "\n",
    "train_dl = DataLoader(train_ds, batch_size=bs, shuffle=True)"
   ]
  },
  {
   "cell_type": "code",
   "execution_count": null,
   "metadata": {},
   "outputs": [],
   "source": []
  },
  {
   "cell_type": "code",
   "execution_count": 91,
   "metadata": {},
   "outputs": [],
   "source": [
    "in_size = 90\n",
    "hidden_size = 120\n",
    "out_size = 4\n",
    "\n",
    "model = nn.Sequential(\n",
    "    nn.Linear(in_size, hidden_size),\n",
    "    nn.ReLU(),\n",
    "    nn.Linear(hidden_size, out_size)\n",
    ")"
   ]
  },
  {
   "cell_type": "code",
   "execution_count": 97,
   "metadata": {},
   "outputs": [
    {
     "name": "stdout",
     "output_type": "stream",
     "text": [
      "Accuracy: 0.972808251289264\n"
     ]
    },
    {
     "data": {
      "text/plain": [
       "(0.972808251289264,\n",
       " array([[1141,    0,    0,    3],\n",
       "        [   0,    0,   55,    0],\n",
       "        [   0,    0,  600,    0],\n",
       "        [   0,    0,    0,  334]]))"
      ]
     },
     "execution_count": 97,
     "metadata": {},
     "output_type": "execute_result"
    }
   ],
   "source": [
    "def check_quality(model, verbose=True):\n",
    "    with torch.no_grad():\n",
    "        y_pred = model(X_test_tensor).argmax(dim=1)\n",
    "        acc = accuracy_score(y_test, y_pred)\n",
    "        if verbose:\n",
    "            print(f'Accuracy: {acc}')\n",
    "        cmat = confusion_matrix(y_test, y_pred)\n",
    "        return acc, cmat\n",
    "    \n",
    "check_quality(model)"
   ]
  },
  {
   "cell_type": "code",
   "execution_count": 98,
   "metadata": {},
   "outputs": [],
   "source": [
    "criterion = nn.CrossEntropyLoss()\n",
    "optimizer = optim.SGD(model.parameters(), lr=0.001, momentum=0.9)"
   ]
  },
  {
   "cell_type": "code",
   "execution_count": null,
   "metadata": {},
   "outputs": [],
   "source": []
  },
  {
   "cell_type": "code",
   "execution_count": 99,
   "metadata": {},
   "outputs": [
    {
     "name": "stdout",
     "output_type": "stream",
     "text": [
      "Accuracy: 0.972808251289264\n",
      "[1,     1] loss: 0.000\n",
      "Accuracy: 0.972808251289264\n",
      "[2,     1] loss: 0.000\n"
     ]
    }
   ],
   "source": [
    "for epoch in range(2):  # loop over the dataset multiple times\n",
    "\n",
    "    running_loss = 0.0\n",
    "    for i, (X_batch, y_batch) in enumerate(train_dl, 0):\n",
    "\n",
    "\n",
    "        # zero the parameter gradients\n",
    "        optimizer.zero_grad()\n",
    "\n",
    "        # forward + backward + optimize\n",
    "        y_pred = model(X_batch)\n",
    "        loss = criterion(y_pred, y_batch)\n",
    "        loss.backward()\n",
    "        optimizer.step()\n",
    "        # print statistics\n",
    "        running_loss += loss.item()\n",
    "        \n",
    "        if i % 200 == 0:    # print every 2000 mini-batches\n",
    "            acc, cmatrix = check_quality(model)\n",
    "            \n",
    "            print('[%d, %5d] loss: %.3f' %\n",
    "                  (epoch + 1, i + 1, running_loss / 2000))\n",
    "            running_loss = 0.0"
   ]
  },
  {
   "cell_type": "code",
   "execution_count": 100,
   "metadata": {},
   "outputs": [
    {
     "name": "stdout",
     "output_type": "stream",
     "text": [
      "Accuracy: 0.972808251289264\n"
     ]
    },
    {
     "data": {
      "text/plain": [
       "(0.972808251289264,\n",
       " array([[1141,    0,    0,    3],\n",
       "        [   0,    0,   55,    0],\n",
       "        [   0,    0,  600,    0],\n",
       "        [   0,    0,    0,  334]]))"
      ]
     },
     "execution_count": 100,
     "metadata": {},
     "output_type": "execute_result"
    }
   ],
   "source": [
    "check_quality(model)"
   ]
  },
  {
   "cell_type": "code",
   "execution_count": 101,
   "metadata": {},
   "outputs": [
    {
     "name": "stdout",
     "output_type": "stream",
     "text": [
      "Accuracy: 0.972808251289264\n",
      "[1,     1] loss: 0.000\n",
      "Accuracy: 0.972808251289264\n",
      "[2,     1] loss: 0.000\n",
      "Accuracy: 0.972808251289264\n",
      "[3,     1] loss: 0.000\n",
      "Accuracy: 0.972808251289264\n",
      "[4,     1] loss: 0.000\n",
      "Accuracy: 0.972808251289264\n",
      "[5,     1] loss: 0.000\n",
      "Accuracy: 0.972808251289264\n",
      "[6,     1] loss: 0.000\n"
     ]
    }
   ],
   "source": [
    "for epoch in range(6):  # loop over the dataset multiple times\n",
    "\n",
    "    running_loss = 0.0\n",
    "    for i, (X_batch, y_batch) in enumerate(train_dl, 0):\n",
    "\n",
    "\n",
    "        # zero the parameter gradients\n",
    "        optimizer.zero_grad()\n",
    "\n",
    "        # forward + backward + optimize\n",
    "        y_pred = model(X_batch)\n",
    "        loss = criterion(y_pred, y_batch)\n",
    "        loss.backward()\n",
    "        optimizer.step()\n",
    "\n",
    "        # print statistics\n",
    "        running_loss += loss.item()\n",
    "        if i % 200 == 0:    # print every 2000 mini-batches\n",
    "            acc, cmatrix = check_quality(model)\n",
    "            print('[%d, %5d] loss: %.3f' %\n",
    "                  (epoch + 1, i + 1, running_loss / 2000))\n",
    "            running_loss = 0.0"
   ]
  },
  {
   "cell_type": "code",
   "execution_count": 102,
   "metadata": {},
   "outputs": [
    {
     "name": "stdout",
     "output_type": "stream",
     "text": [
      "Accuracy: 0.972808251289264\n"
     ]
    },
    {
     "data": {
      "text/plain": [
       "(0.972808251289264,\n",
       " array([[1141,    0,    0,    3],\n",
       "        [   0,    0,   55,    0],\n",
       "        [   0,    0,  600,    0],\n",
       "        [   0,    0,    0,  334]]))"
      ]
     },
     "execution_count": 102,
     "metadata": {},
     "output_type": "execute_result"
    }
   ],
   "source": [
    "check_quality(model)"
   ]
  },
  {
   "cell_type": "code",
   "execution_count": null,
   "metadata": {},
   "outputs": [],
   "source": []
  },
  {
   "cell_type": "markdown",
   "metadata": {},
   "source": [
    "# Conv1D"
   ]
  },
  {
   "cell_type": "code",
   "execution_count": 287,
   "metadata": {},
   "outputs": [],
   "source": [
    "conv1 = nn.Conv1d(3, 1, 12)"
   ]
  },
  {
   "cell_type": "code",
   "execution_count": 288,
   "metadata": {},
   "outputs": [
    {
     "data": {
      "text/plain": [
       "torch.Size([300, 1, 19])"
      ]
     },
     "execution_count": 288,
     "metadata": {},
     "output_type": "execute_result"
    }
   ],
   "source": [
    "sample_input = torch.rand((300, 3, 30))\n",
    "conv1(sample_input).shape"
   ]
  },
  {
   "cell_type": "code",
   "execution_count": null,
   "metadata": {},
   "outputs": [],
   "source": []
  },
  {
   "cell_type": "code",
   "execution_count": 289,
   "metadata": {},
   "outputs": [],
   "source": [
    "X_2d = []\n",
    "def flatten_sensor_frame(df): return df.values.flatten()\n",
    "data_list = []\n",
    "for class_folder in classes:\n",
    "    for file in class_folder.iterdir():\n",
    "        df = pd.read_csv(file)        \n",
    "        X_2d.append(df.values)"
   ]
  },
  {
   "cell_type": "code",
   "execution_count": 471,
   "metadata": {},
   "outputs": [
    {
     "data": {
      "text/plain": [
       "torch.Size([6462, 3, 30])"
      ]
     },
     "execution_count": 471,
     "metadata": {},
     "output_type": "execute_result"
    }
   ],
   "source": []
  },
  {
   "cell_type": "code",
   "execution_count": 290,
   "metadata": {},
   "outputs": [],
   "source": [
    "X_2d = torch.tensor(X_2d).float()\n",
    "# y    = concated['label'].values"
   ]
  },
  {
   "cell_type": "code",
   "execution_count": 291,
   "metadata": {},
   "outputs": [
    {
     "data": {
      "text/plain": [
       "(torch.Size([6462, 30, 3]), (6462,))"
      ]
     },
     "execution_count": 291,
     "metadata": {},
     "output_type": "execute_result"
    }
   ],
   "source": [
    "X_2d.shape, y.shape"
   ]
  },
  {
   "cell_type": "code",
   "execution_count": 292,
   "metadata": {},
   "outputs": [],
   "source": [
    "X_2d = X_2d.reshape(-1, 3, 30)"
   ]
  },
  {
   "cell_type": "code",
   "execution_count": 293,
   "metadata": {},
   "outputs": [],
   "source": [
    "X_train_2d, X_test_2d, y_train, y_test = train_test_split(X_2d, y, test_size=0.33, random_state=42)"
   ]
  },
  {
   "cell_type": "code",
   "execution_count": 294,
   "metadata": {},
   "outputs": [],
   "source": [
    "means = X_train_2d.mean(dim=[0,2], keepdims=True)\n",
    "stds = X_train_2d.std(dim=[0,2], keepdims=True)"
   ]
  },
  {
   "cell_type": "code",
   "execution_count": 295,
   "metadata": {},
   "outputs": [],
   "source": [
    "X_train_2d = (X_train_2d-means)/stds\n",
    "X_test_2d = (X_test_2d-means)/stds"
   ]
  },
  {
   "cell_type": "code",
   "execution_count": 486,
   "metadata": {},
   "outputs": [],
   "source": [
    "X_train_2d = X_train_2d.reshape(-1, 1, 3, 30)\n",
    "X_test_2d = X_test_2d.reshape(-1, 1, 3, 30)\n"
   ]
  },
  {
   "cell_type": "code",
   "execution_count": 503,
   "metadata": {},
   "outputs": [],
   "source": [
    "in_size = 90\n",
    "hidden_size = 19\n",
    "out_size = 4\n",
    "\n",
    "\n",
    "class Net(nn.Module):\n",
    "    def __init__(self):\n",
    "        super(Net, self).__init__()\n",
    "        self.conv1 = nn.Conv1d(3, 1, 12)\n",
    "        self.fc1 = nn.Linear(hidden_size, out_size)\n",
    "\n",
    "    def forward(self, x):\n",
    "        x = (F.relu(self.conv1(x)).reshape(-1, 19))\n",
    "        x = (self.fc1(x))\n",
    "        return x\n",
    "    \n",
    "model=nn.Sequential(\n",
    "    nn.Conv2d(1, 6, 3,3),\n",
    "    nn.ReLU(),\n",
    "    nn.Conv2d(6,4,1,3),\n",
    "    nn.ReLU(),\n",
    "    nn.Flatten(),\n",
    "    nn.Linear(out_size*4, out_size)\n",
    ")"
   ]
  },
  {
   "cell_type": "code",
   "execution_count": null,
   "metadata": {},
   "outputs": [],
   "source": []
  },
  {
   "cell_type": "code",
   "execution_count": 504,
   "metadata": {},
   "outputs": [
    {
     "name": "stdout",
     "output_type": "stream",
     "text": [
      "Accuracy: 0.2653539615564932\n"
     ]
    },
    {
     "data": {
      "text/plain": [
       "(0.2653539615564932,\n",
       " array([[   0,    1, 1143,    0],\n",
       "        [   0,    0,   55,    0],\n",
       "        [   0,   34,  566,    0],\n",
       "        [   0,    0,  334,    0]]))"
      ]
     },
     "execution_count": 504,
     "metadata": {},
     "output_type": "execute_result"
    }
   ],
   "source": [
    "def check_quality(model, verbose=True):\n",
    "    with torch.no_grad():\n",
    "        y_pred = model(X_test_2d).argmax(dim=-1).squeeze()\n",
    "        acc = accuracy_score(y_test, y_pred)\n",
    "        if verbose:\n",
    "            print(f'Accuracy: {acc}')\n",
    "        cmat = confusion_matrix(y_test, y_pred)\n",
    "        return acc, cmat\n",
    "\n",
    "check_quality(model)"
   ]
  },
  {
   "cell_type": "code",
   "execution_count": 505,
   "metadata": {},
   "outputs": [],
   "source": [
    "train_ds = TensorDataset((X_train_2d).float(), (y_train).long())"
   ]
  },
  {
   "cell_type": "code",
   "execution_count": 506,
   "metadata": {},
   "outputs": [],
   "source": [
    "bs = 16\n",
    "\n",
    "train_dl = DataLoader(train_ds, batch_size=bs, shuffle=True)"
   ]
  },
  {
   "cell_type": "code",
   "execution_count": 507,
   "metadata": {},
   "outputs": [
    {
     "data": {
      "text/plain": [
       "Sequential(\n",
       "  (0): Conv2d(1, 6, kernel_size=(3, 3), stride=(3, 3))\n",
       "  (1): ReLU()\n",
       "  (2): Conv2d(6, 4, kernel_size=(1, 1), stride=(3, 3))\n",
       "  (3): ReLU()\n",
       "  (4): Flatten()\n",
       "  (5): Linear(in_features=16, out_features=4, bias=True)\n",
       ")"
      ]
     },
     "execution_count": 507,
     "metadata": {},
     "output_type": "execute_result"
    }
   ],
   "source": [
    "model"
   ]
  },
  {
   "cell_type": "code",
   "execution_count": 532,
   "metadata": {},
   "outputs": [],
   "source": [
    "weight = torch.tensor([1.0, 4.0, 2.0, 1])\n",
    "criterion = nn.CrossEntropyLoss(weight=weight)\n",
    "optimizer = optim.SGD(model.parameters(), lr=0.001, momentum=0.9)"
   ]
  },
  {
   "cell_type": "code",
   "execution_count": 539,
   "metadata": {},
   "outputs": [],
   "source": [
    "bs = 40\n",
    "\n",
    "train_dl = DataLoader(train_ds, batch_size=bs, shuffle=True)"
   ]
  },
  {
   "cell_type": "code",
   "execution_count": 540,
   "metadata": {},
   "outputs": [
    {
     "name": "stdout",
     "output_type": "stream",
     "text": [
      "Accuracy: 0.9704641350210971\n",
      "[1,     1] loss: 0.000\n",
      "Accuracy: 0.9718706047819972\n",
      "[2,     1] loss: 0.000\n",
      "Accuracy: 0.9714017815283638\n",
      "[3,     1] loss: 0.000\n",
      "Accuracy: 0.9718706047819972\n",
      "[4,     1] loss: 0.000\n",
      "Accuracy: 0.9723394280356306\n",
      "[5,     1] loss: 0.000\n"
     ]
    }
   ],
   "source": [
    "\n",
    "\n",
    "for epoch in range(5):  # loop over the dataset multiple times\n",
    "\n",
    "    running_loss = 0.0\n",
    "    for i, (X_batch, y_batch) in enumerate(train_dl, 0):\n",
    "\n",
    "\n",
    "        # zero the parameter gradients\n",
    "        optimizer.zero_grad()\n",
    "\n",
    "        # forward + backward + optimize\n",
    "        y_pred = model(X_batch)\n",
    "        loss = criterion(y_pred, y_batch)\n",
    "        loss.backward()\n",
    "        optimizer.step()\n",
    "        # print statistics\n",
    "        running_loss += loss.item()\n",
    "        \n",
    "        if i % 2000 == 0:    # print every 2000 mini-batches\n",
    "            acc, cmatrix = check_quality(model)\n",
    "            \n",
    "            print('[%d, %5d] loss: %.3f' %\n",
    "                  (epoch + 1, i + 1, running_loss / 2000))\n",
    "            running_loss = 0.0"
   ]
  },
  {
   "cell_type": "code",
   "execution_count": 541,
   "metadata": {
    "scrolled": true
   },
   "outputs": [
    {
     "name": "stdout",
     "output_type": "stream",
     "text": [
      "Accuracy: 0.972808251289264\n"
     ]
    },
    {
     "data": {
      "text/plain": [
       "(0.972808251289264,\n",
       " array([[1140,    0,    0,    4],\n",
       "        [   0,   21,   34,    0],\n",
       "        [   0,   20,  580,    0],\n",
       "        [   0,    0,    0,  334]]))"
      ]
     },
     "execution_count": 541,
     "metadata": {},
     "output_type": "execute_result"
    }
   ],
   "source": [
    "check_quality(model)"
   ]
  },
  {
   "cell_type": "code",
   "execution_count": 437,
   "metadata": {},
   "outputs": [
    {
     "name": "stdout",
     "output_type": "stream",
     "text": [
      "Accuracy: 0.9887482419127989\n"
     ]
    },
    {
     "data": {
      "text/plain": [
       "(0.9887482419127989,\n",
       " array([[1142,    0,    0,    2],\n",
       "        [   0,   43,   12,    0],\n",
       "        [   0,   10,  590,    0],\n",
       "        [   0,    0,    0,  334]]))"
      ]
     },
     "execution_count": 437,
     "metadata": {},
     "output_type": "execute_result"
    }
   ],
   "source": [
    "check_quality(model)"
   ]
  },
  {
   "cell_type": "code",
   "execution_count": 342,
   "metadata": {},
   "outputs": [],
   "source": [
    "def check_quality_train(model, verbose=True):\n",
    "    with torch.no_grad():\n",
    "        y_pred = model(X_train_2d).argmax(dim=-1).squeeze()\n",
    "        acc = accuracy_score(y_train, y_pred)\n",
    "        if verbose:\n",
    "            print(f'Accuracy: {acc}')\n",
    "        cmat = confusion_matrix(y_train, y_pred)\n",
    "        return acc, cmat"
   ]
  },
  {
   "cell_type": "code",
   "execution_count": 343,
   "metadata": {},
   "outputs": [
    {
     "name": "stdout",
     "output_type": "stream",
     "text": [
      "Accuracy: 0.9725109725109725\n"
     ]
    },
    {
     "data": {
      "text/plain": [
       "(0.9725109725109725,\n",
       " array([[2257,    0,    0,    7],\n",
       "        [   0,    0,  110,    0],\n",
       "        [   0,    2, 1248,    0],\n",
       "        [   0,    0,    0,  705]]))"
      ]
     },
     "execution_count": 343,
     "metadata": {},
     "output_type": "execute_result"
    }
   ],
   "source": [
    "check_quality_train(model)"
   ]
  },
  {
   "cell_type": "markdown",
   "metadata": {},
   "source": [
    "# Naive Bayes"
   ]
  },
  {
   "cell_type": "code",
   "execution_count": 51,
   "metadata": {},
   "outputs": [],
   "source": [
    "from sklearn.naive_bayes import GaussianNB"
   ]
  },
  {
   "cell_type": "code",
   "execution_count": 53,
   "metadata": {},
   "outputs": [],
   "source": [
    "gnb = GaussianNB()"
   ]
  },
  {
   "cell_type": "code",
   "execution_count": 54,
   "metadata": {},
   "outputs": [],
   "source": [
    "y_pred = gnb.fit(X_train, y_train).predict(X_test)"
   ]
  },
  {
   "cell_type": "code",
   "execution_count": 55,
   "metadata": {},
   "outputs": [
    {
     "data": {
      "text/plain": [
       "0.9737458977965308"
      ]
     },
     "execution_count": 55,
     "metadata": {},
     "output_type": "execute_result"
    }
   ],
   "source": [
    "accuracy_score(y_pred, y_test)"
   ]
  },
  {
   "cell_type": "code",
   "execution_count": 56,
   "metadata": {},
   "outputs": [
    {
     "data": {
      "text/plain": [
       "array([[1144,    0,    0,    0],\n",
       "       [   0,   38,   17,    0],\n",
       "       [   0,   36,  564,    0],\n",
       "       [   3,    0,    0,  331]])"
      ]
     },
     "execution_count": 56,
     "metadata": {},
     "output_type": "execute_result"
    }
   ],
   "source": [
    "confusion_matrix(y_test, y_pred)"
   ]
  },
  {
   "cell_type": "markdown",
   "metadata": {
    "heading_collapsed": true
   },
   "source": [
    "# kNN"
   ]
  },
  {
   "cell_type": "code",
   "execution_count": 44,
   "metadata": {
    "hidden": true
   },
   "outputs": [],
   "source": [
    "from sklearn.neighbors import KNeighborsClassifier"
   ]
  },
  {
   "cell_type": "code",
   "execution_count": 45,
   "metadata": {
    "hidden": true
   },
   "outputs": [],
   "source": [
    "neigh = KNeighborsClassifier(n_neighbors=5)"
   ]
  },
  {
   "cell_type": "code",
   "execution_count": 46,
   "metadata": {
    "hidden": true
   },
   "outputs": [
    {
     "data": {
      "text/plain": [
       "KNeighborsClassifier(algorithm='auto', leaf_size=30, metric='minkowski',\n",
       "                     metric_params=None, n_jobs=None, n_neighbors=5, p=2,\n",
       "                     weights='uniform')"
      ]
     },
     "execution_count": 46,
     "metadata": {},
     "output_type": "execute_result"
    }
   ],
   "source": [
    "neigh.fit(X_train, y_train)"
   ]
  },
  {
   "cell_type": "code",
   "execution_count": 47,
   "metadata": {
    "hidden": true
   },
   "outputs": [],
   "source": [
    "y_pred = neigh.predict(X_test)"
   ]
  },
  {
   "cell_type": "code",
   "execution_count": 48,
   "metadata": {
    "hidden": true
   },
   "outputs": [
    {
     "data": {
      "text/plain": [
       "0.9615564932020628"
      ]
     },
     "execution_count": 48,
     "metadata": {},
     "output_type": "execute_result"
    }
   ],
   "source": [
    "accuracy_score(y_pred, y_test)"
   ]
  },
  {
   "cell_type": "code",
   "execution_count": 49,
   "metadata": {
    "hidden": true
   },
   "outputs": [
    {
     "data": {
      "text/plain": [
       "array([[1113,    0,    0,   31],\n",
       "       [   0,   45,   10,    0],\n",
       "       [   0,   41,  559,    0],\n",
       "       [   0,    0,    0,  334]])"
      ]
     },
     "execution_count": 49,
     "metadata": {},
     "output_type": "execute_result"
    }
   ],
   "source": [
    "confusion_matrix(y_test, y_pred)"
   ]
  },
  {
   "cell_type": "code",
   "execution_count": null,
   "metadata": {
    "hidden": true
   },
   "outputs": [],
   "source": []
  },
  {
   "cell_type": "markdown",
   "metadata": {},
   "source": [
    "# Random forest"
   ]
  },
  {
   "cell_type": "code",
   "execution_count": 27,
   "metadata": {},
   "outputs": [],
   "source": [
    "from sklearn.ensemble import RandomForestClassifier"
   ]
  },
  {
   "cell_type": "code",
   "execution_count": 28,
   "metadata": {},
   "outputs": [],
   "source": [
    "clf = RandomForestClassifier(random_state=0)"
   ]
  },
  {
   "cell_type": "code",
   "execution_count": 29,
   "metadata": {},
   "outputs": [
    {
     "data": {
      "text/plain": [
       "RandomForestClassifier(bootstrap=True, ccp_alpha=0.0, class_weight=None,\n",
       "                       criterion='gini', max_depth=None, max_features='auto',\n",
       "                       max_leaf_nodes=None, max_samples=None,\n",
       "                       min_impurity_decrease=0.0, min_impurity_split=None,\n",
       "                       min_samples_leaf=1, min_samples_split=2,\n",
       "                       min_weight_fraction_leaf=0.0, n_estimators=100,\n",
       "                       n_jobs=None, oob_score=False, random_state=0, verbose=0,\n",
       "                       warm_start=False)"
      ]
     },
     "execution_count": 29,
     "metadata": {},
     "output_type": "execute_result"
    }
   ],
   "source": [
    "clf.fit(X_train, y_train)"
   ]
  },
  {
   "cell_type": "code",
   "execution_count": 31,
   "metadata": {},
   "outputs": [],
   "source": [
    "y_pred = clf.predict(X_test)"
   ]
  },
  {
   "cell_type": "code",
   "execution_count": 32,
   "metadata": {},
   "outputs": [
    {
     "data": {
      "text/plain": [
       "0.9746835443037974"
      ]
     },
     "execution_count": 32,
     "metadata": {},
     "output_type": "execute_result"
    }
   ],
   "source": [
    "accuracy_score(y_pred, y_test)"
   ]
  },
  {
   "cell_type": "code",
   "execution_count": 33,
   "metadata": {},
   "outputs": [
    {
     "data": {
      "text/plain": [
       "array([[1144,    0,    0,    0],\n",
       "       [   0,    1,   54,    0],\n",
       "       [   0,    0,  600,    0],\n",
       "       [   0,    0,    0,  334]])"
      ]
     },
     "execution_count": 33,
     "metadata": {},
     "output_type": "execute_result"
    }
   ],
   "source": [
    "confusion_matrix(y_test, y_pred)"
   ]
  },
  {
   "cell_type": "code",
   "execution_count": 34,
   "metadata": {},
   "outputs": [
    {
     "data": {
      "text/plain": [
       "0    1144\n",
       "2     600\n",
       "3     334\n",
       "1      55\n",
       "Name: label, dtype: int64"
      ]
     },
     "execution_count": 34,
     "metadata": {},
     "output_type": "execute_result"
    }
   ],
   "source": [
    "y_test.value_counts()"
   ]
  },
  {
   "cell_type": "code",
   "execution_count": 35,
   "metadata": {},
   "outputs": [
    {
     "data": {
      "text/plain": [
       "0    1144\n",
       "2     654\n",
       "3     334\n",
       "1       1\n",
       "dtype: int64"
      ]
     },
     "execution_count": 35,
     "metadata": {},
     "output_type": "execute_result"
    }
   ],
   "source": [
    "pd.Series(y_pred).value_counts()"
   ]
  },
  {
   "cell_type": "markdown",
   "metadata": {
    "heading_collapsed": true
   },
   "source": [
    "# lightgbm"
   ]
  },
  {
   "cell_type": "code",
   "execution_count": 189,
   "metadata": {
    "hidden": true
   },
   "outputs": [],
   "source": [
    "import lightgbm as lgb\n",
    "clf = lgb.LGBMClassifier()\n"
   ]
  },
  {
   "cell_type": "code",
   "execution_count": 190,
   "metadata": {
    "hidden": true
   },
   "outputs": [
    {
     "data": {
      "text/plain": [
       "LGBMClassifier(boosting_type='gbdt', class_weight=None, colsample_bytree=1.0,\n",
       "               importance_type='split', learning_rate=0.1, max_depth=-1,\n",
       "               min_child_samples=20, min_child_weight=0.001, min_split_gain=0.0,\n",
       "               n_estimators=100, n_jobs=-1, num_leaves=31, objective=None,\n",
       "               random_state=None, reg_alpha=0.0, reg_lambda=0.0, silent=True,\n",
       "               subsample=1.0, subsample_for_bin=200000, subsample_freq=0)"
      ]
     },
     "execution_count": 190,
     "metadata": {},
     "output_type": "execute_result"
    }
   ],
   "source": [
    "clf.fit(X_train, y_train)"
   ]
  },
  {
   "cell_type": "code",
   "execution_count": 191,
   "metadata": {
    "hidden": true
   },
   "outputs": [],
   "source": [
    "y_pred = clf.predict(X_test)"
   ]
  },
  {
   "cell_type": "code",
   "execution_count": 192,
   "metadata": {
    "hidden": true
   },
   "outputs": [
    {
     "data": {
      "text/plain": [
       "0.9798406000937646"
      ]
     },
     "execution_count": 192,
     "metadata": {},
     "output_type": "execute_result"
    }
   ],
   "source": [
    "accuracy_score(y_pred, y_test)"
   ]
  },
  {
   "cell_type": "code",
   "execution_count": 193,
   "metadata": {
    "hidden": true
   },
   "outputs": [
    {
     "data": {
      "text/plain": [
       "array([[1144,    0,    0,    0],\n",
       "       [   0,   13,   42,    0],\n",
       "       [   0,    1,  599,    0],\n",
       "       [   0,    0,    0,  334]])"
      ]
     },
     "execution_count": 193,
     "metadata": {},
     "output_type": "execute_result"
    }
   ],
   "source": [
    "confusion_matrix(y_test, y_pred)"
   ]
  },
  {
   "cell_type": "code",
   "execution_count": 72,
   "metadata": {
    "hidden": true
   },
   "outputs": [],
   "source": [
    "import matplotlib.pyplot as plt"
   ]
  },
  {
   "cell_type": "code",
   "execution_count": null,
   "metadata": {
    "hidden": true
   },
   "outputs": [],
   "source": []
  },
  {
   "cell_type": "code",
   "execution_count": 74,
   "metadata": {
    "hidden": true
   },
   "outputs": [],
   "source": [
    "from sklearn.decomposition import PCA\n",
    "from sklearn.manifold import TSNE\n",
    "%matplotlib inline\n",
    "import matplotlib.pyplot as plt\n",
    "import seaborn as sns"
   ]
  },
  {
   "cell_type": "code",
   "execution_count": 167,
   "metadata": {
    "hidden": true
   },
   "outputs": [
    {
     "name": "stdout",
     "output_type": "stream",
     "text": [
      "[t-SNE] Computing 121 nearest neighbors...\n",
      "[t-SNE] Indexed 6462 samples in 0.038s...\n",
      "[t-SNE] Computed neighbors for 6462 samples in 4.490s...\n",
      "[t-SNE] Computed conditional probabilities for sample 1000 / 6462\n",
      "[t-SNE] Computed conditional probabilities for sample 2000 / 6462\n",
      "[t-SNE] Computed conditional probabilities for sample 3000 / 6462\n",
      "[t-SNE] Computed conditional probabilities for sample 4000 / 6462\n",
      "[t-SNE] Computed conditional probabilities for sample 5000 / 6462\n",
      "[t-SNE] Computed conditional probabilities for sample 6000 / 6462\n",
      "[t-SNE] Computed conditional probabilities for sample 6462 / 6462\n",
      "[t-SNE] Mean sigma: 0.386747\n",
      "[t-SNE] KL divergence after 250 iterations with early exaggeration: 76.156403\n",
      "[t-SNE] KL divergence after 300 iterations: 2.483553\n"
     ]
    }
   ],
   "source": [
    "tsne = TSNE(n_components=2, verbose=1, perplexity=40, n_iter=300)\n",
    "tsne_results = tsne.fit_transform(X_stairs)"
   ]
  },
  {
   "cell_type": "code",
   "execution_count": 168,
   "metadata": {
    "hidden": true
   },
   "outputs": [
    {
     "data": {
      "text/plain": [
       "array([[-1.7019429 , -1.2364333 ],\n",
       "       [-9.161739  , -1.0923918 ],\n",
       "       [-0.74713904, -1.3519472 ],\n",
       "       ...,\n",
       "       [ 2.652534  ,  4.0825458 ],\n",
       "       [ 4.4689126 , 10.391663  ],\n",
       "       [ 6.2595596 ,  7.523996  ]], dtype=float32)"
      ]
     },
     "execution_count": 168,
     "metadata": {},
     "output_type": "execute_result"
    }
   ],
   "source": [
    "tsne_results"
   ]
  },
  {
   "cell_type": "code",
   "execution_count": 170,
   "metadata": {
    "hidden": true
   },
   "outputs": [
    {
     "data": {
      "text/plain": [
       "<matplotlib.axes._subplots.AxesSubplot at 0x7f5ac4ceb790>"
      ]
     },
     "execution_count": 170,
     "metadata": {},
     "output_type": "execute_result"
    },
    {
     "data": {
      "image/png": "[encoded data removed]",
      "text/plain": [
       "<Figure size 1152x720 with 1 Axes>"
      ]
     },
     "metadata": {
      "needs_background": "light"
     },
     "output_type": "display_data"
    }
   ],
   "source": [
    "df_subset = pd.DataFrame(columns=['tsne-2d-one', 'tsne-2d-two'])\n",
    "df_subset['tsne-2d-one'] = tsne_results[:,0]\n",
    "df_subset['tsne-2d-two'] = tsne_results[:,1]\n",
    "df_subset['y'] = y_stairs\n",
    "\n",
    "plt.figure(figsize=(16,10))\n",
    "sns.scatterplot(\n",
    "    x=\"tsne-2d-one\", y=\"tsne-2d-two\",\n",
    "    hue=\"y\",\n",
    "    palette=sns.color_palette(\"hls\", 2),\n",
    "    data=df_subset,\n",
    "    legend=\"full\",\n",
    "    alpha=0.3\n",
    ")"
   ]
  },
  {
   "cell_type": "code",
   "execution_count": 81,
   "metadata": {
    "hidden": true
   },
   "outputs": [
    {
     "data": {
      "text/html": [
       "<div>\n",
       "<style scoped>\n",
       "    .dataframe tbody tr th:only-of-type {\n",
       "        vertical-align: middle;\n",
       "    }\n",
       "\n",
       "    .dataframe tbody tr th {\n",
       "        vertical-align: top;\n",
       "    }\n",
       "\n",
       "    .dataframe thead th {\n",
       "        text-align: right;\n",
       "    }\n",
       "</style>\n",
       "<table border=\"1\" class=\"dataframe\">\n",
       "  <thead>\n",
       "    <tr style=\"text-align: right;\">\n",
       "      <th></th>\n",
       "      <th>0</th>\n",
       "      <th>1</th>\n",
       "      <th>2</th>\n",
       "      <th>3</th>\n",
       "      <th>4</th>\n",
       "      <th>5</th>\n",
       "      <th>6</th>\n",
       "      <th>7</th>\n",
       "      <th>8</th>\n",
       "      <th>9</th>\n",
       "      <th>...</th>\n",
       "      <th>80</th>\n",
       "      <th>81</th>\n",
       "      <th>82</th>\n",
       "      <th>83</th>\n",
       "      <th>84</th>\n",
       "      <th>85</th>\n",
       "      <th>86</th>\n",
       "      <th>87</th>\n",
       "      <th>88</th>\n",
       "      <th>89</th>\n",
       "    </tr>\n",
       "  </thead>\n",
       "  <tbody>\n",
       "    <tr>\n",
       "      <th>0</th>\n",
       "      <td>2.667141</td>\n",
       "      <td>-7.838616</td>\n",
       "      <td>-9.548077</td>\n",
       "      <td>4.017470</td>\n",
       "      <td>8.705317</td>\n",
       "      <td>-2.226607</td>\n",
       "      <td>22.357056</td>\n",
       "      <td>20.887016</td>\n",
       "      <td>-2.820370</td>\n",
       "      <td>17.922995</td>\n",
       "      <td>...</td>\n",
       "      <td>12.430696</td>\n",
       "      <td>-0.885855</td>\n",
       "      <td>11.310209</td>\n",
       "      <td>-8.939949</td>\n",
       "      <td>13.771448</td>\n",
       "      <td>9.825804</td>\n",
       "      <td>1.470040</td>\n",
       "      <td>-2.044648</td>\n",
       "      <td>6.689400</td>\n",
       "      <td>10.807426</td>\n",
       "    </tr>\n",
       "    <tr>\n",
       "      <th>1</th>\n",
       "      <td>10.745177</td>\n",
       "      <td>23.415293</td>\n",
       "      <td>1.144428</td>\n",
       "      <td>3.744532</td>\n",
       "      <td>-9.035717</td>\n",
       "      <td>-2.892196</td>\n",
       "      <td>0.766145</td>\n",
       "      <td>21.092916</td>\n",
       "      <td>-0.928950</td>\n",
       "      <td>23.956383</td>\n",
       "      <td>...</td>\n",
       "      <td>0.363919</td>\n",
       "      <td>1.532289</td>\n",
       "      <td>15.782578</td>\n",
       "      <td>1.699883</td>\n",
       "      <td>14.168885</td>\n",
       "      <td>32.245110</td>\n",
       "      <td>3.390190</td>\n",
       "      <td>3.983952</td>\n",
       "      <td>-1.867477</td>\n",
       "      <td>-1.407790</td>\n",
       "    </tr>\n",
       "    <tr>\n",
       "      <th>2</th>\n",
       "      <td>22.031445</td>\n",
       "      <td>18.406622</td>\n",
       "      <td>1.537078</td>\n",
       "      <td>3.600880</td>\n",
       "      <td>12.368446</td>\n",
       "      <td>2.217031</td>\n",
       "      <td>-0.354342</td>\n",
       "      <td>-13.206416</td>\n",
       "      <td>-7.254431</td>\n",
       "      <td>8.245631</td>\n",
       "      <td>...</td>\n",
       "      <td>-6.019023</td>\n",
       "      <td>4.151546</td>\n",
       "      <td>24.502260</td>\n",
       "      <td>-1.139640</td>\n",
       "      <td>-0.493206</td>\n",
       "      <td>-14.542381</td>\n",
       "      <td>-2.164358</td>\n",
       "      <td>2.442086</td>\n",
       "      <td>9.677363</td>\n",
       "      <td>-3.016694</td>\n",
       "    </tr>\n",
       "    <tr>\n",
       "      <th>3</th>\n",
       "      <td>10.371682</td>\n",
       "      <td>-1.608903</td>\n",
       "      <td>-2.801216</td>\n",
       "      <td>25.718515</td>\n",
       "      <td>16.247053</td>\n",
       "      <td>-6.488286</td>\n",
       "      <td>-3.600879</td>\n",
       "      <td>6.684612</td>\n",
       "      <td>-2.375048</td>\n",
       "      <td>10.534488</td>\n",
       "      <td>...</td>\n",
       "      <td>-5.200206</td>\n",
       "      <td>17.056293</td>\n",
       "      <td>37.330395</td>\n",
       "      <td>5.621586</td>\n",
       "      <td>2.695871</td>\n",
       "      <td>11.626244</td>\n",
       "      <td>-1.082179</td>\n",
       "      <td>8.681376</td>\n",
       "      <td>12.124237</td>\n",
       "      <td>-4.946420</td>\n",
       "    </tr>\n",
       "    <tr>\n",
       "      <th>4</th>\n",
       "      <td>3.624822</td>\n",
       "      <td>9.059659</td>\n",
       "      <td>4.390966</td>\n",
       "      <td>33.073500</td>\n",
       "      <td>33.202790</td>\n",
       "      <td>4.802769</td>\n",
       "      <td>3.792416</td>\n",
       "      <td>3.596091</td>\n",
       "      <td>-2.681506</td>\n",
       "      <td>-1.872266</td>\n",
       "      <td>...</td>\n",
       "      <td>-4.079719</td>\n",
       "      <td>1.187524</td>\n",
       "      <td>13.072341</td>\n",
       "      <td>-1.953669</td>\n",
       "      <td>1.441310</td>\n",
       "      <td>-14.585477</td>\n",
       "      <td>3.610456</td>\n",
       "      <td>6.028600</td>\n",
       "      <td>17.889475</td>\n",
       "      <td>-0.732626</td>\n",
       "    </tr>\n",
       "    <tr>\n",
       "      <th>...</th>\n",
       "      <td>...</td>\n",
       "      <td>...</td>\n",
       "      <td>...</td>\n",
       "      <td>...</td>\n",
       "      <td>...</td>\n",
       "      <td>...</td>\n",
       "      <td>...</td>\n",
       "      <td>...</td>\n",
       "      <td>...</td>\n",
       "      <td>...</td>\n",
       "      <td>...</td>\n",
       "      <td>...</td>\n",
       "      <td>...</td>\n",
       "      <td>...</td>\n",
       "      <td>...</td>\n",
       "      <td>...</td>\n",
       "      <td>...</td>\n",
       "      <td>...</td>\n",
       "      <td>...</td>\n",
       "      <td>...</td>\n",
       "      <td>...</td>\n",
       "    </tr>\n",
       "    <tr>\n",
       "      <th>6457</th>\n",
       "      <td>0.215478</td>\n",
       "      <td>0.090980</td>\n",
       "      <td>9.734824</td>\n",
       "      <td>0.234632</td>\n",
       "      <td>-0.095768</td>\n",
       "      <td>9.715671</td>\n",
       "      <td>0.239420</td>\n",
       "      <td>-0.009577</td>\n",
       "      <td>9.763555</td>\n",
       "      <td>0.239420</td>\n",
       "      <td>...</td>\n",
       "      <td>9.753978</td>\n",
       "      <td>0.248997</td>\n",
       "      <td>-0.019154</td>\n",
       "      <td>9.749189</td>\n",
       "      <td>0.244209</td>\n",
       "      <td>-0.019154</td>\n",
       "      <td>9.744401</td>\n",
       "      <td>0.234632</td>\n",
       "      <td>-0.004788</td>\n",
       "      <td>9.773131</td>\n",
       "    </tr>\n",
       "    <tr>\n",
       "      <th>6458</th>\n",
       "      <td>0.440533</td>\n",
       "      <td>2.360683</td>\n",
       "      <td>9.193734</td>\n",
       "      <td>2.341529</td>\n",
       "      <td>-0.995988</td>\n",
       "      <td>10.515334</td>\n",
       "      <td>-1.728614</td>\n",
       "      <td>-0.387861</td>\n",
       "      <td>10.017340</td>\n",
       "      <td>0.244209</td>\n",
       "      <td>...</td>\n",
       "      <td>9.739613</td>\n",
       "      <td>0.277727</td>\n",
       "      <td>-0.028730</td>\n",
       "      <td>9.768343</td>\n",
       "      <td>0.263362</td>\n",
       "      <td>-0.009577</td>\n",
       "      <td>9.763555</td>\n",
       "      <td>0.248997</td>\n",
       "      <td>-0.004788</td>\n",
       "      <td>9.768343</td>\n",
       "    </tr>\n",
       "    <tr>\n",
       "      <th>6459</th>\n",
       "      <td>-1.058237</td>\n",
       "      <td>4.807557</td>\n",
       "      <td>7.824251</td>\n",
       "      <td>-0.866701</td>\n",
       "      <td>4.946421</td>\n",
       "      <td>8.365341</td>\n",
       "      <td>-0.478840</td>\n",
       "      <td>5.152323</td>\n",
       "      <td>8.178593</td>\n",
       "      <td>-0.641646</td>\n",
       "      <td>...</td>\n",
       "      <td>7.196971</td>\n",
       "      <td>-0.656011</td>\n",
       "      <td>6.560113</td>\n",
       "      <td>7.235278</td>\n",
       "      <td>-0.445322</td>\n",
       "      <td>6.464345</td>\n",
       "      <td>7.800309</td>\n",
       "      <td>-0.416591</td>\n",
       "      <td>6.507440</td>\n",
       "      <td>7.091625</td>\n",
       "    </tr>\n",
       "    <tr>\n",
       "      <th>6460</th>\n",
       "      <td>-0.114922</td>\n",
       "      <td>-0.105345</td>\n",
       "      <td>9.806650</td>\n",
       "      <td>-0.081403</td>\n",
       "      <td>-0.124498</td>\n",
       "      <td>9.763555</td>\n",
       "      <td>-0.124498</td>\n",
       "      <td>-0.081403</td>\n",
       "      <td>9.840169</td>\n",
       "      <td>-0.081403</td>\n",
       "      <td>...</td>\n",
       "      <td>9.777920</td>\n",
       "      <td>-0.100556</td>\n",
       "      <td>-0.129287</td>\n",
       "      <td>9.777920</td>\n",
       "      <td>-0.081403</td>\n",
       "      <td>-0.124498</td>\n",
       "      <td>9.758766</td>\n",
       "      <td>-0.081403</td>\n",
       "      <td>-0.153229</td>\n",
       "      <td>9.763555</td>\n",
       "    </tr>\n",
       "    <tr>\n",
       "      <th>6461</th>\n",
       "      <td>0.306458</td>\n",
       "      <td>-0.076614</td>\n",
       "      <td>9.768343</td>\n",
       "      <td>0.253785</td>\n",
       "      <td>-0.062249</td>\n",
       "      <td>9.773131</td>\n",
       "      <td>0.258574</td>\n",
       "      <td>-0.052672</td>\n",
       "      <td>9.782708</td>\n",
       "      <td>0.268151</td>\n",
       "      <td>...</td>\n",
       "      <td>3.026271</td>\n",
       "      <td>1.182736</td>\n",
       "      <td>7.230490</td>\n",
       "      <td>6.804322</td>\n",
       "      <td>1.082179</td>\n",
       "      <td>7.015011</td>\n",
       "      <td>6.718130</td>\n",
       "      <td>0.852336</td>\n",
       "      <td>6.842629</td>\n",
       "      <td>6.957550</td>\n",
       "    </tr>\n",
       "  </tbody>\n",
       "</table>\n",
       "<p>6462 rows × 90 columns</p>\n",
       "</div>"
      ],
      "text/plain": [
       "              0          1         2          3          4          5  \\\n",
       "0      2.667141  -7.838616 -9.548077   4.017470   8.705317  -2.226607   \n",
       "1     10.745177  23.415293  1.144428   3.744532  -9.035717  -2.892196   \n",
       "2     22.031445  18.406622  1.537078   3.600880  12.368446   2.217031   \n",
       "3     10.371682  -1.608903 -2.801216  25.718515  16.247053  -6.488286   \n",
       "4      3.624822   9.059659  4.390966  33.073500  33.202790   4.802769   \n",
       "...         ...        ...       ...        ...        ...        ...   \n",
       "6457   0.215478   0.090980  9.734824   0.234632  -0.095768   9.715671   \n",
       "6458   0.440533   2.360683  9.193734   2.341529  -0.995988  10.515334   \n",
       "6459  -1.058237   4.807557  7.824251  -0.866701   4.946421   8.365341   \n",
       "6460  -0.114922  -0.105345  9.806650  -0.081403  -0.124498   9.763555   \n",
       "6461   0.306458  -0.076614  9.768343   0.253785  -0.062249   9.773131   \n",
       "\n",
       "              6          7          8          9  ...         80         81  \\\n",
       "0     22.357056  20.887016  -2.820370  17.922995  ...  12.430696  -0.885855   \n",
       "1      0.766145  21.092916  -0.928950  23.956383  ...   0.363919   1.532289   \n",
       "2     -0.354342 -13.206416  -7.254431   8.245631  ...  -6.019023   4.151546   \n",
       "3     -3.600879   6.684612  -2.375048  10.534488  ...  -5.200206  17.056293   \n",
       "4      3.792416   3.596091  -2.681506  -1.872266  ...  -4.079719   1.187524   \n",
       "...         ...        ...        ...        ...  ...        ...        ...   \n",
       "6457   0.239420  -0.009577   9.763555   0.239420  ...   9.753978   0.248997   \n",
       "6458  -1.728614  -0.387861  10.017340   0.244209  ...   9.739613   0.277727   \n",
       "6459  -0.478840   5.152323   8.178593  -0.641646  ...   7.196971  -0.656011   \n",
       "6460  -0.124498  -0.081403   9.840169  -0.081403  ...   9.777920  -0.100556   \n",
       "6461   0.258574  -0.052672   9.782708   0.268151  ...   3.026271   1.182736   \n",
       "\n",
       "             82        83         84         85        86        87  \\\n",
       "0     11.310209 -8.939949  13.771448   9.825804  1.470040 -2.044648   \n",
       "1     15.782578  1.699883  14.168885  32.245110  3.390190  3.983952   \n",
       "2     24.502260 -1.139640  -0.493206 -14.542381 -2.164358  2.442086   \n",
       "3     37.330395  5.621586   2.695871  11.626244 -1.082179  8.681376   \n",
       "4     13.072341 -1.953669   1.441310 -14.585477  3.610456  6.028600   \n",
       "...         ...       ...        ...        ...       ...       ...   \n",
       "6457  -0.019154  9.749189   0.244209  -0.019154  9.744401  0.234632   \n",
       "6458  -0.028730  9.768343   0.263362  -0.009577  9.763555  0.248997   \n",
       "6459   6.560113  7.235278  -0.445322   6.464345  7.800309 -0.416591   \n",
       "6460  -0.129287  9.777920  -0.081403  -0.124498  9.758766 -0.081403   \n",
       "6461   7.230490  6.804322   1.082179   7.015011  6.718130  0.852336   \n",
       "\n",
       "             88         89  \n",
       "0      6.689400  10.807426  \n",
       "1     -1.867477  -1.407790  \n",
       "2      9.677363  -3.016694  \n",
       "3     12.124237  -4.946420  \n",
       "4     17.889475  -0.732626  \n",
       "...         ...        ...  \n",
       "6457  -0.004788   9.773131  \n",
       "6458  -0.004788   9.768343  \n",
       "6459   6.507440   7.091625  \n",
       "6460  -0.153229   9.763555  \n",
       "6461   6.842629   6.957550  \n",
       "\n",
       "[6462 rows x 90 columns]"
      ]
     },
     "execution_count": 81,
     "metadata": {},
     "output_type": "execute_result"
    }
   ],
   "source": [
    "X"
   ]
  },
  {
   "cell_type": "code",
   "execution_count": null,
   "metadata": {
    "hidden": true
   },
   "outputs": [],
   "source": []
  },
  {
   "cell_type": "code",
   "execution_count": null,
   "metadata": {
    "hidden": true
   },
   "outputs": [],
   "source": []
  },
  {
   "cell_type": "markdown",
   "metadata": {},
   "source": [
    "# Try features"
   ]
  },
  {
   "cell_type": "code",
   "execution_count": 171,
   "metadata": {},
   "outputs": [],
   "source": [
    "X_train, X_test, y_train, y_test = train_test_split(X_stairs, y_stairs, test_size=0.33, random_state=42)"
   ]
  },
  {
   "cell_type": "code",
   "execution_count": 172,
   "metadata": {},
   "outputs": [],
   "source": [
    "scaler = StandardScaler()\n",
    "scaler.fit(X_train)\n",
    "X_train_scaled = scaler.transform(X_train)\n",
    "X_test_scaled = scaler.transform(X_test)\n"
   ]
  },
  {
   "cell_type": "code",
   "execution_count": 173,
   "metadata": {},
   "outputs": [],
   "source": [
    "clf = svm.SVC()"
   ]
  },
  {
   "cell_type": "code",
   "execution_count": 174,
   "metadata": {},
   "outputs": [
    {
     "data": {
      "text/plain": [
       "SVC(C=1.0, break_ties=False, cache_size=200, class_weight=None, coef0=0.0,\n",
       "    decision_function_shape='ovr', degree=3, gamma='scale', kernel='rbf',\n",
       "    max_iter=-1, probability=False, random_state=None, shrinking=True,\n",
       "    tol=0.001, verbose=False)"
      ]
     },
     "execution_count": 174,
     "metadata": {},
     "output_type": "execute_result"
    }
   ],
   "source": [
    "clf.fit(X_train_scaled, y_train)"
   ]
  },
  {
   "cell_type": "code",
   "execution_count": null,
   "metadata": {},
   "outputs": [],
   "source": []
  },
  {
   "cell_type": "code",
   "execution_count": 175,
   "metadata": {},
   "outputs": [],
   "source": [
    "y_pred = clf.predict(X_test_scaled)"
   ]
  },
  {
   "cell_type": "code",
   "execution_count": 176,
   "metadata": {},
   "outputs": [
    {
     "data": {
      "text/plain": [
       "0.974214721050164"
      ]
     },
     "execution_count": 176,
     "metadata": {},
     "output_type": "execute_result"
    }
   ],
   "source": [
    "accuracy_score(y_pred, y_test)"
   ]
  },
  {
   "cell_type": "code",
   "execution_count": 177,
   "metadata": {},
   "outputs": [
    {
     "data": {
      "text/plain": [
       "array([[1478,   55],\n",
       "       [   0,  600]])"
      ]
     },
     "execution_count": 177,
     "metadata": {},
     "output_type": "execute_result"
    }
   ],
   "source": [
    "confusion_matrix(y_test, y_pred)"
   ]
  },
  {
   "cell_type": "code",
   "execution_count": 133,
   "metadata": {},
   "outputs": [
    {
     "data": {
      "text/plain": [
       "array([[1143,    0,    0,    1],\n",
       "       [   0,   19,   36,    0],\n",
       "       [   0,    2,  598,    0],\n",
       "       [   0,    0,    0,  334]])"
      ]
     },
     "execution_count": 133,
     "metadata": {},
     "output_type": "execute_result"
    }
   ],
   "source": [
    "confusion_matrix(y_test, y_pred)"
   ]
  },
  {
   "cell_type": "code",
   "execution_count": 116,
   "metadata": {},
   "outputs": [
    {
     "data": {
      "text/plain": [
       "array([[1144,    0,    0,    0],\n",
       "       [   0,   18,   37,    0],\n",
       "       [   0,    0,  600,    0],\n",
       "       [   0,    0,    0,  334]])"
      ]
     },
     "execution_count": 116,
     "metadata": {},
     "output_type": "execute_result"
    }
   ],
   "source": [
    "np.array([[1144,    0,    0,    0],\n",
    "       [   0,   18,   37,    0],\n",
    "       [   0,    0,  600,    0],\n",
    "       [   0,    0,    0,  334]])"
   ]
  },
  {
   "cell_type": "code",
   "execution_count": null,
   "metadata": {},
   "outputs": [],
   "source": []
  },
  {
   "cell_type": "code",
   "execution_count": null,
   "metadata": {},
   "outputs": [],
   "source": []
  },
  {
   "cell_type": "code",
   "execution_count": 95,
   "metadata": {},
   "outputs": [
    {
     "data": {
      "text/plain": [
       "array([[1144,    0,    0,    0],\n",
       "       [  55,    0,    0,    0],\n",
       "       [ 600,    0,    0,    0],\n",
       "       [ 334,    0,    0,    0]])"
      ]
     },
     "execution_count": 95,
     "metadata": {},
     "output_type": "execute_result"
    }
   ],
   "source": [
    "confusion_matrix(y_test, y_pred)"
   ]
  },
  {
   "cell_type": "code",
   "execution_count": null,
   "metadata": {},
   "outputs": [],
   "source": []
  },
  {
   "cell_type": "code",
   "execution_count": null,
   "metadata": {},
   "outputs": [],
   "source": []
  }
 ],
 "metadata": {
  "kernelspec": {
   "display_name": "Python 3",
   "language": "python",
   "name": "python3"
  },
  "language_info": {
   "codemirror_mode": {
    "name": "ipython",
    "version": 3
   },
   "file_extension": ".py",
   "mimetype": "text/x-python",
   "name": "python",
   "nbconvert_exporter": "python",
   "pygments_lexer": "ipython3",
   "version": "3.7.4"
  }
 },
 "nbformat": 4,
 "nbformat_minor": 2
}
