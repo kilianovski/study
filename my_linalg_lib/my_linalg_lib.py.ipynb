{
 "cells": [
  {
   "cell_type": "code",
   "execution_count": 1,
   "metadata": {},
   "outputs": [],
   "source": [
    "import numpy as np"
   ]
  },
  {
   "cell_type": "code",
   "execution_count": null,
   "metadata": {},
   "outputs": [],
   "source": []
  },
  {
   "cell_type": "code",
   "execution_count": null,
   "metadata": {},
   "outputs": [],
   "source": []
  },
  {
   "cell_type": "code",
   "execution_count": null,
   "metadata": {},
   "outputs": [],
   "source": []
  },
  {
   "cell_type": "code",
   "execution_count": 2,
   "metadata": {},
   "outputs": [],
   "source": [
    "def _swap_rows(A, k, l):\n",
    "    A[[k, l]] = A[[l, k]]\n",
    "def transform_to_row_echelon_form(A):\n",
    "    A = A.astype(float).copy()\n",
    "    m, n = A.shape\n",
    "    \n",
    "    pivot_i, pivot_j = 0, 0\n",
    "    \n",
    "    while pivot_i < m and pivot_j < n:\n",
    "        i_max = np.abs(A[pivot_i:, pivot_j]).argmax() + pivot_i\n",
    "        \n",
    "        if A[i_max, pivot_j] == 0:\n",
    "            pivot_j += 1\n",
    "            continue\n",
    "        \n",
    "        _swap_rows(A, i_max, pivot_i)\n",
    "        for i in range(pivot_i + 1, m):\n",
    "            mulcoef = A[i, pivot_j]/A[pivot_i, pivot_j]\n",
    "            A[i] = A[i] - mulcoef*A[pivot_i]\n",
    "            \n",
    "        pivot_i += 1\n",
    "        pivot_j += 1\n",
    "    return A\n",
    "\n",
    "def backsubstituon(A_aug):\n",
    "    m, n = A_aug.shape\n",
    "    b = A_aug[:, -1]\n",
    "    x = np.empty(m)\n",
    "    \n",
    "    for i in range(m-1, -1, -1):\n",
    "        x[i] = b[i]/A_aug[i,i]\n",
    "        \n",
    "        for k in range(i-1, -1, -1):\n",
    "            b[k] -= A_aug[k, i]*x[i]\n",
    "    return x"
   ]
  },
  {
   "cell_type": "code",
   "execution_count": 5,
   "metadata": {},
   "outputs": [
    {
     "data": {
      "text/plain": [
       "array([[3.        , 2.        , 1.        ],\n",
       "       [0.        , 0.33333333, 0.66666667],\n",
       "       [0.        , 0.        , 2.        ]])"
      ]
     },
     "execution_count": 5,
     "metadata": {},
     "output_type": "execute_result"
    }
   ],
   "source": [
    "transform_to_row_echelon_form(np.array([[1,1,1],[3,2,1],[2,1,2]]))"
   ]
  },
  {
   "cell_type": "code",
   "execution_count": 6,
   "metadata": {},
   "outputs": [
    {
     "data": {
      "text/plain": [
       "array([3., 7., 5.])"
      ]
     },
     "execution_count": 6,
     "metadata": {},
     "output_type": "execute_result"
    }
   ],
   "source": [
    "np.linalg.solve(np.array([[1,1,1],[3,2,1],[2,1,2]]), [15, 28, 23])"
   ]
  },
  {
   "cell_type": "code",
   "execution_count": 5,
   "metadata": {},
   "outputs": [],
   "source": [
    "def solve_system(A, b):\n",
    "    A_aug = np.append(A, b.reshape(-1, 1), axis=1)\n",
    "    U_aug = transform_to_row_echelon_form(A_aug)\n",
    "    x = backsubstituon(U_aug)\n",
    "    return x"
   ]
  },
  {
   "cell_type": "code",
   "execution_count": 6,
   "metadata": {},
   "outputs": [],
   "source": [
    "A = np.array([[3,1],\n",
    "              [1,2]])\n",
    "\n",
    "b = np.array([9,8])\n",
    "\n",
    "x = np.array([2, 3])\n",
    "my_x = solve_system(A, b)\n",
    "np_x = np.linalg.solve(A,b)\n",
    "\n",
    "assert np.allclose(np.dot(A, x), b)\n",
    "assert np.allclose(np.dot(A, my_x), b)\n",
    "assert np.allclose(np.dot(A, np_x), b)"
   ]
  },
  {
   "cell_type": "code",
   "execution_count": 7,
   "metadata": {},
   "outputs": [],
   "source": [
    "A = np.array([[1,2,1],\n",
    "              [3,8,1],\n",
    "              [0,4,1]])\n",
    "\n",
    "b = np.array([2,12,2])\n",
    "\n",
    "x = np.array([2, 1, -2])\n",
    "my_x = solve_system(A, b)\n",
    "np_x = np.linalg.solve(A,b)\n",
    "\n",
    "assert np.allclose(np.dot(A, x), b)\n",
    "assert np.allclose(np.dot(A, my_x), b)\n",
    "assert np.allclose(np.dot(A, np_x), b)"
   ]
  },
  {
   "cell_type": "code",
   "execution_count": 8,
   "metadata": {},
   "outputs": [
    {
     "data": {
      "text/plain": [
       "array([ 1., -1.,  2.])"
      ]
     },
     "execution_count": 8,
     "metadata": {},
     "output_type": "execute_result"
    }
   ],
   "source": [
    "A = np.array([[3,-2,1],\n",
    "              [1,1,1],\n",
    "              [3,-2,-1]])\n",
    "\n",
    "b = np.array([7,2,3])\n",
    "\n",
    "my_x = solve_system(A, b)\n",
    "np_x = np.linalg.solve(A,b)\n",
    "\n",
    "assert np.allclose(np.dot(A, my_x), b)\n",
    "assert np.allclose(np.dot(A, np_x), b)\n",
    "np_x"
   ]
  },
  {
   "cell_type": "code",
   "execution_count": 11,
   "metadata": {},
   "outputs": [],
   "source": [
    "np.random.seed(42)\n",
    "\n",
    "\n",
    "for i in range(5, 100):\n",
    "    A = np.random.rand(i,i)\n",
    "    b = np.random.rand(i)\n",
    "    \n",
    "    np_x = np.linalg.solve(A, b)\n",
    "    my_x = solve_system(A, b)\n",
    "    \n",
    "    assert np.allclose(my_x, np_x)\n",
    "    assert np.allclose(np.dot(A, my_x), b)\n",
    "    assert np.allclose(np.dot(A, np_x), b)"
   ]
  },
  {
   "cell_type": "code",
   "execution_count": 12,
   "metadata": {},
   "outputs": [
    {
     "data": {
      "text/plain": [
       "array([[0.73253767, 0.24097277, 0.35975186, ..., 0.61652013, 0.23319581,\n",
       "        0.7017046 ],\n",
       "       [0.05575146, 0.88647624, 0.33020239, ..., 0.39085718, 0.13165355,\n",
       "        0.90240057],\n",
       "       [0.26842582, 0.21412464, 0.86338238, ..., 0.08913126, 0.35675069,\n",
       "        0.51416464],\n",
       "       ...,\n",
       "       [0.17192619, 0.65245646, 0.92953688, ..., 0.76799159, 0.97337455,\n",
       "        0.35076785],\n",
       "       [0.98016937, 0.16960558, 0.53781531, ..., 0.45556121, 0.10261114,\n",
       "        0.60963445],\n",
       "       [0.04315505, 0.72156904, 0.45065992, ..., 0.37953837, 0.93003076,\n",
       "        0.5321445 ]])"
      ]
     },
     "execution_count": 12,
     "metadata": {},
     "output_type": "execute_result"
    }
   ],
   "source": []
  },
  {
   "cell_type": "code",
   "execution_count": null,
   "metadata": {},
   "outputs": [],
   "source": []
  },
  {
   "cell_type": "markdown",
   "metadata": {},
   "source": [
    "# Transform to row-echelon form with constructing E that maps A -> U"
   ]
  },
  {
   "cell_type": "code",
   "execution_count": 102,
   "metadata": {},
   "outputs": [
    {
     "data": {
      "text/plain": [
       "array([[1, 2, 1],\n",
       "       [3, 8, 1],\n",
       "       [0, 4, 1]])"
      ]
     },
     "execution_count": 102,
     "metadata": {},
     "output_type": "execute_result"
    }
   ],
   "source": [
    "A = np.array([[1, 2, 1],\n",
    "              [3, 8, 1],\n",
    "              [0, 4, 1]])\n",
    "\n",
    "A"
   ]
  },
  {
   "cell_type": "code",
   "execution_count": 48,
   "metadata": {},
   "outputs": [],
   "source": [
    "def M_permutation(A, x, y):\n",
    "    n, m = A.shape\n",
    "    \n",
    "    E = np.identity(n)\n",
    "    x_row = np.zeros(m)\n",
    "    x_row[y] = 1\n",
    "    E[x] = x_row\n",
    "    \n",
    "    y_row = np.zeros(m)\n",
    "    y_row[x] = 1\n",
    "    E[y] = y_row\n",
    "    \n",
    "    return E"
   ]
  },
  {
   "cell_type": "code",
   "execution_count": 49,
   "metadata": {},
   "outputs": [
    {
     "data": {
      "text/plain": [
       "array([[0., 1., 0.],\n",
       "       [1., 0., 0.],\n",
       "       [0., 0., 1.]])"
      ]
     },
     "execution_count": 49,
     "metadata": {},
     "output_type": "execute_result"
    }
   ],
   "source": [
    "M_permutation(A, 0, 1)"
   ]
  },
  {
   "cell_type": "code",
   "execution_count": 51,
   "metadata": {},
   "outputs": [],
   "source": [
    "def M_adder(A, from_i, to_i, mulcoef):\n",
    "    n, m = A.shape\n",
    "    \n",
    "    E = np.identity(n)\n",
    "    \n",
    "    E[to_i, from_i] = mulcoef\n",
    "    \n",
    "    return E"
   ]
  },
  {
   "cell_type": "code",
   "execution_count": 52,
   "metadata": {},
   "outputs": [
    {
     "data": {
      "text/plain": [
       "array([[-2., -2.],\n",
       "       [ 3.,  4.]])"
      ]
     },
     "execution_count": 52,
     "metadata": {},
     "output_type": "execute_result"
    }
   ],
   "source": [
    "A_sample = np.array([[1, 2], [3, 4]])\n",
    "E = M_adder(A_sample, 1, 0, -1)\n",
    "\n",
    "E @ A_sample"
   ]
  },
  {
   "cell_type": "code",
   "execution_count": 103,
   "metadata": {},
   "outputs": [],
   "source": [
    "def transform_to_row_echelon_form(A):\n",
    "    A = A.astype(float).copy()\n",
    "    m, n = A.shape\n",
    "    \n",
    "    E_list = []\n",
    "    \n",
    "    pivot_i, pivot_j = 0, 0\n",
    "    \n",
    "    while pivot_i < m and pivot_j < n:\n",
    "        i_max = np.abs(A[pivot_i:, pivot_j]).argmax() + pivot_i\n",
    "        \n",
    "        if A[i_max, pivot_j] == 0:\n",
    "            pivot_j += 1\n",
    "            continue\n",
    "        \n",
    "        _swap_rows(A, i_max, pivot_i)\n",
    "        E_list.append(M_permutation(A, i_max, pivot_i))\n",
    "        for i in range(pivot_i + 1, m):\n",
    "            mulcoef = A[i, pivot_j]/A[pivot_i, pivot_j]\n",
    "            A[i] = A[i] - mulcoef*A[pivot_i]\n",
    "            \n",
    "            E_list.append(M_adder(A, pivot_i, i, -mulcoef))\n",
    "            \n",
    "        pivot_i += 1\n",
    "        pivot_j += 1\n",
    "    return A, E_list"
   ]
  },
  {
   "cell_type": "code",
   "execution_count": 118,
   "metadata": {},
   "outputs": [
    {
     "data": {
      "text/plain": [
       "array([[1, 2, 1],\n",
       "       [3, 8, 1],\n",
       "       [0, 4, 1]])"
      ]
     },
     "execution_count": 118,
     "metadata": {},
     "output_type": "execute_result"
    }
   ],
   "source": [
    "A = np.array([[1, 2, 1],\n",
    "              [3, 8, 1],\n",
    "              [0, 4, 1]])\n",
    "\n",
    "A"
   ]
  },
  {
   "cell_type": "code",
   "execution_count": 119,
   "metadata": {},
   "outputs": [
    {
     "data": {
      "text/plain": [
       "array([[3.        , 8.        , 1.        ],\n",
       "       [0.        , 4.        , 1.        ],\n",
       "       [0.        , 0.        , 0.83333333]])"
      ]
     },
     "execution_count": 119,
     "metadata": {},
     "output_type": "execute_result"
    }
   ],
   "source": [
    "U, E_list = transform_to_row_echelon_form(A)\n",
    "U"
   ]
  },
  {
   "cell_type": "code",
   "execution_count": 120,
   "metadata": {},
   "outputs": [
    {
     "data": {
      "text/plain": [
       "array([[1, 2, 1],\n",
       "       [3, 8, 1],\n",
       "       [0, 4, 1]])"
      ]
     },
     "execution_count": 120,
     "metadata": {},
     "output_type": "execute_result"
    }
   ],
   "source": [
    "A"
   ]
  },
  {
   "cell_type": "code",
   "execution_count": 122,
   "metadata": {},
   "outputs": [
    {
     "data": {
      "text/plain": [
       "array([[ 0.        ,  1.        ,  0.        ],\n",
       "       [ 0.        ,  0.        ,  1.        ],\n",
       "       [ 1.        , -0.33333333,  0.16666667]])"
      ]
     },
     "execution_count": 122,
     "metadata": {},
     "output_type": "execute_result"
    }
   ],
   "source": [
    "E = E_list[0]\n",
    "for E_l in E_list[1:]:\n",
    "    E = E_l @ E\n",
    "E"
   ]
  },
  {
   "cell_type": "code",
   "execution_count": 123,
   "metadata": {},
   "outputs": [
    {
     "data": {
      "text/plain": [
       "array([[3.        , 8.        , 1.        ],\n",
       "       [0.        , 4.        , 1.        ],\n",
       "       [0.        , 0.        , 0.83333333]])"
      ]
     },
     "execution_count": 123,
     "metadata": {},
     "output_type": "execute_result"
    }
   ],
   "source": [
    "E @ A"
   ]
  },
  {
   "cell_type": "code",
   "execution_count": 108,
   "metadata": {},
   "outputs": [
    {
     "data": {
      "text/plain": [
       "array([[ 3.        ,  8.        ,  1.        ],\n",
       "       [ 0.        , -0.66666667,  0.66666667],\n",
       "       [ 0.        ,  4.        ,  1.        ]])"
      ]
     },
     "execution_count": 108,
     "metadata": {},
     "output_type": "execute_result"
    }
   ],
   "source": [
    "E = E_list[1]\n",
    "A = E @ A\n",
    "A"
   ]
  },
  {
   "cell_type": "code",
   "execution_count": 109,
   "metadata": {},
   "outputs": [
    {
     "data": {
      "text/plain": [
       "array([[ 3.        ,  8.        ,  1.        ],\n",
       "       [ 0.        , -0.66666667,  0.66666667],\n",
       "       [ 0.        ,  4.        ,  1.        ]])"
      ]
     },
     "execution_count": 109,
     "metadata": {},
     "output_type": "execute_result"
    }
   ],
   "source": [
    "E = E_list[2]\n",
    "A = E @ A\n",
    "A"
   ]
  },
  {
   "cell_type": "code",
   "execution_count": 110,
   "metadata": {},
   "outputs": [
    {
     "data": {
      "text/plain": [
       "array([[ 3.        ,  8.        ,  1.        ],\n",
       "       [ 0.        ,  4.        ,  1.        ],\n",
       "       [ 0.        , -0.66666667,  0.66666667]])"
      ]
     },
     "execution_count": 110,
     "metadata": {},
     "output_type": "execute_result"
    }
   ],
   "source": [
    "E = E_list[3]\n",
    "A = E @ A\n",
    "A"
   ]
  },
  {
   "cell_type": "code",
   "execution_count": 111,
   "metadata": {},
   "outputs": [
    {
     "data": {
      "text/plain": [
       "array([[3.        , 8.        , 1.        ],\n",
       "       [0.        , 4.        , 1.        ],\n",
       "       [0.        , 0.        , 0.83333333]])"
      ]
     },
     "execution_count": 111,
     "metadata": {},
     "output_type": "execute_result"
    }
   ],
   "source": [
    "E = E_list[4]\n",
    "A = E @ A\n",
    "A"
   ]
  },
  {
   "cell_type": "code",
   "execution_count": 112,
   "metadata": {},
   "outputs": [
    {
     "data": {
      "text/plain": [
       "array([[3.        , 8.        , 1.        ],\n",
       "       [0.        , 4.        , 1.        ],\n",
       "       [0.        , 0.        , 0.83333333]])"
      ]
     },
     "execution_count": 112,
     "metadata": {},
     "output_type": "execute_result"
    }
   ],
   "source": [
    "E = E_list[5]\n",
    "A = E @ A\n",
    "A"
   ]
  },
  {
   "cell_type": "code",
   "execution_count": null,
   "metadata": {},
   "outputs": [],
   "source": []
  }
 ],
 "metadata": {
  "kernelspec": {
   "display_name": "Python 3",
   "language": "python",
   "name": "python3"
  },
  "language_info": {
   "codemirror_mode": {
    "name": "ipython",
    "version": 3
   },
   "file_extension": ".py",
   "mimetype": "text/x-python",
   "name": "python",
   "nbconvert_exporter": "python",
   "pygments_lexer": "ipython3",
   "version": "3.7.6"
  }
 },
 "nbformat": 4,
 "nbformat_minor": 2
}
