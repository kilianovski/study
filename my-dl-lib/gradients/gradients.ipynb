{
 "cells": [
  {
   "cell_type": "code",
   "execution_count": 151,
   "metadata": {},
   "outputs": [
    {
     "name": "stdout",
     "output_type": "stream",
     "text": [
      "The autoreload extension is already loaded. To reload it, use:\n",
      "  %reload_ext autoreload\n"
     ]
    }
   ],
   "source": [
    "import numpy as np\n",
    "\n",
    "%load_ext autoreload\n",
    "%autoreload 2"
   ]
  },
  {
   "cell_type": "code",
   "execution_count": 152,
   "metadata": {},
   "outputs": [],
   "source": [
    "from grad_check import grad_check_sparse, check_derivative"
   ]
  },
  {
   "cell_type": "code",
   "execution_count": 153,
   "metadata": {},
   "outputs": [],
   "source": [
    "def cube(x): return x * x * x\n",
    "\n",
    "def cube_grad(x): return 3 * x * x"
   ]
  },
  {
   "cell_type": "code",
   "execution_count": 154,
   "metadata": {},
   "outputs": [],
   "source": [
    "cube_X      = [1, 0, 25]\n",
    "cube_X_grad = [3, 0, 25 * 25 * 3]"
   ]
  },
  {
   "cell_type": "code",
   "execution_count": 222,
   "metadata": {},
   "outputs": [
    {
     "name": "stdout",
     "output_type": "stream",
     "text": [
      "Good. numerical: 3.000000 analytic: 3.000000, relative error: 0.000000e+00\n",
      "Good. numerical: 3.000000 analytic: 3.000000, relative error: 0.000000e+00\n",
      "Good. numerical: 3.000000 analytic: 3.000000, relative error: 0.000000e+00\n",
      "Good. numerical: 1875.000000 analytic: 1875.000000, relative error: 0.000000e+00\n",
      "Good. numerical: 0.000000 analytic: 0.000000, relative error: 0.000000e+00\n",
      "Good. numerical: 3.000000 analytic: 3.000000, relative error: 0.000000e+00\n",
      "Good. numerical: 3.000000 analytic: 3.000000, relative error: 0.000000e+00\n",
      "Good. numerical: 1875.000000 analytic: 1875.000000, relative error: 0.000000e+00\n",
      "Good. numerical: 1875.000000 analytic: 1875.000000, relative error: 0.000000e+00\n",
      "Good. numerical: 1875.000000 analytic: 1875.000000, relative error: 0.000000e+00\n"
     ]
    }
   ],
   "source": [
    "grad_check_sparse(cube, cube_X, cube_X_grad)"
   ]
  },
  {
   "cell_type": "code",
   "execution_count": null,
   "metadata": {},
   "outputs": [],
   "source": []
  },
  {
   "cell_type": "code",
   "execution_count": 224,
   "metadata": {},
   "outputs": [
    {
     "name": "stdout",
     "output_type": "stream",
     "text": [
      "Good. numerical: 9137.419038 analytic: 9137.419036, relative error: 0.000000e+00\n",
      "Good. numerical: 0.243696 analytic: 0.243696, relative error: 0.000000e+00\n",
      "Good. numerical: 0.477307 analytic: 0.477307, relative error: 0.000000e+00\n",
      "Good. numerical: 7387.493484 analytic: 7387.493480, relative error: 0.000000e+00\n",
      "Good. numerical: 18883.746167 analytic: 18883.746163, relative error: 0.000000e+00\n",
      "Good. numerical: 35.141693 analytic: 35.141693, relative error: 0.000000e+00\n",
      "Good. numerical: 1.355864 analytic: 1.355864, relative error: 0.000000e+00\n",
      "Good. numerical: 35.141693 analytic: 35.141693, relative error: 0.000000e+00\n",
      "Good. numerical: 7387.493484 analytic: 7387.493480, relative error: 0.000000e+00\n",
      "Good. numerical: 7387.493484 analytic: 7387.493480, relative error: 0.000000e+00\n"
     ]
    }
   ],
   "source": [
    "check_derivative(cube, cube_grad)"
   ]
  },
  {
   "attachments": {
    "image.png": {
     "image/png": "[encoded data removed]"
    }
   },
   "cell_type": "markdown",
   "metadata": {},
   "source": [
    "![image.png](attachment:image.png)"
   ]
  },
  {
   "cell_type": "code",
   "execution_count": 161,
   "metadata": {},
   "outputs": [],
   "source": [
    "from math import log, sin, cos"
   ]
  },
  {
   "cell_type": "code",
   "execution_count": 162,
   "metadata": {},
   "outputs": [],
   "source": [
    "def f_5_1(x): return log(x**4)*sin(x**3)"
   ]
  },
  {
   "cell_type": "code",
   "execution_count": 163,
   "metadata": {},
   "outputs": [],
   "source": [
    "def grad_f_5_1(x): return 1/(x**4 + 0.0001) * (4*x**3) * sin(x**3) + log(x**4)* (3*x**2) * cos(x**3)"
   ]
  },
  {
   "cell_type": "code",
   "execution_count": 170,
   "metadata": {},
   "outputs": [
    {
     "name": "stdout",
     "output_type": "stream",
     "text": [
      "Good. numerical: -1.350203 analytic: -1.350207, relative error: 0.000000e+00\n",
      "Good. numerical: -11.042902 analytic: -11.042892, relative error: 0.000000e+00\n",
      "Good. numerical: 851.485827 analytic: 851.486401, relative error: 0.000000e+00\n",
      "Good. numerical: -1160.889038 analytic: -1160.889840, relative error: 0.000000e+00\n",
      "Good. numerical: -11.042902 analytic: -11.042892, relative error: 0.000000e+00\n",
      "Good. numerical: 198.722801 analytic: 198.722895, relative error: 0.000000e+00\n",
      "Good. numerical: 2.515545 analytic: 2.515396, relative error: 0.000000e+00\n",
      "Good. numerical: -11.042902 analytic: -11.042892, relative error: 0.000000e+00\n",
      "Good. numerical: -11.042902 analytic: -11.042892, relative error: 0.000000e+00\n",
      "Good. numerical: -223.660917 analytic: -223.660923, relative error: 0.000000e+00\n"
     ]
    }
   ],
   "source": [
    "check_derivative(f_5_1, grad_f_5_1, X=[uniform(0.1, 10) for _ in range(10)])"
   ]
  },
  {
   "attachments": {
    "image.png": {
     "image/png": "[encoded data removed]"
    }
   },
   "cell_type": "markdown",
   "metadata": {},
   "source": [
    "![image.png](attachment:image.png)"
   ]
  },
  {
   "cell_type": "code",
   "execution_count": 171,
   "metadata": {},
   "outputs": [],
   "source": [
    "from math import exp"
   ]
  },
  {
   "cell_type": "code",
   "execution_count": 186,
   "metadata": {},
   "outputs": [],
   "source": [
    "def f_5_2(x): return 1 / (1 + exp(-x))"
   ]
  },
  {
   "cell_type": "code",
   "execution_count": 187,
   "metadata": {},
   "outputs": [],
   "source": [
    "def grad_f_5_2(x): return exp(-x) / (1 + exp(-x))**2"
   ]
  },
  {
   "cell_type": "code",
   "execution_count": 188,
   "metadata": {},
   "outputs": [
    {
     "data": {
      "text/plain": [
       "0.19661193324148188"
      ]
     },
     "execution_count": 188,
     "metadata": {},
     "output_type": "execute_result"
    }
   ],
   "source": [
    "grad_f_5_2(1)"
   ]
  },
  {
   "cell_type": "code",
   "execution_count": 206,
   "metadata": {},
   "outputs": [
    {
     "name": "stdout",
     "output_type": "stream",
     "text": [
      "Good. numerical: 0.000000 analytic: 0.000000, relative error: 0.000000e+00\n",
      "Good. numerical: 0.000000 analytic: 0.000000, relative error: 0.000000e+00\n",
      "Good. numerical: 0.000001 analytic: 0.000001, relative error: 0.000000e+00\n",
      "Good. numerical: 0.000000 analytic: 0.000000, relative error: 0.000000e+00\n",
      "Good. numerical: 0.250000 analytic: 0.250000, relative error: 0.000000e+00\n",
      "Good. numerical: 0.000000 analytic: 0.000000, relative error: 0.000000e+00\n",
      "Good. numerical: 0.000000 analytic: 0.000000, relative error: 0.000000e+00\n",
      "Good. numerical: 0.000001 analytic: 0.000001, relative error: 0.000000e+00\n",
      "Good. numerical: 0.000000 analytic: 0.000000, relative error: 0.000000e+00\n",
      "Good. numerical: 0.000001 analytic: 0.000001, relative error: 0.000000e+00\n"
     ]
    }
   ],
   "source": [
    "check_derivative(f_5_2, grad_f_5_2)"
   ]
  },
  {
   "cell_type": "code",
   "execution_count": null,
   "metadata": {},
   "outputs": [],
   "source": []
  },
  {
   "attachments": {
    "image.png": {
     "image/png": "[encoded data removed]"
    }
   },
   "cell_type": "markdown",
   "metadata": {},
   "source": [
    "![image.png](attachment:image.png)"
   ]
  },
  {
   "cell_type": "code",
   "execution_count": 207,
   "metadata": {},
   "outputs": [],
   "source": [
    "s = 3\n",
    "u = 42\n",
    "def f_5_3(x, s=s, u=u): return exp( (-1 / 2 * s ** 2) * (x - u)**2 )"
   ]
  },
  {
   "cell_type": "code",
   "execution_count": 208,
   "metadata": {},
   "outputs": [],
   "source": [
    "def grad_f_5_3(x, s=s, u=u): return exp( (-1 / 2 * s ** 2) * (x - u)**2 ) * (-1/s**2) * (x - u)"
   ]
  },
  {
   "cell_type": "code",
   "execution_count": 220,
   "metadata": {},
   "outputs": [
    {
     "name": "stdout",
     "output_type": "stream",
     "text": [
      "[-76.18371995852664, 44.85456627734396, 64.54460738321217, -17.627686704921203, -4.382918566331597, -0.6745479632161842, 0.7372967831451187, 0.6335152119847745, 0.8320827406331512, 0.4701214883206708]\n",
      "[0.0, -3.7703697568499665e-17, -0.0, 0.0, 0.0, 0.0, 0.0, 0.0, 0.0, 0.0]\n",
      "Good. numerical: 0.000000 analytic: 0.000000, relative error: 0.000000e+00\n",
      "Good. numerical: 0.000000 analytic: 0.000000, relative error: 0.000000e+00\n",
      "Good. numerical: 0.000000 analytic: 0.000000, relative error: 0.000000e+00\n",
      "Good. numerical: 0.000000 analytic: 0.000000, relative error: 0.000000e+00\n",
      "Good. numerical: 0.000000 analytic: 0.000000, relative error: 0.000000e+00\n",
      "Good. numerical: 0.000000 analytic: 0.000000, relative error: 0.000000e+00\n",
      "Good. numerical: 0.000000 analytic: 0.000000, relative error: 0.000000e+00\n",
      "Good. numerical: 0.000000 analytic: 0.000000, relative error: 0.000000e+00\n",
      "Good. numerical: -0.000000 analytic: -0.000000, relative error: 0.000000e+00\n",
      "Good. numerical: 0.000000 analytic: 0.000000, relative error: 0.000000e+00\n"
     ]
    }
   ],
   "source": [
    "check_derivative(f_5_3, grad_f_5_3)"
   ]
  },
  {
   "cell_type": "code",
   "execution_count": 219,
   "metadata": {},
   "outputs": [
    {
     "data": {
      "text/plain": [
       "1.0"
      ]
     },
     "execution_count": 219,
     "metadata": {},
     "output_type": "execute_result"
    }
   ],
   "source": [
    "1e0"
   ]
  },
  {
   "cell_type": "code",
   "execution_count": null,
   "metadata": {},
   "outputs": [],
   "source": []
  }
 ],
 "metadata": {
  "kernelspec": {
   "display_name": "Python 3",
   "language": "python",
   "name": "python3"
  },
  "language_info": {
   "codemirror_mode": {
    "name": "ipython",
    "version": 3
   },
   "file_extension": ".py",
   "mimetype": "text/x-python",
   "name": "python",
   "nbconvert_exporter": "python",
   "pygments_lexer": "ipython3",
   "version": "3.7.3"
  }
 },
 "nbformat": 4,
 "nbformat_minor": 2
}
