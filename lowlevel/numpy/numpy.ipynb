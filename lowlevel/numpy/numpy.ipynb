{
 "cells": [
  {
   "cell_type": "markdown",
   "metadata": {},
   "source": [
    "## strides"
   ]
  },
  {
   "cell_type": "code",
   "execution_count": null,
   "metadata": {},
   "outputs": [],
   "source": [
    "import numpy as np\n",
    "print(f'{np.__version__=}')"
   ]
  },
  {
   "cell_type": "markdown",
   "metadata": {},
   "source": [
    " - [ ] Understand strides"
   ]
  },
  {
   "cell_type": "markdown",
   "metadata": {},
   "source": [
    "A segment of memory is inherently 1-dimensional, and there are many different schemes for arranging the items of an N-dimensional array in a 1-dimensional block. NumPy is flexible, and ndarray objects can accommodate any ***strided indexing scheme***."
   ]
  },
  {
   "cell_type": "markdown",
   "metadata": {},
   "source": [
    "### Challenge: implement your own numpy-like multi-dimensional array with C pointers!"
   ]
  },
  {
   "cell_type": "markdown",
   "metadata": {},
   "source": []
  },
  {
   "cell_type": "markdown",
   "metadata": {},
   "source": []
  },
  {
   "cell_type": "markdown",
   "metadata": {},
   "source": [
    "## `ufunc`"
   ]
  },
  {
   "cell_type": "markdown",
   "metadata": {},
   "source": []
  },
  {
   "cell_type": "markdown",
   "metadata": {},
   "source": []
  },
  {
   "cell_type": "markdown",
   "metadata": {},
   "source": []
  },
  {
   "cell_type": "code",
   "execution_count": null,
   "metadata": {},
   "outputs": [],
   "source": []
  },
  {
   "cell_type": "markdown",
   "metadata": {},
   "source": [
    "# Form Python To Numpy"
   ]
  },
  {
   "cell_type": "markdown",
   "metadata": {},
   "source": [
    "https://www.labri.fr/perso/nrougier/from-python-to-numpy"
   ]
  },
  {
   "cell_type": "code",
   "execution_count": 4,
   "metadata": {},
   "outputs": [
    {
     "data": {
      "text/plain": [
       "'1.24.3'"
      ]
     },
     "execution_count": 4,
     "metadata": {},
     "output_type": "execute_result"
    }
   ],
   "source": [
    "import random\n",
    "\n",
    "import numpy as np\n",
    "np.__version__"
   ]
  },
  {
   "cell_type": "markdown",
   "metadata": {},
   "source": [
    "### Random Walk"
   ]
  },
  {
   "cell_type": "code",
   "execution_count": 19,
   "metadata": {},
   "outputs": [],
   "source": [
    "N = 10_000"
   ]
  },
  {
   "cell_type": "code",
   "execution_count": 20,
   "metadata": {},
   "outputs": [],
   "source": [
    "def random_walk(n):\n",
    "    position = 0\n",
    "    walk = [position]\n",
    "    \n",
    "    for i in range(n):\n",
    "        position += 2*random.randint(0,1)-1\n",
    "        walk.append(position)\n",
    "    return walk"
   ]
  },
  {
   "cell_type": "code",
   "execution_count": 21,
   "metadata": {},
   "outputs": [
    {
     "name": "stdout",
     "output_type": "stream",
     "text": [
      "3.46 ms ± 70.8 µs per loop (mean ± std. dev. of 7 runs, 100 loops each)\n"
     ]
    }
   ],
   "source": [
    "%%timeit\n",
    "x = random_walk(n=N)"
   ]
  },
  {
   "cell_type": "code",
   "execution_count": 22,
   "metadata": {},
   "outputs": [],
   "source": [
    "from itertools import accumulate"
   ]
  },
  {
   "cell_type": "code",
   "execution_count": 36,
   "metadata": {},
   "outputs": [],
   "source": [
    "def random_walk_faster(n):\n",
    "    steps = random.choices([-1,1], k=n)\n",
    "    walk = [0] + list(accumulate(steps))\n",
    "    return walk"
   ]
  },
  {
   "cell_type": "code",
   "execution_count": 37,
   "metadata": {},
   "outputs": [
    {
     "name": "stdout",
     "output_type": "stream",
     "text": [
      "615 µs ± 25.3 µs per loop (mean ± std. dev. of 7 runs, 1,000 loops each)\n"
     ]
    }
   ],
   "source": [
    "%%timeit\n",
    "x = random_walk_faster(n=N)"
   ]
  },
  {
   "cell_type": "code",
   "execution_count": 28,
   "metadata": {},
   "outputs": [
    {
     "data": {
      "text/plain": [
       "6.92"
      ]
     },
     "execution_count": 28,
     "metadata": {},
     "output_type": "execute_result"
    }
   ],
   "source": [
    "3.46e-3 / (500*10**(-6))"
   ]
  },
  {
   "cell_type": "code",
   "execution_count": 29,
   "metadata": {},
   "outputs": [
    {
     "data": {
      "text/plain": [
       "0.14450867052023122"
      ]
     },
     "execution_count": 29,
     "metadata": {},
     "output_type": "execute_result"
    }
   ],
   "source": [
    "(500*10**(-6)) / 3.46e-3"
   ]
  },
  {
   "cell_type": "code",
   "execution_count": 32,
   "metadata": {},
   "outputs": [
    {
     "data": {
      "text/plain": [
       "array([  1,   2,   1, ..., -26, -27, -28])"
      ]
     },
     "execution_count": 32,
     "metadata": {},
     "output_type": "execute_result"
    }
   ],
   "source": [
    "n = N\n",
    "steps = np.random.choice([-1,1], n)\n",
    "np.cumsum(steps)"
   ]
  },
  {
   "cell_type": "code",
   "execution_count": 38,
   "metadata": {},
   "outputs": [],
   "source": [
    "def random_walk_fastest(n=1000):\n",
    "    # No 's' in numpy choice (Python offers choice & choices)\n",
    "    steps = np.random.choice([-1,+1], n)\n",
    "    return np.cumsum(steps)"
   ]
  },
  {
   "cell_type": "code",
   "execution_count": 41,
   "metadata": {},
   "outputs": [
    {
     "data": {
      "text/plain": [
       "(100, 100, 99)"
      ]
     },
     "execution_count": 41,
     "metadata": {},
     "output_type": "execute_result"
    }
   ],
   "source": [
    "N = 99\n",
    "len(random_walk(N)), len(random_walk_faster(N)), len(random_walk_fastest(N))"
   ]
  },
  {
   "cell_type": "markdown",
   "metadata": {},
   "source": [
    "There is a subtle incorrectness in `random_walk_fastest`. It does not return the first position `0`, compared to other two implementations. The following code demonstrates this:\n",
    "\n",
    "```python\n",
    "N = 99\n",
    "print(len(random_walk(N)), len(random_walk_faster(N)), len(random_walk_fastest(N)))\n",
    "# >>> (100, 100, 99)\n",
    "```\n",
    "\n",
    "This may look as a minor distinction, but may cause bugs. There are two ways to remove this inconsistency: exclude initial `0` position from first two functions (trivial) or prepend it to the last function. There are two options for the latter path:\n",
    "\n",
    " - [ ] Convert `steps` to numpy list after `cumsum` and concat with `[0]`\n",
    " - [ ] Concatenate `np.array([0])`\n",
    " - [ ] Allocate empty array in advance, and use `out` parameter of `cumsum`"
   ]
  },
  {
   "cell_type": "code",
   "execution_count": 81,
   "metadata": {},
   "outputs": [
    {
     "name": "stdout",
     "output_type": "stream",
     "text": [
      "run_name='option1' 2.272e-05±5.211e-06 sec\n",
      "run_name='option2_1' 1.346e-05±1.169e-06 sec\n",
      "run_name='option2_2' 1.364e-05±2.789e-06 sec\n",
      "run_name='option3_1' 1.518e-05±3.018e-06 sec\n",
      "run_name='option3_2' 1.537e-05±4.144e-06 sec\n"
     ]
    },
    {
     "data": {
      "image/png": "[encoded data removed]",
      "text/plain": [
       "<Figure size 640x480 with 1 Axes>"
      ]
     },
     "metadata": {},
     "output_type": "display_data"
    }
   ],
   "source": [
    "import timeit\n",
    "import matplotlib.pyplot as plt\n",
    "\n",
    "\n",
    "# Option 1: Convert `steps` to python list after `cumsum` and concat with `[0]`\n",
    "def random_walk_option1(n=1000):\n",
    "    steps = np.random.choice([-1,+1], n)\n",
    "    steps = np.cumsum(steps)\n",
    "    return [0] + steps.tolist()\n",
    "\n",
    "# Option 2.1: Concatenate `np.array([0])`\n",
    "def random_walk_option2_1(n=1000):\n",
    "    steps = np.random.choice([-1,+1], n)\n",
    "    steps = np.cumsum(steps)\n",
    "    return np.concatenate((np.array([0]), steps))\n",
    "\n",
    "# Option 2.2: Concatenate `[0]`\n",
    "def random_walk_option2_2(n=1000):\n",
    "    steps = np.random.choice([-1,+1], n)\n",
    "    steps = np.cumsum(steps)\n",
    "    return np.concatenate(([0], steps))\n",
    "\n",
    "# Option 3: Allocate empty array in advance, and use `out` parameter of `cumsum`\n",
    "def random_walk_option3_1(n=1000):\n",
    "    walk = np.empty(n+1)\n",
    "    walk[0] = 0\n",
    "    steps = np.random.choice([-1,+1], n)\n",
    "    np.cumsum(steps, out=walk[1:])\n",
    "    return walk\n",
    "\n",
    "\n",
    "def random_walk_option3_2(n=1000):\n",
    "    walk = np.zeros(n+1)\n",
    "    steps = np.random.choice([-1,+1], n)\n",
    "    np.cumsum(steps, out=walk[1:])\n",
    "    return walk\n",
    "\n",
    "\n",
    "# Benchmarking\n",
    "benchmarks = []\n",
    "for func in [random_walk_option1, random_walk_option2_1, random_walk_option2_2, random_walk_option3_1, random_walk_option3_2]:\n",
    "    \n",
    "    ts = []\n",
    "    for i in range(11_000):\n",
    "        start_time = timeit.default_timer()\n",
    "        out = func()\n",
    "        end_time = timeit.default_timer()\n",
    "        t = end_time - start_time\n",
    "        if i > 1000:\n",
    "            ts.append(t)\n",
    "    \n",
    "    ts_mean = np.mean(ts)\n",
    "    ts_std = np.std(ts)\n",
    "    run_name = func.__name__.replace('random_walk_', '')\n",
    "    print(f'{run_name=} {ts_mean:.3e}±{ts_std:.3e} sec')\n",
    "\n",
    "    assert len(out) == 1001\n",
    "    benchmarks.append((run_name, ts_mean, ts_std))\n",
    "\n",
    "# Plotting with error bars\n",
    "names, times, stds = zip(*benchmarks)\n",
    "plt.bar(names, times, yerr=stds, capsize=5)\n",
    "plt.ylabel('Time (seconds)')\n",
    "plt.title('Performance of different random walk implementations')\n",
    "plt.show()"
   ]
  },
  {
   "cell_type": "code",
   "execution_count": null,
   "metadata": {},
   "outputs": [],
   "source": [
    "timeit"
   ]
  },
  {
   "cell_type": "code",
   "execution_count": 46,
   "metadata": {},
   "outputs": [
    {
     "data": {
      "text/plain": [
       "array([-3.47670973e-309, -9.03947926e-309, -1.46022488e-308, ...,\n",
       "        0.00000000e+000, -1.33199835e-255,  0.00000000e+000])"
      ]
     },
     "execution_count": 46,
     "metadata": {},
     "output_type": "execute_result"
    }
   ],
   "source": []
  },
  {
   "cell_type": "code",
   "execution_count": 49,
   "metadata": {},
   "outputs": [
    {
     "data": {
      "text/plain": [
       "array([  -1.,    0.,    1., ..., -146., -145., -144.])"
      ]
     },
     "execution_count": 49,
     "metadata": {},
     "output_type": "execute_result"
    }
   ],
   "source": []
  },
  {
   "cell_type": "markdown",
   "metadata": {},
   "source": []
  },
  {
   "cell_type": "markdown",
   "metadata": {},
   "source": [
    "# Granmda's challenges"
   ]
  },
  {
   "cell_type": "markdown",
   "metadata": {},
   "source": [
    "### 5.6 Peanut butter"
   ]
  },
  {
   "cell_type": "markdown",
   "metadata": {},
   "source": [
    "Given `peanut`, a 4x5 array of 0s, and `butter`, a 5-element 1-d array of indices, fill the rows of `peanut` with 1s starting from the column indices given by `butter`.\n"
   ]
  },
  {
   "cell_type": "code",
   "execution_count": 4,
   "metadata": {},
   "outputs": [
    {
     "name": "stdout",
     "output_type": "stream",
     "text": [
      "[[0. 0. 0. 0. 0.]\n",
      " [0. 0. 0. 0. 0.]\n",
      " [0. 0. 0. 0. 0.]\n",
      " [0. 0. 0. 0. 0.]]\n",
      "[3 0 4 1]\n"
     ]
    }
   ],
   "source": [
    "peanut = np.zeros(shape = (4, 5))\n",
    "butter = np.array([3, 0, 4, 1])\n",
    "\n",
    "print(peanut)\n",
    "print(butter)"
   ]
  },
  {
   "cell_type": "code",
   "execution_count": 15,
   "metadata": {},
   "outputs": [
    {
     "data": {
      "text/plain": [
       "array([[0, 1, 2, 3, 4],\n",
       "       [0, 1, 2, 3, 4],\n",
       "       [0, 1, 2, 3, 4],\n",
       "       [0, 1, 2, 3, 4]])"
      ]
     },
     "execution_count": 15,
     "metadata": {},
     "output_type": "execute_result"
    }
   ],
   "source": [
    "idx = np.tile(np.arange(5), (4,1))\n",
    "idx"
   ]
  },
  {
   "cell_type": "code",
   "execution_count": 18,
   "metadata": {},
   "outputs": [
    {
     "data": {
      "text/plain": [
       "array([[False, False, False,  True,  True],\n",
       "       [ True,  True,  True,  True,  True],\n",
       "       [False, False, False, False,  True],\n",
       "       [False,  True,  True,  True,  True]])"
      ]
     },
     "execution_count": 18,
     "metadata": {},
     "output_type": "execute_result"
    }
   ],
   "source": [
    "mask = idx >= butter[:,None]\n",
    "mask"
   ]
  },
  {
   "cell_type": "code",
   "execution_count": 20,
   "metadata": {},
   "outputs": [
    {
     "data": {
      "text/plain": [
       "array([[0., 0., 0., 1., 1.],\n",
       "       [1., 1., 1., 1., 1.],\n",
       "       [0., 0., 0., 0., 1.],\n",
       "       [0., 1., 1., 1., 1.]])"
      ]
     },
     "execution_count": 20,
     "metadata": {},
     "output_type": "execute_result"
    }
   ],
   "source": [
    "peanut[mask] = 1\n",
    "peanut"
   ]
  },
  {
   "cell_type": "markdown",
   "metadata": {},
   "source": [
    "### One-Hot-Encoding"
   ]
  },
  {
   "cell_type": "code",
   "execution_count": 23,
   "metadata": {},
   "outputs": [],
   "source": [
    "x = np.array([3, 1, 0, 1])"
   ]
  },
  {
   "cell_type": "markdown",
   "metadata": {},
   "source": [
    "#### default"
   ]
  },
  {
   "cell_type": "code",
   "execution_count": 41,
   "metadata": {},
   "outputs": [
    {
     "data": {
      "text/plain": [
       "(4, 4)"
      ]
     },
     "execution_count": 41,
     "metadata": {},
     "output_type": "execute_result"
    }
   ],
   "source": [
    "m,n = x.shape[0], x.max()+1\n",
    "out = np.zeros((m,n))\n",
    "out.shape"
   ]
  },
  {
   "cell_type": "code",
   "execution_count": 42,
   "metadata": {},
   "outputs": [
    {
     "data": {
      "text/plain": [
       "array([[0., 0., 0., 1.],\n",
       "       [0., 1., 0., 0.],\n",
       "       [1., 0., 0., 0.],\n",
       "       [0., 1., 0., 0.]])"
      ]
     },
     "execution_count": 42,
     "metadata": {},
     "output_type": "execute_result"
    }
   ],
   "source": [
    "out[np.arange(m), x] = 1.\n",
    "out"
   ]
  },
  {
   "cell_type": "markdown",
   "metadata": {},
   "source": [
    "#### `eye` reindexing"
   ]
  },
  {
   "cell_type": "code",
   "execution_count": 45,
   "metadata": {},
   "outputs": [
    {
     "data": {
      "text/plain": [
       "array([[0., 0., 0., 1.],\n",
       "       [0., 1., 0., 0.],\n",
       "       [1., 0., 0., 0.],\n",
       "       [0., 1., 0., 0.]])"
      ]
     },
     "execution_count": 45,
     "metadata": {},
     "output_type": "execute_result"
    }
   ],
   "source": [
    "num_classes = 1 + x.max()\n",
    "result = np.eye(num_classes)[x]\n",
    "result"
   ]
  },
  {
   "cell_type": "markdown",
   "metadata": {},
   "source": [
    "### Cumulative Rainfall 🌧"
   ]
  },
  {
   "cell_type": "code",
   "execution_count": 47,
   "metadata": {},
   "outputs": [],
   "source": [
    "rain_locations = np.array([\n",
    "    [2,3],\n",
    "    [0,1],\n",
    "    [2,2],\n",
    "    [2,3],\n",
    "    [1,1],\n",
    "    [2,3],\n",
    "    [1,1]\n",
    "])\n",
    "\n",
    "\n",
    "rain_amounts = np.array([0.5,1.1,0.2,0.9,1.3,0.4,2.0])"
   ]
  },
  {
   "cell_type": "code",
   "execution_count": null,
   "metadata": {},
   "outputs": [],
   "source": [
    "grid = np.zeros((3,4))"
   ]
  },
  {
   "cell_type": "code",
   "execution_count": null,
   "metadata": {},
   "outputs": [],
   "source": []
  }
 ],
 "metadata": {
  "kernelspec": {
   "display_name": "Python 3",
   "language": "python",
   "name": "python3"
  },
  "language_info": {
   "codemirror_mode": {
    "name": "ipython",
    "version": 3
   },
   "file_extension": ".py",
   "mimetype": "text/x-python",
   "name": "python",
   "nbconvert_exporter": "python",
   "pygments_lexer": "ipython3",
   "version": "3.11.6"
  }
 },
 "nbformat": 4,
 "nbformat_minor": 2
}
