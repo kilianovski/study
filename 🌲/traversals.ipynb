{
 "cells": [
  {
   "cell_type": "code",
   "execution_count": 1,
   "metadata": {},
   "outputs": [],
   "source": [
    "from treeviz import TreeNode, draw_unique_tree, list2tree, tree2ascii, ascii_draw\n",
    "null = None\n",
    "\n",
    "tree = list2tree([1,2,3,4,5,6,null,7,null,8])\n",
    "tree"
   ]
  },
  {
   "cell_type": "markdown",
   "metadata": {},
   "source": [
    "## Pre-order\n"
   ]
  },
  {
   "cell_type": "code",
   "execution_count": 44,
   "metadata": {},
   "outputs": [],
   "source": [
    "def _random_tree(p, rng):\n",
    "    if p >= rng.random():\n",
    "        val = rng.integers(0, 16)\n",
    "        left = _random_tree(p, rng)\n",
    "        right = _random_tree(p, rng)\n",
    "        node = TreeNode(val, left, right)\n",
    "        return node\n",
    "    return None\n",
    "\n",
    "def random_tree(p=0.5, seed=0):\n",
    "    rng = np.random.default_rng(seed)\n",
    "    return _random_tree(p, rng)\n",
    "\n",
    "random_tree()"
   ]
  },
  {
   "cell_type": "code",
   "execution_count": 50,
   "metadata": {},
   "outputs": [
    {
     "data": {
      "text/plain": [
       "           1\n",
       "           |\n",
       "     +-----+---+\n",
       "     |         |\n",
       "     2         3\n",
       "     |         |\n",
       "   +-+---+   +-+\n",
       "   |     |   |\n",
       "   4     5   6\n",
       "   |     |\n",
       " +-+   +-+\n",
       " |     |\n",
       " 7     8"
      ]
     },
     "execution_count": 50,
     "metadata": {},
     "output_type": "execute_result"
    }
   ],
   "source": []
  },
  {
   "cell_type": "markdown",
   "metadata": {},
   "source": [
    "### Recursive"
   ]
  },
  {
   "cell_type": "code",
   "execution_count": 51,
   "metadata": {},
   "outputs": [
    {
     "data": {
      "text/plain": [
       "[1, 2, 4, 7, 5, 8, 3, 6]"
      ]
     },
     "execution_count": 51,
     "metadata": {},
     "output_type": "execute_result"
    }
   ],
   "source": [
    "def preorder_recursive(root):\n",
    "    output = []\n",
    "    def dfs(root):\n",
    "        if not root: return\n",
    "        \n",
    "        output.append(root.val)\n",
    "        dfs(root.left)\n",
    "        dfs(root.right)\n",
    "    dfs(root)\n",
    "    return output\n",
    "\n",
    "\n",
    "preorder_recursive(tree)"
   ]
  },
  {
   "cell_type": "markdown",
   "metadata": {},
   "source": [
    "### Iterative"
   ]
  },
  {
   "cell_type": "code",
   "execution_count": 55,
   "metadata": {},
   "outputs": [
    {
     "name": "stdout",
     "output_type": "stream",
     "text": [
      "           1\n",
      "           |\n",
      "     +-----+---+\n",
      "     |         |\n",
      "     2         3\n",
      "     |         |\n",
      "   +-+---+   +-+\n",
      "   |     |   |\n",
      "   4     5   6\n",
      "   |     |\n",
      " +-+   +-+\n",
      " |     |\n",
      " 7     8\n"
     ]
    },
    {
     "data": {
      "text/plain": [
       "[1, 2, 4, 7, 5, 8, 3, 6]"
      ]
     },
     "execution_count": 55,
     "metadata": {},
     "output_type": "execute_result"
    }
   ],
   "source": [
    "def preorder_iterative(root):\n",
    "    output = []\n",
    "    stack = [root]\n",
    "    while stack:\n",
    "        node = stack.pop()\n",
    "        if not node: continue\n",
    "        \n",
    "        output.append(node.val)\n",
    "        stack.append(node.right)\n",
    "        stack.append(node.left)\n",
    "\n",
    "    return output\n",
    "\n",
    "print(tree)\n",
    "preorder_iterative(tree)"
   ]
  },
  {
   "cell_type": "markdown",
   "metadata": {},
   "source": [
    "### Morris's"
   ]
  },
  {
   "cell_type": "markdown",
   "metadata": {},
   "source": [
    "## Inorder"
   ]
  },
  {
   "cell_type": "code",
   "execution_count": 57,
   "metadata": {},
   "outputs": [
    {
     "data": {
      "text/plain": [
       "           1\n",
       "           |\n",
       "     +-----+---+\n",
       "     |         |\n",
       "     2         3\n",
       "     |         |\n",
       "   +-+---+   +-+\n",
       "   |     |   |\n",
       "   4     5   6\n",
       "   |     |\n",
       " +-+   +-+\n",
       " |     |\n",
       " 7     8"
      ]
     },
     "execution_count": 57,
     "metadata": {},
     "output_type": "execute_result"
    }
   ],
   "source": [
    "tree"
   ]
  },
  {
   "cell_type": "code",
   "execution_count": 58,
   "metadata": {},
   "outputs": [
    {
     "data": {
      "text/plain": [
       "[7, 4, 2, 8, 5, 1, 6, 3]"
      ]
     },
     "execution_count": 58,
     "metadata": {},
     "output_type": "execute_result"
    }
   ],
   "source": [
    "def inorder_recursive(root):\n",
    "    output = []\n",
    "    \n",
    "    def dfs(root):\n",
    "        if not root: return\n",
    "\n",
    "        dfs(root.left)\n",
    "        output.append(root.val)\n",
    "        dfs(root.right)\n",
    "    dfs(root)\n",
    "    return output\n",
    "\n",
    "inorder_recursive(tree)"
   ]
  },
  {
   "cell_type": "code",
   "execution_count": 60,
   "metadata": {},
   "outputs": [
    {
     "data": {
      "text/plain": [
       " 1\n",
       " |\n",
       " +---+\n",
       "     |\n",
       "     2\n",
       "     |\n",
       "   +-+\n",
       "   |\n",
       "   3"
      ]
     },
     "execution_count": 60,
     "metadata": {},
     "output_type": "execute_result"
    }
   ],
   "source": [
    "small_tree = list2tree([1,null,2,3])\n",
    "small_tree"
   ]
  },
  {
   "cell_type": "code",
   "execution_count": 66,
   "metadata": {},
   "outputs": [
    {
     "data": {
      "text/plain": [
       "[1, 3, 2]"
      ]
     },
     "execution_count": 66,
     "metadata": {},
     "output_type": "execute_result"
    }
   ],
   "source": [
    "def inorder_iterative(root):\n",
    "    output = []\n",
    "    frame_stack = [[root, 0]]\n",
    "    \n",
    "    while frame_stack:\n",
    "        node, children_processed = frame_stack[-1]\n",
    "\n",
    "        if not node or children_processed == 2:\n",
    "            frame_stack.pop()\n",
    "            if frame_stack:\n",
    "                frame_stack[-1][1] += 1\n",
    "            continue\n",
    "\n",
    "        if children_processed == 1:\n",
    "            output.append(node.val)\n",
    "            frame_stack.append([node.right, 0])\n",
    "        else:\n",
    "            frame_stack.append([node.left, 0])\n",
    "    \n",
    "    return output\n",
    "\n",
    "inorder_iterative(small_tree)"
   ]
  },
  {
   "cell_type": "markdown",
   "metadata": {},
   "source": [
    "## Postorder"
   ]
  },
  {
   "cell_type": "code",
   "execution_count": 1,
   "metadata": {},
   "outputs": [],
   "source": [
    "from treeviz import TreeNode, draw_unique_tree, list2tree, tree2ascii, ascii_draw\n",
    "null = None"
   ]
  },
  {
   "cell_type": "code",
   "execution_count": 2,
   "metadata": {},
   "outputs": [
    {
     "data": {
      "text/plain": [
       "           1\n",
       "           |\n",
       "     +-----+---+\n",
       "     |         |\n",
       "     2         3\n",
       "     |         |\n",
       "   +-+---+   +-+\n",
       "   |     |   |\n",
       "   4     5   6\n",
       "   |     |\n",
       " +-+   +-+\n",
       " |     |\n",
       " 7     8"
      ]
     },
     "execution_count": 2,
     "metadata": {},
     "output_type": "execute_result"
    }
   ],
   "source": [
    "tree = list2tree([1,2,3,4,5,6,null,7,null,8])\n",
    "tree"
   ]
  },
  {
   "cell_type": "code",
   "execution_count": 5,
   "metadata": {},
   "outputs": [],
   "source": [
    "def recursive_postorder(root):\n",
    "    res = []\n",
    "    def dfs(root):\n",
    "        if root is None: return\n",
    "        dfs(root.left)\n",
    "        dfs(root.right)\n",
    "        res.append(root.val)\n",
    "    dfs(root)\n",
    "    return res"
   ]
  },
  {
   "cell_type": "code",
   "execution_count": 7,
   "metadata": {},
   "outputs": [
    {
     "name": "stdout",
     "output_type": "stream",
     "text": [
      "           1\n",
      "           |\n",
      "     +-----+---+\n",
      "     |         |\n",
      "     2         3\n",
      "     |         |\n",
      "   +-+---+   +-+\n",
      "   |     |   |\n",
      "   4     5   6\n",
      "   |     |\n",
      " +-+   +-+\n",
      " |     |\n",
      " 7     8\n"
     ]
    },
    {
     "data": {
      "text/plain": [
       "[7, 4, 8, 5, 2, 6, 3, 1]"
      ]
     },
     "execution_count": 7,
     "metadata": {},
     "output_type": "execute_result"
    }
   ],
   "source": [
    "print(tree)\n",
    "recursive_postorder(tree)"
   ]
  },
  {
   "cell_type": "code",
   "execution_count": 13,
   "metadata": {},
   "outputs": [
    {
     "name": "stdout",
     "output_type": "stream",
     "text": [
      " 1\n",
      " |\n",
      " +---+\n",
      "     |\n",
      "     2\n",
      "     |\n",
      "   +-+\n",
      "   |\n",
      "   3\n"
     ]
    },
    {
     "data": {
      "text/plain": [
       "[2, 1]"
      ]
     },
     "execution_count": 13,
     "metadata": {},
     "output_type": "execute_result"
    }
   ],
   "source": [
    "small_tree = list2tree([1,null,2,3])\n",
    "print(small_tree)\n",
    "\n",
    "root = small_tree\n",
    "res = []\n",
    "\n",
    "stack = [root]\n",
    "last_processed = None\n",
    "\n",
    "while stack:\n",
    "    if stack[-1] is None:\n",
    "        last_processed = stack.pop()\n",
    "        continue\n",
    "    \n",
    "    if stack[-1].right == last_processed:\n",
    "        last_processed = stack.pop()\n",
    "        res.append(last_processed.val)\n",
    "    else:\n",
    "        top = stack[-1]\n",
    "        stack.append( top.right )\n",
    "        stack.append( top.left )\n",
    "res"
   ]
  },
  {
   "cell_type": "markdown",
   "metadata": {},
   "source": [
    "## inorder recursive with yield"
   ]
  },
  {
   "cell_type": "code",
   "execution_count": 3,
   "metadata": {},
   "outputs": [],
   "source": [
    "from treeviz import TreeNode, draw_unique_tree, list2tree, tree2ascii, ascii_draw\n",
    "null = None\n"
   ]
  },
  {
   "cell_type": "code",
   "execution_count": 4,
   "metadata": {},
   "outputs": [
    {
     "data": {
      "text/plain": [
       "   5\n",
       "   |\n",
       " +-+---+\n",
       " |     |\n",
       " 1     4\n",
       "       |\n",
       "     +-+-+\n",
       "     |   |\n",
       "     3   6"
      ]
     },
     "execution_count": 4,
     "metadata": {},
     "output_type": "execute_result"
    }
   ],
   "source": [
    "tree = list2tree([5,1,4,null,null,3,6])\n",
    "tree"
   ]
  },
  {
   "cell_type": "code",
   "execution_count": 8,
   "metadata": {},
   "outputs": [
    {
     "name": "stdout",
     "output_type": "stream",
     "text": [
      "   5\n",
      "   |\n",
      " +-+---+\n",
      " |     |\n",
      " 1     4\n",
      "       |\n",
      "     +-+-+\n",
      "     |   |\n",
      "     3   6\n",
      "1\n",
      "5\n",
      "3\n",
      "4\n",
      "6\n"
     ]
    }
   ],
   "source": [
    "print(tree)\n",
    "\n",
    "\n",
    "def iter_inorder_rec(root):\n",
    "    if root is not None:\n",
    "        yield from iter_inorder_rec(root.left)\n",
    "        yield root.val\n",
    "        yield from iter_inorder_rec(root.right)\n",
    "\n",
    "\n",
    "for n in iter_inorder_rec(tree):\n",
    "    print(n)"
   ]
  },
  {
   "cell_type": "markdown",
   "metadata": {},
   "source": []
  },
  {
   "cell_type": "code",
   "execution_count": 11,
   "metadata": {},
   "outputs": [
    {
     "name": "stdout",
     "output_type": "stream",
     "text": [
      "         5\n",
      "         |\n",
      "     +---+-+\n",
      "     |     |\n",
      "     3     6\n",
      "     |\n",
      "   +-+-+\n",
      "   |   |\n",
      "   2   4\n",
      "   |\n",
      " +-+\n",
      " |\n",
      " 1\n",
      "1\n",
      "2\n",
      "3\n",
      "4\n",
      "5\n",
      "6\n"
     ]
    }
   ],
   "source": [
    "tree = list2tree([5,3,6,2,4,null,null,1])\n",
    "print(tree)\n",
    "\n",
    "\n",
    "for n in iter_inorder_rec(tree):\n",
    "    print(n)"
   ]
  },
  {
   "cell_type": "code",
   "execution_count": null,
   "metadata": {},
   "outputs": [],
   "source": []
  }
 ],
 "metadata": {
  "kernelspec": {
   "display_name": "Python 3",
   "language": "python",
   "name": "python3"
  },
  "language_info": {
   "codemirror_mode": {
    "name": "ipython",
    "version": 3
   },
   "file_extension": ".py",
   "mimetype": "text/x-python",
   "name": "python",
   "nbconvert_exporter": "python",
   "pygments_lexer": "ipython3",
   "version": "3.11.7"
  }
 },
 "nbformat": 4,
 "nbformat_minor": 2
}
