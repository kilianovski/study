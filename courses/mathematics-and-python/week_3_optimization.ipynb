{
 "cells": [
  {
   "cell_type": "code",
   "execution_count": 1,
   "metadata": {},
   "outputs": [],
   "source": [
    "import numpy as np\n",
    "import matplotlib.pyplot as plt\n",
    "%matplotlib inline\n",
    "\n",
    "plt.rcParams['figure.figsize'] = (16,9)\n",
    "plt.rcParams['font.size'] = 22"
   ]
  },
  {
   "cell_type": "markdown",
   "metadata": {},
   "source": [
    "# Задача 1. Минимизация гладкой функции"
   ]
  },
  {
   "cell_type": "code",
   "execution_count": 2,
   "metadata": {},
   "outputs": [],
   "source": [
    "def f(x): return np.sin(x / 5) * np.exp(x / 10) + 5 * np.exp(-x / 2)"
   ]
  },
  {
   "cell_type": "code",
   "execution_count": 3,
   "metadata": {},
   "outputs": [],
   "source": [
    "def plot_fun(f, left, right):\n",
    "    x = np.linspace(left, right, 250)\n",
    "    y = np.array([f(x_) for x_ in x])\n",
    "\n",
    "    plt.plot(x, y)"
   ]
  },
  {
   "cell_type": "code",
   "execution_count": 30,
   "metadata": {},
   "outputs": [
    {
     "data": {
      "image/png": "[encoded data removed]",
      "text/plain": [
       "<Figure size 432x288 with 1 Axes>"
      ]
     },
     "metadata": {
      "needs_background": "light"
     },
     "output_type": "display_data"
    }
   ],
   "source": [
    "plot_fun(f, 0, 30)"
   ]
  },
  {
   "cell_type": "code",
   "execution_count": 5,
   "metadata": {},
   "outputs": [],
   "source": [
    "from scipy.optimize import minimize"
   ]
  },
  {
   "cell_type": "code",
   "execution_count": 6,
   "metadata": {},
   "outputs": [
    {
     "data": {
      "text/plain": [
       "      fun: 1.7452682903428007\n",
       " hess_inv: array([[6.04868658]])\n",
       "      jac: array([1.90734863e-06])\n",
       "  message: 'Optimization terminated successfully.'\n",
       "     nfev: 39\n",
       "      nit: 3\n",
       "     njev: 13\n",
       "   status: 0\n",
       "  success: True\n",
       "        x: array([4.13630013])"
      ]
     },
     "execution_count": 6,
     "metadata": {},
     "output_type": "execute_result"
    }
   ],
   "source": [
    "minimize(f, 10)"
   ]
  },
  {
   "cell_type": "code",
   "execution_count": 7,
   "metadata": {},
   "outputs": [
    {
     "data": {
      "text/plain": [
       "      fun: -11.898894665901345\n",
       " hess_inv: array([[1.67016692]])\n",
       "      jac: array([-9.65595245e-06])\n",
       "  message: 'Optimization terminated successfully.'\n",
       "     nfev: 33\n",
       "      nit: 6\n",
       "     njev: 11\n",
       "   status: 0\n",
       "  success: True\n",
       "        x: array([25.88017663])"
      ]
     },
     "execution_count": 7,
     "metadata": {},
     "output_type": "execute_result"
    }
   ],
   "source": [
    "minimize(f, 17)"
   ]
  },
  {
   "cell_type": "code",
   "execution_count": 15,
   "metadata": {},
   "outputs": [
    {
     "name": "stderr",
     "output_type": "stream",
     "text": [
      "/home/kilianovski/anaconda3/lib/python3.7/site-packages/ipykernel_launcher.py:1: RuntimeWarning: overflow encountered in exp\n",
      "  \"\"\"Entry point for launching an IPython kernel.\n",
      "/home/kilianovski/anaconda3/lib/python3.7/site-packages/scipy/optimize/optimize.py:697: RuntimeWarning: invalid value encountered in subtract\n",
      "  df = (f(*((xk + d,) + args)) - f0) / d[k]\n"
     ]
    },
    {
     "data": {
      "text/plain": [
       "[<matplotlib.lines.Line2D at 0x7f3d2699b390>]"
      ]
     },
     "execution_count": 15,
     "metadata": {},
     "output_type": "execute_result"
    },
    {
     "data": {
      "image/png": "[encoded data removed]",
      "text/plain": [
       "<Figure size 432x288 with 1 Axes>"
      ]
     },
     "metadata": {
      "needs_background": "light"
     },
     "output_type": "display_data"
    }
   ],
   "source": [
    "x0s = np.linspace(0, 30, 250)\n",
    "ys = np.array([minimize(f, x0).x[0] for x0 in x0s])\n",
    "\n",
    "plt.plot(x0s, ys)"
   ]
  },
  {
   "cell_type": "code",
   "execution_count": 20,
   "metadata": {},
   "outputs": [
    {
     "data": {
      "text/plain": [
       "[<matplotlib.lines.Line2D at 0x7f3d2678a490>]"
      ]
     },
     "execution_count": 20,
     "metadata": {},
     "output_type": "execute_result"
    },
    {
     "data": {
      "image/png": "[encoded data removed]",
      "text/plain": [
       "<Figure size 432x288 with 1 Axes>"
      ]
     },
     "metadata": {
      "needs_background": "light"
     },
     "output_type": "display_data"
    }
   ],
   "source": [
    "x0s = np.linspace(0, 30, 50)\n",
    "ys = np.array([minimize(f, x0).x[0] for x0 in x0s])\n",
    "\n",
    "plt.plot(x0s, ys)"
   ]
  },
  {
   "cell_type": "code",
   "execution_count": 21,
   "metadata": {},
   "outputs": [
    {
     "data": {
      "text/plain": [
       "      fun: 1.7452682903449388\n",
       " hess_inv: array([[5.98752437]])\n",
       "      jac: array([-2.07126141e-06])\n",
       "  message: 'Optimization terminated successfully.'\n",
       "     nfev: 21\n",
       "      nit: 6\n",
       "     njev: 7\n",
       "   status: 0\n",
       "  success: True\n",
       "        x: array([4.13627618])"
      ]
     },
     "execution_count": 21,
     "metadata": {},
     "output_type": "execute_result"
    }
   ],
   "source": [
    "minimize(f, 2., method='BFGS')"
   ]
  },
  {
   "cell_type": "code",
   "execution_count": 22,
   "metadata": {},
   "outputs": [
    {
     "data": {
      "text/plain": [
       "      fun: -11.898894665981285\n",
       " hess_inv: array([[1.67932484]])\n",
       "      jac: array([2.38418579e-07])\n",
       "  message: 'Optimization terminated successfully.'\n",
       "     nfev: 21\n",
       "      nit: 6\n",
       "     njev: 7\n",
       "   status: 0\n",
       "  success: True\n",
       "        x: array([25.88019339])"
      ]
     },
     "execution_count": 22,
     "metadata": {},
     "output_type": "execute_result"
    }
   ],
   "source": [
    "minimize(f, 30., method='BFGS')"
   ]
  },
  {
   "cell_type": "markdown",
   "metadata": {},
   "source": [
    "# Задача 2. Глобальная оптимизация"
   ]
  },
  {
   "cell_type": "code",
   "execution_count": 23,
   "metadata": {},
   "outputs": [],
   "source": [
    "from scipy.optimize import differential_evolution"
   ]
  },
  {
   "cell_type": "code",
   "execution_count": 25,
   "metadata": {},
   "outputs": [
    {
     "data": {
      "text/plain": [
       "     fun: array([-11.89889467])\n",
       "     jac: array([8.52651283e-06])\n",
       " message: 'Optimization terminated successfully.'\n",
       "    nfev: 66\n",
       "     nit: 3\n",
       " success: True\n",
       "       x: array([25.88020729])"
      ]
     },
     "execution_count": 25,
     "metadata": {},
     "output_type": "execute_result"
    }
   ],
   "source": [
    "differential_evolution(f, bounds=[(0., 30.)])"
   ]
  },
  {
   "cell_type": "markdown",
   "metadata": {},
   "source": [
    "# Задача 3. Минимизация негладкой функции"
   ]
  },
  {
   "cell_type": "code",
   "execution_count": 26,
   "metadata": {},
   "outputs": [],
   "source": [
    "def h(x): return int(f(x))"
   ]
  },
  {
   "cell_type": "code",
   "execution_count": 27,
   "metadata": {},
   "outputs": [
    {
     "data": {
      "image/png": "[encoded data removed]",
      "text/plain": [
       "<Figure size 432x288 with 1 Axes>"
      ]
     },
     "metadata": {
      "needs_background": "light"
     },
     "output_type": "display_data"
    }
   ],
   "source": [
    "plot_fun(h, 0, 30)"
   ]
  },
  {
   "cell_type": "code",
   "execution_count": 29,
   "metadata": {},
   "outputs": [
    {
     "data": {
      "text/plain": [
       "      fun: -5\n",
       " hess_inv: array([[1]])\n",
       "      jac: array([0.])\n",
       "  message: 'Optimization terminated successfully.'\n",
       "     nfev: 3\n",
       "      nit: 0\n",
       "     njev: 1\n",
       "   status: 0\n",
       "  success: True\n",
       "        x: array([30.])"
      ]
     },
     "execution_count": 29,
     "metadata": {},
     "output_type": "execute_result"
    }
   ],
   "source": [
    "minimize(h, 30., method='BFGS')"
   ]
  },
  {
   "cell_type": "code",
   "execution_count": 31,
   "metadata": {},
   "outputs": [
    {
     "data": {
      "text/plain": [
       "     fun: -11.0\n",
       " message: 'Optimization terminated successfully.'\n",
       "    nfev: 92\n",
       "     nit: 5\n",
       " success: True\n",
       "       x: array([27.41489625])"
      ]
     },
     "execution_count": 31,
     "metadata": {},
     "output_type": "execute_result"
    }
   ],
   "source": [
    "differential_evolution(h, bounds=[(0., 30.)])"
   ]
  },
  {
   "cell_type": "code",
   "execution_count": 35,
   "metadata": {},
   "outputs": [
    {
     "data": {
      "text/plain": [
       "[<matplotlib.lines.Line2D at 0x7f3d2656ae10>]"
      ]
     },
     "execution_count": 35,
     "metadata": {},
     "output_type": "execute_result"
    },
    {
     "data": {
      "image/png": "[encoded data removed]",
      "text/plain": [
       "<Figure size 432x288 with 1 Axes>"
      ]
     },
     "metadata": {
      "needs_background": "light"
     },
     "output_type": "display_data"
    }
   ],
   "source": [
    "x0s = np.linspace(0, 30, 250)\n",
    "ys = np.array([minimize(h, x0, method='BFGS').x[0] for x0 in x0s])\n",
    "\n",
    "plt.plot(x0s, ys)"
   ]
  },
  {
   "cell_type": "code",
   "execution_count": 37,
   "metadata": {},
   "outputs": [
    {
     "data": {
      "text/plain": [
       "array([5.12589894e-05, 1.20481928e-01, 2.40963855e-01, 3.61445783e-01,\n",
       "       4.81927711e-01, 6.02409639e-01, 7.22891566e-01, 8.43373494e-01,\n",
       "       9.63855422e-01, 1.08433735e+00, 1.20481928e+00, 1.32530120e+00,\n",
       "       1.44578313e+00, 1.56626506e+00, 1.68674699e+00, 1.80722892e+00,\n",
       "       1.92771084e+00, 2.04819277e+00, 2.16867470e+00, 2.28915663e+00,\n",
       "       2.40963855e+00, 2.53012048e+00, 2.65060241e+00, 2.77108434e+00,\n",
       "       2.89156627e+00, 3.01204819e+00, 3.13253012e+00, 3.25301205e+00,\n",
       "       3.37349398e+00, 3.49397590e+00, 3.61445783e+00, 3.73493976e+00,\n",
       "       3.85542169e+00, 3.97590361e+00, 4.09638554e+00, 4.21686747e+00,\n",
       "       4.33734940e+00, 4.45783133e+00, 4.57831325e+00, 4.69879518e+00,\n",
       "       4.81927711e+00, 4.93975904e+00, 5.06024096e+00, 5.18072289e+00,\n",
       "       5.30120482e+00, 5.42168675e+00, 5.54216867e+00, 5.66265060e+00,\n",
       "       5.78313253e+00, 5.90361446e+00, 6.02409639e+00, 6.14457831e+00,\n",
       "       6.26506024e+00, 6.38554217e+00, 6.50602410e+00, 6.62650602e+00,\n",
       "       6.74698795e+00, 6.86746988e+00, 6.98795181e+00, 7.10843373e+00,\n",
       "       7.22891566e+00, 7.34939759e+00, 7.46987952e+00, 7.59036145e+00,\n",
       "       7.71084337e+00, 7.83132530e+00, 7.95180723e+00, 8.07228916e+00,\n",
       "       8.19277108e+00, 8.31325301e+00, 8.43373494e+00, 8.55421687e+00,\n",
       "       8.67469880e+00, 8.79518072e+00, 8.91566265e+00, 9.03614458e+00,\n",
       "       9.15662651e+00, 9.27710843e+00, 9.39759036e+00, 9.51807229e+00,\n",
       "       9.63855422e+00, 9.75903614e+00, 9.87951807e+00, 1.00000000e+01,\n",
       "       1.01204819e+01, 1.02409639e+01, 1.03614458e+01, 1.04819277e+01,\n",
       "       1.06024096e+01, 1.07228916e+01, 1.08433735e+01, 1.09638554e+01,\n",
       "       1.10843373e+01, 1.12048193e+01, 1.13253012e+01, 1.14457831e+01,\n",
       "       1.15662651e+01, 1.16867470e+01, 1.18072289e+01, 1.19277108e+01,\n",
       "       1.20481928e+01, 1.21686747e+01, 1.22891566e+01, 1.24096386e+01,\n",
       "       1.25301205e+01, 1.26506024e+01, 1.27710843e+01, 1.28915663e+01,\n",
       "       1.30120482e+01, 1.31325301e+01, 1.32530120e+01, 1.33734940e+01,\n",
       "       1.34939759e+01, 1.36144578e+01, 1.37349398e+01, 1.38554217e+01,\n",
       "       1.39759036e+01, 1.40963855e+01, 1.42168675e+01, 1.43373494e+01,\n",
       "       1.44578313e+01, 1.45783133e+01, 1.46987952e+01, 1.48192771e+01,\n",
       "       1.49397590e+01, 1.50602410e+01, 1.51807229e+01, 1.53012048e+01,\n",
       "       1.54216867e+01, 1.55421687e+01, 1.56626506e+01, 1.57831325e+01,\n",
       "       1.59036145e+01, 1.60240964e+01, 1.61445783e+01, 1.62650602e+01,\n",
       "       1.63855422e+01, 1.65060241e+01, 1.66265060e+01, 1.67469880e+01,\n",
       "       1.68674699e+01, 1.69879518e+01, 1.71084337e+01, 1.72289157e+01,\n",
       "       1.73493976e+01, 1.74698795e+01, 1.75903614e+01, 1.77108434e+01,\n",
       "       1.78313253e+01, 1.79518072e+01, 1.80722892e+01, 1.81927711e+01,\n",
       "       1.83132530e+01, 1.84337349e+01, 1.85542169e+01, 1.86746988e+01,\n",
       "       1.87951807e+01, 1.89156627e+01, 1.90361446e+01, 1.91566265e+01,\n",
       "       1.92771084e+01, 1.93975904e+01, 1.95180723e+01, 1.96385542e+01,\n",
       "       1.97590361e+01, 1.98795181e+01, 2.00000000e+01, 2.01204819e+01,\n",
       "       2.02409639e+01, 2.03614458e+01, 2.04819277e+01, 2.06024096e+01,\n",
       "       2.07228916e+01, 2.08433735e+01, 2.09638554e+01, 2.10843373e+01,\n",
       "       2.12048193e+01, 2.13253012e+01, 2.14457831e+01, 2.15662651e+01,\n",
       "       2.16867470e+01, 2.18072289e+01, 2.19277108e+01, 2.20481928e+01,\n",
       "       2.21686747e+01, 2.22891566e+01, 2.24096386e+01, 2.25301205e+01,\n",
       "       2.26506024e+01, 2.27710843e+01, 2.28915663e+01, 2.30120482e+01,\n",
       "       2.31325301e+01, 2.32530120e+01, 2.33734940e+01, 2.34939759e+01,\n",
       "       2.36144578e+01, 2.37349398e+01, 2.38554217e+01, 2.39759036e+01,\n",
       "       2.40963855e+01, 2.42168675e+01, 2.43373494e+01, 2.44578313e+01,\n",
       "       2.45783133e+01, 2.46987952e+01, 2.48192771e+01, 2.49397590e+01,\n",
       "       2.50602410e+01, 2.51807229e+01, 2.53012048e+01, 2.54216867e+01,\n",
       "       2.55421687e+01, 2.56626506e+01, 2.57831325e+01, 2.59036145e+01,\n",
       "       2.60240964e+01, 2.61445783e+01, 2.62650602e+01, 2.63855422e+01,\n",
       "       2.65060241e+01, 2.66265060e+01, 2.67469880e+01, 2.68674699e+01,\n",
       "       2.69879518e+01, 2.71084337e+01, 2.72289157e+01, 2.73493976e+01,\n",
       "       2.74698795e+01, 2.75903614e+01, 2.77108434e+01, 2.78313253e+01,\n",
       "       2.79518072e+01, 2.80722892e+01, 2.81927711e+01, 2.83132530e+01,\n",
       "       2.84337349e+01, 2.85542169e+01, 2.86746988e+01, 2.87951807e+01,\n",
       "       2.89156627e+01, 2.90361446e+01, 2.91566265e+01, 2.92771084e+01,\n",
       "       2.93975904e+01, 2.95180723e+01, 2.96385542e+01, 2.97590361e+01,\n",
       "       2.98795181e+01, 3.00000000e+01])"
      ]
     },
     "execution_count": 37,
     "metadata": {},
     "output_type": "execute_result"
    }
   ],
   "source": []
  },
  {
   "cell_type": "code",
   "execution_count": null,
   "metadata": {},
   "outputs": [],
   "source": []
  }
 ],
 "metadata": {
  "kernelspec": {
   "display_name": "Python 3",
   "language": "python",
   "name": "python3"
  },
  "language_info": {
   "codemirror_mode": {
    "name": "ipython",
    "version": 3
   },
   "file_extension": ".py",
   "mimetype": "text/x-python",
   "name": "python",
   "nbconvert_exporter": "python",
   "pygments_lexer": "ipython3",
   "version": "3.7.4"
  }
 },
 "nbformat": 4,
 "nbformat_minor": 2
}
