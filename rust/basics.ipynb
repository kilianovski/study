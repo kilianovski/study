{
 "cells": [
  {
   "cell_type": "code",
   "execution_count": null,
   "metadata": {},
   "outputs": [],
   "source": []
  },
  {
   "cell_type": "code",
   "execution_count": null,
   "metadata": {},
   "outputs": [],
   "source": []
  },
  {
   "cell_type": "code",
   "execution_count": 121,
   "metadata": {},
   "outputs": [
    {
     "data": {
      "text/plain": [
       "4"
      ]
     },
     "execution_count": 121,
     "metadata": {},
     "output_type": "execute_result"
    }
   ],
   "source": [
    "use std::collections::HashMap;\n",
    "\n",
    "let s : String = \"leetcode\".to_string();\n",
    "\n",
    "\n",
    "\n",
    "pub fn first_uniq_char(s: String) -> i32 {\n",
    "    let mut char_count: HashMap<char, i32> = HashMap::new();\n",
    "\n",
    "    for c in s.chars() {\n",
    "        *char_count.entry(c).or_insert(0) += 1;\n",
    "    }\n",
    "    \n",
    "    for (i,c) in s.chars().enumerate() {\n",
    "        if *char_count.entry(c).or_insert(2) == 1 {\n",
    "            return i.try_into().unwrap();\n",
    "        };\n",
    "    }\n",
    "    \n",
    "    return -1;\n",
    "}\n",
    "\n",
    "first_uniq_char(\"lleetcode\".to_string())\n",
    "\n"
   ]
  },
  {
   "cell_type": "code",
   "execution_count": null,
   "metadata": {},
   "outputs": [],
   "source": []
  },
  {
   "cell_type": "code",
   "execution_count": 107,
   "metadata": {},
   "outputs": [
    {
     "data": {
      "text/plain": [
       "true"
      ]
     },
     "execution_count": 107,
     "metadata": {},
     "output_type": "execute_result"
    }
   ],
   "source": []
  },
  {
   "cell_type": "code",
   "execution_count": null,
   "metadata": {},
   "outputs": [],
   "source": []
  },
  {
   "cell_type": "code",
   "execution_count": 9,
   "metadata": {},
   "outputs": [
    {
     "name": "stdout",
     "output_type": "stream",
     "text": [
      "Type of `nice_slice`: &[i32]\n"
     ]
    },
    {
     "data": {
      "text/plain": [
       "()"
      ]
     },
     "execution_count": 9,
     "metadata": {},
     "output_type": "execute_result"
    }
   ],
   "source": [
    "{\n",
    "    let a = [1, 2, 3, 4, 5];\n",
    "    let nice_slice = &a[1..4];\n",
    "\n",
    "println!(\"Type of `nice_slice`: {}\", std::any::type_name::<&[i32]>());\n",
    "}"
   ]
  },
  {
   "cell_type": "code",
   "execution_count": 10,
   "metadata": {},
   "outputs": [
    {
     "name": "stdout",
     "output_type": "stream",
     "text": [
      "Type of the variable is i32\n"
     ]
    }
   ],
   "source": [
    "fn print_type_of<T>(_: &T) {\n",
    "    println!(\"Type of the variable is {}\", std::any::type_name::<T>());\n",
    "}\n",
    "\n",
    "// Example usage:\n",
    "let example_var = 42;\n",
    "print_type_of(&example_var);\n"
   ]
  },
  {
   "cell_type": "code",
   "execution_count": 15,
   "metadata": {},
   "outputs": [
    {
     "name": "stdout",
     "output_type": "stream",
     "text": [
      "Type of the variable is &str\n",
      "Type of the variable is alloc::string::String\n"
     ]
    }
   ],
   "source": [
    "let s = String::from(\"test\");\n",
    "\n",
    "print_type_of(&\"example_var\");\n",
    "\n",
    "print_type_of(&s);\n"
   ]
  },
  {
   "cell_type": "code",
   "execution_count": 26,
   "metadata": {},
   "outputs": [],
   "source": [
    "// {\n",
    "//     let s : String = String::from(\"hello\");\n",
    "//     let r = &s;\n",
    "//     (s, r)\n",
    "// }"
   ]
  },
  {
   "cell_type": "code",
   "execution_count": 39,
   "metadata": {},
   "outputs": [
    {
     "name": "stdout",
     "output_type": "stream",
     "text": [
      "72 72 72\n",
      "101 101 101\n",
      "121 121 121\n"
     ]
    }
   ],
   "source": [
    "fn first_word(s: &String) -> usize {\n",
    "    let bytes = s.as_bytes();\n",
    "\n",
    "    for (i, &item) in bytes.iter().enumerate() {\n",
    "        println!(\"{} {} {}\", item, &item, item);\n",
    "    }\n",
    "\n",
    "    s.len()\n",
    "}\n",
    "\n",
    "\n",
    "let s = String::from(\"Hey\");\n",
    "first_word(&s);"
   ]
  },
  {
   "cell_type": "code",
   "execution_count": 42,
   "metadata": {},
   "outputs": [
    {
     "name": "stdout",
     "output_type": "stream",
     "text": [
      "Bannaa@ 22\n"
     ]
    }
   ],
   "source": [
    "let vec0 = vec![22, 44, 66];\n",
    "println!(\"Bannaa@ {}\", vec0[0]);"
   ]
  },
  {
   "cell_type": "code",
   "execution_count": 50,
   "metadata": {},
   "outputs": [
    {
     "data": {
      "text/plain": [
       "[22, 44, 66, 3]"
      ]
     },
     "execution_count": 50,
     "metadata": {},
     "output_type": "execute_result"
    }
   ],
   "source": [
    "let vec0 = vec![22, 44, 66];\n",
    "// vec0.push(2);\n",
    "let mut vec1 = vec0;\n",
    "vec1.push(3);\n",
    "// vec0\n",
    "vec1"
   ]
  },
  {
   "cell_type": "code",
   "execution_count": 78,
   "metadata": {},
   "outputs": [
    {
     "data": {
      "text/plain": [
       "None"
      ]
     },
     "execution_count": 78,
     "metadata": {},
     "output_type": "execute_result"
    }
   ],
   "source": [
    "use std::collections::HashMap;\n",
    "\n",
    "let mut map = HashMap::<u32, u32>::new();\n",
    "map.insert(3, 42)"
   ]
  },
  {
   "cell_type": "code",
   "execution_count": 82,
   "metadata": {},
   "outputs": [
    {
     "data": {
      "text/plain": [
       "true"
      ]
     },
     "execution_count": 82,
     "metadata": {},
     "output_type": "execute_result"
    }
   ],
   "source": [
    "map.contains_key(&3)"
   ]
  },
  {
   "cell_type": "code",
   "execution_count": 79,
   "metadata": {},
   "outputs": [
    {
     "data": {
      "text/plain": [
       "42"
      ]
     },
     "execution_count": 79,
     "metadata": {},
     "output_type": "execute_result"
    }
   ],
   "source": [
    "map.get_mut(&3).unwrap()"
   ]
  },
  {
   "cell_type": "code",
   "execution_count": 83,
   "metadata": {},
   "outputs": [],
   "source": [
    "struct Package {\n",
    "    sender_country: String,\n",
    "    recipient_country: String,\n",
    "    weight_in_grams: u32,\n",
    "}\n",
    "\n",
    "impl Package {\n",
    "    fn new(sender_country: String, recipient_country: String, weight_in_grams: u32) -> Package {\n",
    "        if weight_in_grams < 10 {\n",
    "            // This is not how you should handle errors in Rust,\n",
    "            // but we will learn about error handling later.\n",
    "            panic!(\"Can not ship a package with weight below 10 grams.\")\n",
    "        } else {\n",
    "            Package {\n",
    "                sender_country,\n",
    "                recipient_country,\n",
    "                weight_in_grams,\n",
    "            }\n",
    "        }\n",
    "    }\n",
    "\n",
    "    fn is_international(&self) -> bool {\n",
    "        self.sender_country == self.recipient_country\n",
    "    }\n",
    "\n",
    "    fn get_fees(&self, cents_per_gram: u32) -> u32 {\n",
    "        self.weight_in_grams * cents_per_gram\n",
    "    }\n",
    "}"
   ]
  },
  {
   "cell_type": "code",
   "execution_count": 86,
   "metadata": {},
   "outputs": [],
   "source": [
    "let sender_country = String::from(\"Canada\");\n",
    "let recipient_country = sender_country.clone();\n",
    "\n",
    "let package = Package::new(sender_country, recipient_country, 1200);"
   ]
  },
  {
   "cell_type": "code",
   "execution_count": 88,
   "metadata": {},
   "outputs": [
    {
     "data": {
      "text/plain": [
       "true"
      ]
     },
     "execution_count": 88,
     "metadata": {},
     "output_type": "execute_result"
    }
   ],
   "source": [
    "package.sender_country == package.recipient_country"
   ]
  },
  {
   "cell_type": "code",
   "execution_count": 71,
   "metadata": {},
   "outputs": [
    {
     "data": {
      "text/plain": [
       "Entry(OccupiedEntry { key: 3, value: \"423\", .. })"
      ]
     },
     "execution_count": 71,
     "metadata": {},
     "output_type": "execute_result"
    }
   ],
   "source": [
    "map.insert(3, \"423\");\n",
    "map.entry(3)"
   ]
  },
  {
   "cell_type": "code",
   "execution_count": 91,
   "metadata": {},
   "outputs": [
    {
     "data": {
      "text/plain": [
       "\"he balloons\""
      ]
     },
     "execution_count": 91,
     "metadata": {},
     "output_type": "execute_result"
    }
   ],
   "source": [
    "let input = \"he cars\";\n",
    "input.replace(\"cars\", \"balloons\")"
   ]
  },
  {
   "cell_type": "code",
   "execution_count": null,
   "metadata": {},
   "outputs": [],
   "source": []
  },
  {
   "cell_type": "code",
   "execution_count": null,
   "metadata": {},
   "outputs": [],
   "source": []
  }
 ],
 "metadata": {
  "kernelspec": {
   "display_name": "Rust",
   "language": "rust",
   "name": "rust"
  },
  "language_info": {
   "codemirror_mode": "rust",
   "file_extension": ".rs",
   "mimetype": "text/rust",
   "name": "rust",
   "pygment_lexer": "rust",
   "version": ""
  }
 },
 "nbformat": 4,
 "nbformat_minor": 2
}
