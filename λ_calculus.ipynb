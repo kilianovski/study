{
 "cells": [
  {
   "cell_type": "markdown",
   "metadata": {},
   "source": [
    "## Questions"
   ]
  },
  {
   "cell_type": "markdown",
   "metadata": {},
   "source": [
    "Q: Why is the word \"calculus\" here? What are the similarities between λ calculus and regular calculus?\n",
    "\n",
    "A: Word \"calculus\" in Latin means \"small pebble\", they were used to do abacus arithmetic. Calculus means \"method of computation\"."
   ]
  },
  {
   "cell_type": "markdown",
   "metadata": {},
   "source": [
    "Q: What is the difference between \"intentional\" equality and \"extensional\" equality?\n",
    "\n",
    "A: ..."
   ]
  },
  {
   "cell_type": "markdown",
   "metadata": {},
   "source": []
  },
  {
   "cell_type": "markdown",
   "metadata": {},
   "source": [
    "Q: What are advantages of λ calculus?\n",
    "\n",
    "A: Easier to write formal proofs about computational logic"
   ]
  },
  {
   "cell_type": "markdown",
   "metadata": {},
   "source": [
    "Q: What is a \"proof\" in lambda calculus? How does it look like?\n",
    "A: "
   ]
  },
  {
   "cell_type": "markdown",
   "metadata": {},
   "source": [
    "## too-deep-but-interesting"
   ]
  },
  {
   "cell_type": "markdown",
   "metadata": {},
   "source": [
    "Church solved Hilbert's [Entscheidungsproblem](https://en.wikipedia.org/wiki/Entscheidungsproblem) (Decision Problem) using Lambda Calculus."
   ]
  },
  {
   "cell_type": "markdown",
   "metadata": {},
   "source": []
  },
  {
   "cell_type": "code",
   "execution_count": null,
   "metadata": {},
   "outputs": [],
   "source": []
  },
  {
   "cell_type": "markdown",
   "metadata": {},
   "source": [
    "## The Fundamental Rules"
   ]
  },
  {
   "cell_type": "markdown",
   "metadata": {},
   "source": [
    "### Booleans"
   ]
  },
  {
   "cell_type": "markdown",
   "metadata": {},
   "source": [
    "Theoretical:\n",
    "\n",
    "```\n",
    "TRUE := λx.λy.x\n",
    "FALSE := λx.λy.y\n",
    "\n",
    "AND := λp.λq.p q FALSE\n",
    "OR  := λp.λq.p TRUE q\n",
    "\n",
    "NOT := λp.p FALSE TRUE\n",
    "\n",
    "XOR := λp.λq.\n",
    "```\n"
   ]
  },
  {
   "cell_type": "markdown",
   "metadata": {},
   "source": []
  },
  {
   "cell_type": "code",
   "execution_count": null,
   "metadata": {},
   "outputs": [],
   "source": []
  },
  {
   "cell_type": "code",
   "execution_count": 3,
   "metadata": {},
   "outputs": [
    {
     "ename": "SyntaxError",
     "evalue": "invalid syntax (2942252043.py, line 4)",
     "output_type": "error",
     "traceback": [
      "\u001b[0;36m  Cell \u001b[0;32mIn[3], line 4\u001b[0;36m\u001b[0m\n\u001b[0;31m    EQ =\u001b[0m\n\u001b[0m         ^\u001b[0m\n\u001b[0;31mSyntaxError\u001b[0m\u001b[0;31m:\u001b[0m invalid syntax\n"
     ]
    }
   ],
   "source": [
    "TRUE = lambda x: lambda y: x\n",
    "FALSE = lambda x: lambda y: y\n",
    "\n",
    "EQ = "
   ]
  },
  {
   "cell_type": "code",
   "execution_count": null,
   "metadata": {},
   "outputs": [
    {
     "data": {
      "text/plain": [
       "<function __main__.<lambda>(x)>"
      ]
     },
     "execution_count": 4,
     "metadata": {},
     "output_type": "execute_result"
    }
   ],
   "source": [
    "TRUE"
   ]
  },
  {
   "cell_type": "code",
   "execution_count": 17,
   "metadata": {},
   "outputs": [
    {
     "data": {
      "text/plain": [
       "(λTRUE, λFALSE)"
      ]
     },
     "execution_count": 17,
     "metadata": {},
     "output_type": "execute_result"
    }
   ],
   "source": [
    "class BoolLambda:\n",
    "    def __repr__(self):\n",
    "        return self.string_value\n",
    "\n",
    "    def __eq__(self, other):\n",
    "        return self.string_value == other.string_value\n",
    "        # ??return EQ(self, other)\n",
    "    \n",
    "class TrueSingleton(BoolLambda):\n",
    "    string_value = 'λTRUE'\n",
    "    def __call__(self, x, y): return x\n",
    "    \n",
    "class FalseSingleton(BoolLambda):\n",
    "    string_value = 'λFALSE'\n",
    "    def __call__(self, x, y): return y\n",
    "\n",
    "\n",
    "TRUE = TrueSingleton()\n",
    "FALSE = FalseSingleton()\n",
    "\n",
    "TRUE, FALSE"
   ]
  },
  {
   "cell_type": "code",
   "execution_count": 18,
   "metadata": {},
   "outputs": [
    {
     "data": {
      "text/plain": [
       "λTRUE"
      ]
     },
     "execution_count": 18,
     "metadata": {},
     "output_type": "execute_result"
    }
   ],
   "source": [
    "TRUE"
   ]
  },
  {
   "cell_type": "code",
   "execution_count": 19,
   "metadata": {},
   "outputs": [
    {
     "name": "stdout",
     "output_type": "stream",
     "text": [
      "AND(λFALSE,λFALSE) = λFALSE\n",
      "AND(λTRUE,λFALSE) = λFALSE\n",
      "AND(λFALSE,λTRUE) = λFALSE\n",
      "AND(λTRUE,λTRUE) = λTRUE\n"
     ]
    }
   ],
   "source": [
    "AND = lambda p,q: p(q,p)\n",
    "\n",
    "for p,q in [(FALSE, FALSE), (TRUE,FALSE), (FALSE,TRUE), (TRUE,TRUE)]:\n",
    "    print(f'AND({p},{q}) = {AND(p,q)}')"
   ]
  },
  {
   "cell_type": "code",
   "execution_count": 20,
   "metadata": {},
   "outputs": [
    {
     "name": "stdout",
     "output_type": "stream",
     "text": [
      "OR(λFALSE,λFALSE) = λFALSE\n",
      "OR(λTRUE,λFALSE) = λTRUE\n",
      "OR(λFALSE,λTRUE) = λTRUE\n",
      "OR(λTRUE,λTRUE) = λTRUE\n"
     ]
    }
   ],
   "source": [
    "OR = lambda p,q: p(p,q)\n",
    "\n",
    "for p,q in [(FALSE, FALSE), (TRUE,FALSE), (FALSE,TRUE), (TRUE,TRUE)]:\n",
    "    print(f'OR({p},{q}) = {OR(p,q)}')"
   ]
  },
  {
   "cell_type": "code",
   "execution_count": 21,
   "metadata": {},
   "outputs": [
    {
     "data": {
      "text/plain": [
       "(λFALSE, λTRUE)"
      ]
     },
     "execution_count": 21,
     "metadata": {},
     "output_type": "execute_result"
    }
   ],
   "source": [
    "NOT = lambda p: p(FALSE,TRUE)\n",
    "\n",
    "NOT(TRUE), NOT(FALSE)"
   ]
  },
  {
   "cell_type": "code",
   "execution_count": 22,
   "metadata": {},
   "outputs": [
    {
     "ename": "TypeError",
     "evalue": "'bool' object is not callable",
     "output_type": "error",
     "traceback": [
      "\u001b[0;31m---------------------------------------------------------------------------\u001b[0m",
      "\u001b[0;31mTypeError\u001b[0m                                 Traceback (most recent call last)",
      "Cell \u001b[0;32mIn[22], line 4\u001b[0m\n\u001b[1;32m      1\u001b[0m XOR \u001b[38;5;241m=\u001b[39m \u001b[38;5;28;01mlambda\u001b[39;00m p,q: NOT (p \u001b[38;5;241m==\u001b[39m q)\n\u001b[1;32m      3\u001b[0m \u001b[38;5;28;01mfor\u001b[39;00m p,q \u001b[38;5;129;01min\u001b[39;00m [(FALSE, FALSE), (TRUE,FALSE), (FALSE,TRUE), (TRUE,TRUE)]:\n\u001b[0;32m----> 4\u001b[0m     \u001b[38;5;28mprint\u001b[39m(\u001b[38;5;124mf\u001b[39m\u001b[38;5;124m'\u001b[39m\u001b[38;5;124mXOR(\u001b[39m\u001b[38;5;132;01m{\u001b[39;00mp\u001b[38;5;132;01m}\u001b[39;00m\u001b[38;5;124m,\u001b[39m\u001b[38;5;132;01m{\u001b[39;00mq\u001b[38;5;132;01m}\u001b[39;00m\u001b[38;5;124m) = \u001b[39m\u001b[38;5;132;01m{\u001b[39;00m\u001b[43mXOR\u001b[49m\u001b[43m(\u001b[49m\u001b[43mp\u001b[49m\u001b[43m,\u001b[49m\u001b[43mq\u001b[49m\u001b[43m)\u001b[49m\u001b[38;5;132;01m}\u001b[39;00m\u001b[38;5;124m'\u001b[39m)\n",
      "Cell \u001b[0;32mIn[22], line 1\u001b[0m, in \u001b[0;36m<lambda>\u001b[0;34m(p, q)\u001b[0m\n\u001b[0;32m----> 1\u001b[0m XOR \u001b[38;5;241m=\u001b[39m \u001b[38;5;28;01mlambda\u001b[39;00m p,q: \u001b[43mNOT\u001b[49m\u001b[43m \u001b[49m\u001b[43m(\u001b[49m\u001b[43mp\u001b[49m\u001b[43m \u001b[49m\u001b[38;5;241;43m==\u001b[39;49m\u001b[43m \u001b[49m\u001b[43mq\u001b[49m\u001b[43m)\u001b[49m\n\u001b[1;32m      3\u001b[0m \u001b[38;5;28;01mfor\u001b[39;00m p,q \u001b[38;5;129;01min\u001b[39;00m [(FALSE, FALSE), (TRUE,FALSE), (FALSE,TRUE), (TRUE,TRUE)]:\n\u001b[1;32m      4\u001b[0m     \u001b[38;5;28mprint\u001b[39m(\u001b[38;5;124mf\u001b[39m\u001b[38;5;124m'\u001b[39m\u001b[38;5;124mXOR(\u001b[39m\u001b[38;5;132;01m{\u001b[39;00mp\u001b[38;5;132;01m}\u001b[39;00m\u001b[38;5;124m,\u001b[39m\u001b[38;5;132;01m{\u001b[39;00mq\u001b[38;5;132;01m}\u001b[39;00m\u001b[38;5;124m) = \u001b[39m\u001b[38;5;132;01m{\u001b[39;00mXOR(p,q)\u001b[38;5;132;01m}\u001b[39;00m\u001b[38;5;124m'\u001b[39m)\n",
      "Cell \u001b[0;32mIn[21], line 1\u001b[0m, in \u001b[0;36m<lambda>\u001b[0;34m(p)\u001b[0m\n\u001b[0;32m----> 1\u001b[0m NOT \u001b[38;5;241m=\u001b[39m \u001b[38;5;28;01mlambda\u001b[39;00m p: \u001b[43mp\u001b[49m\u001b[43m(\u001b[49m\u001b[43mFALSE\u001b[49m\u001b[43m,\u001b[49m\u001b[43mTRUE\u001b[49m\u001b[43m)\u001b[49m\n\u001b[1;32m      3\u001b[0m NOT(TRUE), NOT(FALSE)\n",
      "\u001b[0;31mTypeError\u001b[0m: 'bool' object is not callable"
     ]
    }
   ],
   "source": [
    "XOR = lambda p,q: NOT (p == q)\n",
    "\n",
    "for p,q in [(FALSE, FALSE), (TRUE,FALSE), (FALSE,TRUE), (TRUE,TRUE)]:\n",
    "    print(f'XOR({p},{q}) = {XOR(p,q)}')"
   ]
  },
  {
   "cell_type": "code",
   "execution_count": 24,
   "metadata": {},
   "outputs": [],
   "source": [
    "import random"
   ]
  },
  {
   "cell_type": "code",
   "execution_count": 36,
   "metadata": {},
   "outputs": [
    {
     "name": "stdout",
     "output_type": "stream",
     "text": [
      "\u001b[0;31mSignature:\u001b[0m \u001b[0mrandom\u001b[0m\u001b[0;34m.\u001b[0m\u001b[0mrandint\u001b[0m\u001b[0;34m(\u001b[0m\u001b[0ma\u001b[0m\u001b[0;34m,\u001b[0m \u001b[0mb\u001b[0m\u001b[0;34m)\u001b[0m\u001b[0;34m\u001b[0m\u001b[0;34m\u001b[0m\u001b[0m\n",
      "\u001b[0;31mDocstring:\u001b[0m\n",
      "Return random integer in range [a, b], including both end points.\n",
      "        \n",
      "\u001b[0;31mFile:\u001b[0m      /opt/homebrew/Cellar/python@3.11/3.11.6/Frameworks/Python.framework/Versions/3.11/lib/python3.11/random.py\n",
      "\u001b[0;31mType:\u001b[0m      method"
     ]
    }
   ],
   "source": [
    "random.randint?"
   ]
  },
  {
   "cell_type": "code",
   "execution_count": null,
   "metadata": {},
   "outputs": [],
   "source": []
  },
  {
   "cell_type": "code",
   "execution_count": null,
   "metadata": {},
   "outputs": [],
   "source": []
  },
  {
   "cell_type": "code",
   "execution_count": null,
   "metadata": {},
   "outputs": [],
   "source": []
  },
  {
   "cell_type": "code",
   "execution_count": null,
   "metadata": {},
   "outputs": [],
   "source": []
  },
  {
   "cell_type": "code",
   "execution_count": null,
   "metadata": {},
   "outputs": [],
   "source": []
  },
  {
   "cell_type": "markdown",
   "metadata": {},
   "source": [
    "## Y Combinator"
   ]
  },
  {
   "cell_type": "markdown",
   "metadata": {},
   "source": []
  },
  {
   "cell_type": "markdown",
   "metadata": {},
   "source": [
    "## Resources"
   ]
  },
  {
   "cell_type": "markdown",
   "metadata": {},
   "source": [
    " - https://plato.stanford.edu/entries/lambda-calculus/\n",
    " - Lambda talk: https://github.com/glebec/lambda-talk\n",
    " - λ Calculus Interpreter https://jacksongl.github.io/files/demo/lambda/index.htm\n",
    " - A circuit-like notation for lambda calculus https://csvoss.com//circuit-notation-lambda-calculus\n",
    " - Ideas about lambda calculus game https://github.com/melvinzhang/lambda-calculus-game"
   ]
  }
 ],
 "metadata": {
  "kernelspec": {
   "display_name": "Python 3",
   "language": "python",
   "name": "python3"
  },
  "language_info": {
   "codemirror_mode": {
    "name": "ipython",
    "version": 3
   },
   "file_extension": ".py",
   "mimetype": "text/x-python",
   "name": "python",
   "nbconvert_exporter": "python",
   "pygments_lexer": "ipython3",
   "version": "3.11.6"
  }
 },
 "nbformat": 4,
 "nbformat_minor": 2
}
