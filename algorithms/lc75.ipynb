{
 "cells": [
  {
   "cell_type": "code",
   "execution_count": 18,
   "metadata": {},
   "outputs": [
    {
     "data": {
      "text/plain": [
       "{'AB'}"
      ]
     },
     "execution_count": 18,
     "metadata": {},
     "output_type": "execute_result"
    }
   ],
   "source": [
    "import math\n",
    "\n",
    "\n",
    "def is_divisor(s, i):\n",
    "    n_chunks = math.ceil(len(s) / i)\n",
    "\n",
    "    sub = s[:i]\n",
    "\n",
    "    for chunk_i in range(1, n_chunks):\n",
    "        chunk = s[chunk_i*i:(chunk_i+1)*i]\n",
    "        if sub != chunk: return False\n",
    "        sub = chunk\n",
    "    return True\n",
    "\n",
    "\n",
    "def get_divisors(s):\n",
    "    result = []\n",
    "    for i in range(1, len(s)+1):\n",
    "        if is_divisor(s, i):\n",
    "            result.append(s[:i])\n",
    "\n",
    "    return result\n",
    "\n",
    "\n",
    "def get_common_divisors(s1, s2):\n",
    "    d1 = get_divisors(s1)\n",
    "    d2 = get_divisors(s2)\n",
    "    \n",
    "    intersection = set(d1).intersection(set(d2))\n",
    "    return intersection\n",
    "\n",
    "def get_gcd(s1, s2):\n",
    "    cd = get_common_divisors(s1, s2)\n",
    "    if len(cd) == 0: return \"\"\n",
    "    return sorted(list(cd), key=len)[-1]\n"
   ]
  },
  {
   "cell_type": "code",
   "execution_count": 24,
   "metadata": {},
   "outputs": [
    {
     "data": {
      "text/plain": [
       "[]"
      ]
     },
     "execution_count": 24,
     "metadata": {},
     "output_type": "execute_result"
    }
   ],
   "source": [
    "s1 = \"AbA\"\n",
    "s2 = \"AAAA\"\n",
    "\n",
    "cd = get_common_divisors(s1, s2)\n",
    "\n",
    "\n",
    "\n",
    "sorted(list(cd), key=len)"
   ]
  },
  {
   "cell_type": "code",
   "execution_count": 15,
   "metadata": {},
   "outputs": [
    {
     "data": {
      "text/plain": [
       "['AB', 'ABAB', 'ABABABAB']"
      ]
     },
     "execution_count": 15,
     "metadata": {},
     "output_type": "execute_result"
    }
   ],
   "source": [
    "get_divisors(\"AB\"*4)"
   ]
  },
  {
   "cell_type": "code",
   "execution_count": null,
   "metadata": {},
   "outputs": [],
   "source": []
  }
 ],
 "metadata": {
  "kernelspec": {
   "display_name": "Python 3",
   "language": "python",
   "name": "python3"
  },
  "language_info": {
   "codemirror_mode": {
    "name": "ipython",
    "version": 3
   },
   "file_extension": ".py",
   "mimetype": "text/x-python",
   "name": "python",
   "nbconvert_exporter": "python",
   "pygments_lexer": "ipython3",
   "version": "3.11.7"
  }
 },
 "nbformat": 4,
 "nbformat_minor": 2
}
