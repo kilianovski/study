{
 "cells": [
  {
   "cell_type": "markdown",
   "metadata": {},
   "source": [
    "## Daily Temperatures"
   ]
  },
  {
   "cell_type": "code",
   "execution_count": 23,
   "metadata": {},
   "outputs": [
    {
     "data": {
      "text/plain": [
       "[1, 1, 1, 0]"
      ]
     },
     "execution_count": 23,
     "metadata": {},
     "output_type": "execute_result"
    }
   ],
   "source": [
    "temperatures = [30,40,50,60]\n",
    "\n",
    "\n",
    "result = [0]*len(temperatures)\n",
    "stack = []\n",
    "\n",
    "for i,t in enumerate(temperatures):\n",
    "    \n",
    "    while stack and t > temperatures [stack[-1]]:\n",
    "        i_other = stack.pop()\n",
    "        result [ i_other ] = i - i_other\n",
    "    \n",
    "    stack.append(i)\n",
    "\n",
    "result"
   ]
  },
  {
   "cell_type": "markdown",
   "metadata": {},
   "source": [
    "### Iterate from the end?"
   ]
  },
  {
   "cell_type": "code",
   "execution_count": 31,
   "metadata": {},
   "outputs": [
    {
     "data": {
      "text/plain": [
       "[8, 1, 5, 4, 3, 2, 1, 1, 0, 0]"
      ]
     },
     "execution_count": 31,
     "metadata": {},
     "output_type": "execute_result"
    }
   ],
   "source": [
    "temperatures = [30,40,50,60]\n",
    "temperatures = [73,74,75,71,69,72,76,73]\n",
    "# answer     = [ 1, 1, 3, 2, 1, 1, 0, 0]\n",
    "temperatures = [89,62,70,58,47,47,46,76,100,70]\n",
    "\n",
    "# Output\n",
    "# Expected\n",
    "# [8,1,5,4,1,2,1,1,0,0]\n",
    "# [8,1,5,4,3,2,1,1,0,0]\n",
    "\n",
    "result = [0]*len(temperatures)\n",
    "\n",
    "# this stack keeps candidates for\n",
    "# next greater temperature for current index\n",
    "stack = []\n",
    "\n",
    "for i in range(len(result)-1, -1, -1):\n",
    "\n",
    "    t = temperatures[i]\n",
    "\n",
    "    while stack and t >= temperatures [stack[-1]]:\n",
    "        stack.pop()\n",
    "\n",
    "    if len(stack) > 0:\n",
    "        result[i] = stack[-1] - i\n",
    "\n",
    "    stack.append(i)\n",
    "\n",
    "\n",
    "result"
   ]
  },
  {
   "cell_type": "markdown",
   "metadata": {},
   "source": [
    "## Next Greater Element I"
   ]
  },
  {
   "cell_type": "markdown",
   "metadata": {},
   "source": [
    " - Why do they need to separate arrays? How is it different from NGE in nums?"
   ]
  },
  {
   "cell_type": "code",
   "execution_count": null,
   "metadata": {},
   "outputs": [],
   "source": []
  },
  {
   "cell_type": "markdown",
   "metadata": {},
   "source": [
    "### FOLLOW UP: O(nums1.length + nums2.length) solution!"
   ]
  },
  {
   "cell_type": "code",
   "execution_count": 50,
   "metadata": {},
   "outputs": [],
   "source": [
    "nums1 = [2,4]\n",
    "nums2 = [1,2,3,4]"
   ]
  },
  {
   "cell_type": "code",
   "execution_count": 55,
   "metadata": {},
   "outputs": [],
   "source": [
    "def next_greatest_element(nums):\n",
    "    nge  = [0]*len(nums)\n",
    "    stack = []\n",
    "\n",
    "    for i,n in enumerate(nums):\n",
    "        \n",
    "        while stack and n > nums[stack[-1]]:\n",
    "            prev_i = stack.pop()\n",
    "            nge[prev_i] = n\n",
    "\n",
    "        stack.append(i)\n",
    "\n",
    "    return nge"
   ]
  },
  {
   "cell_type": "code",
   "execution_count": 56,
   "metadata": {},
   "outputs": [
    {
     "data": {
      "text/plain": [
       "[2, 3, 4, 0]"
      ]
     },
     "execution_count": 56,
     "metadata": {},
     "output_type": "execute_result"
    }
   ],
   "source": [
    "next_greatest_element(nums2)"
   ]
  },
  {
   "cell_type": "code",
   "execution_count": 57,
   "metadata": {},
   "outputs": [
    {
     "data": {
      "text/plain": [
       "[2, 4]"
      ]
     },
     "execution_count": 57,
     "metadata": {},
     "output_type": "execute_result"
    }
   ],
   "source": [
    "nums1"
   ]
  },
  {
   "cell_type": "code",
   "execution_count": 58,
   "metadata": {},
   "outputs": [
    {
     "data": {
      "text/plain": [
       "[3, 0]"
      ]
     },
     "execution_count": 58,
     "metadata": {},
     "output_type": "execute_result"
    }
   ],
   "source": [
    "ans = []\n",
    "\n",
    "nge  = next_greatest_element(nums2)\n",
    "n2nge_i = {nums2[i]:nge[i] for i in range(len(nums2))}\n",
    "ans = [n2nge_i[n] for n in nums1]\n",
    "ans"
   ]
  },
  {
   "cell_type": "markdown",
   "metadata": {},
   "source": [
    "#### inline solution"
   ]
  },
  {
   "cell_type": "code",
   "execution_count": 59,
   "metadata": {},
   "outputs": [],
   "source": [
    "nums1 = [4,1,2]\n",
    "nums2 = [1,3,4,2]\n",
    "# Output: [-1,3,-1]"
   ]
  },
  {
   "cell_type": "code",
   "execution_count": 70,
   "metadata": {},
   "outputs": [
    {
     "data": {
      "text/plain": [
       "[-1, 3, -1]"
      ]
     },
     "execution_count": 70,
     "metadata": {},
     "output_type": "execute_result"
    }
   ],
   "source": [
    "# nums2 = [13, 7, 6, 12, 10]\n",
    "\n",
    "nums1 = [4,1,2]\n",
    "nums2 = [1,3,4,2]\n",
    "\n",
    "n2nge = {}\n",
    "\n",
    "stack = []\n",
    "for i in range(len(nums2)):\n",
    "    \n",
    "    while stack and nums2[i] > nums2[stack[-1]]:\n",
    "        prev_i = stack.pop()\n",
    "        n2nge[nums2[prev_i]] = nums2[i]\n",
    "    \n",
    "    stack.append( i )\n",
    "    \n",
    "\n",
    "ans = [n2nge.get(n, -1) for n in nums1]\n",
    "ans"
   ]
  },
  {
   "cell_type": "markdown",
   "metadata": {},
   "source": [
    "#### Better! inline solution"
   ]
  },
  {
   "cell_type": "code",
   "execution_count": 74,
   "metadata": {},
   "outputs": [
    {
     "data": {
      "text/plain": [
       "[-1, 3, -1]"
      ]
     },
     "execution_count": 74,
     "metadata": {},
     "output_type": "execute_result"
    }
   ],
   "source": [
    "nums1 = [4,1,2]\n",
    "nums2 = [1,3,4,2]\n",
    "\n",
    "n2i = {n:i for i,n in enumerate(nums1)}\n",
    "\n",
    "ans = [-1]*len(n2i)\n",
    "stack = []\n",
    "for i,n in enumerate(nums2):\n",
    "\n",
    "    while stack and n > stack[-1]:\n",
    "        val = stack.pop()\n",
    "        idx = n2i.get()\n",
    "        ans[stack.pop()] = nums2[i]\n",
    "\n",
    "    ans_i = n2i.get(n, None )\n",
    "    if n in n2i:\n",
    "        stack.append( ans_i )\n",
    "\n",
    "ans"
   ]
  },
  {
   "cell_type": "code",
   "execution_count": 75,
   "metadata": {},
   "outputs": [],
   "source": [
    "## Next Greater Element II"
   ]
  },
  {
   "cell_type": "code",
   "execution_count": 76,
   "metadata": {},
   "outputs": [],
   "source": [
    "nums = [1,2,1]"
   ]
  },
  {
   "cell_type": "code",
   "execution_count": 79,
   "metadata": {},
   "outputs": [
    {
     "data": {
      "text/plain": [
       "[2, -1, 2]"
      ]
     },
     "execution_count": 79,
     "metadata": {},
     "output_type": "execute_result"
    }
   ],
   "source": [
    "nge = [-1]*len(nums)\n",
    "stack = []\n",
    "\n",
    "for _ in range(2):\n",
    "    for i,n in enumerate(nums):\n",
    "        \n",
    "        while stack and n > nums[stack[-1]]:\n",
    "            nge[stack.pop()] = n\n",
    "        \n",
    "        stack.append(i)\n",
    "\n",
    "nge"
   ]
  },
  {
   "cell_type": "code",
   "execution_count": null,
   "metadata": {},
   "outputs": [],
   "source": []
  },
  {
   "cell_type": "markdown",
   "metadata": {},
   "source": [
    "## Generate Parentheses"
   ]
  },
  {
   "cell_type": "markdown",
   "metadata": {},
   "source": [
    "Main ideas:\n",
    "\n",
    "  - It is a tree traversal\n",
    "  - I at first sorted in a recursive way\n",
    "  - something to do with \"backtracking\"?"
   ]
  },
  {
   "cell_type": "markdown",
   "metadata": {},
   "source": [
    "### 16.10.23 Solution\n",
    "\n",
    " - Using \"backtracking\"?\n",
    " - Do not use recursion"
   ]
  },
  {
   "cell_type": "code",
   "execution_count": 6,
   "metadata": {},
   "outputs": [
    {
     "data": {
      "text/plain": [
       "['()']"
      ]
     },
     "execution_count": 6,
     "metadata": {},
     "output_type": "execute_result"
    }
   ],
   "source": [
    "n = 2\n",
    "\n",
    "results = []\n",
    "\n",
    "tasks = [(0,0, '')]\n",
    "\n",
    "while len(tasks) > 0:\n",
    "    opened, closed, string = tasks.pop()\n",
    "    \n",
    "    if opened == closed == n:\n",
    "        results.append(string)\n",
    "        continue\n",
    "\n",
    "    if opened < n:\n",
    "        tasks.append( (opened+1, closed, string+'(') )\n",
    "    \n",
    "    if closed < opened:\n",
    "        tasks.append( (opened, closed+1, string+')') )\n",
    "\n",
    "results"
   ]
  },
  {
   "cell_type": "code",
   "execution_count": 18,
   "metadata": {},
   "outputs": [
    {
     "data": {
      "text/plain": [
       "9694845"
      ]
     },
     "execution_count": 18,
     "metadata": {},
     "output_type": "execute_result"
    }
   ],
   "source": [
    "n = 15\n",
    "\n",
    "\n",
    "results = []\n",
    "\n",
    "tasks = [(0,0, '')]\n",
    "\n",
    "while len(tasks) > 0:\n",
    "    opened, closed, string = tasks.pop()\n",
    "\n",
    "    if opened == closed == n:\n",
    "        results.append(string)\n",
    "        continue\n",
    "    \n",
    "    if opened < n:\n",
    "        tasks.append( (opened+1, closed, string+'(') )\n",
    "\n",
    "    if closed < opened:\n",
    "        tasks.append( (opened, closed+1, string+')') )\n",
    "\n",
    "\n",
    "len(results)"
   ]
  },
  {
   "cell_type": "code",
   "execution_count": null,
   "metadata": {},
   "outputs": [],
   "source": [
    "# I want to draw the function that \n",
    "# relates number of valid parentheses to the number of all possible parentheses"
   ]
  },
  {
   "cell_type": "code",
   "execution_count": null,
   "metadata": {},
   "outputs": [],
   "source": []
  },
  {
   "cell_type": "code",
   "execution_count": null,
   "metadata": {},
   "outputs": [],
   "source": []
  },
  {
   "cell_type": "markdown",
   "metadata": {},
   "source": [
    "## Product of Array Except Self"
   ]
  },
  {
   "cell_type": "code",
   "execution_count": null,
   "metadata": {},
   "outputs": [],
   "source": []
  },
  {
   "cell_type": "markdown",
   "metadata": {},
   "source": [
    "## Group Anagrams"
   ]
  },
  {
   "cell_type": "code",
   "execution_count": null,
   "metadata": {},
   "outputs": [],
   "source": []
  },
  {
   "cell_type": "code",
   "execution_count": null,
   "metadata": {},
   "outputs": [],
   "source": []
  }
 ],
 "metadata": {
  "kernelspec": {
   "display_name": "Python 3",
   "language": "python",
   "name": "python3"
  },
  "language_info": {
   "codemirror_mode": {
    "name": "ipython",
    "version": 3
   },
   "file_extension": ".py",
   "mimetype": "text/x-python",
   "name": "python",
   "nbconvert_exporter": "python",
   "pygments_lexer": "ipython3",
   "version": "3.11.6"
  },
  "orig_nbformat": 4
 },
 "nbformat": 4,
 "nbformat_minor": 2
}
