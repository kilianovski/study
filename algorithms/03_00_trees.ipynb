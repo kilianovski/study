{
 "cells": [
  {
   "cell_type": "code",
   "execution_count": 8,
   "metadata": {},
   "outputs": [],
   "source": [
    "# Definition for a binary tree node.\n",
    "class TreeNode:\n",
    "    def __init__(self, val=0, left=None, right=None):\n",
    "        self.val = val\n",
    "        self.left = left\n",
    "        self.right = right\n",
    "        \n",
    "    def __repr__(self):\n",
    "        return f'Tree({self.val}, left={self.left}, right={self.right})'"
   ]
  },
  {
   "cell_type": "markdown",
   "metadata": {},
   "source": [
    "## Draw it!"
   ]
  },
  {
   "cell_type": "code",
   "execution_count": 17,
   "metadata": {},
   "outputs": [
    {
     "data": {
      "text/html": [
       "\n",
       "<style>\n",
       "    .output-plaintext, .output-stream, .output {\n",
       "        font-family: Fira Code; # Any monospaced font should work\n",
       "        line-height: 1.3 !important;\n",
       "        font-size: 14px !important;\n",
       "    }\n",
       "</style>\n"
      ],
      "text/plain": [
       "<IPython.core.display.HTML object>"
      ]
     },
     "execution_count": 17,
     "metadata": {},
     "output_type": "execute_result"
    }
   ],
   "source": [
    "from IPython.core.display import HTML\n",
    "HTML(r\"\"\"\n",
    "<style>\n",
    "    .output-plaintext, .output-stream, .output {\n",
    "        font-family: Fira Code; # Any monospaced font should work\n",
    "        line-height: 1.3 !important;\n",
    "        font-size: 14px !important;\n",
    "    }\n",
    "</style>\n",
    "\"\"\")"
   ]
  },
  {
   "cell_type": "code",
   "execution_count": 19,
   "metadata": {},
   "outputs": [],
   "source": []
  },
  {
   "cell_type": "code",
   "execution_count": 21,
   "metadata": {},
   "outputs": [
    {
     "name": "stdout",
     "output_type": "stream",
     "text": [
      "left=['    2']right=['    3']\n",
      "       111     \n",
      "         |\n",
      "    2         3\n",
      "               \n",
      "               \n",
      "               \n",
      "               \n"
     ]
    }
   ],
   "source": [
    "import sys\n",
    "import math\n",
    "\n",
    "# Steps:\n",
    "# 1. Construct a DS\n",
    "# 2. Create a list of fully-populated layers, with None's\n",
    "# 3. Convert such a list to ASCII image.\n",
    "\n",
    "\n",
    "# OR: create list in place!\n",
    "# You know how many nodes should be at each level, right?\n",
    "# So, you can create level \"below\" and pre-populate it with placeholders (or None's)\n",
    "# After you get to \"i\", put the actual value over there\n",
    "\n",
    "PAD = '_'\n",
    "PAD = ' '\n",
    "\n",
    "def pad(n, p=PAD): return p*n\n",
    "\n",
    "def leftpad(s, W, p=PAD):\n",
    "    n = W - len(s)\n",
    "    return pad(n, p) + s\n",
    "\n",
    "\n",
    "def rightpad(s, W, p=PAD):\n",
    "    n = W - len(s)\n",
    "    return s + pad(n, p)\n",
    "\n",
    "W = 5\n",
    "root = TreeNode(111, TreeNode(2), TreeNode(3))\n",
    "\n",
    "def draw(root):\n",
    "    if not root: return [[]]\n",
    "\n",
    "    level = leftpad(str(root.val), W)\n",
    "    left = draw(root.left)\n",
    "    right = draw(root.right)\n",
    "\n",
    "    width = len(left[0]) + len(right[0])\n",
    "    if width == 0:\n",
    "        return [level]\n",
    "    else:\n",
    "        print(f'{left=}{right=}')\n",
    "        depth = max( len(left[0]), len(right[0]) )\n",
    "        # blocks = [rightpad ( leftpad(level, len(left[0]), '_'), len(right[0]))]\n",
    "        blocks = [\n",
    "            (PAD*len(left[0]) + level) + PAD*len(right[0]),\n",
    "            rightpad( ( (PAD*(len(left[0]) + W - 1))+'|' ), width )\n",
    "        ]\n",
    "\n",
    "        for i in range(depth):\n",
    "            \n",
    "            if i >= len(left):\n",
    "                left_line = PAD*len(left[0])\n",
    "            else:\n",
    "                left_line = left[i]\n",
    "            \n",
    "            if i >= len(right):\n",
    "                right_line = PAD*len(right[0])\n",
    "            else:\n",
    "                right_line = right[i]\n",
    "            \n",
    "            blocks.append(left_line + (' '*W) + right_line)\n",
    "        \n",
    "        return blocks\n",
    "\n",
    "    \n",
    "print(\"\\n\".join( draw(root) ))\n"
   ]
  },
  {
   "cell_type": "code",
   "execution_count": 23,
   "metadata": {},
   "outputs": [
    {
     "data": {
      "text/plain": [
       "'  asdf'"
      ]
     },
     "execution_count": 23,
     "metadata": {},
     "output_type": "execute_result"
    }
   ],
   "source": [
    "\"  asdf \".rstrip()"
   ]
  },
  {
   "cell_type": "code",
   "execution_count": 12,
   "metadata": {},
   "outputs": [
    {
     "name": "stdout",
     "output_type": "stream",
     "text": [
      "42__\n"
     ]
    },
    {
     "data": {
      "text/plain": [
       "''"
      ]
     },
     "execution_count": 12,
     "metadata": {},
     "output_type": "execute_result"
    }
   ],
   "source": [
    "W = 4\n",
    "n = '42'\n",
    "print(n.ljust(W,'_'), )\n",
    "'_'*0"
   ]
  },
  {
   "cell_type": "code",
   "execution_count": null,
   "metadata": {},
   "outputs": [],
   "source": []
  },
  {
   "cell_type": "code",
   "execution_count": null,
   "metadata": {},
   "outputs": [],
   "source": []
  },
  {
   "cell_type": "code",
   "execution_count": 13,
   "metadata": {},
   "outputs": [
    {
     "name": "stdout",
     "output_type": "stream",
     "text": [
      "Tree(1, left=Tree(2, left=Tree(4, left=None, right=None), right=Tree(5, left=None, right=None)), right=Tree(3, left=Tree(6, left=None, right=None), right=None))\n"
     ]
    }
   ],
   "source": [
    "from collections import deque\n",
    "\n",
    "\n",
    "# def list2tree(li):\n",
    "#     queue = dequ\n",
    "li = [1,2,3,4,5,6]\n",
    "\n",
    "root = TreeNode(li[0])\n",
    "q = deque([root])\n",
    "i = 1\n",
    "\n",
    "while i < len(li):\n",
    "    if not q[0].left:\n",
    "        tree = TreeNode(li[i])\n",
    "        q[0].left = tree\n",
    "        q.append(tree)\n",
    "    else:\n",
    "        tree = TreeNode(li[i])\n",
    "        old = q.popleft()\n",
    "        q.append(tree)\n",
    "        old.right = tree\n",
    "\n",
    "    i += 1\n",
    "\n",
    "print(root)"
   ]
  },
  {
   "cell_type": "code",
   "execution_count": 14,
   "metadata": {},
   "outputs": [
    {
     "ename": "SyntaxError",
     "evalue": "invalid syntax (3701318483.py, line 3)",
     "output_type": "error",
     "traceback": [
      "\u001b[0;36m  Cell \u001b[0;32mIn[14], line 3\u001b[0;36m\u001b[0m\n\u001b[0;31m    q =\u001b[0m\n\u001b[0m        ^\u001b[0m\n\u001b[0;31mSyntaxError\u001b[0m\u001b[0;31m:\u001b[0m invalid syntax\n"
     ]
    }
   ],
   "source": [
    "li = []\n",
    "\n",
    "q = \n",
    "\n",
    "li"
   ]
  },
  {
   "cell_type": "code",
   "execution_count": null,
   "metadata": {},
   "outputs": [],
   "source": [
    "# def draw_btree\n",
    "\n"
   ]
  },
  {
   "cell_type": "code",
   "execution_count": 1,
   "metadata": {},
   "outputs": [
    {
     "data": {
      "text/plain": [
       "-6176776202422678297"
      ]
     },
     "execution_count": 1,
     "metadata": {},
     "output_type": "execute_result"
    }
   ],
   "source": [
    "hash('a')"
   ]
  },
  {
   "cell_type": "code",
   "execution_count": null,
   "metadata": {},
   "outputs": [],
   "source": [
    "list"
   ]
  },
  {
   "cell_type": "code",
   "execution_count": null,
   "metadata": {},
   "outputs": [],
   "source": []
  },
  {
   "cell_type": "markdown",
   "metadata": {},
   "source": [
    "## 222. Count Complete Tree Nodes"
   ]
  },
  {
   "cell_type": "markdown",
   "metadata": {},
   "source": []
  }
 ],
 "metadata": {
  "kernelspec": {
   "display_name": "base",
   "language": "python",
   "name": "python3"
  },
  "language_info": {
   "codemirror_mode": {
    "name": "ipython",
    "version": 3
   },
   "file_extension": ".py",
   "mimetype": "text/x-python",
   "name": "python",
   "nbconvert_exporter": "python",
   "pygments_lexer": "ipython3",
   "version": "3.11.4"
  },
  "orig_nbformat": 4
 },
 "nbformat": 4,
 "nbformat_minor": 2
}
