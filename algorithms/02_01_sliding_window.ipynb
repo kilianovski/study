{
 "cells": [
  {
   "cell_type": "markdown",
   "metadata": {},
   "source": [
    "## 727. Minimum Window Subsequence"
   ]
  },
  {
   "cell_type": "markdown",
   "metadata": {},
   "source": [
    "### Brute Force"
   ]
  },
  {
   "cell_type": "code",
   "execution_count": 1,
   "metadata": {},
   "outputs": [],
   "source": [
    "def is_subsequence(s1, s2):\n",
    "    i = 0\n",
    "    j = 0\n",
    "\n",
    "    while i < len(s1) and j < len(s2):\n",
    "        if s1[i] == s2[j]: j += 1\n",
    "        i += 1\n",
    "    \n",
    "    return j == len(s2)\n",
    "\n",
    "\n",
    "class Solution:\n",
    "    def minWindow(self, s1: str, s2: str) -> str:\n",
    "        substring = \"\"\n",
    "        j = 0\n",
    "\n",
    "        for i in range(len(s1)):\n",
    "            candidate_substring = s1[j:i+1]\n",
    "    \n",
    "            while is_subsequence(candidate_substring, s2):\n",
    "                if substring == \"\" or len(candidate_substring) < len(substring):\n",
    "                    substring = candidate_substring\n",
    "                \n",
    "                j += 1\n",
    "                candidate_substring = s1[j:i+1]\n",
    "\n",
    "        return substring\n"
   ]
  },
  {
   "cell_type": "code",
   "execution_count": 2,
   "metadata": {},
   "outputs": [],
   "source": [
    "test_cases = [\n",
    "    (\"abc\", \"ac\"),\n",
    "    (\"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\",\n",
    "    \"hrnyketjtfespkjajrliddodmjtzjssljryskoxbkeppujsqpinjjtloyjzqijjznbdxyiqobsqlxklasfqpnkrebgdpclnrmijf\")\n",
    "]"
   ]
  },
  {
   "cell_type": "code",
   "execution_count": 3,
   "metadata": {},
   "outputs": [
    {
     "name": "stdout",
     "output_type": "stream",
     "text": [
      "Time: 0.01ms, Size of s1: 3, Size of s2: 2\n",
      "Time: 3561.61ms, Size of s1: 10000, Size of s2: 100\n"
     ]
    }
   ],
   "source": [
    "import time\n",
    "\n",
    "for s1, s2 in test_cases:\n",
    "    start_time = time.time()\n",
    "    res = Solution().minWindow(s1, s2)\n",
    "    end_time = time.time()\n",
    "    elapsed_time = (end_time - start_time) * 1000  # Convert to milliseconds\n",
    "    print(f\"Time: {elapsed_time:.2f}ms, Size of s1: {len(s1)}, Size of s2: {len(s2)}\")"
   ]
  },
  {
   "cell_type": "markdown",
   "metadata": {},
   "source": []
  },
  {
   "cell_type": "code",
   "execution_count": null,
   "metadata": {},
   "outputs": [],
   "source": []
  },
  {
   "cell_type": "markdown",
   "metadata": {},
   "source": [
    "## 424. Longest Repeating Character Replacement"
   ]
  },
  {
   "cell_type": "markdown",
   "metadata": {},
   "source": [
    "### Naive solution "
   ]
  },
  {
   "cell_type": "markdown",
   "metadata": {},
   "source": [
    "The same as 3. Longest Substring Without Repeating Characters"
   ]
  },
  {
   "cell_type": "code",
   "execution_count": 11,
   "metadata": {},
   "outputs": [],
   "source": [
    "s = \"AABABBA\"\n",
    "k = 1"
   ]
  },
  {
   "cell_type": "code",
   "execution_count": 18,
   "metadata": {},
   "outputs": [],
   "source": [
    "s = \"AAAB\"\n",
    "k = 1"
   ]
  },
  {
   "cell_type": "code",
   "execution_count": 19,
   "metadata": {},
   "outputs": [
    {
     "data": {
      "text/plain": [
       "4"
      ]
     },
     "execution_count": 19,
     "metadata": {},
     "output_type": "execute_result"
    }
   ],
   "source": [
    "best_len = 0\n",
    "l = 0\n",
    "count = {'A': 0}\n",
    "\n",
    "\n",
    "for i,c in enumerate(s):\n",
    "    count[c] = 1 + count.get(c, 0)\n",
    "\n",
    "    while sum(count.values()) - max(count.values()) > k:\n",
    "        count[s[l]] -= 1\n",
    "        l += 1\n",
    "\n",
    "    best_len = max(best_len, sum(count.values()))\n",
    "\n",
    "best_len"
   ]
  },
  {
   "cell_type": "code",
   "execution_count": null,
   "metadata": {},
   "outputs": [],
   "source": []
  },
  {
   "cell_type": "markdown",
   "metadata": {},
   "source": [
    "## 567. Permutation in String\n"
   ]
  },
  {
   "cell_type": "code",
   "execution_count": 22,
   "metadata": {},
   "outputs": [],
   "source": []
  },
  {
   "cell_type": "code",
   "execution_count": 46,
   "metadata": {},
   "outputs": [],
   "source": [
    "s1 = \"adc\"\n",
    "s2 = \"dcda\""
   ]
  },
  {
   "cell_type": "code",
   "execution_count": 56,
   "metadata": {},
   "outputs": [
    {
     "data": {
      "text/plain": [
       "True"
      ]
     },
     "execution_count": 56,
     "metadata": {},
     "output_type": "execute_result"
    }
   ],
   "source": [
    "from collections import Counter\n",
    "\n",
    "\n",
    "def contains_permutation(s1, s2):\n",
    "    k = len(s1)\n",
    "    counter = Counter(s1)\n",
    "    counter_2 = Counter(s2[:k])\n",
    "    \n",
    "    if counter_2 == counter: return True\n",
    "    # print('k+1, len(s2)', k+1, len(s2))\n",
    "    for i in range(k, len(s2)):\n",
    "        # print('i, i-k', i, i-k)\n",
    "        counter_2[s2[i-k]] -= 1\n",
    "        counter_2[s2[i]] = 1 + counter_2.get(s2[i], 0)\n",
    "        if counter_2 == counter: return True\n",
    "    return False\n",
    "\n",
    "\n",
    "contains_permutation('adc', 'dcda')"
   ]
  },
  {
   "cell_type": "code",
   "execution_count": 57,
   "metadata": {},
   "outputs": [
    {
     "data": {
      "text/plain": [
       "False"
      ]
     },
     "execution_count": 57,
     "metadata": {},
     "output_type": "execute_result"
    }
   ],
   "source": [
    "s1 = \"ab\"\n",
    "s2 = \"eidboaoo\"\n",
    "\n",
    "\n",
    "contains_permutation(s1, s2)"
   ]
  },
  {
   "cell_type": "code",
   "execution_count": null,
   "metadata": {},
   "outputs": [],
   "source": []
  },
  {
   "cell_type": "markdown",
   "metadata": {},
   "source": [
    "## 46. Permutations"
   ]
  },
  {
   "cell_type": "code",
   "execution_count": 2,
   "metadata": {},
   "outputs": [],
   "source": [
    "def int_sum(n):\n",
    "    if n == 0: return 0\n",
    "    return n + int_sum(n-1)"
   ]
  },
  {
   "cell_type": "code",
   "execution_count": 8,
   "metadata": {},
   "outputs": [
    {
     "data": {
      "text/plain": [
       "2001000"
      ]
     },
     "execution_count": 8,
     "metadata": {},
     "output_type": "execute_result"
    }
   ],
   "source": [
    "int_sum(2000)"
   ]
  },
  {
   "cell_type": "code",
   "execution_count": 11,
   "metadata": {},
   "outputs": [],
   "source": [
    "def grid_path(n,m):\n",
    "    if min(n,m) == 1: return 1\n",
    "    return grid_path(n-1, m) + grid_path(n,m-1)"
   ]
  },
  {
   "cell_type": "code",
   "execution_count": 15,
   "metadata": {},
   "outputs": [
    {
     "data": {
      "text/plain": [
       "20"
      ]
     },
     "execution_count": 15,
     "metadata": {},
     "output_type": "execute_result"
    }
   ],
   "source": [
    "grid_path(4,4)"
   ]
  },
  {
   "cell_type": "code",
   "execution_count": 16,
   "metadata": {},
   "outputs": [],
   "source": [
    "# Write a function\n",
    "# That counts in how many ways you can partition_n_ objects\n",
    "# Using parts up to _k_"
   ]
  },
  {
   "cell_type": "markdown",
   "metadata": {},
   "source": [
    "#### 1. Simplest possible inputs\n",
    "\n",
    "(any n, k = 1) = 1\n",
    "\n"
   ]
  },
  {
   "cell_type": "code",
   "execution_count": null,
   "metadata": {},
   "outputs": [],
   "source": []
  },
  {
   "cell_type": "markdown",
   "metadata": {},
   "source": [
    "### Problem"
   ]
  },
  {
   "cell_type": "code",
   "execution_count": 1,
   "metadata": {},
   "outputs": [],
   "source": [
    "nums = [1,2,3]"
   ]
  },
  {
   "cell_type": "markdown",
   "metadata": {},
   "source": []
  },
  {
   "cell_type": "code",
   "execution_count": 19,
   "metadata": {},
   "outputs": [
    {
     "data": {
      "text/plain": [
       "{0, 5, 10, 15}"
      ]
     },
     "execution_count": 19,
     "metadata": {},
     "output_type": "execute_result"
    }
   ],
   "source": [
    "nums = (0, 5, 10, 15)\n",
    "\n",
    "set(range(0, 15+1, 5))"
   ]
  },
  {
   "cell_type": "code",
   "execution_count": null,
   "metadata": {},
   "outputs": [],
   "source": []
  }
 ],
 "metadata": {
  "kernelspec": {
   "display_name": "Python 3",
   "language": "python",
   "name": "python3"
  },
  "language_info": {
   "codemirror_mode": {
    "name": "ipython",
    "version": 3
   },
   "file_extension": ".py",
   "mimetype": "text/x-python",
   "name": "python",
   "nbconvert_exporter": "python",
   "pygments_lexer": "ipython3",
   "version": "3.11.7"
  },
  "orig_nbformat": 4
 },
 "nbformat": 4,
 "nbformat_minor": 2
}
