{
 "cells": [
  {
   "cell_type": "markdown",
   "metadata": {},
   "source": [
    "## 424. Longest Repeating Character Replacement"
   ]
  },
  {
   "cell_type": "markdown",
   "metadata": {},
   "source": [
    "### Naive solution "
   ]
  },
  {
   "cell_type": "markdown",
   "metadata": {},
   "source": [
    "The same as 3. Longest Substring Without Repeating Characters"
   ]
  },
  {
   "cell_type": "code",
   "execution_count": 11,
   "metadata": {},
   "outputs": [],
   "source": [
    "s = \"AABABBA\"\n",
    "k = 1"
   ]
  },
  {
   "cell_type": "code",
   "execution_count": 18,
   "metadata": {},
   "outputs": [],
   "source": [
    "s = \"AAAB\"\n",
    "k = 1"
   ]
  },
  {
   "cell_type": "code",
   "execution_count": 19,
   "metadata": {},
   "outputs": [
    {
     "data": {
      "text/plain": [
       "4"
      ]
     },
     "execution_count": 19,
     "metadata": {},
     "output_type": "execute_result"
    }
   ],
   "source": [
    "best_len = 0\n",
    "l = 0\n",
    "count = {'A': 0}\n",
    "\n",
    "\n",
    "for i,c in enumerate(s):\n",
    "    count[c] = 1 + count.get(c, 0)\n",
    "\n",
    "    while sum(count.values()) - max(count.values()) > k:\n",
    "        count[s[l]] -= 1\n",
    "        l += 1\n",
    "\n",
    "    best_len = max(best_len, sum(count.values()))\n",
    "\n",
    "best_len"
   ]
  },
  {
   "cell_type": "code",
   "execution_count": null,
   "metadata": {},
   "outputs": [],
   "source": []
  },
  {
   "cell_type": "markdown",
   "metadata": {},
   "source": [
    "## 567. Permutation in String\n"
   ]
  },
  {
   "cell_type": "code",
   "execution_count": 22,
   "metadata": {},
   "outputs": [],
   "source": []
  },
  {
   "cell_type": "code",
   "execution_count": 46,
   "metadata": {},
   "outputs": [],
   "source": [
    "s1 = \"adc\"\n",
    "s2 = \"dcda\""
   ]
  },
  {
   "cell_type": "code",
   "execution_count": 56,
   "metadata": {},
   "outputs": [
    {
     "data": {
      "text/plain": [
       "True"
      ]
     },
     "execution_count": 56,
     "metadata": {},
     "output_type": "execute_result"
    }
   ],
   "source": [
    "from collections import Counter\n",
    "\n",
    "\n",
    "def contains_permutation(s1, s2):\n",
    "    k = len(s1)\n",
    "    counter = Counter(s1)\n",
    "    counter_2 = Counter(s2[:k])\n",
    "    \n",
    "    if counter_2 == counter: return True\n",
    "    # print('k+1, len(s2)', k+1, len(s2))\n",
    "    for i in range(k, len(s2)):\n",
    "        # print('i, i-k', i, i-k)\n",
    "        counter_2[s2[i-k]] -= 1\n",
    "        counter_2[s2[i]] = 1 + counter_2.get(s2[i], 0)\n",
    "        if counter_2 == counter: return True\n",
    "    return False\n",
    "\n",
    "\n",
    "contains_permutation('adc', 'dcda')"
   ]
  },
  {
   "cell_type": "code",
   "execution_count": 57,
   "metadata": {},
   "outputs": [
    {
     "data": {
      "text/plain": [
       "False"
      ]
     },
     "execution_count": 57,
     "metadata": {},
     "output_type": "execute_result"
    }
   ],
   "source": [
    "s1 = \"ab\"\n",
    "s2 = \"eidboaoo\"\n",
    "\n",
    "\n",
    "contains_permutation(s1, s2)"
   ]
  },
  {
   "cell_type": "code",
   "execution_count": null,
   "metadata": {},
   "outputs": [],
   "source": []
  },
  {
   "cell_type": "markdown",
   "metadata": {},
   "source": [
    "counter = Counter()"
   ]
  }
 ],
 "metadata": {
  "kernelspec": {
   "display_name": "Python 3",
   "language": "python",
   "name": "python3"
  },
  "language_info": {
   "codemirror_mode": {
    "name": "ipython",
    "version": 3
   },
   "file_extension": ".py",
   "mimetype": "text/x-python",
   "name": "python",
   "nbconvert_exporter": "python",
   "pygments_lexer": "ipython3",
   "version": "3.11.6"
  },
  "orig_nbformat": 4
 },
 "nbformat": 4,
 "nbformat_minor": 2
}
