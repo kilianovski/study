{
 "cells": [
  {
   "cell_type": "markdown",
   "metadata": {},
   "source": [
    "## 2353. Design a Food Rating System"
   ]
  },
  {
   "cell_type": "code",
   "execution_count": 1,
   "metadata": {},
   "outputs": [
    {
     "data": {
      "text/plain": [
       "False"
      ]
     },
     "execution_count": 1,
     "metadata": {},
     "output_type": "execute_result"
    }
   ],
   "source": [
    "'aa' > 'ab'"
   ]
  },
  {
   "cell_type": "code",
   "execution_count": 2,
   "metadata": {},
   "outputs": [
    {
     "data": {
      "text/plain": [
       "True"
      ]
     },
     "execution_count": 2,
     "metadata": {},
     "output_type": "execute_result"
    }
   ],
   "source": [
    "'b' > 'a'"
   ]
  },
  {
   "cell_type": "code",
   "execution_count": 3,
   "metadata": {},
   "outputs": [],
   "source": [
    "class FoodRatings:\n",
    "    pass"
   ]
  },
  {
   "cell_type": "code",
   "execution_count": 5,
   "metadata": {},
   "outputs": [],
   "source": [
    "self = FoodRatings()"
   ]
  },
  {
   "cell_type": "code",
   "execution_count": 36,
   "metadata": {},
   "outputs": [],
   "source": [
    "import heapq"
   ]
  },
  {
   "cell_type": "code",
   "execution_count": 6,
   "metadata": {},
   "outputs": [],
   "source": [
    "foods, cuisines, ratings = [[\"kimchi\",\"miso\",\"sushi\",\"moussaka\",\"ramen\",\"bulgogi\"],[\"korean\",\"japanese\",\"japanese\",\"greek\",\"japanese\",\"korean\"],[9,12,8,15,14,7]]"
   ]
  },
  {
   "cell_type": "code",
   "execution_count": 38,
   "metadata": {},
   "outputs": [],
   "source": [
    "heapq.heapify(ratings)"
   ]
  },
  {
   "cell_type": "code",
   "execution_count": 7,
   "metadata": {},
   "outputs": [],
   "source": [
    "from collections import defaultdict"
   ]
  },
  {
   "cell_type": "code",
   "execution_count": null,
   "metadata": {},
   "outputs": [],
   "source": []
  },
  {
   "cell_type": "code",
   "execution_count": null,
   "metadata": {},
   "outputs": [],
   "source": []
  },
  {
   "cell_type": "code",
   "execution_count": 29,
   "metadata": {},
   "outputs": [
    {
     "data": {
      "text/plain": [
       "True"
      ]
     },
     "execution_count": 29,
     "metadata": {},
     "output_type": "execute_result"
    }
   ],
   "source": []
  },
  {
   "cell_type": "code",
   "execution_count": 28,
   "metadata": {},
   "outputs": [
    {
     "data": {
      "text/plain": [
       "defaultdict(list,\n",
       "            {'korean': [(7, 'bulgogi'), (9, 'kimchi')],\n",
       "             'japanese': [(8, 'sushi'), (12, 'miso'), (14, 'ramen')],\n",
       "             'greek': [(15, 'moussaka')]})"
      ]
     },
     "execution_count": 28,
     "metadata": {},
     "output_type": "execute_result"
    }
   ],
   "source": [
    "self.cuisines = defaultdict(list)\n",
    "self.food2cuisine = {}\n",
    "\n",
    "for f,c,r in zip(foods, cuisines, ratings):\n",
    "    self.cuisines[c].append((r,f))\n",
    "    self.food2cuisine[f] = c\n",
    "\n",
    "\n",
    "for k in self.cuisines.keys():\n",
    "    self.cuisines[k].sort()\n",
    "\n",
    "self.cuisines"
   ]
  },
  {
   "cell_type": "code",
   "execution_count": 17,
   "metadata": {},
   "outputs": [
    {
     "data": {
      "text/plain": [
       "True"
      ]
     },
     "execution_count": 17,
     "metadata": {},
     "output_type": "execute_result"
    }
   ],
   "source": [
    "(1,'a') > (0,'b')"
   ]
  },
  {
   "cell_type": "code",
   "execution_count": 32,
   "metadata": {},
   "outputs": [],
   "source": [
    "class Food:\n",
    "    def __init__(self, rating, name):\n",
    "        self.rating = rating\n",
    "        self.name = name\n",
    "\n",
    "    def __lt__(self, other):\n",
    "        if other.rating == self.rating:\n",
    "            return self.name < other.name\n",
    "        \n",
    "        return self.rating > other.rating"
   ]
  },
  {
   "cell_type": "code",
   "execution_count": 35,
   "metadata": {},
   "outputs": [
    {
     "data": {
      "text/plain": [
       "True"
      ]
     },
     "execution_count": 35,
     "metadata": {},
     "output_type": "execute_result"
    }
   ],
   "source": [
    "Food(10, 'a') < Food(1, 'a')"
   ]
  },
  {
   "cell_type": "code",
   "execution_count": 15,
   "metadata": {},
   "outputs": [
    {
     "data": {
      "text/plain": [
       "[(0, 'a'), (0, 'b')]"
      ]
     },
     "execution_count": 15,
     "metadata": {},
     "output_type": "execute_result"
    }
   ],
   "source": [
    "li = [(0,'b'), (0,'a')]"
   ]
  },
  {
   "cell_type": "code",
   "execution_count": 26,
   "metadata": {},
   "outputs": [
    {
     "data": {
      "text/plain": [
       "[(8, 'sushi'), (9, 'ramen'), (12, 'miso')]"
      ]
     },
     "execution_count": 26,
     "metadata": {},
     "output_type": "execute_result"
    }
   ],
   "source": [
    "food, newRating = 'sushi', 2\n",
    "food, newRating = 'miso', 2\n",
    "food, newRating = 'ramen', 12\n",
    "\n",
    "li = [(8, 'sushi'), (12, 'miso'), (14, 'ramen')]\n",
    "\n",
    "i = 0\n",
    "\n",
    "while i < len(li):\n",
    "    if li[i][1] == food:\n",
    "        oldRating = li[i][0]\n",
    "        li[i] = newRating,food\n",
    "        break\n",
    "    i+=1\n",
    "\n",
    "if newRating > oldRating:\n",
    "    print( 'go' )\n",
    "    d = 1\n",
    "    should_go = lambda j: j < len(li)-1 and li[j+d] < li[j]\n",
    "else:\n",
    "    d = -1\n",
    "    should_go = lambda j: j > 0 and li[j+d] > li[j]\n",
    "\n",
    "while should_go(i):\n",
    "    \n",
    "    t = li[i+d]\n",
    "    li[i+d] = li[i]\n",
    "    li[i] = t\n",
    "    \n",
    "    i += d\n",
    "li"
   ]
  },
  {
   "cell_type": "code",
   "execution_count": null,
   "metadata": {},
   "outputs": [],
   "source": []
  }
 ],
 "metadata": {
  "kernelspec": {
   "display_name": "base",
   "language": "python",
   "name": "python3"
  },
  "language_info": {
   "codemirror_mode": {
    "name": "ipython",
    "version": 3
   },
   "file_extension": ".py",
   "mimetype": "text/x-python",
   "name": "python",
   "nbconvert_exporter": "python",
   "pygments_lexer": "ipython3",
   "version": "3.11.4"
  },
  "orig_nbformat": 4
 },
 "nbformat": 4,
 "nbformat_minor": 2
}
