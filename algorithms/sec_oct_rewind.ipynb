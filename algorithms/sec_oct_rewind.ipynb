{
 "cells": [
  {
   "cell_type": "markdown",
   "metadata": {},
   "source": [
    "## 896. Monotonic Array"
   ]
  },
  {
   "cell_type": "code",
   "execution_count": 1,
   "metadata": {},
   "outputs": [],
   "source": [
    "nums = [1,2,2,3]"
   ]
  },
  {
   "cell_type": "code",
   "execution_count": 14,
   "metadata": {},
   "outputs": [],
   "source": [
    "def isMonotonic(nums):\n",
    "    direction = None\n",
    "    def get_direction(n, n_succ): return (n_succ - n) > 0\n",
    "    for i in range(1, len(nums)):\n",
    "        # print(f'{get_direction(nums[i], nums[i-1])=}')\n",
    "        if direction is None:\n",
    "            direction = get_direction(nums[i], nums[i-1])\n",
    "        else:\n",
    "            if nums[i] != nums[i-1] and direction != get_direction(nums[i], nums[i-1]): return False\n",
    "    return True"
   ]
  },
  {
   "cell_type": "code",
   "execution_count": 15,
   "metadata": {},
   "outputs": [
    {
     "name": "stdout",
     "output_type": "stream",
     "text": [
      "get_direction(nums[i], nums[i-1])=False\n",
      "get_direction(nums[i], nums[i-1])=False\n",
      "get_direction(nums[i], nums[i-1])=False\n"
     ]
    },
    {
     "data": {
      "text/plain": [
       "True"
      ]
     },
     "execution_count": 15,
     "metadata": {},
     "output_type": "execute_result"
    }
   ],
   "source": [
    "isMonotonic([1,2,2,3])"
   ]
  },
  {
   "cell_type": "markdown",
   "metadata": {},
   "source": [
    "## Best solution!"
   ]
  },
  {
   "cell_type": "code",
   "execution_count": 19,
   "metadata": {},
   "outputs": [
    {
     "data": {
      "text/plain": [
       "True"
      ]
     },
     "execution_count": 19,
     "metadata": {},
     "output_type": "execute_result"
    }
   ],
   "source": [
    "inc, dec = True, True\n",
    "\n",
    "for i in range(1, len(nums)):\n",
    "    dec &= (nums[i] - nums[i-1]) <= 0\n",
    "    inc &= (nums[i] - nums[i-1]) >= 0\n",
    "\n",
    "inc or dec"
   ]
  },
  {
   "cell_type": "code",
   "execution_count": null,
   "metadata": {},
   "outputs": [],
   "source": []
  }
 ],
 "metadata": {
  "kernelspec": {
   "display_name": "base",
   "language": "python",
   "name": "python3"
  },
  "language_info": {
   "codemirror_mode": {
    "name": "ipython",
    "version": 3
   },
   "file_extension": ".py",
   "mimetype": "text/x-python",
   "name": "python",
   "nbconvert_exporter": "python",
   "pygments_lexer": "ipython3",
   "version": "3.11.4"
  },
  "orig_nbformat": 4
 },
 "nbformat": 4,
 "nbformat_minor": 2
}
