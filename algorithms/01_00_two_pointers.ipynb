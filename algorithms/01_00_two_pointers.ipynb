{
 "cells": [
  {
   "cell_type": "markdown",
   "metadata": {},
   "source": [
    "## 3Sum"
   ]
  },
  {
   "cell_type": "code",
   "execution_count": 3,
   "metadata": {},
   "outputs": [],
   "source": [
    "nums = [-1,0,1,2,-1,-4]"
   ]
  },
  {
   "cell_type": "code",
   "execution_count": 14,
   "metadata": {},
   "outputs": [
    {
     "data": {
      "text/plain": [
       "[(-1, 0, 1), (-1, -1, 2)]"
      ]
     },
     "execution_count": 14,
     "metadata": {},
     "output_type": "execute_result"
    }
   ],
   "source": [
    "result = []\n",
    "\n",
    "for i in range(len(nums)):\n",
    "    target = -nums[i]\n",
    "\n",
    "    d = {}\n",
    "    for j in range(len(nums)):\n",
    "        if i == j: continue\n",
    "        \n",
    "        if nums[j] in d:\n",
    "            k = d[nums[j]]\n",
    "            \n",
    "            result.append(tuple ( sorted ( [nums[i], nums[j], nums[k]] )))\n",
    "\n",
    "        # else: else?\n",
    "        d[ target - nums[j] ] = j\n",
    "list(set(result))"
   ]
  },
  {
   "cell_type": "code",
   "execution_count": 17,
   "metadata": {},
   "outputs": [],
   "source": [
    "nums = [-1,0,1,2,-1,-4]\n",
    "\n",
    "nums = [0,0,0,0]"
   ]
  },
  {
   "cell_type": "code",
   "execution_count": 19,
   "metadata": {},
   "outputs": [],
   "source": [
    "nums = [-2,0,1,1,2]"
   ]
  },
  {
   "cell_type": "code",
   "execution_count": 21,
   "metadata": {},
   "outputs": [
    {
     "data": {
      "text/plain": [
       "[[-2, 0, 2], [-2, 1, 1]]"
      ]
     },
     "execution_count": 21,
     "metadata": {},
     "output_type": "execute_result"
    }
   ],
   "source": [
    "nums = sorted(nums)\n",
    "\n",
    "result = []\n",
    "\n",
    "for i in range(len(nums)-2):\n",
    "    j,k = i+1, len(nums)-1\n",
    "    \n",
    "    while j < k:\n",
    "        s = nums[i] + nums[j] + nums[k]\n",
    "        \n",
    "        if s > 0:\n",
    "            k -= 1\n",
    "        elif s < 0:\n",
    "            j += 1\n",
    "        else:\n",
    "            result.append([nums[i], nums[j], nums[k]])\n",
    "            k -= 1\n",
    "            j += 1\n",
    "    \n",
    "result"
   ]
  },
  {
   "cell_type": "markdown",
   "metadata": {},
   "source": [
    "## Container With Most Water"
   ]
  },
  {
   "cell_type": "markdown",
   "metadata": {},
   "source": []
  },
  {
   "cell_type": "code",
   "execution_count": 7,
   "metadata": {},
   "outputs": [
    {
     "data": {
      "text/plain": [
       "1"
      ]
     },
     "execution_count": 7,
     "metadata": {},
     "output_type": "execute_result"
    }
   ],
   "source": [
    "height = [1,8,6,2,5,4,8,3,7]\n",
    "height = [1,1]\n",
    "max_area = 0\n",
    "\n",
    "L, R = 0, len(height)-1\n",
    "\n",
    "while L < R:\n",
    "    if height[L] > height[R]:\n",
    "        b = height[R]\n",
    "        R -= 1\n",
    "    else:\n",
    "        b = height[L]\n",
    "        L += 1\n",
    "\n",
    "    area = (R-L+1) * b\n",
    "\n",
    "    if area > max_area:\n",
    "        max_area = area\n",
    "\n",
    "max_area"
   ]
  },
  {
   "cell_type": "markdown",
   "metadata": {},
   "source": [
    "## Trapping Rain Water"
   ]
  },
  {
   "cell_type": "markdown",
   "metadata": {},
   "source": [
    "### T=O(n) M=O(1)"
   ]
  },
  {
   "cell_type": "code",
   "execution_count": 17,
   "metadata": {},
   "outputs": [],
   "source": [
    "height = [3,0,2,0,5,2,8]\n",
    "answer = 10"
   ]
  },
  {
   "cell_type": "code",
   "execution_count": 18,
   "metadata": {},
   "outputs": [
    {
     "data": {
      "text/plain": [
       "10"
      ]
     },
     "execution_count": 18,
     "metadata": {},
     "output_type": "execute_result"
    }
   ],
   "source": [
    "L, R = 0, len(height) - 1\n",
    "\n",
    "left_peak_i = L\n",
    "right_peak_i = R\n",
    "\n",
    "V = 0\n",
    "\n",
    "while L < R:\n",
    "\n",
    "    if height[left_peak_i] < height[right_peak_i]:\n",
    "        if height[L] >= height[left_peak_i]:\n",
    "            left_peak_i = L\n",
    "        else:\n",
    "            V += height[left_peak_i] - height[L]\n",
    "        L += 1\n",
    "\n",
    "    else:\n",
    "        if height[R] >= height[right_peak_i]:\n",
    "            right_peak_i = R\n",
    "        else:\n",
    "            V += height[right_peak_i] - height[R]\n",
    "        R -= 1\n",
    "V"
   ]
  },
  {
   "cell_type": "code",
   "execution_count": null,
   "metadata": {},
   "outputs": [],
   "source": [
    " "
   ]
  },
  {
   "cell_type": "code",
   "execution_count": null,
   "metadata": {},
   "outputs": [],
   "source": []
  },
  {
   "cell_type": "markdown",
   "metadata": {},
   "source": [
    "### Monotonic Stack"
   ]
  },
  {
   "cell_type": "markdown",
   "metadata": {},
   "source": [
    " - each bar has a potential to trap water\n",
    " - we can think in terms of \"queries\" for potential\n",
    "   - query can be\n",
    "     - processed, when h >= q\n",
    "     - updated, when h < q"
   ]
  },
  {
   "cell_type": "code",
   "execution_count": 8,
   "metadata": {},
   "outputs": [],
   "source": [
    "height = [0,1,0,2,1,0,1,3,2,1,2,1]"
   ]
  },
  {
   "cell_type": "code",
   "execution_count": 15,
   "metadata": {},
   "outputs": [],
   "source": [
    "height = [3,0,2,0,5,2,8]\n",
    "answer = 10"
   ]
  },
  {
   "cell_type": "code",
   "execution_count": 9,
   "metadata": {},
   "outputs": [],
   "source": [
    "height = [3,2,1,0,4]\n",
    "answer = 5"
   ]
  },
  {
   "cell_type": "code",
   "execution_count": 16,
   "metadata": {},
   "outputs": [
    {
     "data": {
      "text/plain": [
       "10"
      ]
     },
     "execution_count": 16,
     "metadata": {},
     "output_type": "execute_result"
    }
   ],
   "source": [
    "V = 0\n",
    "\n",
    "local_volume = 0\n",
    "\n",
    "stack = []\n",
    "\n",
    "for i,h in enumerate(height):\n",
    "    # try to process the bus\n",
    "    # 1. Everyone who is smaller or eq: your story is finished\n",
    "\n",
    "    # 2. The bigger in the stack gets a chance \n",
    "    #   to form local basin\n",
    "\n",
    "    # watershed\n",
    "    prev_h = 0\n",
    "    while stack and h >= stack[-1][0]:\n",
    "        hp, ih = stack.pop()\n",
    "        \n",
    "        local_v = (hp - prev_h) * (i - ih - 1)\n",
    "        prev_h = hp\n",
    "        # print(f'{hp=}, {ih=}', 'local_v', local_v)\n",
    "        V += local_v\n",
    "\n",
    "    # local_basin\n",
    "    if stack and h < stack[-1][0]:\n",
    "        hp, ih = stack[-1]\n",
    "        local_v = (i - ih - 1) * (h - prev_h)\n",
    "        V += local_v\n",
    "\n",
    "\n",
    "    # add yourself to the queue\n",
    "    stack.append( (h,i) )\n",
    "\n",
    "V"
   ]
  },
  {
   "cell_type": "markdown",
   "metadata": {},
   "source": []
  }
 ],
 "metadata": {
  "kernelspec": {
   "display_name": "Python 3",
   "language": "python",
   "name": "python3"
  },
  "language_info": {
   "codemirror_mode": {
    "name": "ipython",
    "version": 3
   },
   "file_extension": ".py",
   "mimetype": "text/x-python",
   "name": "python",
   "nbconvert_exporter": "python",
   "pygments_lexer": "ipython3",
   "version": "3.11.6"
  },
  "orig_nbformat": 4
 },
 "nbformat": 4,
 "nbformat_minor": 2
}
