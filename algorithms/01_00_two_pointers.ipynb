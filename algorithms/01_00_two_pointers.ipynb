{
 "cells": [
  {
   "cell_type": "markdown",
   "metadata": {},
   "source": [
    "## 3Sum"
   ]
  },
  {
   "cell_type": "code",
   "execution_count": 3,
   "metadata": {},
   "outputs": [],
   "source": [
    "nums = [-1,0,1,2,-1,-4]"
   ]
  },
  {
   "cell_type": "code",
   "execution_count": 14,
   "metadata": {},
   "outputs": [
    {
     "data": {
      "text/plain": [
       "[(-1, 0, 1), (-1, -1, 2)]"
      ]
     },
     "execution_count": 14,
     "metadata": {},
     "output_type": "execute_result"
    }
   ],
   "source": [
    "result = []\n",
    "\n",
    "for i in range(len(nums)):\n",
    "    target = -nums[i]\n",
    "\n",
    "    d = {}\n",
    "    for j in range(len(nums)):\n",
    "        if i == j: continue\n",
    "        \n",
    "        if nums[j] in d:\n",
    "            k = d[nums[j]]\n",
    "            \n",
    "            result.append(tuple ( sorted ( [nums[i], nums[j], nums[k]] )))\n",
    "\n",
    "        # else: else?\n",
    "        d[ target - nums[j] ] = j\n",
    "list(set(result))"
   ]
  },
  {
   "cell_type": "code",
   "execution_count": 17,
   "metadata": {},
   "outputs": [],
   "source": [
    "nums = [-1,0,1,2,-1,-4]\n",
    "\n",
    "nums = [0,0,0,0]"
   ]
  },
  {
   "cell_type": "code",
   "execution_count": 19,
   "metadata": {},
   "outputs": [],
   "source": [
    "nums = [-2,0,1,1,2]"
   ]
  },
  {
   "cell_type": "code",
   "execution_count": 21,
   "metadata": {},
   "outputs": [
    {
     "data": {
      "text/plain": [
       "[[-2, 0, 2], [-2, 1, 1]]"
      ]
     },
     "execution_count": 21,
     "metadata": {},
     "output_type": "execute_result"
    }
   ],
   "source": [
    "nums = sorted(nums)\n",
    "\n",
    "result = []\n",
    "\n",
    "for i in range(len(nums)-2):\n",
    "    j,k = i+1, len(nums)-1\n",
    "    \n",
    "    while j < k:\n",
    "        s = nums[i] + nums[j] + nums[k]\n",
    "        \n",
    "        if s > 0:\n",
    "            k -= 1\n",
    "        elif s < 0:\n",
    "            j += 1\n",
    "        else:\n",
    "            result.append([nums[i], nums[j], nums[k]])\n",
    "            k -= 1\n",
    "            j += 1\n",
    "    \n",
    "result"
   ]
  },
  {
   "cell_type": "markdown",
   "metadata": {},
   "source": [
    "## Container With Most Water"
   ]
  },
  {
   "cell_type": "markdown",
   "metadata": {},
   "source": []
  },
  {
   "cell_type": "code",
   "execution_count": 7,
   "metadata": {},
   "outputs": [
    {
     "data": {
      "text/plain": [
       "1"
      ]
     },
     "execution_count": 7,
     "metadata": {},
     "output_type": "execute_result"
    }
   ],
   "source": [
    "height = [1,8,6,2,5,4,8,3,7]\n",
    "height = [1,1]\n",
    "max_area = 0\n",
    "\n",
    "L, R = 0, len(height)-1\n",
    "\n",
    "while L < R:\n",
    "    if height[L] > height[R]:\n",
    "        b = height[R]\n",
    "        R -= 1\n",
    "    else:\n",
    "        b = height[L]\n",
    "        L += 1\n",
    "\n",
    "    area = (R-L+1) * b\n",
    "\n",
    "    if area > max_area:\n",
    "        max_area = area\n",
    "\n",
    "max_area"
   ]
  },
  {
   "cell_type": "markdown",
   "metadata": {},
   "source": [
    "## Trapping Rain Water"
   ]
  },
  {
   "cell_type": "markdown",
   "metadata": {},
   "source": [
    "### PreCalculating everything in advance T=O(n) M=O(n)"
   ]
  },
  {
   "cell_type": "code",
   "execution_count": null,
   "metadata": {},
   "outputs": [],
   "source": [
    "class Solution:\n",
    "    def trap(self, height: List[int]) -> int:\n",
    "        volume_trapped = 0\n",
    "    \n",
    "        maxLeft_preprocessed = []\n",
    "        current_max_left = 0\n",
    "        for h in height:\n",
    "            if h>current_max_left:\n",
    "                current_max_left = h\n",
    "            maxLeft_preprocessed.append(current_max_left)\n",
    "\n",
    "        maxRight_preprocessed = [0] * len(height)\n",
    "\n",
    "        current_max_right = 0\n",
    "        for i in range(len(height)-1, -1, -1):\n",
    "            if height[i] > current_max_right:\n",
    "                current_max_right = height[i]\n",
    "            maxRight_preprocessed[i] = current_max_right\n",
    "\n",
    "        # print('maxLeft_preprocessed', maxLeft_preprocessed)\n",
    "        # print('maxRight_preprocessed', maxRight_preprocessed)\n",
    "        bottlenecked_by = [\n",
    "            min(L, R)\n",
    "            for L,R in zip(\n",
    "                maxLeft_preprocessed,\n",
    "                maxRight_preprocessed\n",
    "            )\n",
    "        ]\n",
    "\n",
    "        # print(bottlenecked_by)\n",
    "\n",
    "        for i,h_i in enumerate(height):\n",
    "            volume_trapped += bottlenecked_by[i] - h_i\n",
    "\n",
    "\n",
    "        return volume_trapped"
   ]
  },
  {
   "cell_type": "markdown",
   "metadata": {},
   "source": [
    "### With two pointers"
   ]
  },
  {
   "cell_type": "code",
   "execution_count": 10,
   "metadata": {},
   "outputs": [],
   "source": [
    "height = [3,2,1,3,4]"
   ]
  },
  {
   "cell_type": "code",
   "execution_count": 11,
   "metadata": {},
   "outputs": [
    {
     "data": {
      "text/plain": [
       "3"
      ]
     },
     "execution_count": 11,
     "metadata": {},
     "output_type": "execute_result"
    }
   ],
   "source": [
    "L,R = 0, len(height) - 1\n",
    "maxL, maxR = 0, 0\n",
    "\n",
    "\n",
    "volume_trapped = 0\n",
    "\n",
    "\n",
    "while L <= R:\n",
    "    if height[L] > maxL:\n",
    "        maxL = height[L]\n",
    "        L += 1\n",
    "    elif height[R] > maxR:\n",
    "        maxR = height[R]\n",
    "        R -= 1\n",
    "    elif maxL < maxR:\n",
    "        volume_trapped += maxL - height[L]\n",
    "        L += 1\n",
    "    else:\n",
    "        volume_trapped += maxR - height[R]\n",
    "        R -= 1\n",
    "\n",
    "volume_trapped"
   ]
  },
  {
   "cell_type": "markdown",
   "metadata": {},
   "source": [
    "## Trapping Rainwater II\n"
   ]
  },
  {
   "cell_type": "code",
   "execution_count": 97,
   "metadata": {},
   "outputs": [],
   "source": [
    "heightMap = [\n",
    "    # [3,3,3,3,3],\n",
    "    # [3,2,2,2,3],\n",
    "    # [3,2,1,2,3],\n",
    "    [3,2,2,0,3],\n",
    "    [3,3,0,3,3]\n",
    "]\n",
    "\n",
    "\n",
    "heightMap = [\n",
    "    # [3,3,3,3,3],\n",
    "    # [3,2,2,2,3],\n",
    "    # [3,2,1,2,3],\n",
    "    [9,1,9,9,9],\n",
    "    [9,2,3,3,9],\n",
    "    [9,2,3,2,9],\n",
    "    [9,9,9,9,9]\n",
    "]\n"
   ]
  },
  {
   "cell_type": "code",
   "execution_count": 98,
   "metadata": {},
   "outputs": [],
   "source": [
    "m,n = len(heightMap), len(heightMap[0])"
   ]
  },
  {
   "cell_type": "code",
   "execution_count": 103,
   "metadata": {},
   "outputs": [
    {
     "data": {
      "text/plain": [
       "25"
      ]
     },
     "execution_count": 103,
     "metadata": {},
     "output_type": "execute_result"
    }
   ],
   "source": [
    "bottleneck_map = []\n",
    "\n",
    "for i in range(m):\n",
    "    height = heightMap[i]\n",
    "    bottlenecked_by = []\n",
    "    current_max_left = 0\n",
    "    for h in height:\n",
    "        if h>current_max_left:\n",
    "            current_max_left = h\n",
    "        bottlenecked_by.append(current_max_left)\n",
    "\n",
    "\n",
    "    current_max_right = 0\n",
    "    for i in range(len(height)-1, -1, -1):\n",
    "        if height[i] > current_max_right:\n",
    "            current_max_right = height[i]\n",
    "\n",
    "        bottlenecked_by[i] = min(bottlenecked_by[i], current_max_right)\n",
    "\n",
    "    bottleneck_map.append( bottlenecked_by )\n",
    "\n",
    "\n",
    "for j in range(n):\n",
    "    current_max_left = 0\n",
    "    for i in range(m):\n",
    "        h = heightMap[i][j]\n",
    "        if h > current_max_left:\n",
    "            current_max_left  = h\n",
    "        bottleneck_map[i][j] = min(bottleneck_map[i][j], current_max_left)\n",
    "    \n",
    "    current_max_right = 0\n",
    "    for i in range(m-1,-1,-1):\n",
    "        h = heightMap[i][j]\n",
    "        if h > current_max_right:\n",
    "            current_max_right = h\n",
    "\n",
    "        bottleneck_map[i][j] = min(bottleneck_map[i][j], current_max_right)\n",
    "\n",
    "\n",
    "volume_trapped = 0\n",
    "\n",
    "for i in range(m):\n",
    "    for j in range(n):\n",
    "        volume_trapped += bottleneck_map[i][j] -  heightMap[i][j]\n",
    "\n",
    "volume_trapped"
   ]
  },
  {
   "cell_type": "code",
   "execution_count": 104,
   "metadata": {},
   "outputs": [
    {
     "name": "stdout",
     "output_type": "stream",
     "text": [
      "[[9, 1, 9, 9, 9], [9, 2, 9, 9, 9], [9, 2, 9, 9, 9], [9, 9, 9, 9, 9]]\n"
     ]
    }
   ],
   "source": [
    "print(bottleneck_map)"
   ]
  },
  {
   "cell_type": "code",
   "execution_count": 105,
   "metadata": {},
   "outputs": [
    {
     "data": {
      "text/plain": [
       "[[9, 1, 9, 9, 9], [9, 2, 9, 9, 9], [9, 2, 9, 9, 9], [9, 9, 9, 9, 9]]"
      ]
     },
     "execution_count": 105,
     "metadata": {},
     "output_type": "execute_result"
    }
   ],
   "source": [
    "bottleneck_map"
   ]
  },
  {
   "cell_type": "markdown",
   "metadata": {},
   "source": [
    "### T=O(n) M=O(1)"
   ]
  },
  {
   "cell_type": "code",
   "execution_count": 17,
   "metadata": {},
   "outputs": [],
   "source": [
    "height = [3,0,2,0,5,2,8]\n",
    "answer = 10"
   ]
  },
  {
   "cell_type": "code",
   "execution_count": 18,
   "metadata": {},
   "outputs": [
    {
     "data": {
      "text/plain": [
       "10"
      ]
     },
     "execution_count": 18,
     "metadata": {},
     "output_type": "execute_result"
    }
   ],
   "source": [
    "L, R = 0, len(height) - 1\n",
    "\n",
    "left_peak_i = L\n",
    "right_peak_i = R\n",
    "\n",
    "V = 0\n",
    "\n",
    "while L < R:\n",
    "\n",
    "    if height[left_peak_i] < height[right_peak_i]:\n",
    "        if height[L] >= height[left_peak_i]:\n",
    "            left_peak_i = L\n",
    "        else:\n",
    "            V += height[left_peak_i] - height[L]\n",
    "        L += 1\n",
    "\n",
    "    else:\n",
    "        if height[R] >= height[right_peak_i]:\n",
    "            right_peak_i = R\n",
    "        else:\n",
    "            V += height[right_peak_i] - height[R]\n",
    "        R -= 1\n",
    "V"
   ]
  },
  {
   "cell_type": "code",
   "execution_count": null,
   "metadata": {},
   "outputs": [],
   "source": [
    " "
   ]
  },
  {
   "cell_type": "code",
   "execution_count": null,
   "metadata": {},
   "outputs": [],
   "source": []
  },
  {
   "cell_type": "markdown",
   "metadata": {},
   "source": [
    "### Monotonic Stack"
   ]
  },
  {
   "cell_type": "markdown",
   "metadata": {},
   "source": [
    " - each bar has a potential to trap water\n",
    " - we can think in terms of \"queries\" for potential\n",
    "   - query can be\n",
    "     - processed, when h >= q\n",
    "     - updated, when h < q"
   ]
  },
  {
   "cell_type": "code",
   "execution_count": 8,
   "metadata": {},
   "outputs": [],
   "source": [
    "height = [0,1,0,2,1,0,1,3,2,1,2,1]"
   ]
  },
  {
   "cell_type": "code",
   "execution_count": 15,
   "metadata": {},
   "outputs": [],
   "source": [
    "height = [3,0,2,0,5,2,8]\n",
    "answer = 10"
   ]
  },
  {
   "cell_type": "code",
   "execution_count": 9,
   "metadata": {},
   "outputs": [],
   "source": [
    "height = [3,2,1,0,4]\n",
    "answer = 5"
   ]
  },
  {
   "cell_type": "code",
   "execution_count": 16,
   "metadata": {},
   "outputs": [
    {
     "data": {
      "text/plain": [
       "10"
      ]
     },
     "execution_count": 16,
     "metadata": {},
     "output_type": "execute_result"
    }
   ],
   "source": [
    "V = 0\n",
    "\n",
    "local_volume = 0\n",
    "\n",
    "stack = []\n",
    "\n",
    "for i,h in enumerate(height):\n",
    "    # try to process the bus\n",
    "    # 1. Everyone who is smaller or eq: your story is finished\n",
    "\n",
    "    # 2. The bigger in the stack gets a chance \n",
    "    #   to form local basin\n",
    "\n",
    "    # watershed\n",
    "    prev_h = 0\n",
    "    while stack and h >= stack[-1][0]:\n",
    "        hp, ih = stack.pop()\n",
    "        \n",
    "        local_v = (hp - prev_h) * (i - ih - 1)\n",
    "        prev_h = hp\n",
    "        # print(f'{hp=}, {ih=}', 'local_v', local_v)\n",
    "        V += local_v\n",
    "\n",
    "    # local_basin\n",
    "    if stack and h < stack[-1][0]:\n",
    "        hp, ih = stack[-1]\n",
    "        local_v = (i - ih - 1) * (h - prev_h)\n",
    "        V += local_v\n",
    "\n",
    "\n",
    "    # add yourself to the queue\n",
    "    stack.append( (h,i) )\n",
    "\n",
    "V"
   ]
  },
  {
   "cell_type": "markdown",
   "metadata": {},
   "source": []
  }
 ],
 "metadata": {
  "kernelspec": {
   "display_name": "Python 3",
   "language": "python",
   "name": "python3"
  },
  "language_info": {
   "codemirror_mode": {
    "name": "ipython",
    "version": 3
   },
   "file_extension": ".py",
   "mimetype": "text/x-python",
   "name": "python",
   "nbconvert_exporter": "python",
   "pygments_lexer": "ipython3",
   "version": "3.11.6"
  },
  "orig_nbformat": 4
 },
 "nbformat": 4,
 "nbformat_minor": 2
}
