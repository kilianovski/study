{
 "cells": [
  {
   "cell_type": "markdown",
   "metadata": {},
   "source": [
    "# [05.01] 300. Longest Increasing Subsequence"
   ]
  },
  {
   "cell_type": "code",
   "execution_count": 6,
   "metadata": {},
   "outputs": [],
   "source": [
    "nums = [10,9,2,5,3,7,101,18]\n"
   ]
  },
  {
   "cell_type": "code",
   "execution_count": 5,
   "metadata": {},
   "outputs": [
    {
     "data": {
      "text/plain": [
       "[1, 1, 1, 2, 2, 3, 4, 4]"
      ]
     },
     "execution_count": 5,
     "metadata": {},
     "output_type": "execute_result"
    }
   ],
   "source": [
    "bestLen = 1\n",
    "prev_lengths = []\n",
    "\n",
    "for i,n in enumerate(nums):\n",
    "    currLen = 1\n",
    "\n",
    "    for j in range(i-1, -1, -1):\n",
    "        currLen = max(currLen, (1 + prev_lengths[j]) if nums[j] < n else 1)\n",
    "\n",
    "    prev_lengths.append(currLen)\n",
    "    bestLen = max(bestLen, currLen)\n",
    "\n",
    "bestLen\n"
   ]
  },
  {
   "cell_type": "code",
   "execution_count": 4,
   "metadata": {},
   "outputs": [
    {
     "data": {
      "text/plain": [
       "[1, 1, 1, 2, 2, 4, 7, 7]"
      ]
     },
     "execution_count": 4,
     "metadata": {},
     "output_type": "execute_result"
    }
   ],
   "source": [
    "([1+sum([1 if n>m else 0 for m in nums[:i]]) for i,n in enumerate(nums)])\n"
   ]
  },
  {
   "cell_type": "markdown",
   "metadata": {},
   "source": [
    "# [06.01] 1235. Maximum Profit in Job Scheduling"
   ]
  },
  {
   "cell_type": "code",
   "execution_count": 8,
   "metadata": {},
   "outputs": [],
   "source": [
    "startTime = [1,2,3,3]\n",
    "endTime = [3,4,5,6]\n",
    "profit = [50,10,40,70]\n",
    "\n",
    "\n",
    "startTime = [1,1,1]\n",
    "endTime = [2,3,4]\n",
    "profit = [5,6,4]\n",
    "\n",
    "startTime = [1,2,3,4,6]\n",
    "endTime = [3,5,10,6,9]\n",
    "profit = [20,20,100,70,60]\n",
    "\n",
    "# startTime = [ 6,15, 7,11, 1, 3,16, 2]\n",
    "# endTime =   [19,18,19,16,10, 8,19, 8]\n",
    "# profit =     [2,  9, 1,19, 5, 7, 3,19]\n",
    "\n",
    "jobs = (sorted(zip(startTime, endTime, profit)))\n"
   ]
  },
  {
   "cell_type": "code",
   "execution_count": 9,
   "metadata": {},
   "outputs": [],
   "source": [
    "from collections import defaultdict, OrderedDict\n"
   ]
  },
  {
   "cell_type": "code",
   "execution_count": 46,
   "metadata": {},
   "outputs": [],
   "source": [
    "startTime = [1,2,3,3]\n",
    "endTime = [3,4,5,6]\n",
    "profit = [50,10,40,70]\n",
    "\n",
    "startTime = [6,15,7,11,1,3,16,2]\n",
    "endTime = [19,18,19,16,10,8,19,8]\n",
    "profit = [2,9,1,19,5,7,3,19]\n"
   ]
  },
  {
   "cell_type": "code",
   "execution_count": 47,
   "metadata": {},
   "outputs": [
    {
     "data": {
      "text/plain": [
       "defaultdict(list, {3: [(1, 50)], 4: [(2, 10)], 5: [(3, 40)], 6: [(3, 70)]})"
      ]
     },
     "execution_count": 47,
     "metadata": {},
     "output_type": "execute_result"
    }
   ],
   "source": [
    "jobs_ending_at\n"
   ]
  },
  {
   "cell_type": "code",
   "execution_count": 52,
   "metadata": {},
   "outputs": [
    {
     "name": "stdout",
     "output_type": "stream",
     "text": [
      "to start=3 prevProfit=0 (searching in dp=[(0, 0)])\n",
      "to start=2 prevProfit=0 (searching in dp=[(0, 0)])\n",
      "to start=1 prevProfit=0 (searching in dp=[(0, 0), (8, 19)])\n",
      "to start=11 prevProfit=19 (searching in dp=[(0, 0), (8, 19), (10, 19)])\n",
      "to start=15 prevProfit=19 (searching in dp=[(0, 0), (8, 19), (10, 19), (16, 38)])\n",
      "to start=6 prevProfit=0 (searching in dp=[(0, 0), (8, 19), (10, 19), (16, 38), (18, 38)])\n",
      "to start=7 prevProfit=0 (searching in dp=[(0, 0), (8, 19), (10, 19), (16, 38), (18, 38)])\n",
      "to start=16 prevProfit=38 (searching in dp=[(0, 0), (8, 19), (10, 19), (16, 38), (18, 38)])\n"
     ]
    },
    {
     "data": {
      "text/plain": [
       "41"
      ]
     },
     "execution_count": 52,
     "metadata": {},
     "output_type": "execute_result"
    }
   ],
   "source": [
    "jobs_ending_at = defaultdict(list)\n",
    "\n",
    "n = 1\n",
    "for s,e,p in zip(startTime, endTime, profit):\n",
    "    \n",
    "    jobs_ending_at[e].append((s,p))\n",
    "    n = max(n, e)\n",
    "\n",
    "\n",
    "dp = [(0,0)] # list of (time, profit)\n",
    "\n",
    "\n",
    "def find_prev_profit(start):\n",
    "    i = len(dp)-1\n",
    "\n",
    "    while i > 0 and dp[i][0] > start:\n",
    "        i -= 1\n",
    "\n",
    "    return dp[i][1]\n",
    "\n",
    "def find_prev_profit(start):\n",
    "    l,r = 0, len(dp)\n",
    "    \n",
    "    while l < r:\n",
    "        m = (l+r)//2\n",
    "        \n",
    "        t,p = dp[m]\n",
    "        \n",
    "        if t == start or (t < start and (m == (len(dp) - 1) or start < dp[m+1][0])):\n",
    "            return p\n",
    "        elif t < start:\n",
    "            l = m+1\n",
    "        else:\n",
    "            r = m\n",
    "    \n",
    "    return p\n",
    "\n",
    "for t in sorted(jobs_ending_at.keys()):\n",
    "    prevT, bestProfit = dp[-1]\n",
    "    \n",
    "    \n",
    "    for start, job_profit in jobs_ending_at[t]:\n",
    "        prevProfit = find_prev_profit(start)\n",
    "        print(f'to {start=} {prevProfit=} (searching in {dp=})')\n",
    "        currProfit = job_profit+prevProfit\n",
    "        bestProfit = max(bestProfit, currProfit)\n",
    "    \n",
    "    dp.append((t, bestProfit))\n",
    "\n",
    "dp[-1][1]\n"
   ]
  },
  {
   "cell_type": "code",
   "execution_count": 51,
   "metadata": {},
   "outputs": [
    {
     "data": {
      "text/plain": [
       "19"
      ]
     },
     "execution_count": 51,
     "metadata": {},
     "output_type": "execute_result"
    }
   ],
   "source": [
    "dp=[(0, 0), (8, 19), (10, 19), (16, 38)]\n",
    "\n",
    "def find_prev_profit(start):\n",
    "    l,r = 0, len(dp)\n",
    "    \n",
    "    while l < r:\n",
    "        m = (l+r)//2\n",
    "        \n",
    "        t,p = dp[m]\n",
    "        \n",
    "        if t == start or (t < start and (m == (len(dp) - 1) or start < dp[m+1][0])):\n",
    "            return p\n",
    "        elif t < start:\n",
    "            l = m+1\n",
    "        else:\n",
    "            r = m\n",
    "    \n",
    "    return p\n",
    "\n",
    "find_prev_profit(15)\n"
   ]
  },
  {
   "cell_type": "code",
   "execution_count": 24,
   "metadata": {},
   "outputs": [
    {
     "data": {
      "text/plain": [
       "180"
      ]
     },
     "execution_count": 24,
     "metadata": {},
     "output_type": "execute_result"
    }
   ],
   "source": [
    "\n",
    "\n",
    "\n",
    "\n",
    "def find_prev_profit(start):\n",
    "    i = 0\n",
    "    while (i+1) < len(dp) and dp[i+1][0] > start:\n",
    "        i += 1\n",
    "    return dp[i][1]\n",
    "\n",
    "endTime = sorted(list(set(endTime)))\n",
    "for i in range(len(endTime)):\n",
    "    t = endTime[i]\n",
    "    prevT, bestProfit = dp[-1]\n",
    "\n",
    "    for start,profit in jobs_ending_at[t]:\n",
    "        prevProfit = find_prev_profit(start)\n",
    "        currProfit = profit+prevProfit\n",
    "        bestProfit = max(bestProfit, currProfit)\n",
    "    dp.append((t, bestProfit))\n",
    "\n",
    "dp[-1][1]\n"
   ]
  },
  {
   "cell_type": "code",
   "execution_count": 64,
   "metadata": {},
   "outputs": [
    {
     "data": {
      "text/plain": [
       "10"
      ]
     },
     "execution_count": 64,
     "metadata": {},
     "output_type": "execute_result"
    }
   ],
   "source": [
    "n\n"
   ]
  },
  {
   "cell_type": "code",
   "execution_count": 1,
   "metadata": {},
   "outputs": [],
   "source": [
    "startTime = [1,2,3,3]\n",
    "endTime = [3,4,5,6]\n",
    "profit = [50,10,40,70]\n"
   ]
  },
  {
   "cell_type": "code",
   "execution_count": 2,
   "metadata": {},
   "outputs": [],
   "source": [
    "import bisect\n"
   ]
  },
  {
   "cell_type": "code",
   "execution_count": 12,
   "metadata": {},
   "outputs": [
    {
     "ename": "NameError",
     "evalue": "name 'cache' is not defined",
     "output_type": "error",
     "traceback": [
      "\u001b[0;31m---------------------------------------------------------------------------\u001b[0m",
      "\u001b[0;31mNameError\u001b[0m                                 Traceback (most recent call last)",
      "\u001b[1;32m/Users/mykhailokilianovskyi/src/study/algorithms/jan_24.ipynb Cell 16\u001b[0m line \u001b[0;36m3\n\u001b[1;32m      <a href='vscode-notebook-cell:/Users/mykhailokilianovskyi/src/study/algorithms/jan_24.ipynb#X22sZmlsZQ%3D%3D?line=0'>1</a>\u001b[0m jobs \u001b[39m=\u001b[39m \u001b[39msorted\u001b[39m(\u001b[39mzip\u001b[39m(startTime, endTime, profit))\n\u001b[0;32m----> <a href='vscode-notebook-cell:/Users/mykhailokilianovskyi/src/study/algorithms/jan_24.ipynb#X22sZmlsZQ%3D%3D?line=2'>3</a>\u001b[0m \u001b[39m@cache\u001b[39m\n\u001b[1;32m      <a href='vscode-notebook-cell:/Users/mykhailokilianovskyi/src/study/algorithms/jan_24.ipynb#X22sZmlsZQ%3D%3D?line=3'>4</a>\u001b[0m \u001b[39mdef\u001b[39;00m \u001b[39mmax_profit\u001b[39m(i):\n\u001b[1;32m      <a href='vscode-notebook-cell:/Users/mykhailokilianovskyi/src/study/algorithms/jan_24.ipynb#X22sZmlsZQ%3D%3D?line=4'>5</a>\u001b[0m     \u001b[39mif\u001b[39;00m i \u001b[39m>\u001b[39m\u001b[39m=\u001b[39m \u001b[39mlen\u001b[39m(jobs): \u001b[39mreturn\u001b[39;00m \u001b[39m0\u001b[39m\n\u001b[1;32m      <a href='vscode-notebook-cell:/Users/mykhailokilianovskyi/src/study/algorithms/jan_24.ipynb#X22sZmlsZQ%3D%3D?line=5'>6</a>\u001b[0m     s,e,p \u001b[39m=\u001b[39m jobs[i]\n",
      "\u001b[0;31mNameError\u001b[0m: name 'cache' is not defined"
     ]
    }
   ],
   "source": [
    "jobs = sorted(zip(startTime, endTime, profit))\n",
    "\n",
    "@cache\n",
    "def max_profit(i):\n",
    "    if i >= len(jobs): return 0\n",
    "    s,e,p = jobs[i]\n",
    "    k = bisect.bisect_left(jobs, e, key=lambda job: job[0])\n",
    "    return max(max_profit(i+1), p + max_profit(k))\n",
    "\n",
    "max_profit(0)\n"
   ]
  },
  {
   "cell_type": "code",
   "execution_count": null,
   "metadata": {},
   "outputs": [],
   "source": []
  },
  {
   "cell_type": "code",
   "execution_count": null,
   "metadata": {},
   "outputs": [],
   "source": []
  },
  {
   "cell_type": "markdown",
   "metadata": {},
   "source": [
    "## 413. Arithmetic Slices"
   ]
  },
  {
   "cell_type": "code",
   "execution_count": 14,
   "metadata": {},
   "outputs": [],
   "source": []
  },
  {
   "cell_type": "code",
   "execution_count": 26,
   "metadata": {},
   "outputs": [],
   "source": [
    "def count_subarrays(l): return ((l-1) * (l-2)) // 2\n"
   ]
  },
  {
   "cell_type": "code",
   "execution_count": 39,
   "metadata": {},
   "outputs": [],
   "source": [
    "nums = [1,2,3,55,7,8,9,11] # [1,2,3] + [7,8,9]\n"
   ]
  },
  {
   "cell_type": "code",
   "execution_count": 54,
   "metadata": {},
   "outputs": [
    {
     "data": {
      "text/plain": [
       "2"
      ]
     },
     "execution_count": 54,
     "metadata": {},
     "output_type": "execute_result"
    }
   ],
   "source": [
    "i = 1\n",
    "total_count = 0\n",
    "\n",
    "while i < len(nums)-1:\n",
    "    d = nums[i] - nums[i-1]\n",
    "    local_length = 0\n",
    "    \n",
    "    while (i < len(nums)-1) and (nums[i+1] - nums[i]) == d:\n",
    "        local_length = max(3, local_length + 1)\n",
    "        i += 1\n",
    "        # print(f'{i=} {local_length=}', nums[(i-local_length+1):i+1])\n",
    "\n",
    "    if local_length > 0:\n",
    "        total_count += count_subarrays(local_length)\n",
    "    i += 1\n",
    "    \n",
    "total_count\n"
   ]
  },
  {
   "cell_type": "code",
   "execution_count": 57,
   "metadata": {},
   "outputs": [
    {
     "data": {
      "text/plain": [
       "(3, 1, 1)"
      ]
     },
     "execution_count": 57,
     "metadata": {},
     "output_type": "execute_result"
    }
   ],
   "source": [
    "count_subarrays(4), count_subarrays(3), count_subarrays(0)\n"
   ]
  },
  {
   "cell_type": "markdown",
   "metadata": {},
   "source": [
    "### simpler indian solution"
   ]
  },
  {
   "cell_type": "code",
   "execution_count": 55,
   "metadata": {},
   "outputs": [],
   "source": [
    "nums = [1,2,3,55,7,8,9,11] # [1,2,3] + [7,8,9]\n"
   ]
  },
  {
   "cell_type": "code",
   "execution_count": 56,
   "metadata": {},
   "outputs": [
    {
     "data": {
      "text/plain": [
       "2"
      ]
     },
     "execution_count": 56,
     "metadata": {},
     "output_type": "execute_result"
    }
   ],
   "source": [
    "d = nums[1] - nums[0]\n",
    "\n",
    "count = 0\n",
    "subcount = 0\n",
    "\n",
    "for i in range(1, len(nums)-1):\n",
    "    curr_d = nums[i+1] - nums[i]\n",
    "    \n",
    "    if curr_d == d:\n",
    "        subcount += 1\n",
    "    else:\n",
    "        d = curr_d\n",
    "        subcount = 0\n",
    "    \n",
    "    count += subcount # jerk off the count with your preliminary results all the time!\n",
    "count\n"
   ]
  },
  {
   "cell_type": "markdown",
   "metadata": {},
   "source": [
    "## bottom-up dp"
   ]
  },
  {
   "cell_type": "code",
   "execution_count": 58,
   "metadata": {},
   "outputs": [],
   "source": [
    "nums = [1,2,3,55,7,8,9,11] # [1,2,3] + [7,8,9]\n"
   ]
  },
  {
   "cell_type": "code",
   "execution_count": 59,
   "metadata": {},
   "outputs": [
    {
     "data": {
      "text/plain": [
       "6"
      ]
     },
     "execution_count": 59,
     "metadata": {},
     "output_type": "execute_result"
    }
   ],
   "source": [
    "nums = [1,2,3,4,6,8,10]\n",
    "\n",
    "\n",
    "count = 0\n",
    "triplets = 0\n",
    "\n",
    "for i in range(2, len(nums)):\n",
    "    if (nums[i] - nums[i-1]) == (nums[i-1] - nums[i-2]):\n",
    "        triplets += 1\n",
    "    else:\n",
    "        triplets = 0\n",
    "    count += triplets\n",
    "\n",
    "count\n"
   ]
  },
  {
   "cell_type": "markdown",
   "metadata": {},
   "source": [
    "## 446. Arithmetic Slices II - Subsequence"
   ]
  },
  {
   "cell_type": "code",
   "execution_count": 72,
   "metadata": {},
   "outputs": [],
   "source": [
    "nums = [2,4,6,8,10]\n"
   ]
  },
  {
   "cell_type": "code",
   "execution_count": 79,
   "metadata": {},
   "outputs": [
    {
     "name": "stdout",
     "output_type": "stream",
     "text": [
      "[2, 4] 2\n",
      "[2, 6] 4\n",
      "[2, 8] 6\n",
      "[2, 10] 8\n",
      "[4, 6] 2\n",
      "[4, 8] 4\n",
      "[4, 10] 6\n",
      "[6, 8] 2\n",
      "[6, 10] 4\n",
      "[8, 10] 2\n"
     ]
    },
    {
     "data": {
      "text/plain": [
       "10"
      ]
     },
     "execution_count": 79,
     "metadata": {},
     "output_type": "execute_result"
    }
   ],
   "source": [
    "diffs = {}\n",
    "count = 0\n",
    "\n",
    "for i in range(len(nums)):\n",
    "    \n",
    "    for j in range(i+1, len(nums)):\n",
    "        d = nums[j] - nums[i]\n",
    "        print([nums[i], nums[j]], d)\n",
    "        if d in diffs:\n",
    "            diffs[d] += 1\n",
    "            count += diffs[d]\n",
    "        else:\n",
    "            diffs[d] = 0\n",
    "\n",
    "count\n"
   ]
  },
  {
   "cell_type": "code",
   "execution_count": null,
   "metadata": {},
   "outputs": [],
   "source": []
  },
  {
   "cell_type": "code",
   "execution_count": null,
   "metadata": {},
   "outputs": [],
   "source": []
  },
  {
   "cell_type": "code",
   "execution_count": 76,
   "metadata": {},
   "outputs": [
    {
     "data": {
      "text/plain": [
       "{2: 3, 4: 2, 6: 1, 8: 0}"
      ]
     },
     "execution_count": 76,
     "metadata": {},
     "output_type": "execute_result"
    }
   ],
   "source": [
    "diffs\n"
   ]
  },
  {
   "cell_type": "code",
   "execution_count": null,
   "metadata": {},
   "outputs": [],
   "source": []
  },
  {
   "cell_type": "code",
   "execution_count": null,
   "metadata": {},
   "outputs": [],
   "source": []
  },
  {
   "cell_type": "code",
   "execution_count": null,
   "metadata": {},
   "outputs": [],
   "source": []
  },
  {
   "cell_type": "code",
   "execution_count": 65,
   "metadata": {},
   "outputs": [
    {
     "name": "stdout",
     "output_type": "stream",
     "text": [
      "[2, 4, 6]\n",
      "[2, 6, 10]\n",
      "[4, 6, 8]\n",
      "[6, 8, 10]\n"
     ]
    },
    {
     "data": {
      "text/plain": [
       "5"
      ]
     },
     "execution_count": 65,
     "metadata": {},
     "output_type": "execute_result"
    }
   ],
   "source": [
    "nums = [2,4,6,8,10]\n",
    "count = 0\n",
    "for i in range(len(nums)):\n",
    "    local_count = 0\n",
    "    for j in range(i+1, len(nums)):\n",
    "        for k in range(j+1, len(nums)):\n",
    "            if (nums[k] - nums[j]) == (nums[j] - nums[i]):\n",
    "                print([nums[ii] for ii in [i,j,k]])\n",
    "                local_count += 1\n",
    "                count += local_count\n",
    "\n",
    "count\n"
   ]
  },
  {
   "cell_type": "code",
   "execution_count": null,
   "metadata": {},
   "outputs": [],
   "source": []
  },
  {
   "cell_type": "code",
   "execution_count": 68,
   "metadata": {},
   "outputs": [
    {
     "name": "stdout",
     "output_type": "stream",
     "text": [
      "[2, 4, 6]\n",
      "[2, 4, 8]\n",
      "[2, 4, 10]\n",
      "[2, 6, 8]\n",
      "[2, 6, 10]\n",
      "[2, 8, 10]\n",
      "[4, 6, 8]\n",
      "[4, 6, 10]\n",
      "[4, 8, 10]\n",
      "[6, 8, 10]\n"
     ]
    }
   ],
   "source": [
    "for i in range(len(nums)):\n",
    "    for j in range(i+1, len(nums)):\n",
    "        for k in range(j+1, len(nums)):\n",
    "            print([nums[ii] for ii in [i,j,k]])\n"
   ]
  },
  {
   "cell_type": "code",
   "execution_count": null,
   "metadata": {},
   "outputs": [],
   "source": []
  },
  {
   "cell_type": "code",
   "execution_count": 67,
   "metadata": {},
   "outputs": [
    {
     "data": {
      "text/plain": [
       "6"
      ]
     },
     "execution_count": 67,
     "metadata": {},
     "output_type": "execute_result"
    }
   ],
   "source": [
    "count = 0\n",
    "triplets = 0\n",
    "\n",
    "for i in range(2, len(nums)):\n",
    "    if (nums[i] - nums[i-1]) == (nums[i-1] - nums[i-2]):\n",
    "        triplets += 1\n",
    "    else:\n",
    "        triplets = 0\n",
    "    count += triplets\n",
    "\n",
    "count\n"
   ]
  },
  {
   "cell_type": "code",
   "execution_count": 71,
   "metadata": {},
   "outputs": [
    {
     "name": "stdout",
     "output_type": "stream",
     "text": [
      "[2, 4, 6, 8, 10]\n",
      "[2, 4, 6, 8]\n",
      "[2, 4, 6, 10]\n",
      "[2, 4, 6]\n",
      "[2, 4, 8, 10]\n",
      "[2, 4, 8]\n",
      "[2, 4, 10]\n",
      "[2, 6, 8, 10]\n",
      "[2, 6, 8]\n",
      "[2, 6, 10]\n",
      "[2, 8, 10]\n",
      "[4, 6, 8, 10]\n",
      "[4, 6, 8]\n",
      "[4, 6, 10]\n",
      "[4, 8, 10]\n",
      "[6, 8, 10]\n"
     ]
    }
   ],
   "source": [
    "def generate_subsequences(array, index=0, subsequence=[]):\n",
    "    if index == len(array):\n",
    "        if len(subsequence) >= 3:\n",
    "            print(subsequence)\n",
    "        return\n",
    "    # Include the current element\n",
    "    generate_subsequences(array, index + 1, subsequence + [array[index]])\n",
    "    # Exclude the current element\n",
    "    generate_subsequences(array, index + 1, subsequence)\n",
    "\n",
    "# Example usage:\n",
    "nums = [2,4,6,8,10]\n",
    "generate_subsequences(nums)\n"
   ]
  },
  {
   "cell_type": "markdown",
   "metadata": {},
   "source": [
    "### Neetcode's solution\n",
    "\n",
    "Idea: \n",
    "\n",
    "1. from left to right, count the number of subsequences ending at i\n",
    "\n",
    "\n"
   ]
  },
  {
   "cell_type": "code",
   "execution_count": 5,
   "metadata": {},
   "outputs": [],
   "source": [
    "from collections import defaultdict\n"
   ]
  },
  {
   "cell_type": "code",
   "execution_count": 6,
   "metadata": {},
   "outputs": [],
   "source": [
    "nums = [2,4,6,8,10]\n"
   ]
  },
  {
   "cell_type": "code",
   "execution_count": 9,
   "metadata": {},
   "outputs": [
    {
     "data": {
      "text/plain": [
       "7"
      ]
     },
     "execution_count": 9,
     "metadata": {},
     "output_type": "execute_result"
    }
   ],
   "source": [
    "res, n = 0, len(nums)\n",
    "\n",
    "dp = [defaultdict(int) for _ in range(n)]\n",
    "\n",
    "# dp[i][diff] = number of subsequences ending at i, with diff\n",
    "\n",
    "for i in range(n):\n",
    "    for j in range(i):\n",
    "        diff = nums[i] - nums[j]\n",
    "        dp[i][diff] = dp[j][diff] + 1\n",
    "        res += 1 + dp[j][diff]\n",
    "res - (n * (n-1) // 2)\n"
   ]
  },
  {
   "cell_type": "code",
   "execution_count": null,
   "metadata": {},
   "outputs": [],
   "source": []
  },
  {
   "cell_type": "code",
   "execution_count": null,
   "metadata": {},
   "outputs": [],
   "source": []
  },
  {
   "cell_type": "code",
   "execution_count": null,
   "metadata": {},
   "outputs": [],
   "source": []
  },
  {
   "cell_type": "code",
   "execution_count": null,
   "metadata": {},
   "outputs": [],
   "source": []
  },
  {
   "cell_type": "code",
   "execution_count": null,
   "metadata": {},
   "outputs": [],
   "source": []
  },
  {
   "cell_type": "code",
   "execution_count": null,
   "metadata": {},
   "outputs": [],
   "source": []
  },
  {
   "cell_type": "code",
   "execution_count": null,
   "metadata": {},
   "outputs": [],
   "source": []
  },
  {
   "cell_type": "code",
   "execution_count": 25,
   "metadata": {},
   "outputs": [
    {
     "data": {
      "text/plain": [
       "3"
      ]
     },
     "execution_count": 25,
     "metadata": {},
     "output_type": "execute_result"
    }
   ],
   "source": []
  },
  {
   "cell_type": "code",
   "execution_count": null,
   "metadata": {},
   "outputs": [],
   "source": []
  },
  {
   "cell_type": "code",
   "execution_count": null,
   "metadata": {},
   "outputs": [],
   "source": []
  },
  {
   "cell_type": "code",
   "execution_count": null,
   "metadata": {},
   "outputs": [],
   "source": []
  },
  {
   "cell_type": "code",
   "execution_count": null,
   "metadata": {},
   "outputs": [],
   "source": []
  },
  {
   "cell_type": "code",
   "execution_count": null,
   "metadata": {},
   "outputs": [],
   "source": []
  },
  {
   "cell_type": "code",
   "execution_count": null,
   "metadata": {},
   "outputs": [],
   "source": []
  },
  {
   "cell_type": "code",
   "execution_count": null,
   "metadata": {},
   "outputs": [],
   "source": []
  },
  {
   "cell_type": "markdown",
   "metadata": {},
   "source": []
  }
 ],
 "metadata": {
  "kernelspec": {
   "display_name": "Python 3",
   "language": "python",
   "name": "python3"
  },
  "language_info": {
   "codemirror_mode": {
    "name": "ipython",
    "version": 3
   },
   "file_extension": ".py",
   "mimetype": "text/x-python",
   "name": "python",
   "nbconvert_exporter": "python",
   "pygments_lexer": "ipython3",
   "version": "3.11.6"
  }
 },
 "nbformat": 4,
 "nbformat_minor": 2
}
