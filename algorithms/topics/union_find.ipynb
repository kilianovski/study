{
 "cells": [
  {
   "cell_type": "markdown",
   "metadata": {},
   "source": [
    "Q: What is Equivalence relation and how it is related to [2092. Find All People With Secret](https://leetcode.com/problems/find-all-people-with-secret)\n",
    " - [ ]\n"
   ]
  },
  {
   "cell_type": "markdown",
   "metadata": {},
   "source": []
  },
  {
   "cell_type": "code",
   "execution_count": 11,
   "metadata": {},
   "outputs": [
    {
     "name": "stdout",
     "output_type": "stream",
     "text": [
      "Time taken for size 1000000: 1.6609463691711426 seconds\n"
     ]
    }
   ],
   "source": [
    "import collections\n",
    "import random\n",
    "import time\n",
    "\n",
    "def generate_random_input(size):\n",
    "    return [(random.randint(0, size-1), random.randint(0, size-1)) for _ in range(size)]\n",
    "\n",
    "def get_disjoint_sets_dfs(sub_meetings):\n",
    "    graph = collections.defaultdict(list)\n",
    "\n",
    "    for edge in sub_meetings:\n",
    "        x, y = edge[0], edge[1]\n",
    "        graph[x].append(y)\n",
    "        graph[y].append(x)\n",
    "\n",
    "    disjoint_sets = []\n",
    "    visited = set()\n",
    "\n",
    "    def explore_island(i):\n",
    "        island = []\n",
    "        stack = [i]\n",
    "        visited.add(i)\n",
    "\n",
    "        while stack:\n",
    "            x = stack.pop()\n",
    "            island.append(x)\n",
    "\n",
    "            for child in graph[x]:\n",
    "                if child not in visited:\n",
    "                    stack.append(child)\n",
    "                    visited.add(child)\n",
    "        return island\n",
    "\n",
    "    for node in graph.keys():\n",
    "        if node not in visited:\n",
    "            island = explore_island(node)\n",
    "            disjoint_sets.append(island)\n",
    "\n",
    "    return disjoint_sets\n",
    "\n",
    "def measure_disjoint_sets_time(size, fn):\n",
    "    random_input = generate_random_input(size)\n",
    "    start_time = time.time()\n",
    "    disjoint_sets = get_disjoint_sets_dfs(random_input)\n",
    "    end_time = time.time()\n",
    "    return disjoint_sets, end_time - start_time\n",
    "\n",
    "# Example usage:\n",
    "size = 1_000_000  # Adjust the size as needed\n",
    "disjoint_sets, time_taken = measure_disjoint_sets_time(size, fn=get_disjoint_sets_dfs)\n",
    "print(f\"Time taken for size {size}: {time_taken} seconds\")"
   ]
  },
  {
   "cell_type": "code",
   "execution_count": 10,
   "metadata": {},
   "outputs": [
    {
     "name": "stdout",
     "output_type": "stream",
     "text": [
      "Time taken for size 1000000: 1.555250883102417 seconds\n"
     ]
    }
   ],
   "source": [
    "def get_disjoint_sets_my_uf(sub_meetings):\n",
    "    parent = [-1 for i in range(n)]\n",
    "\n",
    "    def get_parent(x):\n",
    "        if parent[x] == -1:\n",
    "            parent[x] = x\n",
    "\n",
    "        if parent[x] == x: return x\n",
    "        \n",
    "        return get_parent(parent[x])\n",
    "\n",
    "    for edge in sub_meetings:\n",
    "        x,y = edge[0], edge[1]\n",
    "        \n",
    "        x_parent = get_parent(x)\n",
    "        y_parent = get_parent(y)\n",
    "        # print(f'parent of {x=} is {x_parent=}')\n",
    "        # print(f'parent of {y=} is {y_parent=}')\n",
    "        parent[y_parent] = x_parent\n",
    "        # print(f'{parent=}')\n",
    "\n",
    "    meetings_rooms = {}\n",
    "    for i,p in enumerate(parent):\n",
    "        if p == -1: continue\n",
    "        root_parent = get_parent(p)\n",
    "        p = root_parent\n",
    "        if p not in meetings_rooms:\n",
    "            meetings_rooms[p] = [i]\n",
    "        else:\n",
    "            meetings_rooms[p].append(i)\n",
    "        \n",
    "    return meetings_rooms.values()\n",
    "\n",
    "\n",
    "# Example usage:\n",
    "size = 1_000_000  # Adjust the size as needed\n",
    "disjoint_sets, time_taken = measure_disjoint_sets_time(size, fn=get_disjoint_sets_my_uf)\n",
    "print(f\"Time taken for size {size}: {time_taken} seconds\")"
   ]
  },
  {
   "cell_type": "code",
   "execution_count": null,
   "metadata": {},
   "outputs": [],
   "source": []
  },
  {
   "cell_type": "code",
   "execution_count": 5,
   "metadata": {},
   "outputs": [
    {
     "name": "stdout",
     "output_type": "stream",
     "text": [
      "actual=[[1, 2, 3]] expected=[[1, 2, 3]]\n",
      "actual=[[1, 2], [0, 3], [4, 5]] expected=[[0, 3], [1, 2], [4, 5]]\n",
      "actual=[[0, 1, 3]] expected=[[0, 1, 3]]\n"
     ]
    }
   ],
   "source": [
    "def test_disjoint_sets(edges, expected, fn=get_disjoint_sets_dfs):\n",
    "    actual = fn(edges)\n",
    "    actual = [list(sorted(s)) for s in actual]\n",
    "    print(f'{actual=} {expected=}')\n",
    "\n",
    "\n",
    "test_disjoint_sets([[1,2], [1,3]], [[1,2,3]])\n",
    "test_disjoint_sets([[1,2], [0,3], [4,5]], [[0,3], [1,2], [4,5]])\n",
    "test_disjoint_sets([(3, 1), (0, 3)], [[0,1,3]])"
   ]
  },
  {
   "cell_type": "markdown",
   "metadata": {},
   "source": []
  },
  {
   "cell_type": "markdown",
   "metadata": {},
   "source": []
  },
  {
   "cell_type": "code",
   "execution_count": null,
   "metadata": {},
   "outputs": [],
   "source": []
  },
  {
   "cell_type": "code",
   "execution_count": null,
   "metadata": {},
   "outputs": [],
   "source": []
  },
  {
   "cell_type": "markdown",
   "metadata": {},
   "source": [
    "## Dynamic Connectivity"
   ]
  },
  {
   "cell_type": "markdown",
   "metadata": {},
   "source": [
    "Q: How dynamic connectivity problem is formulated?"
   ]
  },
  {
   "cell_type": "markdown",
   "metadata": {},
   "source": []
  },
  {
   "cell_type": "code",
   "execution_count": null,
   "metadata": {},
   "outputs": [],
   "source": []
  },
  {
   "cell_type": "code",
   "execution_count": null,
   "metadata": {},
   "outputs": [],
   "source": []
  }
 ],
 "metadata": {
  "kernelspec": {
   "display_name": "Python 3",
   "language": "python",
   "name": "python3"
  },
  "language_info": {
   "codemirror_mode": {
    "name": "ipython",
    "version": 3
   },
   "file_extension": ".py",
   "mimetype": "text/x-python",
   "name": "python",
   "nbconvert_exporter": "python",
   "pygments_lexer": "ipython3",
   "version": "3.11.7"
  }
 },
 "nbformat": 4,
 "nbformat_minor": 2
}
