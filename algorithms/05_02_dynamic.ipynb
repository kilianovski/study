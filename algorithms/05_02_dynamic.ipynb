{
 "cells": [
  {
   "cell_type": "markdown",
   "metadata": {},
   "source": [
    "## 1335. Minimum Difficulty of a Job Schedule"
   ]
  },
  {
   "cell_type": "markdown",
   "metadata": {},
   "source": [
    "### Top Down"
   ]
  },
  {
   "cell_type": "code",
   "execution_count": 5,
   "metadata": {},
   "outputs": [],
   "source": [
    "jobDifficulty = [6,5,4,  3,2,1]\n",
    "d = 2\n"
   ]
  },
  {
   "cell_type": "code",
   "execution_count": 18,
   "metadata": {},
   "outputs": [],
   "source": [
    "jobDifficulty = [1,1,1]\n",
    "d = 3\n"
   ]
  },
  {
   "cell_type": "code",
   "execution_count": 19,
   "metadata": {},
   "outputs": [
    {
     "data": {
      "text/plain": [
       "3"
      ]
     },
     "execution_count": 19,
     "metadata": {},
     "output_type": "execute_result"
    }
   ],
   "source": [
    "from functools import cache\n",
    "\n",
    "class Solution:\n",
    "    def minDifficulty(self, jobDifficulty: List[int], d: int) -> int:\n",
    "\n",
    "        n = len(jobDifficulty)\n",
    "\n",
    "        cache = {}\n",
    "        def countDifficulty(i, d):\n",
    "            cache_key = (i,d)\n",
    "            if cache_key in cache: return cache[cache_key]\n",
    "            tasksLeft = n - i\n",
    "            if tasksLeft < d: return -1\n",
    "            \n",
    "            assert not (d <= 0 and tasksLeft > 0)\n",
    "            if i >= n: return 0\n",
    "            minTasksToday = 1 if d != 1 else tasksLeft\n",
    "\n",
    "            doNotTouchQuota = d - 1\n",
    "            maxTasksToday = tasksLeft - doNotTouchQuota #\n",
    "\n",
    "            bestCost = float('inf')\n",
    "            for tasksToday in range(minTasksToday, maxTasksToday+1):\n",
    "                # print(f'{i=} {tasksToday=}')\n",
    "                todaysCost = max(jobDifficulty[i:i+tasksToday])\n",
    "                tailCost = countDifficulty(i+tasksToday, d-1)\n",
    "                bestCost = min(bestCost, todaysCost + tailCost)\n",
    "            cache[cache_key] = bestCost\n",
    "            return bestCost\n",
    "\n",
    "        return countDifficulty(0, d)\n"
   ]
  },
  {
   "cell_type": "code",
   "execution_count": 31,
   "metadata": {},
   "outputs": [],
   "source": [
    "import torch\n",
    "\n",
    "jobDifficulty = torch.randint(low=0, high=1000, size=(200,))\n",
    "d = 10\n"
   ]
  },
  {
   "cell_type": "code",
   "execution_count": 34,
   "metadata": {},
   "outputs": [
    {
     "data": {
      "text/plain": [
       "tensor(3063)"
      ]
     },
     "execution_count": 34,
     "metadata": {},
     "output_type": "execute_result"
    }
   ],
   "source": [
    "n = len(jobDifficulty)\n",
    "\n",
    "cache = {}\n",
    "def countDifficulty(i, d):\n",
    "    cache_key = (i,d)\n",
    "    if cache_key in cache: return cache[cache_key]\n",
    "    tasksLeft = n - i\n",
    "    if tasksLeft < d: return -1\n",
    "    \n",
    "    assert not (d <= 0 and tasksLeft > 0)\n",
    "    if i >= n: return 0\n",
    "    minTasksToday = 1 if d != 1 else tasksLeft\n",
    "\n",
    "    doNotTouchQuota = d - 1\n",
    "    maxTasksToday = tasksLeft - doNotTouchQuota #\n",
    "\n",
    "    bestCost = float('inf')\n",
    "    for tasksToday in range(minTasksToday, maxTasksToday+1):\n",
    "        # print(f'{i=} {tasksToday=}')\n",
    "        todaysCost = max(jobDifficulty[i:i+tasksToday])\n",
    "        tailCost = countDifficulty(i+tasksToday, d-1)\n",
    "        bestCost = min(bestCost, todaysCost + tailCost)\n",
    "    cache[cache_key] = bestCost\n",
    "    return bestCost\n",
    "\n",
    "countDifficulty(0, d)\n"
   ]
  },
  {
   "cell_type": "code",
   "execution_count": 33,
   "metadata": {},
   "outputs": [
    {
     "data": {
      "text/plain": [
       "1720"
      ]
     },
     "execution_count": 33,
     "metadata": {},
     "output_type": "execute_result"
    }
   ],
   "source": [
    "len(cache)\n"
   ]
  },
  {
   "cell_type": "code",
   "execution_count": null,
   "metadata": {},
   "outputs": [],
   "source": []
  },
  {
   "cell_type": "markdown",
   "metadata": {},
   "source": [
    "### Bottom Up"
   ]
  },
  {
   "cell_type": "code",
   "execution_count": 35,
   "metadata": {},
   "outputs": [],
   "source": [
    "jobDifficulty = [6,5,4,  3,2,1]\n",
    "d = 2\n"
   ]
  },
  {
   "cell_type": "code",
   "execution_count": null,
   "metadata": {},
   "outputs": [],
   "source": []
  },
  {
   "cell_type": "markdown",
   "metadata": {},
   "source": [
    "## 70. Climbing Stairs"
   ]
  },
  {
   "cell_type": "markdown",
   "metadata": {},
   "source": [
    "### Memoization"
   ]
  },
  {
   "cell_type": "code",
   "execution_count": 157,
   "metadata": {},
   "outputs": [],
   "source": [
    "from functools import cache\n",
    "\n",
    "@cache\n",
    "def climbStairs(n):\n",
    "    if n < 0: return 0\n",
    "    if n == 0: return 1\n",
    "    \n",
    "    return climbStairs(n-1) + climbStairs(n-2)\n"
   ]
  },
  {
   "cell_type": "code",
   "execution_count": 159,
   "metadata": {},
   "outputs": [
    {
     "data": {
      "text/plain": [
       "(3, 2)"
      ]
     },
     "execution_count": 159,
     "metadata": {},
     "output_type": "execute_result"
    }
   ],
   "source": [
    "climbStairs(3), climbStairs(2)\n"
   ]
  },
  {
   "cell_type": "markdown",
   "metadata": {},
   "source": [
    "### Bottom-Up"
   ]
  },
  {
   "cell_type": "code",
   "execution_count": 167,
   "metadata": {},
   "outputs": [],
   "source": [
    "n = 3\n"
   ]
  },
  {
   "cell_type": "code",
   "execution_count": 168,
   "metadata": {},
   "outputs": [
    {
     "data": {
      "text/plain": [
       "3"
      ]
     },
     "execution_count": 168,
     "metadata": {},
     "output_type": "execute_result"
    }
   ],
   "source": [
    "dp = [0, 1]\n",
    "m = 0\n",
    "\n",
    "while m != n:\n",
    "    \n",
    "    nextFib = sum(dp)\n",
    "    \n",
    "    dp[0] = dp[1]\n",
    "    dp[1] = nextFib\n",
    "    \n",
    "    m += 1\n",
    "\n",
    "dp[1]\n"
   ]
  },
  {
   "cell_type": "code",
   "execution_count": null,
   "metadata": {},
   "outputs": [],
   "source": []
  },
  {
   "cell_type": "markdown",
   "metadata": {},
   "source": [
    "## 91. Decode Ways"
   ]
  },
  {
   "cell_type": "markdown",
   "metadata": {},
   "source": [
    "Goals:\n",
    "\n",
    " - [x] Solve Fibonacci with O(1) memory\n",
    "\n",
    " - [x] Solve in O(1) memory\n",
    "\n",
    " - [x] Solve Decode Ways II"
   ]
  },
  {
   "cell_type": "markdown",
   "metadata": {},
   "source": []
  },
  {
   "cell_type": "markdown",
   "metadata": {},
   "source": []
  },
  {
   "cell_type": "markdown",
   "metadata": {},
   "source": [
    "### Fibonacci\n"
   ]
  },
  {
   "cell_type": "code",
   "execution_count": 30,
   "metadata": {},
   "outputs": [],
   "source": [
    "def bruteFib(n):\n",
    "    if n < 2: return n\n",
    "    \n",
    "    return bruteFib(n-1) + bruteFib(n-2)\n"
   ]
  },
  {
   "cell_type": "code",
   "execution_count": 41,
   "metadata": {},
   "outputs": [],
   "source": [
    "def fib(n):\n",
    "    if n < 2: return n\n",
    "\n",
    "    train_vec = [0,1]\n",
    "    i = 1\n",
    "\n",
    "    while i < n:\n",
    "        \n",
    "        # F_inext = \n",
    "        F_iprev = train_vec[0]\n",
    "        F_icurr = train_vec[1]\n",
    "        F_inext = F_iprev + F_icurr\n",
    "\n",
    "        i+=1\n",
    "\n",
    "        train_vec[0] = F_icurr\n",
    "        train_vec[1] = F_inext\n",
    "\n",
    "    return train_vec[1]\n",
    "    "
   ]
  },
  {
   "cell_type": "code",
   "execution_count": 43,
   "metadata": {},
   "outputs": [],
   "source": [
    "for n in range(10):\n",
    "    assert bruteFib(n) == fib(n)\n"
   ]
  },
  {
   "cell_type": "markdown",
   "metadata": {},
   "source": []
  },
  {
   "cell_type": "code",
   "execution_count": 2,
   "metadata": {},
   "outputs": [],
   "source": [
    "from functools import cache\n",
    "\n",
    "@cache\n",
    "def numDecodings(s, i=0):\n",
    "    n = len(s)\n",
    "\n",
    "    if n == i: return 1\n",
    "    if s[i] == '0': return 0\n",
    "    if i == (n - 1): return 1\n",
    "\n",
    "    r = numDecodings(s, i+1)\n",
    "\n",
    "    if s[i] == '1' or ( s[i] == '2' and s[i+1] not in '789' ):\n",
    "        r += numDecodings(s, i+2)\n",
    "    return r\n"
   ]
  },
  {
   "cell_type": "code",
   "execution_count": null,
   "metadata": {},
   "outputs": [],
   "source": [
    "def numDecodings(s, i=0):\n",
    "    n = len(s)\n",
    "\n",
    "    if n == i: return 1\n",
    "    if s[i] == '0': return 0\n",
    "    if i == (n - 1): return 1\n",
    "\n",
    "    r = numDecodings(s, i+1)\n",
    "\n",
    "    if s[i] == '1' or ( s[i] == '2' and s[i+1] not in '789' ):\n",
    "        r += numDecodings(s, i+2)\n",
    "    return r\n"
   ]
  },
  {
   "cell_type": "code",
   "execution_count": 44,
   "metadata": {},
   "outputs": [
    {
     "data": {
      "text/plain": [
       "2"
      ]
     },
     "execution_count": 44,
     "metadata": {},
     "output_type": "execute_result"
    }
   ],
   "source": [
    "numDecodings('261105')\n"
   ]
  },
  {
   "cell_type": "code",
   "execution_count": 5,
   "metadata": {},
   "outputs": [
    {
     "data": {
      "text/plain": [
       "2"
      ]
     },
     "execution_count": 5,
     "metadata": {},
     "output_type": "execute_result"
    }
   ],
   "source": [
    "numDecodings('127')\n"
   ]
  },
  {
   "cell_type": "code",
   "execution_count": 20,
   "metadata": {},
   "outputs": [
    {
     "data": {
      "text/plain": [
       "(0, 3, 2)"
      ]
     },
     "execution_count": 20,
     "metadata": {},
     "output_type": "execute_result"
    }
   ],
   "source": [
    "numDecodings('06'), numDecodings('226'), numDecodings('12')\n"
   ]
  },
  {
   "cell_type": "code",
   "execution_count": 14,
   "metadata": {},
   "outputs": [
    {
     "data": {
      "text/plain": [
       "4"
      ]
     },
     "execution_count": 14,
     "metadata": {},
     "output_type": "execute_result"
    }
   ],
   "source": [
    "numDecodings('2611055971756562')\n"
   ]
  },
  {
   "cell_type": "code",
   "execution_count": 17,
   "metadata": {},
   "outputs": [
    {
     "data": {
      "image/png": "[encoded data removed]",
      "text/plain": [
       "<Figure size 800x1000 with 1 Axes>"
      ]
     },
     "metadata": {},
     "output_type": "display_data"
    }
   ],
   "source": [
    "import matplotlib.pyplot as plt\n",
    "import networkx as nx\n",
    "\n",
    "class TreeNode:\n",
    "    def __init__(self, val=0, left=None, right=None):\n",
    "        self.val = val\n",
    "        self.left = left\n",
    "        self.right = right\n",
    "        \n",
    "    def __repr__(self): return f'TreeNode({self.val}, left={self.left}, right={self.right})'\n",
    "\n",
    "def add_edges(graph, node, pos, x=0, y=0, layer=1):\n",
    "    pos[node.val] = (x, y)\n",
    "    if node.left:\n",
    "        graph.add_edge(node.val, node.left.val)\n",
    "        l = x - 1 / 2**layer\n",
    "        add_edges(graph, node.left, pos, l, y - 1, layer + 1)\n",
    "    if node.right:\n",
    "        graph.add_edge(node.val, node.right.val)\n",
    "        r = x + 1 / 2**layer\n",
    "        add_edges(graph, node.right, pos, r, y - 1, layer + 1)\n",
    "\n",
    "def createTree(currentNode, currentNum, maxNum):\n",
    "    if currentNum < maxNum:\n",
    "        leftNum = currentNum + 1\n",
    "        rightNum = leftNum + (maxNum - currentNum) // 2\n",
    "        currentNode.left = TreeNode(val=leftNum)\n",
    "        currentNode.right = TreeNode(val=rightNum)\n",
    "        createTree(currentNode.left, leftNum, rightNum - 1)\n",
    "        createTree(currentNode.right, rightNum, maxNum)\n",
    "\n",
    "def visualize_tree(root):\n",
    "    graph = nx.DiGraph()\n",
    "    pos = {}\n",
    "    add_edges(graph, root, pos)\n",
    "    fig, ax = plt.subplots(figsize=(8, 10))\n",
    "    nx.draw(graph, pos, with_labels=True, arrows=False)\n",
    "    plt.show()\n",
    "\n",
    "# Example usage:\n",
    "root = TreeNode(val=1)\n",
    "createTree(root, 1, 20)\n",
    "visualize_tree(root)\n",
    "\n"
   ]
  },
  {
   "cell_type": "code",
   "execution_count": 45,
   "metadata": {},
   "outputs": [
    {
     "data": {
      "image/png": "[encoded data removed]",
      "text/plain": [
       "<Figure size 800x1000 with 1 Axes>"
      ]
     },
     "metadata": {},
     "output_type": "display_data"
    }
   ],
   "source": [
    "N = 6\n",
    "\n",
    "\n",
    "def create91Tree(root, i):\n",
    "    if i >= N: return\n",
    "\n",
    "    root.left = TreeNode(i+1)\n",
    "    create91Tree(root.left, i+1)\n",
    "    \n",
    "    if (i + 2 <= N):\n",
    "        root.right = TreeNode(i+2)\n",
    "        create91Tree(root.right, i+2)\n",
    "\n",
    "root = TreeNode(val=0)\n",
    "create91Tree(root, 0)\n",
    "\n",
    "def draw_unique_tree(root):\n",
    "    graph = nx.DiGraph()\n",
    "    pos = {}\n",
    "    labels = {}\n",
    "    def add_unique_edges(graph, node, pos, labels, x=0, y=0, layer=0):\n",
    "        if node is None:\n",
    "            return\n",
    "        pos[node] = (x, y)\n",
    "        labels[node] = node.val\n",
    "        if node.left:\n",
    "            graph.add_edge(node, node.left)\n",
    "            l = x - 1 / 2**layer\n",
    "            add_unique_edges(graph, node.left, pos, labels, l, y - 1, layer + 1)\n",
    "        if node.right:\n",
    "            graph.add_edge(node, node.right)\n",
    "            r = x + 1 / 2**layer\n",
    "            add_unique_edges(graph, node.right, pos, labels, r, y - 1, layer + 1)\n",
    "    add_unique_edges(graph, root, pos, labels)\n",
    "    fig, ax = plt.subplots(figsize=(8, 10))\n",
    "    nx.draw(graph, pos, labels=labels, with_labels=True, arrows=False)\n",
    "    plt.show()\n",
    "\n",
    "draw_unique_tree(root)\n",
    "\n",
    "# visualize_tree(root)\n"
   ]
  },
  {
   "cell_type": "markdown",
   "metadata": {},
   "source": [
    "## "
   ]
  },
  {
   "cell_type": "code",
   "execution_count": 48,
   "metadata": {},
   "outputs": [
    {
     "data": {
      "image/png": "[encoded data removed]",
      "text/plain": [
       "<Figure size 800x1000 with 1 Axes>"
      ]
     },
     "metadata": {},
     "output_type": "display_data"
    }
   ],
   "source": [
    "N = 2\n",
    "root = TreeNode(val=0)\n",
    "create91Tree(root, 0)\n",
    "draw_unique_tree(root)\n"
   ]
  },
  {
   "cell_type": "code",
   "execution_count": 49,
   "metadata": {},
   "outputs": [],
   "source": [
    "s = '11106'\n"
   ]
  },
  {
   "cell_type": "code",
   "execution_count": 105,
   "metadata": {},
   "outputs": [],
   "source": [
    "def options_1(c):\n",
    "    if c == '0': return 0\n",
    "    if c == '*': return 9\n",
    "    return 1\n",
    "\n",
    "\n",
    "def options_2(c):\n",
    "    if c == '**': return 15\n",
    "\n",
    "    a,b = c\n",
    "\n",
    "\n",
    "    if a == '*':\n",
    "        if b in '0123456': return 2\n",
    "        return 1\n",
    "\n",
    "    if a not in '12': return 0\n",
    "\n",
    "    if b == '*':\n",
    "        if a == '1': return 9\n",
    "        if a == '2': return 6\n",
    "    \n",
    "    if a == '1': return 1\n",
    "    \n",
    "    if b in '789': return 0\n",
    "    \n",
    "    return 1\n"
   ]
  },
  {
   "cell_type": "code",
   "execution_count": 106,
   "metadata": {},
   "outputs": [
    {
     "data": {
      "text/plain": [
       "(9, 6, 15)"
      ]
     },
     "execution_count": 106,
     "metadata": {},
     "output_type": "execute_result"
    }
   ],
   "source": [
    "options_2('1*'), options_2('2*'), options_2('**')\n"
   ]
  },
  {
   "cell_type": "code",
   "execution_count": 107,
   "metadata": {},
   "outputs": [
    {
     "data": {
      "text/plain": [
       "(0, 1, 0, 1, 6)"
      ]
     },
     "execution_count": 107,
     "metadata": {},
     "output_type": "execute_result"
    }
   ],
   "source": [
    "options_2('06'), options_2('26'), options_2('27'), options_2('17'), options_2('2*')\n"
   ]
  },
  {
   "cell_type": "code",
   "execution_count": null,
   "metadata": {},
   "outputs": [],
   "source": []
  },
  {
   "cell_type": "code",
   "execution_count": 109,
   "metadata": {},
   "outputs": [
    {
     "data": {
      "text/plain": [
       "15"
      ]
     },
     "execution_count": 109,
     "metadata": {},
     "output_type": "execute_result"
    }
   ],
   "source": [
    "s = '2*'\n",
    "\n",
    "i = len(s) - 1\n",
    "\n",
    "\n",
    "train_vec = [0,1]\n",
    "\n",
    "while i >= 0:\n",
    "    r,l = train_vec\n",
    "    \n",
    "    train_vec[0] = train_vec[1]\n",
    "    train_vec[1] = 0\n",
    "    \n",
    "    if r != 0:\n",
    "        train_vec[1] += r * options_2(s[i:i+2])\n",
    "    if l != 0:\n",
    "        train_vec[1] += l * options_1(s[i])\n",
    "    \n",
    "    i -= 1\n",
    "\n",
    "train_vec[1]\n"
   ]
  },
  {
   "cell_type": "code",
   "execution_count": null,
   "metadata": {},
   "outputs": [],
   "source": []
  },
  {
   "cell_type": "code",
   "execution_count": null,
   "metadata": {},
   "outputs": [],
   "source": [
    "# if len(s) < 2:\n"
   ]
  },
  {
   "cell_type": "markdown",
   "metadata": {},
   "source": [
    "# 1155. Number of Dice Rolls With Target Sum"
   ]
  },
  {
   "cell_type": "code",
   "execution_count": 118,
   "metadata": {},
   "outputs": [],
   "source": [
    "from functools import cache\n",
    "\n",
    "\n",
    "@cache\n",
    "def numRollsToTarget(n: int, k: int, target: int):\n",
    "    if (target > n * k) or target < n: return 0\n",
    "\n",
    "    if n == 1:\n",
    "        if target < 1 or target > k: return 0\n",
    "        return 1\n",
    "\n",
    "    result = numRollsToTarget(n-1, k, target-rolled)\n",
    "    return result % (10**9 + 7)\n"
   ]
  },
  {
   "cell_type": "code",
   "execution_count": 119,
   "metadata": {},
   "outputs": [
    {
     "data": {
      "text/plain": [
       "(1, 6)"
      ]
     },
     "execution_count": 119,
     "metadata": {},
     "output_type": "execute_result"
    }
   ],
   "source": [
    "numRollsToTarget(n = 1, k = 6, target = 3), numRollsToTarget(n = 2, k = 6, target = 7)\n"
   ]
  },
  {
   "cell_type": "code",
   "execution_count": 120,
   "metadata": {},
   "outputs": [
    {
     "data": {
      "text/plain": [
       "222616187"
      ]
     },
     "execution_count": 120,
     "metadata": {},
     "output_type": "execute_result"
    }
   ],
   "source": [
    "numRollsToTarget(n = 30, k = 30, target = 500)\n"
   ]
  },
  {
   "cell_type": "markdown",
   "metadata": {},
   "source": [
    "## 1578. Minimum Time to Make Rope Colorful"
   ]
  },
  {
   "cell_type": "code",
   "execution_count": 126,
   "metadata": {},
   "outputs": [],
   "source": [
    "colors = \"abc\"\n",
    "neededTime = [1,2,3]\n"
   ]
  },
  {
   "cell_type": "code",
   "execution_count": 123,
   "metadata": {},
   "outputs": [],
   "source": [
    "colors = \"abaac\"\n",
    "neededTime = [1,2,3,4,5]\n"
   ]
  },
  {
   "cell_type": "code",
   "execution_count": 148,
   "metadata": {},
   "outputs": [],
   "source": [
    "colors = \"bbbaaa\"\n",
    "neededTime = [4,9,3,8,8,9]\n"
   ]
  },
  {
   "cell_type": "code",
   "execution_count": 152,
   "metadata": {},
   "outputs": [
    {
     "data": {
      "text/plain": [
       "23"
      ]
     },
     "execution_count": 152,
     "metadata": {},
     "output_type": "execute_result"
    }
   ],
   "source": [
    "sum(neededTime) - 18\n"
   ]
  },
  {
   "cell_type": "code",
   "execution_count": 156,
   "metadata": {},
   "outputs": [
    {
     "data": {
      "text/plain": [
       "23"
      ]
     },
     "execution_count": 156,
     "metadata": {},
     "output_type": "execute_result"
    }
   ],
   "source": [
    "total_time = 0\n",
    "i = 0\n",
    "while i < len(colors) - 1:\n",
    "    if colors[i] == colors[i+1]:\n",
    "        local_min = neededTime[i]\n",
    "        local_total = local_min\n",
    "        j = i + 1\n",
    "\n",
    "        while j < len(colors) and colors[j] == colors[j-1]:\n",
    "\n",
    "            local_total += neededTime[j]\n",
    "            local_min = max(local_min, neededTime[j])\n",
    "            j += 1\n",
    "\n",
    "        i = j-1\n",
    "        total_time += local_total - local_min\n",
    "    i += 1\n",
    "total_time\n"
   ]
  },
  {
   "cell_type": "code",
   "execution_count": 131,
   "metadata": {},
   "outputs": [
    {
     "data": {
      "text/plain": [
       "8"
      ]
     },
     "execution_count": 131,
     "metadata": {},
     "output_type": "execute_result"
    }
   ],
   "source": [
    "local_min\n"
   ]
  },
  {
   "cell_type": "markdown",
   "metadata": {},
   "source": [
    "## 1531. String Compression II"
   ]
  },
  {
   "cell_type": "code",
   "execution_count": 169,
   "metadata": {},
   "outputs": [],
   "source": [
    "s = \"aaabcccd\"\n"
   ]
  },
  {
   "cell_type": "code",
   "execution_count": 177,
   "metadata": {},
   "outputs": [],
   "source": [
    "def encode(s):\n",
    "    result = []\n",
    "    i = 0\n",
    "\n",
    "    while i < len(s):\n",
    "        groupLen = 1\n",
    "\n",
    "        while (i + groupLen < len(s)) and (s[i] == s[i + groupLen]):\n",
    "            groupLen += 1\n",
    "\n",
    "        result.append((s[i], groupLen))\n",
    "        i = i + groupLen\n",
    "\n",
    "    return result\n",
    "\n",
    "def strRepr(encoded):\n",
    "    return ''.join([(char if count == 1 else f'{char}{count}') for char, count in encoded])\n"
   ]
  },
  {
   "cell_type": "code",
   "execution_count": 178,
   "metadata": {},
   "outputs": [
    {
     "name": "stdout",
     "output_type": "stream",
     "text": [
      "[('a', 2), ('b', 1)]\n",
      "[('a', 2), ('b', 2), ('a', 1), ('c', 1)]\n",
      "a2b2ac\n"
     ]
    }
   ],
   "source": [
    "print(encode('aab'))\n",
    "print(encode('aabbac'))\n",
    "\n",
    "print(strRepr ( encode('aabbac') ) )\n"
   ]
  },
  {
   "cell_type": "code",
   "execution_count": null,
   "metadata": {},
   "outputs": [],
   "source": []
  },
  {
   "cell_type": "code",
   "execution_count": 182,
   "metadata": {},
   "outputs": [
    {
     "data": {
      "text/plain": [
       "[('a', 2), ('b', 2), ('a', 1), ('c', 1)]"
      ]
     },
     "execution_count": 182,
     "metadata": {},
     "output_type": "execute_result"
    }
   ],
   "source": [
    "e = encode('aabbac')\n",
    "e\n"
   ]
  },
  {
   "cell_type": "code",
   "execution_count": 184,
   "metadata": {},
   "outputs": [],
   "source": [
    "k = 3\n"
   ]
  },
  {
   "cell_type": "markdown",
   "metadata": {},
   "source": [
    "First attempt:\n",
    "\n",
    " 1. Operate in a space of encoded string\n",
    " 2. Recursive function returns min length of a string for a given budget\n",
    "    1. Base case: you can't remove anything, return current length\n",
    "    2. Loop through your level of possibilities, calculate every to the deepest level, return the min"
   ]
  },
  {
   "cell_type": "markdown",
   "metadata": {},
   "source": [
    "Coding function to iterate over decrease possibilities:\n",
    "\n",
    "1. When you del (n-1) to get rid of digit: decrease by 1\n",
    "2. When go from two digit to single digit: decrease by 1 with a price of n - 9\n",
    "3. When you del     n chars:\n",
    "   1. You decrease by 1 + len(n)\n",
    "   2. MERGE possibility\n"
   ]
  },
  {
   "cell_type": "code",
   "execution_count": 203,
   "metadata": {},
   "outputs": [
    {
     "data": {
      "text/plain": [
       "[3]"
      ]
     },
     "execution_count": 203,
     "metadata": {},
     "output_type": "execute_result"
    }
   ],
   "source": [
    "[i+1]\n"
   ]
  },
  {
   "cell_type": "code",
   "execution_count": 237,
   "metadata": {},
   "outputs": [],
   "source": [
    "def encode(s):\n",
    "    result = []\n",
    "    i = 0\n",
    "\n",
    "    while i < len(s):\n",
    "        groupLen = 1\n",
    "\n",
    "        while (i + groupLen < len(s)) and (s[i] == s[i + groupLen]):\n",
    "            groupLen += 1\n",
    "\n",
    "        result.append((s[i], groupLen))\n",
    "        i = i + groupLen\n",
    "\n",
    "    return tuple(result)\n",
    "\n",
    "\n",
    "def deleteAt(e, i):\n",
    "    options = []\n",
    "\n",
    "    c,n = e[i]\n",
    "\n",
    "    if n != 1:\n",
    "        options.append( (n-1, e[:i] + ((c,1),) + e[i+1:] ) )\n",
    "        \n",
    "    if n > 9:\n",
    "        options.append( (n-9, e[:i] + ((c,9),) + e[i+1:] ) )\n",
    "\n",
    "\n",
    "    should_merge_occur = (i > 0 and i < len(e) - 1) and (e[i-1][0] == e[i+1][0])\n",
    "\n",
    "    if should_merge_occur:\n",
    "        newChar = (e[i-1][0], e[i-1][1] + e[i+1][1])\n",
    "        options.append(\n",
    "            (n, \n",
    "            e[:i-1] + (newChar,) + e[i+2:]\n",
    "            )\n",
    "        )\n",
    "    else:\n",
    "        options.append( (n, e[:i] + e[i+1:] ) )\n",
    "\n",
    "    return options\n",
    "\n",
    "from functools import cache\n",
    "\n",
    "\n",
    "@cache\n",
    "def getOptimalLength(e, k):\n",
    "    length = sum(1 if c == 1 else len(str(c))+1 for _,c in e)\n",
    "    minLength = length\n",
    "\n",
    "    for i in range(len(e)):\n",
    "        options = deleteAt(e, i)\n",
    "        \n",
    "        for price, new_e in options:\n",
    "            if k >= price:\n",
    "                currentPrice = getOptimalLength(new_e, k - price)\n",
    "                minLength = min(minLength, currentPrice)\n",
    "\n",
    "    return minLength\n"
   ]
  },
  {
   "cell_type": "code",
   "execution_count": 238,
   "metadata": {},
   "outputs": [
    {
     "name": "stdout",
     "output_type": "stream",
     "text": [
      "(('l', 10), ('t', 9))\n"
     ]
    },
    {
     "data": {
      "text/plain": [
       "4"
      ]
     },
     "execution_count": 238,
     "metadata": {},
     "output_type": "execute_result"
    }
   ],
   "source": [
    "s = \"llllllllllttttttttt\"\n",
    "e = encode(s)\n",
    "k = 1\n",
    "print(e)\n",
    "\n",
    "getOptimalLength(e, 1)\n"
   ]
  },
  {
   "cell_type": "code",
   "execution_count": 236,
   "metadata": {},
   "outputs": [
    {
     "data": {
      "text/plain": [
       "[(9, [('l', 1), ('t', 9)]), (1, [('l', 9), ('t', 9)]), (10, [('t', 9)])]"
      ]
     },
     "execution_count": 236,
     "metadata": {},
     "output_type": "execute_result"
    }
   ],
   "source": [
    "length = sum(1 if c == 1 else len(str(c))+1 for _,c in e)\n",
    "minLength = length\n",
    "\n",
    "deleteAt(e, 0)\n"
   ]
  },
  {
   "cell_type": "code",
   "execution_count": null,
   "metadata": {},
   "outputs": [],
   "source": [
    "n = 10\n"
   ]
  },
  {
   "cell_type": "code",
   "execution_count": null,
   "metadata": {},
   "outputs": [],
   "source": []
  },
  {
   "cell_type": "markdown",
   "metadata": {},
   "source": []
  },
  {
   "cell_type": "code",
   "execution_count": 183,
   "metadata": {},
   "outputs": [
    {
     "ename": "SyntaxError",
     "evalue": "invalid syntax (107474621.py, line 3)",
     "output_type": "error",
     "traceback": [
      "\u001b[0;36m  Cell \u001b[0;32mIn[183], line 3\u001b[0;36m\u001b[0m\n\u001b[0;31m    newStr =\u001b[0m\n\u001b[0m             ^\u001b[0m\n\u001b[0;31mSyntaxError\u001b[0m\u001b[0;31m:\u001b[0m invalid syntax\n"
     ]
    }
   ],
   "source": [
    "length = sum(l for _,l in e)\n",
    "\n",
    "for i, (c,price) in enumerate(e):\n",
    "    if k >= price:\n",
    "        new_length = length - price\n",
    "        \n",
    "        if (i > 0 and i < len(e) - 1) and e[i-1][0] == e[i+1][0]:\n",
    "            "
   ]
  },
  {
   "cell_type": "code",
   "execution_count": 179,
   "metadata": {},
   "outputs": [],
   "source": [
    "class RunLenghtEncoder:\n",
    "    def __init__(self, s):\n",
    "        # self.s = s\n",
    "        self.encoded = encode(s)\n"
   ]
  },
  {
   "cell_type": "code",
   "execution_count": 239,
   "metadata": {},
   "outputs": [],
   "source": [
    "# 4 parameters:\n",
    "\n",
    "# 1. i\n",
    "# 2. k\n",
    "# 3. prev char\n",
    "# 4. prevCount\n"
   ]
  },
  {
   "cell_type": "code",
   "execution_count": 250,
   "metadata": {},
   "outputs": [],
   "source": [
    "s = \"aaabaaad\"\n",
    "k = 2\n"
   ]
  },
  {
   "cell_type": "code",
   "execution_count": 251,
   "metadata": {},
   "outputs": [
    {
     "data": {
      "text/plain": [
       "1"
      ]
     },
     "execution_count": 251,
     "metadata": {},
     "output_type": "execute_result"
    }
   ],
   "source": [
    "cache = {}\n",
    "\n",
    "def count(i, k, prev, prev_count):\n",
    "    if (i, k, prev, prev_count) in cache:\n",
    "        return cache[(i, k, prev, prev_count)]\n",
    "    if k < 0: return 999\n",
    "\n",
    "    if i == len(s): return 0\n",
    "\n",
    "    if prev == s[i]:\n",
    "        incr = 1 if prev_count in [1,9,99] else 0\n",
    "        res = incr + count(i+1, k, prev, prev_count+1)\n",
    "    else:\n",
    "        do_del = count(i+1, k-1, prev, prev_count)\n",
    "        do_not_del = count(i+1, k, s[i], 1)\n",
    "        \n",
    "        res = min(do_del, do_not_del)\n",
    "    cache[(i, k, prev, prev_count)] = res\n",
    "    return res\n",
    "\n",
    "\n",
    "count(0, k, '', 1)\n"
   ]
  },
  {
   "cell_type": "code",
   "execution_count": null,
   "metadata": {},
   "outputs": [],
   "source": []
  }
 ],
 "metadata": {
  "kernelspec": {
   "display_name": "Python 3",
   "language": "python",
   "name": "python3"
  },
  "language_info": {
   "codemirror_mode": {
    "name": "ipython",
    "version": 3
   },
   "file_extension": ".py",
   "mimetype": "text/x-python",
   "name": "python",
   "nbconvert_exporter": "python",
   "pygments_lexer": "ipython3",
   "version": "3.11.6"
  }
 },
 "nbformat": 4,
 "nbformat_minor": 2
}
