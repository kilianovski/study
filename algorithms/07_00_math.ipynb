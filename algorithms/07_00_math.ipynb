{
 "cells": [
  {
   "cell_type": "code",
   "execution_count": 60,
   "metadata": {},
   "outputs": [
    {
     "data": {
      "text/plain": [
       "[2, 3, 4, 5]"
      ]
     },
     "execution_count": 60,
     "metadata": {},
     "output_type": "execute_result"
    }
   ],
   "source": [
    "arr = [1,2,3,4,5]\n",
    "\n",
    "arr[-4:]"
   ]
  },
  {
   "cell_type": "code",
   "execution_count": 62,
   "metadata": {},
   "outputs": [
    {
     "data": {
      "text/plain": [
       "3"
      ]
     },
     "execution_count": 62,
     "metadata": {},
     "output_type": "execute_result"
    }
   ],
   "source": [
    "max(1,2,3)"
   ]
  },
  {
   "cell_type": "code",
   "execution_count": 38,
   "metadata": {},
   "outputs": [
    {
     "data": {
      "text/plain": [
       "56088"
      ]
     },
     "execution_count": 38,
     "metadata": {},
     "output_type": "execute_result"
    }
   ],
   "source": [
    "num1 = \"123\"\n",
    "num2 = \"456\"\n",
    "\n",
    "int(num1)*int(num2)"
   ]
  },
  {
   "cell_type": "code",
   "execution_count": 49,
   "metadata": {},
   "outputs": [],
   "source": [
    "num1 = \"123\"\n",
    "num2 = \"1\""
   ]
  },
  {
   "cell_type": "code",
   "execution_count": 50,
   "metadata": {},
   "outputs": [
    {
     "data": {
      "text/plain": [
       "'123'"
      ]
     },
     "execution_count": 50,
     "metadata": {},
     "output_type": "execute_result"
    }
   ],
   "source": [
    "str2int = {str(i):i for i in range(10)}\n",
    "\n",
    "def stackify(num):\n",
    "    return [str2int[i] for i in reversed(num)]\n",
    "\n",
    "def multiply(num, d):\n",
    "    carry = 0\n",
    "    res = []\n",
    "\n",
    "    for d2 in num:\n",
    "        r = d * d2 + carry\n",
    "        \n",
    "        carry = r // 10\n",
    "        res.append(r % 10)\n",
    "\n",
    "    while carry > 0:\n",
    "        res.append(carry % 10)\n",
    "        carry //= 10\n",
    "\n",
    "    return res\n",
    "\n",
    "\n",
    "xs = stackify(num1)\n",
    "ys = stackify(num2)\n",
    "\n",
    "\n",
    "results = []\n",
    "for i,d in enumerate(xs):\n",
    "    res = multiply(ys, d)\n",
    "    res = [0]*i + res\n",
    "    results.append(res)\n",
    "\n",
    "answer = results[0]\n",
    "\n",
    "for n in results[1:]:\n",
    "    carry = 0\n",
    "    for i in range(max(len(answer), len(n))):\n",
    "        x = 0 if i >= len(answer) else answer[i]\n",
    "        y = 0 if i >= len(n) else n[i]\n",
    "\n",
    "        r = x + y + carry\n",
    "        carry = r // 10\n",
    "        r = r % 10\n",
    "        \n",
    "        if i >= len(answer):\n",
    "            answer.append(r)\n",
    "        else:\n",
    "            answer[i] = r\n",
    "        \n",
    "    if carry > 0:\n",
    "        answer.append(carry)\n",
    "\n",
    "\n",
    "result = ''\n",
    "leading_zero = False\n",
    "\n",
    "for a in reversed(answer):\n",
    "    if a == 0 and leading_zero:\n",
    "        continue\n",
    "    \n",
    "    result += str(a)\n",
    "    leading_zero = False\n",
    "\n",
    "if result == '':\n",
    "    result = '0'\n",
    "\n",
    "result"
   ]
  },
  {
   "cell_type": "markdown",
   "metadata": {},
   "source": [
    "## Detect Squares"
   ]
  },
  {
   "cell_type": "code",
   "execution_count": 54,
   "metadata": {},
   "outputs": [],
   "source": [
    "n = 1 + 4*4"
   ]
  },
  {
   "cell_type": "code",
   "execution_count": 55,
   "metadata": {},
   "outputs": [],
   "source": [
    "i = [\"DetectSquares\",\"add\",\"add\",\"add\",\"count\",\"add\",\"add\",\"add\",\"count\",\"add\",\"add\",\"add\",\"count\",\"add\",\"add\",\"add\",\"count\",\"add\",\"add\",\"add\",\"count\",\"add\",\"add\",\"add\",\"count\",\"add\",\"add\",\"add\",\"count\",\"add\",\"add\",\"add\",\"count\",\"add\",\"add\",\"add\",\"count\",\"add\",\"add\",\"add\",\"count\",\"add\",\"add\",\"add\",\"count\",\"add\",\"add\",\"add\",\"count\",\"add\",\"add\",\"add\",\"count\",\"add\",\"add\",\"add\",\"count\",\"add\",\"add\",\"add\",\"count\",\"add\",\"add\",\"add\",\"count\",\"add\",\"add\",\"add\",\"count\",\"add\",\"add\",\"add\",\"count\",\"add\",\"add\",\"add\",\"count\",\"add\",\"add\",\"add\",\"count\",\"add\",\"add\",\"add\",\"count\",\"add\",\"add\",\"add\",\"count\",\"add\",\"add\",\"add\",\"count\",\"add\",\"add\",\"add\",\"count\",\"add\",\"add\",\"add\",\"count\",\"add\",\"add\",\"add\",\"count\",\"add\",\"add\",\"add\",\"count\",\"add\",\"add\",\"add\",\"count\",\"add\",\"add\",\"add\",\"count\",\"add\",\"add\",\"add\",\"count\",\"add\",\"add\",\"add\",\"count\",\"add\",\"add\",\"add\",\"count\",\"add\",\"add\",\"add\",\"count\",\"add\",\"add\",\"add\",\"count\",\"add\",\"add\",\"add\",\"count\",\"add\",\"add\",\"add\",\"count\",\"add\",\"add\",\"add\",\"count\",\"add\",\"add\",\"add\",\"count\",\"add\",\"add\",\"add\",\"count\",\"add\",\"add\",\"add\",\"count\",\"add\",\"add\",\"add\",\"count\",\"add\",\"add\",\"add\",\"count\",\"add\",\"add\",\"add\",\"count\",\"add\",\"add\",\"add\",\"count\",\"add\",\"add\",\"add\",\"count\",\"add\",\"add\",\"add\",\"count\",\"add\",\"add\",\"add\",\"count\",\"add\",\"add\",\"add\",\"count\",\"add\",\"add\",\"add\",\"count\",\"add\",\"add\",\"add\",\"count\",\"add\",\"add\",\"add\",\"count\",\"add\",\"add\",\"add\",\"count\",\"add\",\"add\",\"add\",\"count\",\"add\",\"add\",\"add\",\"count\",\"add\",\"add\",\"add\",\"count\",\"add\",\"add\",\"add\",\"count\",\"add\",\"add\",\"add\",\"count\",\"add\",\"add\",\"add\",\"count\",\"add\",\"add\",\"add\",\"count\",\"add\",\"add\",\"add\",\"count\",\"add\",\"add\",\"add\",\"count\",\"add\",\"add\",\"add\",\"count\",\"add\",\"add\",\"add\",\"count\",\"add\",\"add\",\"add\",\"count\",\"add\",\"add\",\"add\",\"count\",\"add\",\"add\",\"add\",\"count\",\"add\",\"add\",\"add\",\"count\",\"add\",\"add\",\"add\",\"count\",\"add\",\"add\",\"add\",\"count\",\"add\",\"add\",\"add\",\"count\",\"add\",\"add\",\"add\",\"count\",\"add\",\"add\",\"add\",\"count\",\"add\",\"add\",\"add\",\"count\",\"add\",\"add\",\"add\",\"count\",\"add\",\"add\",\"add\",\"count\",\"add\",\"add\",\"add\",\"count\",\"add\",\"add\",\"add\",\"count\",\"add\",\"add\",\"add\",\"count\",\"add\",\"add\",\"add\",\"count\",\"add\",\"add\",\"add\",\"count\",\"add\",\"add\",\"add\",\"count\",\"add\",\"add\",\"add\",\"count\",\"add\",\"add\",\"add\",\"count\",\"add\",\"add\",\"add\",\"count\",\"add\",\"add\",\"add\",\"count\",\"add\",\"add\",\"add\",\"count\",\"add\",\"add\",\"add\",\"count\",\"add\",\"add\",\"add\",\"count\",\"add\",\"add\",\"add\",\"count\",\"add\",\"add\",\"add\",\"count\",\"add\",\"add\",\"add\",\"count\",\"add\",\"add\",\"add\",\"count\",\"add\",\"add\",\"add\",\"count\",\"add\",\"add\",\"add\",\"count\",\"add\",\"add\",\"add\",\"count\",\"add\",\"add\",\"add\",\"count\",\"add\",\"add\",\"add\",\"count\",\"add\",\"add\",\"add\",\"count\",\"add\",\"add\",\"add\",\"count\",\"add\",\"add\",\"add\",\"count\",\"add\",\"add\",\"add\",\"count\",\"add\",\"add\",\"add\",\"count\",\"add\",\"add\",\"add\",\"count\",\"add\",\"add\",\"add\",\"count\",\"add\",\"add\",\"add\",\"count\",\"add\",\"add\",\"add\",\"count\",\"add\",\"add\",\"add\",\"count\",\"add\",\"add\",\"add\",\"count\",\"add\",\"add\",\"add\",\"count\",\"add\",\"add\",\"add\",\"count\",\"add\",\"add\",\"add\",\"count\",\"add\",\"add\",\"add\",\"count\",\"add\",\"add\",\"add\",\"count\",\"add\",\"add\",\"add\",\"count\",\"add\",\"add\",\"add\",\"count\",\"add\",\"add\",\"add\",\"count\",\"add\",\"add\",\"add\",\"count\",\"add\",\"add\",\"add\",\"count\",\"add\",\"add\",\"add\",\"count\",\"add\",\"add\",\"add\",\"count\",\"add\",\"add\",\"add\",\"count\",\"add\",\"add\",\"add\",\"count\",\"add\",\"add\",\"add\",\"count\",\"add\",\"add\",\"add\",\"count\",\"add\",\"add\",\"add\",\"count\",\"add\",\"add\",\"add\",\"count\",\"add\",\"add\",\"add\",\"count\",\"add\",\"add\",\"add\",\"count\",\"add\",\"add\",\"add\",\"count\",\"add\",\"add\",\"add\",\"count\",\"add\",\"add\",\"add\",\"count\",\"add\",\"add\",\"add\",\"count\",\"add\",\"add\",\"add\",\"count\",\"add\",\"add\",\"add\",\"count\",\"add\",\"add\",\"add\",\"count\"]"
   ]
  },
  {
   "cell_type": "code",
   "execution_count": 56,
   "metadata": {},
   "outputs": [],
   "source": [
    "o = [[],[[5,10]],[[10,5]],[[10,10]],[[5,5]],[[3,0]],[[8,0]],[[8,5]],[[3,5]],[[9,0]],[[9,8]],[[1,8]],[[1,0]],[[0,0]],[[8,0]],[[8,8]],[[0,8]],[[1,9]],[[2,9]],[[2,10]],[[1,10]],[[7,8]],[[2,3]],[[2,8]],[[7,3]],[[9,10]],[[9,5]],[[4,5]],[[4,10]],[[0,9]],[[4,5]],[[4,9]],[[0,5]],[[1,10]],[[10,1]],[[10,10]],[[1,1]],[[10,0]],[[2,0]],[[2,8]],[[10,8]],[[7,6]],[[4,6]],[[4,9]],[[7,9]],[[10,9]],[[10,0]],[[1,0]],[[1,9]],[[0,9]],[[8,1]],[[0,1]],[[8,9]],[[3,9]],[[10,9]],[[3,2]],[[10,2]],[[3,8]],[[9,2]],[[3,2]],[[9,8]],[[0,9]],[[7,9]],[[0,2]],[[7,2]],[[10,1]],[[1,10]],[[10,10]],[[1,1]],[[6,10]],[[2,6]],[[6,6]],[[2,10]],[[6,0]],[[6,2]],[[8,2]],[[8,0]],[[6,5]],[[7,4]],[[6,4]],[[7,5]],[[2,10]],[[8,4]],[[2,4]],[[8,10]],[[2,6]],[[2,5]],[[1,5]],[[1,6]],[[10,9]],[[10,0]],[[1,9]],[[1,0]],[[0,9]],[[5,9]],[[0,4]],[[5,4]],[[3,6]],[[9,0]],[[3,0]],[[9,6]],[[0,2]],[[1,1]],[[0,1]],[[1,2]],[[1,7]],[[8,0]],[[8,7]],[[1,0]],[[2,7]],[[4,5]],[[2,5]],[[4,7]],[[6,7]],[[3,7]],[[6,4]],[[3,4]],[[10,2]],[[2,10]],[[2,2]],[[10,10]],[[10,1]],[[1,10]],[[1,1]],[[10,10]],[[2,10]],[[2,9]],[[3,9]],[[3,10]],[[10,1]],[[1,10]],[[1,1]],[[10,10]],[[10,4]],[[10,3]],[[9,4]],[[9,3]],[[6,6]],[[6,10]],[[10,6]],[[10,10]],[[9,7]],[[4,7]],[[9,2]],[[4,2]],[[2,3]],[[2,1]],[[0,3]],[[0,1]],[[2,8]],[[10,8]],[[2,0]],[[10,0]],[[8,4]],[[2,10]],[[8,10]],[[2,4]],[[0,0]],[[9,9]],[[0,9]],[[9,0]],[[5,7]],[[5,8]],[[4,7]],[[4,8]],[[10,10]],[[10,1]],[[1,1]],[[1,10]],[[6,8]],[[7,8]],[[6,9]],[[7,9]],[[4,6]],[[1,6]],[[4,3]],[[1,3]],[[10,1]],[[1,10]],[[10,10]],[[1,1]],[[7,7]],[[7,10]],[[4,7]],[[4,10]],[[0,0]],[[8,0]],[[0,8]],[[8,8]],[[3,5]],[[2,4]],[[3,4]],[[2,5]],[[0,6]],[[0,2]],[[4,2]],[[4,6]],[[5,2]],[[9,6]],[[9,2]],[[5,6]],[[1,1]],[[1,10]],[[10,10]],[[10,1]],[[7,5]],[[2,0]],[[2,5]],[[7,0]],[[1,9]],[[1,2]],[[8,2]],[[8,9]],[[3,8]],[[3,3]],[[8,3]],[[8,8]],[[3,10]],[[9,10]],[[3,4]],[[9,4]],[[0,2]],[[0,10]],[[8,10]],[[8,2]],[[9,4]],[[8,4]],[[8,5]],[[9,5]],[[9,8]],[[4,3]],[[4,8]],[[9,3]],[[4,9]],[[0,5]],[[0,9]],[[4,5]],[[1,3]],[[3,5]],[[1,5]],[[3,3]],[[0,0]],[[0,8]],[[8,0]],[[8,8]],[[2,8]],[[10,0]],[[10,8]],[[2,0]],[[8,1]],[[0,9]],[[8,9]],[[0,1]],[[4,9]],[[4,6]],[[1,9]],[[1,6]],[[0,9]],[[0,8]],[[1,9]],[[1,8]],[[5,1]],[[5,6]],[[10,1]],[[10,6]],[[9,2]],[[2,2]],[[2,9]],[[9,9]],[[5,5]],[[8,5]],[[5,8]],[[8,8]],[[8,0]],[[1,0]],[[8,7]],[[1,7]],[[8,2]],[[5,5]],[[5,2]],[[8,5]],[[6,6]],[[6,8]],[[8,6]],[[8,8]],[[2,10]],[[10,2]],[[2,2]],[[10,10]],[[1,9]],[[8,2]],[[1,2]],[[8,9]],[[7,4]],[[7,2]],[[9,4]],[[9,2]],[[1,9]],[[1,0]],[[10,0]],[[10,9]],[[2,10]],[[2,3]],[[9,10]],[[9,3]],[[10,0]],[[1,0]],[[1,9]],[[10,9]],[[8,10]],[[1,10]],[[1,3]],[[8,3]],[[0,9]],[[9,9]],[[0,0]],[[9,0]],[[7,9]],[[8,9]],[[7,8]],[[8,8]],[[3,1]],[[9,7]],[[9,1]],[[3,7]],[[5,9]],[[6,9]],[[5,8]],[[6,8]],[[0,1]],[[0,10]],[[9,10]],[[9,1]],[[8,0]],[[8,2]],[[10,2]],[[10,0]],[[8,0]],[[0,8]],[[8,8]],[[0,0]],[[6,7]],[[5,8]],[[5,7]],[[6,8]],[[0,9]],[[0,2]],[[7,9]],[[7,2]],[[5,0]],[[5,5]],[[10,0]],[[10,5]],[[1,10]],[[10,10]],[[10,1]],[[1,1]],[[9,2]],[[9,10]],[[1,2]],[[1,10]],[[1,10]],[[10,1]],[[10,10]],[[1,1]],[[9,9]],[[0,9]],[[0,0]],[[9,0]],[[9,6]],[[9,3]],[[6,3]],[[6,6]],[[10,4]],[[6,0]],[[10,0]],[[6,4]],[[6,8]],[[0,2]],[[0,8]],[[6,2]],[[7,9]],[[0,9]],[[7,2]],[[0,2]],[[9,1]],[[9,10]],[[0,10]],[[0,1]],[[10,0]],[[10,9]],[[1,9]],[[1,0]],[[1,6]],[[1,9]],[[4,9]],[[4,6]],[[0,8]],[[1,9]],[[0,9]],[[1,8]],[[1,1]],[[9,1]],[[1,9]],[[9,9]],[[2,5]],[[2,9]],[[6,5]],[[6,9]],[[7,3]],[[2,3]],[[2,8]],[[7,8]],[[9,4]],[[4,4]],[[9,9]],[[4,9]],[[4,4]],[[2,4]],[[4,2]],[[2,2]],[[0,3]],[[0,2]],[[1,3]],[[1,2]],[[10,9]],[[10,2]],[[3,2]],[[3,9]],[[5,6]],[[10,6]],[[10,1]],[[5,1]],[[9,0]],[[0,9]],[[9,9]],[[0,0]],[[5,6]],[[9,2]],[[9,6]],[[5,2]],[[3,3]],[[10,3]],[[10,10]],[[3,10]],[[2,4]],[[2,10]],[[8,4]],[[8,10]],[[4,9]],[[1,9]],[[4,6]],[[1,6]],[[1,8]],[[9,0]],[[1,0]],[[9,8]],[[10,3]],[[5,8]],[[5,3]],[[10,8]],[[8,2]],[[0,10]],[[8,10]],[[0,2]],[[9,0]],[[2,7]],[[9,7]],[[2,0]],[[0,4]],[[5,9]],[[0,9]],[[5,4]],[[5,3]],[[10,3]],[[5,8]],[[10,8]],[[6,4]],[[7,4]],[[6,5]],[[7,5]],[[9,1]],[[0,1]],[[9,10]],[[0,10]],[[5,10]],[[5,7]],[[8,7]],[[8,10]],[[8,0]],[[8,7]],[[1,7]],[[1,0]],[[1,1]],[[9,9]],[[1,9]],[[9,1]],[[3,1]],[[3,5]],[[7,5]],[[7,1]],[[5,8]],[[5,3]],[[10,8]],[[10,3]],[[0,9]],[[2,7]],[[2,9]],[[0,7]],[[9,3]],[[9,7]],[[5,3]],[[5,7]],[[0,0]],[[9,0]],[[9,9]],[[0,9]],[[6,4]],[[4,2]],[[4,4]],[[6,2]],[[1,9]],[[1,5]],[[5,5]],[[5,9]],[[7,7]],[[0,7]],[[0,0]],[[7,0]],[[1,3]],[[1,9]],[[7,3]],[[7,9]],[[0,9]],[[9,9]],[[9,0]],[[0,0]],[[1,8]],[[3,6]],[[3,8]],[[1,6]]]"
   ]
  },
  {
   "cell_type": "code",
   "execution_count": 57,
   "metadata": {},
   "outputs": [
    {
     "name": "stdout",
     "output_type": "stream",
     "text": [
      "['DetectSquares', 'add', 'add', 'add', 'count', 'add', 'add', 'add', 'count', 'add', 'add', 'add', 'count', 'add', 'add', 'add', 'count']\n"
     ]
    }
   ],
   "source": [
    "print(i[:n])"
   ]
  },
  {
   "cell_type": "code",
   "execution_count": 58,
   "metadata": {},
   "outputs": [
    {
     "name": "stdout",
     "output_type": "stream",
     "text": [
      "[[], [[5, 10]], [[10, 5]], [[10, 10]], [[5, 5]], [[3, 0]], [[8, 0]], [[8, 5]], [[3, 5]], [[9, 0]], [[9, 8]], [[1, 8]], [[1, 0]], [[0, 0]], [[8, 0]], [[8, 8]], [[0, 8]]]\n"
     ]
    }
   ],
   "source": [
    "print(o[:n])"
   ]
  },
  {
   "cell_type": "code",
   "execution_count": 59,
   "metadata": {},
   "outputs": [
    {
     "data": {
      "text/plain": [
       "[[],\n",
       " [[5, 10]],\n",
       " [[10, 5]],\n",
       " [[10, 10]],\n",
       " [[3, 0]],\n",
       " [[8, 0]],\n",
       " [[8, 5]],\n",
       " [[9, 0]],\n",
       " [[9, 8]],\n",
       " [[1, 8]],\n",
       " [[0, 0]],\n",
       " [[8, 0]],\n",
       " [[8, 8]],\n",
       " [[0, 8]]]"
      ]
     },
     "execution_count": 59,
     "metadata": {},
     "output_type": "execute_result"
    }
   ],
   "source": [
    "[\"DetectSquares\",\"add\",\"add\",\"add\",\"add\",\"add\",\"add\",\"add\",\"add\",\"add\",\"add\",\"add\",\"add\",\"count\"]\n",
    "[[], [[5, 10]], [[10, 5]], [[10, 10]], [[3, 0]], [[8, 0]], [[8, 5]], [[9, 0]], [[9, 8]], [[1, 8]], [[0, 0]], [[8, 0]], [[8, 8]], [[0, 8]]]"
   ]
  },
  {
   "cell_type": "markdown",
   "metadata": {},
   "source": [
    "## Rotate Image"
   ]
  },
  {
   "cell_type": "code",
   "execution_count": 75,
   "metadata": {},
   "outputs": [],
   "source": [
    "matrix = [[1,2,3],[4,5,6],[7,8,9]]"
   ]
  },
  {
   "cell_type": "code",
   "execution_count": 76,
   "metadata": {},
   "outputs": [],
   "source": [
    "M = matrix\n",
    "\n",
    "for i in range(n//2):\n",
    "    for j in range(math.ceil(n/2)):\n",
    "        buffer = M[i][j]\n",
    "        \n",
    "        M[i][j] = M[n - 1 - j][i]\n",
    "        M[n - 1 - j][i] = M[n - 1 - i][n - 1 - j]\n",
    "        M[n - 1 - i][n - 1 - j] = M[j][n - 1 - i]\n",
    "        M[j][n - 1 - i] = buffer\n"
   ]
  },
  {
   "cell_type": "code",
   "execution_count": 77,
   "metadata": {},
   "outputs": [
    {
     "data": {
      "text/plain": [
       "[[7, 4, 1], [8, 5, 2], [9, 6, 3]]"
      ]
     },
     "execution_count": 77,
     "metadata": {},
     "output_type": "execute_result"
    }
   ],
   "source": [
    "M"
   ]
  },
  {
   "cell_type": "code",
   "execution_count": 70,
   "metadata": {},
   "outputs": [],
   "source": [
    "import math"
   ]
  },
  {
   "cell_type": "code",
   "execution_count": 73,
   "metadata": {},
   "outputs": [
    {
     "name": "stdout",
     "output_type": "stream",
     "text": [
      "0 0\n",
      "0 1\n"
     ]
    },
    {
     "data": {
      "text/plain": [
       "[[3, 4, 9], [8, 5, 2], [1, 6, 7]]"
      ]
     },
     "execution_count": 73,
     "metadata": {},
     "output_type": "execute_result"
    }
   ],
   "source": [
    "M = matrix\n",
    "n = len(M)\n",
    "def R(i,j): return j, n-1-i\n",
    "\n",
    "\n",
    "for i in range(n//2):\n",
    "    for j in range(math.ceil(n/2)):\n",
    "        c = (i,j)\n",
    "        buffer = M[i][j]\n",
    "        c = R(*c)\n",
    "        \n",
    "        M[i][j] = M[c[0]][c[1]]\n",
    "        M[c[0]][c[1]] = buffer\n",
    "\n",
    "        c = R(*c)\n",
    "        buffer = M[c[0]][c[1]]\n",
    "        M[c[0]][c[1]] = M[i][j]\n",
    "        \n",
    "        c = R(*c)\n",
    "        M[i][j] = M[c[0]][c[1]]\n",
    "        M[c[0]][c[1]] = buffer\n",
    "\n",
    "M"
   ]
  },
  {
   "cell_type": "markdown",
   "metadata": {},
   "source": [
    "## 54. Spiral Matrix"
   ]
  },
  {
   "cell_type": "markdown",
   "metadata": {},
   "source": [
    "### My first solution"
   ]
  },
  {
   "cell_type": "code",
   "execution_count": 2,
   "metadata": {},
   "outputs": [],
   "source": [
    "class Solution:\n",
    "    def spiralOrder(self, matrix):\n",
    "        m = len(matrix)\n",
    "        n = len(matrix[0])\n",
    "\n",
    "        top, bottom = 1, m-1\n",
    "        left, right = 0, n-1\n",
    "\n",
    "        direction = 'right'\n",
    "        i,j = 0, 0\n",
    "        res = []\n",
    "        while len(res) < m*n:\n",
    "            # print(i,j, res, direction)\n",
    "\n",
    "            res.append(matrix[i][j])\n",
    "\n",
    "\n",
    "            if direction == 'right':\n",
    "                if j >= right:\n",
    "                    direction = 'down'\n",
    "                    right -= 1\n",
    "                    i += 1\n",
    "                else:\n",
    "                    j += 1\n",
    "            elif direction == 'down':\n",
    "                if i >= bottom:\n",
    "                    direction = 'left'\n",
    "                    bottom -= 1\n",
    "                    j -= 1\n",
    "                else:\n",
    "                    i += 1\n",
    "            elif direction == 'left':\n",
    "                if j > left:\n",
    "                    j -= 1\n",
    "                else:\n",
    "                    direction = 'up'\n",
    "                    i -= 1\n",
    "                    left += 1\n",
    "            elif direction == 'up':\n",
    "                if i > top:\n",
    "                    i -= 1\n",
    "                else:\n",
    "                    direction = 'right'\n",
    "                    top += 1\n",
    "                    j += 1\n",
    "\n",
    "                \n",
    "        return res"
   ]
  },
  {
   "cell_type": "markdown",
   "metadata": {},
   "source": [
    "### two small nuances"
   ]
  },
  {
   "cell_type": "code",
   "execution_count": 3,
   "metadata": {},
   "outputs": [],
   "source": [
    "# 1. shift boundary when you step out\n",
    "# 2. check the completion with boundaries"
   ]
  },
  {
   "cell_type": "code",
   "execution_count": 4,
   "metadata": {},
   "outputs": [],
   "source": [
    "matrix = [[1,2,3],[4,5,6],[7,8,9]]"
   ]
  },
  {
   "cell_type": "code",
   "execution_count": 11,
   "metadata": {},
   "outputs": [
    {
     "data": {
      "text/plain": [
       "[1, 2, 3, 6, 9, 8, 7, 4, 5]"
      ]
     },
     "execution_count": 11,
     "metadata": {},
     "output_type": "execute_result"
    }
   ],
   "source": [
    "m = len(matrix)\n",
    "n = len(matrix[0])\n",
    "\n",
    "top, bottom = 0, m\n",
    "left, right = 0, n\n",
    "\n",
    "i,j = 0,0\n",
    "res = []\n",
    "\n",
    "while top < bottom and left < right:\n",
    "    # print('top, bottom', top, bottom)\n",
    "    # print('left, right', left, right)\n",
    "    for j in range(left, right):\n",
    "        res.append(matrix[top][j])\n",
    "    top += 1\n",
    "\n",
    "    for i in range(top, bottom):\n",
    "        res.append(matrix[i][right-1])\n",
    "    right -= 1\n",
    "\n",
    "    # print('left', list(range(right-1, left-1, -1)))\n",
    "\n",
    "    for j in range(right-1, left-1, -1):\n",
    "        res.append(matrix[bottom-1][j])\n",
    "\n",
    "    bottom -= 1\n",
    "\n",
    "    for i in range(bottom-1, top-1, -1):\n",
    "        res.append(matrix[i][left])\n",
    "    \n",
    "    left += 1\n",
    "res"
   ]
  },
  {
   "cell_type": "code",
   "execution_count": 6,
   "metadata": {},
   "outputs": [
    {
     "data": {
      "text/plain": [
       "[1, 0]"
      ]
     },
     "execution_count": 6,
     "metadata": {},
     "output_type": "execute_result"
    }
   ],
   "source": [
    "list(range(1, -1, -1))"
   ]
  },
  {
   "cell_type": "code",
   "execution_count": 12,
   "metadata": {},
   "outputs": [],
   "source": [
    "rows = set()"
   ]
  },
  {
   "cell_type": "code",
   "execution_count": 15,
   "metadata": {},
   "outputs": [],
   "source": [
    "rows.add(1)\n",
    "rows.add(1)"
   ]
  },
  {
   "cell_type": "code",
   "execution_count": 17,
   "metadata": {},
   "outputs": [
    {
     "data": {
      "text/plain": [
       "{1}"
      ]
     },
     "execution_count": 17,
     "metadata": {},
     "output_type": "execute_result"
    }
   ],
   "source": [
    "rows"
   ]
  },
  {
   "cell_type": "markdown",
   "metadata": {},
   "source": [
    "## 55. Jump Game"
   ]
  },
  {
   "cell_type": "markdown",
   "metadata": {},
   "source": [
    "### $n^2$ + DP"
   ]
  },
  {
   "cell_type": "code",
   "execution_count": null,
   "metadata": {},
   "outputs": [],
   "source": [
    "class Solution:\n",
    "    def canJump(self, nums: List[int]) -> bool:\n",
    "        opportunities = [0]\n",
    "        visited = set()\n",
    "\n",
    "        while opportunities:\n",
    "            i = opportunities.pop()\n",
    "\n",
    "            if i == len(nums)-1: return True\n",
    "            visited.add(i)\n",
    "\n",
    "            n = nums[i]\n",
    "            for j in range(i+1, min(len(nums), i+n+1)):\n",
    "                if j not in visited:\n",
    "                    opportunities.append(j)\n",
    "\n",
    "            # print(f'after i={i}, opportunities={opportunities}')\n",
    "\n",
    "        return False"
   ]
  },
  {
   "cell_type": "markdown",
   "metadata": {},
   "source": [
    "### Greedy"
   ]
  },
  {
   "cell_type": "code",
   "execution_count": 22,
   "metadata": {},
   "outputs": [],
   "source": [
    "nums = [2,3,1,0,4]\n",
    "\n",
    "nums = [2,2,1,0,4]\n"
   ]
  },
  {
   "cell_type": "code",
   "execution_count": 24,
   "metadata": {},
   "outputs": [
    {
     "data": {
      "text/plain": [
       "False"
      ]
     },
     "execution_count": 24,
     "metadata": {},
     "output_type": "execute_result"
    }
   ],
   "source": [
    "goal = len(nums) - 1\n",
    "\n",
    "for i in range(len(nums)-1, -1, -1):\n",
    "    if i+nums[i] >= goal:\n",
    "        goal = i\n",
    "\n",
    "goal == 0"
   ]
  },
  {
   "cell_type": "markdown",
   "metadata": {},
   "source": []
  }
 ],
 "metadata": {
  "kernelspec": {
   "display_name": "Python 3",
   "language": "python",
   "name": "python3"
  },
  "language_info": {
   "codemirror_mode": {
    "name": "ipython",
    "version": 3
   },
   "file_extension": ".py",
   "mimetype": "text/x-python",
   "name": "python",
   "nbconvert_exporter": "python",
   "pygments_lexer": "ipython3",
   "version": "3.11.6"
  },
  "orig_nbformat": 4
 },
 "nbformat": 4,
 "nbformat_minor": 2
}
