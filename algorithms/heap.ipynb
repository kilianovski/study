{
 "cells": [
  {
   "cell_type": "markdown",
   "metadata": {},
   "source": [
    "## Spec"
   ]
  },
  {
   "cell_type": "markdown",
   "metadata": {},
   "source": [
    " - Focusing on MaxHeap due to symmetry\n",
    " - Heap properties:\n",
    "   - `is_complete_binary_tree`\n",
    "   - root is smaller than children"
   ]
  },
  {
   "cell_type": "code",
   "execution_count": null,
   "metadata": {},
   "outputs": [],
   "source": [
    "def is_max_heap(root):\n",
    "    "
   ]
  },
  {
   "cell_type": "markdown",
   "metadata": {},
   "source": []
  },
  {
   "cell_type": "code",
   "execution_count": 64,
   "metadata": {},
   "outputs": [
    {
     "data": {
      "text/plain": [
       "[8, 8, 8, 3, 4, 3]"
      ]
     },
     "execution_count": 64,
     "metadata": {},
     "output_type": "execute_result"
    }
   ],
   "source": [
    "def left_index(i): return 2*i + 1\n",
    "def right_index(i): return 2*i + 2 # TODO: understand this equation\n",
    "\n",
    "def parent_index(i): return (i - 1) // 2\n",
    "\n",
    "\n",
    "class MaxHeap:\n",
    "    def __init__(self):\n",
    "        \"\"\"\n",
    "        Initialize a new MaxHeap.\n",
    "\n",
    "        The heap is represented as a dynamic array (list in Python),\n",
    "        where the tree structure is maintained in a way that allows\n",
    "        efficient insertions and deletions.\n",
    "\n",
    "        Heap Property: In a max heap, for any given node C, if P is a parent node of C,\n",
    "        then the key (the value) of P is greater than or equal to the key of C.\n",
    "\n",
    "        Representation:\n",
    "                     0\n",
    "                   /   \\\n",
    "                 1       2\n",
    "                / \\     / \\\n",
    "               3   4   5   6    <-- Example representation in a list\n",
    "\n",
    "        The child nodes of an element at index i are found at indices 2i + 1 and 2i + 2.\n",
    "        The parent node of an element at index i is found at index (i-1) // 2.\n",
    "        \"\"\"\n",
    "        self.heap = []\n",
    "\n",
    "    def insert(self, item):\n",
    "        \"\"\"\n",
    "        Insert an item into the heap.\n",
    "\n",
    "        Time Complexity: O(log n) on average, where n is the number of items in the heap.\n",
    "        This is because we might need to traverse the height of the tree (log n levels) to find the correct spot for the new item.\n",
    "\n",
    "        The insertion is achieved by adding the item at the end of the array and then \"heapifying up\" from this item to restore the heap property.\n",
    "        \"\"\"\n",
    "        \n",
    "        self.heap.append(item)\n",
    "        \n",
    "        i = len(self.heap) - 1\n",
    "        \n",
    "        while self.has_parent(i) and self.heap[i] > self.parent(i):\n",
    "            j = parent_index(i)\n",
    "\n",
    "            self.swap(i, j)\n",
    "            i = j\n",
    "\n",
    "\n",
    "    def left(self, i): return self.heap[left_index(i)]\n",
    "    def right(self, i): return self.heap[right_index(i)]\n",
    "    def parent(self, i): return self.heap[parent_index(i)]\n",
    "    \n",
    "    def has_left(self, i): return left_index(i) < len(self.heap)\n",
    "    def has_right(self, i): return right_index(i) < len(self.heap)\n",
    "    def has_parent(self, i): return parent_index(i) >= 0\n",
    "    \n",
    "    \n",
    "    def swap(self, i, j):\n",
    "        t = self.heap[j]\n",
    "        self.heap[j] = self.heap[i]\n",
    "        self.heap[i] = t\n",
    "\n",
    "\n",
    "\n",
    "    def pop(self):\n",
    "        \"\"\"\n",
    "        Extract the maximum value from the heap.\n",
    "\n",
    "        Time Complexity: O(log n), as it requires \"heapifying down\" from the root to maintain the heap property after the swap.\n",
    "\n",
    "        The maximum element (at the root of the tree) is swapped with the last element of the array, removed, and then the new root is \"heapified down\".\n",
    "        \"\"\"\n",
    "        m = self.heap[0]\n",
    "        self.heap[0] = self.heap.pop()\n",
    "        \n",
    "        i = 0\n",
    "        \n",
    "        while (self.has_left(i)) and (self.has_right(i)) and (self.heap[i] < self.left(i) or self.heap[i] < self.right(i)):\n",
    "            j = left_index(i) if self.left(i) > self.right(i) else right_index(i)\n",
    "            self.swap(i, j)\n",
    "            i = j\n",
    "            \n",
    "        if (self.has_left(i)) and self.heap[i] < self.left(i):\n",
    "            j = left_index(i)\n",
    "            self.swap(i, j)\n",
    "        \n",
    "        return m\n",
    "\n",
    "    def peek(self):\n",
    "        \"\"\"\n",
    "        Get the maximum value from the heap without removing it.\n",
    "\n",
    "        Time Complexity: O(1), as it simply returns the element at the root of the tree (start of the array).\n",
    "        \"\"\"\n",
    "        return self.heap[0]\n",
    "        \n",
    "    def __len__(self): return len(self.heap)\n",
    "    \n",
    "    def __bool__(self): return len(self.heap) != 0\n",
    "        \n",
    "\n",
    "    def __str__(self):\n",
    "        \"\"\"Return a string representation of the heap.\"\"\"\n",
    "        return str(self.heap)\n",
    "\n",
    "    def __repr__(self): return str(self)\n",
    "\n",
    "\n",
    "max_heap = MaxHeap()\n",
    "max_heap.insert(3)\n",
    "max_heap.insert(5)\n",
    "max_heap.insert(4)\n",
    "max_heap.insert(3)\n",
    "max_heap.insert(8)\n",
    "max_heap.insert(5)\n",
    "\n",
    "max_heap.pop()\n",
    "max_heap.pop()\n",
    "max_heap.pop()\n",
    "\n",
    "# max_heap.insert(8)\n",
    "max_heap.insert(8)\n",
    "max_heap.insert(8)\n",
    "max_heap.insert(8)\n",
    "\n",
    "max_heap"
   ]
  },
  {
   "cell_type": "code",
   "execution_count": null,
   "metadata": {},
   "outputs": [],
   "source": []
  },
  {
   "cell_type": "code",
   "execution_count": null,
   "metadata": {},
   "outputs": [],
   "source": []
  },
  {
   "cell_type": "code",
   "execution_count": 56,
   "metadata": {},
   "outputs": [
    {
     "data": {
      "text/plain": [
       "[5, 5, 4, 3, 3]"
      ]
     },
     "execution_count": 56,
     "metadata": {},
     "output_type": "execute_result"
    }
   ],
   "source": [
    "max_heap"
   ]
  },
  {
   "cell_type": "code",
   "execution_count": 57,
   "metadata": {},
   "outputs": [],
   "source": [
    "max_heap = MaxHeap()\n",
    "max_heap.insert(3)\n",
    "max_heap.insert(5)\n",
    "max_heap.insert(4)\n",
    "max_heap.insert(3)\n",
    "max_heap.insert(8)\n",
    "max_heap.insert(5)\n",
    "\n",
    "\n",
    "self = max_heap\n",
    "\n",
    "i = 0\n",
    "\n",
    "while (self.has_left(i)) and (self.has_right(i)) and self.heap[i] < self.left(i) or self.heap[i] < self.right(i):\n",
    "    j = left_index(i) if self.left(i) > self.right(i) else right_index(i)\n",
    "    self.swap(i, j)\n",
    "    i = j"
   ]
  },
  {
   "cell_type": "code",
   "execution_count": 68,
   "metadata": {},
   "outputs": [],
   "source": [
    "def left_index(i): return 2*i + 1\n",
    "def right_index(i): return 2*i + 2 # TODO: understand this equation\n",
    "\n",
    "def parent_index(i): return (i - 1) // 2\n",
    "\n",
    "\n",
    "class MinHeap:\n",
    "    def __init__(self):\n",
    "        self.heap = []\n",
    "\n",
    "    def insert(self, item):\n",
    "        self.heap.append(item)\n",
    "        \n",
    "        i = len(self.heap) - 1\n",
    "        \n",
    "        while self.has_parent(i) and self.heap[i] < self.parent(i):\n",
    "            j = parent_index(i)\n",
    "\n",
    "            self.swap(i, j)\n",
    "            i = j\n",
    "\n",
    "\n",
    "    def left(self, i): return self.heap[left_index(i)]\n",
    "    def right(self, i): return self.heap[right_index(i)]\n",
    "    def parent(self, i): return self.heap[parent_index(i)]\n",
    "    \n",
    "    def has_left(self, i): return left_index(i) < len(self.heap)\n",
    "    def has_right(self, i): return right_index(i) < len(self.heap)\n",
    "    def has_parent(self, i): return parent_index(i) >= 0\n",
    "    \n",
    "    \n",
    "    def swap(self, i, j):\n",
    "        t = self.heap[j]\n",
    "        self.heap[j] = self.heap[i]\n",
    "        self.heap[i] = t\n",
    "\n",
    "\n",
    "\n",
    "    def pop(self):\n",
    "        m = self.heap[0]\n",
    "        self.heap[0] = self.heap.pop()\n",
    "        \n",
    "        i = 0\n",
    "        \n",
    "        while (self.has_left(i)) and (self.has_right(i)) and (self.heap[i] > self.left(i) or self.heap[i] > self.right(i)):\n",
    "            j = left_index(i) if self.left(i) < self.right(i) else right_index(i)\n",
    "            self.swap(i, j)\n",
    "            i = j\n",
    "            \n",
    "        if (self.has_left(i)) and self.heap[i] > self.left(i):\n",
    "            j = left_index(i)\n",
    "            self.swap(i, j)\n",
    "        \n",
    "        return m\n",
    "\n",
    "    def peek(self):\n",
    "        return self.heap[0]\n",
    "        \n",
    "    def __len__(self): return len(self.heap)\n",
    "    \n",
    "    def __bool__(self): return len(self.heap) != 0\n",
    "        \n",
    "\n",
    "    def __str__(self):\n",
    "        return str(self.heap)\n",
    "\n",
    "    def __repr__(self): return str(self)\n"
   ]
  },
  {
   "cell_type": "code",
   "execution_count": 75,
   "metadata": {},
   "outputs": [
    {
     "data": {
      "text/plain": [
       "[2, 3, 3, 3, 3]"
      ]
     },
     "execution_count": 75,
     "metadata": {},
     "output_type": "execute_result"
    }
   ],
   "source": [
    "min_heap = MinHeap()\n",
    "min_heap.insert(3)\n",
    "min_heap.insert(1)\n",
    "min_heap.insert(2)\n",
    "min_heap.insert(3)\n",
    "min_heap.insert(3)\n",
    "min_heap.insert(3)\n",
    "min_heap.insert(1)\n",
    "min_heap.pop()\n",
    "min_heap.pop()\n",
    "min_heap"
   ]
  },
  {
   "cell_type": "code",
   "execution_count": null,
   "metadata": {},
   "outputs": [],
   "source": []
  },
  {
   "cell_type": "code",
   "execution_count": null,
   "metadata": {},
   "outputs": [],
   "source": []
  },
  {
   "cell_type": "code",
   "execution_count": null,
   "metadata": {},
   "outputs": [],
   "source": []
  },
  {
   "cell_type": "code",
   "execution_count": null,
   "metadata": {},
   "outputs": [],
   "source": []
  },
  {
   "cell_type": "code",
   "execution_count": 50,
   "metadata": {},
   "outputs": [
    {
     "ename": "SyntaxError",
     "evalue": "invalid syntax (889237431.py, line 12)",
     "output_type": "error",
     "traceback": [
      "\u001b[0;36m  Cell \u001b[0;32mIn[50], line 12\u001b[0;36m\u001b[0m\n\u001b[0;31m    while self. and self.heap[i] > self.parent(i):\u001b[0m\n\u001b[0m                ^\u001b[0m\n\u001b[0;31mSyntaxError\u001b[0m\u001b[0;31m:\u001b[0m invalid syntax\n"
     ]
    }
   ],
   "source": [
    "max_heap = MaxHeap()\n",
    "max_heap.insert(3)\n",
    "max_heap.insert(5)\n",
    "self = max_heap\n",
    "item = 8\n",
    "\n",
    "self.heap.append(item)\n",
    "\n",
    "i = len(self.heap) - 1\n",
    "\n",
    "print(f'{self.parent(i)=}')\n",
    "while self. and self.heap[i] > self.parent(i):\n",
    "    j = parent_index(i)\n",
    "    print(f'{self.heap=}')\n",
    "\n",
    "    temp = self.heap[j]\n",
    "    self.heap[j] = self.heap[i]\n",
    "    self.heap[i] = temp\n",
    "    print(f'{self.heap=}')\n",
    "    i = j\n",
    "    \n",
    "self"
   ]
  },
  {
   "cell_type": "code",
   "execution_count": null,
   "metadata": {},
   "outputs": [
    {
     "data": {
      "text/plain": [
       "[3, 5]"
      ]
     },
     "execution_count": 35,
     "metadata": {},
     "output_type": "execute_result"
    }
   ],
   "source": []
  },
  {
   "cell_type": "code",
   "execution_count": 99,
   "metadata": {},
   "outputs": [],
   "source": [
    "n = 2\n",
    "meetings = [[0,10],[1,5],[2,7],[3,4]]\n",
    "\n",
    "\n",
    "n = 3\n",
    "meetings = [[1,20],[2,10],[3,5],[4,9],[6,8]]"
   ]
  },
  {
   "cell_type": "code",
   "execution_count": 103,
   "metadata": {},
   "outputs": [
    {
     "data": {
      "text/plain": [
       "2"
      ]
     },
     "execution_count": 103,
     "metadata": {},
     "output_type": "execute_result"
    }
   ],
   "source": [
    "import heapq\n",
    "\n",
    "n = 10\n",
    "\n",
    "free_rooms = list(range(n))\n",
    "heapq.heapify(free_rooms)\n",
    "\n",
    "busy_rooms = []\n",
    "# meetings_hosted = [0] * n\n",
    "meetings_hosted = {r:0 for r in free_rooms}\n",
    "\n",
    "meetings.sort()\n",
    "\n",
    "for start, end in meetings:\n",
    "    while busy_rooms and start >= busy_rooms[0][0]:\n",
    "        _, room = heapq.heappop(busy_rooms)\n",
    "        heapq.heappush(free_rooms, room)\n",
    "        \n",
    "    \n",
    "    if free_rooms:\n",
    "        room = heapq.heappop(free_rooms)\n",
    "        heapq.heappush(busy_rooms, (end, room))\n",
    "    else:\n",
    "        available_at, room = heapq.heappop(busy_rooms)\n",
    "        available_at += (start-end)\n",
    "        heapq.heappush(busy_rooms, (available_at, room))\n",
    "    \n",
    "    meetings_hosted[room] += 1\n",
    "# heapq.heappop(rooms)\n",
    "\n",
    "max(meetings_hosted.items(), key=lambda t: t[1])[0]"
   ]
  },
  {
   "cell_type": "code",
   "execution_count": null,
   "metadata": {},
   "outputs": [],
   "source": []
  },
  {
   "cell_type": "code",
   "execution_count": null,
   "metadata": {},
   "outputs": [],
   "source": []
  },
  {
   "cell_type": "code",
   "execution_count": 97,
   "metadata": {},
   "outputs": [
    {
     "data": {
      "text/plain": [
       "4"
      ]
     },
     "execution_count": 97,
     "metadata": {},
     "output_type": "execute_result"
    }
   ],
   "source": [
    "i"
   ]
  },
  {
   "cell_type": "code",
   "execution_count": 93,
   "metadata": {},
   "outputs": [
    {
     "data": {
      "text/plain": [
       "4"
      ]
     },
     "execution_count": 93,
     "metadata": {},
     "output_type": "execute_result"
    }
   ],
   "source": [
    "i"
   ]
  },
  {
   "cell_type": "code",
   "execution_count": null,
   "metadata": {},
   "outputs": [],
   "source": []
  },
  {
   "cell_type": "code",
   "execution_count": null,
   "metadata": {},
   "outputs": [],
   "source": []
  },
  {
   "cell_type": "code",
   "execution_count": null,
   "metadata": {},
   "outputs": [],
   "source": []
  },
  {
   "cell_type": "code",
   "execution_count": null,
   "metadata": {},
   "outputs": [],
   "source": []
  },
  {
   "cell_type": "code",
   "execution_count": null,
   "metadata": {},
   "outputs": [],
   "source": []
  },
  {
   "cell_type": "code",
   "execution_count": null,
   "metadata": {},
   "outputs": [],
   "source": []
  },
  {
   "cell_type": "code",
   "execution_count": null,
   "metadata": {},
   "outputs": [],
   "source": []
  },
  {
   "cell_type": "code",
   "execution_count": null,
   "metadata": {},
   "outputs": [],
   "source": []
  },
  {
   "cell_type": "code",
   "execution_count": null,
   "metadata": {},
   "outputs": [],
   "source": []
  },
  {
   "cell_type": "code",
   "execution_count": null,
   "metadata": {},
   "outputs": [],
   "source": []
  }
 ],
 "metadata": {
  "kernelspec": {
   "display_name": "Python 3",
   "language": "python",
   "name": "python3"
  },
  "language_info": {
   "codemirror_mode": {
    "name": "ipython",
    "version": 3
   },
   "file_extension": ".py",
   "mimetype": "text/x-python",
   "name": "python",
   "nbconvert_exporter": "python",
   "pygments_lexer": "ipython3",
   "version": "3.11.7"
  }
 },
 "nbformat": 4,
 "nbformat_minor": 2
}
