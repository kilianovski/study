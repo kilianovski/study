{
 "cells": [
  {
   "cell_type": "code",
   "execution_count": 5,
   "metadata": {},
   "outputs": [],
   "source": [
    "import numpy as np"
   ]
  },
  {
   "cell_type": "code",
   "execution_count": 52,
   "metadata": {},
   "outputs": [],
   "source": [
    "def mergesort(arr):\n",
    "    if len(arr) <= 1:\n",
    "        return arr\n",
    "    \n",
    "    sorted_a = mergesort(arr[:len(arr)//2])\n",
    "    sorted_b = mergesort(arr[len(arr)//2:])\n",
    "    \n",
    "    result = np.empty(shape=(len(sorted_a)+len(sorted_b),), dtype=int)\n",
    "    \n",
    "    i,j = 0,0\n",
    "    k = 0\n",
    "    while i < len(sorted_a) and j < len(sorted_b):\n",
    "        if sorted_a[i] < sorted_b[j]:\n",
    "            item = sorted_a[i]\n",
    "            i += 1\n",
    "        else:\n",
    "            item = sorted_b[j]\n",
    "            j += 1\n",
    "            \n",
    "        result[k] = item\n",
    "        k+=1\n",
    "    while i < len(sorted_a):\n",
    "        result[k] = sorted_a[i]\n",
    "        i+=1\n",
    "        k+=1\n",
    "    while j < len(sorted_b):\n",
    "        result[k] = sorted_b[j]\n",
    "        j+=1\n",
    "        k+=1\n",
    "    return result"
   ]
  },
  {
   "cell_type": "code",
   "execution_count": 53,
   "metadata": {},
   "outputs": [
    {
     "data": {
      "text/plain": [
       "array([1, 2, 3])"
      ]
     },
     "execution_count": 53,
     "metadata": {},
     "output_type": "execute_result"
    }
   ],
   "source": [
    "mergesort([2,1,3])"
   ]
  },
  {
   "cell_type": "code",
   "execution_count": 54,
   "metadata": {},
   "outputs": [],
   "source": [
    "sizes = [1,2,3,4,5,10,25, 1000]\n",
    "\n",
    "for _ in range(10):\n",
    "    for size in sizes:\n",
    "        random_arr = np.random.randint(0, 25, size=size)\n",
    "        sorted_arr = np.sort(random_arr)\n",
    "        actual = np.array(mergesort(random_arr))\n",
    "        assert np.all(actual == sorted_arr), f'expected: {sorted_arr}, got {actual}'"
   ]
  },
  {
   "cell_type": "code",
   "execution_count": null,
   "metadata": {},
   "outputs": [],
   "source": []
  }
 ],
 "metadata": {
  "kernelspec": {
   "display_name": "Python 3",
   "language": "python",
   "name": "python3"
  },
  "language_info": {
   "codemirror_mode": {
    "name": "ipython",
    "version": 3
   },
   "file_extension": ".py",
   "mimetype": "text/x-python",
   "name": "python",
   "nbconvert_exporter": "python",
   "pygments_lexer": "ipython3",
   "version": "3.7.4"
  }
 },
 "nbformat": 4,
 "nbformat_minor": 4
}
