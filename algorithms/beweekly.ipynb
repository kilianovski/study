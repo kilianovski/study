{
 "cells": [
  {
   "cell_type": "markdown",
   "metadata": {},
   "source": [
    "# 02.03.2024"
   ]
  },
  {
   "cell_type": "markdown",
   "metadata": {},
   "source": [
    "## 100232. Minimum Operations to Exceed Threshold Value II"
   ]
  },
  {
   "cell_type": "code",
   "execution_count": 1,
   "metadata": {},
   "outputs": [],
   "source": [
    "import heapq"
   ]
  },
  {
   "cell_type": "code",
   "execution_count": 2,
   "metadata": {},
   "outputs": [],
   "source": []
  },
  {
   "cell_type": "code",
   "execution_count": 13,
   "metadata": {},
   "outputs": [],
   "source": [
    "nums = [2,11,10,1,3]\n",
    "k = 10\n",
    "\n",
    "nums = [1,1,2,4,9]\n",
    "k = 20\n",
    "\n",
    "nums = [1]\n",
    "k = 0\n",
    "\n"
   ]
  },
  {
   "cell_type": "code",
   "execution_count": 14,
   "metadata": {},
   "outputs": [
    {
     "data": {
      "text/plain": [
       "0"
      ]
     },
     "execution_count": 14,
     "metadata": {},
     "output_type": "execute_result"
    }
   ],
   "source": [
    "heapq.heapify(nums)\n",
    "\n",
    "count = 0\n",
    "\n",
    "for _ in range(len(nums)):\n",
    "    if nums[0] >= k: break\n",
    "    x = heapq.heappop(nums)\n",
    "    y = heapq.heappop(nums)\n",
    "    \n",
    "    z = 2*x + y\n",
    "    heapq.heappush(nums, z)\n",
    "    count += 1\n",
    "\n",
    "count"
   ]
  },
  {
   "cell_type": "markdown",
   "metadata": {},
   "source": [
    "## 100226. Count Pairs of Connectable Servers in a Weighted Tree Network"
   ]
  },
  {
   "cell_type": "markdown",
   "metadata": {},
   "source": [
    "My current idea:\n",
    "\n",
    "  - Build a data structure for each node\n",
    "  - It will contain a list of routes, each route contains a list of destination\n",
    "\n"
   ]
  },
  {
   "cell_type": "code",
   "execution_count": 43,
   "metadata": {},
   "outputs": [],
   "source": [
    "edges = [[0,1,1],[1,2,5],[2,3,13],[3,4,9],[4,5,2]]\n",
    "signalSpeed = 1"
   ]
  },
  {
   "cell_type": "code",
   "execution_count": 18,
   "metadata": {},
   "outputs": [],
   "source": [
    "edges = [[0,6,3],[6,5,3],[0,3,1],[3,2,7],[3,1,6],[3,4,2]]\n",
    "signalSpeed = 3"
   ]
  },
  {
   "cell_type": "code",
   "execution_count": 58,
   "metadata": {},
   "outputs": [],
   "source": [
    "edges = [[1,0,2],[2,1,4],[3,2,4],[4,0,3],[5,1,4],[6,2,2],[7,6,4],[8,1,2],[9,8,3]]\n",
    "signalSpeed = 1"
   ]
  },
  {
   "cell_type": "code",
   "execution_count": 59,
   "metadata": {},
   "outputs": [],
   "source": [
    "from collections import defaultdict\n",
    "import collections"
   ]
  },
  {
   "cell_type": "code",
   "execution_count": 74,
   "metadata": {},
   "outputs": [
    {
     "data": {
      "text/plain": [
       "[8, 28, 20, 0, 0, 0, 8, 0, 8, 0]"
      ]
     },
     "execution_count": 74,
     "metadata": {},
     "output_type": "execute_result"
    }
   ],
   "source": [
    "routes = defaultdict(list)\n",
    "\n",
    "for a,b,w in edges:\n",
    "    routes[a].append((b,w))\n",
    "    routes[b].append((a,w))\n",
    "\n",
    "paths = defaultdict(list)\n",
    "\n",
    "def get_all_routes(start_from, result, visited):\n",
    "    q = collections.deque([start_from])\n",
    "\n",
    "    while q:\n",
    "        a,w = q.popleft()\n",
    "        visited.add(a)\n",
    "        result.append((a,w))\n",
    "\n",
    "        \n",
    "        for b,wb in routes[a]:\n",
    "            if b not in visited:\n",
    "                q.append((b,w+wb))\n",
    "\n",
    "        \n",
    "        # for \n",
    "        \n",
    "    return result\n",
    "\n",
    "for a, rs in routes.items():\n",
    "    ps = [  ]\n",
    "    # print(f'working with {a=}')\n",
    "    for r,w in rs:\n",
    "        result=get_all_routes((r,w), result=[], visited={a})\n",
    "        # print(f'routes for ({a=}< through >{r=}): {result}')\n",
    "        ps.append(result)\n",
    "    \n",
    "    paths[a] = ps\n",
    "    # print('---'*3)\n",
    "\n",
    "answer = [0 for _ in range(len(paths))]\n",
    "\n",
    "for i, routes in paths.items():\n",
    "    if len(routes) == 1:\n",
    "        res = 0\n",
    "    else:\n",
    "        valid_route_count = [len([(a,w) for a,w in rs if w % signalSpeed == 0]) for rs in routes]\n",
    "        res = 0\n",
    "        # print(f'for {i=} {valid_route_count=}')\n",
    "        for j,x in enumerate(valid_route_count):\n",
    "            # print(f'{valid_route_count[j+1:]=}')\n",
    "            res += x * sum(valid_route_count[j+1:])\n",
    "  \n",
    "        # print(f'{i=} {res=}')\n",
    "    answer[i] = res\n",
    "    # print('---')\n",
    "\n",
    "answer"
   ]
  },
  {
   "cell_type": "code",
   "execution_count": 68,
   "metadata": {},
   "outputs": [
    {
     "data": {
      "text/plain": [
       "[8, 28, 20, 0, 0, 0, 8, 0, 8, 0]"
      ]
     },
     "execution_count": 68,
     "metadata": {},
     "output_type": "execute_result"
    }
   ],
   "source": [
    "[8,28,20,0,0,0,8,0,8,0]"
   ]
  },
  {
   "cell_type": "code",
   "execution_count": 61,
   "metadata": {},
   "outputs": [
    {
     "name": "stdout",
     "output_type": "stream",
     "text": [
      "[(1, 2), (2, 6), (5, 6), (8, 4), (3, 10), (6, 8), (9, 7), (7, 12)]\n",
      "[(4, 3)]\n"
     ]
    }
   ],
   "source": [
    "for p in paths[0]:\n",
    "    print(p)"
   ]
  },
  {
   "cell_type": "code",
   "execution_count": 62,
   "metadata": {},
   "outputs": [
    {
     "name": "stdout",
     "output_type": "stream",
     "text": [
      "[(1, 4), (0, 6), (5, 8), (8, 6), (4, 9), (9, 9)]\n",
      "[(3, 4)]\n",
      "[(6, 2), (7, 6)]\n"
     ]
    }
   ],
   "source": [
    "for p in paths[2]:\n",
    "    print(p)"
   ]
  },
  {
   "cell_type": "code",
   "execution_count": 47,
   "metadata": {},
   "outputs": [
    {
     "data": {
      "text/plain": [
       "[0, 4, 6, 6, 4, 0]"
      ]
     },
     "execution_count": 47,
     "metadata": {},
     "output_type": "execute_result"
    }
   ],
   "source": []
  },
  {
   "cell_type": "code",
   "execution_count": 48,
   "metadata": {},
   "outputs": [
    {
     "data": {
      "text/plain": [
       "[[(4, 2), (3, 11), (2, 24), (1, 29), (0, 30)]]"
      ]
     },
     "execution_count": 48,
     "metadata": {},
     "output_type": "execute_result"
    }
   ],
   "source": [
    "routes"
   ]
  },
  {
   "cell_type": "code",
   "execution_count": null,
   "metadata": {},
   "outputs": [],
   "source": []
  },
  {
   "cell_type": "code",
   "execution_count": null,
   "metadata": {},
   "outputs": [],
   "source": []
  },
  {
   "cell_type": "code",
   "execution_count": null,
   "metadata": {},
   "outputs": [],
   "source": [
    "edges = [[0,6,3],[6,5,3],[0,3,1],[3,2,7],[3,1,6],[3,4,2]]\n",
    "signalSpeed = 3"
   ]
  },
  {
   "cell_type": "code",
   "execution_count": null,
   "metadata": {},
   "outputs": [],
   "source": []
  },
  {
   "cell_type": "markdown",
   "metadata": {},
   "source": []
  },
  {
   "cell_type": "markdown",
   "metadata": {},
   "source": [
    "# Prev"
   ]
  },
  {
   "cell_type": "markdown",
   "metadata": {},
   "source": []
  },
  {
   "cell_type": "code",
   "execution_count": 10,
   "metadata": {},
   "outputs": [
    {
     "data": {
      "text/plain": [
       "1"
      ]
     },
     "execution_count": 10,
     "metadata": {},
     "output_type": "execute_result"
    }
   ],
   "source": [
    "nums = [3,2,6,1,4]\n",
    "nums = [3,2,1]\n",
    "\n",
    "s = nums[0] + nums[1]\n",
    "i = 2\n",
    "\n",
    "while i < len(nums) - 1:\n",
    "    if s != nums[i] + nums[i+1]:\n",
    "        break\n",
    "\n",
    "    i += 2\n",
    "    \n",
    "i // 2"
   ]
  },
  {
   "cell_type": "code",
   "execution_count": null,
   "metadata": {},
   "outputs": [],
   "source": []
  },
  {
   "cell_type": "code",
   "execution_count": 42,
   "metadata": {},
   "outputs": [
    {
     "data": {
      "text/plain": [
       "'q'"
      ]
     },
     "execution_count": 42,
     "metadata": {},
     "output_type": "execute_result"
    }
   ],
   "source": [
    "string.ascii_letters[:26]\n",
    "\n",
    "import random\n",
    "import string\n",
    "import collections\n",
    "\n",
    "def generate_random_string(length):\n",
    "    \"\"\"Generate a random string of a given length.\"\"\"\n",
    "    letters = string.ascii_letters[:26]\n",
    "    return ''.join(random.choice(letters) for i in range(length))\n",
    "\n",
    "\n",
    "fastgo(generate_random_string(10**6))"
   ]
  },
  {
   "cell_type": "code",
   "execution_count": 18,
   "metadata": {},
   "outputs": [
    {
     "data": {
      "text/plain": [
       "('ba', 'abcd')"
      ]
     },
     "execution_count": 18,
     "metadata": {},
     "output_type": "execute_result"
    }
   ],
   "source": [
    "import string\n",
    "\n",
    "string.ascii_letters[:26]\n",
    "\n",
    "def apply_op(s):\n",
    "    result = []\n",
    "    mask = [0 for _ in range(26)]\n",
    "    for char in s:\n",
    "        ascii_code = ord(char)\n",
    "        i = ascii_code - ord('a')\n",
    "        if not mask[i]:\n",
    "            mask[i] = True\n",
    "        else: result.append(char)\n",
    "\n",
    "    return \"\".join(result)\n",
    "\n",
    "\n",
    "s = \"aabcbbca\"\n",
    "def go(s):\n",
    "    while True:\n",
    "        res = apply_op(s)\n",
    "        if res == '': return s\n",
    "        s = res\n",
    "\n",
    "\n",
    "def better_go(s):\n",
    "    counter = collections.Counter(s)\n",
    "    \n",
    "    \n",
    "\n",
    "go(\"aabcbbca\"), go('abcd')"
   ]
  },
  {
   "cell_type": "code",
   "execution_count": 38,
   "metadata": {},
   "outputs": [],
   "source": [
    "s = \"aabcbbca\"\n",
    "\n",
    "def fastgo(s):\n",
    "    counter = collections.Counter(s)\n",
    "\n",
    "    lim = max(counter.values())\n",
    "\n",
    "    survivors = [char for char,count in counter.items() if count == lim]\n",
    "\n",
    "    res = []\n",
    "    for i in range(len(s)-1,-1,-1):\n",
    "        \n",
    "        if s[i] in survivors and s[i] not in res:\n",
    "            res.append(s[i])\n",
    "\n",
    "        if len(survivors) == len(res): break\n",
    "\n",
    "    return \"\".join( reversed(res) )"
   ]
  },
  {
   "cell_type": "markdown",
   "metadata": {},
   "source": [
    "## 100220. Maximum Number of Operations With the Same Score II"
   ]
  },
  {
   "cell_type": "code",
   "execution_count": 48,
   "metadata": {},
   "outputs": [
    {
     "data": {
      "text/plain": [
       "{5: 0, 7: 0}"
      ]
     },
     "execution_count": 48,
     "metadata": {},
     "output_type": "execute_result"
    }
   ],
   "source": [
    "from functools import cache\n",
    "\n",
    "nums = [3,2,1,2,3,4]\n",
    "\n",
    "idx = [(0,1), (-1,-2), (0, -1)]\n",
    "sums = [nums[i] + nums[j] for i,j in idx]\n",
    "sums\n",
    "\n",
    "global_sum_dict = {s:0 for s in sums}\n",
    "global_sum_dict"
   ]
  },
  {
   "cell_type": "code",
   "execution_count": 71,
   "metadata": {},
   "outputs": [
    {
     "data": {
      "text/plain": [
       "4"
      ]
     },
     "execution_count": 71,
     "metadata": {},
     "output_type": "execute_result"
    }
   ],
   "source": [
    "from functools import cache\n",
    "\n",
    "\n",
    "\n",
    "def solu(nums):\n",
    "    @cache\n",
    "    def max_ops(score, left, right):\n",
    "        if left >= right or left >= len(nums)-1 or right < 1: return 0\n",
    "        candidates = [0]\n",
    "\n",
    "        if nums[left] + nums[left+1] == score:\n",
    "            candidates.append( 1 + max_ops(score, left+2, right) )\n",
    "\n",
    "        if nums[left] + nums[right] == score:\n",
    "            candidates.append( 1 + max_ops(score, left+1, right-1) )\n",
    "\n",
    "        if nums[right] + nums[right-1] == score:\n",
    "            candidates.append( 1 + max_ops(score, left, right-2) )\n",
    "            \n",
    "        return max(candidates)\n",
    "\n",
    "    idx = [(0,1), (-1,-2), (0, -1)]\n",
    "    sums = [nums[i] + nums[j] for i,j in idx]\n",
    "\n",
    "    candidates = []\n",
    "    for s in sums:\n",
    "        candidates.append( max_ops(s, 0, len(nums)-1) )\n",
    "    return max(candidates)\n",
    "\n",
    "nums = [3,2,1,2,3,4]\n",
    "nums = [4,4,5,4,5,6,3,5]\n",
    "\n",
    "solu(nums)"
   ]
  },
  {
   "cell_type": "code",
   "execution_count": 72,
   "metadata": {},
   "outputs": [],
   "source": [
    "import numpy as np"
   ]
  },
  {
   "cell_type": "code",
   "execution_count": 86,
   "metadata": {},
   "outputs": [
    {
     "ename": "RecursionError",
     "evalue": "maximum recursion depth exceeded",
     "output_type": "error",
     "traceback": [
      "\u001b[0;31m---------------------------------------------------------------------------\u001b[0m",
      "\u001b[0;31mRecursionError\u001b[0m                            Traceback (most recent call last)",
      "Cell \u001b[0;32mIn[86], line 3\u001b[0m\n\u001b[1;32m      1\u001b[0m nums\u001b[38;5;241m=\u001b[39m np\u001b[38;5;241m.\u001b[39mrandom\u001b[38;5;241m.\u001b[39mrandint(\u001b[38;5;241m1\u001b[39m, high\u001b[38;5;241m=\u001b[39m\u001b[38;5;241m2\u001b[39m, size\u001b[38;5;241m=\u001b[39m\u001b[38;5;241m3002\u001b[39m)\u001b[38;5;241m.\u001b[39mtolist()\n\u001b[0;32m----> 3\u001b[0m \u001b[43msolu\u001b[49m\u001b[43m(\u001b[49m\u001b[43mnums\u001b[49m\u001b[43m)\u001b[49m\n",
      "Cell \u001b[0;32mIn[71], line 28\u001b[0m, in \u001b[0;36msolu\u001b[0;34m(nums)\u001b[0m\n\u001b[1;32m     25\u001b[0m candidates \u001b[38;5;241m=\u001b[39m []\n\u001b[1;32m     26\u001b[0m \u001b[38;5;28;01mfor\u001b[39;00m s \u001b[38;5;129;01min\u001b[39;00m sums:\n\u001b[0;32m---> 28\u001b[0m     candidates\u001b[38;5;241m.\u001b[39mappend( \u001b[43mmax_ops\u001b[49m\u001b[43m(\u001b[49m\u001b[43ms\u001b[49m\u001b[43m,\u001b[49m\u001b[43m \u001b[49m\u001b[38;5;241;43m0\u001b[39;49m\u001b[43m,\u001b[49m\u001b[43m \u001b[49m\u001b[38;5;28;43mlen\u001b[39;49m\u001b[43m(\u001b[49m\u001b[43mnums\u001b[49m\u001b[43m)\u001b[49m\u001b[38;5;241;43m-\u001b[39;49m\u001b[38;5;241;43m1\u001b[39;49m\u001b[43m)\u001b[49m )\n\u001b[1;32m     29\u001b[0m \u001b[38;5;28;01mreturn\u001b[39;00m \u001b[38;5;28mmax\u001b[39m(candidates)\n",
      "Cell \u001b[0;32mIn[71], line 13\u001b[0m, in \u001b[0;36msolu.<locals>.max_ops\u001b[0;34m(score, left, right)\u001b[0m\n\u001b[1;32m     10\u001b[0m candidates \u001b[38;5;241m=\u001b[39m [\u001b[38;5;241m0\u001b[39m]\n\u001b[1;32m     12\u001b[0m \u001b[38;5;28;01mif\u001b[39;00m nums[left] \u001b[38;5;241m+\u001b[39m nums[left\u001b[38;5;241m+\u001b[39m\u001b[38;5;241m1\u001b[39m] \u001b[38;5;241m==\u001b[39m score:\n\u001b[0;32m---> 13\u001b[0m     candidates\u001b[38;5;241m.\u001b[39mappend( \u001b[38;5;241m1\u001b[39m \u001b[38;5;241m+\u001b[39m \u001b[43mmax_ops\u001b[49m\u001b[43m(\u001b[49m\u001b[43mscore\u001b[49m\u001b[43m,\u001b[49m\u001b[43m \u001b[49m\u001b[43mleft\u001b[49m\u001b[38;5;241;43m+\u001b[39;49m\u001b[38;5;241;43m2\u001b[39;49m\u001b[43m,\u001b[49m\u001b[43m \u001b[49m\u001b[43mright\u001b[49m\u001b[43m)\u001b[49m )\n\u001b[1;32m     15\u001b[0m \u001b[38;5;28;01mif\u001b[39;00m nums[left] \u001b[38;5;241m+\u001b[39m nums[right] \u001b[38;5;241m==\u001b[39m score:\n\u001b[1;32m     16\u001b[0m     candidates\u001b[38;5;241m.\u001b[39mappend( \u001b[38;5;241m1\u001b[39m \u001b[38;5;241m+\u001b[39m max_ops(score, left\u001b[38;5;241m+\u001b[39m\u001b[38;5;241m1\u001b[39m, right\u001b[38;5;241m-\u001b[39m\u001b[38;5;241m1\u001b[39m) )\n",
      "Cell \u001b[0;32mIn[71], line 13\u001b[0m, in \u001b[0;36msolu.<locals>.max_ops\u001b[0;34m(score, left, right)\u001b[0m\n\u001b[1;32m     10\u001b[0m candidates \u001b[38;5;241m=\u001b[39m [\u001b[38;5;241m0\u001b[39m]\n\u001b[1;32m     12\u001b[0m \u001b[38;5;28;01mif\u001b[39;00m nums[left] \u001b[38;5;241m+\u001b[39m nums[left\u001b[38;5;241m+\u001b[39m\u001b[38;5;241m1\u001b[39m] \u001b[38;5;241m==\u001b[39m score:\n\u001b[0;32m---> 13\u001b[0m     candidates\u001b[38;5;241m.\u001b[39mappend( \u001b[38;5;241m1\u001b[39m \u001b[38;5;241m+\u001b[39m \u001b[43mmax_ops\u001b[49m\u001b[43m(\u001b[49m\u001b[43mscore\u001b[49m\u001b[43m,\u001b[49m\u001b[43m \u001b[49m\u001b[43mleft\u001b[49m\u001b[38;5;241;43m+\u001b[39;49m\u001b[38;5;241;43m2\u001b[39;49m\u001b[43m,\u001b[49m\u001b[43m \u001b[49m\u001b[43mright\u001b[49m\u001b[43m)\u001b[49m )\n\u001b[1;32m     15\u001b[0m \u001b[38;5;28;01mif\u001b[39;00m nums[left] \u001b[38;5;241m+\u001b[39m nums[right] \u001b[38;5;241m==\u001b[39m score:\n\u001b[1;32m     16\u001b[0m     candidates\u001b[38;5;241m.\u001b[39mappend( \u001b[38;5;241m1\u001b[39m \u001b[38;5;241m+\u001b[39m max_ops(score, left\u001b[38;5;241m+\u001b[39m\u001b[38;5;241m1\u001b[39m, right\u001b[38;5;241m-\u001b[39m\u001b[38;5;241m1\u001b[39m) )\n",
      "    \u001b[0;31m[... skipping similar frames: solu.<locals>.max_ops at line 13 (1483 times)]\u001b[0m\n",
      "Cell \u001b[0;32mIn[71], line 13\u001b[0m, in \u001b[0;36msolu.<locals>.max_ops\u001b[0;34m(score, left, right)\u001b[0m\n\u001b[1;32m     10\u001b[0m candidates \u001b[38;5;241m=\u001b[39m [\u001b[38;5;241m0\u001b[39m]\n\u001b[1;32m     12\u001b[0m \u001b[38;5;28;01mif\u001b[39;00m nums[left] \u001b[38;5;241m+\u001b[39m nums[left\u001b[38;5;241m+\u001b[39m\u001b[38;5;241m1\u001b[39m] \u001b[38;5;241m==\u001b[39m score:\n\u001b[0;32m---> 13\u001b[0m     candidates\u001b[38;5;241m.\u001b[39mappend( \u001b[38;5;241m1\u001b[39m \u001b[38;5;241m+\u001b[39m \u001b[43mmax_ops\u001b[49m\u001b[43m(\u001b[49m\u001b[43mscore\u001b[49m\u001b[43m,\u001b[49m\u001b[43m \u001b[49m\u001b[43mleft\u001b[49m\u001b[38;5;241;43m+\u001b[39;49m\u001b[38;5;241;43m2\u001b[39;49m\u001b[43m,\u001b[49m\u001b[43m \u001b[49m\u001b[43mright\u001b[49m\u001b[43m)\u001b[49m )\n\u001b[1;32m     15\u001b[0m \u001b[38;5;28;01mif\u001b[39;00m nums[left] \u001b[38;5;241m+\u001b[39m nums[right] \u001b[38;5;241m==\u001b[39m score:\n\u001b[1;32m     16\u001b[0m     candidates\u001b[38;5;241m.\u001b[39mappend( \u001b[38;5;241m1\u001b[39m \u001b[38;5;241m+\u001b[39m max_ops(score, left\u001b[38;5;241m+\u001b[39m\u001b[38;5;241m1\u001b[39m, right\u001b[38;5;241m-\u001b[39m\u001b[38;5;241m1\u001b[39m) )\n",
      "\u001b[0;31mRecursionError\u001b[0m: maximum recursion depth exceeded"
     ]
    }
   ],
   "source": [
    "nums= np.random.randint(1, high=2, size=3002).tolist()\n",
    "\n",
    "solu(nums)"
   ]
  },
  {
   "cell_type": "code",
   "execution_count": null,
   "metadata": {},
   "outputs": [],
   "source": []
  },
  {
   "cell_type": "code",
   "execution_count": null,
   "metadata": {},
   "outputs": [],
   "source": []
  },
  {
   "cell_type": "code",
   "execution_count": null,
   "metadata": {},
   "outputs": [],
   "source": []
  },
  {
   "cell_type": "code",
   "execution_count": null,
   "metadata": {},
   "outputs": [],
   "source": []
  },
  {
   "cell_type": "code",
   "execution_count": null,
   "metadata": {},
   "outputs": [],
   "source": []
  },
  {
   "cell_type": "code",
   "execution_count": null,
   "metadata": {},
   "outputs": [],
   "source": []
  },
  {
   "cell_type": "code",
   "execution_count": 52,
   "metadata": {},
   "outputs": [],
   "source": [
    "nums = [3,2,1,2,3,4]\n",
    "\n",
    "def tree_search(score, left, right):\n",
    "    best_child = -1\n",
    "    \n",
    "    idx = [(left, left+1, (left+2, right)), (left, right, (left+1, right-1)), (right-1, right, (left, right-2))]\n",
    "    \n",
    "    idx = [(i,j, ran) for i,j, ran in idx if i < j and i >= 0 and j < len(nums)]\n",
    "    print(f'candidates: {idx=}')\n",
    "    \n",
    "    for i,j, (nl, nr) in idx:\n",
    "        s = nums[i] + nums[j]\n",
    "        \n",
    "        if s == score:\n",
    "            best_child = max(best_child, tree_search(score, nl, nr))\n",
    "        \n",
    "    return -1 if best_child == -1 else 1 + best_child"
   ]
  },
  {
   "cell_type": "code",
   "execution_count": 53,
   "metadata": {},
   "outputs": [
    {
     "name": "stdout",
     "output_type": "stream",
     "text": [
      "candidates: idx=[(0, 1, (2, 5)), (0, 5, (1, 4)), (4, 5, (0, 3))]\n",
      "candidates: idx=[(2, 3, (4, 5)), (2, 5, (3, 4)), (4, 5, (2, 3))]\n",
      "candidates: idx=[(3, 4, (5, 4)), (3, 4, (4, 3)), (3, 4, (3, 2))]\n",
      "candidates: idx=[(3, 4, (5, 2))]\n",
      "candidates: idx=[(1, 2, (5, 0))]\n",
      "candidates: idx=[(4, 5, (6, 3)), (2, 3, (4, 1))]\n",
      "candidates: idx=[(3, 4, (5, 2)), (1, 2, (3, 0))]\n",
      "candidates: idx=[(1, 2, (5, 0))]\n"
     ]
    },
    {
     "data": {
      "text/plain": [
       "-1"
      ]
     },
     "execution_count": 53,
     "metadata": {},
     "output_type": "execute_result"
    }
   ],
   "source": [
    "tree_search(5, 0, len(nums)-1)"
   ]
  },
  {
   "cell_type": "code",
   "execution_count": 45,
   "metadata": {},
   "outputs": [],
   "source": [
    "test_cases = [\n",
    "    ([3,2,1,2,3,4], 3),\n",
    "    ([3,2,6,1,4], 2),\n",
    "    \n",
    "    ([4,4,5,4,5,6,3,5], 4),\n",
    "]"
   ]
  },
  {
   "cell_type": "code",
   "execution_count": null,
   "metadata": {},
   "outputs": [],
   "source": []
  },
  {
   "cell_type": "markdown",
   "metadata": {},
   "source": []
  }
 ],
 "metadata": {
  "kernelspec": {
   "display_name": "Python 3",
   "language": "python",
   "name": "python3"
  },
  "language_info": {
   "codemirror_mode": {
    "name": "ipython",
    "version": 3
   },
   "file_extension": ".py",
   "mimetype": "text/x-python",
   "name": "python",
   "nbconvert_exporter": "python",
   "pygments_lexer": "ipython3",
   "version": "3.11.7"
  }
 },
 "nbformat": 4,
 "nbformat_minor": 2
}
