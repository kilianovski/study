{
 "cells": [
  {
   "cell_type": "code",
   "execution_count": 46,
   "metadata": {},
   "outputs": [],
   "source": [
    "piles = [3,6,7,11]\n",
    "h = 8"
   ]
  },
  {
   "cell_type": "code",
   "execution_count": 52,
   "metadata": {},
   "outputs": [],
   "source": [
    "piles = [30,11,23,4,20]\n",
    "h = 5"
   ]
  },
  {
   "cell_type": "code",
   "execution_count": 53,
   "metadata": {},
   "outputs": [],
   "source": [
    "import math\n",
    "\n",
    "def count_hours(piles, k):\n",
    "    total = 0\n",
    "    for p in piles:\n",
    "        total += math.ceil(p / k)\n",
    "    return total"
   ]
  },
  {
   "cell_type": "code",
   "execution_count": 54,
   "metadata": {},
   "outputs": [
    {
     "data": {
      "text/plain": [
       "23"
      ]
     },
     "execution_count": 54,
     "metadata": {},
     "output_type": "execute_result"
    }
   ],
   "source": [
    "count_hours(piles, 4)"
   ]
  },
  {
   "cell_type": "code",
   "execution_count": 55,
   "metadata": {},
   "outputs": [
    {
     "name": "stdout",
     "output_type": "stream",
     "text": [
      "this_hours=8 k=16\n",
      "this_hours=6 k=24\n",
      "this_hours=6 k=28\n",
      "this_hours=5 k=30\n",
      "this_hours=6 k=29\n"
     ]
    },
    {
     "data": {
      "text/plain": [
       "30"
      ]
     },
     "execution_count": 55,
     "metadata": {},
     "output_type": "execute_result"
    }
   ],
   "source": [
    "l = 1\n",
    "r = max(piles) + 1\n",
    "\n",
    "best_k = r - 1\n",
    "\n",
    "\n",
    "while l < r:\n",
    "    k = (l+r) // 2\n",
    "\n",
    "    this_hours = count_hours(piles, k)\n",
    "\n",
    "    print(f'{this_hours=} {k=}')\n",
    "    if this_hours > h:\n",
    "        l = k + 1 \n",
    "    elif this_hours <= h:\n",
    "        r = k\n",
    "        best_k = k\n",
    "\n",
    "best_k"
   ]
  },
  {
   "cell_type": "code",
   "execution_count": null,
   "metadata": {},
   "outputs": [],
   "source": []
  },
  {
   "cell_type": "code",
   "execution_count": null,
   "metadata": {},
   "outputs": [],
   "source": []
  },
  {
   "cell_type": "code",
   "execution_count": 40,
   "metadata": {},
   "outputs": [
    {
     "name": "stdout",
     "output_type": "stream",
     "text": [
      "w1, w2 5 5\n",
      "w1, w2 8 6\n",
      "entering the loop\n",
      "w1, w2 8 8 k=4\n",
      "w1, w2 10 8 k=3\n",
      "4\n"
     ]
    }
   ],
   "source": [
    "l = len(piles)\n",
    "r = max(piles) - 1\n",
    "l,r\n",
    "\n",
    "\n",
    "while l<r:\n",
    "    m = (l+r)//2\n",
    "    \n",
    "    w1 = count_hours(piles, m)\n",
    "    w2 = count_hours(piles, m+1)\n",
    "    \n",
    "    # print('w1, w2', w1, w2)\n",
    "    \n",
    "    if w2 > h:\n",
    "        l = m + 1\n",
    "        continue\n",
    "    elif w1 < h:\n",
    "        r = m\n",
    "        continue\n",
    "    \n",
    "    if w2 == h and w1 > h:\n",
    "        # print (m+1)\n",
    "        break\n",
    "    elif w1 == h:\n",
    "        # print ('entering the loop')\n",
    "        \n",
    "        while m > 1 and w2 <= w1 and w1 == h:\n",
    "            m -= 1\n",
    "            w2 = w1\n",
    "            w1 = count_hours(piles, m)\n",
    "            # print('w1, w2', w1, w2, f'k={m}')\n",
    "            \n",
    "        \n",
    "        # return m + 1\n",
    "        print(m + 1)\n",
    "        break\n",
    "    else:\n",
    "        print ( 'banana' )\n",
    "        l = r\n",
    "    \n"
   ]
  },
  {
   "cell_type": "code",
   "execution_count": 31,
   "metadata": {},
   "outputs": [
    {
     "name": "stdout",
     "output_type": "stream",
     "text": [
      "count_hours(k=4)=8\n",
      "count_hours(k=5)=8\n",
      "count_hours(k=6)=6\n",
      "count_hours(k=7)=5\n",
      "count_hours(k=8)=5\n",
      "count_hours(k=9)=5\n"
     ]
    }
   ],
   "source": [
    "l = len(piles)\n",
    "r = max(piles) - 1\n",
    "\n",
    "for k in range(l, r):\n",
    "    print(f'count_hours(k={k})={count_hours(piles, k)}')"
   ]
  },
  {
   "cell_type": "code",
   "execution_count": null,
   "metadata": {},
   "outputs": [],
   "source": []
  }
 ],
 "metadata": {
  "kernelspec": {
   "display_name": "Python 3",
   "language": "python",
   "name": "python3"
  },
  "language_info": {
   "codemirror_mode": {
    "name": "ipython",
    "version": 3
   },
   "file_extension": ".py",
   "mimetype": "text/x-python",
   "name": "python",
   "nbconvert_exporter": "python",
   "pygments_lexer": "ipython3",
   "version": "3.11.6"
  },
  "orig_nbformat": 4
 },
 "nbformat": 4,
 "nbformat_minor": 2
}
