{
 "cells": [
  {
   "cell_type": "markdown",
   "metadata": {},
   "source": [
    "## 34. Find First and Last Position of Element in Sorted Array"
   ]
  },
  {
   "cell_type": "code",
   "execution_count": 1,
   "metadata": {},
   "outputs": [],
   "source": [
    "import bisect"
   ]
  },
  {
   "cell_type": "code",
   "execution_count": 22,
   "metadata": {},
   "outputs": [
    {
     "data": {
      "text/plain": [
       "3"
      ]
     },
     "execution_count": 22,
     "metadata": {},
     "output_type": "execute_result"
    }
   ],
   "source": [
    "nums = [5,7,7,8,8,10]\n",
    "target = 8\n",
    "bisect.bisect_left(nums, 8)"
   ]
  },
  {
   "cell_type": "code",
   "execution_count": 25,
   "metadata": {},
   "outputs": [],
   "source": [
    "l,r = 0, len(nums)\n",
    "\n",
    "def binsearch(l,r):\n",
    "    while l < r:\n",
    "        m = (l+r)//2\n",
    "        \n",
    "        if nums[m] > target:\n",
    "            r = m\n",
    "        elif nums[m] < target:\n",
    "            l = m + 1\n",
    "        else:\n",
    "            return m,l,r\n",
    "    return -1,-1,-1"
   ]
  },
  {
   "cell_type": "code",
   "execution_count": 31,
   "metadata": {},
   "outputs": [
    {
     "data": {
      "text/plain": [
       "(1, 6)"
      ]
     },
     "execution_count": 31,
     "metadata": {},
     "output_type": "execute_result"
    }
   ],
   "source": [
    "l+1,r"
   ]
  },
  {
   "cell_type": "code",
   "execution_count": 42,
   "metadata": {},
   "outputs": [
    {
     "data": {
      "text/plain": [
       "(0, 0, 1)"
      ]
     },
     "execution_count": 42,
     "metadata": {},
     "output_type": "execute_result"
    }
   ],
   "source": [
    "binsearch(0,1)"
   ]
  },
  {
   "cell_type": "code",
   "execution_count": null,
   "metadata": {},
   "outputs": [],
   "source": []
  },
  {
   "cell_type": "code",
   "execution_count": 50,
   "metadata": {},
   "outputs": [
    {
     "data": {
      "text/plain": [
       "[0, 3]"
      ]
     },
     "execution_count": 50,
     "metadata": {},
     "output_type": "execute_result"
    }
   ],
   "source": [
    "nums = [2,2]\n",
    "target = 2\n",
    "\n",
    "nums = [0,0,0,0,1,2,3,3,4,5,6,6,7,8,8,8,9,9,10,10,11,11]\n",
    "target = 0\n",
    "\n",
    "m,l,r = binsearch(0,len(nums))\n",
    "\n",
    "def left_search(l,m):\n",
    "    lefti,l,_ = binsearch(l,m)\n",
    "    if lefti == -1: return m\n",
    "    else: return left_search(l,lefti)\n",
    "\n",
    "\n",
    "def right_search(m,r):\n",
    "    righti,_,r = binsearch(m+1,r)\n",
    "    if righti == -1: return m\n",
    "    else: return right_search(righti,r)\n",
    "\n",
    "lefti = left_search(l,m)\n",
    "righti = right_search(m,r)\n",
    "\n",
    "[lefti, righti]"
   ]
  },
  {
   "cell_type": "code",
   "execution_count": 48,
   "metadata": {},
   "outputs": [
    {
     "data": {
      "text/plain": [
       "2"
      ]
     },
     "execution_count": 48,
     "metadata": {},
     "output_type": "execute_result"
    }
   ],
   "source": [
    "m"
   ]
  },
  {
   "cell_type": "code",
   "execution_count": null,
   "metadata": {},
   "outputs": [],
   "source": []
  },
  {
   "cell_type": "code",
   "execution_count": 41,
   "metadata": {},
   "outputs": [
    {
     "data": {
      "text/plain": [
       "1"
      ]
     },
     "execution_count": 41,
     "metadata": {},
     "output_type": "execute_result"
    }
   ],
   "source": [
    "m"
   ]
  },
  {
   "cell_type": "code",
   "execution_count": 38,
   "metadata": {},
   "outputs": [
    {
     "data": {
      "text/plain": [
       "[-1, -1]"
      ]
     },
     "execution_count": 38,
     "metadata": {},
     "output_type": "execute_result"
    }
   ],
   "source": []
  },
  {
   "cell_type": "code",
   "execution_count": 13,
   "metadata": {},
   "outputs": [
    {
     "data": {
      "text/plain": [
       "3"
      ]
     },
     "execution_count": 13,
     "metadata": {},
     "output_type": "execute_result"
    }
   ],
   "source": []
  },
  {
   "cell_type": "markdown",
   "metadata": {},
   "source": [
    "## 1351. Count Negative Numbers in a Sorted Matrix"
   ]
  },
  {
   "cell_type": "code",
   "execution_count": 1,
   "metadata": {},
   "outputs": [],
   "source": [
    "grid = [[4,3,2,-1],[3,2,1,-1],[1,1,-1,-2],[-1,-1,-2,-3]]"
   ]
  },
  {
   "cell_type": "markdown",
   "metadata": {},
   "source": [
    "### `O(m * log n)`"
   ]
  },
  {
   "cell_type": "code",
   "execution_count": 3,
   "metadata": {},
   "outputs": [
    {
     "data": {
      "text/plain": [
       "8"
      ]
     },
     "execution_count": 3,
     "metadata": {},
     "output_type": "execute_result"
    }
   ],
   "source": [
    "def count(nums):\n",
    "    # l is the first negative idx\n",
    "    # r is the first negative idx also xD\n",
    "    l,r = 0, len(nums)\n",
    "    \n",
    "    while l < r:\n",
    "        m = (l+r) // 2\n",
    "\n",
    "        if nums[m] < 0:\n",
    "            r = m\n",
    "        else:\n",
    "            l = m + 1\n",
    "    return len(nums) - r\n",
    "\n",
    "\n",
    "sum(map(count, grid))"
   ]
  },
  {
   "cell_type": "markdown",
   "metadata": {},
   "source": [
    "### `O(m + n)`"
   ]
  },
  {
   "cell_type": "code",
   "execution_count": 12,
   "metadata": {},
   "outputs": [],
   "source": [
    "import numpy as np"
   ]
  },
  {
   "cell_type": "code",
   "execution_count": 13,
   "metadata": {},
   "outputs": [
    {
     "data": {
      "text/plain": [
       "array([[ 4,  3,  2, -1],\n",
       "       [ 3,  2,  1, -1],\n",
       "       [ 1,  1, -1, -2],\n",
       "       [-1, -1, -2, -3]])"
      ]
     },
     "execution_count": 13,
     "metadata": {},
     "output_type": "execute_result"
    }
   ],
   "source": [
    "np.array(grid)"
   ]
  },
  {
   "cell_type": "code",
   "execution_count": 14,
   "metadata": {},
   "outputs": [
    {
     "data": {
      "text/plain": [
       "8"
      ]
     },
     "execution_count": 14,
     "metadata": {},
     "output_type": "execute_result"
    }
   ],
   "source": [
    "m,n = len(grid),len(grid[0])\n",
    "\n",
    "count = 0\n",
    "j = n - 1\n",
    "i = 0\n",
    "\n",
    "while j >= 0 and i < m:\n",
    "    if grid[i][j] < 0:\n",
    "        count += m - i\n",
    "        j -= 1\n",
    "    else:\n",
    "        i += 1\n",
    "\n",
    "count"
   ]
  },
  {
   "cell_type": "code",
   "execution_count": null,
   "metadata": {},
   "outputs": [],
   "source": []
  },
  {
   "cell_type": "code",
   "execution_count": null,
   "metadata": {},
   "outputs": [],
   "source": []
  },
  {
   "cell_type": "code",
   "execution_count": null,
   "metadata": {},
   "outputs": [],
   "source": []
  },
  {
   "cell_type": "code",
   "execution_count": null,
   "metadata": {},
   "outputs": [],
   "source": []
  },
  {
   "cell_type": "code",
   "execution_count": null,
   "metadata": {},
   "outputs": [],
   "source": []
  },
  {
   "cell_type": "code",
   "execution_count": null,
   "metadata": {},
   "outputs": [],
   "source": []
  },
  {
   "cell_type": "markdown",
   "metadata": {},
   "source": [
    "## 1287. Element Appearing More Than 25% In Sorted Array\n",
    "\n",
    "\n"
   ]
  },
  {
   "cell_type": "code",
   "execution_count": 9,
   "metadata": {},
   "outputs": [],
   "source": [
    "arr = [1,2,2,6,6,6,6,7,10]\n",
    "\n",
    "arr = [1,2,3,4,5,6,7,8,9,10,11,12,12,12,12]\n",
    "# arr = [1,3,4]\n",
    "len(arr) * 0.25\n",
    "arr = [1,1,2,2,2]\n"
   ]
  },
  {
   "cell_type": "code",
   "execution_count": 19,
   "metadata": {},
   "outputs": [],
   "source": [
    "arr = [1,2,3,4,5,6,7,8,9,10,11,12,12,12,12]\n"
   ]
  },
  {
   "cell_type": "code",
   "execution_count": 20,
   "metadata": {},
   "outputs": [],
   "source": [
    "import math\n"
   ]
  },
  {
   "cell_type": "code",
   "execution_count": 21,
   "metadata": {},
   "outputs": [
    {
     "data": {
      "text/plain": [
       "(5, 2)"
      ]
     },
     "execution_count": 21,
     "metadata": {},
     "output_type": "execute_result"
    }
   ],
   "source": [
    "n, q\n"
   ]
  },
  {
   "cell_type": "code",
   "execution_count": 23,
   "metadata": {},
   "outputs": [
    {
     "data": {
      "text/plain": [
       "12"
      ]
     },
     "execution_count": 23,
     "metadata": {},
     "output_type": "execute_result"
    }
   ],
   "source": [
    "n = len(arr)\n",
    "q = math.ceil(n/4)\n",
    "\n",
    "\n",
    "candidate_i = [q-1, q*2 - 1, q*3 - 1]\n",
    "candidate_i = [min(i, n-1) for i in candidate_i]\n",
    "\n",
    "\n",
    "best_c_count = 0\n",
    "best_c = arr[candidate_i[0]]\n",
    "\n",
    "\n",
    "for ci in candidate_i:\n",
    "    c = arr[ci]\n",
    "    count = sum([n == c for n in arr])\n",
    "    if best_c_count < count:\n",
    "        best_c_count = count\n",
    "        best_c = c\n",
    "\n",
    "\n",
    "best_c\n"
   ]
  },
  {
   "cell_type": "code",
   "execution_count": 24,
   "metadata": {},
   "outputs": [
    {
     "ename": "NameError",
     "evalue": "name 'bisect_left' is not defined",
     "output_type": "error",
     "traceback": [
      "\u001b[0;31m---------------------------------------------------------------------------\u001b[0m",
      "\u001b[0;31mNameError\u001b[0m                                 Traceback (most recent call last)",
      "\u001b[1;32m/Users/mykhailokilianovskyi/src/study/algorithms/02_00_binary_search.ipynb Cell 7\u001b[0m line \u001b[0;36m1\n\u001b[0;32m----> <a href='vscode-notebook-cell:/Users/mykhailokilianovskyi/src/study/algorithms/02_00_binary_search.ipynb#Y112sZmlsZQ%3D%3D?line=0'>1</a>\u001b[0m bisect_left\n",
      "\u001b[0;31mNameError\u001b[0m: name 'bisect_left' is not defined"
     ]
    }
   ],
   "source": []
  },
  {
   "cell_type": "markdown",
   "metadata": {},
   "source": [
    "### Linear"
   ]
  },
  {
   "cell_type": "code",
   "execution_count": null,
   "metadata": {},
   "outputs": [],
   "source": [
    "\n",
    "curr_n = arr[0]\n",
    "c = 0\n",
    "best_n = curr_n\n",
    "max_len = c\n",
    "\n",
    "\n",
    "for i in range(1, len(arr)):\n",
    "    if arr[i-1] == arr[i]:\n",
    "        if arr[i] != curr_n:\n",
    "            curr_n = arr[i]\n",
    "            c = 0\n",
    "\n",
    "        c += 1\n",
    "        if c > max_len:\n",
    "            max_len = c\n",
    "            best_n = curr_n\n",
    "            \n",
    "best_n\n",
    "\n"
   ]
  },
  {
   "cell_type": "code",
   "execution_count": null,
   "metadata": {},
   "outputs": [],
   "source": []
  },
  {
   "cell_type": "markdown",
   "metadata": {},
   "source": [
    "## 875. Koko Eating Bananas"
   ]
  },
  {
   "cell_type": "markdown",
   "metadata": {},
   "source": []
  },
  {
   "cell_type": "markdown",
   "metadata": {},
   "source": [
    "### New solution"
   ]
  },
  {
   "cell_type": "markdown",
   "metadata": {},
   "source": [
    "### subtask:\n",
    "\n",
    "design a pile stack to produce flat \"k\"-landscape of given length"
   ]
  },
  {
   "cell_type": "code",
   "execution_count": 7,
   "metadata": {},
   "outputs": [],
   "source": [
    "import matplotlib.pyplot as plt\n",
    "import numpy as np\n",
    "import math\n"
   ]
  },
  {
   "cell_type": "code",
   "execution_count": 8,
   "metadata": {},
   "outputs": [],
   "source": [
    "piles = [3,3,4,4,5]\n",
    "piles = [3,4]\n",
    "\n",
    "def time2eat(k, piles=piles):\n",
    "    return sum([math.ceil(p/k) for p in piles])\n"
   ]
  },
  {
   "cell_type": "code",
   "execution_count": 21,
   "metadata": {},
   "outputs": [
    {
     "data": {
      "image/png": "[encoded data removed]",
      "text/plain": [
       "<Figure size 640x480 with 1 Axes>"
      ]
     },
     "metadata": {},
     "output_type": "display_data"
    }
   ],
   "source": [
    "piles = [100] * 50 + [500] * 3 + [5]*100\n",
    "\n",
    "ks = np.arange(30, 200)\n",
    "hours = [time2eat(k, piles) for k in ks]\n",
    "plt.plot(ks, hours)\n",
    "plt.xlabel('k')\n",
    "plt.ylabel('hours')\n",
    "plt.title('Hours it takes to eat vs k')\n",
    "plt.show()\n",
    "\n"
   ]
  },
  {
   "cell_type": "code",
   "execution_count": null,
   "metadata": {},
   "outputs": [],
   "source": []
  },
  {
   "cell_type": "code",
   "execution_count": 37,
   "metadata": {},
   "outputs": [],
   "source": [
    "piles = [3,6,7,11]\n",
    "piles = [9]\n",
    "h = 8\n"
   ]
  },
  {
   "cell_type": "code",
   "execution_count": 43,
   "metadata": {},
   "outputs": [
    {
     "data": {
      "text/plain": [
       "2"
      ]
     },
     "execution_count": 43,
     "metadata": {},
     "output_type": "execute_result"
    }
   ],
   "source": [
    "import math\n",
    "\n",
    "L = 1\n",
    "R = max(piles)\n",
    "best_k = R\n",
    "\n",
    "while L <= R:\n",
    "    k = (L+R) // 2\n",
    "    h_at_k = sum([math.ceil(p/k) for p in piles])\n",
    "    # print(f'{k=}, {h_at_k=}')\n",
    "\n",
    "    if h_at_k <= h:\n",
    "        R = k - 1\n",
    "        best_k = k\n",
    "    elif h_at_k > h:\n",
    "        L = k + 1\n",
    "\n",
    "\n",
    "best_k\n"
   ]
  },
  {
   "cell_type": "code",
   "execution_count": 34,
   "metadata": {},
   "outputs": [
    {
     "data": {
      "text/plain": [
       "8"
      ]
     },
     "execution_count": 34,
     "metadata": {},
     "output_type": "execute_result"
    }
   ],
   "source": [
    "sum([math.ceil(p/5) for p in piles])\n"
   ]
  },
  {
   "cell_type": "code",
   "execution_count": 33,
   "metadata": {},
   "outputs": [
    {
     "data": {
      "text/plain": [
       "8"
      ]
     },
     "execution_count": 33,
     "metadata": {},
     "output_type": "execute_result"
    }
   ],
   "source": [
    "h\n"
   ]
  },
  {
   "cell_type": "code",
   "execution_count": null,
   "metadata": {},
   "outputs": [],
   "source": []
  },
  {
   "cell_type": "markdown",
   "metadata": {},
   "source": [
    "### Old solution"
   ]
  },
  {
   "cell_type": "code",
   "execution_count": 39,
   "metadata": {},
   "outputs": [],
   "source": [
    "piles = [3,6,7,11]\n",
    "h = 8\n"
   ]
  },
  {
   "cell_type": "code",
   "execution_count": 40,
   "metadata": {},
   "outputs": [],
   "source": [
    "piles = [30,11,23,4,20]\n",
    "h = 5\n"
   ]
  },
  {
   "cell_type": "code",
   "execution_count": 41,
   "metadata": {},
   "outputs": [],
   "source": [
    "import math\n",
    "\n",
    "def count_hours(piles, k):\n",
    "    total = 0\n",
    "    for p in piles:\n",
    "        total += math.ceil(p / k)\n",
    "    return total\n"
   ]
  },
  {
   "cell_type": "code",
   "execution_count": 42,
   "metadata": {},
   "outputs": [
    {
     "data": {
      "text/plain": [
       "23"
      ]
     },
     "execution_count": 42,
     "metadata": {},
     "output_type": "execute_result"
    }
   ],
   "source": [
    "count_hours(piles, 4)\n"
   ]
  },
  {
   "cell_type": "code",
   "execution_count": 43,
   "metadata": {},
   "outputs": [
    {
     "name": "stdout",
     "output_type": "stream",
     "text": [
      "this_hours=8 k=16\n",
      "this_hours=6 k=24\n",
      "this_hours=6 k=28\n",
      "this_hours=5 k=30\n",
      "this_hours=6 k=29\n"
     ]
    },
    {
     "data": {
      "text/plain": [
       "30"
      ]
     },
     "execution_count": 43,
     "metadata": {},
     "output_type": "execute_result"
    }
   ],
   "source": [
    "l = 1\n",
    "r = max(piles) + 1\n",
    "\n",
    "best_k = r - 1\n",
    "\n",
    "\n",
    "while l < r:\n",
    "    k = (l+r) // 2\n",
    "\n",
    "    this_hours = count_hours(piles, k)\n",
    "\n",
    "    print(f'{this_hours=} {k=}')\n",
    "    if this_hours > h:\n",
    "        l = k + 1 \n",
    "    elif this_hours <= h:\n",
    "        r = k\n",
    "        best_k = k\n",
    "\n",
    "best_k\n"
   ]
  },
  {
   "cell_type": "code",
   "execution_count": null,
   "metadata": {},
   "outputs": [],
   "source": []
  },
  {
   "cell_type": "code",
   "execution_count": null,
   "metadata": {},
   "outputs": [],
   "source": []
  },
  {
   "cell_type": "code",
   "execution_count": 44,
   "metadata": {},
   "outputs": [],
   "source": [
    "l = len(piles)\n",
    "r = max(piles) - 1\n",
    "l,r\n",
    "\n",
    "\n",
    "while l<r:\n",
    "    m = (l+r)//2\n",
    "    \n",
    "    w1 = count_hours(piles, m)\n",
    "    w2 = count_hours(piles, m+1)\n",
    "    \n",
    "    # print('w1, w2', w1, w2)\n",
    "    \n",
    "    if w2 > h:\n",
    "        l = m + 1\n",
    "        continue\n",
    "    elif w1 < h:\n",
    "        r = m\n",
    "        continue\n",
    "    \n",
    "    if w2 == h and w1 > h:\n",
    "        # print (m+1)\n",
    "        break\n",
    "    elif w1 == h:\n",
    "        # print ('entering the loop')\n",
    "        \n",
    "        while m > 1 and w2 <= w1 and w1 == h:\n",
    "            m -= 1\n",
    "            w2 = w1\n",
    "            w1 = count_hours(piles, m)\n",
    "            # print('w1, w2', w1, w2, f'k={m}')\n",
    "            \n",
    "        \n",
    "        # return m + 1\n",
    "        print(m + 1)\n",
    "        break\n",
    "    else:\n",
    "        print ( 'banana' )\n",
    "        l = r\n",
    "    \n"
   ]
  },
  {
   "cell_type": "code",
   "execution_count": 45,
   "metadata": {},
   "outputs": [
    {
     "name": "stdout",
     "output_type": "stream",
     "text": [
      "count_hours(k=5)=19\n",
      "count_hours(k=6)=16\n",
      "count_hours(k=7)=15\n",
      "count_hours(k=8)=13\n",
      "count_hours(k=9)=13\n",
      "count_hours(k=10)=11\n",
      "count_hours(k=11)=10\n",
      "count_hours(k=12)=9\n",
      "count_hours(k=13)=9\n",
      "count_hours(k=14)=9\n",
      "count_hours(k=15)=8\n",
      "count_hours(k=16)=8\n",
      "count_hours(k=17)=8\n",
      "count_hours(k=18)=8\n",
      "count_hours(k=19)=8\n",
      "count_hours(k=20)=7\n",
      "count_hours(k=21)=7\n",
      "count_hours(k=22)=7\n",
      "count_hours(k=23)=6\n",
      "count_hours(k=24)=6\n",
      "count_hours(k=25)=6\n",
      "count_hours(k=26)=6\n",
      "count_hours(k=27)=6\n",
      "count_hours(k=28)=6\n"
     ]
    }
   ],
   "source": [
    "l = len(piles)\n",
    "r = max(piles) - 1\n",
    "\n",
    "for k in range(l, r):\n",
    "    print(f'count_hours(k={k})={count_hours(piles, k)}')\n"
   ]
  },
  {
   "cell_type": "markdown",
   "metadata": {},
   "source": [
    "## 278. First Bad Version"
   ]
  },
  {
   "cell_type": "code",
   "execution_count": null,
   "metadata": {},
   "outputs": [],
   "source": []
  },
  {
   "cell_type": "markdown",
   "metadata": {},
   "source": [
    "## 153. Find Minimum in Rotated Sorted Array"
   ]
  },
  {
   "cell_type": "code",
   "execution_count": 46,
   "metadata": {},
   "outputs": [],
   "source": [
    "nums = [0,1,2,4,5,6,7]\n",
    "nums = [4,5,6,7,0,1,2]\n"
   ]
  },
  {
   "cell_type": "code",
   "execution_count": 47,
   "metadata": {},
   "outputs": [],
   "source": []
  },
  {
   "cell_type": "code",
   "execution_count": 48,
   "metadata": {},
   "outputs": [],
   "source": [
    "def is_balanced(nums, L,R):\n",
    "    if (R-L) < 2: return True\n",
    "    return nums[L] < nums[R-1]\n",
    "\n",
    "\n",
    "def find_min(nums):\n",
    "    L,R = 0, len(nums)\n",
    "\n",
    "    while L < R:\n",
    "        M = (L+R)//2\n",
    "        # print(f'[{L=} {M=} {R=}]')\n",
    "\n",
    "        if is_balanced(nums, L, R):\n",
    "            return nums[L]\n",
    "        \n",
    "        # print('is_balanced(nums, L, M)', is_balanced(nums, L, M), nums[L:M])\n",
    "        if is_balanced(nums, L, M):\n",
    "            L = M\n",
    "        else:\n",
    "            R = M \n",
    "\n"
   ]
  },
  {
   "cell_type": "code",
   "execution_count": null,
   "metadata": {},
   "outputs": [],
   "source": [
    "# def find_min(nums):\n",
    "#     L,R = \n"
   ]
  },
  {
   "cell_type": "code",
   "execution_count": 69,
   "metadata": {},
   "outputs": [],
   "source": [
    "def find_min(nums):\n",
    "    L,R = 0, len(nums)\n",
    "\n",
    "    while L < R:\n",
    "        M = (L+R) // 2\n",
    "        # print('L,M,R', L,M,R)\n",
    "        \n",
    "        if nums[L] <= nums[R-1]: return nums[L]\n",
    "    \n",
    "        if nums[L] <= nums[M-1]:\n",
    "            L = M\n",
    "        else:\n",
    "            R = M\n",
    "        \n",
    "    "
   ]
  },
  {
   "cell_type": "code",
   "execution_count": 70,
   "metadata": {},
   "outputs": [
    {
     "data": {
      "text/plain": [
       "1"
      ]
     },
     "execution_count": 70,
     "metadata": {},
     "output_type": "execute_result"
    }
   ],
   "source": [
    "find_min([3,4,1,2])\n"
   ]
  },
  {
   "cell_type": "code",
   "execution_count": 71,
   "metadata": {},
   "outputs": [
    {
     "data": {
      "text/plain": [
       "1"
      ]
     },
     "execution_count": 71,
     "metadata": {},
     "output_type": "execute_result"
    }
   ],
   "source": [
    "find_min([3,1,2])\n"
   ]
  },
  {
   "cell_type": "code",
   "execution_count": 75,
   "metadata": {},
   "outputs": [
    {
     "data": {
      "text/plain": [
       "3"
      ]
     },
     "execution_count": 75,
     "metadata": {},
     "output_type": "execute_result"
    }
   ],
   "source": [
    "find_min([4,3])\n"
   ]
  },
  {
   "cell_type": "code",
   "execution_count": 72,
   "metadata": {},
   "outputs": [
    {
     "data": {
      "text/plain": [
       "0"
      ]
     },
     "execution_count": 72,
     "metadata": {},
     "output_type": "execute_result"
    }
   ],
   "source": [
    "find_min([3,1,2])\n",
    "\n",
    "find_min([4,5,6,7,0,1,2])\n"
   ]
  },
  {
   "cell_type": "code",
   "execution_count": 9,
   "metadata": {},
   "outputs": [],
   "source": [
    "def find_r(nums):\n",
    "    k = 1\n",
    "\n",
    "    while k < len(nums):\n",
    "        if nums[k-1] > nums[k]: break\n",
    "        k+=1\n",
    "    return k\n"
   ]
  },
  {
   "cell_type": "code",
   "execution_count": 10,
   "metadata": {},
   "outputs": [
    {
     "data": {
      "text/plain": [
       "4"
      ]
     },
     "execution_count": 10,
     "metadata": {},
     "output_type": "execute_result"
    }
   ],
   "source": [
    "r = find_r(nums)\n",
    "r\n"
   ]
  },
  {
   "cell_type": "markdown",
   "metadata": {},
   "source": [
    "## 33. Search in Rotated Sorted Array"
   ]
  },
  {
   "cell_type": "code",
   "execution_count": 91,
   "metadata": {},
   "outputs": [],
   "source": [
    "nums = [4,5,6,7,0,1,2]\n",
    "target = 0\n",
    "target = 6\n"
   ]
  },
  {
   "cell_type": "code",
   "execution_count": 116,
   "metadata": {},
   "outputs": [
    {
     "name": "stdout",
     "output_type": "stream",
     "text": [
      "L=0 nums[1]=1 R=3\n",
      "L=2 nums[2]=3 R=3\n",
      "banana 2\n",
      "-1\n"
     ]
    }
   ],
   "source": [
    "nums = [5,1,3]\n",
    "target = 3\n",
    "\n",
    "# nums =[2,3,4,5,  6, 7,8,9,1]\n",
    "# target = 9\n",
    "\n",
    "L,R = 0, len(nums)\n",
    "\n",
    "while L < R: \n",
    "    M = (L+R) // 2\n",
    "    print(f'{L=} nums[{M}]={nums[M]} {R=}')\n",
    "    if nums[M] == target: \n",
    "        print('banana', M)\n",
    "        break \n",
    "\n",
    "    greater = target > nums[M]\n",
    "    not_rotated = nums[L] <= nums[R-1]\n",
    "    smaller = not greater\n",
    "    right_rotation = nums[M] > nums[R-1]\n",
    "    left_rotation = not right_rotation\n",
    "    geq_L = target >= nums[L]\n",
    "    \n",
    "    # should_go_to_the_right = (greater and not_rotated) or (left_rotation and greater and not geq_L) or (right_rotation and not geq_L)\n",
    "    # should_go_to_the_right = (greater and (not_rotated or (right_rotation and ) or (left_rotation and ))) or (smaller and )\n",
    "    # should_go_to_the_left = ((not_rotated or left_rotation or (right_rotation and geq_L)) and smaller) or ((geq_L) and greater)\n",
    "    # should_go_to_the_right = not should_go_to_the_left\n",
    "    \n",
    "    if not_rotated:\n",
    "        go_right = greater\n",
    "\n",
    "    elif right_rotation:\n",
    "        if greater:\n",
    "            go_right = True\n",
    "        else:\n",
    "            go_right = not geq_L\n",
    "    elif left_rotation:\n",
    "        if greater:\n",
    "            go_right = not geq_L\n",
    "        elif smaller:\n",
    "            go_right = False\n",
    "    \n",
    "    if go_right:\n",
    "        L = M+1\n",
    "    else:\n",
    "        R = M\n",
    "    \n",
    "    # should_go_to_the_left = (smaller and not_rotated) or (greater and left_rotation)\n",
    "    \n",
    "print(-1)\n"
   ]
  },
  {
   "cell_type": "markdown",
   "metadata": {},
   "source": []
  },
  {
   "cell_type": "code",
   "execution_count": 1,
   "metadata": {},
   "outputs": [
    {
     "data": {
      "text/plain": [
       "4"
      ]
     },
     "execution_count": 1,
     "metadata": {},
     "output_type": "execute_result"
    }
   ],
   "source": [
    "4 % 7\n"
   ]
  },
  {
   "cell_type": "markdown",
   "metadata": {},
   "source": [
    "## Median of two sorted arrays"
   ]
  },
  {
   "cell_type": "code",
   "execution_count": 4,
   "metadata": {},
   "outputs": [],
   "source": [
    "nums1 = [1,3,5]\n",
    "nums2 = [0,2,4,6]\n"
   ]
  },
  {
   "cell_type": "code",
   "execution_count": null,
   "metadata": {},
   "outputs": [],
   "source": [
    "# i + j = (m + n) // 2\n",
    "# j = N - i\n"
   ]
  },
  {
   "cell_type": "code",
   "execution_count": null,
   "metadata": {},
   "outputs": [],
   "source": []
  },
  {
   "cell_type": "markdown",
   "metadata": {},
   "source": []
  }
 ],
 "metadata": {
  "kernelspec": {
   "display_name": "Python 3",
   "language": "python",
   "name": "python3"
  },
  "language_info": {
   "codemirror_mode": {
    "name": "ipython",
    "version": 3
   },
   "file_extension": ".py",
   "mimetype": "text/x-python",
   "name": "python",
   "nbconvert_exporter": "python",
   "pygments_lexer": "ipython3",
   "version": "3.11.6"
  },
  "orig_nbformat": 4
 },
 "nbformat": 4,
 "nbformat_minor": 2
}
