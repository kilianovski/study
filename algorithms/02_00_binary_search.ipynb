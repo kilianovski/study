{
 "cells": [
  {
   "cell_type": "code",
   "execution_count": 39,
   "metadata": {},
   "outputs": [],
   "source": [
    "piles = [3,6,7,11]\n",
    "h = 8"
   ]
  },
  {
   "cell_type": "code",
   "execution_count": 40,
   "metadata": {},
   "outputs": [],
   "source": [
    "piles = [30,11,23,4,20]\n",
    "h = 5"
   ]
  },
  {
   "cell_type": "code",
   "execution_count": 41,
   "metadata": {},
   "outputs": [],
   "source": [
    "import math\n",
    "\n",
    "def count_hours(piles, k):\n",
    "    total = 0\n",
    "    for p in piles:\n",
    "        total += math.ceil(p / k)\n",
    "    return total"
   ]
  },
  {
   "cell_type": "code",
   "execution_count": 42,
   "metadata": {},
   "outputs": [
    {
     "data": {
      "text/plain": [
       "23"
      ]
     },
     "execution_count": 42,
     "metadata": {},
     "output_type": "execute_result"
    }
   ],
   "source": [
    "count_hours(piles, 4)"
   ]
  },
  {
   "cell_type": "code",
   "execution_count": 43,
   "metadata": {},
   "outputs": [
    {
     "name": "stdout",
     "output_type": "stream",
     "text": [
      "this_hours=8 k=16\n",
      "this_hours=6 k=24\n",
      "this_hours=6 k=28\n",
      "this_hours=5 k=30\n",
      "this_hours=6 k=29\n"
     ]
    },
    {
     "data": {
      "text/plain": [
       "30"
      ]
     },
     "execution_count": 43,
     "metadata": {},
     "output_type": "execute_result"
    }
   ],
   "source": [
    "l = 1\n",
    "r = max(piles) + 1\n",
    "\n",
    "best_k = r - 1\n",
    "\n",
    "\n",
    "while l < r:\n",
    "    k = (l+r) // 2\n",
    "\n",
    "    this_hours = count_hours(piles, k)\n",
    "\n",
    "    print(f'{this_hours=} {k=}')\n",
    "    if this_hours > h:\n",
    "        l = k + 1 \n",
    "    elif this_hours <= h:\n",
    "        r = k\n",
    "        best_k = k\n",
    "\n",
    "best_k"
   ]
  },
  {
   "cell_type": "code",
   "execution_count": null,
   "metadata": {},
   "outputs": [],
   "source": []
  },
  {
   "cell_type": "code",
   "execution_count": null,
   "metadata": {},
   "outputs": [],
   "source": []
  },
  {
   "cell_type": "code",
   "execution_count": 44,
   "metadata": {},
   "outputs": [],
   "source": [
    "l = len(piles)\n",
    "r = max(piles) - 1\n",
    "l,r\n",
    "\n",
    "\n",
    "while l<r:\n",
    "    m = (l+r)//2\n",
    "    \n",
    "    w1 = count_hours(piles, m)\n",
    "    w2 = count_hours(piles, m+1)\n",
    "    \n",
    "    # print('w1, w2', w1, w2)\n",
    "    \n",
    "    if w2 > h:\n",
    "        l = m + 1\n",
    "        continue\n",
    "    elif w1 < h:\n",
    "        r = m\n",
    "        continue\n",
    "    \n",
    "    if w2 == h and w1 > h:\n",
    "        # print (m+1)\n",
    "        break\n",
    "    elif w1 == h:\n",
    "        # print ('entering the loop')\n",
    "        \n",
    "        while m > 1 and w2 <= w1 and w1 == h:\n",
    "            m -= 1\n",
    "            w2 = w1\n",
    "            w1 = count_hours(piles, m)\n",
    "            # print('w1, w2', w1, w2, f'k={m}')\n",
    "            \n",
    "        \n",
    "        # return m + 1\n",
    "        print(m + 1)\n",
    "        break\n",
    "    else:\n",
    "        print ( 'banana' )\n",
    "        l = r\n",
    "    \n"
   ]
  },
  {
   "cell_type": "code",
   "execution_count": 45,
   "metadata": {},
   "outputs": [
    {
     "name": "stdout",
     "output_type": "stream",
     "text": [
      "count_hours(k=5)=19\n",
      "count_hours(k=6)=16\n",
      "count_hours(k=7)=15\n",
      "count_hours(k=8)=13\n",
      "count_hours(k=9)=13\n",
      "count_hours(k=10)=11\n",
      "count_hours(k=11)=10\n",
      "count_hours(k=12)=9\n",
      "count_hours(k=13)=9\n",
      "count_hours(k=14)=9\n",
      "count_hours(k=15)=8\n",
      "count_hours(k=16)=8\n",
      "count_hours(k=17)=8\n",
      "count_hours(k=18)=8\n",
      "count_hours(k=19)=8\n",
      "count_hours(k=20)=7\n",
      "count_hours(k=21)=7\n",
      "count_hours(k=22)=7\n",
      "count_hours(k=23)=6\n",
      "count_hours(k=24)=6\n",
      "count_hours(k=25)=6\n",
      "count_hours(k=26)=6\n",
      "count_hours(k=27)=6\n",
      "count_hours(k=28)=6\n"
     ]
    }
   ],
   "source": [
    "l = len(piles)\n",
    "r = max(piles) - 1\n",
    "\n",
    "for k in range(l, r):\n",
    "    print(f'count_hours(k={k})={count_hours(piles, k)}')"
   ]
  },
  {
   "cell_type": "markdown",
   "metadata": {},
   "source": [
    "## 153. Find Minimum in Rotated Sorted Array"
   ]
  },
  {
   "cell_type": "code",
   "execution_count": 46,
   "metadata": {},
   "outputs": [],
   "source": [
    "nums = [0,1,2,4,5,6,7]\n",
    "nums = [4,5,6,7,0,1,2]"
   ]
  },
  {
   "cell_type": "code",
   "execution_count": 47,
   "metadata": {},
   "outputs": [],
   "source": []
  },
  {
   "cell_type": "code",
   "execution_count": 48,
   "metadata": {},
   "outputs": [],
   "source": [
    "def is_balanced(nums, L,R):\n",
    "    if (R-L) < 2: return True\n",
    "    return nums[L] < nums[R-1]\n",
    "\n",
    "\n",
    "def find_min(nums):\n",
    "    L,R = 0, len(nums)\n",
    "\n",
    "    while L < R:\n",
    "        M = (L+R)//2\n",
    "        # print(f'[{L=} {M=} {R=}]')\n",
    "\n",
    "        if is_balanced(nums, L, R):\n",
    "            return nums[L]\n",
    "        \n",
    "        # print('is_balanced(nums, L, M)', is_balanced(nums, L, M), nums[L:M])\n",
    "        if is_balanced(nums, L, M):\n",
    "            L = M\n",
    "        else:\n",
    "            R = M \n",
    "\n"
   ]
  },
  {
   "cell_type": "code",
   "execution_count": null,
   "metadata": {},
   "outputs": [],
   "source": [
    "# def find_min(nums):\n",
    "#     L,R = "
   ]
  },
  {
   "cell_type": "code",
   "execution_count": 69,
   "metadata": {},
   "outputs": [],
   "source": [
    "def find_min(nums):\n",
    "    L,R = 0, len(nums)\n",
    "\n",
    "    while L < R:\n",
    "        M = (L+R) // 2\n",
    "        # print('L,M,R', L,M,R)\n",
    "        \n",
    "        if nums[L] <= nums[R-1]: return nums[L]\n",
    "    \n",
    "        if nums[L] <= nums[M-1]:\n",
    "            L = M\n",
    "        else:\n",
    "            R = M\n",
    "        \n",
    "    "
   ]
  },
  {
   "cell_type": "code",
   "execution_count": 70,
   "metadata": {},
   "outputs": [
    {
     "data": {
      "text/plain": [
       "1"
      ]
     },
     "execution_count": 70,
     "metadata": {},
     "output_type": "execute_result"
    }
   ],
   "source": [
    "find_min([3,4,1,2])"
   ]
  },
  {
   "cell_type": "code",
   "execution_count": 71,
   "metadata": {},
   "outputs": [
    {
     "data": {
      "text/plain": [
       "1"
      ]
     },
     "execution_count": 71,
     "metadata": {},
     "output_type": "execute_result"
    }
   ],
   "source": [
    "find_min([3,1,2])"
   ]
  },
  {
   "cell_type": "code",
   "execution_count": 75,
   "metadata": {},
   "outputs": [
    {
     "data": {
      "text/plain": [
       "3"
      ]
     },
     "execution_count": 75,
     "metadata": {},
     "output_type": "execute_result"
    }
   ],
   "source": [
    "find_min([4,3])"
   ]
  },
  {
   "cell_type": "code",
   "execution_count": 72,
   "metadata": {},
   "outputs": [
    {
     "data": {
      "text/plain": [
       "0"
      ]
     },
     "execution_count": 72,
     "metadata": {},
     "output_type": "execute_result"
    }
   ],
   "source": [
    "find_min([3,1,2])\n",
    "\n",
    "find_min([4,5,6,7,0,1,2])"
   ]
  },
  {
   "cell_type": "code",
   "execution_count": 9,
   "metadata": {},
   "outputs": [],
   "source": [
    "def find_r(nums):\n",
    "    k = 1\n",
    "\n",
    "    while k < len(nums):\n",
    "        if nums[k-1] > nums[k]: break\n",
    "        k+=1\n",
    "    return k"
   ]
  },
  {
   "cell_type": "code",
   "execution_count": 10,
   "metadata": {},
   "outputs": [
    {
     "data": {
      "text/plain": [
       "4"
      ]
     },
     "execution_count": 10,
     "metadata": {},
     "output_type": "execute_result"
    }
   ],
   "source": [
    "r = find_r(nums)\n",
    "r"
   ]
  },
  {
   "cell_type": "markdown",
   "metadata": {},
   "source": [
    "## 33. Search in Rotated Sorted Array"
   ]
  },
  {
   "cell_type": "code",
   "execution_count": 91,
   "metadata": {},
   "outputs": [],
   "source": [
    "nums = [4,5,6,7,0,1,2]\n",
    "target = 0\n",
    "target = 6"
   ]
  },
  {
   "cell_type": "code",
   "execution_count": 116,
   "metadata": {},
   "outputs": [
    {
     "name": "stdout",
     "output_type": "stream",
     "text": [
      "L=0 nums[1]=1 R=3\n",
      "L=2 nums[2]=3 R=3\n",
      "banana 2\n",
      "-1\n"
     ]
    }
   ],
   "source": [
    "nums = [5,1,3]\n",
    "target = 3\n",
    "\n",
    "# nums =[2,3,4,5,  6, 7,8,9,1]\n",
    "# target = 9\n",
    "\n",
    "L,R = 0, len(nums)\n",
    "\n",
    "while L < R: \n",
    "    M = (L+R) // 2\n",
    "    print(f'{L=} nums[{M}]={nums[M]} {R=}')\n",
    "    if nums[M] == target: \n",
    "        print('banana', M)\n",
    "        break \n",
    "\n",
    "    greater = target > nums[M]\n",
    "    not_rotated = nums[L] <= nums[R-1]\n",
    "    smaller = not greater\n",
    "    right_rotation = nums[M] > nums[R-1]\n",
    "    left_rotation = not right_rotation\n",
    "    geq_L = target >= nums[L]\n",
    "    \n",
    "    # should_go_to_the_right = (greater and not_rotated) or (left_rotation and greater and not geq_L) or (right_rotation and not geq_L)\n",
    "    # should_go_to_the_right = (greater and (not_rotated or (right_rotation and ) or (left_rotation and ))) or (smaller and )\n",
    "    # should_go_to_the_left = ((not_rotated or left_rotation or (right_rotation and geq_L)) and smaller) or ((geq_L) and greater)\n",
    "    # should_go_to_the_right = not should_go_to_the_left\n",
    "    \n",
    "    if not_rotated:\n",
    "        go_right = greater\n",
    "\n",
    "    elif right_rotation:\n",
    "        if greater:\n",
    "            go_right = True\n",
    "        else:\n",
    "            go_right = not geq_L\n",
    "    elif left_rotation:\n",
    "        if greater:\n",
    "            go_right = not geq_L\n",
    "        elif smaller:\n",
    "            go_right = False\n",
    "    \n",
    "    if go_right:\n",
    "        L = M+1\n",
    "    else:\n",
    "        R = M\n",
    "    \n",
    "    # should_go_to_the_left = (smaller and not_rotated) or (greater and left_rotation)\n",
    "    \n",
    "print(-1)"
   ]
  },
  {
   "cell_type": "markdown",
   "metadata": {},
   "source": []
  },
  {
   "cell_type": "code",
   "execution_count": 1,
   "metadata": {},
   "outputs": [
    {
     "data": {
      "text/plain": [
       "4"
      ]
     },
     "execution_count": 1,
     "metadata": {},
     "output_type": "execute_result"
    }
   ],
   "source": [
    "4 % 7"
   ]
  },
  {
   "cell_type": "code",
   "execution_count": null,
   "metadata": {},
   "outputs": [],
   "source": []
  }
 ],
 "metadata": {
  "kernelspec": {
   "display_name": "Python 3",
   "language": "python",
   "name": "python3"
  },
  "language_info": {
   "codemirror_mode": {
    "name": "ipython",
    "version": 3
   },
   "file_extension": ".py",
   "mimetype": "text/x-python",
   "name": "python",
   "nbconvert_exporter": "python",
   "pygments_lexer": "ipython3",
   "version": "3.11.6"
  },
  "orig_nbformat": 4
 },
 "nbformat": 4,
 "nbformat_minor": 2
}
