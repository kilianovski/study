{
 "cells": [
  {
   "cell_type": "markdown",
   "metadata": {},
   "source": [
    "## 1913. Maximum Product Difference Between Two Pairs"
   ]
  },
  {
   "cell_type": "code",
   "execution_count": 85,
   "metadata": {},
   "outputs": [],
   "source": [
    "class TopN:\n",
    "    def __init__(self, n):\n",
    "        self.n = n\n",
    "        self.arr = [None for _ in range(n)]\n",
    "\n",
    "\n",
    "    def get(self): return self.arr\n",
    "\n",
    "\n",
    "    def peak(self, x):\n",
    "        i = -1\n",
    "\n",
    "        while i < self.n-1 and (self.arr[i+1] is None or self.arr[i+1] < x):\n",
    "            i += 1\n",
    "\n",
    "        t = x\n",
    "        while i >= 0 and (t is not None):\n",
    "            tt = self.arr[i]\n",
    "            self.arr[i] = t\n",
    "            t = tt\n",
    "            i -= 1\n",
    "\n",
    "        return self\n",
    "\n",
    "\n",
    "    def arr_peak(self, arr):\n",
    "        for x in arr:\n",
    "            self.peak(x)\n",
    "            \n",
    "        return self\n",
    "\n",
    "\n",
    "    def __repr__(self): return str(self.arr)\n"
   ]
  },
  {
   "cell_type": "code",
   "execution_count": 86,
   "metadata": {},
   "outputs": [],
   "source": [
    "import torch\n"
   ]
  },
  {
   "cell_type": "code",
   "execution_count": 87,
   "metadata": {},
   "outputs": [
    {
     "data": {
      "text/plain": [
       "tensor([ 1, 19,  6, 19, 24,  3, 16, 26, 37, 11])"
      ]
     },
     "execution_count": 87,
     "metadata": {},
     "output_type": "execute_result"
    }
   ],
   "source": [
    "x = torch.randint(42, (10,))\n",
    "x\n"
   ]
  },
  {
   "cell_type": "code",
   "execution_count": 88,
   "metadata": {},
   "outputs": [
    {
     "name": "stdout",
     "output_type": "stream",
     "text": [
      "[None, None, 19]\n",
      "[None, 19, 40]\n",
      "[15, 19, 40]\n",
      "[15, 19, 40]\n",
      "[19, 29, 40]\n",
      "[24, 29, 40]\n",
      "[29, 39, 40]\n",
      "[39, 39, 40]\n",
      "[39, 39, 40]\n"
     ]
    }
   ],
   "source": [
    "self = TopN(3)\n",
    "\n",
    "print(self.peak(19))\n",
    "print(self.peak(40))\n",
    "print(self.peak(15))\n",
    "print(self.peak(6))\n",
    "print(self.peak(29))\n",
    "print(self.peak(24))\n",
    "print(self.peak(39))\n",
    "print(self.peak(39))\n",
    "print(self.peak(11))\n"
   ]
  },
  {
   "cell_type": "code",
   "execution_count": 89,
   "metadata": {},
   "outputs": [
    {
     "data": {
      "text/plain": [
       "[29, 39, 40]"
      ]
     },
     "execution_count": 89,
     "metadata": {},
     "output_type": "execute_result"
    }
   ],
   "source": [
    "TopN(3).arr_peak([19, 40, 15,  6, 29, 24, 39, 11,  8, 20])\n"
   ]
  },
  {
   "cell_type": "code",
   "execution_count": 55,
   "metadata": {},
   "outputs": [
    {
     "data": {
      "text/plain": [
       "[tensor(24), tensor(20), tensor(29)]"
      ]
     },
     "execution_count": 55,
     "metadata": {},
     "output_type": "execute_result"
    }
   ],
   "source": [
    "TopN(3).arr_peak(x)\n"
   ]
  },
  {
   "cell_type": "markdown",
   "metadata": {},
   "source": [
    "## 1422. Maximum Score After Splitting a String"
   ]
  },
  {
   "cell_type": "markdown",
   "metadata": {},
   "source": [
    "### T=O(n) M=O(n)"
   ]
  },
  {
   "cell_type": "code",
   "execution_count": 1,
   "metadata": {},
   "outputs": [],
   "source": [
    "class Solution:\n",
    "    def maxScore(self, s: str) -> int:\n",
    "        zeroCountPrefix = [0 for _ in range(len(s))]\n",
    "        zeroCount = 0\n",
    "        for i in range(len(s)):\n",
    "            zeroCountPrefix[i] = zeroCount\n",
    "            if s[i]=='0': zeroCount +=1\n",
    "\n",
    "        oneCount = 0\n",
    "        bestScore = 0\n",
    "\n",
    "        for i in range(len(s)-1, 0, -1):\n",
    "            if s[i] == '1': oneCount += 1\n",
    "            bestScore = max(bestScore, oneCount+zeroCountPrefix[i])\n",
    "        return bestScore\n"
   ]
  },
  {
   "cell_type": "markdown",
   "metadata": {},
   "source": [
    "## T=O(n) M=O(1)"
   ]
  },
  {
   "cell_type": "code",
   "execution_count": null,
   "metadata": {},
   "outputs": [],
   "source": [
    "s = '0011'\n",
    "\n",
    "zeros = s.count('0')\n",
    "ones = 0\n",
    "bestScore = 0\n",
    "\n",
    "for i in range(len(s)-1,-1,-1):\n",
    "    if s[i] == '1':\n",
    "        ones += 1\n",
    "    "
   ]
  },
  {
   "cell_type": "markdown",
   "metadata": {},
   "source": [
    "## 1758. Minimum Changes To Make Alternating Binary String"
   ]
  },
  {
   "cell_type": "code",
   "execution_count": 2,
   "metadata": {},
   "outputs": [],
   "source": [
    "def countFlips(s, parity):\n",
    "    nFlips = 0\n",
    "    for i,c in enumerate(s):\n",
    "        remain = i % 2\n",
    "        expectedChar = '1' if remain == parity else '0'\n",
    "        \n",
    "        if c != expectedChar:\n",
    "            nFlips += 1\n",
    "    return nFlips\n"
   ]
  },
  {
   "cell_type": "code",
   "execution_count": 4,
   "metadata": {},
   "outputs": [
    {
     "data": {
      "text/plain": [
       "3"
      ]
     },
     "execution_count": 4,
     "metadata": {},
     "output_type": "execute_result"
    }
   ],
   "source": [
    "countFlips('101', 1)\n"
   ]
  },
  {
   "cell_type": "code",
   "execution_count": null,
   "metadata": {},
   "outputs": [],
   "source": []
  }
 ],
 "metadata": {
  "kernelspec": {
   "display_name": "base",
   "language": "python",
   "name": "python3"
  },
  "language_info": {
   "codemirror_mode": {
    "name": "ipython",
    "version": 3
   },
   "file_extension": ".py",
   "mimetype": "text/x-python",
   "name": "python",
   "nbconvert_exporter": "python",
   "pygments_lexer": "ipython3",
   "version": "3.11.6"
  },
  "orig_nbformat": 4
 },
 "nbformat": 4,
 "nbformat_minor": 2
}
