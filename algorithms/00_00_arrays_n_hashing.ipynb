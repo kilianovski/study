{
 "cells": [
  {
   "cell_type": "markdown",
   "metadata": {},
   "source": [
    "## 1913. Maximum Product Difference Between Two Pairs"
   ]
  },
  {
   "cell_type": "code",
   "execution_count": 85,
   "metadata": {},
   "outputs": [],
   "source": [
    "class TopN:\n",
    "    def __init__(self, n):\n",
    "        self.n = n\n",
    "        self.arr = [None for _ in range(n)]\n",
    "\n",
    "\n",
    "    def get(self): return self.arr\n",
    "\n",
    "\n",
    "    def peak(self, x):\n",
    "        i = -1\n",
    "\n",
    "        while i < self.n-1 and (self.arr[i+1] is None or self.arr[i+1] < x):\n",
    "            i += 1\n",
    "\n",
    "        t = x\n",
    "        while i >= 0 and (t is not None):\n",
    "            tt = self.arr[i]\n",
    "            self.arr[i] = t\n",
    "            t = tt\n",
    "            i -= 1\n",
    "\n",
    "        return self\n",
    "\n",
    "\n",
    "    def arr_peak(self, arr):\n",
    "        for x in arr:\n",
    "            self.peak(x)\n",
    "            \n",
    "        return self\n",
    "\n",
    "\n",
    "    def __repr__(self): return str(self.arr)"
   ]
  },
  {
   "cell_type": "code",
   "execution_count": 86,
   "metadata": {},
   "outputs": [],
   "source": [
    "import torch"
   ]
  },
  {
   "cell_type": "code",
   "execution_count": 87,
   "metadata": {},
   "outputs": [
    {
     "data": {
      "text/plain": [
       "tensor([ 1, 19,  6, 19, 24,  3, 16, 26, 37, 11])"
      ]
     },
     "execution_count": 87,
     "metadata": {},
     "output_type": "execute_result"
    }
   ],
   "source": [
    "x = torch.randint(42, (10,))\n",
    "x"
   ]
  },
  {
   "cell_type": "code",
   "execution_count": 88,
   "metadata": {},
   "outputs": [
    {
     "name": "stdout",
     "output_type": "stream",
     "text": [
      "[None, None, 19]\n",
      "[None, 19, 40]\n",
      "[15, 19, 40]\n",
      "[15, 19, 40]\n",
      "[19, 29, 40]\n",
      "[24, 29, 40]\n",
      "[29, 39, 40]\n",
      "[39, 39, 40]\n",
      "[39, 39, 40]\n"
     ]
    }
   ],
   "source": [
    "self = TopN(3)\n",
    "\n",
    "print(self.peak(19))\n",
    "print(self.peak(40))\n",
    "print(self.peak(15))\n",
    "print(self.peak(6))\n",
    "print(self.peak(29))\n",
    "print(self.peak(24))\n",
    "print(self.peak(39))\n",
    "print(self.peak(39))\n",
    "print(self.peak(11))\n"
   ]
  },
  {
   "cell_type": "code",
   "execution_count": 89,
   "metadata": {},
   "outputs": [
    {
     "data": {
      "text/plain": [
       "[29, 39, 40]"
      ]
     },
     "execution_count": 89,
     "metadata": {},
     "output_type": "execute_result"
    }
   ],
   "source": [
    "TopN(3).arr_peak([19, 40, 15,  6, 29, 24, 39, 11,  8, 20])"
   ]
  },
  {
   "cell_type": "code",
   "execution_count": 55,
   "metadata": {},
   "outputs": [
    {
     "data": {
      "text/plain": [
       "[tensor(24), tensor(20), tensor(29)]"
      ]
     },
     "execution_count": 55,
     "metadata": {},
     "output_type": "execute_result"
    }
   ],
   "source": [
    "TopN(3).arr_peak(x)"
   ]
  },
  {
   "cell_type": "code",
   "execution_count": null,
   "metadata": {},
   "outputs": [],
   "source": []
  },
  {
   "cell_type": "code",
   "execution_count": null,
   "metadata": {},
   "outputs": [],
   "source": []
  }
 ],
 "metadata": {
  "kernelspec": {
   "display_name": "base",
   "language": "python",
   "name": "python3"
  },
  "language_info": {
   "codemirror_mode": {
    "name": "ipython",
    "version": 3
   },
   "file_extension": ".py",
   "mimetype": "text/x-python",
   "name": "python",
   "nbconvert_exporter": "python",
   "pygments_lexer": "ipython3",
   "version": "3.11.4"
  },
  "orig_nbformat": 4
 },
 "nbformat": 4,
 "nbformat_minor": 2
}
