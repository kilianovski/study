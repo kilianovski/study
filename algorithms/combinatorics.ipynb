{
 "cells": [
  {
   "cell_type": "markdown",
   "metadata": {},
   "source": [
    "## 46. Permutations"
   ]
  },
  {
   "cell_type": "code",
   "execution_count": 1,
   "metadata": {},
   "outputs": [],
   "source": [
    "nums = [1,2,3]"
   ]
  },
  {
   "cell_type": "code",
   "execution_count": 4,
   "metadata": {},
   "outputs": [],
   "source": [
    "\n",
    "result = []\n",
    "\n",
    "tasks = [(nums, [])]\n",
    "while tasks:\n",
    "\n",
    "    choose_from, workpiece = tasks.pop()\n",
    "\n",
    "    if len (workpiece) == len(nums):\n",
    "        result.append(workpiece)\n",
    "    else:\n",
    "        for i,n in enumerate(choose_from):\n",
    "            tasks.append((choose_from[:i] + choose_from[i+1:], workpiece+[n]))\n",
    "\n",
    "result\n"
   ]
  },
  {
   "cell_type": "code",
   "execution_count": 5,
   "metadata": {},
   "outputs": [
    {
     "data": {
      "text/plain": [
       "[[3, 2, 1], [3, 1, 2], [2, 3, 1], [2, 1, 3], [1, 3, 2], [1, 2, 3]]"
      ]
     },
     "execution_count": 5,
     "metadata": {},
     "output_type": "execute_result"
    }
   ],
   "source": []
  },
  {
   "cell_type": "code",
   "execution_count": null,
   "metadata": {},
   "outputs": [],
   "source": []
  },
  {
   "cell_type": "code",
   "execution_count": null,
   "metadata": {},
   "outputs": [],
   "source": []
  },
  {
   "cell_type": "markdown",
   "metadata": {},
   "source": [
    "## 78. Subsets"
   ]
  },
  {
   "cell_type": "code",
   "execution_count": 36,
   "metadata": {},
   "outputs": [],
   "source": [
    "nums = [1,2,3]"
   ]
  },
  {
   "cell_type": "markdown",
   "metadata": {},
   "source": [
    "### O($2^n$)"
   ]
  },
  {
   "cell_type": "code",
   "execution_count": 38,
   "metadata": {},
   "outputs": [
    {
     "data": {
      "text/plain": [
       "[1, 2, 3]"
      ]
     },
     "execution_count": 38,
     "metadata": {},
     "output_type": "execute_result"
    }
   ],
   "source": [
    "nums"
   ]
  },
  {
   "cell_type": "code",
   "execution_count": 40,
   "metadata": {},
   "outputs": [
    {
     "data": {
      "text/plain": [
       "[[1, 2, 3], [1, 2], [1, 3], [1], [2, 3], [2], [3], []]"
      ]
     },
     "execution_count": 40,
     "metadata": {},
     "output_type": "execute_result"
    }
   ],
   "source": [
    "res = []\n",
    "\n",
    "subset = []\n",
    "\n",
    "def dfs(i):\n",
    "    if i >= len(nums):\n",
    "        res.append(subset.copy())\n",
    "        return\n",
    "    # add\n",
    "    subset.append(nums[i])\n",
    "    dfs(i+1)\n",
    "\n",
    "    # do not add i's num\n",
    "    subset.pop()\n",
    "    dfs(i+1)\n",
    "\n",
    "dfs(0)\n",
    "res"
   ]
  },
  {
   "cell_type": "markdown",
   "metadata": {},
   "source": [
    "### O($2^n$ n)"
   ]
  },
  {
   "cell_type": "code",
   "execution_count": 33,
   "metadata": {},
   "outputs": [],
   "source": [
    "flags = [0]*len(nums)\n",
    "result = []\n",
    "\n",
    "for _ in range(2**len(nums)):\n",
    "    result.append([nums[i] for i in range(len(nums)) if flags[i]])\n",
    "    \n",
    "    # increment\n",
    "    i = 0\n",
    "    \n",
    "    carry = 1\n",
    "    while carry and i < len(flags):\n",
    "        carry = flags[i]\n",
    "        flags[i] = 0 if flags[i] else 1\n",
    "        i += 1\n",
    "    \n",
    "    \n",
    "\n"
   ]
  },
  {
   "cell_type": "code",
   "execution_count": null,
   "metadata": {},
   "outputs": [],
   "source": []
  },
  {
   "cell_type": "code",
   "execution_count": 34,
   "metadata": {},
   "outputs": [
    {
     "data": {
      "text/plain": [
       "[[], [1], [2], [1, 2], [3], [1, 3], [2, 3], [1, 2, 3]]"
      ]
     },
     "execution_count": 34,
     "metadata": {},
     "output_type": "execute_result"
    }
   ],
   "source": [
    "result"
   ]
  },
  {
   "cell_type": "code",
   "execution_count": null,
   "metadata": {},
   "outputs": [],
   "source": []
  },
  {
   "cell_type": "code",
   "execution_count": 20,
   "metadata": {},
   "outputs": [
    {
     "data": {
      "text/plain": [
       "1024"
      ]
     },
     "execution_count": 20,
     "metadata": {},
     "output_type": "execute_result"
    }
   ],
   "source": [
    "result = []\n",
    "\n",
    "for i in range(2**len(nums)):\n",
    "    r = []\n",
    "\n",
    "    mask = 1\n",
    "\n",
    "    # Check each bit position\n",
    "    for bit in range(len(nums)):\n",
    "        flag = bool(i & mask)\n",
    "        if flag:\n",
    "            r.append(nums[bit])\n",
    "        mask = mask << 1\n",
    "            \n",
    "    result.append(r)\n",
    "    \n",
    "len(result)\n"
   ]
  },
  {
   "cell_type": "code",
   "execution_count": null,
   "metadata": {},
   "outputs": [],
   "source": []
  },
  {
   "cell_type": "code",
   "execution_count": null,
   "metadata": {},
   "outputs": [],
   "source": []
  },
  {
   "cell_type": "code",
   "execution_count": null,
   "metadata": {},
   "outputs": [],
   "source": []
  },
  {
   "cell_type": "code",
   "execution_count": null,
   "metadata": {},
   "outputs": [],
   "source": []
  },
  {
   "cell_type": "code",
   "execution_count": 9,
   "metadata": {},
   "outputs": [
    {
     "name": "stdout",
     "output_type": "stream",
     "text": [
      "Number: 0, Flags: [False, False, False]\n",
      "Number: 1, Flags: [False, False, True]\n",
      "Number: 2, Flags: [False, True, False]\n",
      "Number: 3, Flags: [False, True, True]\n"
     ]
    }
   ],
   "source": [
    "def use_flags_efficiently(n):\n",
    "    # Calculate the number of bits needed\n",
    "    num_bits = n.bit_length()\n",
    "    \n",
    "    # Iterate through range(n)\n",
    "    for i in range(n):\n",
    "        # Initialize an empty list of flags\n",
    "        flags = []\n",
    "        \n",
    "        mask = 1\n",
    "        \n",
    "        # Check each bit position\n",
    "        for bit in range(num_bits):\n",
    "            # Shift 1 to the left by 'bit' positions to create the mask\n",
    "            # Use bitwise AND to check if the current bit is set\n",
    "            flag = bool(i & mask)\n",
    "            # Add the flag to the list\n",
    "            flags.append(flag)\n",
    "            mask = mask << 1\n",
    "            \n",
    "        # Reverse the list of flags to match the endianness of binary representation\n",
    "        flags.reverse()\n",
    "        # Output the result\n",
    "        print(f\"Number: {i}, Flags: {flags}\")\n",
    "\n",
    "# Example usage with n=4\n",
    "use_flags_efficiently(4)\n"
   ]
  },
  {
   "cell_type": "markdown",
   "metadata": {},
   "source": []
  },
  {
   "cell_type": "markdown",
   "metadata": {},
   "source": [
    "## Chess Numbers"
   ]
  },
  {
   "cell_type": "code",
   "execution_count": 2,
   "metadata": {},
   "outputs": [],
   "source": [
    "moves = {\n",
    "    0: [4,6],\n",
    "    1: [6,8],\n",
    "    2: [7,9],\n",
    "    3: [8,4],\n",
    "    4: [3,9,0],\n",
    "    5: [],\n",
    "    6: [0,7,1],\n",
    "    7: [2,6],\n",
    "    8: [1,3],\n",
    "    9: [2,4],\n",
    "}"
   ]
  },
  {
   "cell_type": "code",
   "execution_count": 18,
   "metadata": {},
   "outputs": [
    {
     "data": {
      "text/plain": [
       "406880451"
      ]
     },
     "execution_count": 18,
     "metadata": {},
     "output_type": "execute_result"
    }
   ],
   "source": [
    "n = 3131\n",
    "n = 5000\n",
    "nums = {i:1 for i in (range(10))}\n",
    "\n",
    "for i in range(n - 1):\n",
    "    new_nums = {}\n",
    "    for n,count in nums.items():\n",
    "        for m in moves[n]:\n",
    "            if m not in new_nums:\n",
    "                new_nums[m] = count\n",
    "            else:\n",
    "                new_nums[m] += count\n",
    "        \n",
    "    nums = new_nums\n",
    "\n",
    "s = sum(nums.values()) % int(1e9 + 7)\n",
    "s"
   ]
  },
  {
   "cell_type": "code",
   "execution_count": 36,
   "metadata": {},
   "outputs": [],
   "source": [
    "corridor = \"PSSPPSPPSS\"\n",
    "corridor = 'SPPPP'"
   ]
  },
  {
   "cell_type": "code",
   "execution_count": 37,
   "metadata": {},
   "outputs": [
    {
     "data": {
      "text/plain": [
       "1"
      ]
     },
     "execution_count": 37,
     "metadata": {},
     "output_type": "execute_result"
    }
   ],
   "source": [
    "between_2_seats = False\n",
    "\n",
    "intervals = []\n",
    "count = 0\n",
    "\n",
    "for c in corridor:\n",
    "    # print(c, between_2_seats, intervals)\n",
    "    if c == 'S':\n",
    "        if between_2_seats:\n",
    "            between_2_seats = False\n",
    "            intervals.append(count)\n",
    "            count = 0\n",
    "        else:\n",
    "            between_2_seats = True\n",
    "    elif not between_2_seats:\n",
    "        count += 1\n",
    "        \n",
    "# if between_2_seats: return 0\n",
    "\n",
    "intervals = intervals[1:]\n",
    "\n",
    "res = 1\n",
    "\n",
    "for i in intervals:\n",
    "    res = res * (i+1) % int(1e9+7)\n",
    "res"
   ]
  },
  {
   "cell_type": "code",
   "execution_count": 31,
   "metadata": {},
   "outputs": [
    {
     "data": {
      "text/plain": [
       "True"
      ]
     },
     "execution_count": 31,
     "metadata": {},
     "output_type": "execute_result"
    }
   ],
   "source": []
  },
  {
   "cell_type": "code",
   "execution_count": null,
   "metadata": {},
   "outputs": [],
   "source": []
  },
  {
   "cell_type": "code",
   "execution_count": 6,
   "metadata": {},
   "outputs": [
    {
     "data": {
      "text/plain": [
       "0"
      ]
     },
     "execution_count": 6,
     "metadata": {},
     "output_type": "execute_result"
    }
   ],
   "source": [
    "is_space_between = False\n",
    "between_2_seats = False\n",
    "c = 0\n",
    "r = None\n",
    "\n",
    "for c in corridor:\n",
    "    if c == 'S':\n",
    "        if between_2_seats:\n",
    "            between_2_seats = False\n",
    "            is_space_between = True\n",
    "        elif is_space_between:\n",
    "            between_2_seats = True\n",
    "            is_space_between = False\n",
    "\n",
    "            if r is None:\n",
    "                r = c + 1\n",
    "            else:\n",
    "                r = r*(c+1) % int(1e9 + 7)\n",
    "    elif is_space_between:\n",
    "        c += 1\n",
    "\n",
    "r = 0 if r is None else r\n",
    "r"
   ]
  },
  {
   "cell_type": "markdown",
   "metadata": {},
   "source": []
  },
  {
   "cell_type": "code",
   "execution_count": null,
   "metadata": {},
   "outputs": [],
   "source": []
  },
  {
   "cell_type": "code",
   "execution_count": 38,
   "metadata": {},
   "outputs": [],
   "source": []
  },
  {
   "cell_type": "code",
   "execution_count": 55,
   "metadata": {},
   "outputs": [
    {
     "data": {
      "text/plain": [
       "('🤔🤩😭😭😴', 'HELLO')"
      ]
     },
     "execution_count": 55,
     "metadata": {},
     "output_type": "execute_result"
    }
   ],
   "source": [
    "import string\n",
    "\n",
    "emojis = ['😃',\n",
    "'😊',\n",
    "'😍',\n",
    "'😎',\n",
    "'🤩',\n",
    "'😇',\n",
    "'🤗',\n",
    "'🤔',\n",
    "'🤫',\n",
    "'🤣',\n",
    "'😂',\n",
    "'😭',\n",
    "'😡',\n",
    "'😱',\n",
    "'😴',\n",
    "'🤯',\n",
    "'🤪',\n",
    "'🤓',\n",
    "'🤡',\n",
    "'🤢',\n",
    "'🤮',\n",
    "'🤬',\n",
    "'🥺',\n",
    "'🤑',\n",
    "'🤞',]\n",
    "\n",
    "\n",
    "l2e = {c:e for c,e in zip(string.ascii_uppercase, emojis)}\n",
    "e2l = {e:c for c,e in zip(string.ascii_uppercase, emojis)}\n",
    "\n",
    "def text2emoji(text):\n",
    "    return ''.join([l2e[c] for c in text.upper()])\n",
    "\n",
    "def emoji2text(emoji):\n",
    "    return ''.join([e2l[c] for c in emoji])\n",
    "\n",
    "\n",
    "text2emoji('hello'), emoji2text('🤔🤩😭😭😴')"
   ]
  },
  {
   "cell_type": "code",
   "execution_count": 57,
   "metadata": {},
   "outputs": [
    {
     "name": "stdout",
     "output_type": "stream",
     "text": [
      "{'A': '😃', 'B': '😊', 'C': '😍', 'D': '😎', 'E': '🤩', 'F': '😇', 'G': '🤗', 'H': '🤔', 'I': '🤫', 'J': '🤣', 'K': '😂', 'L': '😭', 'M': '😡', 'N': '😱', 'O': '😴', 'P': '🤯', 'Q': '🤪', 'R': '🤓', 'S': '🤡', 'T': '🤢', 'U': '🤮', 'V': '🤬', 'W': '🥺', 'X': '🤑', 'Y': '🤞'}\n"
     ]
    }
   ],
   "source": [
    "print(l2e)"
   ]
  },
  {
   "cell_type": "code",
   "execution_count": 54,
   "metadata": {},
   "outputs": [
    {
     "data": {
      "text/plain": [
       "('🤔🤩😭😭😴', 'HELLO')"
      ]
     },
     "execution_count": 54,
     "metadata": {},
     "output_type": "execute_result"
    }
   ],
   "source": []
  },
  {
   "cell_type": "code",
   "execution_count": 53,
   "metadata": {},
   "outputs": [
    {
     "data": {
      "text/plain": [
       "('🤔🤩😭😭😴', 'HELLO')"
      ]
     },
     "execution_count": 53,
     "metadata": {},
     "output_type": "execute_result"
    }
   ],
   "source": []
  },
  {
   "cell_type": "code",
   "execution_count": null,
   "metadata": {},
   "outputs": [],
   "source": []
  }
 ],
 "metadata": {
  "kernelspec": {
   "display_name": "Python 3",
   "language": "python",
   "name": "python3"
  },
  "language_info": {
   "codemirror_mode": {
    "name": "ipython",
    "version": 3
   },
   "file_extension": ".py",
   "mimetype": "text/x-python",
   "name": "python",
   "nbconvert_exporter": "python",
   "pygments_lexer": "ipython3",
   "version": "3.11.6"
  },
  "orig_nbformat": 4
 },
 "nbformat": 4,
 "nbformat_minor": 2
}
