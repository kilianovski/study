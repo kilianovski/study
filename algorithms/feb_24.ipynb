{
 "cells": [
  {
   "cell_type": "markdown",
   "metadata": {},
   "source": [
    "## 368. Largest Divisible Subset"
   ]
  },
  {
   "cell_type": "markdown",
   "metadata": {},
   "source": [
    "### Brute Force! $O(2^n \\times n^2)$"
   ]
  },
  {
   "cell_type": "code",
   "execution_count": 8,
   "metadata": {},
   "outputs": [],
   "source": [
    "nums = [1,2,4,8]"
   ]
  },
  {
   "cell_type": "code",
   "execution_count": 9,
   "metadata": {},
   "outputs": [
    {
     "data": {
      "text/plain": [
       "True"
      ]
     },
     "execution_count": 9,
     "metadata": {},
     "output_type": "execute_result"
    }
   ],
   "source": [
    "can_join([], 2)"
   ]
  },
  {
   "cell_type": "code",
   "execution_count": 11,
   "metadata": {},
   "outputs": [
    {
     "data": {
      "text/plain": [
       "([[],\n",
       "  [1],\n",
       "  [2],\n",
       "  [2, 1],\n",
       "  [4],\n",
       "  [4, 1],\n",
       "  [4, 2],\n",
       "  [4, 2, 1],\n",
       "  [8],\n",
       "  [8, 1],\n",
       "  [8, 2],\n",
       "  [8, 2, 1],\n",
       "  [8, 4],\n",
       "  [8, 4, 1],\n",
       "  [8, 4, 2],\n",
       "  [8, 4, 2, 1]],\n",
       " [8, 4, 2, 1])"
      ]
     },
     "execution_count": 11,
     "metadata": {},
     "output_type": "execute_result"
    }
   ],
   "source": [
    "def is_good_pair(x,y): return not(x%y and y%x)\n",
    "\n",
    "def can_join(arr, x): return all(is_good_pair(x,y) for y in arr)\n",
    "\n",
    "\n",
    "subsets = [[]]\n",
    "best_subset = []\n",
    "\n",
    "for n in nums:\n",
    "    with_n = []\n",
    "    for s in subsets:\n",
    "        if can_join(s, n):\n",
    "            sn = [n]+s\n",
    "            with_n.append(sn)\n",
    "            if len(sn) > len(best_subset):\n",
    "                best_subset = sn\n",
    "    subsets += with_n\n",
    "\n",
    "subsets, best_subset"
   ]
  },
  {
   "cell_type": "code",
   "execution_count": null,
   "metadata": {},
   "outputs": [],
   "source": []
  },
  {
   "cell_type": "code",
   "execution_count": null,
   "metadata": {},
   "outputs": [],
   "source": []
  },
  {
   "cell_type": "code",
   "execution_count": null,
   "metadata": {},
   "outputs": [],
   "source": []
  },
  {
   "cell_type": "code",
   "execution_count": null,
   "metadata": {},
   "outputs": [],
   "source": []
  },
  {
   "cell_type": "code",
   "execution_count": 1,
   "metadata": {},
   "outputs": [],
   "source": [
    "import array"
   ]
  },
  {
   "cell_type": "code",
   "execution_count": 7,
   "metadata": {},
   "outputs": [
    {
     "data": {
      "text/plain": [
       "array('B', [0])"
      ]
     },
     "execution_count": 7,
     "metadata": {},
     "output_type": "execute_result"
    }
   ],
   "source": [
    "array.array\n",
    "            )"
   ]
  },
  {
   "cell_type": "markdown",
   "metadata": {},
   "source": [
    "## 1043. Partition Array for Maximum Sum"
   ]
  },
  {
   "cell_type": "markdown",
   "metadata": {},
   "source": [
    "### [✅] Generate all partitions into sub-arrays for fun and profit!"
   ]
  },
  {
   "cell_type": "code",
   "execution_count": 34,
   "metadata": {},
   "outputs": [
    {
     "name": "stdout",
     "output_type": "stream",
     "text": [
      "[[1], [15], [7], [9], [2], [5], [10]]\n",
      "[[1], [15], [7], [9], [2], [5, 10]]\n",
      "[[1], [15], [7], [9], [2, 5], [10]]\n",
      "[[1], [15], [7], [9], [2, 5, 10]]\n",
      "[[1], [15], [7], [9, 2], [5], [10]]\n",
      "[[1], [15], [7], [9, 2], [5, 10]]\n",
      "[[1], [15], [7], [9, 2, 5], [10]]\n",
      "[[1], [15], [7, 9], [2], [5], [10]]\n",
      "[[1], [15], [7, 9], [2], [5, 10]]\n",
      "[[1], [15], [7, 9], [2, 5], [10]]\n",
      "[[1], [15], [7, 9], [2, 5, 10]]\n",
      "[[1], [15], [7, 9, 2], [5], [10]]\n",
      "[[1], [15], [7, 9, 2], [5, 10]]\n",
      "[[1], [15, 7], [9], [2], [5], [10]]\n",
      "[[1], [15, 7], [9], [2], [5, 10]]\n",
      "[[1], [15, 7], [9], [2, 5], [10]]\n",
      "[[1], [15, 7], [9], [2, 5, 10]]\n",
      "[[1], [15, 7], [9, 2], [5], [10]]\n",
      "[[1], [15, 7], [9, 2], [5, 10]]\n",
      "[[1], [15, 7], [9, 2, 5], [10]]\n",
      "[[1], [15, 7, 9], [2], [5], [10]]\n",
      "[[1], [15, 7, 9], [2], [5, 10]]\n",
      "[[1], [15, 7, 9], [2, 5], [10]]\n",
      "[[1], [15, 7, 9], [2, 5, 10]]\n",
      "[[1, 15], [7], [9], [2], [5], [10]]\n",
      "[[1, 15], [7], [9], [2], [5, 10]]\n",
      "[[1, 15], [7], [9], [2, 5], [10]]\n",
      "[[1, 15], [7], [9], [2, 5, 10]]\n",
      "[[1, 15], [7], [9, 2], [5], [10]]\n",
      "[[1, 15], [7], [9, 2], [5, 10]]\n",
      "[[1, 15], [7], [9, 2, 5], [10]]\n",
      "[[1, 15], [7, 9], [2], [5], [10]]\n",
      "[[1, 15], [7, 9], [2], [5, 10]]\n",
      "[[1, 15], [7, 9], [2, 5], [10]]\n",
      "[[1, 15], [7, 9], [2, 5, 10]]\n",
      "[[1, 15], [7, 9, 2], [5], [10]]\n",
      "[[1, 15], [7, 9, 2], [5, 10]]\n",
      "[[1, 15, 7], [9], [2], [5], [10]]\n",
      "[[1, 15, 7], [9], [2], [5, 10]]\n",
      "[[1, 15, 7], [9], [2, 5], [10]]\n",
      "[[1, 15, 7], [9], [2, 5, 10]]\n",
      "[[1, 15, 7], [9, 2], [5], [10]]\n",
      "[[1, 15, 7], [9, 2], [5, 10]]\n",
      "[[1, 15, 7], [9, 2, 5], [10]]\n",
      "44\n"
     ]
    }
   ],
   "source": [
    "arr = [1,15,7,9,2,5,10]\n",
    "\n",
    "arr = [1,2,3]\n",
    "\"\"\"\n",
    "expected:\n",
    "[\n",
    " [ [1], [2], [3] ],\n",
    " [ [1], [2, 3]   ],\n",
    " [ [1, 2], [3]   ]\n",
    " [ [1, 2, 3]     ],\n",
    "]\n",
    "\"\"\"\n",
    "\n",
    "\n",
    "\n",
    "def partition(i):\n",
    "    if i >= len(arr): return [[]]\n",
    "\n",
    "    result = []\n",
    "    upper_bounds = list( range(i+1, min(i+k, len(arr))+1) )\n",
    "    # print(f'{upper_bounds=} for {i=} {arr[i]=} ')\n",
    "    for upper_boundary in upper_bounds:\n",
    "        for p in partition(upper_boundary):\n",
    "            r = [arr[i:upper_boundary]] + p\n",
    "            result.append(r)\n",
    "    return result\n",
    "\n",
    "\n",
    "arr = [1,15,7,  9,2,5,  10]\n",
    "k = len(arr)\n",
    "k = 3\n",
    "\n",
    "for p in partition(0):\n",
    "    print(p)\n",
    "\n",
    "print(len(partition(0)))"
   ]
  },
  {
   "cell_type": "markdown",
   "metadata": {},
   "source": [
    "### Solve somehow"
   ]
  },
  {
   "cell_type": "code",
   "execution_count": 46,
   "metadata": {},
   "outputs": [
    {
     "data": {
      "text/plain": [
       "[83, 82, 75, 68, 61, 54, 45, 36, 27, 18, 3]"
      ]
     },
     "execution_count": 46,
     "metadata": {},
     "output_type": "execute_result"
    }
   ],
   "source": [
    "arr = [1,15,7,9,2,5,10]\n",
    "k = 3\n",
    "\n",
    "arr = [1,4,1,5,7,3,6,1,9,9,3]\n",
    "k = 4\n",
    "# arr = [5,10]\n",
    "dp = [0 for _ in range(len(arr))]\n",
    "def s(i): return 0 if i >= len(arr) else dp[i]\n",
    "\n",
    "for i in range(len(arr)-1, -1, -1):\n",
    "    m = arr[i]\n",
    "    for t in range(min(k, len(arr)-i)): # TODO!\n",
    "        m = max(m, arr[i+t])\n",
    "        dp[i] = max(dp[i], (t+1)*m + s(i+t+1))\n",
    "dp"
   ]
  },
  {
   "cell_type": "markdown",
   "metadata": {},
   "source": []
  },
  {
   "cell_type": "markdown",
   "metadata": {},
   "source": []
  },
  {
   "cell_type": "code",
   "execution_count": null,
   "metadata": {},
   "outputs": [],
   "source": []
  },
  {
   "cell_type": "markdown",
   "metadata": {},
   "source": []
  },
  {
   "cell_type": "code",
   "execution_count": null,
   "metadata": {},
   "outputs": [],
   "source": []
  },
  {
   "cell_type": "markdown",
   "metadata": {},
   "source": [
    "## 1291. Sequential Digits"
   ]
  },
  {
   "cell_type": "markdown",
   "metadata": {},
   "source": [
    "#### Mini quest 0: create iterator through this space"
   ]
  },
  {
   "cell_type": "code",
   "execution_count": 7,
   "metadata": {},
   "outputs": [
    {
     "data": {
      "text/plain": [
       "[1, 2, 3, 4, 5, 6, 7, 8, 9]"
      ]
     },
     "execution_count": 7,
     "metadata": {},
     "output_type": "execute_result"
    }
   ],
   "source": [
    "digits = list(range(1, 10))\n",
    "digits"
   ]
  },
  {
   "cell_type": "code",
   "execution_count": 23,
   "metadata": {},
   "outputs": [],
   "source": [
    "def d2n(digits): return sum([d * 10**i for i,d in enumerate(reversed(digits))])"
   ]
  },
  {
   "cell_type": "code",
   "execution_count": 24,
   "metadata": {},
   "outputs": [
    {
     "name": "stdout",
     "output_type": "stream",
     "text": [
      "45\n",
      "[1, 2, 3, 4, 5, 6, 7, 8, 9, 12, 23, 34, 45, 56, 67, 78, 89, 123, 234, 345, 456, 567, 678, 789, 1234, 2345, 3456, 4567, 5678, 6789, 12345, 23456, 34567, 45678, 56789, 123456, 234567, 345678, 456789, 1234567, 2345678, 3456789, 12345678, 23456789, 123456789]\n"
     ]
    }
   ],
   "source": [
    "nums = []\n",
    "\n",
    "for n in range(1, 10):\n",
    "    \n",
    "    for i in range(9-n+1):\n",
    "        num = (d2n(digits[i:i+n]))\n",
    "        nums.append(num)\n",
    "\n",
    "\n",
    "print(len(nums))\n",
    "print(nums)"
   ]
  },
  {
   "cell_type": "markdown",
   "metadata": {},
   "source": []
  },
  {
   "cell_type": "markdown",
   "metadata": {},
   "source": []
  }
 ],
 "metadata": {
  "kernelspec": {
   "display_name": "Python 3",
   "language": "python",
   "name": "python3"
  },
  "language_info": {
   "codemirror_mode": {
    "name": "ipython",
    "version": 3
   },
   "file_extension": ".py",
   "mimetype": "text/x-python",
   "name": "python",
   "nbconvert_exporter": "python",
   "pygments_lexer": "ipython3",
   "version": "3.11.7"
  }
 },
 "nbformat": 4,
 "nbformat_minor": 2
}
