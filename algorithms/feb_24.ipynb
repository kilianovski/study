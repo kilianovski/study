{
 "cells": [
  {
   "cell_type": "markdown",
   "metadata": {},
   "source": [
    "## 2709. Greatest Common Divisor Traversal"
   ]
  },
  {
   "cell_type": "markdown",
   "metadata": {},
   "source": [
    "### My first approach with graph translation"
   ]
  },
  {
   "cell_type": "code",
   "execution_count": 52,
   "metadata": {},
   "outputs": [
    {
     "data": {
      "text/plain": [
       "[[], [2], [2, 2], [5], [2, 3], [7], [2, 3, 3], [3, 7], [3, 11], [2, 3, 7]]"
      ]
     },
     "execution_count": 52,
     "metadata": {},
     "output_type": "execute_result"
    }
   ],
   "source": [
    "import math\n",
    "\n",
    "\n",
    "def prime_factors(n):\n",
    "    factors = []\n",
    "    for x in range(2, int(math.sqrt(n)) + 1):\n",
    "        while n % x == 0:\n",
    "            n //= x\n",
    "            factors.append(x)\n",
    "    if n > 1: factors.append(n)\n",
    "    return factors\n",
    "\n",
    "\n",
    "[prime_factors (n) for n in [1,2,4,5,6,7,18, 21, 33, 42]]"
   ]
  },
  {
   "cell_type": "code",
   "execution_count": 143,
   "metadata": {},
   "outputs": [],
   "source": [
    "nums = [99991] * 100_000\n",
    "nums = [42,40,45,42,50,33,30,45,33,45,30,36,44,1,21,10,40,42,42]"
   ]
  },
  {
   "cell_type": "code",
   "execution_count": 147,
   "metadata": {},
   "outputs": [
    {
     "name": "stdout",
     "output_type": "stream",
     "text": [
      "len(primes)=3\n",
      "len(primes)=4\n",
      "len(primes)=3\n",
      "len(primes)=3\n",
      "len(primes)=3\n",
      "len(primes)=2\n",
      "len(primes)=3\n",
      "len(primes)=3\n",
      "len(primes)=2\n",
      "len(primes)=3\n",
      "len(primes)=3\n",
      "len(primes)=4\n",
      "len(primes)=3\n",
      "len(primes)=0\n",
      "len(primes)=2\n",
      "len(primes)=2\n",
      "len(primes)=4\n",
      "len(primes)=3\n",
      "len(primes)=3\n"
     ]
    },
    {
     "data": {
      "text/plain": [
       "True"
      ]
     },
     "execution_count": 147,
     "metadata": {},
     "output_type": "execute_result"
    }
   ],
   "source": [
    "nums_primed = [prime_factors (n) for n in nums]\n",
    "prime2idx = collections.defaultdict(list)\n",
    "\n",
    "for i, primes in enumerate(nums_primed):\n",
    "    for p in primes:\n",
    "        prime2idx[p].append(i)\n",
    "        \n",
    "prime2idx = collections.defaultdict(set)\n",
    "\n",
    "for i, primes in enumerate(nums_primed):\n",
    "    print(f'{len(primes)=}')\n",
    "    for p in primes:\n",
    "        prime2idx[p].add(i)\n",
    "\n",
    "\n",
    "prime2primes = collections.defaultdict(set)\n",
    "for p, idx in prime2idx.items():\n",
    "    \n",
    "    primes = {p for i in idx for p in nums_primed[i]}\n",
    "    prime2primes[p] = primes\n",
    "\n",
    "\n",
    "all_primes = {p for ps in nums_primed for p in ps}\n",
    "\n",
    "i = 0\n",
    "stack = [p for p in nums_primed[i]]\n",
    "visited_primes = set(stack)\n",
    "\n",
    "while stack:\n",
    "    p = stack.pop()\n",
    "    \n",
    "    children = prime2primes[p] - visited_primes\n",
    "    for child_prime in children:\n",
    "        visited_primes.add(child_prime)\n",
    "        stack.append(child_prime)\n",
    "\n",
    "\n",
    "len(visited_primes) == len(all_primes)\n",
    "\n"
   ]
  },
  {
   "cell_type": "code",
   "execution_count": null,
   "metadata": {},
   "outputs": [],
   "source": []
  },
  {
   "cell_type": "code",
   "execution_count": 146,
   "metadata": {},
   "outputs": [
    {
     "data": {
      "text/plain": [
       "defaultdict(set,\n",
       "            {2: {2, 3, 5, 7, 11},\n",
       "             3: {2, 3, 5, 7, 11},\n",
       "             7: {2, 3, 7},\n",
       "             5: {2, 3, 5},\n",
       "             11: {2, 3, 11}})"
      ]
     },
     "execution_count": 146,
     "metadata": {},
     "output_type": "execute_result"
    }
   ],
   "source": [
    "prime2primes"
   ]
  },
  {
   "cell_type": "code",
   "execution_count": 145,
   "metadata": {},
   "outputs": [
    {
     "data": {
      "text/plain": [
       "{2, 3, 5, 7, 11}"
      ]
     },
     "execution_count": 145,
     "metadata": {},
     "output_type": "execute_result"
    }
   ],
   "source": []
  },
  {
   "cell_type": "code",
   "execution_count": 142,
   "metadata": {},
   "outputs": [
    {
     "data": {
      "text/plain": [
       "True"
      ]
     },
     "execution_count": 142,
     "metadata": {},
     "output_type": "execute_result"
    }
   ],
   "source": [
    "i = 0\n",
    "stack = nums_primed[i]\n",
    "visited_primes = set(stack)\n"
   ]
  },
  {
   "cell_type": "code",
   "execution_count": null,
   "metadata": {},
   "outputs": [],
   "source": []
  },
  {
   "cell_type": "code",
   "execution_count": 123,
   "metadata": {},
   "outputs": [
    {
     "data": {
      "text/plain": [
       "set()"
      ]
     },
     "execution_count": 123,
     "metadata": {},
     "output_type": "execute_result"
    }
   ],
   "source": []
  },
  {
   "cell_type": "code",
   "execution_count": 89,
   "metadata": {},
   "outputs": [
    {
     "data": {
      "text/plain": [
       "10000"
      ]
     },
     "execution_count": 89,
     "metadata": {},
     "output_type": "execute_result"
    }
   ],
   "source": [
    "len(nums)"
   ]
  },
  {
   "cell_type": "code",
   "execution_count": 90,
   "metadata": {},
   "outputs": [],
   "source": [
    "import collections"
   ]
  },
  {
   "cell_type": "code",
   "execution_count": 91,
   "metadata": {},
   "outputs": [
    {
     "data": {
      "text/plain": [
       "{0,\n",
       " 1,\n",
       " 2,\n",
       " 3,\n",
       " 4,\n",
       " 5,\n",
       " 6,\n",
       " 7,\n",
       " 8,\n",
       " 9,\n",
       " 10,\n",
       " 11,\n",
       " 12,\n",
       " 13,\n",
       " 14,\n",
       " 15,\n",
       " 16,\n",
       " 17,\n",
       " 18,\n",
       " 19,\n",
       " 20,\n",
       " 21,\n",
       " 22,\n",
       " 23,\n",
       " 24,\n",
       " 25,\n",
       " 26,\n",
       " 27,\n",
       " 28,\n",
       " 29,\n",
       " 30,\n",
       " 31,\n",
       " 32,\n",
       " 33,\n",
       " 34,\n",
       " 35,\n",
       " 36,\n",
       " 37,\n",
       " 38,\n",
       " 39,\n",
       " 40,\n",
       " 41,\n",
       " 42,\n",
       " 43,\n",
       " 44,\n",
       " 45,\n",
       " 46,\n",
       " 47,\n",
       " 48,\n",
       " 49,\n",
       " 50,\n",
       " 51,\n",
       " 52,\n",
       " 53,\n",
       " 54,\n",
       " 55,\n",
       " 56,\n",
       " 57,\n",
       " 58,\n",
       " 59,\n",
       " 60,\n",
       " 61,\n",
       " 62,\n",
       " 63,\n",
       " 64,\n",
       " 65,\n",
       " 66,\n",
       " 67,\n",
       " 68,\n",
       " 69,\n",
       " 70,\n",
       " 71,\n",
       " 72,\n",
       " 73,\n",
       " 74,\n",
       " 75,\n",
       " 76,\n",
       " 77,\n",
       " 78,\n",
       " 79,\n",
       " 80,\n",
       " 81,\n",
       " 82,\n",
       " 83,\n",
       " 84,\n",
       " 85,\n",
       " 86,\n",
       " 87,\n",
       " 88,\n",
       " 89,\n",
       " 90,\n",
       " 91,\n",
       " 92,\n",
       " 93,\n",
       " 94,\n",
       " 95,\n",
       " 96,\n",
       " 97,\n",
       " 98,\n",
       " 99,\n",
       " 100,\n",
       " 101,\n",
       " 102,\n",
       " 103,\n",
       " 104,\n",
       " 105,\n",
       " 106,\n",
       " 107,\n",
       " 108,\n",
       " 109,\n",
       " 110,\n",
       " 111,\n",
       " 112,\n",
       " 113,\n",
       " 114,\n",
       " 115,\n",
       " 116,\n",
       " 117,\n",
       " 118,\n",
       " 119,\n",
       " 120,\n",
       " 121,\n",
       " 122,\n",
       " 123,\n",
       " 124,\n",
       " 125,\n",
       " 126,\n",
       " 127,\n",
       " 128,\n",
       " 129,\n",
       " 130,\n",
       " 131,\n",
       " 132,\n",
       " 133,\n",
       " 134,\n",
       " 135,\n",
       " 136,\n",
       " 137,\n",
       " 138,\n",
       " 139,\n",
       " 140,\n",
       " 141,\n",
       " 142,\n",
       " 143,\n",
       " 144,\n",
       " 145,\n",
       " 146,\n",
       " 147,\n",
       " 148,\n",
       " 149,\n",
       " 150,\n",
       " 151,\n",
       " 152,\n",
       " 153,\n",
       " 154,\n",
       " 155,\n",
       " 156,\n",
       " 157,\n",
       " 158,\n",
       " 159,\n",
       " 160,\n",
       " 161,\n",
       " 162,\n",
       " 163,\n",
       " 164,\n",
       " 165,\n",
       " 166,\n",
       " 167,\n",
       " 168,\n",
       " 169,\n",
       " 170,\n",
       " 171,\n",
       " 172,\n",
       " 173,\n",
       " 174,\n",
       " 175,\n",
       " 176,\n",
       " 177,\n",
       " 178,\n",
       " 179,\n",
       " 180,\n",
       " 181,\n",
       " 182,\n",
       " 183,\n",
       " 184,\n",
       " 185,\n",
       " 186,\n",
       " 187,\n",
       " 188,\n",
       " 189,\n",
       " 190,\n",
       " 191,\n",
       " 192,\n",
       " 193,\n",
       " 194,\n",
       " 195,\n",
       " 196,\n",
       " 197,\n",
       " 198,\n",
       " 199,\n",
       " 200,\n",
       " 201,\n",
       " 202,\n",
       " 203,\n",
       " 204,\n",
       " 205,\n",
       " 206,\n",
       " 207,\n",
       " 208,\n",
       " 209,\n",
       " 210,\n",
       " 211,\n",
       " 212,\n",
       " 213,\n",
       " 214,\n",
       " 215,\n",
       " 216,\n",
       " 217,\n",
       " 218,\n",
       " 219,\n",
       " 220,\n",
       " 221,\n",
       " 222,\n",
       " 223,\n",
       " 224,\n",
       " 225,\n",
       " 226,\n",
       " 227,\n",
       " 228,\n",
       " 229,\n",
       " 230,\n",
       " 231,\n",
       " 232,\n",
       " 233,\n",
       " 234,\n",
       " 235,\n",
       " 236,\n",
       " 237,\n",
       " 238,\n",
       " 239,\n",
       " 240,\n",
       " 241,\n",
       " 242,\n",
       " 243,\n",
       " 244,\n",
       " 245,\n",
       " 246,\n",
       " 247,\n",
       " 248,\n",
       " 249,\n",
       " 250,\n",
       " 251,\n",
       " 252,\n",
       " 253,\n",
       " 254,\n",
       " 255,\n",
       " 256,\n",
       " 257,\n",
       " 258,\n",
       " 259,\n",
       " 260,\n",
       " 261,\n",
       " 262,\n",
       " 263,\n",
       " 264,\n",
       " 265,\n",
       " 266,\n",
       " 267,\n",
       " 268,\n",
       " 269,\n",
       " 270,\n",
       " 271,\n",
       " 272,\n",
       " 273,\n",
       " 274,\n",
       " 275,\n",
       " 276,\n",
       " 277,\n",
       " 278,\n",
       " 279,\n",
       " 280,\n",
       " 281,\n",
       " 282,\n",
       " 283,\n",
       " 284,\n",
       " 285,\n",
       " 286,\n",
       " 287,\n",
       " 288,\n",
       " 289,\n",
       " 290,\n",
       " 291,\n",
       " 292,\n",
       " 293,\n",
       " 294,\n",
       " 295,\n",
       " 296,\n",
       " 297,\n",
       " 298,\n",
       " 299,\n",
       " 300,\n",
       " 301,\n",
       " 302,\n",
       " 303,\n",
       " 304,\n",
       " 305,\n",
       " 306,\n",
       " 307,\n",
       " 308,\n",
       " 309,\n",
       " 310,\n",
       " 311,\n",
       " 312,\n",
       " 313,\n",
       " 314,\n",
       " 315,\n",
       " 316,\n",
       " 317,\n",
       " 318,\n",
       " 319,\n",
       " 320,\n",
       " 321,\n",
       " 322,\n",
       " 323,\n",
       " 324,\n",
       " 325,\n",
       " 326,\n",
       " 327,\n",
       " 328,\n",
       " 329,\n",
       " 330,\n",
       " 331,\n",
       " 332,\n",
       " 333,\n",
       " 334,\n",
       " 335,\n",
       " 336,\n",
       " 337,\n",
       " 338,\n",
       " 339,\n",
       " 340,\n",
       " 341,\n",
       " 342,\n",
       " 343,\n",
       " 344,\n",
       " 345,\n",
       " 346,\n",
       " 347,\n",
       " 348,\n",
       " 349,\n",
       " 350,\n",
       " 351,\n",
       " 352,\n",
       " 353,\n",
       " 354,\n",
       " 355,\n",
       " 356,\n",
       " 357,\n",
       " 358,\n",
       " 359,\n",
       " 360,\n",
       " 361,\n",
       " 362,\n",
       " 363,\n",
       " 364,\n",
       " 365,\n",
       " 366,\n",
       " 367,\n",
       " 368,\n",
       " 369,\n",
       " 370,\n",
       " 371,\n",
       " 372,\n",
       " 373,\n",
       " 374,\n",
       " 375,\n",
       " 376,\n",
       " 377,\n",
       " 378,\n",
       " 379,\n",
       " 380,\n",
       " 381,\n",
       " 382,\n",
       " 383,\n",
       " 384,\n",
       " 385,\n",
       " 386,\n",
       " 387,\n",
       " 388,\n",
       " 389,\n",
       " 390,\n",
       " 391,\n",
       " 392,\n",
       " 393,\n",
       " 394,\n",
       " 395,\n",
       " 396,\n",
       " 397,\n",
       " 398,\n",
       " 399,\n",
       " 400,\n",
       " 401,\n",
       " 402,\n",
       " 403,\n",
       " 404,\n",
       " 405,\n",
       " 406,\n",
       " 407,\n",
       " 408,\n",
       " 409,\n",
       " 410,\n",
       " 411,\n",
       " 412,\n",
       " 413,\n",
       " 414,\n",
       " 415,\n",
       " 416,\n",
       " 417,\n",
       " 418,\n",
       " 419,\n",
       " 420,\n",
       " 421,\n",
       " 422,\n",
       " 423,\n",
       " 424,\n",
       " 425,\n",
       " 426,\n",
       " 427,\n",
       " 428,\n",
       " 429,\n",
       " 430,\n",
       " 431,\n",
       " 432,\n",
       " 433,\n",
       " 434,\n",
       " 435,\n",
       " 436,\n",
       " 437,\n",
       " 438,\n",
       " 439,\n",
       " 440,\n",
       " 441,\n",
       " 442,\n",
       " 443,\n",
       " 444,\n",
       " 445,\n",
       " 446,\n",
       " 447,\n",
       " 448,\n",
       " 449,\n",
       " 450,\n",
       " 451,\n",
       " 452,\n",
       " 453,\n",
       " 454,\n",
       " 455,\n",
       " 456,\n",
       " 457,\n",
       " 458,\n",
       " 459,\n",
       " 460,\n",
       " 461,\n",
       " 462,\n",
       " 463,\n",
       " 464,\n",
       " 465,\n",
       " 466,\n",
       " 467,\n",
       " 468,\n",
       " 469,\n",
       " 470,\n",
       " 471,\n",
       " 472,\n",
       " 473,\n",
       " 474,\n",
       " 475,\n",
       " 476,\n",
       " 477,\n",
       " 478,\n",
       " 479,\n",
       " 480,\n",
       " 481,\n",
       " 482,\n",
       " 483,\n",
       " 484,\n",
       " 485,\n",
       " 486,\n",
       " 487,\n",
       " 488,\n",
       " 489,\n",
       " 490,\n",
       " 491,\n",
       " 492,\n",
       " 493,\n",
       " 494,\n",
       " 495,\n",
       " 496,\n",
       " 497,\n",
       " 498,\n",
       " 499,\n",
       " 500,\n",
       " 501,\n",
       " 502,\n",
       " 503,\n",
       " 504,\n",
       " 505,\n",
       " 506,\n",
       " 507,\n",
       " 508,\n",
       " 509,\n",
       " 510,\n",
       " 511,\n",
       " 512,\n",
       " 513,\n",
       " 514,\n",
       " 515,\n",
       " 516,\n",
       " 517,\n",
       " 518,\n",
       " 519,\n",
       " 520,\n",
       " 521,\n",
       " 522,\n",
       " 523,\n",
       " 524,\n",
       " 525,\n",
       " 526,\n",
       " 527,\n",
       " 528,\n",
       " 529,\n",
       " 530,\n",
       " 531,\n",
       " 532,\n",
       " 533,\n",
       " 534,\n",
       " 535,\n",
       " 536,\n",
       " 537,\n",
       " 538,\n",
       " 539,\n",
       " 540,\n",
       " 541,\n",
       " 542,\n",
       " 543,\n",
       " 544,\n",
       " 545,\n",
       " 546,\n",
       " 547,\n",
       " 548,\n",
       " 549,\n",
       " 550,\n",
       " 551,\n",
       " 552,\n",
       " 553,\n",
       " 554,\n",
       " 555,\n",
       " 556,\n",
       " 557,\n",
       " 558,\n",
       " 559,\n",
       " 560,\n",
       " 561,\n",
       " 562,\n",
       " 563,\n",
       " 564,\n",
       " 565,\n",
       " 566,\n",
       " 567,\n",
       " 568,\n",
       " 569,\n",
       " 570,\n",
       " 571,\n",
       " 572,\n",
       " 573,\n",
       " 574,\n",
       " 575,\n",
       " 576,\n",
       " 577,\n",
       " 578,\n",
       " 579,\n",
       " 580,\n",
       " 581,\n",
       " 582,\n",
       " 583,\n",
       " 584,\n",
       " 585,\n",
       " 586,\n",
       " 587,\n",
       " 588,\n",
       " 589,\n",
       " 590,\n",
       " 591,\n",
       " 592,\n",
       " 593,\n",
       " 594,\n",
       " 595,\n",
       " 596,\n",
       " 597,\n",
       " 598,\n",
       " 599,\n",
       " 600,\n",
       " 601,\n",
       " 602,\n",
       " 603,\n",
       " 604,\n",
       " 605,\n",
       " 606,\n",
       " 607,\n",
       " 608,\n",
       " 609,\n",
       " 610,\n",
       " 611,\n",
       " 612,\n",
       " 613,\n",
       " 614,\n",
       " 615,\n",
       " 616,\n",
       " 617,\n",
       " 618,\n",
       " 619,\n",
       " 620,\n",
       " 621,\n",
       " 622,\n",
       " 623,\n",
       " 624,\n",
       " 625,\n",
       " 626,\n",
       " 627,\n",
       " 628,\n",
       " 629,\n",
       " 630,\n",
       " 631,\n",
       " 632,\n",
       " 633,\n",
       " 634,\n",
       " 635,\n",
       " 636,\n",
       " 637,\n",
       " 638,\n",
       " 639,\n",
       " 640,\n",
       " 641,\n",
       " 642,\n",
       " 643,\n",
       " 644,\n",
       " 645,\n",
       " 646,\n",
       " 647,\n",
       " 648,\n",
       " 649,\n",
       " 650,\n",
       " 651,\n",
       " 652,\n",
       " 653,\n",
       " 654,\n",
       " 655,\n",
       " 656,\n",
       " 657,\n",
       " 658,\n",
       " 659,\n",
       " 660,\n",
       " 661,\n",
       " 662,\n",
       " 663,\n",
       " 664,\n",
       " 665,\n",
       " 666,\n",
       " 667,\n",
       " 668,\n",
       " 669,\n",
       " 670,\n",
       " 671,\n",
       " 672,\n",
       " 673,\n",
       " 674,\n",
       " 675,\n",
       " 676,\n",
       " 677,\n",
       " 678,\n",
       " 679,\n",
       " 680,\n",
       " 681,\n",
       " 682,\n",
       " 683,\n",
       " 684,\n",
       " 685,\n",
       " 686,\n",
       " 687,\n",
       " 688,\n",
       " 689,\n",
       " 690,\n",
       " 691,\n",
       " 692,\n",
       " 693,\n",
       " 694,\n",
       " 695,\n",
       " 696,\n",
       " 697,\n",
       " 698,\n",
       " 699,\n",
       " 700,\n",
       " 701,\n",
       " 702,\n",
       " 703,\n",
       " 704,\n",
       " 705,\n",
       " 706,\n",
       " 707,\n",
       " 708,\n",
       " 709,\n",
       " 710,\n",
       " 711,\n",
       " 712,\n",
       " 713,\n",
       " 714,\n",
       " 715,\n",
       " 716,\n",
       " 717,\n",
       " 718,\n",
       " 719,\n",
       " 720,\n",
       " 721,\n",
       " 722,\n",
       " 723,\n",
       " 724,\n",
       " 725,\n",
       " 726,\n",
       " 727,\n",
       " 728,\n",
       " 729,\n",
       " 730,\n",
       " 731,\n",
       " 732,\n",
       " 733,\n",
       " 734,\n",
       " 735,\n",
       " 736,\n",
       " 737,\n",
       " 738,\n",
       " 739,\n",
       " 740,\n",
       " 741,\n",
       " 742,\n",
       " 743,\n",
       " 744,\n",
       " 745,\n",
       " 746,\n",
       " 747,\n",
       " 748,\n",
       " 749,\n",
       " 750,\n",
       " 751,\n",
       " 752,\n",
       " 753,\n",
       " 754,\n",
       " 755,\n",
       " 756,\n",
       " 757,\n",
       " 758,\n",
       " 759,\n",
       " 760,\n",
       " 761,\n",
       " 762,\n",
       " 763,\n",
       " 764,\n",
       " 765,\n",
       " 766,\n",
       " 767,\n",
       " 768,\n",
       " 769,\n",
       " 770,\n",
       " 771,\n",
       " 772,\n",
       " 773,\n",
       " 774,\n",
       " 775,\n",
       " 776,\n",
       " 777,\n",
       " 778,\n",
       " 779,\n",
       " 780,\n",
       " 781,\n",
       " 782,\n",
       " 783,\n",
       " 784,\n",
       " 785,\n",
       " 786,\n",
       " 787,\n",
       " 788,\n",
       " 789,\n",
       " 790,\n",
       " 791,\n",
       " 792,\n",
       " 793,\n",
       " 794,\n",
       " 795,\n",
       " 796,\n",
       " 797,\n",
       " 798,\n",
       " 799,\n",
       " 800,\n",
       " 801,\n",
       " 802,\n",
       " 803,\n",
       " 804,\n",
       " 805,\n",
       " 806,\n",
       " 807,\n",
       " 808,\n",
       " 809,\n",
       " 810,\n",
       " 811,\n",
       " 812,\n",
       " 813,\n",
       " 814,\n",
       " 815,\n",
       " 816,\n",
       " 817,\n",
       " 818,\n",
       " 819,\n",
       " 820,\n",
       " 821,\n",
       " 822,\n",
       " 823,\n",
       " 824,\n",
       " 825,\n",
       " 826,\n",
       " 827,\n",
       " 828,\n",
       " 829,\n",
       " 830,\n",
       " 831,\n",
       " 832,\n",
       " 833,\n",
       " 834,\n",
       " 835,\n",
       " 836,\n",
       " 837,\n",
       " 838,\n",
       " 839,\n",
       " 840,\n",
       " 841,\n",
       " 842,\n",
       " 843,\n",
       " 844,\n",
       " 845,\n",
       " 846,\n",
       " 847,\n",
       " 848,\n",
       " 849,\n",
       " 850,\n",
       " 851,\n",
       " 852,\n",
       " 853,\n",
       " 854,\n",
       " 855,\n",
       " 856,\n",
       " 857,\n",
       " 858,\n",
       " 859,\n",
       " 860,\n",
       " 861,\n",
       " 862,\n",
       " 863,\n",
       " 864,\n",
       " 865,\n",
       " 866,\n",
       " 867,\n",
       " 868,\n",
       " 869,\n",
       " 870,\n",
       " 871,\n",
       " 872,\n",
       " 873,\n",
       " 874,\n",
       " 875,\n",
       " 876,\n",
       " 877,\n",
       " 878,\n",
       " 879,\n",
       " 880,\n",
       " 881,\n",
       " 882,\n",
       " 883,\n",
       " 884,\n",
       " 885,\n",
       " 886,\n",
       " 887,\n",
       " 888,\n",
       " 889,\n",
       " 890,\n",
       " 891,\n",
       " 892,\n",
       " 893,\n",
       " 894,\n",
       " 895,\n",
       " 896,\n",
       " 897,\n",
       " 898,\n",
       " 899,\n",
       " 900,\n",
       " 901,\n",
       " 902,\n",
       " 903,\n",
       " 904,\n",
       " 905,\n",
       " 906,\n",
       " 907,\n",
       " 908,\n",
       " 909,\n",
       " 910,\n",
       " 911,\n",
       " 912,\n",
       " 913,\n",
       " 914,\n",
       " 915,\n",
       " 916,\n",
       " 917,\n",
       " 918,\n",
       " 919,\n",
       " 920,\n",
       " 921,\n",
       " 922,\n",
       " 923,\n",
       " 924,\n",
       " 925,\n",
       " 926,\n",
       " 927,\n",
       " 928,\n",
       " 929,\n",
       " 930,\n",
       " 931,\n",
       " 932,\n",
       " 933,\n",
       " 934,\n",
       " 935,\n",
       " 936,\n",
       " 937,\n",
       " 938,\n",
       " 939,\n",
       " 940,\n",
       " 941,\n",
       " 942,\n",
       " 943,\n",
       " 944,\n",
       " 945,\n",
       " 946,\n",
       " 947,\n",
       " 948,\n",
       " 949,\n",
       " 950,\n",
       " 951,\n",
       " 952,\n",
       " 953,\n",
       " 954,\n",
       " 955,\n",
       " 956,\n",
       " 957,\n",
       " 958,\n",
       " 959,\n",
       " 960,\n",
       " 961,\n",
       " 962,\n",
       " 963,\n",
       " 964,\n",
       " 965,\n",
       " 966,\n",
       " 967,\n",
       " 968,\n",
       " 969,\n",
       " 970,\n",
       " 971,\n",
       " 972,\n",
       " 973,\n",
       " 974,\n",
       " 975,\n",
       " 976,\n",
       " 977,\n",
       " 978,\n",
       " 979,\n",
       " 980,\n",
       " 981,\n",
       " 982,\n",
       " 983,\n",
       " 984,\n",
       " 985,\n",
       " 986,\n",
       " 987,\n",
       " 988,\n",
       " 989,\n",
       " 990,\n",
       " 991,\n",
       " 992,\n",
       " 993,\n",
       " 994,\n",
       " 995,\n",
       " 996,\n",
       " 997,\n",
       " 998,\n",
       " 999,\n",
       " ...}"
      ]
     },
     "execution_count": 91,
     "metadata": {},
     "output_type": "execute_result"
    }
   ],
   "source": [
    "\n",
    "\n",
    "nums_primed = [prime_factors (n) for n in nums]\n",
    "prime2idx = collections.defaultdict(list)\n",
    "\n",
    "for i, primes in enumerate(nums_primed):\n",
    "    for p in primes:\n",
    "        prime2idx[p].append(i)\n",
    "\n",
    "\n",
    "i = 0\n",
    "\n",
    "stack = [i]\n",
    "visited = {i}\n",
    "\n",
    "while stack:\n",
    "    i = stack.pop()\n",
    "    \n",
    "    primes = nums_primed[i]\n",
    "    for p in primes:\n",
    "        routes = prime2idx[p]\n",
    "        for j in routes:\n",
    "            if j not in visited:\n",
    "                visited.add(j)\n",
    "                stack.append(j)\n",
    "\n",
    "visited"
   ]
  },
  {
   "cell_type": "markdown",
   "metadata": {},
   "source": [
    "### @Dummy nodes@ from editorial"
   ]
  },
  {
   "cell_type": "markdown",
   "metadata": {},
   "source": [
    "Main idea: \n",
    "\n",
    " - $g_i$ - node of the number\n",
    " - $d_p$ - dummy node for a particular prime\n",
    "\n",
    "\n",
    "\n"
   ]
  },
  {
   "cell_type": "markdown",
   "metadata": {},
   "source": []
  },
  {
   "cell_type": "code",
   "execution_count": null,
   "metadata": {},
   "outputs": [],
   "source": []
  },
  {
   "cell_type": "markdown",
   "metadata": {},
   "source": [
    "## 2092. Find All People With Secret"
   ]
  },
  {
   "cell_type": "markdown",
   "metadata": {},
   "source": []
  },
  {
   "cell_type": "code",
   "execution_count": 1,
   "metadata": {},
   "outputs": [],
   "source": [
    "# Given: list of edges\n",
    "# return: disjoint sets"
   ]
  },
  {
   "cell_type": "code",
   "execution_count": 33,
   "metadata": {},
   "outputs": [
    {
     "name": "stdout",
     "output_type": "stream",
     "text": [
      "actual=[[1, 3, 2]] expected=[[1, 2, 3]]\n",
      "actual=[[1, 2], [0, 3], [4, 5]] expected=[[0, 3], [1, 2], [4, 5]]\n",
      "actual=[[3, 0, 1]] expected=[[0, 1, 3]]\n"
     ]
    }
   ],
   "source": [
    "meetings = [[0,2,1],[1,3,1],[4,5,1]]\n",
    "# meetings = [[1,2], [1,3]]\n",
    "n = 4\n",
    "\n",
    "\n",
    "def get_disjoint_sets(sub_meetings):\n",
    "    parent = [-1 for i in range(n)]\n",
    "\n",
    "    def get_parent(x):\n",
    "        if parent[x] == -1:\n",
    "            parent[x] = x\n",
    "\n",
    "        if parent[x] == x: return x\n",
    "        \n",
    "        return get_parent(parent[x])\n",
    "\n",
    "    for edge in sub_meetings:\n",
    "        x,y = edge[0], edge[1]\n",
    "        \n",
    "        x_parent = get_parent(x)\n",
    "        y_parent = get_parent(y)\n",
    "        # print(f'parent of {x=} is {x_parent=}')\n",
    "        # print(f'parent of {y=} is {y_parent=}')\n",
    "        parent[y_parent] = x_parent\n",
    "        # print(f'{parent=}')\n",
    "\n",
    "    meetings_rooms = {}\n",
    "    for i,p in enumerate(parent):\n",
    "        if p == -1: continue\n",
    "        root_parent = get_parent(p)\n",
    "        p = root_parent\n",
    "        if p not in meetings_rooms:\n",
    "            meetings_rooms[p] = [i]\n",
    "        else:\n",
    "            meetings_rooms[p].append(i)\n",
    "        \n",
    "    return meetings_rooms.values()\n",
    "\n",
    "\n",
    "# graph_t = {}\n",
    "# [1,2], [2,4], [5,6] \n",
    "# i = 0, x,y = 1,2\n",
    "# graph_t = {1: [2], 2: [1]}\n",
    "\n",
    "# i = 1, x,y = 2,4\n",
    "# graph_t = {1: [2], 2: [1, 4], 4: [2]}\n",
    "\n",
    "# i = 2, x,y = 5,6\n",
    "# graph_t = {1: [2], 2: [1, 4], 4: [2], 5: [6], 6: [5]}\n",
    "# [ [1,2,4], [5,6] ]\n",
    "\n",
    "import collections\n",
    "\n",
    "def get_disjoint_sets(sub_meetings):\n",
    "    graph = collections.defaultdict(list)\n",
    "\n",
    "    for edge in sub_meetings:\n",
    "        x,y = edge[0], edge[1]\n",
    "\n",
    "        graph[x].append(y)\n",
    "        graph[y].append(x)\n",
    "        \n",
    "\n",
    "    # [ [1,2,4], [5,6] ]\n",
    "\n",
    "    disjoint_sets = []\n",
    "    visited = set()\n",
    "\n",
    "    def explore_island(i):\n",
    "\n",
    "        island = []\n",
    "        stack = [i]\n",
    "        visited.add(i)\n",
    "\n",
    "        while stack:\n",
    "            x = stack.pop()\n",
    "            island.append(x)\n",
    "            \n",
    "            for child in graph[x]:\n",
    "                if child not in visited:\n",
    "                    stack.append(child)\n",
    "                    visited.add(child)\n",
    "        return island\n",
    "\n",
    "    for node in graph.keys():\n",
    "        if node not in visited:\n",
    "            island = explore_island(node)\n",
    "            disjoint_sets.append(island)\n",
    "\n",
    "    return disjoint_sets\n",
    "\n",
    "def test_disjoint_sets(edges, expected):\n",
    "    actual = get_disjoint_sets(edges)\n",
    "\n",
    "    print(f'{actual=} {expected=}')\n",
    "\n",
    "\n",
    "test_disjoint_sets([[1,2], [1,3]], [[1,2,3]])\n",
    "test_disjoint_sets([[1,2], [0,3], [4,5]], [[0,3], [1,2], [4,5]])\n",
    "test_disjoint_sets([(3, 1), (0, 3)], [[0,1,3]])\n"
   ]
  },
  {
   "cell_type": "code",
   "execution_count": 31,
   "metadata": {},
   "outputs": [
    {
     "data": {
      "text/plain": [
       "[[3, 0, 1]]"
      ]
     },
     "execution_count": 31,
     "metadata": {},
     "output_type": "execute_result"
    }
   ],
   "source": [
    "import collections\n",
    "\n",
    "sub_meetings = [[1,2], [2,4], [5,6]]\n",
    "sub_meetings = [(3, 1), (0, 3)]\n",
    "\n",
    "# sub_meetings = [[1,2], [2,4], [5,6]]\n",
    "# {1: [2], 2: [1, 4], 4: [2], 5: [6], 6: [5]}\n",
    "\n",
    "\n",
    "def get_disjoint_sets(sub_meetings):\n",
    "    graph = collections.defaultdict(list)\n",
    "\n",
    "    for edge in sub_meetings:\n",
    "        x,y = edge[0], edge[1]\n",
    "\n",
    "        graph[x].append(y)\n",
    "        graph[y].append(x)\n",
    "        \n",
    "\n",
    "    # [ [1,2,4], [5,6] ]\n",
    "\n",
    "    disjoint_sets = []\n",
    "    visited = set()\n",
    "\n",
    "    def explore_island(i):\n",
    "\n",
    "        island = []\n",
    "        stack = [i]\n",
    "        visited.add(i)\n",
    "\n",
    "        while stack:\n",
    "            x = stack.pop()\n",
    "            island.append(x)\n",
    "            \n",
    "            for child in graph[x]:\n",
    "                if child not in visited:\n",
    "                    stack.append(child)\n",
    "                    visited.add(child)\n",
    "        return island\n",
    "\n",
    "    for node in graph.keys():\n",
    "        if node not in visited:\n",
    "            island = explore_island(node)\n",
    "            disjoint_sets.append(island)\n",
    "\n",
    "    return disjoint_sets\n",
    "\n",
    "get_disjoint_sets()"
   ]
  },
  {
   "cell_type": "code",
   "execution_count": null,
   "metadata": {},
   "outputs": [],
   "source": [
    "meetings = [[3,1,3],[1,2,2],[0,3,3]]"
   ]
  },
  {
   "cell_type": "code",
   "execution_count": 44,
   "metadata": {},
   "outputs": [
    {
     "data": {
      "text/plain": [
       "True"
      ]
     },
     "execution_count": 44,
     "metadata": {},
     "output_type": "execute_result"
    }
   ],
   "source": [
    "\"22\".isdigit()"
   ]
  },
  {
   "cell_type": "code",
   "execution_count": 41,
   "metadata": {},
   "outputs": [],
   "source": [
    "from collections import defaultdict\n",
    "\n",
    "meetings = [[3,1,3],[1,2,2],[0,3,3], [3,4,2]]"
   ]
  },
  {
   "cell_type": "code",
   "execution_count": 42,
   "metadata": {},
   "outputs": [
    {
     "name": "stdout",
     "output_type": "stream",
     "text": [
      "defaultdict(<function <lambda> at 0x10797dda0>, {3: defaultdict(<class 'list'>, {3: [1, 0], 1: [3], 0: [3]}), 2: defaultdict(<class 'list'>, {1: [2], 2: [1], 3: [4], 4: [3]})})\n"
     ]
    },
    {
     "ename": "NameError",
     "evalue": "name 'firstPerson' is not defined",
     "output_type": "error",
     "traceback": [
      "\u001b[0;31m---------------------------------------------------------------------------\u001b[0m",
      "\u001b[0;31mNameError\u001b[0m                                 Traceback (most recent call last)",
      "Cell \u001b[0;32mIn[42], line 26\u001b[0m\n\u001b[1;32m     22\u001b[0m                 f(t, c, visited)\n\u001b[1;32m     24\u001b[0m     \u001b[38;5;28;01mreturn\u001b[39;00m visited\n\u001b[0;32m---> 26\u001b[0m knows \u001b[38;5;241m=\u001b[39m \u001b[38;5;28mset\u001b[39m([\u001b[38;5;241m0\u001b[39m, \u001b[43mfirstPerson\u001b[49m])\n\u001b[1;32m     27\u001b[0m \u001b[38;5;28;01mfor\u001b[39;00m t, nodes \u001b[38;5;129;01min\u001b[39;00m \u001b[38;5;28msorted\u001b[39m(graph\u001b[38;5;241m.\u001b[39mitems()):\n\u001b[1;32m     28\u001b[0m     \u001b[38;5;28;01mfor\u001b[39;00m node \u001b[38;5;129;01min\u001b[39;00m nodes\u001b[38;5;241m.\u001b[39mkeys():\n",
      "\u001b[0;31mNameError\u001b[0m: name 'firstPerson' is not defined"
     ]
    }
   ],
   "source": [
    "graph = defaultdict(lambda: defaultdict(list))\n",
    "for x, y, t in meetings:\n",
    "    graph[t][x].append(y)\n",
    "    graph[t][y].append(x)\n",
    "\n",
    "# graph = {\n",
    "#     2: {1: [2], 2: [1], 3: [4], 4: [3]},\n",
    "#     3: {0: [3], 1: [3], 3: [0, 1]}\n",
    "# }\n",
    "\n",
    "# {0: [2], 2: [0], 1: [3], 3: [1], 4: [5], 5: [4]})\n",
    "# # print(graph)\n",
    "\n",
    "\n",
    "def f(t, node, visited):\n",
    "    visited.add(node)\n",
    "\n",
    "    if node in graph[t]:\n",
    "        for c in graph[t][node]:\n",
    "            if c not in visited:\n",
    "                f(t, c, visited)\n",
    "        \n",
    "    return visited\n",
    "\n",
    "knows = set([0, firstPerson])\n",
    "for t, nodes in sorted(graph.items()):\n",
    "    # t = 2\n",
    "    # node = {1: [2], 2: [1], 3: [4], 4: [3]}\n",
    "\n",
    "    for node in nodes.keys():\n",
    "        if node not in knows:\n",
    "            visited = f(t, node, set())\n",
    "\n",
    "            if knows.intersection(visited) :\n",
    "                knows |= visited\n",
    "        \n",
    "return knows"
   ]
  },
  {
   "cell_type": "code",
   "execution_count": null,
   "metadata": {},
   "outputs": [],
   "source": []
  },
  {
   "cell_type": "markdown",
   "metadata": {},
   "source": [
    "## ---\n",
    "\n"
   ]
  },
  {
   "cell_type": "code",
   "execution_count": 3,
   "metadata": {},
   "outputs": [
    {
     "data": {
      "text/plain": [
       "array([ 1,  5,  9, 13, 18, 26, 27, 28, 29, 31])"
      ]
     },
     "execution_count": 3,
     "metadata": {},
     "output_type": "execute_result"
    }
   ],
   "source": [
    "import numpy as np\n",
    "\n",
    "np.cumsum([1, 4, 4, 4, 5, 8, 1, 1, 1, 2])"
   ]
  },
  {
   "cell_type": "code",
   "execution_count": null,
   "metadata": {},
   "outputs": [],
   "source": []
  },
  {
   "cell_type": "code",
   "execution_count": 134,
   "metadata": {},
   "outputs": [],
   "source": [
    "from collections import Counter"
   ]
  },
  {
   "cell_type": "code",
   "execution_count": 142,
   "metadata": {},
   "outputs": [
    {
     "data": {
      "text/plain": [
       "1"
      ]
     },
     "execution_count": 142,
     "metadata": {},
     "output_type": "execute_result"
    }
   ],
   "source": [
    "max(Counter([1,2,3,1]).items(), key=lambda t:t[1])[0]"
   ]
  },
  {
   "cell_type": "code",
   "execution_count": 136,
   "metadata": {},
   "outputs": [
    {
     "data": {
      "text/plain": [
       "3"
      ]
     },
     "execution_count": 136,
     "metadata": {},
     "output_type": "execute_result"
    }
   ],
   "source": [
    "max(Counter([1,2,3]))"
   ]
  },
  {
   "cell_type": "markdown",
   "metadata": {},
   "source": [
    "## 1463. Cherry Pickup II"
   ]
  },
  {
   "cell_type": "markdown",
   "metadata": {},
   "source": [
    "### Only single robot matters! (non-trivial test generator)"
   ]
  },
  {
   "cell_type": "code",
   "execution_count": 2,
   "metadata": {},
   "outputs": [],
   "source": [
    "import numpy as np"
   ]
  },
  {
   "cell_type": "code",
   "execution_count": 40,
   "metadata": {},
   "outputs": [],
   "source": [
    "m, n = 16,16"
   ]
  },
  {
   "cell_type": "code",
   "execution_count": 41,
   "metadata": {},
   "outputs": [
    {
     "data": {
      "text/plain": [
       "array([[ 0, 13,  5, 14,  3, 10,  2,  3,  4,  9, 10,  9, 10, 14,  3, 12],\n",
       "       [ 0,  0, 14, 11,  6, 14,  7,  1,  4,  7,  6,  7,  9, 13,  3,  2],\n",
       "       [ 0,  0,  0,  6,  5,  2, 12,  3,  8,  9,  9, 13,  9, 11,  6, 11],\n",
       "       [ 0,  0,  0,  0,  9, 13,  4,  9, 13,  1, 13,  8,  7, 10,  9,  6],\n",
       "       [ 0,  0,  0,  0,  0,  1,  8, 12,  8,  7,  7,  2, 14,  3,  7,  2],\n",
       "       [ 0,  0,  0,  0,  0,  0, 13, 10, 10, 12,  2,  7,  6,  8, 11, 10],\n",
       "       [ 0,  0,  0,  0,  0,  0,  0, 12, 12,  7,  3,  5,  2, 11,  7,  5],\n",
       "       [ 0,  0,  0,  0,  0,  0,  0,  0,  8,  2, 14,  8, 12, 12, 10,  9],\n",
       "       [ 0,  0,  0,  0,  0,  0,  0,  0,  0,  3,  5,  3, 13,  1,  5, 11],\n",
       "       [ 0,  0,  0,  0,  0,  0,  0,  0,  0,  0,  4, 13,  4, 11,  2, 14],\n",
       "       [ 0,  0,  0,  0,  0,  0,  0,  0,  0,  0,  0, 10,  9,  6,  1,  8],\n",
       "       [ 0,  0,  0,  0,  0,  0,  0,  0,  0,  0,  0,  0,  2, 11,  2, 13],\n",
       "       [ 0,  0,  0,  0,  0,  0,  0,  0,  0,  0,  0,  0,  0, 12,  5, 14],\n",
       "       [ 0,  0,  0,  0,  0,  0,  0,  0,  0,  0,  0,  0,  0,  0,  4,  1],\n",
       "       [ 0,  0,  0,  0,  0,  0,  0,  0,  0,  0,  0,  0,  0,  0,  0,  6],\n",
       "       [ 0,  0,  0,  0,  0,  0,  0,  0,  0,  0,  0,  0,  0,  0,  0,  0]])"
      ]
     },
     "execution_count": 41,
     "metadata": {},
     "output_type": "execute_result"
    }
   ],
   "source": [
    "grid = np.random.randint(1, 15, size=(m,n))\n",
    "\n",
    "i, j = np.meshgrid(np.arange(m), np.arange(n), indexing='ij')\n",
    "grid[i >= j] = 0\n",
    "\n",
    "grid"
   ]
  },
  {
   "cell_type": "code",
   "execution_count": 44,
   "metadata": {},
   "outputs": [
    {
     "name": "stdout",
     "output_type": "stream",
     "text": [
      "[[0, 13, 5, 14, 3, 10, 2, 3, 4, 9, 10, 9, 10, 14, 3, 12], [0, 0, 14, 11, 6, 14, 7, 1, 4, 7, 6, 7, 9, 13, 3, 2], [0, 0, 0, 6, 5, 2, 12, 3, 8, 9, 9, 13, 9, 11, 6, 11], [0, 0, 0, 0, 9, 13, 4, 9, 13, 1, 13, 8, 7, 10, 9, 6], [0, 0, 0, 0, 0, 1, 8, 12, 8, 7, 7, 2, 14, 3, 7, 2], [0, 0, 0, 0, 0, 0, 13, 10, 10, 12, 2, 7, 6, 8, 11, 10], [0, 0, 0, 0, 0, 0, 0, 12, 12, 7, 3, 5, 2, 11, 7, 5], [0, 0, 0, 0, 0, 0, 0, 0, 8, 2, 14, 8, 12, 12, 10, 9], [0, 0, 0, 0, 0, 0, 0, 0, 0, 3, 5, 3, 13, 1, 5, 11], [0, 0, 0, 0, 0, 0, 0, 0, 0, 0, 4, 13, 4, 11, 2, 14], [0, 0, 0, 0, 0, 0, 0, 0, 0, 0, 0, 10, 9, 6, 1, 8], [0, 0, 0, 0, 0, 0, 0, 0, 0, 0, 0, 0, 2, 11, 2, 13], [0, 0, 0, 0, 0, 0, 0, 0, 0, 0, 0, 0, 0, 12, 5, 14], [0, 0, 0, 0, 0, 0, 0, 0, 0, 0, 0, 0, 0, 0, 4, 1], [0, 0, 0, 0, 0, 0, 0, 0, 0, 0, 0, 0, 0, 0, 0, 6], [0, 0, 0, 0, 0, 0, 0, 0, 0, 0, 0, 0, 0, 0, 0, 0]]\n"
     ]
    }
   ],
   "source": [
    "print(str(grid.tolist()))"
   ]
  },
  {
   "cell_type": "code",
   "execution_count": 122,
   "metadata": {},
   "outputs": [
    {
     "name": "stdout",
     "output_type": "stream",
     "text": [
      "is_valid_j2=\n",
      "[[False False  True]\n",
      " [False  True  True]\n",
      " [ True  True  True]\n",
      " [ True  True  True]]\n",
      "is_valid_j1=\n",
      "[[ True False False]\n",
      " [ True  True False]\n",
      " [ True  True  True]\n",
      " [ True  True  True]]\n"
     ]
    }
   ],
   "source": [
    "i, j = np.meshgrid(np.arange(m), np.arange(n), indexing='ij')\n",
    "\n",
    "def is_invalid_j2(j2):\n",
    "    return (m-i-2) > j\n",
    "\n",
    "def is_invalid_j1(j2):\n",
    "    return i < j\n",
    "\n",
    "def is_valid_j2(i, j): return (m-i-2) <= j\n",
    "def is_valid_j1(i, j): return j <= i\n",
    "\n",
    "print(f'is_valid_j2=\\n{is_valid_j2(i, j)}')\n",
    "\n",
    "print(f'is_valid_j1=\\n{is_valid_j1(i, j)}')"
   ]
  },
  {
   "cell_type": "code",
   "execution_count": 95,
   "metadata": {},
   "outputs": [
    {
     "data": {
      "text/plain": [
       "array([[False,  True,  True],\n",
       "       [False, False,  True],\n",
       "       [False, False, False],\n",
       "       [False, False, False]])"
      ]
     },
     "execution_count": 95,
     "metadata": {},
     "output_type": "execute_result"
    }
   ],
   "source": [
    "is_invalid_j1(j)"
   ]
  },
  {
   "cell_type": "code",
   "execution_count": 48,
   "metadata": {},
   "outputs": [
    {
     "name": "stdout",
     "output_type": "stream",
     "text": [
      "[[0, 0, 0, 0, 0], [0, 0, 0, 0, 0], [0, 0, 0, 0, 0], [0, 0, 100, 0, 0], [2, 0, 0, 0, 1]]\n"
     ]
    }
   ],
   "source": [
    "grid = [\n",
    "    [0,0,0,0,0],\n",
    "    [0,0,0,0,0],\n",
    "    [0,0,0,0,0],\n",
    "    [0,0,100,0,0],\n",
    "    [2,0,0,0,1],\n",
    "]\n",
    "\n",
    "print(str(grid))"
   ]
  },
  {
   "cell_type": "code",
   "execution_count": 47,
   "metadata": {},
   "outputs": [
    {
     "data": {
      "text/plain": [
       "array([[  0,   0,   0,   0,   0],\n",
       "       [  0,   0,   0,   0,   0],\n",
       "       [  0,   0,   0,   0,   0],\n",
       "       [  0,   0, 100,   0,   0],\n",
       "       [  2, 100, 100, 100,   1]])"
      ]
     },
     "execution_count": 47,
     "metadata": {},
     "output_type": "execute_result"
    }
   ],
   "source": [
    "m = len(grid)\n",
    "n = len(grid[0])\n",
    "dp = np.zeros((m,n), dtype=int)\n",
    "\n",
    "\n",
    "def query_dp(i,j):\n",
    "    if i < 0 or i >= m or j < 0 or j >= n or not ((m-i-1) <= j): return 0\n",
    "    return dp[i][j]\n",
    "\n",
    "\n",
    "def max_from(i,j):\n",
    "    return max(query_dp(i-1, j-1), query_dp(i-1, j+1), query_dp(i-1, j))\n",
    "\n",
    "for i in range(m):\n",
    "    for j in range(n):\n",
    "        dp[i][j] = grid[i][j] + max_from(i,j)\n",
    "        \n",
    "dp"
   ]
  },
  {
   "cell_type": "code",
   "execution_count": 39,
   "metadata": {},
   "outputs": [
    {
     "data": {
      "text/plain": [
       "array([[ 0, 10,  1,  7],\n",
       "       [ 0,  0,  8,  5],\n",
       "       [ 0,  0,  0,  3],\n",
       "       [ 0,  0,  0,  0]])"
      ]
     },
     "execution_count": 39,
     "metadata": {},
     "output_type": "execute_result"
    }
   ],
   "source": [
    "grid"
   ]
  },
  {
   "cell_type": "code",
   "execution_count": 16,
   "metadata": {},
   "outputs": [
    {
     "data": {
      "text/plain": [
       "array([0, 0, 0, 0, 0, 0, 0, 0, 0, 0], dtype=int16)"
      ]
     },
     "execution_count": 16,
     "metadata": {},
     "output_type": "execute_result"
    }
   ],
   "source": []
  },
  {
   "cell_type": "code",
   "execution_count": 6,
   "metadata": {},
   "outputs": [
    {
     "data": {
      "text/plain": [
       "array([[0, 0, 0, 0],\n",
       "       [0, 0, 0, 0],\n",
       "       [0, 0, 0, 0],\n",
       "       [0, 0, 0, 0]], dtype=int16)"
      ]
     },
     "execution_count": 6,
     "metadata": {},
     "output_type": "execute_result"
    }
   ],
   "source": [
    "grid = np.zeros((m,n), dtype=np.int16)\n",
    "\n",
    "\n",
    "\n",
    "\n",
    "grid"
   ]
  },
  {
   "cell_type": "markdown",
   "metadata": {},
   "source": [
    "### Brute force recursion"
   ]
  },
  {
   "cell_type": "code",
   "execution_count": 73,
   "metadata": {},
   "outputs": [
    {
     "data": {
      "text/plain": [
       "[[3, 1, 1], [2, 5, 1], [1, 5, 5], [2, 1, 1]]"
      ]
     },
     "execution_count": 73,
     "metadata": {},
     "output_type": "execute_result"
    }
   ],
   "source": [
    "grid = [\n",
    "    [3,1,1],\n",
    "    [2,5,1],\n",
    "    [1,5,5],\n",
    "    [2,1,1]\n",
    "]\n",
    "\n",
    "m = len(grid)\n",
    "n = len(grid)\n",
    "\n",
    "grid"
   ]
  },
  {
   "cell_type": "code",
   "execution_count": 59,
   "metadata": {},
   "outputs": [],
   "source": []
  },
  {
   "cell_type": "code",
   "execution_count": 66,
   "metadata": {},
   "outputs": [],
   "source": [
    "from functools import cache"
   ]
  },
  {
   "cell_type": "code",
   "execution_count": 68,
   "metadata": {},
   "outputs": [
    {
     "data": {
      "text/plain": [
       "6046"
      ]
     },
     "execution_count": 68,
     "metadata": {},
     "output_type": "execute_result"
    }
   ],
   "source": [
    "m = 10\n",
    "n = 10\n",
    "\n",
    "\n",
    "@cache\n",
    "def possible_trajectories(i,j):\n",
    "    if i == m - 1:\n",
    "        return [[(i,j)]]\n",
    "    \n",
    "    trs = []\n",
    "    trs += [[(i,j)] + t for t in possible_trajectories(i+1, j)]\n",
    "    if j > 0:\n",
    "        trs += [[(i,j)] + t for t in possible_trajectories(i+1, j-1)]\n",
    "    if j < n - 1:\n",
    "        trs += [[(i,j)] + t for t in possible_trajectories(i+1, j+1)]\n",
    "    return trs\n",
    "\n",
    "trs1 = possible_trajectories(0,0)\n",
    "# trs2 = possible_trajectories(0, n-1)\n",
    "\n",
    "len(trs1)"
   ]
  },
  {
   "cell_type": "code",
   "execution_count": null,
   "metadata": {},
   "outputs": [],
   "source": [
    "dp = np.zeros((m,n,), dtype=np.int32)\n",
    "dp[0,0] = grid[0][0]\n",
    "dp[0,n-1] = grid[0][n-1]"
   ]
  },
  {
   "cell_type": "code",
   "execution_count": 128,
   "metadata": {},
   "outputs": [
    {
     "data": {
      "text/plain": [
       "([1, 0], [2, 1, 0], [2, 1])"
      ]
     },
     "execution_count": 128,
     "metadata": {},
     "output_type": "execute_result"
    }
   ],
   "source": [
    "def prev_move_opts(jn):\n",
    "    return [j for j in (jn+1, jn, jn-1) if j >= 0 and j < n]\n",
    "\n",
    "prev_move_opts(0), prev_move_opts(1), prev_move_opts(2)"
   ]
  },
  {
   "cell_type": "code",
   "execution_count": 133,
   "metadata": {},
   "outputs": [
    {
     "data": {
      "text/plain": [
       "60"
      ]
     },
     "execution_count": 133,
     "metadata": {},
     "output_type": "execute_result"
    }
   ],
   "source": [
    "grid = [\n",
    "    [3,1,1],\n",
    "    [2,5,1],\n",
    "    [1,5,5],\n",
    "    [2,1,1]\n",
    "]\n",
    "\n",
    "grid = [[9,3,1,2],[9,9,2,2],[8,4,8,3],[9,2,7,7]]\n",
    "\n",
    "m = len(grid)\n",
    "n = len(grid[0])\n",
    "\n",
    "\n",
    "def cartesian_product(A, B):\n",
    "    for a in A: \n",
    "        for b in B: yield (a,b)\n",
    "\n",
    "def is_valid_j1(i, j): return j <= i\n",
    "def is_valid_j2(i, j): return (m-i-2) <= j\n",
    "\n",
    "def collect1(i,j):\n",
    "    return grid[i][j] if is_valid_j1(i,j) else 0\n",
    "\n",
    "\n",
    "def collect2(i,j):\n",
    "    return grid[i][j] if is_valid_j2(i,j) else 0\n",
    "\n",
    "\n",
    "def brute(i, j1, j2):\n",
    "    harvest = [collect1(i,j1), collect2(i, j2)]\n",
    "    harvest = sum(harvest) if j1 != j2 else max(harvest)\n",
    "    if i == 0:\n",
    "        return harvest\n",
    "    res = 0\n",
    "    for prev_j1 in prev_move_opts(j1):\n",
    "        for prev_j2 in prev_move_opts(j2):\n",
    "            res = max(res, brute(i-1, prev_j1, prev_j2))\n",
    "    \n",
    "    return res + harvest\n",
    "\n",
    "\n",
    "all_j_opts = cartesian_product(range(n), range(n))\n",
    "max([brute(m-1, j1, j2) for j1,j2 in all_j_opts])\n"
   ]
  },
  {
   "cell_type": "code",
   "execution_count": 102,
   "metadata": {},
   "outputs": [
    {
     "name": "stdout",
     "output_type": "stream",
     "text": [
      "(j1,j2)=(0, 0) 3\n",
      "(j1,j2)=(0, 1) 3\n",
      "(j1,j2)=(0, 2) 4\n",
      "(j1,j2)=(1, 0) 0\n",
      "(j1,j2)=(1, 1) 0\n",
      "(j1,j2)=(1, 2) 1\n",
      "(j1,j2)=(2, 0) 0\n",
      "(j1,j2)=(2, 1) 0\n",
      "(j1,j2)=(2, 2) 1\n"
     ]
    },
    {
     "data": {
      "text/plain": [
       "0"
      ]
     },
     "execution_count": 102,
     "metadata": {},
     "output_type": "execute_result"
    }
   ],
   "source": [
    "m = len(grid)\n",
    "n = len(grid[0])\n",
    "\n",
    "def cartesian_product(A, B):\n",
    "    for a in A: \n",
    "        for b in B: yield (a,b)\n",
    "        \n",
    "\n",
    "def prev_move_opts(jn):\n",
    "    return [j for j in (jn+1, jn, jn-1) if j >= 0 and j < n]\n",
    "\n",
    "def is_invalid_j2(i, j):\n",
    "    return (m-i-2) > j\n",
    "\n",
    "def is_invalid_j1(i, j):\n",
    "    return i < j\n",
    "\n",
    "def collect_\n",
    "\n",
    "@cache\n",
    "def brute(i, j1, j2):\n",
    "    if i == 0:\n",
    "        c = 0\n",
    "        if j1 == 0: c += grid[0][j1]\n",
    "        if j2 == n-1: c += grid[0][j2]\n",
    "        return c"
   ]
  },
  {
   "cell_type": "code",
   "execution_count": 105,
   "metadata": {},
   "outputs": [
    {
     "data": {
      "text/plain": [
       "True"
      ]
     },
     "execution_count": 105,
     "metadata": {},
     "output_type": "execute_result"
    }
   ],
   "source": [
    "is_invalid_j2(1, 0)"
   ]
  },
  {
   "cell_type": "code",
   "execution_count": 88,
   "metadata": {},
   "outputs": [
    {
     "data": {
      "text/plain": [
       "24"
      ]
     },
     "execution_count": 88,
     "metadata": {},
     "output_type": "execute_result"
    }
   ],
   "source": [
    "def cartesian_product(A, B):\n",
    "    for a in A: \n",
    "        for b in B: yield (a,b)\n",
    "        \n",
    "        \n",
    "def prev_move_opts(jn):\n",
    "    return [j for j in (jn+1, jn, jn-1) if j >= 0 and j < n]\n",
    "        \n",
    "\n",
    "def brute(i, j1, j2):\n",
    "    if i == 0:\n",
    "        c = 0\n",
    "        if j1 == 0: c += grid[0][j1]\n",
    "        if j2 == n-1: c += grid[0][j2]\n",
    "        return c\n",
    "\n",
    "    j1_opts = prev_move_opts(j1)\n",
    "    j2_opts = prev_move_opts(j2)\n",
    "    prev = max(brute(i-1, prev_j1, prev_j2) for prev_j1, prev_j2 in cartesian_product(j1_opts, j2_opts))\n",
    "    \n",
    "    res = prev grid[i][j1]\n",
    "    if j1 != j2:\n",
    "        res += grid[i][j2]\n",
    "    return res\n",
    "\n",
    "all_j_opts = cartesian_product(range(n), range(n))\n",
    "max([brute(m-1, j1, j2) for j1,j2 in all_j_opts])"
   ]
  },
  {
   "cell_type": "code",
   "execution_count": 79,
   "metadata": {},
   "outputs": [
    {
     "data": {
      "text/plain": [
       "3"
      ]
     },
     "execution_count": 79,
     "metadata": {},
     "output_type": "execute_result"
    }
   ],
   "source": []
  },
  {
   "cell_type": "markdown",
   "metadata": {},
   "source": []
  },
  {
   "cell_type": "code",
   "execution_count": null,
   "metadata": {},
   "outputs": [],
   "source": []
  },
  {
   "cell_type": "markdown",
   "metadata": {},
   "source": [
    "## 368. Largest Divisible Subset"
   ]
  },
  {
   "cell_type": "markdown",
   "metadata": {},
   "source": [
    "### Brute Force! $O(2^n \\times n^2)$"
   ]
  },
  {
   "cell_type": "code",
   "execution_count": 8,
   "metadata": {},
   "outputs": [],
   "source": [
    "nums = [1,2,4,8]"
   ]
  },
  {
   "cell_type": "code",
   "execution_count": 9,
   "metadata": {},
   "outputs": [
    {
     "data": {
      "text/plain": [
       "True"
      ]
     },
     "execution_count": 9,
     "metadata": {},
     "output_type": "execute_result"
    }
   ],
   "source": [
    "can_join([], 2)"
   ]
  },
  {
   "cell_type": "code",
   "execution_count": 11,
   "metadata": {},
   "outputs": [
    {
     "data": {
      "text/plain": [
       "([[],\n",
       "  [1],\n",
       "  [2],\n",
       "  [2, 1],\n",
       "  [4],\n",
       "  [4, 1],\n",
       "  [4, 2],\n",
       "  [4, 2, 1],\n",
       "  [8],\n",
       "  [8, 1],\n",
       "  [8, 2],\n",
       "  [8, 2, 1],\n",
       "  [8, 4],\n",
       "  [8, 4, 1],\n",
       "  [8, 4, 2],\n",
       "  [8, 4, 2, 1]],\n",
       " [8, 4, 2, 1])"
      ]
     },
     "execution_count": 11,
     "metadata": {},
     "output_type": "execute_result"
    }
   ],
   "source": [
    "def is_good_pair(x,y): return not(x%y and y%x)\n",
    "\n",
    "def can_join(arr, x): return all(is_good_pair(x,y) for y in arr)\n",
    "\n",
    "\n",
    "subsets = [[]]\n",
    "best_subset = []\n",
    "\n",
    "for n in nums:\n",
    "    with_n = []\n",
    "    for s in subsets:\n",
    "        if can_join(s, n):\n",
    "            sn = [n]+s\n",
    "            with_n.append(sn)\n",
    "            if len(sn) > len(best_subset):\n",
    "                best_subset = sn\n",
    "    subsets += with_n\n",
    "\n",
    "subsets, best_subset"
   ]
  },
  {
   "cell_type": "code",
   "execution_count": null,
   "metadata": {},
   "outputs": [],
   "source": []
  },
  {
   "cell_type": "code",
   "execution_count": null,
   "metadata": {},
   "outputs": [],
   "source": []
  },
  {
   "cell_type": "code",
   "execution_count": null,
   "metadata": {},
   "outputs": [],
   "source": []
  },
  {
   "cell_type": "code",
   "execution_count": null,
   "metadata": {},
   "outputs": [],
   "source": []
  },
  {
   "cell_type": "code",
   "execution_count": 1,
   "metadata": {},
   "outputs": [],
   "source": [
    "import array"
   ]
  },
  {
   "cell_type": "code",
   "execution_count": 7,
   "metadata": {},
   "outputs": [
    {
     "data": {
      "text/plain": [
       "array('B', [0])"
      ]
     },
     "execution_count": 7,
     "metadata": {},
     "output_type": "execute_result"
    }
   ],
   "source": [
    "array.array\n",
    "            )"
   ]
  },
  {
   "cell_type": "markdown",
   "metadata": {},
   "source": [
    "## 1043. Partition Array for Maximum Sum"
   ]
  },
  {
   "cell_type": "markdown",
   "metadata": {},
   "source": [
    "### [✅] Generate all partitions into sub-arrays for fun and profit!"
   ]
  },
  {
   "cell_type": "code",
   "execution_count": 34,
   "metadata": {},
   "outputs": [
    {
     "name": "stdout",
     "output_type": "stream",
     "text": [
      "[[1], [15], [7], [9], [2], [5], [10]]\n",
      "[[1], [15], [7], [9], [2], [5, 10]]\n",
      "[[1], [15], [7], [9], [2, 5], [10]]\n",
      "[[1], [15], [7], [9], [2, 5, 10]]\n",
      "[[1], [15], [7], [9, 2], [5], [10]]\n",
      "[[1], [15], [7], [9, 2], [5, 10]]\n",
      "[[1], [15], [7], [9, 2, 5], [10]]\n",
      "[[1], [15], [7, 9], [2], [5], [10]]\n",
      "[[1], [15], [7, 9], [2], [5, 10]]\n",
      "[[1], [15], [7, 9], [2, 5], [10]]\n",
      "[[1], [15], [7, 9], [2, 5, 10]]\n",
      "[[1], [15], [7, 9, 2], [5], [10]]\n",
      "[[1], [15], [7, 9, 2], [5, 10]]\n",
      "[[1], [15, 7], [9], [2], [5], [10]]\n",
      "[[1], [15, 7], [9], [2], [5, 10]]\n",
      "[[1], [15, 7], [9], [2, 5], [10]]\n",
      "[[1], [15, 7], [9], [2, 5, 10]]\n",
      "[[1], [15, 7], [9, 2], [5], [10]]\n",
      "[[1], [15, 7], [9, 2], [5, 10]]\n",
      "[[1], [15, 7], [9, 2, 5], [10]]\n",
      "[[1], [15, 7, 9], [2], [5], [10]]\n",
      "[[1], [15, 7, 9], [2], [5, 10]]\n",
      "[[1], [15, 7, 9], [2, 5], [10]]\n",
      "[[1], [15, 7, 9], [2, 5, 10]]\n",
      "[[1, 15], [7], [9], [2], [5], [10]]\n",
      "[[1, 15], [7], [9], [2], [5, 10]]\n",
      "[[1, 15], [7], [9], [2, 5], [10]]\n",
      "[[1, 15], [7], [9], [2, 5, 10]]\n",
      "[[1, 15], [7], [9, 2], [5], [10]]\n",
      "[[1, 15], [7], [9, 2], [5, 10]]\n",
      "[[1, 15], [7], [9, 2, 5], [10]]\n",
      "[[1, 15], [7, 9], [2], [5], [10]]\n",
      "[[1, 15], [7, 9], [2], [5, 10]]\n",
      "[[1, 15], [7, 9], [2, 5], [10]]\n",
      "[[1, 15], [7, 9], [2, 5, 10]]\n",
      "[[1, 15], [7, 9, 2], [5], [10]]\n",
      "[[1, 15], [7, 9, 2], [5, 10]]\n",
      "[[1, 15, 7], [9], [2], [5], [10]]\n",
      "[[1, 15, 7], [9], [2], [5, 10]]\n",
      "[[1, 15, 7], [9], [2, 5], [10]]\n",
      "[[1, 15, 7], [9], [2, 5, 10]]\n",
      "[[1, 15, 7], [9, 2], [5], [10]]\n",
      "[[1, 15, 7], [9, 2], [5, 10]]\n",
      "[[1, 15, 7], [9, 2, 5], [10]]\n",
      "44\n"
     ]
    }
   ],
   "source": [
    "arr = [1,15,7,9,2,5,10]\n",
    "\n",
    "arr = [1,2,3]\n",
    "\"\"\"\n",
    "expected:\n",
    "[\n",
    " [ [1], [2], [3] ],\n",
    " [ [1], [2, 3]   ],\n",
    " [ [1, 2], [3]   ]\n",
    " [ [1, 2, 3]     ],\n",
    "]\n",
    "\"\"\"\n",
    "\n",
    "\n",
    "\n",
    "def partition(i):\n",
    "    if i >= len(arr): return [[]]\n",
    "\n",
    "    result = []\n",
    "    upper_bounds = list( range(i+1, min(i+k, len(arr))+1) )\n",
    "    # print(f'{upper_bounds=} for {i=} {arr[i]=} ')\n",
    "    for upper_boundary in upper_bounds:\n",
    "        for p in partition(upper_boundary):\n",
    "            r = [arr[i:upper_boundary]] + p\n",
    "            result.append(r)\n",
    "    return result\n",
    "\n",
    "\n",
    "arr = [1,15,7,  9,2,5,  10]\n",
    "k = len(arr)\n",
    "k = 3\n",
    "\n",
    "for p in partition(0):\n",
    "    print(p)\n",
    "\n",
    "print(len(partition(0)))"
   ]
  },
  {
   "cell_type": "markdown",
   "metadata": {},
   "source": [
    "### Solve somehow"
   ]
  },
  {
   "cell_type": "code",
   "execution_count": 46,
   "metadata": {},
   "outputs": [
    {
     "data": {
      "text/plain": [
       "[83, 82, 75, 68, 61, 54, 45, 36, 27, 18, 3]"
      ]
     },
     "execution_count": 46,
     "metadata": {},
     "output_type": "execute_result"
    }
   ],
   "source": [
    "arr = [1,15,7,9,2,5,10]\n",
    "k = 3\n",
    "\n",
    "arr = [1,4,1,5,7,3,6,1,9,9,3]\n",
    "k = 4\n",
    "# arr = [5,10]\n",
    "dp = [0 for _ in range(len(arr))]\n",
    "def s(i): return 0 if i >= len(arr) else dp[i]\n",
    "\n",
    "for i in range(len(arr)-1, -1, -1):\n",
    "    m = arr[i]\n",
    "    for t in range(min(k, len(arr)-i)): # TODO!\n",
    "        m = max(m, arr[i+t])\n",
    "        dp[i] = max(dp[i], (t+1)*m + s(i+t+1))\n",
    "dp"
   ]
  },
  {
   "cell_type": "markdown",
   "metadata": {},
   "source": []
  },
  {
   "cell_type": "markdown",
   "metadata": {},
   "source": []
  },
  {
   "cell_type": "code",
   "execution_count": null,
   "metadata": {},
   "outputs": [],
   "source": []
  },
  {
   "cell_type": "markdown",
   "metadata": {},
   "source": []
  },
  {
   "cell_type": "code",
   "execution_count": null,
   "metadata": {},
   "outputs": [],
   "source": []
  },
  {
   "cell_type": "markdown",
   "metadata": {},
   "source": [
    "## 1291. Sequential Digits"
   ]
  },
  {
   "cell_type": "markdown",
   "metadata": {},
   "source": [
    "#### Mini quest 0: create iterator through this space"
   ]
  },
  {
   "cell_type": "code",
   "execution_count": 7,
   "metadata": {},
   "outputs": [
    {
     "data": {
      "text/plain": [
       "[1, 2, 3, 4, 5, 6, 7, 8, 9]"
      ]
     },
     "execution_count": 7,
     "metadata": {},
     "output_type": "execute_result"
    }
   ],
   "source": [
    "digits = list(range(1, 10))\n",
    "digits"
   ]
  },
  {
   "cell_type": "code",
   "execution_count": 23,
   "metadata": {},
   "outputs": [],
   "source": [
    "def d2n(digits): return sum([d * 10**i for i,d in enumerate(reversed(digits))])"
   ]
  },
  {
   "cell_type": "code",
   "execution_count": 24,
   "metadata": {},
   "outputs": [
    {
     "name": "stdout",
     "output_type": "stream",
     "text": [
      "45\n",
      "[1, 2, 3, 4, 5, 6, 7, 8, 9, 12, 23, 34, 45, 56, 67, 78, 89, 123, 234, 345, 456, 567, 678, 789, 1234, 2345, 3456, 4567, 5678, 6789, 12345, 23456, 34567, 45678, 56789, 123456, 234567, 345678, 456789, 1234567, 2345678, 3456789, 12345678, 23456789, 123456789]\n"
     ]
    }
   ],
   "source": [
    "nums = []\n",
    "\n",
    "for n in range(1, 10):\n",
    "    \n",
    "    for i in range(9-n+1):\n",
    "        num = (d2n(digits[i:i+n]))\n",
    "        nums.append(num)\n",
    "\n",
    "\n",
    "print(len(nums))\n",
    "print(nums)"
   ]
  },
  {
   "cell_type": "markdown",
   "metadata": {},
   "source": []
  },
  {
   "cell_type": "markdown",
   "metadata": {},
   "source": []
  }
 ],
 "metadata": {
  "kernelspec": {
   "display_name": "Python 3",
   "language": "python",
   "name": "python3"
  },
  "language_info": {
   "codemirror_mode": {
    "name": "ipython",
    "version": 3
   },
   "file_extension": ".py",
   "mimetype": "text/x-python",
   "name": "python",
   "nbconvert_exporter": "python",
   "pygments_lexer": "ipython3",
   "version": "3.11.7"
  }
 },
 "nbformat": 4,
 "nbformat_minor": 2
}
