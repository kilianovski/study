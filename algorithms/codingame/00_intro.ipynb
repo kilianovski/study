{
 "cells": [
  {
   "cell_type": "markdown",
   "metadata": {},
   "source": [
    "## Graffiti on the fence"
   ]
  },
  {
   "cell_type": "markdown",
   "metadata": {},
   "source": [
    "https://www.codingame.com/training/easy/graffiti-on-the-fence"
   ]
  },
  {
   "cell_type": "code",
   "execution_count": null,
   "metadata": {},
   "outputs": [],
   "source": []
  },
  {
   "cell_type": "markdown",
   "metadata": {},
   "source": [
    "## CrossWords"
   ]
  },
  {
   "cell_type": "markdown",
   "metadata": {},
   "source": [
    "https://www.codingame.com/contribute/view/12035b7ec9c74ed1c2aecee0283861ddfb93"
   ]
  },
  {
   "cell_type": "code",
   "execution_count": 2,
   "metadata": {},
   "outputs": [],
   "source": [
    "words = 'cinnamon apple'\n",
    "word1, word2 = words.split(' ')"
   ]
  },
  {
   "cell_type": "code",
   "execution_count": 3,
   "metadata": {},
   "outputs": [],
   "source": [
    "import sys\n",
    "import math\n",
    "\n",
    "# Auto-generated code below aims at helping you parse\n",
    "# the standard input according to the problem statement.\n",
    "\n",
    "words = input()\n",
    "\n",
    "# Write an answer using print\n",
    "# To debug: print(\"Debug messages...\", file=sys.stderr, flush=True)\n",
    "word1, word2 = words.split(' ')\n",
    "\n",
    "\n",
    "is_found = False\n",
    "for i in range(len(word1)):\n",
    "    for j in range(len(word2)):\n",
    "        if word1[i] == word2[j]:\n",
    "            is_found = True\n",
    "            break\n",
    "    if is_found:\n",
    "        break\n",
    "\n",
    "if not is_found: \n",
    "    print('NO COMMON CHARACTER')\n",
    "    exit()\n",
    "\n",
    "if len(word1) <= len(word2):\n",
    "    t = word1\n",
    "    word1 = word2\n",
    "    word2 = t\n",
    "\n",
    "    t = i\n",
    "    i = j\n",
    "    j = i\n",
    "\n",
    "top, bottom = word2[:j], word2[j+1:]\n",
    "\n",
    "for c in top:\n",
    "    print('  '*i + c.upper())\n",
    "\n",
    "print(' '.join([c.upper() for c in word1]))\n",
    "for c in bottom:\n",
    "    print('  '*i + c.upper())"
   ]
  },
  {
   "cell_type": "code",
   "execution_count": 21,
   "metadata": {},
   "outputs": [],
   "source": [
    "i = 4"
   ]
  },
  {
   "cell_type": "code",
   "execution_count": 33,
   "metadata": {},
   "outputs": [
    {
     "name": "stdout",
     "output_type": "stream",
     "text": [
      "C I N N A M O N\n",
      "    P       \n",
      "    P       \n",
      "    L       \n",
      "    E       \n",
      "            \n",
      "            \n",
      "            \n"
     ]
    }
   ],
   "source": [
    "def create_crossword(words):\n",
    "    # Split the words\n",
    "    word1, word2 = words.upper().split()\n",
    "    \n",
    "    # Find the first matching character in respect to word1\n",
    "    common_char_index_word1 = -1\n",
    "    common_char_index_word2 = -1\n",
    "    for i, char in enumerate(word1):\n",
    "        if char in word2:\n",
    "            common_char_index_word1 = i\n",
    "            common_char_index_word2 = word2.index(char)\n",
    "            break\n",
    "    \n",
    "    # If no common character, return the appropriate message\n",
    "    if common_char_index_word1 == -1 or common_char_index_word2 == -1:\n",
    "        return \"NO COMMON CHARACTER\"\n",
    "\n",
    "    # Create the crossword\n",
    "    crossword = []\n",
    "    for i in range(max(len(word1), len(word2))):\n",
    "        if i == common_char_index_word2:\n",
    "            crossword.append(' '.join(word1))  # Place the first word horizontally\n",
    "        else:\n",
    "            # Create a row with spaces and the vertical word's character\n",
    "            row = [' '] * (len(word1) + common_char_index_word1)\n",
    "            if i < len(word2):\n",
    "                row[common_char_index_word1] = word2[i]\n",
    "            crossword.append(''.join(row))\n",
    "    \n",
    "    return '\\n'.join(crossword)\n",
    "\n",
    "# Example input\n",
    "input_words = \"cinnamon apple\"\n",
    "# Generate the crossword\n",
    "crossword_result = create_crossword(input_words)\n",
    "print(crossword_result)"
   ]
  },
  {
   "cell_type": "code",
   "execution_count": 14,
   "metadata": {},
   "outputs": [
    {
     "data": {
      "text/plain": [
       "4"
      ]
     },
     "execution_count": 14,
     "metadata": {},
     "output_type": "execute_result"
    }
   ],
   "source": [
    "i"
   ]
  },
  {
   "cell_type": "code",
   "execution_count": null,
   "metadata": {},
   "outputs": [],
   "source": []
  }
 ],
 "metadata": {
  "kernelspec": {
   "display_name": "Python 3",
   "language": "python",
   "name": "python3"
  },
  "language_info": {
   "codemirror_mode": {
    "name": "ipython",
    "version": 3
   },
   "file_extension": ".py",
   "mimetype": "text/x-python",
   "name": "python",
   "nbconvert_exporter": "python",
   "pygments_lexer": "ipython3",
   "version": "3.11.6"
  },
  "orig_nbformat": 4
 },
 "nbformat": 4,
 "nbformat_minor": 2
}
