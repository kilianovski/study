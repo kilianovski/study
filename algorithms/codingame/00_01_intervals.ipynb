{
 "cells": [
  {
   "cell_type": "markdown",
   "metadata": {},
   "source": [
    "## Notes"
   ]
  },
  {
   "cell_type": "markdown",
   "metadata": {},
   "source": [
    " - How do we know that intervals are overlapping?\n",
    "   - it is easier to invert the two conditions of non-overlap!"
   ]
  },
  {
   "cell_type": "markdown",
   "metadata": {},
   "source": [
    "## 56. Merge Intervals"
   ]
  },
  {
   "cell_type": "code",
   "execution_count": 73,
   "metadata": {},
   "outputs": [],
   "source": [
    "intervals = [[1,4],[4,5]]"
   ]
  },
  {
   "cell_type": "code",
   "execution_count": 77,
   "metadata": {},
   "outputs": [],
   "source": [
    "intervals.sort()\n",
    "\n",
    "if len(intervals) < 2:\n",
    "    # return intervals\n",
    "    pass\n",
    "\n",
    "res = []\n",
    "i, j = 0, 1\n",
    "\n",
    "while i < len(intervals):\n",
    "    if (i == len(intervals)-1) or intervals[i][1] < intervals[j][0]:\n",
    "        res.append(intervals[i])\n",
    "        i += 1\n",
    "        j += 1"
   ]
  },
  {
   "cell_type": "code",
   "execution_count": null,
   "metadata": {},
   "outputs": [],
   "source": []
  },
  {
   "cell_type": "markdown",
   "metadata": {},
   "source": [
    "## 57. Insert Intervals"
   ]
  },
  {
   "cell_type": "markdown",
   "metadata": {},
   "source": [
    "### Mutative Interval"
   ]
  },
  {
   "cell_type": "code",
   "execution_count": 72,
   "metadata": {},
   "outputs": [],
   "source": [
    "intervals = [[1,3], [5, 7], [9, 12]]\n",
    "newInterval = [2,10]"
   ]
  },
  {
   "cell_type": "code",
   "execution_count": null,
   "metadata": {},
   "outputs": [],
   "source": [
    "res = []\n",
    "\n",
    "for i in range(len(intervals)):\n",
    "    \n",
    "    if newInterval[1] < intervals[i][0]:\n",
    "        # if nothing smaller to the right\n",
    "        res.append(newInterval)\n",
    "        return res + intervals[i:]\n",
    "    elif newInterval[0] > intervals[i][1]:\n",
    "        # if nothing bigger to the left\n",
    "        res.append(intervals[i])\n",
    "    else:\n",
    "        left = min(newInterval[0], intervals[i][0])\n",
    "        right = max(newInterval[1], intervals[i][1])\n",
    "        newInterval = [left, right]\n",
    "\n",
    "res.append(newInterval)\n",
    "return res"
   ]
  },
  {
   "cell_type": "code",
   "execution_count": null,
   "metadata": {},
   "outputs": [],
   "source": []
  },
  {
   "cell_type": "markdown",
   "metadata": {},
   "source": [
    "### Binary Search approach"
   ]
  },
  {
   "cell_type": "code",
   "execution_count": 28,
   "metadata": {},
   "outputs": [],
   "source": [
    "intervals = [[1,2],[3,5],[6,7],[8,10],[12,16]]\n",
    "newInterval = [4,8]"
   ]
  },
  {
   "cell_type": "code",
   "execution_count": null,
   "metadata": {},
   "outputs": [],
   "source": [
    "n = newInterval[0]\n",
    "\n",
    "l,r = 0, len(intervals)\n",
    "is_found = False\n",
    "while l < r:\n",
    "    m = (l + r)//2\n",
    "    \n",
    "    "
   ]
  },
  {
   "cell_type": "code",
   "execution_count": 37,
   "metadata": {},
   "outputs": [
    {
     "name": "stdout",
     "output_type": "stream",
     "text": [
      "10\n"
     ]
    },
    {
     "data": {
      "text/plain": [
       "[[1, 2], [3, 5], [6, 7], [8, 10], [12, 16]]"
      ]
     },
     "execution_count": 37,
     "metadata": {},
     "output_type": "execute_result"
    }
   ],
   "source": [
    "flat_intervals = IntervalFlatWrapper(intervals)\n",
    "print(len(flat_intervals))\n",
    "flat_intervals"
   ]
  },
  {
   "cell_type": "code",
   "execution_count": 38,
   "metadata": {},
   "outputs": [
    {
     "data": {
      "text/plain": [
       "((True, 1), (False, 0), (False, 1))"
      ]
     },
     "execution_count": 38,
     "metadata": {},
     "output_type": "execute_result"
    }
   ],
   "source": [
    "binary_search([0,2,4], 2), binary_search([0,2,4], 1), binary_search([0,2,4], 3)"
   ]
  },
  {
   "cell_type": "code",
   "execution_count": 39,
   "metadata": {},
   "outputs": [],
   "source": [
    "intervals = [[1,2],[3,5],[6,7],[8,10],[12,16]]\n",
    "newInterval = [4,8]"
   ]
  },
  {
   "cell_type": "code",
   "execution_count": 49,
   "metadata": {},
   "outputs": [],
   "source": [
    "intervals = [[1,3],[6,9]]\n",
    "newInterval = [2,5]"
   ]
  },
  {
   "cell_type": "code",
   "execution_count": 30,
   "metadata": {},
   "outputs": [],
   "source": [
    "\n",
    "class IntervalFlatWrapper:\n",
    "    def __init__(self, intervals):\n",
    "        self.intervals = intervals\n",
    "    \n",
    "    def __getitem__(self, i):\n",
    "        return self.intervals[i//2][i%2]\n",
    "    \n",
    "    def __len__(self): return 2*len(self.intervals)\n",
    "    \n",
    "    def __repr__(self): return str(self.intervals)\n",
    "\n",
    "\n",
    "def binary_search(arr, el):\n",
    "    l,r = 0, len(arr)\n",
    "\n",
    "    correction = 0\n",
    "    m = -1\n",
    "    \n",
    "    while l < r:\n",
    "        m = (l + r)//2\n",
    "        c = arr[m]\n",
    "        \n",
    "        if c > el:\n",
    "            r = m\n",
    "            correction = -1\n",
    "        elif c < el:\n",
    "            l = m + 1\n",
    "            correction = 0\n",
    "        else:\n",
    "            return True, m\n",
    "\n",
    "    return False, m + correction\n",
    "\n",
    "def insert_interval(intervals, newInterval):\n",
    "    flat_intervals = IntervalFlatWrapper(intervals)\n",
    "    is_found, idx = binary_search(flat_intervals, newInterval[0])\n",
    "\n",
    "    # hook inside\n",
    "    if (idx % 2 == 0 or is_found) and idx >= 0:\n",
    "        left_i = idx // 2\n",
    "        left_value = intervals[left_i][0]\n",
    "    else:\n",
    "        assert not is_found\n",
    "        left_i = idx // 2 + 1\n",
    "        left_value = newInterval[0]\n",
    "\n",
    "\n",
    "    is_found, idx = binary_search(flat_intervals, newInterval[1])\n",
    "\n",
    "    # hook inside\n",
    "    if (idx % 2 == 0 or is_found) and idx >= 0:\n",
    "        right_i = idx // 2\n",
    "        right_value = intervals[right_i][1]\n",
    "    else:\n",
    "        assert not is_found\n",
    "        right_i = idx // 2\n",
    "        right_value = newInterval[1]\n",
    "\n",
    "\n",
    "    result = intervals[:left_i] + [[left_value, right_value]] + intervals[right_i+1:]\n",
    "    return result"
   ]
  },
  {
   "cell_type": "code",
   "execution_count": 31,
   "metadata": {},
   "outputs": [],
   "source": [
    "# left hooked in, right hooked in, no guys inside\n",
    "intervals = [[-1,0]]\n",
    "newInterval = [2,10]\n",
    "expected_result = [[-1,0], [2,10]]\n",
    "\n",
    "assert insert_interval(intervals, newInterval) == expected_result, f'expected {expected_result} != actual {insert_interval(intervals, newInterval)}'"
   ]
  },
  {
   "cell_type": "code",
   "execution_count": 32,
   "metadata": {},
   "outputs": [],
   "source": [
    "# left hooked in, right hooked in, no guys inside\n",
    "intervals = [[200,205]]\n",
    "newInterval = [2,10]\n",
    "expected_result = [[2,10], [200,205]]\n",
    "\n",
    "assert insert_interval(intervals, newInterval) == expected_result, f'expected {expected_result} != actual {insert_interval(intervals, newInterval)}'"
   ]
  },
  {
   "cell_type": "code",
   "execution_count": 45,
   "metadata": {},
   "outputs": [],
   "source": [
    "# left hooked in, right hooked in, no guys inside\n",
    "intervals = []\n",
    "newInterval = [2,10]\n",
    "expected_result = [[2,10]]\n",
    "\n",
    "assert insert_interval(intervals, newInterval) == expected_result, f'expected {expected_result} != actual {insert_interval(intervals, newInterval)}'"
   ]
  },
  {
   "cell_type": "code",
   "execution_count": 46,
   "metadata": {},
   "outputs": [
    {
     "ename": "AssertionError",
     "evalue": "expected [[1, 12]] != actual [[1, 3], [9, 12]]",
     "output_type": "error",
     "traceback": [
      "\u001b[0;31m---------------------------------------------------------------------------\u001b[0m",
      "\u001b[0;31mAssertionError\u001b[0m                            Traceback (most recent call last)",
      "Cell \u001b[0;32mIn[46], line 6\u001b[0m\n\u001b[1;32m      3\u001b[0m newInterval \u001b[39m=\u001b[39m [\u001b[39m2\u001b[39m,\u001b[39m10\u001b[39m]\n\u001b[1;32m      4\u001b[0m expected_result \u001b[39m=\u001b[39m [[\u001b[39m1\u001b[39m,\u001b[39m12\u001b[39m]]\n\u001b[0;32m----> 6\u001b[0m \u001b[39massert\u001b[39;00m insert_interval(intervals, newInterval) \u001b[39m==\u001b[39m expected_result, \u001b[39mf\u001b[39m\u001b[39m'\u001b[39m\u001b[39mexpected \u001b[39m\u001b[39m{\u001b[39;00mexpected_result\u001b[39m}\u001b[39;00m\u001b[39m != actual \u001b[39m\u001b[39m{\u001b[39;00minsert_interval(intervals,\u001b[39m \u001b[39mnewInterval)\u001b[39m}\u001b[39;00m\u001b[39m'\u001b[39m\n",
      "\u001b[0;31mAssertionError\u001b[0m: expected [[1, 12]] != actual [[1, 3], [9, 12]]"
     ]
    }
   ],
   "source": [
    "# left hooked in, right hooked in, no guys inside\n",
    "intervals = [[1,3], [9, 12]]\n",
    "newInterval = [2,10]\n",
    "expected_result = [[1,12]]\n",
    "\n",
    "assert insert_interval(intervals, newInterval) == expected_result, f'expected {expected_result} != actual {insert_interval(intervals, newInterval)}'"
   ]
  },
  {
   "cell_type": "code",
   "execution_count": 44,
   "metadata": {},
   "outputs": [
    {
     "ename": "AssertionError",
     "evalue": "expected [[1, 10], [12, 20]] != actual [[1, 3], [12, 20]]",
     "output_type": "error",
     "traceback": [
      "\u001b[0;31m---------------------------------------------------------------------------\u001b[0m",
      "\u001b[0;31mAssertionError\u001b[0m                            Traceback (most recent call last)",
      "Cell \u001b[0;32mIn[44], line 6\u001b[0m\n\u001b[1;32m      3\u001b[0m newInterval \u001b[39m=\u001b[39m [\u001b[39m2\u001b[39m,\u001b[39m10\u001b[39m]\n\u001b[1;32m      4\u001b[0m expected_result \u001b[39m=\u001b[39m [[\u001b[39m1\u001b[39m,\u001b[39m10\u001b[39m], [\u001b[39m12\u001b[39m, \u001b[39m20\u001b[39m]]\n\u001b[0;32m----> 6\u001b[0m \u001b[39massert\u001b[39;00m insert_interval(intervals, newInterval) \u001b[39m==\u001b[39m expected_result, \u001b[39mf\u001b[39m\u001b[39m'\u001b[39m\u001b[39mexpected \u001b[39m\u001b[39m{\u001b[39;00mexpected_result\u001b[39m}\u001b[39;00m\u001b[39m != actual \u001b[39m\u001b[39m{\u001b[39;00minsert_interval(intervals,\u001b[39m \u001b[39mnewInterval)\u001b[39m}\u001b[39;00m\u001b[39m'\u001b[39m\n",
      "\u001b[0;31mAssertionError\u001b[0m: expected [[1, 10], [12, 20]] != actual [[1, 3], [12, 20]]"
     ]
    }
   ],
   "source": [
    "# left hooked in, right missed, some guy inside\n",
    "intervals = [[1,3], [5, 7], [12, 20]]\n",
    "newInterval = [2,10]\n",
    "expected_result = [[1,10], [12, 20]]\n",
    "\n",
    "assert insert_interval(intervals, newInterval) == expected_result, f'expected {expected_result} != actual {insert_interval(intervals, newInterval)}'"
   ]
  },
  {
   "cell_type": "code",
   "execution_count": 43,
   "metadata": {},
   "outputs": [
    {
     "ename": "AssertionError",
     "evalue": "expected [[1, 12]] != actual [[1, 3], [9, 12]]",
     "output_type": "error",
     "traceback": [
      "\u001b[0;31m---------------------------------------------------------------------------\u001b[0m",
      "\u001b[0;31mAssertionError\u001b[0m                            Traceback (most recent call last)",
      "Cell \u001b[0;32mIn[43], line 7\u001b[0m\n\u001b[1;32m      4\u001b[0m newInterval \u001b[39m=\u001b[39m [\u001b[39m2\u001b[39m,\u001b[39m10\u001b[39m]\n\u001b[1;32m      5\u001b[0m expected_result \u001b[39m=\u001b[39m [[\u001b[39m1\u001b[39m,\u001b[39m12\u001b[39m]]\n\u001b[0;32m----> 7\u001b[0m \u001b[39massert\u001b[39;00m insert_interval(intervals, newInterval) \u001b[39m==\u001b[39m expected_result, \u001b[39mf\u001b[39m\u001b[39m'\u001b[39m\u001b[39mexpected \u001b[39m\u001b[39m{\u001b[39;00mexpected_result\u001b[39m}\u001b[39;00m\u001b[39m != actual \u001b[39m\u001b[39m{\u001b[39;00minsert_interval(intervals,\u001b[39m \u001b[39mnewInterval)\u001b[39m}\u001b[39;00m\u001b[39m'\u001b[39m\n",
      "\u001b[0;31mAssertionError\u001b[0m: expected [[1, 12]] != actual [[1, 3], [9, 12]]"
     ]
    }
   ],
   "source": [
    "# left hooked in, right hooked in, some guy inside\n",
    "intervals = [[1,3], [5, 7], [9, 12]]\n",
    "\n",
    "newInterval = [2,10]\n",
    "expected_result = [[1,12]]\n",
    "\n",
    "assert insert_interval(intervals, newInterval) == expected_result, f'expected {expected_result} != actual {insert_interval(intervals, newInterval)}'"
   ]
  },
  {
   "cell_type": "code",
   "execution_count": 42,
   "metadata": {},
   "outputs": [
    {
     "ename": "AssertionError",
     "evalue": "expected [[1, 10], [12, 20]] != actual [[1, 3], [12, 20]]",
     "output_type": "error",
     "traceback": [
      "\u001b[0;31m---------------------------------------------------------------------------\u001b[0m",
      "\u001b[0;31mAssertionError\u001b[0m                            Traceback (most recent call last)",
      "Cell \u001b[0;32mIn[42], line 6\u001b[0m\n\u001b[1;32m      3\u001b[0m newInterval \u001b[39m=\u001b[39m [\u001b[39m2\u001b[39m,\u001b[39m10\u001b[39m]\n\u001b[1;32m      4\u001b[0m expected_result \u001b[39m=\u001b[39m [[\u001b[39m1\u001b[39m,\u001b[39m10\u001b[39m], [\u001b[39m12\u001b[39m,\u001b[39m20\u001b[39m]]\n\u001b[0;32m----> 6\u001b[0m \u001b[39massert\u001b[39;00m insert_interval(intervals, newInterval) \u001b[39m==\u001b[39m expected_result, \u001b[39mf\u001b[39m\u001b[39m'\u001b[39m\u001b[39mexpected \u001b[39m\u001b[39m{\u001b[39;00mexpected_result\u001b[39m}\u001b[39;00m\u001b[39m != actual \u001b[39m\u001b[39m{\u001b[39;00minsert_interval(intervals,\u001b[39m \u001b[39mnewInterval)\u001b[39m}\u001b[39;00m\u001b[39m'\u001b[39m\n",
      "\u001b[0;31mAssertionError\u001b[0m: expected [[1, 10], [12, 20]] != actual [[1, 3], [12, 20]]"
     ]
    }
   ],
   "source": [
    "# left hooked in, right missed, some guy inside\n",
    "intervals = [[1,3], [5, 7], [12, 20]]\n",
    "newInterval = [2,10]\n",
    "expected_result = [[1,10], [12,20]]\n",
    "\n",
    "assert insert_interval(intervals, newInterval) == expected_result, f'expected {expected_result} != actual {insert_interval(intervals, newInterval)}'"
   ]
  },
  {
   "cell_type": "markdown",
   "metadata": {},
   "source": [
    "### Linear"
   ]
  },
  {
   "cell_type": "code",
   "execution_count": 39,
   "metadata": {},
   "outputs": [],
   "source": [
    "intervals = [[1,3], [5, 7], [9, 12]]\n",
    "newInterval = [2,10]"
   ]
  },
  {
   "cell_type": "code",
   "execution_count": 40,
   "metadata": {},
   "outputs": [],
   "source": [
    "def insert_interval(intervals, newInterval):\n",
    "\n",
    "    if len(intervals) == 0:\n",
    "        return [newInterval]\n",
    "\n",
    "    new_l, new_r = newInterval\n",
    "\n",
    "    result = []\n",
    "\n",
    "    # if new_r < \n",
    "\n",
    "    for l,r in intervals:\n",
    "        if l >= new_l and r <= new_r:\n",
    "            continue\n",
    "        \n",
    "        add_l = l\n",
    "        # new left between \n",
    "        if new_l >= l and new_l <= r:\n",
    "            add_l = min(new_l, l)\n",
    "        \n",
    "        add_r = r\n",
    "        \n",
    "        if new_r >= l and new_r <= r:\n",
    "            add_r = max(new_r, r)\n",
    "        \n",
    "        result.append([add_l, add_r])\n",
    "    return result"
   ]
  },
  {
   "cell_type": "code",
   "execution_count": 47,
   "metadata": {},
   "outputs": [],
   "source": [
    "intervals = [[1,3]]\n",
    "newInterval = [2,10]"
   ]
  },
  {
   "cell_type": "code",
   "execution_count": 60,
   "metadata": {},
   "outputs": [],
   "source": [
    "intervals = []\n",
    "newInterval = [2,10]\n",
    "\n",
    "intervals = [[1,3]]\n",
    "newInterval = [2,10]\n",
    "\n",
    "# left hooked in, right missed, some guy inside\n",
    "intervals = [[1,3], [5, 7], [12, 20]]\n",
    "newInterval = [2,10]\n",
    "expected_result = [[1,10], [12,20]]\n",
    "\n"
   ]
  },
  {
   "cell_type": "code",
   "execution_count": 67,
   "metadata": {},
   "outputs": [],
   "source": [
    "intervals = [[1,2],[3,5],[6,7],[8,10],[12,16]]\n",
    "newInterval = [4, 8]"
   ]
  },
  {
   "cell_type": "code",
   "execution_count": 71,
   "metadata": {},
   "outputs": [
    {
     "data": {
      "text/plain": [
       "[[1, 2], [3, 10], [12, 16]]"
      ]
     },
     "execution_count": 71,
     "metadata": {},
     "output_type": "execute_result"
    }
   ],
   "source": [
    "result = []\n",
    "\n",
    "left, right = newInterval\n",
    "i = 0\n",
    "\n",
    "while i < len(intervals) and (intervals[i][1]) < left:\n",
    "    result.append(intervals[i])\n",
    "    i += 1\n",
    "\n",
    "if i == len(intervals) or intervals[i][0] > left:\n",
    "    result.append ([left, None])\n",
    "else:\n",
    "    result.append([min(intervals[i][0], left), None])\n",
    "\n",
    "while i < len(intervals) and right > intervals[i][-1]:\n",
    "    i += 1\n",
    "\n",
    "if i == len(intervals) or intervals[i][0] > right:\n",
    "    result[-1][-1] = right\n",
    "else:\n",
    "    result[-1][-1] = max(intervals[i][1], right)\n",
    "    i += 1\n",
    "\n",
    "while i < len(intervals):\n",
    "    result.append(intervals[i])\n",
    "    i += 1\n",
    "\n",
    "result"
   ]
  },
  {
   "cell_type": "markdown",
   "metadata": {},
   "source": []
  }
 ],
 "metadata": {
  "kernelspec": {
   "display_name": "Python 3",
   "language": "python",
   "name": "python3"
  },
  "language_info": {
   "codemirror_mode": {
    "name": "ipython",
    "version": 3
   },
   "file_extension": ".py",
   "mimetype": "text/x-python",
   "name": "python",
   "nbconvert_exporter": "python",
   "pygments_lexer": "ipython3",
   "version": "3.11.6"
  },
  "orig_nbformat": 4
 },
 "nbformat": 4,
 "nbformat_minor": 2
}
