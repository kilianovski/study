{
 "cells": [
  {
   "cell_type": "code",
   "execution_count": 3,
   "metadata": {},
   "outputs": [
    {
     "data": {
      "text/plain": [
       "(-1, 1, 2)"
      ]
     },
     "execution_count": 3,
     "metadata": {},
     "output_type": "execute_result"
    }
   ],
   "source": [
    "val = (0,0,2)\n",
    "\n",
    "min(val, (-1,1,2))"
   ]
  },
  {
   "cell_type": "code",
   "execution_count": 4,
   "metadata": {},
   "outputs": [],
   "source": [
    "from treeviz import ascii_draw, list2tree, tree2ascii\n",
    "null = None"
   ]
  },
  {
   "cell_type": "code",
   "execution_count": 6,
   "metadata": {},
   "outputs": [
    {
     "data": {
      "text/plain": [
       "                   50\n",
       "                    |\n",
       "                 +--+--------------+\n",
       "                 |                 |\n",
       "                25                75\n",
       "                 |                 |\n",
       "  +--------------+     +-----------+\n",
       "  |                    |\n",
       "  2                   55\n",
       "  |                    |\n",
       "  +-----+              +--------+\n",
       "        |                       |\n",
       "        5                      59\n",
       "        |                       |\n",
       "     +--+--+                 +--+\n",
       "     |     |                 |\n",
       "     4     6                58\n",
       "           |                 |\n",
       "           +--+           +--+\n",
       "              |           |\n",
       "              7          57"
      ]
     },
     "execution_count": 6,
     "metadata": {},
     "output_type": "execute_result"
    }
   ],
   "source": [
    "root = list2tree(\n",
    "    [ 50, 25, 75, 2, null, 55, null, null, 5, null, 59, 4, 6, 58, null, null, null, null, 7, 57, null ]\n",
    ")\n",
    "\n",
    "root"
   ]
  },
  {
   "cell_type": "code",
   "execution_count": null,
   "metadata": {},
   "outputs": [],
   "source": []
  },
  {
   "cell_type": "code",
   "execution_count": null,
   "metadata": {},
   "outputs": [],
   "source": []
  },
  {
   "cell_type": "code",
   "execution_count": null,
   "metadata": {},
   "outputs": [],
   "source": []
  },
  {
   "cell_type": "markdown",
   "metadata": {},
   "source": [
    "## Iterative DFS"
   ]
  },
  {
   "cell_type": "markdown",
   "metadata": {},
   "source": [
    "TRICKY QUESTION:\n",
    "\n",
    " - [ ] Does memory requirements differ for rec and iter versions?\n"
   ]
  },
  {
   "cell_type": "code",
   "execution_count": 1,
   "metadata": {},
   "outputs": [],
   "source": [
    "from treeviz import ascii_draw, list2tree, tree2ascii\n",
    "null = None"
   ]
  },
  {
   "cell_type": "code",
   "execution_count": 2,
   "metadata": {},
   "outputs": [
    {
     "name": "stdout",
     "output_type": "stream",
     "text": [
      "       3\n",
      "       |\n",
      "   +---+-+\n",
      "   |     |\n",
      "   4     5\n",
      "   |\n",
      " +-+-+\n",
      " |   |\n",
      " 1   2\n"
     ]
    }
   ],
   "source": [
    "root = list2tree([3,4,5,1,2])\n",
    "ascii_draw(root)"
   ]
  },
  {
   "cell_type": "code",
   "execution_count": 3,
   "metadata": {},
   "outputs": [
    {
     "name": "stdout",
     "output_type": "stream",
     "text": [
      "     1\n",
      "     |\n",
      "   +-+-+\n",
      "   |   |\n",
      "   2   3\n",
      "   |   |\n",
      " +-+   +-+\n",
      " |       |\n",
      " 4       5\n"
     ]
    }
   ],
   "source": [
    "root = list2tree([1, 2, 3, 4, None, None, 5])\n",
    "ascii_draw(root)"
   ]
  },
  {
   "cell_type": "code",
   "execution_count": 6,
   "metadata": {},
   "outputs": [
    {
     "name": "stdout",
     "output_type": "stream",
     "text": [
      "node.val=4\n",
      "node.val=2\n",
      "node.val=1\n",
      "node.val=3\n",
      "node.val=5\n"
     ]
    },
    {
     "data": {
      "text/plain": [
       "[4, 2, 1, 3, 5]"
      ]
     },
     "execution_count": 6,
     "metadata": {},
     "output_type": "execute_result"
    }
   ],
   "source": [
    "# inorder\n",
    "\n",
    "# in order traversal of a tree means: first visit left subtree, then root, then right\n",
    "\n",
    "\n",
    "\n",
    "# def traverse_inorder_iterative(root):\n",
    "\n",
    "\n",
    "res = []\n",
    "\n",
    "def _process_node(node):\n",
    "    res.append(node.val)\n",
    "    print(f'{node.val=}')\n",
    "\n",
    "def traverse_inorder_recursive(root):\n",
    "    if not root: return\n",
    "    \n",
    "    traverse_inorder_recursive(root.left)\n",
    "    _process_node(root)\n",
    "    traverse_inorder_recursive(root.right)\n",
    "\n",
    "traverse_inorder_recursive(root)\n",
    "res"
   ]
  },
  {
   "cell_type": "code",
   "execution_count": null,
   "metadata": {},
   "outputs": [],
   "source": []
  },
  {
   "cell_type": "markdown",
   "metadata": {},
   "source": []
  }
 ],
 "metadata": {
  "kernelspec": {
   "display_name": "Python 3",
   "language": "python",
   "name": "python3"
  },
  "language_info": {
   "codemirror_mode": {
    "name": "ipython",
    "version": 3
   },
   "file_extension": ".py",
   "mimetype": "text/x-python",
   "name": "python",
   "nbconvert_exporter": "python",
   "pygments_lexer": "ipython3",
   "version": "3.11.7"
  }
 },
 "nbformat": 4,
 "nbformat_minor": 2
}
